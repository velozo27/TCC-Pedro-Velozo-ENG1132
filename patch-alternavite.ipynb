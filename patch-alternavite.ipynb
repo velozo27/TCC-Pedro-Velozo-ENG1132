{
 "cells": [
  {
   "cell_type": "code",
   "execution_count": 1,
   "metadata": {},
   "outputs": [
    {
     "name": "stderr",
     "output_type": "stream",
     "text": [
      "/Users/pedrovelozo/anaconda3/lib/python3.10/site-packages/tqdm/auto.py:22: TqdmWarning: IProgress not found. Please update jupyter and ipywidgets. See https://ipywidgets.readthedocs.io/en/stable/user_install.html\n",
      "  from .autonotebook import tqdm as notebook_tqdm\n"
     ]
    }
   ],
   "source": [
    "# %pip install -r requirements.txt\n",
    "\n",
    "from PIL import Image\n",
    "from tqdm import tqdm\n",
    "import matplotlib.pyplot as plt\n",
    "import os\n",
    "import numpy as np\n",
    "from datetime import datetime\n",
    "import pandas as pd\n",
    "import image_patches\n",
    "import cv2\n",
    "\n",
    "\n",
    "DATASET_ROOT=\"./datasets/\"\n",
    "\n",
    "# DATASET_NAME = \"Flickr2K\"\n",
    "DATASET_NAME = \"Set5\""
   ]
  },
  {
   "cell_type": "code",
   "execution_count": 13,
   "metadata": {},
   "outputs": [
    {
     "name": "stderr",
     "output_type": "stream",
     "text": [
      "100%|██████████| 5/5 [00:00<00:00, 41.58it/s]\n"
     ]
    }
   ],
   "source": [
    "image_patches.create_valid_image_patches(f\"{DATASET_ROOT}/{DATASET_NAME}\", (33, 33, 3), f\"{DATASET_ROOT}/{DATASET_NAME}_train\", 100)\n",
    "# image_patches.create_image_patches(f\"{DATASET_ROOT}/{DATASET_NAME}\", (33, 33, 3), f\"{DATASET_ROOT}/{DATASET_NAME}_validation\", 25)"
   ]
  },
  {
   "cell_type": "code",
   "execution_count": 17,
   "metadata": {},
   "outputs": [
    {
     "data": {
      "text/plain": [
       "41"
      ]
     },
     "execution_count": 17,
     "metadata": {},
     "output_type": "execute_result"
    }
   ],
   "source": [
    "files = os.listdir(f\"{DATASET_ROOT}/{DATASET_NAME}_train/patches/head_patch\")\n",
    "len(files)"
   ]
  },
  {
   "cell_type": "code",
   "execution_count": 3,
   "metadata": {},
   "outputs": [
    {
     "data": {
      "image/png": "[encoded data removed]",
      "text/plain": [
       "<Figure size 1000x1000 with 2 Axes>"
      ]
     },
     "metadata": {},
     "output_type": "display_data"
    }
   ],
   "source": [
    "import numpy as np\n",
    "from matplotlib import pyplot as plt\n",
    " \n",
    "# read the input image\n",
    "# you can specify the path to image\n",
    "image_path = f\"{DATASET_ROOT}/{DATASET_NAME}_train/patches/baby_patch/patch_2.png\"\n",
    "# image_path = f\"{DATASET_ROOT}/{DATASET_NAME}/baby.png\"\n",
    "image = cv2.imread(image_path, 0)\n",
    " \n",
    "# calculating the discrete Fourier transform\n",
    "DFT = cv2.dft(np.float32(image), flags=cv2.DFT_COMPLEX_OUTPUT)\n",
    " \n",
    "# # reposition the zero-frequency component to the spectrum's middle\n",
    "shift = np.fft.fftshift(DFT)\n",
    "row, col = image.shape\n",
    "center_row, center_col = row // 2, col // 2\n",
    " \n",
    "# create a mask with a centered square of 1s\n",
    "mask = np.zeros((row, col, 2), np.uint8)\n",
    "mask[center_row - 30:center_row + 30, center_col - 30:center_col + 30] = 1\n",
    " \n",
    "# put the mask and inverse DFT in place.\n",
    "fft_shift = shift * mask\n",
    "fft_ifft_shift = np.fft.ifftshift(fft_shift)\n",
    "imageThen = cv2.idft(fft_ifft_shift)\n",
    " \n",
    "# # calculate the magnitude of the inverse DFT\n",
    "imageThen = cv2.magnitude(imageThen[:,:,0], imageThen[:,:,1])\n",
    " \n",
    "# # visualize the original image and the magnitude spectrum\n",
    "plt.figure(figsize=(10,10))\n",
    "plt.subplot(121), plt.imshow(image, cmap='gray')\n",
    "plt.title('Input Image'), plt.xticks([]), plt.yticks([])\n",
    "plt.subplot(122), plt.imshow(imageThen, cmap='gray')\n",
    "plt.title('Magnitude Spectrum'), plt.xticks([]), plt.yticks([])\n",
    "plt.show()"
   ]
  },
  {
   "cell_type": "code",
   "execution_count": 8,
   "metadata": {},
   "outputs": [
    {
     "ename": "NameError",
     "evalue": "name 'imageThen' is not defined",
     "output_type": "error",
     "traceback": [
      "\u001b[0;31m---------------------------------------------------------------------------\u001b[0m",
      "\u001b[0;31mNameError\u001b[0m                                 Traceback (most recent call last)",
      "Cell \u001b[0;32mIn[8], line 1\u001b[0m\n\u001b[0;32m----> 1\u001b[0m np_image \u001b[39m=\u001b[39m np\u001b[39m.\u001b[39marray(imageThen)\n\u001b[1;32m      2\u001b[0m np\u001b[39m.\u001b[39mmean(np_image)\n\u001b[1;32m      3\u001b[0m \u001b[39m# Convert PIL image to numpy array\u001b[39;00m\n",
      "\u001b[0;31mNameError\u001b[0m: name 'imageThen' is not defined"
     ]
    }
   ],
   "source": [
    "np_image = np.array(imageThen)\n",
    "np.mean(np_image)\n",
    "# Convert PIL image to numpy array\n",
    "image_np = np.array(image)\n",
    "\n",
    "# calculating the discrete Fourier transform\n",
    "DFT = cv2.dft(np.float32(image_np), flags=cv2.DFT_COMPLEX_OUTPUT)\n"
   ]
  },
  {
   "cell_type": "code",
   "execution_count": 5,
   "metadata": {},
   "outputs": [],
   "source": [
    "## Olhando os valores acima, se tem features, a media acima é mt maior do q se nao tiver"
   ]
  },
  {
   "cell_type": "code",
   "execution_count": 6,
   "metadata": {},
   "outputs": [
    {
     "name": "stdout",
     "output_type": "stream",
     "text": [
      "<PIL.Image.Image image mode=L size=33x33 at 0x1753D59C0>\n"
     ]
    },
    {
     "ename": "NameError",
     "evalue": "name 'image_np' is not defined",
     "output_type": "error",
     "traceback": [
      "\u001b[0;31m---------------------------------------------------------------------------\u001b[0m",
      "\u001b[0;31mNameError\u001b[0m                                 Traceback (most recent call last)",
      "Cell \u001b[0;32mIn[6], line 6\u001b[0m\n\u001b[1;32m      3\u001b[0m image \u001b[39m=\u001b[39m Image\u001b[39m.\u001b[39mopen(image_path)\u001b[39m.\u001b[39mconvert(\u001b[39m'\u001b[39m\u001b[39mL\u001b[39m\u001b[39m'\u001b[39m)  \u001b[39m# Open the image and convert to grayscale\u001b[39;00m\n\u001b[1;32m      4\u001b[0m \u001b[39mprint\u001b[39m(image)\n\u001b[0;32m----> 6\u001b[0m DFT \u001b[39m=\u001b[39m cv2\u001b[39m.\u001b[39mdft(np\u001b[39m.\u001b[39mfloat32(image_np), flags\u001b[39m=\u001b[39mcv2\u001b[39m.\u001b[39mDFT_COMPLEX_OUTPUT)\n",
      "\u001b[0;31mNameError\u001b[0m: name 'image_np' is not defined"
     ]
    }
   ],
   "source": [
    "image_path = f\"{DATASET_ROOT}/{DATASET_NAME}_train/patches/baby_patch/patch_2.png\"\n",
    "# image_path = f\"{DATASET_ROOT}/{DATASET_NAME}/baby.png\"\n",
    "image = Image.open(image_path).convert('L')  # Open the image and convert to grayscale\n",
    "print(image)\n",
    "\n",
    "DFT = cv2.dft(np.float32(image_np), flags=cv2.DFT_COMPLEX_OUTPUT)\n"
   ]
  },
  {
   "cell_type": "code",
   "execution_count": 3,
   "metadata": {},
   "outputs": [
    {
     "name": "stdout",
     "output_type": "stream",
     "text": [
      "(33, 33)\n"
     ]
    },
    {
     "data": {
      "image/png": "[encoded data removed]",
      "text/plain": [
       "<Figure size 1000x1000 with 2 Axes>"
      ]
     },
     "metadata": {},
     "output_type": "display_data"
    }
   ],
   "source": [
    "import numpy as np\n",
    "from PIL import Image\n",
    "from matplotlib import pyplot as plt\n",
    "\n",
    "# read the input image\n",
    "# you can specify the path to image\n",
    "image_path = f\"{DATASET_ROOT}/{DATASET_NAME}_train/patches/baby_patch/patch_2.png\"\n",
    "# image_path = f\"{DATASET_ROOT}/{DATASET_NAME}/baby.png\"\n",
    "image = Image.open(image_path).convert('L')  # Open the image and convert to grayscale\n",
    "\n",
    "# Convert PIL image to numpy array\n",
    "image_np = np.array(image)\n",
    "\n",
    "print(image_np.shape)\n",
    "\n",
    "# calculating the discrete Fourier transform\n",
    "DFT = cv2.dft(np.float32(image_np), flags=cv2.DFT_COMPLEX_OUTPUT)\n",
    "\n",
    "# reposition the zero-frequency component to the spectrum's middle\n",
    "shift = np.fft.fftshift(DFT)\n",
    "row, col = image_np.shape\n",
    "center_row, center_col = row // 2, col // 2\n",
    "\n",
    "# create a mask with a centered square of 1s\n",
    "mask = np.zeros((row, col, 2), np.uint8)\n",
    "mask[center_row - 30:center_row + 30, center_col - 30:center_col + 30] = 1\n",
    "\n",
    "# put the mask and inverse DFT in place.\n",
    "fft_shift = shift * mask\n",
    "fft_ifft_shift = np.fft.ifftshift(fft_shift)\n",
    "imageThen = cv2.idft(fft_ifft_shift)\n",
    "\n",
    "# calculate the magnitude of the inverse DFT\n",
    "imageThen = cv2.magnitude(imageThen[:, :, 0], imageThen[:, :, 1])\n",
    "\n",
    "# visualize the original image and the magnitude spectrum\n",
    "plt.figure(figsize=(10, 10))\n",
    "plt.subplot(121), plt.imshow(image_np, cmap='gray')\n",
    "plt.title('Input Image'), plt.xticks([]), plt.yticks([])\n",
    "plt.subplot(122), plt.imshow(imageThen, cmap='gray')\n",
    "plt.title('Magnitude Spectrum'), plt.xticks([]), plt.yticks([])\n",
    "plt.show()\n"
   ]
  },
  {
   "cell_type": "code",
   "execution_count": 10,
   "metadata": {},
   "outputs": [
    {
     "data": {
      "text/plain": [
       "3038.3333"
      ]
     },
     "execution_count": 10,
     "metadata": {},
     "output_type": "execute_result"
    }
   ],
   "source": [
    "np_image = np.array(imageThen)\n",
    "np.mean(np_image)"
   ]
  },
  {
   "cell_type": "code",
   "execution_count": 3,
   "metadata": {},
   "outputs": [],
   "source": [
    "new_image = Image.open(f\"{DATASET_ROOT}/Flickr2K/000400.png\")"
   ]
  },
  {
   "cell_type": "code",
   "execution_count": 4,
   "metadata": {},
   "outputs": [
    {
     "ename": "AttributeError",
     "evalue": "shape",
     "output_type": "error",
     "traceback": [
      "\u001b[0;31m---------------------------------------------------------------------------\u001b[0m",
      "\u001b[0;31mAttributeError\u001b[0m                            Traceback (most recent call last)",
      "Cell \u001b[0;32mIn[4], line 5\u001b[0m\n\u001b[1;32m      2\u001b[0m \u001b[39m# image_path = f\"{DATASET_ROOT}/{DATASET_NAME}/baby.png\"\u001b[39;00m\n\u001b[1;32m      3\u001b[0m image \u001b[39m=\u001b[39m Image\u001b[39m.\u001b[39mopen(image_path)\u001b[39m.\u001b[39mconvert(\u001b[39m'\u001b[39m\u001b[39mL\u001b[39m\u001b[39m'\u001b[39m)  \u001b[39m# Open the image and convert to grayscale\u001b[39;00m\n\u001b[0;32m----> 5\u001b[0m image\u001b[39m.\u001b[39;49mshape\n\u001b[1;32m      7\u001b[0m \u001b[39m# Convert PIL image to numpy array\u001b[39;00m\n\u001b[1;32m      8\u001b[0m image_np \u001b[39m=\u001b[39m np\u001b[39m.\u001b[39marray(image)\n",
      "File \u001b[0;32m~/anaconda3/lib/python3.10/site-packages/PIL/Image.py:529\u001b[0m, in \u001b[0;36mImage.__getattr__\u001b[0;34m(self, name)\u001b[0m\n\u001b[1;32m    527\u001b[0m     deprecate(\u001b[39m\"\u001b[39m\u001b[39mImage categories\u001b[39m\u001b[39m\"\u001b[39m, \u001b[39m10\u001b[39m, \u001b[39m\"\u001b[39m\u001b[39mis_animated\u001b[39m\u001b[39m\"\u001b[39m, plural\u001b[39m=\u001b[39m\u001b[39mTrue\u001b[39;00m)\n\u001b[1;32m    528\u001b[0m     \u001b[39mreturn\u001b[39;00m \u001b[39mself\u001b[39m\u001b[39m.\u001b[39m_category\n\u001b[0;32m--> 529\u001b[0m \u001b[39mraise\u001b[39;00m \u001b[39mAttributeError\u001b[39;00m(name)\n",
      "\u001b[0;31mAttributeError\u001b[0m: shape"
     ]
    }
   ],
   "source": [
    "image_path = f\"{DATASET_ROOT}/{DATASET_NAME}_train/patches/baby_patch/patch_2.png\"\n",
    "# image_path = f\"{DATASET_ROOT}/{DATASET_NAME}/baby.png\"\n",
    "image = Image.open(image_path).convert('L')  # Open the image and convert to grayscale\n",
    "\n",
    "image.shape\n",
    "\n",
    "# Convert PIL image to numpy array\n",
    "image_np = np.array(image)\n",
    "\n",
    "print(image_np.shape)\n",
    "\n",
    "print(type(image))\n",
    "\n",
    "# calculating the discrete Fourier transform\n",
    "DFT = cv2.dft(np.float32(image_np), flags=cv2.DFT_COMPLEX_OUTPUT)"
   ]
  },
  {
   "cell_type": "code",
   "execution_count": null,
   "metadata": {},
   "outputs": [],
   "source": []
  }
 ],
 "metadata": {
  "kernelspec": {
   "display_name": "base",
   "language": "python",
   "name": "python3"
  },
  "language_info": {
   "codemirror_mode": {
    "name": "ipython",
    "version": 3
   },
   "file_extension": ".py",
   "mimetype": "text/x-python",
   "name": "python",
   "nbconvert_exporter": "python",
   "pygments_lexer": "ipython3",
   "version": "3.10.9"
  },
  "orig_nbformat": 4
 },
 "nbformat": 4,
 "nbformat_minor": 2
}
