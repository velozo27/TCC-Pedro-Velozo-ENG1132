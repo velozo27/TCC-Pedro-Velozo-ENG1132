{
 "cells": [
  {
   "cell_type": "code",
   "execution_count": 1,
   "metadata": {},
   "outputs": [],
   "source": [
    "import sys\n",
    "sys.path.append('../')\n",
    "\n",
    "from model_runner import ModelRunner\n",
    "from DBPN_copied import DBPN\n",
    "from custom_image_dataset import CustomImageDataset\n",
    "from torch.utils.data import DataLoader\n",
    "from torchvision import transforms\n",
    "from PIL import Image\n",
    "import torch\n",
    "torch.cuda.empty_cache()\n",
    "from torch import nn\n",
    "from image_helper import ImageHelper\n",
    "import image_patches\n",
    "import os\n",
    "import pandas as pd\n",
    "from GaussianNoise import AddGaussianNoise"
   ]
  },
  {
   "cell_type": "code",
   "execution_count": 2,
   "metadata": {},
   "outputs": [],
   "source": [
    "# DATASET_ROOT=\"../datasets/\"\n",
    "TRAIN_DATASET_NAME = \"../datasets/TRAIN_Flick2k_DIV2K/\"\n",
    "VALIDATION_DATASET_NAME = \"../datasets/VALIDATION_Flickr2K_DIV2K/\""
   ]
  },
  {
   "cell_type": "code",
   "execution_count": 6,
   "metadata": {},
   "outputs": [],
   "source": [
    "PATCH_SIZE = 128 # 32 * 4\n",
    "# PATCHES_PER_IMAGE_TRAIN = 20\n",
    "PATCHES_PER_IMAGE_TRAIN = 30 ##\n",
    "# PATCHES_PER_IMAGE_TRAIN = 50 ##\n",
    "# PATCHES_PER_IMAGE_TRAIN = 4\n",
    "# PATCHES_PER_IMAGE_VALIDATION = 4\n",
    "PATCHES_PER_IMAGE_VALIDATION = 20 ##\n",
    "# PATCHES_PER_IMAGE_VALIDATION = 1\n",
    "# PATCHES_PER_IMAGE_TRAIN = 45\n",
    "# PATCHES_PER_IMAGE_VALIDATION = 12 # 45 // 4"
   ]
  },
  {
   "cell_type": "code",
   "execution_count": 7,
   "metadata": {},
   "outputs": [
    {
     "name": "stdout",
     "output_type": "stream",
     "text": [
      "TRAIN_DATA_PATH = ../datasets/TRAIN_Flick2k_DIV2K/_128_128_number=30\n",
      "VALIDATION_DATA_PATH = ../datasets/VALIDATION_Flickr2K_DIV2K/_128_128_number=20\n"
     ]
    }
   ],
   "source": [
    "TRAIN_DATA_PATH = f\"{TRAIN_DATASET_NAME}_{PATCH_SIZE}_{PATCH_SIZE}_number={PATCHES_PER_IMAGE_TRAIN}\"\n",
    "VALIDATION_DATA_PATH =  f\"{VALIDATION_DATASET_NAME}_{PATCH_SIZE}_{PATCH_SIZE}_number={PATCHES_PER_IMAGE_VALIDATION}\"\n",
    "print('TRAIN_DATA_PATH =', TRAIN_DATA_PATH)\n",
    "print('VALIDATION_DATA_PATH =', VALIDATION_DATA_PATH)"
   ]
  },
  {
   "cell_type": "code",
   "execution_count": 8,
   "metadata": {},
   "outputs": [
    {
     "name": "stderr",
     "output_type": "stream",
     "text": [
      "100%|██████████| 2922/2922 [11:06<00:00,  4.39it/s]\n"
     ]
    }
   ],
   "source": [
    "# image_patches.create_valid_image_patches(f\"{TRAIN_DATASET_NAME}\", (PATCH_SIZE, PATCH_SIZE, 3), TRAIN_DATA_PATH, PATCHES_PER_IMAGE_TRAIN)\n",
    "# image_patches.create_valid_image_patches(f\"{VALIDATION_DATASET_NAME}\", (PATCH_SIZE, PATCH_SIZE, 3), VALIDATION_DATA_PATH, PATCHES_PER_IMAGE_VALIDATION)"
   ]
  },
  {
   "cell_type": "code",
   "execution_count": 9,
   "metadata": {},
   "outputs": [
    {
     "name": "stdout",
     "output_type": "stream",
     "text": [
      "Creating Dataset based on folder: ../datasets/TRAIN_Flick2k_DIV2K/_128_128_number=30\n"
     ]
    },
    {
     "name": "stderr",
     "output_type": "stream",
     "text": [
      "100%|██████████| 2920/2920 [01:09<00:00, 42.27it/s]\n"
     ]
    },
    {
     "name": "stdout",
     "output_type": "stream",
     "text": [
      "Creating Dataset based on folder: ../datasets/TRAIN_Flick2k_DIV2K/_128_128_number=30\n",
      "Creating Dataset based on folder: ../datasets/VALIDATION_Flickr2K_DIV2K/_128_128_number=20\n"
     ]
    },
    {
     "name": "stderr",
     "output_type": "stream",
     "text": [
      "100%|██████████| 630/630 [00:09<00:00, 63.65it/s]\n"
     ]
    },
    {
     "name": "stdout",
     "output_type": "stream",
     "text": [
      "Creating Dataset based on folder: ../datasets/VALIDATION_Flickr2K_DIV2K/_128_128_number=20\n",
      "Training set has 87539 instances\n",
      "Validation set has 12592 instances\n",
      "CPU times: user 1h 3min 3s, sys: 17 s, total: 1h 3min 20s\n",
      "Wall time: 1min 29s\n"
     ]
    }
   ],
   "source": [
    "%%time\n",
    "\n",
    "SCALE_FACTOR=4\n",
    "\n",
    "transform_x = transforms.Compose([\n",
    "    transforms.Resize((PATCH_SIZE // SCALE_FACTOR, PATCH_SIZE // SCALE_FACTOR), interpolation=Image.BICUBIC),\n",
    "    # AddGaussianNoise(0., 0.1),\n",
    "])\n",
    "\n",
    "transform_y = transforms.Compose([\n",
    "    transforms.CenterCrop((PATCH_SIZE, PATCH_SIZE))\n",
    "])\n",
    "\n",
    "# Set up the data loaders\n",
    "train_data_set = CustomImageDataset(\n",
    "    img_dir=TRAIN_DATA_PATH, transform=transform_x, target_transform=transform_y, tensor_size=PATCH_SIZE)\n",
    "validation_data_set = CustomImageDataset(\n",
    "    img_dir=VALIDATION_DATA_PATH, transform=transform_x, target_transform=transform_y, tensor_size=PATCH_SIZE)\n",
    "\n",
    "# Report split sizes\n",
    "print('Training set has {} instances'.format(len(train_data_set)))\n",
    "print('Validation set has {} instances'.format(len(validation_data_set)))"
   ]
  },
  {
   "cell_type": "code",
   "execution_count": 10,
   "metadata": {},
   "outputs": [],
   "source": [
    "# image_helper = ImageHelper()\n",
    "# image =  Image.open('../datasets/Set5/baby.png')\n",
    "# image_tensor = image_helper.image_to_tensor(image)\n",
    "# image_tensor = image_tensor + torch.randn(image_tensor.shape)*0.1\n",
    "# image_helper.show_tensor_as_image(image_tensor)"
   ]
  },
  {
   "cell_type": "code",
   "execution_count": 14,
   "metadata": {},
   "outputs": [
    {
     "name": "stdout",
     "output_type": "stream",
     "text": [
      "CPU times: user 1.33 s, sys: 236 ms, total: 1.57 s\n",
      "Wall time: 1.57 s\n"
     ]
    }
   ],
   "source": [
    "%%time\n",
    "\n",
    "# https://towardsdatascience.com/7-tips-for-squeezing-maximum-performance-from-pytorch-ca4a40951259\n",
    "pin_memory = False\n",
    "batch_size = round(1*(2**6))\n",
    "\n",
    "train_dataloader = DataLoader(train_data_set, batch_size=batch_size, shuffle=True, pin_memory=pin_memory)\n",
    "validation_dataloader = DataLoader(validation_data_set, batch_size=batch_size, pin_memory=pin_memory)"
   ]
  },
  {
   "cell_type": "code",
   "execution_count": 12,
   "metadata": {},
   "outputs": [],
   "source": [
    "# image_helper = ImageHelper()\n",
    "# i = 0\n",
    "# for x, y in train_dataloader:\n",
    "#     i += 1\n",
    "#     if i > 2:\n",
    "#         break\n",
    "#     image_helper.show_tensor_as_image(x[0])\n",
    "#     image_helper.show_tensor_as_image(y[0])\n",
    "#     print(x.shape)\n",
    "#     print(y.shape)\n",
    "#     break"
   ]
  },
  {
   "cell_type": "code",
   "execution_count": 13,
   "metadata": {},
   "outputs": [],
   "source": [
    "# The learning rate is initialized to 1e − 4 for all layers and decrease by a factor of 10 for every 5 × 105 iterations for total 106 iterations.\n",
    "lr = 1e-3\n",
    "model_betas = (0.9, 0.999)\n",
    "device = torch.device('cuda:0')\n",
    "\n",
    "# Total number of epochs\n",
    "epochs = 100\n",
    "\n",
    "model = DBPN(num_channels=3, base_filter=64,  feat = 256, num_stages=7, scale_factor=4).to(device)\n",
    "model_runner = ModelRunner()\n",
    "\n",
    "# For optimization, we use Adam with momentum to 0.9 and weight decay to 1e−4.\n",
    "optimizer = torch.optim.Adam(model.parameters(), lr=lr, betas=model_betas, weight_decay=1e-4)\n",
    "scheduler = torch.optim.lr_scheduler.CosineAnnealingLR(optimizer,\n",
    "                              T_max = epochs, # Maximum number of iterations.\n",
    "                             eta_min = 1e-6) # Minimum learning rate."
   ]
  },
  {
   "cell_type": "code",
   "execution_count": 15,
   "metadata": {},
   "outputs": [
    {
     "name": "stdout",
     "output_type": "stream",
     "text": [
      "\n",
      "epoch 0\n",
      "-------------------------------\n",
      "Training on 87539 samples...\n",
      "Batch size: 64\n",
      "Number of batches: 1368\n"
     ]
    },
    {
     "name": "stderr",
     "output_type": "stream",
     "text": [
      "  0%|          | 0/1368 [00:00<?, ?it/s]/home/pedrovelozo/TCC-Pedro-Velozo-ENG1132/env/lib/python3.8/site-packages/torchvision/transforms/functional.py:1603: UserWarning: The default value of the antialias parameter of all the resizing transforms (Resize(), RandomResizedCrop(), etc.) will change from None to True in v0.17, in order to be consistent across the PIL and Tensor backends. To suppress this warning, directly pass antialias=True (recommended, future default), antialias=None (current default, which means False for Tensors and True for PIL), or antialias=False (only works on Tensors - PIL will still use antialiasing). This also applies if you are using the inference transforms from the models weights: update the call to weights.transforms(antialias=True).\n",
      "  warnings.warn(\n",
      "100%|██████████| 1368/1368 [07:11<00:00,  3.17it/s]\n"
     ]
    },
    {
     "name": "stdout",
     "output_type": "stream",
     "text": [
      "Training Error: \n",
      " Avg loss: 0.009132 \n",
      "\n"
     ]
    },
    {
     "name": "stderr",
     "output_type": "stream",
     "text": [
      "100%|██████████| 197/197 [00:24<00:00,  8.16it/s]\n"
     ]
    },
    {
     "name": "stdout",
     "output_type": "stream",
     "text": [
      "Validation Error: \n",
      " Avg loss: 0.004403 \n",
      "\n",
      "Learning rate (antes): 0.001\n",
      "Learning rate (depois): 0.0009997535269026829\n",
      "Epoch: 0\n",
      "Time: 457.6764030456543\n",
      "Learning rate: 0.0009997535269026829\n",
      "Train loss: 0.009131871288770277\n",
      "Validation loss: 0.004403057166606868\n",
      "Elapsed time: 457.67646622657776\n",
      "\n",
      "epoch 1\n",
      "-------------------------------\n",
      "Training on 87539 samples...\n",
      "Batch size: 64\n",
      "Number of batches: 1368\n"
     ]
    },
    {
     "name": "stderr",
     "output_type": "stream",
     "text": [
      "100%|██████████| 1368/1368 [07:10<00:00,  3.18it/s]\n"
     ]
    },
    {
     "name": "stdout",
     "output_type": "stream",
     "text": [
      "Training Error: \n",
      " Avg loss: 0.004576 \n",
      "\n"
     ]
    },
    {
     "name": "stderr",
     "output_type": "stream",
     "text": [
      "100%|██████████| 197/197 [00:23<00:00,  8.39it/s]\n"
     ]
    },
    {
     "name": "stdout",
     "output_type": "stream",
     "text": [
      "Validation Error: \n",
      " Avg loss: 0.004359 \n",
      "\n",
      "Learning rate (antes): 0.0009997535269026829\n",
      "Learning rate (depois): 0.0009990143508499217\n",
      "Epoch: 1\n",
      "Time: 456.02991580963135\n",
      "Learning rate: 0.0009990143508499217\n",
      "Train loss: 0.004576309071785678\n",
      "Validation loss: 0.004358822817566715\n",
      "Elapsed time: 456.02997946739197\n",
      "\n",
      "epoch 2\n",
      "-------------------------------\n",
      "Training on 87539 samples...\n",
      "Batch size: 64\n",
      "Number of batches: 1368\n"
     ]
    },
    {
     "name": "stderr",
     "output_type": "stream",
     "text": [
      "100%|██████████| 1368/1368 [07:09<00:00,  3.19it/s]\n"
     ]
    },
    {
     "name": "stdout",
     "output_type": "stream",
     "text": [
      "Training Error: \n",
      " Avg loss: 0.004580 \n",
      "\n"
     ]
    },
    {
     "name": "stderr",
     "output_type": "stream",
     "text": [
      "100%|██████████| 197/197 [00:23<00:00,  8.40it/s]\n"
     ]
    },
    {
     "name": "stdout",
     "output_type": "stream",
     "text": [
      "Validation Error: \n",
      " Avg loss: 0.004611 \n",
      "\n",
      "Learning rate (antes): 0.0009990143508499217\n",
      "Learning rate (depois): 0.0009977832013192385\n",
      "Epoch: 2\n",
      "Time: 455.4159691333771\n",
      "Learning rate: 0.0009977832013192385\n",
      "Train loss: 0.004580379638185027\n",
      "Validation loss: 0.004611192489170521\n",
      "Elapsed time: 455.4160325527191\n",
      "\n",
      "epoch 3\n",
      "-------------------------------\n",
      "Training on 87539 samples...\n",
      "Batch size: 64\n",
      "Number of batches: 1368\n"
     ]
    },
    {
     "name": "stderr",
     "output_type": "stream",
     "text": [
      "100%|██████████| 1368/1368 [07:08<00:00,  3.19it/s]\n"
     ]
    },
    {
     "name": "stdout",
     "output_type": "stream",
     "text": [
      "Training Error: \n",
      " Avg loss: 0.004583 \n",
      "\n"
     ]
    },
    {
     "name": "stderr",
     "output_type": "stream",
     "text": [
      "100%|██████████| 197/197 [00:23<00:00,  8.42it/s]\n"
     ]
    },
    {
     "name": "stdout",
     "output_type": "stream",
     "text": [
      "Validation Error: \n",
      " Avg loss: 0.004362 \n",
      "\n",
      "Learning rate (antes): 0.0009977832013192385\n",
      "Learning rate (depois): 0.0009960612933065818\n",
      "Epoch: 3\n",
      "Time: 454.64862751960754\n",
      "Learning rate: 0.0009960612933065818\n",
      "Train loss: 0.00458298946631397\n",
      "Validation loss: 0.004361533216522241\n",
      "Elapsed time: 454.6486918926239\n",
      "\n",
      "epoch 4\n",
      "-------------------------------\n",
      "Training on 87539 samples...\n",
      "Batch size: 64\n",
      "Number of batches: 1368\n"
     ]
    },
    {
     "name": "stderr",
     "output_type": "stream",
     "text": [
      "100%|██████████| 1368/1368 [07:08<00:00,  3.20it/s]\n"
     ]
    },
    {
     "name": "stdout",
     "output_type": "stream",
     "text": [
      "Training Error: \n",
      " Avg loss: 0.004575 \n",
      "\n"
     ]
    },
    {
     "name": "stderr",
     "output_type": "stream",
     "text": [
      "100%|██████████| 197/197 [00:23<00:00,  8.44it/s]\n"
     ]
    },
    {
     "name": "stdout",
     "output_type": "stream",
     "text": [
      "Validation Error: \n",
      " Avg loss: 0.004383 \n",
      "\n",
      "Learning rate (antes): 0.0009960612933065818\n",
      "Learning rate (depois): 0.0009938503261272714\n",
      "Epoch: 4\n",
      "Time: 453.85347628593445\n",
      "Learning rate: 0.0009938503261272714\n",
      "Train loss: 0.004575009480743718\n",
      "Validation loss: 0.0043834036110952344\n",
      "Elapsed time: 453.85354256629944\n",
      "\n",
      "epoch 5\n",
      "-------------------------------\n",
      "Training on 87539 samples...\n",
      "Batch size: 64\n",
      "Number of batches: 1368\n"
     ]
    },
    {
     "name": "stderr",
     "output_type": "stream",
     "text": [
      "100%|██████████| 1368/1368 [07:07<00:00,  3.20it/s]\n"
     ]
    },
    {
     "name": "stdout",
     "output_type": "stream",
     "text": [
      "Training Error: \n",
      " Avg loss: 0.004568 \n",
      "\n"
     ]
    },
    {
     "name": "stderr",
     "output_type": "stream",
     "text": [
      "100%|██████████| 197/197 [00:23<00:00,  8.46it/s]\n"
     ]
    },
    {
     "name": "stdout",
     "output_type": "stream",
     "text": [
      "Validation Error: \n",
      " Avg loss: 0.004341 \n",
      "\n",
      "Learning rate (antes): 0.0009938503261272714\n",
      "Learning rate (depois): 0.00099115248173898\n",
      "Epoch: 5\n",
      "Time: 452.8066017627716\n",
      "Learning rate: 0.00099115248173898\n",
      "Train loss: 0.00456822802120689\n",
      "Validation loss: 0.004340556875370008\n",
      "Elapsed time: 452.80683183670044\n",
      "\n",
      "epoch 6\n",
      "-------------------------------\n",
      "Training on 87539 samples...\n",
      "Batch size: 64\n",
      "Number of batches: 1368\n"
     ]
    },
    {
     "name": "stderr",
     "output_type": "stream",
     "text": [
      "100%|██████████| 1368/1368 [07:05<00:00,  3.22it/s]\n"
     ]
    },
    {
     "name": "stdout",
     "output_type": "stream",
     "text": [
      "Training Error: \n",
      " Avg loss: 0.004558 \n",
      "\n"
     ]
    },
    {
     "name": "stderr",
     "output_type": "stream",
     "text": [
      "100%|██████████| 197/197 [00:23<00:00,  8.48it/s]\n"
     ]
    },
    {
     "name": "stdout",
     "output_type": "stream",
     "text": [
      "Validation Error: \n",
      " Avg loss: 0.004350 \n",
      "\n",
      "Learning rate (antes): 0.00099115248173898\n",
      "Learning rate (depois): 0.0009879704225884043\n",
      "Epoch: 6\n",
      "Time: 450.79859042167664\n",
      "Learning rate: 0.0009879704225884043\n",
      "Train loss: 0.004557901549517934\n",
      "Validation loss: 0.004350497348347518\n",
      "Elapsed time: 450.79865622520447\n",
      "\n",
      "epoch 7\n",
      "-------------------------------\n",
      "Training on 87539 samples...\n",
      "Batch size: 64\n",
      "Number of batches: 1368\n"
     ]
    },
    {
     "name": "stderr",
     "output_type": "stream",
     "text": [
      "100%|██████████| 1368/1368 [07:02<00:00,  3.24it/s]\n"
     ]
    },
    {
     "name": "stdout",
     "output_type": "stream",
     "text": [
      "Training Error: \n",
      " Avg loss: 0.004619 \n",
      "\n"
     ]
    },
    {
     "name": "stderr",
     "output_type": "stream",
     "text": [
      "100%|██████████| 197/197 [00:23<00:00,  8.50it/s]\n"
     ]
    },
    {
     "name": "stdout",
     "output_type": "stream",
     "text": [
      "Validation Error: \n",
      " Avg loss: 0.004385 \n",
      "\n",
      "Learning rate (antes): 0.0009879704225884043\n",
      "Learning rate (depois): 0.0009843072889837512\n",
      "Epoch: 7\n",
      "Time: 447.8724117279053\n",
      "Learning rate: 0.0009843072889837512\n",
      "Train loss: 0.004618557684201126\n",
      "Validation loss: 0.0043850995979607486\n",
      "Elapsed time: 447.8724772930145\n",
      "\n",
      "epoch 8\n",
      "-------------------------------\n",
      "Training on 87539 samples...\n",
      "Batch size: 64\n",
      "Number of batches: 1368\n"
     ]
    },
    {
     "name": "stderr",
     "output_type": "stream",
     "text": [
      "100%|██████████| 1368/1368 [06:59<00:00,  3.26it/s]\n"
     ]
    },
    {
     "name": "stdout",
     "output_type": "stream",
     "text": [
      "Training Error: \n",
      " Avg loss: 0.004538 \n",
      "\n"
     ]
    },
    {
     "name": "stderr",
     "output_type": "stream",
     "text": [
      "100%|██████████| 197/197 [00:23<00:00,  8.54it/s]\n"
     ]
    },
    {
     "name": "stdout",
     "output_type": "stream",
     "text": [
      "Validation Error: \n",
      " Avg loss: 0.004375 \n",
      "\n",
      "Learning rate (antes): 0.0009843072889837512\n",
      "Learning rate (depois): 0.000980166695995633\n",
      "Epoch: 8\n",
      "Time: 445.3185429573059\n",
      "Learning rate: 0.000980166695995633\n",
      "Train loss: 0.004538117637326778\n",
      "Validation loss: 0.004374963266545727\n",
      "Elapsed time: 445.3186092376709\n",
      "\n",
      "epoch 9\n",
      "-------------------------------\n",
      "Training on 87539 samples...\n",
      "Batch size: 64\n",
      "Number of batches: 1368\n"
     ]
    },
    {
     "name": "stderr",
     "output_type": "stream",
     "text": [
      "100%|██████████| 1368/1368 [06:58<00:00,  3.27it/s]\n"
     ]
    },
    {
     "name": "stdout",
     "output_type": "stream",
     "text": [
      "Training Error: \n",
      " Avg loss: 0.004526 \n",
      "\n"
     ]
    },
    {
     "name": "stderr",
     "output_type": "stream",
     "text": [
      "100%|██████████| 197/197 [00:23<00:00,  8.56it/s]\n"
     ]
    },
    {
     "name": "stdout",
     "output_type": "stream",
     "text": [
      "Validation Error: \n",
      " Avg loss: 0.004381 \n",
      "\n",
      "Learning rate (antes): 0.000980166695995633\n",
      "Learning rate (depois): 0.0009755527298894294\n",
      "Epoch: 9\n",
      "Time: 444.3828012943268\n",
      "Learning rate: 0.0009755527298894294\n",
      "Train loss: 0.0045264212260423065\n",
      "Validation loss: 0.004381137028121423\n",
      "Elapsed time: 444.38286685943604\n",
      "\n",
      "epoch 10\n",
      "-------------------------------\n",
      "Training on 87539 samples...\n",
      "Batch size: 64\n",
      "Number of batches: 1368\n"
     ]
    },
    {
     "name": "stderr",
     "output_type": "stream",
     "text": [
      "100%|██████████| 1368/1368 [06:58<00:00,  3.27it/s]\n"
     ]
    },
    {
     "name": "stdout",
     "output_type": "stream",
     "text": [
      "Training Error: \n",
      " Avg loss: 0.004556 \n",
      "\n"
     ]
    },
    {
     "name": "stderr",
     "output_type": "stream",
     "text": [
      "100%|██████████| 197/197 [00:23<00:00,  8.56it/s]\n"
     ]
    },
    {
     "name": "stdout",
     "output_type": "stream",
     "text": [
      "Validation Error: \n",
      " Avg loss: 0.004361 \n",
      "\n",
      "Learning rate (antes): 0.0009755527298894294\n",
      "Learning rate (depois): 0.0009704699440926358\n",
      "Epoch: 10\n",
      "Time: 443.8498477935791\n",
      "Learning rate: 0.0009704699440926358\n",
      "Train loss: 0.004555613591712872\n",
      "Validation loss: 0.0043611895268768795\n",
      "Elapsed time: 443.84992003440857\n",
      "\n",
      "epoch 11\n",
      "-------------------------------\n",
      "Training on 87539 samples...\n",
      "Batch size: 64\n",
      "Number of batches: 1368\n"
     ]
    },
    {
     "name": "stderr",
     "output_type": "stream",
     "text": [
      "100%|██████████| 1368/1368 [06:57<00:00,  3.27it/s]\n"
     ]
    },
    {
     "name": "stdout",
     "output_type": "stream",
     "text": [
      "Training Error: \n",
      " Avg loss: 0.004529 \n",
      "\n"
     ]
    },
    {
     "name": "stderr",
     "output_type": "stream",
     "text": [
      "100%|██████████| 197/197 [00:22<00:00,  8.57it/s]\n"
     ]
    },
    {
     "name": "stdout",
     "output_type": "stream",
     "text": [
      "Validation Error: \n",
      " Avg loss: 0.004328 \n",
      "\n",
      "Learning rate (antes): 0.0009704699440926358\n",
      "Learning rate (depois): 0.0009649233547011817\n",
      "Epoch: 11\n",
      "Time: 443.3915615081787\n",
      "Learning rate: 0.0009649233547011817\n",
      "Train loss: 0.0045294806492931555\n",
      "Validation loss: 0.004327772585864221\n",
      "Elapsed time: 443.3916256427765\n",
      "\n",
      "epoch 12\n",
      "-------------------------------\n",
      "Training on 87539 samples...\n",
      "Batch size: 64\n",
      "Number of batches: 1368\n"
     ]
    },
    {
     "name": "stderr",
     "output_type": "stream",
     "text": [
      "100%|██████████| 1368/1368 [06:57<00:00,  3.28it/s]\n"
     ]
    },
    {
     "name": "stdout",
     "output_type": "stream",
     "text": [
      "Training Error: \n",
      " Avg loss: 0.004561 \n",
      "\n"
     ]
    },
    {
     "name": "stderr",
     "output_type": "stream",
     "text": [
      "100%|██████████| 197/197 [00:23<00:00,  8.55it/s]\n"
     ]
    },
    {
     "name": "stdout",
     "output_type": "stream",
     "text": [
      "Validation Error: \n",
      " Avg loss: 0.004343 \n",
      "\n",
      "Learning rate (antes): 0.0009649233547011817\n",
      "Learning rate (depois): 0.0009589184355291487\n",
      "Epoch: 12\n",
      "Time: 443.1544072628021\n",
      "Learning rate: 0.0009589184355291487\n",
      "Train loss: 0.004560583520766446\n",
      "Validation loss: 0.004342846626765685\n",
      "Elapsed time: 443.15447187423706\n",
      "\n",
      "epoch 13\n",
      "-------------------------------\n",
      "Training on 87539 samples...\n",
      "Batch size: 64\n",
      "Number of batches: 1368\n"
     ]
    },
    {
     "name": "stderr",
     "output_type": "stream",
     "text": [
      "100%|██████████| 1368/1368 [06:57<00:00,  3.28it/s]\n"
     ]
    },
    {
     "name": "stdout",
     "output_type": "stream",
     "text": [
      "Training Error: \n",
      " Avg loss: 0.004521 \n",
      "\n"
     ]
    },
    {
     "name": "stderr",
     "output_type": "stream",
     "text": [
      "100%|██████████| 197/197 [00:23<00:00,  8.56it/s]\n"
     ]
    },
    {
     "name": "stdout",
     "output_type": "stream",
     "text": [
      "Validation Error: \n",
      " Avg loss: 0.004321 \n",
      "\n",
      "Learning rate (antes): 0.0009589184355291487\n",
      "Learning rate (depois): 0.000952461112706777\n",
      "Epoch: 13\n",
      "Time: 442.993581533432\n",
      "Learning rate: 0.000952461112706777\n",
      "Train loss: 0.004521495135697095\n",
      "Validation loss: 0.0043210297070093795\n",
      "Elapsed time: 442.99364590644836\n",
      "\n",
      "epoch 14\n",
      "-------------------------------\n",
      "Training on 87539 samples...\n",
      "Batch size: 64\n",
      "Number of batches: 1368\n"
     ]
    },
    {
     "name": "stderr",
     "output_type": "stream",
     "text": [
      "100%|██████████| 1368/1368 [06:57<00:00,  3.28it/s]\n"
     ]
    },
    {
     "name": "stdout",
     "output_type": "stream",
     "text": [
      "Training Error: \n",
      " Avg loss: 0.004510 \n",
      "\n"
     ]
    },
    {
     "name": "stderr",
     "output_type": "stream",
     "text": [
      "100%|██████████| 197/197 [00:23<00:00,  8.55it/s]\n"
     ]
    },
    {
     "name": "stdout",
     "output_type": "stream",
     "text": [
      "Validation Error: \n",
      " Avg loss: 0.004341 \n",
      "\n",
      "Learning rate (antes): 0.000952461112706777\n",
      "Learning rate (depois): 0.00094555775883209\n",
      "Epoch: 14\n",
      "Time: 442.8019230365753\n",
      "Learning rate: 0.00094555775883209\n",
      "Train loss: 0.0045096964688702045\n",
      "Validation loss: 0.004340798165921009\n",
      "Elapsed time: 442.801988363266\n",
      "\n",
      "epoch 15\n",
      "-------------------------------\n",
      "Training on 87539 samples...\n",
      "Batch size: 64\n",
      "Number of batches: 1368\n"
     ]
    },
    {
     "name": "stderr",
     "output_type": "stream",
     "text": [
      "100%|██████████| 1368/1368 [06:57<00:00,  3.28it/s]\n"
     ]
    },
    {
     "name": "stdout",
     "output_type": "stream",
     "text": [
      "Training Error: \n",
      " Avg loss: 0.004523 \n",
      "\n"
     ]
    },
    {
     "name": "stderr",
     "output_type": "stream",
     "text": [
      "100%|██████████| 197/197 [00:23<00:00,  8.54it/s]\n"
     ]
    },
    {
     "name": "stdout",
     "output_type": "stream",
     "text": [
      "Validation Error: \n",
      " Avg loss: 0.004324 \n",
      "\n",
      "Learning rate (antes): 0.00094555775883209\n",
      "Learning rate (depois): 0.0009382151866819101\n",
      "Epoch: 15\n",
      "Time: 442.77709007263184\n",
      "Learning rate: 0.0009382151866819101\n",
      "Train loss: 0.004522604528271283\n",
      "Validation loss: 0.004324482661095179\n",
      "Elapsed time: 442.77715706825256\n",
      "\n",
      "epoch 16\n",
      "-------------------------------\n",
      "Training on 87539 samples...\n",
      "Batch size: 64\n",
      "Number of batches: 1368\n"
     ]
    },
    {
     "name": "stderr",
     "output_type": "stream",
     "text": [
      "100%|██████████| 1368/1368 [06:57<00:00,  3.28it/s]\n"
     ]
    },
    {
     "name": "stdout",
     "output_type": "stream",
     "text": [
      "Training Error: \n",
      " Avg loss: 0.004494 \n",
      "\n"
     ]
    },
    {
     "name": "stderr",
     "output_type": "stream",
     "text": [
      "100%|██████████| 197/197 [00:23<00:00,  8.54it/s]\n"
     ]
    },
    {
     "name": "stdout",
     "output_type": "stream",
     "text": [
      "Validation Error: \n",
      " Avg loss: 0.004323 \n",
      "\n",
      "Learning rate (antes): 0.0009382151866819101\n",
      "Learning rate (depois): 0.0009304406424884702\n",
      "Epoch: 16\n",
      "Time: 442.9746563434601\n",
      "Learning rate: 0.0009304406424884702\n",
      "Train loss: 0.004494177620743581\n",
      "Validation loss: 0.004322963731888171\n",
      "Elapsed time: 442.97472071647644\n",
      "\n",
      "epoch 17\n",
      "-------------------------------\n",
      "Training on 87539 samples...\n",
      "Batch size: 64\n",
      "Number of batches: 1368\n"
     ]
    },
    {
     "name": "stderr",
     "output_type": "stream",
     "text": [
      "100%|██████████| 1368/1368 [06:57<00:00,  3.28it/s]\n"
     ]
    },
    {
     "name": "stdout",
     "output_type": "stream",
     "text": [
      "Training Error: \n",
      " Avg loss: 0.004501 \n",
      "\n"
     ]
    },
    {
     "name": "stderr",
     "output_type": "stream",
     "text": [
      "100%|██████████| 197/197 [00:23<00:00,  8.54it/s]\n"
     ]
    },
    {
     "name": "stdout",
     "output_type": "stream",
     "text": [
      "Validation Error: \n",
      " Avg loss: 0.004319 \n",
      "\n",
      "Learning rate (antes): 0.0009304406424884702\n",
      "Learning rate (depois): 0.000922241798788257\n",
      "Epoch: 17\n",
      "Time: 442.8207788467407\n",
      "Learning rate: 0.000922241798788257\n",
      "Train loss: 0.004501258411644876\n",
      "Validation loss: 0.004319296243274348\n",
      "Elapsed time: 442.82084608078003\n",
      "\n",
      "epoch 18\n",
      "-------------------------------\n",
      "Training on 87539 samples...\n",
      "Batch size: 64\n",
      "Number of batches: 1368\n"
     ]
    },
    {
     "name": "stderr",
     "output_type": "stream",
     "text": [
      "100%|██████████| 1368/1368 [06:57<00:00,  3.28it/s]\n"
     ]
    },
    {
     "name": "stdout",
     "output_type": "stream",
     "text": [
      "Training Error: \n",
      " Avg loss: 0.004505 \n",
      "\n"
     ]
    },
    {
     "name": "stderr",
     "output_type": "stream",
     "text": [
      "100%|██████████| 197/197 [00:23<00:00,  8.54it/s]\n"
     ]
    },
    {
     "name": "stdout",
     "output_type": "stream",
     "text": [
      "Validation Error: \n",
      " Avg loss: 0.004329 \n",
      "\n",
      "Learning rate (antes): 0.000922241798788257\n",
      "Learning rate (depois): 0.0009136267468501441\n",
      "Epoch: 18\n",
      "Time: 443.1361610889435\n",
      "Learning rate: 0.0009136267468501441\n",
      "Train loss: 0.004505357637147729\n",
      "Validation loss: 0.004328625043558647\n",
      "Elapsed time: 443.13622879981995\n",
      "\n",
      "epoch 19\n",
      "-------------------------------\n",
      "Training on 87539 samples...\n",
      "Batch size: 64\n",
      "Number of batches: 1368\n"
     ]
    },
    {
     "name": "stderr",
     "output_type": "stream",
     "text": [
      "100%|██████████| 1368/1368 [06:57<00:00,  3.27it/s]\n"
     ]
    },
    {
     "name": "stdout",
     "output_type": "stream",
     "text": [
      "Training Error: \n",
      " Avg loss: 0.004488 \n",
      "\n"
     ]
    },
    {
     "name": "stderr",
     "output_type": "stream",
     "text": [
      "100%|██████████| 197/197 [00:23<00:00,  8.54it/s]\n"
     ]
    },
    {
     "name": "stdout",
     "output_type": "stream",
     "text": [
      "Validation Error: \n",
      " Avg loss: 0.004359 \n",
      "\n",
      "Learning rate (antes): 0.0009136267468501441\n",
      "Learning rate (depois): 0.0009046039886902867\n",
      "Epoch: 19\n",
      "Time: 443.5302939414978\n",
      "Learning rate: 0.0009046039886902867\n",
      "Train loss: 0.004488233797189546\n",
      "Validation loss: 0.004358741248837261\n",
      "Elapsed time: 443.5303599834442\n",
      "\n",
      "epoch 20\n",
      "-------------------------------\n",
      "Training on 87539 samples...\n",
      "Batch size: 64\n",
      "Number of batches: 1368\n"
     ]
    },
    {
     "name": "stderr",
     "output_type": "stream",
     "text": [
      "100%|██████████| 1368/1368 [06:58<00:00,  3.27it/s]\n"
     ]
    },
    {
     "name": "stdout",
     "output_type": "stream",
     "text": [
      "Training Error: \n",
      " Avg loss: 0.004515 \n",
      "\n"
     ]
    },
    {
     "name": "stderr",
     "output_type": "stream",
     "text": [
      "100%|██████████| 197/197 [00:23<00:00,  8.54it/s]\n"
     ]
    },
    {
     "name": "stdout",
     "output_type": "stream",
     "text": [
      "Validation Error: \n",
      " Avg loss: 0.004335 \n",
      "\n",
      "Learning rate (antes): 0.0009046039886902867\n",
      "Learning rate (depois): 0.0008951824286816577\n",
      "Epoch: 20\n",
      "Time: 443.8277723789215\n",
      "Learning rate: 0.0008951824286816577\n",
      "Train loss: 0.004514795590167571\n",
      "Validation loss: 0.004335344344174234\n",
      "Elapsed time: 443.8278365135193\n",
      "\n",
      "epoch 21\n",
      "-------------------------------\n",
      "Training on 87539 samples...\n",
      "Batch size: 64\n",
      "Number of batches: 1368\n"
     ]
    },
    {
     "name": "stderr",
     "output_type": "stream",
     "text": [
      "100%|██████████| 1368/1368 [06:58<00:00,  3.27it/s]\n"
     ]
    },
    {
     "name": "stdout",
     "output_type": "stream",
     "text": [
      "Training Error: \n",
      " Avg loss: 0.004485 \n",
      "\n"
     ]
    },
    {
     "name": "stderr",
     "output_type": "stream",
     "text": [
      "100%|██████████| 197/197 [00:23<00:00,  8.54it/s]\n"
     ]
    },
    {
     "name": "stdout",
     "output_type": "stream",
     "text": [
      "Validation Error: \n",
      " Avg loss: 0.004334 \n",
      "\n",
      "Learning rate (antes): 0.0008951824286816577\n",
      "Learning rate (depois): 0.0008853713647665071\n",
      "Epoch: 21\n",
      "Time: 443.7028305530548\n",
      "Learning rate: 0.0008853713647665071\n",
      "Train loss: 0.004484586053792039\n",
      "Validation loss: 0.004334254419610736\n",
      "Elapsed time: 443.7028982639313\n",
      "\n",
      "epoch 22\n",
      "-------------------------------\n",
      "Training on 87539 samples...\n",
      "Batch size: 64\n",
      "Number of batches: 1368\n"
     ]
    },
    {
     "name": "stderr",
     "output_type": "stream",
     "text": [
      "100%|██████████| 1368/1368 [06:58<00:00,  3.27it/s]\n"
     ]
    },
    {
     "name": "stdout",
     "output_type": "stream",
     "text": [
      "Training Error: \n",
      " Avg loss: 0.004491 \n",
      "\n"
     ]
    },
    {
     "name": "stderr",
     "output_type": "stream",
     "text": [
      "100%|██████████| 197/197 [00:23<00:00,  8.54it/s]\n"
     ]
    },
    {
     "name": "stdout",
     "output_type": "stream",
     "text": [
      "Validation Error: \n",
      " Avg loss: 0.004372 \n",
      "\n",
      "Learning rate (antes): 0.0008853713647665071\n",
      "Learning rate (depois): 0.0008751804792804149\n",
      "Epoch: 22\n",
      "Time: 443.723769903183\n",
      "Learning rate: 0.0008751804792804149\n",
      "Train loss: 0.004490757072909479\n",
      "Validation loss: 0.00437230618728495\n",
      "Elapsed time: 443.72383737564087\n",
      "\n",
      "epoch 23\n",
      "-------------------------------\n",
      "Training on 87539 samples...\n",
      "Batch size: 64\n",
      "Number of batches: 1368\n"
     ]
    },
    {
     "name": "stderr",
     "output_type": "stream",
     "text": [
      "100%|██████████| 1368/1368 [06:58<00:00,  3.27it/s]\n"
     ]
    },
    {
     "name": "stdout",
     "output_type": "stream",
     "text": [
      "Training Error: \n",
      " Avg loss: 0.004479 \n",
      "\n"
     ]
    },
    {
     "name": "stderr",
     "output_type": "stream",
     "text": [
      "100%|██████████| 197/197 [00:23<00:00,  8.54it/s]\n"
     ]
    },
    {
     "name": "stdout",
     "output_type": "stream",
     "text": [
      "Validation Error: \n",
      " Avg loss: 0.004326 \n",
      "\n",
      "Learning rate (antes): 0.0008751804792804149\n",
      "Learning rate (depois): 0.0008646198293969954\n",
      "Epoch: 23\n",
      "Time: 443.9459331035614\n",
      "Learning rate: 0.0008646198293969954\n",
      "Train loss: 0.004479345301852415\n",
      "Validation loss: 0.0043257039201653885\n",
      "Elapsed time: 443.9460005760193\n",
      "\n",
      "epoch 24\n",
      "-------------------------------\n",
      "Training on 87539 samples...\n",
      "Batch size: 64\n",
      "Number of batches: 1368\n"
     ]
    },
    {
     "name": "stderr",
     "output_type": "stream",
     "text": [
      "100%|██████████| 1368/1368 [06:58<00:00,  3.27it/s]\n"
     ]
    },
    {
     "name": "stdout",
     "output_type": "stream",
     "text": [
      "Training Error: \n",
      " Avg loss: 0.004486 \n",
      "\n"
     ]
    },
    {
     "name": "stderr",
     "output_type": "stream",
     "text": [
      "100%|██████████| 197/197 [00:23<00:00,  8.54it/s]\n"
     ]
    },
    {
     "name": "stdout",
     "output_type": "stream",
     "text": [
      "Validation Error: \n",
      " Avg loss: 0.004332 \n",
      "\n",
      "Learning rate (antes): 0.0008646198293969954\n",
      "Learning rate (depois): 0.0008536998372026807\n",
      "Epoch: 24\n",
      "Time: 443.70247292518616\n",
      "Learning rate: 0.0008536998372026807\n",
      "Train loss: 0.004486021716644639\n",
      "Validation loss: 0.0043319303177174195\n",
      "Elapsed time: 443.7025372982025\n",
      "\n",
      "epoch 25\n",
      "-------------------------------\n",
      "Training on 87539 samples...\n",
      "Batch size: 64\n",
      "Number of batches: 1368\n"
     ]
    },
    {
     "name": "stderr",
     "output_type": "stream",
     "text": [
      "100%|██████████| 1368/1368 [06:58<00:00,  3.27it/s]\n"
     ]
    },
    {
     "name": "stdout",
     "output_type": "stream",
     "text": [
      "Training Error: \n",
      " Avg loss: 0.004485 \n",
      "\n"
     ]
    },
    {
     "name": "stderr",
     "output_type": "stream",
     "text": [
      "100%|██████████| 197/197 [00:23<00:00,  8.54it/s]\n"
     ]
    },
    {
     "name": "stdout",
     "output_type": "stream",
     "text": [
      "Validation Error: \n",
      " Avg loss: 0.004342 \n",
      "\n",
      "Learning rate (antes): 0.0008536998372026807\n",
      "Learning rate (depois): 0.0008424312794113804\n",
      "Epoch: 25\n",
      "Time: 443.94175601005554\n",
      "Learning rate: 0.0008424312794113804\n",
      "Train loss: 0.004485288579071387\n",
      "Validation loss: 0.004341668912048835\n",
      "Elapsed time: 443.9418203830719\n",
      "\n",
      "epoch 26\n",
      "-------------------------------\n",
      "Training on 87539 samples...\n",
      "Batch size: 64\n",
      "Number of batches: 1368\n"
     ]
    },
    {
     "name": "stderr",
     "output_type": "stream",
     "text": [
      "100%|██████████| 1368/1368 [06:58<00:00,  3.27it/s]\n"
     ]
    },
    {
     "name": "stdout",
     "output_type": "stream",
     "text": [
      "Training Error: \n",
      " Avg loss: 0.004476 \n",
      "\n"
     ]
    },
    {
     "name": "stderr",
     "output_type": "stream",
     "text": [
      "100%|██████████| 197/197 [00:23<00:00,  8.53it/s]\n"
     ]
    },
    {
     "name": "stdout",
     "output_type": "stream",
     "text": [
      "Validation Error: \n",
      " Avg loss: 0.004317 \n",
      "\n",
      "Learning rate (antes): 0.0008424312794113804\n",
      "Learning rate (depois): 0.0008308252767291644\n",
      "Epoch: 26\n",
      "Time: 444.08606719970703\n",
      "Learning rate: 0.0008308252767291644\n",
      "Train loss: 0.004475512090806266\n",
      "Validation loss: 0.004317194632630379\n",
      "Elapsed time: 444.0861475467682\n",
      "\n",
      "epoch 27\n",
      "-------------------------------\n",
      "Training on 87539 samples...\n",
      "Batch size: 64\n",
      "Number of batches: 1368\n"
     ]
    },
    {
     "name": "stderr",
     "output_type": "stream",
     "text": [
      "100%|██████████| 1368/1368 [06:58<00:00,  3.27it/s]\n"
     ]
    },
    {
     "name": "stdout",
     "output_type": "stream",
     "text": [
      "Training Error: \n",
      " Avg loss: 0.004474 \n",
      "\n"
     ]
    },
    {
     "name": "stderr",
     "output_type": "stream",
     "text": [
      "100%|██████████| 197/197 [00:23<00:00,  8.53it/s]\n"
     ]
    },
    {
     "name": "stdout",
     "output_type": "stream",
     "text": [
      "Validation Error: \n",
      " Avg loss: 0.004313 \n",
      "\n",
      "Learning rate (antes): 0.0008308252767291644\n",
      "Learning rate (depois): 0.0008188932828794708\n",
      "Epoch: 27\n",
      "Time: 443.88365936279297\n",
      "Learning rate: 0.0008188932828794708\n",
      "Train loss: 0.004474315201395262\n",
      "Validation loss: 0.004312624363287772\n",
      "Elapsed time: 443.8837242126465\n",
      "\n",
      "epoch 28\n",
      "-------------------------------\n",
      "Training on 87539 samples...\n",
      "Batch size: 64\n",
      "Number of batches: 1368\n"
     ]
    },
    {
     "name": "stderr",
     "output_type": "stream",
     "text": [
      "100%|██████████| 1368/1368 [06:58<00:00,  3.27it/s]\n"
     ]
    },
    {
     "name": "stdout",
     "output_type": "stream",
     "text": [
      "Training Error: \n",
      " Avg loss: 0.004480 \n",
      "\n"
     ]
    },
    {
     "name": "stderr",
     "output_type": "stream",
     "text": [
      "100%|██████████| 197/197 [00:23<00:00,  8.54it/s]\n"
     ]
    },
    {
     "name": "stdout",
     "output_type": "stream",
     "text": [
      "Validation Error: \n",
      " Avg loss: 0.004313 \n",
      "\n",
      "Learning rate (antes): 0.0008188932828794708\n",
      "Learning rate (depois): 0.0008066470732996621\n",
      "Epoch: 28\n",
      "Time: 444.0910928249359\n",
      "Learning rate: 0.0008066470732996621\n",
      "Train loss: 0.00448036555909519\n",
      "Validation loss: 0.004312777398910544\n",
      "Elapsed time: 444.09116077423096\n",
      "\n",
      "epoch 29\n",
      "-------------------------------\n",
      "Training on 87539 samples...\n",
      "Batch size: 64\n",
      "Number of batches: 1368\n"
     ]
    },
    {
     "name": "stderr",
     "output_type": "stream",
     "text": [
      "100%|██████████| 1368/1368 [06:58<00:00,  3.27it/s]\n"
     ]
    },
    {
     "name": "stdout",
     "output_type": "stream",
     "text": [
      "Training Error: \n",
      " Avg loss: 0.004482 \n",
      "\n"
     ]
    },
    {
     "name": "stderr",
     "output_type": "stream",
     "text": [
      "100%|██████████| 197/197 [00:23<00:00,  8.55it/s]\n"
     ]
    },
    {
     "name": "stdout",
     "output_type": "stream",
     "text": [
      "Validation Error: \n",
      " Avg loss: 0.004313 \n",
      "\n",
      "Learning rate (antes): 0.0008066470732996621\n",
      "Learning rate (depois): 0.0007940987335200907\n",
      "Epoch: 29\n",
      "Time: 444.00074553489685\n",
      "Learning rate: 0.0007940987335200907\n",
      "Train loss: 0.0044824384121913245\n",
      "Validation loss: 0.0043125224268999954\n",
      "Elapsed time: 444.0008156299591\n",
      "\n",
      "epoch 30\n",
      "-------------------------------\n",
      "Training on 87539 samples...\n",
      "Batch size: 64\n",
      "Number of batches: 1368\n"
     ]
    },
    {
     "name": "stderr",
     "output_type": "stream",
     "text": [
      "100%|██████████| 1368/1368 [06:58<00:00,  3.27it/s]\n"
     ]
    },
    {
     "name": "stdout",
     "output_type": "stream",
     "text": [
      "Training Error: \n",
      " Avg loss: 0.004468 \n",
      "\n"
     ]
    },
    {
     "name": "stderr",
     "output_type": "stream",
     "text": [
      "100%|██████████| 197/197 [00:23<00:00,  8.55it/s]\n"
     ]
    },
    {
     "name": "stdout",
     "output_type": "stream",
     "text": [
      "Validation Error: \n",
      " Avg loss: 0.004335 \n",
      "\n",
      "Learning rate (antes): 0.0007940987335200907\n",
      "Learning rate (depois): 0.0007812606472371396\n",
      "Epoch: 30\n",
      "Time: 443.8192090988159\n",
      "Learning rate: 0.0007812606472371396\n",
      "Train loss: 0.0044675041938116175\n",
      "Validation loss: 0.004334857350813348\n",
      "Elapsed time: 443.8192734718323\n",
      "\n",
      "epoch 31\n",
      "-------------------------------\n",
      "Training on 87539 samples...\n",
      "Batch size: 64\n",
      "Number of batches: 1368\n"
     ]
    },
    {
     "name": "stderr",
     "output_type": "stream",
     "text": [
      "100%|██████████| 1368/1368 [06:58<00:00,  3.27it/s]\n"
     ]
    },
    {
     "name": "stdout",
     "output_type": "stream",
     "text": [
      "Training Error: \n",
      " Avg loss: 0.004464 \n",
      "\n"
     ]
    },
    {
     "name": "stderr",
     "output_type": "stream",
     "text": [
      "100%|██████████| 197/197 [00:23<00:00,  8.55it/s]\n"
     ]
    },
    {
     "name": "stdout",
     "output_type": "stream",
     "text": [
      "Validation Error: \n",
      " Avg loss: 0.004315 \n",
      "\n",
      "Learning rate (antes): 0.0007812606472371396\n",
      "Learning rate (depois): 0.0007681454840920091\n",
      "Epoch: 31\n",
      "Time: 443.74473547935486\n",
      "Learning rate: 0.0007681454840920091\n",
      "Train loss: 0.0044644556407563455\n",
      "Validation loss: 0.004315065250136336\n",
      "Elapsed time: 443.7448000907898\n",
      "\n",
      "epoch 32\n",
      "-------------------------------\n",
      "Training on 87539 samples...\n",
      "Batch size: 64\n",
      "Number of batches: 1368\n"
     ]
    },
    {
     "name": "stderr",
     "output_type": "stream",
     "text": [
      "100%|██████████| 1368/1368 [06:58<00:00,  3.27it/s]\n"
     ]
    },
    {
     "name": "stdout",
     "output_type": "stream",
     "text": [
      "Training Error: \n",
      " Avg loss: 0.004470 \n",
      "\n"
     ]
    },
    {
     "name": "stderr",
     "output_type": "stream",
     "text": [
      "100%|██████████| 197/197 [00:23<00:00,  8.55it/s]\n"
     ]
    },
    {
     "name": "stdout",
     "output_type": "stream",
     "text": [
      "Validation Error: \n",
      " Avg loss: 0.004322 \n",
      "\n",
      "Learning rate (antes): 0.0007681454840920091\n",
      "Learning rate (depois): 0.0007547661871673109\n",
      "Epoch: 32\n",
      "Time: 443.71506094932556\n",
      "Learning rate: 0.0007547661871673109\n",
      "Train loss: 0.00446953844552729\n",
      "Validation loss: 0.004322360395595696\n",
      "Elapsed time: 443.71512508392334\n",
      "\n",
      "epoch 33\n",
      "-------------------------------\n",
      "Training on 87539 samples...\n",
      "Batch size: 64\n",
      "Number of batches: 1368\n"
     ]
    },
    {
     "name": "stderr",
     "output_type": "stream",
     "text": [
      "100%|██████████| 1368/1368 [06:58<00:00,  3.27it/s]\n"
     ]
    },
    {
     "name": "stdout",
     "output_type": "stream",
     "text": [
      "Training Error: \n",
      " Avg loss: 0.004468 \n",
      "\n"
     ]
    },
    {
     "name": "stderr",
     "output_type": "stream",
     "text": [
      "100%|██████████| 197/197 [00:23<00:00,  8.55it/s]\n"
     ]
    },
    {
     "name": "stdout",
     "output_type": "stream",
     "text": [
      "Validation Error: \n",
      " Avg loss: 0.004319 \n",
      "\n",
      "Learning rate (antes): 0.0007547661871673109\n",
      "Learning rate (depois): 0.0007411359602138072\n",
      "Epoch: 33\n",
      "Time: 443.72138953208923\n",
      "Learning rate: 0.0007411359602138072\n",
      "Train loss: 0.004467536934599694\n",
      "Validation loss: 0.004319095049233076\n",
      "Elapsed time: 443.7214574813843\n",
      "\n",
      "epoch 34\n",
      "-------------------------------\n",
      "Training on 87539 samples...\n",
      "Batch size: 64\n",
      "Number of batches: 1368\n"
     ]
    },
    {
     "name": "stderr",
     "output_type": "stream",
     "text": [
      "100%|██████████| 1368/1368 [06:58<00:00,  3.27it/s]\n"
     ]
    },
    {
     "name": "stdout",
     "output_type": "stream",
     "text": [
      "Training Error: \n",
      " Avg loss: 0.004465 \n",
      "\n"
     ]
    },
    {
     "name": "stderr",
     "output_type": "stream",
     "text": [
      "100%|██████████| 197/197 [00:23<00:00,  8.55it/s]\n"
     ]
    },
    {
     "name": "stdout",
     "output_type": "stream",
     "text": [
      "Validation Error: \n",
      " Avg loss: 0.004305 \n",
      "\n",
      "Learning rate (antes): 0.0007411359602138072\n",
      "Learning rate (depois): 0.000727268254619904\n",
      "Epoch: 34\n",
      "Time: 443.8037931919098\n",
      "Learning rate: 0.000727268254619904\n",
      "Train loss: 0.0044652059230387035\n",
      "Validation loss: 0.004305216284624778\n",
      "Elapsed time: 443.8038601875305\n",
      "\n",
      "epoch 35\n",
      "-------------------------------\n",
      "Training on 87539 samples...\n",
      "Batch size: 64\n",
      "Number of batches: 1368\n"
     ]
    },
    {
     "name": "stderr",
     "output_type": "stream",
     "text": [
      "100%|██████████| 1368/1368 [06:58<00:00,  3.27it/s]\n"
     ]
    },
    {
     "name": "stdout",
     "output_type": "stream",
     "text": [
      "Training Error: \n",
      " Avg loss: 0.004464 \n",
      "\n"
     ]
    },
    {
     "name": "stderr",
     "output_type": "stream",
     "text": [
      "100%|██████████| 197/197 [00:23<00:00,  8.55it/s]\n"
     ]
    },
    {
     "name": "stdout",
     "output_type": "stream",
     "text": [
      "Validation Error: \n",
      " Avg loss: 0.004306 \n",
      "\n",
      "Learning rate (antes): 0.000727268254619904\n",
      "Learning rate (depois): 0.0007131767561367542\n",
      "Epoch: 35\n",
      "Time: 443.9106283187866\n",
      "Learning rate: 0.0007131767561367542\n",
      "Train loss: 0.004464231312345735\n",
      "Validation loss: 0.0043056176689945085\n",
      "Elapsed time: 443.9106960296631\n",
      "\n",
      "epoch 36\n",
      "-------------------------------\n",
      "Training on 87539 samples...\n",
      "Batch size: 64\n",
      "Number of batches: 1368\n"
     ]
    },
    {
     "name": "stderr",
     "output_type": "stream",
     "text": [
      "100%|██████████| 1368/1368 [06:58<00:00,  3.27it/s]\n"
     ]
    },
    {
     "name": "stdout",
     "output_type": "stream",
     "text": [
      "Training Error: \n",
      " Avg loss: 0.004459 \n",
      "\n"
     ]
    },
    {
     "name": "stderr",
     "output_type": "stream",
     "text": [
      "100%|██████████| 197/197 [00:23<00:00,  8.54it/s]\n"
     ]
    },
    {
     "name": "stdout",
     "output_type": "stream",
     "text": [
      "Validation Error: \n",
      " Avg loss: 0.004308 \n",
      "\n",
      "Learning rate (antes): 0.0007131767561367542\n",
      "Learning rate (depois): 0.0006988753713720732\n",
      "Epoch: 36\n",
      "Time: 444.0199062824249\n",
      "Learning rate: 0.0006988753713720732\n",
      "Train loss: 0.004459155096273532\n",
      "Validation loss: 0.004308029220659324\n",
      "Elapsed time: 444.0199701786041\n",
      "\n",
      "epoch 37\n",
      "-------------------------------\n",
      "Training on 87539 samples...\n",
      "Batch size: 64\n",
      "Number of batches: 1368\n"
     ]
    },
    {
     "name": "stderr",
     "output_type": "stream",
     "text": [
      "100%|██████████| 1368/1368 [06:58<00:00,  3.27it/s]\n"
     ]
    },
    {
     "name": "stdout",
     "output_type": "stream",
     "text": [
      "Training Error: \n",
      " Avg loss: 0.004459 \n",
      "\n"
     ]
    },
    {
     "name": "stderr",
     "output_type": "stream",
     "text": [
      "100%|██████████| 197/197 [00:23<00:00,  8.54it/s]\n"
     ]
    },
    {
     "name": "stdout",
     "output_type": "stream",
     "text": [
      "Validation Error: \n",
      " Avg loss: 0.004305 \n",
      "\n",
      "Learning rate (antes): 0.0006988753713720732\n",
      "Learning rate (depois): 0.000684378214065997\n",
      "Epoch: 37\n",
      "Time: 443.9333908557892\n",
      "Learning rate: 0.000684378214065997\n",
      "Train loss: 0.004459070366342982\n",
      "Validation loss: 0.004305445839093081\n",
      "Elapsed time: 443.93345642089844\n",
      "\n",
      "epoch 38\n",
      "-------------------------------\n",
      "Training on 87539 samples...\n",
      "Batch size: 64\n",
      "Number of batches: 1368\n"
     ]
    },
    {
     "name": "stderr",
     "output_type": "stream",
     "text": [
      "100%|██████████| 1368/1368 [06:58<00:00,  3.27it/s]\n"
     ]
    },
    {
     "name": "stdout",
     "output_type": "stream",
     "text": [
      "Training Error: \n",
      " Avg loss: 0.004466 \n",
      "\n"
     ]
    },
    {
     "name": "stderr",
     "output_type": "stream",
     "text": [
      "100%|██████████| 197/197 [00:23<00:00,  8.54it/s]\n"
     ]
    },
    {
     "name": "stdout",
     "output_type": "stream",
     "text": [
      "Validation Error: \n",
      " Avg loss: 0.004304 \n",
      "\n",
      "Learning rate (antes): 0.000684378214065997\n",
      "Learning rate (depois): 0.0006696995911625234\n",
      "Epoch: 38\n",
      "Time: 443.83563208580017\n",
      "Learning rate: 0.0006696995911625234\n",
      "Train loss: 0.004466200311401347\n",
      "Validation loss: 0.004303630456496219\n",
      "Elapsed time: 443.83569955825806\n",
      "\n",
      "epoch 39\n",
      "-------------------------------\n",
      "Training on 87539 samples...\n",
      "Batch size: 64\n",
      "Number of batches: 1368\n"
     ]
    },
    {
     "name": "stderr",
     "output_type": "stream",
     "text": [
      "100%|██████████| 1368/1368 [06:58<00:00,  3.27it/s]\n"
     ]
    },
    {
     "name": "stdout",
     "output_type": "stream",
     "text": [
      "Training Error: \n",
      " Avg loss: 0.004458 \n",
      "\n"
     ]
    },
    {
     "name": "stderr",
     "output_type": "stream",
     "text": [
      "100%|██████████| 197/197 [00:23<00:00,  8.54it/s]\n"
     ]
    },
    {
     "name": "stdout",
     "output_type": "stream",
     "text": [
      "Validation Error: \n",
      " Avg loss: 0.004307 \n",
      "\n",
      "Learning rate (antes): 0.0006696995911625234\n",
      "Learning rate (depois): 0.0006548539886902865\n",
      "Epoch: 39\n",
      "Time: 443.9135112762451\n",
      "Learning rate: 0.0006548539886902865\n",
      "Train loss: 0.004457577563310314\n",
      "Validation loss: 0.004307235118065521\n",
      "Elapsed time: 443.9135797023773\n",
      "\n",
      "epoch 40\n",
      "-------------------------------\n",
      "Training on 87539 samples...\n",
      "Batch size: 64\n",
      "Number of batches: 1368\n"
     ]
    },
    {
     "name": "stderr",
     "output_type": "stream",
     "text": [
      "100%|██████████| 1368/1368 [06:58<00:00,  3.27it/s]\n"
     ]
    },
    {
     "name": "stdout",
     "output_type": "stream",
     "text": [
      "Training Error: \n",
      " Avg loss: 0.004457 \n",
      "\n"
     ]
    },
    {
     "name": "stderr",
     "output_type": "stream",
     "text": [
      "100%|██████████| 197/197 [00:23<00:00,  8.54it/s]\n"
     ]
    },
    {
     "name": "stdout",
     "output_type": "stream",
     "text": [
      "Validation Error: \n",
      " Avg loss: 0.004308 \n",
      "\n",
      "Learning rate (antes): 0.0006548539886902865\n",
      "Learning rate (depois): 0.0006398560574665953\n",
      "Epoch: 40\n",
      "Time: 443.9286344051361\n",
      "Learning rate: 0.0006398560574665953\n",
      "Train loss: 0.004456920436262126\n",
      "Validation loss: 0.004307648298793903\n",
      "Elapsed time: 443.92871499061584\n",
      "\n",
      "epoch 41\n",
      "-------------------------------\n",
      "Training on 87539 samples...\n",
      "Batch size: 64\n",
      "Number of batches: 1368\n"
     ]
    },
    {
     "name": "stderr",
     "output_type": "stream",
     "text": [
      "100%|██████████| 1368/1368 [06:58<00:00,  3.27it/s]\n"
     ]
    },
    {
     "name": "stdout",
     "output_type": "stream",
     "text": [
      "Training Error: \n",
      " Avg loss: 0.004458 \n",
      "\n"
     ]
    },
    {
     "name": "stderr",
     "output_type": "stream",
     "text": [
      "100%|██████████| 197/197 [00:23<00:00,  8.55it/s]\n"
     ]
    },
    {
     "name": "stdout",
     "output_type": "stream",
     "text": [
      "Validation Error: \n",
      " Avg loss: 0.004305 \n",
      "\n",
      "Learning rate (antes): 0.0006398560574665953\n",
      "Learning rate (depois): 0.0006247205986388451\n",
      "Epoch: 41\n",
      "Time: 443.68946290016174\n",
      "Learning rate: 0.0006247205986388451\n",
      "Train loss: 0.004457855655346066\n",
      "Validation loss: 0.004305165287031589\n",
      "Elapsed time: 443.68952775001526\n",
      "\n",
      "epoch 42\n",
      "-------------------------------\n",
      "Training on 87539 samples...\n",
      "Batch size: 64\n",
      "Number of batches: 1368\n"
     ]
    },
    {
     "name": "stderr",
     "output_type": "stream",
     "text": [
      "100%|██████████| 1368/1368 [06:58<00:00,  3.27it/s]\n"
     ]
    },
    {
     "name": "stdout",
     "output_type": "stream",
     "text": [
      "Training Error: \n",
      " Avg loss: 0.004455 \n",
      "\n"
     ]
    },
    {
     "name": "stderr",
     "output_type": "stream",
     "text": [
      "100%|██████████| 197/197 [00:23<00:00,  8.53it/s]\n"
     ]
    },
    {
     "name": "stdout",
     "output_type": "stream",
     "text": [
      "Validation Error: \n",
      " Avg loss: 0.004308 \n",
      "\n",
      "Learning rate (antes): 0.0006247205986388451\n",
      "Learning rate (depois): 0.0006094625490775733\n",
      "Epoch: 42\n",
      "Time: 443.87505888938904\n",
      "Learning rate: 0.0006094625490775733\n",
      "Train loss: 0.0044551952285909946\n",
      "Validation loss: 0.004308362881745197\n",
      "Elapsed time: 443.8751266002655\n",
      "\n",
      "epoch 43\n",
      "-------------------------------\n",
      "Training on 87539 samples...\n",
      "Batch size: 64\n",
      "Number of batches: 1368\n"
     ]
    },
    {
     "name": "stderr",
     "output_type": "stream",
     "text": [
      "100%|██████████| 1368/1368 [06:58<00:00,  3.27it/s]\n"
     ]
    },
    {
     "name": "stdout",
     "output_type": "stream",
     "text": [
      "Training Error: \n",
      " Avg loss: 0.004456 \n",
      "\n"
     ]
    },
    {
     "name": "stderr",
     "output_type": "stream",
     "text": [
      "100%|██████████| 197/197 [00:23<00:00,  8.54it/s]\n"
     ]
    },
    {
     "name": "stdout",
     "output_type": "stream",
     "text": [
      "Validation Error: \n",
      " Avg loss: 0.004314 \n",
      "\n",
      "Learning rate (antes): 0.0006094625490775733\n",
      "Learning rate (depois): 0.0005940969666355698\n",
      "Epoch: 43\n",
      "Time: 444.1440637111664\n",
      "Learning rate: 0.0005940969666355698\n",
      "Train loss: 0.004456039884724049\n",
      "Validation loss: 0.004313609631067888\n",
      "Elapsed time: 444.1441283226013\n",
      "\n",
      "epoch 44\n",
      "-------------------------------\n",
      "Training on 87539 samples...\n",
      "Batch size: 64\n",
      "Number of batches: 1368\n"
     ]
    },
    {
     "name": "stderr",
     "output_type": "stream",
     "text": [
      "100%|██████████| 1368/1368 [06:58<00:00,  3.27it/s]\n"
     ]
    },
    {
     "name": "stdout",
     "output_type": "stream",
     "text": [
      "Training Error: \n",
      " Avg loss: 0.004455 \n",
      "\n"
     ]
    },
    {
     "name": "stderr",
     "output_type": "stream",
     "text": [
      "100%|██████████| 197/197 [00:23<00:00,  8.54it/s]\n"
     ]
    },
    {
     "name": "stdout",
     "output_type": "stream",
     "text": [
      "Validation Error: \n",
      " Avg loss: 0.004320 \n",
      "\n",
      "Learning rate (antes): 0.0005940969666355698\n",
      "Learning rate (depois): 0.0005786390152875956\n",
      "Epoch: 44\n",
      "Time: 444.0584852695465\n",
      "Learning rate: 0.0005786390152875956\n",
      "Train loss: 0.004454733248512746\n",
      "Validation loss: 0.004319845097491678\n",
      "Elapsed time: 444.05855345726013\n",
      "\n",
      "epoch 45\n",
      "-------------------------------\n",
      "Training on 87539 samples...\n",
      "Batch size: 64\n",
      "Number of batches: 1368\n"
     ]
    },
    {
     "name": "stderr",
     "output_type": "stream",
     "text": [
      "100%|██████████| 1368/1368 [06:58<00:00,  3.27it/s]\n"
     ]
    },
    {
     "name": "stdout",
     "output_type": "stream",
     "text": [
      "Training Error: \n",
      " Avg loss: 0.004456 \n",
      "\n"
     ]
    },
    {
     "name": "stderr",
     "output_type": "stream",
     "text": [
      "100%|██████████| 197/197 [00:23<00:00,  8.54it/s]\n"
     ]
    },
    {
     "name": "stdout",
     "output_type": "stream",
     "text": [
      "Validation Error: \n",
      " Avg loss: 0.004317 \n",
      "\n",
      "Learning rate (antes): 0.0005786390152875956\n",
      "Learning rate (depois): 0.0005631039501653703\n",
      "Epoch: 45\n",
      "Time: 444.04106426239014\n",
      "Learning rate: 0.0005631039501653703\n",
      "Train loss: 0.004456190817188798\n",
      "Validation loss: 0.004316764425422504\n",
      "Elapsed time: 444.04113268852234\n",
      "\n",
      "epoch 46\n",
      "-------------------------------\n",
      "Training on 87539 samples...\n",
      "Batch size: 64\n",
      "Number of batches: 1368\n"
     ]
    },
    {
     "name": "stderr",
     "output_type": "stream",
     "text": [
      "100%|██████████| 1368/1368 [06:58<00:00,  3.27it/s]\n"
     ]
    },
    {
     "name": "stdout",
     "output_type": "stream",
     "text": [
      "Training Error: \n",
      " Avg loss: 0.004453 \n",
      "\n"
     ]
    },
    {
     "name": "stderr",
     "output_type": "stream",
     "text": [
      "100%|██████████| 197/197 [00:23<00:00,  8.54it/s]\n"
     ]
    },
    {
     "name": "stdout",
     "output_type": "stream",
     "text": [
      "Validation Error: \n",
      " Avg loss: 0.004316 \n",
      "\n",
      "Learning rate (antes): 0.0005631039501653703\n",
      "Learning rate (depois): 0.0005475071025025981\n",
      "Epoch: 46\n",
      "Time: 443.8601486682892\n",
      "Learning rate: 0.0005475071025025981\n",
      "Train loss: 0.004453441653875852\n",
      "Validation loss: 0.004316226047106787\n",
      "Elapsed time: 443.8602137565613\n",
      "\n",
      "epoch 47\n",
      "-------------------------------\n",
      "Training on 87539 samples...\n",
      "Batch size: 64\n",
      "Number of batches: 1368\n"
     ]
    },
    {
     "name": "stderr",
     "output_type": "stream",
     "text": [
      "100%|██████████| 1368/1368 [06:58<00:00,  3.27it/s]\n"
     ]
    },
    {
     "name": "stdout",
     "output_type": "stream",
     "text": [
      "Training Error: \n",
      " Avg loss: 0.004453 \n",
      "\n"
     ]
    },
    {
     "name": "stderr",
     "output_type": "stream",
     "text": [
      "100%|██████████| 197/197 [00:23<00:00,  8.54it/s]\n"
     ]
    },
    {
     "name": "stdout",
     "output_type": "stream",
     "text": [
      "Validation Error: \n",
      " Avg loss: 0.004309 \n",
      "\n",
      "Learning rate (antes): 0.0005475071025025981\n",
      "Learning rate (depois): 0.0005318638645048923\n",
      "Epoch: 47\n",
      "Time: 443.88005805015564\n",
      "Learning rate: 0.0005318638645048923\n",
      "Train loss: 0.004452862127340938\n",
      "Validation loss: 0.00430944978955632\n",
      "Elapsed time: 443.880122423172\n",
      "\n",
      "epoch 48\n",
      "-------------------------------\n",
      "Training on 87539 samples...\n",
      "Batch size: 64\n",
      "Number of batches: 1368\n"
     ]
    },
    {
     "name": "stderr",
     "output_type": "stream",
     "text": [
      "100%|██████████| 1368/1368 [06:58<00:00,  3.27it/s]\n"
     ]
    },
    {
     "name": "stdout",
     "output_type": "stream",
     "text": [
      "Training Error: \n",
      " Avg loss: 0.004453 \n",
      "\n"
     ]
    },
    {
     "name": "stderr",
     "output_type": "stream",
     "text": [
      "100%|██████████| 197/197 [00:23<00:00,  8.55it/s]\n"
     ]
    },
    {
     "name": "stdout",
     "output_type": "stream",
     "text": [
      "Validation Error: \n",
      " Avg loss: 0.004340 \n",
      "\n",
      "Learning rate (antes): 0.0005318638645048923\n",
      "Learning rate (depois): 0.0005161896741595253\n",
      "Epoch: 48\n",
      "Time: 443.76875472068787\n",
      "Learning rate: 0.0005161896741595253\n",
      "Train loss: 0.004452517580027196\n",
      "Validation loss: 0.004339553356976698\n",
      "Elapsed time: 443.76882147789\n",
      "\n",
      "epoch 49\n",
      "-------------------------------\n",
      "Training on 87539 samples...\n",
      "Batch size: 64\n",
      "Number of batches: 1368\n"
     ]
    },
    {
     "name": "stderr",
     "output_type": "stream",
     "text": [
      "100%|██████████| 1368/1368 [06:58<00:00,  3.27it/s]\n"
     ]
    },
    {
     "name": "stdout",
     "output_type": "stream",
     "text": [
      "Training Error: \n",
      " Avg loss: 0.004451 \n",
      "\n"
     ]
    },
    {
     "name": "stderr",
     "output_type": "stream",
     "text": [
      "100%|██████████| 197/197 [00:23<00:00,  8.54it/s]\n"
     ]
    },
    {
     "name": "stdout",
     "output_type": "stream",
     "text": [
      "Validation Error: \n",
      " Avg loss: 0.004304 \n",
      "\n",
      "Learning rate (antes): 0.0005161896741595253\n",
      "Learning rate (depois): 0.0005005000000000002\n",
      "Epoch: 49\n",
      "Time: 443.84426832199097\n",
      "Learning rate: 0.0005005000000000002\n",
      "Train loss: 0.004451212232213533\n",
      "Validation loss: 0.004304215752254926\n",
      "Elapsed time: 443.8443341255188\n",
      "\n",
      "epoch 50\n",
      "-------------------------------\n",
      "Training on 87539 samples...\n",
      "Batch size: 64\n",
      "Number of batches: 1368\n"
     ]
    },
    {
     "name": "stderr",
     "output_type": "stream",
     "text": [
      "100%|██████████| 1368/1368 [06:58<00:00,  3.27it/s]\n"
     ]
    },
    {
     "name": "stdout",
     "output_type": "stream",
     "text": [
      "Training Error: \n",
      " Avg loss: 0.004452 \n",
      "\n"
     ]
    },
    {
     "name": "stderr",
     "output_type": "stream",
     "text": [
      "100%|██████████| 197/197 [00:23<00:00,  8.55it/s]\n"
     ]
    },
    {
     "name": "stdout",
     "output_type": "stream",
     "text": [
      "Validation Error: \n",
      " Avg loss: 0.004302 \n",
      "\n",
      "Learning rate (antes): 0.0005005000000000002\n",
      "Learning rate (depois): 0.0004848103258404751\n",
      "Epoch: 50\n",
      "Time: 443.6344692707062\n",
      "Learning rate: 0.0004848103258404751\n",
      "Train loss: 0.004451595530511637\n",
      "Validation loss: 0.0043021524732762256\n",
      "Elapsed time: 443.63453793525696\n",
      "\n",
      "epoch 51\n",
      "-------------------------------\n",
      "Training on 87539 samples...\n",
      "Batch size: 64\n",
      "Number of batches: 1368\n"
     ]
    },
    {
     "name": "stderr",
     "output_type": "stream",
     "text": [
      "100%|██████████| 1368/1368 [06:58<00:00,  3.27it/s]\n"
     ]
    },
    {
     "name": "stdout",
     "output_type": "stream",
     "text": [
      "Training Error: \n",
      " Avg loss: 0.004450 \n",
      "\n"
     ]
    },
    {
     "name": "stderr",
     "output_type": "stream",
     "text": [
      "100%|██████████| 197/197 [00:23<00:00,  8.55it/s]\n"
     ]
    },
    {
     "name": "stdout",
     "output_type": "stream",
     "text": [
      "Validation Error: \n",
      " Avg loss: 0.004316 \n",
      "\n",
      "Learning rate (antes): 0.0004848103258404751\n",
      "Learning rate (depois): 0.0004691361354951082\n",
      "Epoch: 51\n",
      "Time: 443.5833971500397\n",
      "Learning rate: 0.0004691361354951082\n",
      "Train loss: 0.004449827595013439\n",
      "Validation loss: 0.004315995850285922\n",
      "Elapsed time: 443.5834608078003\n",
      "\n",
      "epoch 52\n",
      "-------------------------------\n",
      "Training on 87539 samples...\n",
      "Batch size: 64\n",
      "Number of batches: 1368\n"
     ]
    },
    {
     "name": "stderr",
     "output_type": "stream",
     "text": [
      "100%|██████████| 1368/1368 [06:58<00:00,  3.27it/s]\n"
     ]
    },
    {
     "name": "stdout",
     "output_type": "stream",
     "text": [
      "Training Error: \n",
      " Avg loss: 0.004450 \n",
      "\n"
     ]
    },
    {
     "name": "stderr",
     "output_type": "stream",
     "text": [
      "100%|██████████| 197/197 [00:23<00:00,  8.55it/s]\n"
     ]
    },
    {
     "name": "stdout",
     "output_type": "stream",
     "text": [
      "Validation Error: \n",
      " Avg loss: 0.004304 \n",
      "\n",
      "Learning rate (antes): 0.0004691361354951082\n",
      "Learning rate (depois): 0.00045349289749740224\n",
      "Epoch: 52\n",
      "Time: 443.61334133148193\n",
      "Learning rate: 0.00045349289749740224\n",
      "Train loss: 0.004449566002807183\n",
      "Validation loss: 0.004303715192372461\n",
      "Elapsed time: 443.6134057044983\n",
      "\n",
      "epoch 53\n",
      "-------------------------------\n",
      "Training on 87539 samples...\n",
      "Batch size: 64\n",
      "Number of batches: 1368\n"
     ]
    },
    {
     "name": "stderr",
     "output_type": "stream",
     "text": [
      "100%|██████████| 1368/1368 [06:58<00:00,  3.27it/s]\n"
     ]
    },
    {
     "name": "stdout",
     "output_type": "stream",
     "text": [
      "Training Error: \n",
      " Avg loss: 0.004449 \n",
      "\n"
     ]
    },
    {
     "name": "stderr",
     "output_type": "stream",
     "text": [
      "100%|██████████| 197/197 [00:23<00:00,  8.55it/s]\n"
     ]
    },
    {
     "name": "stdout",
     "output_type": "stream",
     "text": [
      "Validation Error: \n",
      " Avg loss: 0.004327 \n",
      "\n",
      "Learning rate (antes): 0.00045349289749740224\n",
      "Learning rate (depois): 0.0004378960498346302\n",
      "Epoch: 53\n",
      "Time: 443.66194248199463\n",
      "Learning rate: 0.0004378960498346302\n",
      "Train loss: 0.004449171108930312\n",
      "Validation loss: 0.004327121515153212\n",
      "Elapsed time: 443.66200947761536\n",
      "\n",
      "epoch 54\n",
      "-------------------------------\n",
      "Training on 87539 samples...\n",
      "Batch size: 64\n",
      "Number of batches: 1368\n"
     ]
    },
    {
     "name": "stderr",
     "output_type": "stream",
     "text": [
      "100%|██████████| 1368/1368 [06:58<00:00,  3.27it/s]\n"
     ]
    },
    {
     "name": "stdout",
     "output_type": "stream",
     "text": [
      "Training Error: \n",
      " Avg loss: 0.004449 \n",
      "\n"
     ]
    },
    {
     "name": "stderr",
     "output_type": "stream",
     "text": [
      "100%|██████████| 197/197 [00:23<00:00,  8.53it/s]\n"
     ]
    },
    {
     "name": "stdout",
     "output_type": "stream",
     "text": [
      "Validation Error: \n",
      " Avg loss: 0.004307 \n",
      "\n",
      "Learning rate (antes): 0.0004378960498346302\n",
      "Learning rate (depois): 0.0004223609847124048\n",
      "Epoch: 54\n",
      "Time: 443.80376744270325\n",
      "Learning rate: 0.0004223609847124048\n",
      "Train loss: 0.004448536562199612\n",
      "Validation loss: 0.004306971250033375\n",
      "Elapsed time: 443.8038320541382\n",
      "\n",
      "epoch 55\n",
      "-------------------------------\n",
      "Training on 87539 samples...\n",
      "Batch size: 64\n",
      "Number of batches: 1368\n"
     ]
    },
    {
     "name": "stderr",
     "output_type": "stream",
     "text": [
      "100%|██████████| 1368/1368 [06:58<00:00,  3.27it/s]\n"
     ]
    },
    {
     "name": "stdout",
     "output_type": "stream",
     "text": [
      "Training Error: \n",
      " Avg loss: 0.004449 \n",
      "\n"
     ]
    },
    {
     "name": "stderr",
     "output_type": "stream",
     "text": [
      "100%|██████████| 197/197 [00:23<00:00,  8.55it/s]\n"
     ]
    },
    {
     "name": "stdout",
     "output_type": "stream",
     "text": [
      "Validation Error: \n",
      " Avg loss: 0.004303 \n",
      "\n",
      "Learning rate (antes): 0.0004223609847124048\n",
      "Learning rate (depois): 0.0004069030333644307\n",
      "Epoch: 55\n",
      "Time: 443.7245831489563\n",
      "Learning rate: 0.0004069030333644307\n",
      "Train loss: 0.004448645724540533\n",
      "Validation loss: 0.004302997366633966\n",
      "Elapsed time: 443.7246491909027\n",
      "\n",
      "epoch 56\n",
      "-------------------------------\n",
      "Training on 87539 samples...\n",
      "Batch size: 64\n",
      "Number of batches: 1368\n"
     ]
    },
    {
     "name": "stderr",
     "output_type": "stream",
     "text": [
      "100%|██████████| 1368/1368 [06:58<00:00,  3.27it/s]\n"
     ]
    },
    {
     "name": "stdout",
     "output_type": "stream",
     "text": [
      "Training Error: \n",
      " Avg loss: 0.004448 \n",
      "\n"
     ]
    },
    {
     "name": "stderr",
     "output_type": "stream",
     "text": [
      "100%|██████████| 197/197 [00:23<00:00,  8.54it/s]\n"
     ]
    },
    {
     "name": "stdout",
     "output_type": "stream",
     "text": [
      "Validation Error: \n",
      " Avg loss: 0.004319 \n",
      "\n",
      "Learning rate (antes): 0.0004069030333644307\n",
      "Learning rate (depois): 0.0003915374509224273\n",
      "Epoch: 56\n",
      "Time: 443.73389649391174\n",
      "Learning rate: 0.0003915374509224273\n",
      "Train loss: 0.004447678610041182\n",
      "Validation loss: 0.004319192317780107\n",
      "Elapsed time: 443.7339656352997\n",
      "\n",
      "epoch 57\n",
      "-------------------------------\n",
      "Training on 87539 samples...\n",
      "Batch size: 64\n",
      "Number of batches: 1368\n"
     ]
    },
    {
     "name": "stderr",
     "output_type": "stream",
     "text": [
      "100%|██████████| 1368/1368 [06:58<00:00,  3.27it/s]\n"
     ]
    },
    {
     "name": "stdout",
     "output_type": "stream",
     "text": [
      "Training Error: \n",
      " Avg loss: 0.004447 \n",
      "\n"
     ]
    },
    {
     "name": "stderr",
     "output_type": "stream",
     "text": [
      "100%|██████████| 197/197 [00:23<00:00,  8.54it/s]\n"
     ]
    },
    {
     "name": "stdout",
     "output_type": "stream",
     "text": [
      "Validation Error: \n",
      " Avg loss: 0.004309 \n",
      "\n",
      "Learning rate (antes): 0.0003915374509224273\n",
      "Learning rate (depois): 0.0003762794013611551\n",
      "Epoch: 57\n",
      "Time: 443.69003033638\n",
      "Learning rate: 0.0003762794013611551\n",
      "Train loss: 0.004447253239177691\n",
      "Validation loss: 0.004309279941965538\n",
      "Elapsed time: 443.6900954246521\n",
      "\n",
      "epoch 58\n",
      "-------------------------------\n",
      "Training on 87539 samples...\n",
      "Batch size: 64\n",
      "Number of batches: 1368\n"
     ]
    },
    {
     "name": "stderr",
     "output_type": "stream",
     "text": [
      "100%|██████████| 1368/1368 [06:58<00:00,  3.27it/s]\n"
     ]
    },
    {
     "name": "stdout",
     "output_type": "stream",
     "text": [
      "Training Error: \n",
      " Avg loss: 0.004447 \n",
      "\n"
     ]
    },
    {
     "name": "stderr",
     "output_type": "stream",
     "text": [
      "100%|██████████| 197/197 [00:23<00:00,  8.54it/s]\n"
     ]
    },
    {
     "name": "stdout",
     "output_type": "stream",
     "text": [
      "Validation Error: \n",
      " Avg loss: 0.004307 \n",
      "\n",
      "Learning rate (antes): 0.0003762794013611551\n",
      "Learning rate (depois): 0.00036114394253340513\n",
      "Epoch: 58\n",
      "Time: 443.65803360939026\n",
      "Learning rate: 0.00036114394253340513\n",
      "Train loss: 0.004446870466110117\n",
      "Validation loss: 0.004306928346259756\n",
      "Elapsed time: 443.6580979824066\n",
      "\n",
      "epoch 59\n",
      "-------------------------------\n",
      "Training on 87539 samples...\n",
      "Batch size: 64\n",
      "Number of batches: 1368\n"
     ]
    },
    {
     "name": "stderr",
     "output_type": "stream",
     "text": [
      "100%|██████████| 1368/1368 [06:58<00:00,  3.27it/s]\n"
     ]
    },
    {
     "name": "stdout",
     "output_type": "stream",
     "text": [
      "Training Error: \n",
      " Avg loss: 0.004446 \n",
      "\n"
     ]
    },
    {
     "name": "stderr",
     "output_type": "stream",
     "text": [
      "100%|██████████| 197/197 [00:23<00:00,  8.54it/s]\n"
     ]
    },
    {
     "name": "stdout",
     "output_type": "stream",
     "text": [
      "Validation Error: \n",
      " Avg loss: 0.004313 \n",
      "\n",
      "Learning rate (antes): 0.00036114394253340513\n",
      "Learning rate (depois): 0.000346146011309714\n",
      "Epoch: 59\n",
      "Time: 443.7289102077484\n",
      "Learning rate: 0.000346146011309714\n",
      "Train loss: 0.004446497899806944\n",
      "Validation loss: 0.004312523788427414\n",
      "Elapsed time: 443.7289731502533\n",
      "\n",
      "epoch 60\n",
      "-------------------------------\n",
      "Training on 87539 samples...\n",
      "Batch size: 64\n",
      "Number of batches: 1368\n"
     ]
    },
    {
     "name": "stderr",
     "output_type": "stream",
     "text": [
      "100%|██████████| 1368/1368 [06:58<00:00,  3.27it/s]\n"
     ]
    },
    {
     "name": "stdout",
     "output_type": "stream",
     "text": [
      "Training Error: \n",
      " Avg loss: 0.004445 \n",
      "\n"
     ]
    },
    {
     "name": "stderr",
     "output_type": "stream",
     "text": [
      "100%|██████████| 197/197 [00:23<00:00,  8.54it/s]\n"
     ]
    },
    {
     "name": "stdout",
     "output_type": "stream",
     "text": [
      "Validation Error: \n",
      " Avg loss: 0.004300 \n",
      "\n",
      "Learning rate (antes): 0.000346146011309714\n",
      "Learning rate (depois): 0.00033130040883747703\n",
      "Epoch: 60\n",
      "Time: 443.794260263443\n",
      "Learning rate: 0.00033130040883747703\n",
      "Train loss: 0.004445357662789\n",
      "Validation loss: 0.004299987584699966\n",
      "Elapsed time: 443.79432487487793\n",
      "\n",
      "epoch 61\n",
      "-------------------------------\n",
      "Training on 87539 samples...\n",
      "Batch size: 64\n",
      "Number of batches: 1368\n"
     ]
    },
    {
     "name": "stderr",
     "output_type": "stream",
     "text": [
      "100%|██████████| 1368/1368 [06:58<00:00,  3.27it/s]\n"
     ]
    },
    {
     "name": "stdout",
     "output_type": "stream",
     "text": [
      "Training Error: \n",
      " Avg loss: 0.004445 \n",
      "\n"
     ]
    },
    {
     "name": "stderr",
     "output_type": "stream",
     "text": [
      "100%|██████████| 197/197 [00:23<00:00,  8.54it/s]\n"
     ]
    },
    {
     "name": "stdout",
     "output_type": "stream",
     "text": [
      "Validation Error: \n",
      " Avg loss: 0.004312 \n",
      "\n",
      "Learning rate (antes): 0.00033130040883747703\n",
      "Learning rate (depois): 0.0003166217859340036\n",
      "Epoch: 61\n",
      "Time: 443.73811507225037\n",
      "Learning rate: 0.0003166217859340036\n",
      "Train loss: 0.004445322295848269\n",
      "Validation loss: 0.004312486121274985\n",
      "Elapsed time: 443.7381799221039\n",
      "\n",
      "epoch 62\n",
      "-------------------------------\n",
      "Training on 87539 samples...\n",
      "Batch size: 64\n",
      "Number of batches: 1368\n"
     ]
    },
    {
     "name": "stderr",
     "output_type": "stream",
     "text": [
      "100%|██████████| 1368/1368 [06:58<00:00,  3.27it/s]\n"
     ]
    },
    {
     "name": "stdout",
     "output_type": "stream",
     "text": [
      "Training Error: \n",
      " Avg loss: 0.004445 \n",
      "\n"
     ]
    },
    {
     "name": "stderr",
     "output_type": "stream",
     "text": [
      "100%|██████████| 197/197 [00:23<00:00,  8.55it/s]\n"
     ]
    },
    {
     "name": "stdout",
     "output_type": "stream",
     "text": [
      "Validation Error: \n",
      " Avg loss: 0.004306 \n",
      "\n",
      "Learning rate (antes): 0.0003166217859340036\n",
      "Learning rate (depois): 0.0003021246286279271\n",
      "Epoch: 62\n",
      "Time: 443.6985824108124\n",
      "Learning rate: 0.0003021246286279271\n",
      "Train loss: 0.004445048497733796\n",
      "Validation loss: 0.0043059274288920245\n",
      "Elapsed time: 443.6986458301544\n",
      "\n",
      "epoch 63\n",
      "-------------------------------\n",
      "Training on 87539 samples...\n",
      "Batch size: 64\n",
      "Number of batches: 1368\n"
     ]
    },
    {
     "name": "stderr",
     "output_type": "stream",
     "text": [
      "100%|██████████| 1368/1368 [06:58<00:00,  3.27it/s]\n"
     ]
    },
    {
     "name": "stdout",
     "output_type": "stream",
     "text": [
      "Training Error: \n",
      " Avg loss: 0.004444 \n",
      "\n"
     ]
    },
    {
     "name": "stderr",
     "output_type": "stream",
     "text": [
      "100%|██████████| 197/197 [00:23<00:00,  8.54it/s]\n"
     ]
    },
    {
     "name": "stdout",
     "output_type": "stream",
     "text": [
      "Validation Error: \n",
      " Avg loss: 0.004301 \n",
      "\n",
      "Learning rate (antes): 0.0003021246286279271\n",
      "Learning rate (depois): 0.00028782324386324626\n",
      "Epoch: 63\n",
      "Time: 443.6048114299774\n",
      "Learning rate: 0.00028782324386324626\n",
      "Train loss: 0.004443856534529042\n",
      "Validation loss: 0.00430086510064468\n",
      "Elapsed time: 443.6048755645752\n",
      "\n",
      "epoch 64\n",
      "-------------------------------\n",
      "Training on 87539 samples...\n",
      "Batch size: 64\n",
      "Number of batches: 1368\n"
     ]
    },
    {
     "name": "stderr",
     "output_type": "stream",
     "text": [
      "100%|██████████| 1368/1368 [06:58<00:00,  3.27it/s]\n"
     ]
    },
    {
     "name": "stdout",
     "output_type": "stream",
     "text": [
      "Training Error: \n",
      " Avg loss: 0.004444 \n",
      "\n"
     ]
    },
    {
     "name": "stderr",
     "output_type": "stream",
     "text": [
      "100%|██████████| 197/197 [00:23<00:00,  8.55it/s]\n"
     ]
    },
    {
     "name": "stdout",
     "output_type": "stream",
     "text": [
      "Validation Error: \n",
      " Avg loss: 0.004305 \n",
      "\n",
      "Learning rate (antes): 0.00028782324386324626\n",
      "Learning rate (depois): 0.00027373174538009644\n",
      "Epoch: 64\n",
      "Time: 443.6416871547699\n",
      "Learning rate: 0.00027373174538009644\n",
      "Train loss: 0.00444420659029584\n",
      "Validation loss: 0.004305144092942669\n",
      "Elapsed time: 443.64175391197205\n",
      "\n",
      "epoch 65\n",
      "-------------------------------\n",
      "Training on 87539 samples...\n",
      "Batch size: 64\n",
      "Number of batches: 1368\n"
     ]
    },
    {
     "name": "stderr",
     "output_type": "stream",
     "text": [
      "100%|██████████| 1368/1368 [06:57<00:00,  3.27it/s]\n"
     ]
    },
    {
     "name": "stdout",
     "output_type": "stream",
     "text": [
      "Training Error: \n",
      " Avg loss: 0.004443 \n",
      "\n"
     ]
    },
    {
     "name": "stderr",
     "output_type": "stream",
     "text": [
      "100%|██████████| 197/197 [00:23<00:00,  8.54it/s]\n"
     ]
    },
    {
     "name": "stdout",
     "output_type": "stream",
     "text": [
      "Validation Error: \n",
      " Avg loss: 0.004309 \n",
      "\n",
      "Learning rate (antes): 0.00027373174538009644\n",
      "Learning rate (depois): 0.00025986403978619317\n",
      "Epoch: 65\n",
      "Time: 443.5500798225403\n",
      "Learning rate: 0.00025986403978619317\n",
      "Train loss: 0.0044434672816042456\n",
      "Validation loss: 0.0043089887042184775\n",
      "Elapsed time: 443.55014657974243\n",
      "\n",
      "epoch 66\n",
      "-------------------------------\n",
      "Training on 87539 samples...\n",
      "Batch size: 64\n",
      "Number of batches: 1368\n"
     ]
    },
    {
     "name": "stderr",
     "output_type": "stream",
     "text": [
      "100%|██████████| 1368/1368 [06:58<00:00,  3.27it/s]\n"
     ]
    },
    {
     "name": "stdout",
     "output_type": "stream",
     "text": [
      "Training Error: \n",
      " Avg loss: 0.004444 \n",
      "\n"
     ]
    },
    {
     "name": "stderr",
     "output_type": "stream",
     "text": [
      "100%|██████████| 197/197 [00:23<00:00,  8.54it/s]\n"
     ]
    },
    {
     "name": "stdout",
     "output_type": "stream",
     "text": [
      "Validation Error: \n",
      " Avg loss: 0.004315 \n",
      "\n",
      "Learning rate (antes): 0.00025986403978619317\n",
      "Learning rate (depois): 0.00024623381283268956\n",
      "Epoch: 66\n",
      "Time: 443.6113736629486\n",
      "Learning rate: 0.00024623381283268956\n",
      "Train loss: 0.0044435401570000164\n",
      "Validation loss: 0.004315247671468288\n",
      "Elapsed time: 443.6114571094513\n",
      "\n",
      "epoch 67\n",
      "-------------------------------\n",
      "Training on 87539 samples...\n",
      "Batch size: 64\n",
      "Number of batches: 1368\n"
     ]
    },
    {
     "name": "stderr",
     "output_type": "stream",
     "text": [
      "100%|██████████| 1368/1368 [06:57<00:00,  3.27it/s]\n"
     ]
    },
    {
     "name": "stdout",
     "output_type": "stream",
     "text": [
      "Training Error: \n",
      " Avg loss: 0.004443 \n",
      "\n"
     ]
    },
    {
     "name": "stderr",
     "output_type": "stream",
     "text": [
      "100%|██████████| 197/197 [00:23<00:00,  8.54it/s]\n"
     ]
    },
    {
     "name": "stdout",
     "output_type": "stream",
     "text": [
      "Validation Error: \n",
      " Avg loss: 0.004302 \n",
      "\n",
      "Learning rate (antes): 0.00024623381283268956\n",
      "Learning rate (depois): 0.00023285451590799108\n",
      "Epoch: 67\n",
      "Time: 443.56347465515137\n",
      "Learning rate: 0.00023285451590799108\n",
      "Train loss: 0.004443274095568708\n",
      "Validation loss: 0.004302100143407183\n",
      "Elapsed time: 443.5635402202606\n",
      "\n",
      "epoch 68\n",
      "-------------------------------\n",
      "Training on 87539 samples...\n",
      "Batch size: 64\n",
      "Number of batches: 1368\n"
     ]
    },
    {
     "name": "stderr",
     "output_type": "stream",
     "text": [
      "100%|██████████| 1368/1368 [06:57<00:00,  3.27it/s]\n"
     ]
    },
    {
     "name": "stdout",
     "output_type": "stream",
     "text": [
      "Training Error: \n",
      " Avg loss: 0.004443 \n",
      "\n"
     ]
    },
    {
     "name": "stderr",
     "output_type": "stream",
     "text": [
      "100%|██████████| 197/197 [00:23<00:00,  8.55it/s]\n"
     ]
    },
    {
     "name": "stdout",
     "output_type": "stream",
     "text": [
      "Validation Error: \n",
      " Avg loss: 0.004299 \n",
      "\n",
      "Learning rate (antes): 0.00023285451590799108\n",
      "Learning rate (depois): 0.00021973935276286074\n",
      "Epoch: 68\n",
      "Time: 443.5245645046234\n",
      "Learning rate: 0.00021973935276286074\n",
      "Train loss: 0.004442536374227258\n",
      "Validation loss: 0.0042993197584557845\n",
      "Elapsed time: 443.5246329307556\n",
      "\n",
      "epoch 69\n",
      "-------------------------------\n",
      "Training on 87539 samples...\n",
      "Batch size: 64\n",
      "Number of batches: 1368\n"
     ]
    },
    {
     "name": "stderr",
     "output_type": "stream",
     "text": [
      "100%|██████████| 1368/1368 [06:57<00:00,  3.27it/s]\n"
     ]
    },
    {
     "name": "stdout",
     "output_type": "stream",
     "text": [
      "Training Error: \n",
      " Avg loss: 0.004442 \n",
      "\n"
     ]
    },
    {
     "name": "stderr",
     "output_type": "stream",
     "text": [
      "100%|██████████| 197/197 [00:23<00:00,  8.55it/s]\n"
     ]
    },
    {
     "name": "stdout",
     "output_type": "stream",
     "text": [
      "Validation Error: \n",
      " Avg loss: 0.004300 \n",
      "\n",
      "Learning rate (antes): 0.00021973935276286074\n",
      "Learning rate (depois): 0.00020690126647990976\n",
      "Epoch: 69\n",
      "Time: 443.50143814086914\n",
      "Learning rate: 0.00020690126647990976\n",
      "Train loss: 0.004442229734567588\n",
      "Validation loss: 0.0042998397455144164\n",
      "Elapsed time: 443.5015079975128\n",
      "\n",
      "epoch 70\n",
      "-------------------------------\n",
      "Training on 87539 samples...\n",
      "Batch size: 64\n",
      "Number of batches: 1368\n"
     ]
    },
    {
     "name": "stderr",
     "output_type": "stream",
     "text": [
      "100%|██████████| 1368/1368 [06:57<00:00,  3.27it/s]\n"
     ]
    },
    {
     "name": "stdout",
     "output_type": "stream",
     "text": [
      "Training Error: \n",
      " Avg loss: 0.004442 \n",
      "\n"
     ]
    },
    {
     "name": "stderr",
     "output_type": "stream",
     "text": [
      "100%|██████████| 197/197 [00:23<00:00,  8.54it/s]\n"
     ]
    },
    {
     "name": "stdout",
     "output_type": "stream",
     "text": [
      "Validation Error: \n",
      " Avg loss: 0.004297 \n",
      "\n",
      "Learning rate (antes): 0.00020690126647990976\n",
      "Learning rate (depois): 0.00019435292670033822\n",
      "Epoch: 70\n",
      "Time: 443.462708234787\n",
      "Learning rate: 0.00019435292670033822\n",
      "Train loss: 0.004441697633320096\n",
      "Validation loss: 0.004296918392836159\n",
      "Elapsed time: 443.4627728462219\n",
      "\n",
      "epoch 71\n",
      "-------------------------------\n",
      "Training on 87539 samples...\n",
      "Batch size: 64\n",
      "Number of batches: 1368\n"
     ]
    },
    {
     "name": "stderr",
     "output_type": "stream",
     "text": [
      "100%|██████████| 1368/1368 [06:58<00:00,  3.27it/s]\n"
     ]
    },
    {
     "name": "stdout",
     "output_type": "stream",
     "text": [
      "Training Error: \n",
      " Avg loss: 0.004442 \n",
      "\n"
     ]
    },
    {
     "name": "stderr",
     "output_type": "stream",
     "text": [
      "100%|██████████| 197/197 [00:23<00:00,  8.55it/s]\n"
     ]
    },
    {
     "name": "stdout",
     "output_type": "stream",
     "text": [
      "Validation Error: \n",
      " Avg loss: 0.004298 \n",
      "\n",
      "Learning rate (antes): 0.00019435292670033822\n",
      "Learning rate (depois): 0.0001821067171205295\n",
      "Epoch: 71\n",
      "Time: 443.56574296951294\n",
      "Learning rate: 0.0001821067171205295\n",
      "Train loss: 0.004441562456750088\n",
      "Validation loss: 0.004298446230769989\n",
      "Elapsed time: 443.5658085346222\n",
      "\n",
      "epoch 72\n",
      "-------------------------------\n",
      "Training on 87539 samples...\n",
      "Batch size: 64\n",
      "Number of batches: 1368\n"
     ]
    },
    {
     "name": "stderr",
     "output_type": "stream",
     "text": [
      "100%|██████████| 1368/1368 [06:57<00:00,  3.27it/s]\n"
     ]
    },
    {
     "name": "stdout",
     "output_type": "stream",
     "text": [
      "Training Error: \n",
      " Avg loss: 0.004441 \n",
      "\n"
     ]
    },
    {
     "name": "stderr",
     "output_type": "stream",
     "text": [
      "100%|██████████| 197/197 [00:23<00:00,  8.54it/s]\n"
     ]
    },
    {
     "name": "stdout",
     "output_type": "stream",
     "text": [
      "Validation Error: \n",
      " Avg loss: 0.004298 \n",
      "\n",
      "Learning rate (antes): 0.0001821067171205295\n",
      "Learning rate (depois): 0.000170174723270836\n",
      "Epoch: 72\n",
      "Time: 443.5752170085907\n",
      "Learning rate: 0.000170174723270836\n",
      "Train loss: 0.004441412967563013\n",
      "Validation loss: 0.004298120632183828\n",
      "Elapsed time: 443.57528853416443\n",
      "\n",
      "epoch 73\n",
      "-------------------------------\n",
      "Training on 87539 samples...\n",
      "Batch size: 64\n",
      "Number of batches: 1368\n"
     ]
    },
    {
     "name": "stderr",
     "output_type": "stream",
     "text": [
      "100%|██████████| 1368/1368 [06:57<00:00,  3.27it/s]\n"
     ]
    },
    {
     "name": "stdout",
     "output_type": "stream",
     "text": [
      "Training Error: \n",
      " Avg loss: 0.004441 \n",
      "\n"
     ]
    },
    {
     "name": "stderr",
     "output_type": "stream",
     "text": [
      "100%|██████████| 197/197 [00:23<00:00,  8.54it/s]\n"
     ]
    },
    {
     "name": "stdout",
     "output_type": "stream",
     "text": [
      "Validation Error: \n",
      " Avg loss: 0.004303 \n",
      "\n",
      "Learning rate (antes): 0.000170174723270836\n",
      "Learning rate (depois): 0.00015856872058862001\n",
      "Epoch: 73\n",
      "Time: 443.5542495250702\n",
      "Learning rate: 0.00015856872058862001\n",
      "Train loss: 0.004441014183814534\n",
      "Validation loss: 0.004302847469792829\n",
      "Elapsed time: 443.5543143749237\n",
      "\n",
      "epoch 74\n",
      "-------------------------------\n",
      "Training on 87539 samples...\n",
      "Batch size: 64\n",
      "Number of batches: 1368\n"
     ]
    },
    {
     "name": "stderr",
     "output_type": "stream",
     "text": [
      "100%|██████████| 1368/1368 [06:57<00:00,  3.27it/s]\n"
     ]
    },
    {
     "name": "stdout",
     "output_type": "stream",
     "text": [
      "Training Error: \n",
      " Avg loss: 0.004441 \n",
      "\n"
     ]
    },
    {
     "name": "stderr",
     "output_type": "stream",
     "text": [
      "100%|██████████| 197/197 [00:23<00:00,  8.55it/s]\n"
     ]
    },
    {
     "name": "stdout",
     "output_type": "stream",
     "text": [
      "Validation Error: \n",
      " Avg loss: 0.004299 \n",
      "\n",
      "Learning rate (antes): 0.00015856872058862001\n",
      "Learning rate (depois): 0.00014730016279731957\n",
      "Epoch: 74\n",
      "Time: 443.369078874588\n",
      "Learning rate: 0.00014730016279731957\n",
      "Train loss: 0.00444090766396526\n",
      "Validation loss: 0.004298553043305117\n",
      "Elapsed time: 443.36914253234863\n",
      "\n",
      "epoch 75\n",
      "-------------------------------\n",
      "Training on 87539 samples...\n",
      "Batch size: 64\n",
      "Number of batches: 1368\n"
     ]
    },
    {
     "name": "stderr",
     "output_type": "stream",
     "text": [
      "100%|██████████| 1368/1368 [06:57<00:00,  3.28it/s]\n"
     ]
    },
    {
     "name": "stdout",
     "output_type": "stream",
     "text": [
      "Training Error: \n",
      " Avg loss: 0.004440 \n",
      "\n"
     ]
    },
    {
     "name": "stderr",
     "output_type": "stream",
     "text": [
      "100%|██████████| 197/197 [00:23<00:00,  8.55it/s]\n"
     ]
    },
    {
     "name": "stdout",
     "output_type": "stream",
     "text": [
      "Validation Error: \n",
      " Avg loss: 0.004304 \n",
      "\n",
      "Learning rate (antes): 0.00014730016279731957\n",
      "Learning rate (depois): 0.00013638017060300508\n",
      "Epoch: 75\n",
      "Time: 443.14927530288696\n",
      "Learning rate: 0.00013638017060300508\n",
      "Train loss: 0.004440433964404218\n",
      "Validation loss: 0.004303940367379089\n",
      "Elapsed time: 443.14933943748474\n",
      "\n",
      "epoch 76\n",
      "-------------------------------\n",
      "Training on 87539 samples...\n",
      "Batch size: 64\n",
      "Number of batches: 1368\n"
     ]
    },
    {
     "name": "stderr",
     "output_type": "stream",
     "text": [
      "100%|██████████| 1368/1368 [06:57<00:00,  3.28it/s]\n"
     ]
    },
    {
     "name": "stdout",
     "output_type": "stream",
     "text": [
      "Training Error: \n",
      " Avg loss: 0.004441 \n",
      "\n"
     ]
    },
    {
     "name": "stderr",
     "output_type": "stream",
     "text": [
      "100%|██████████| 197/197 [00:23<00:00,  8.54it/s]\n"
     ]
    },
    {
     "name": "stdout",
     "output_type": "stream",
     "text": [
      "Validation Error: \n",
      " Avg loss: 0.004299 \n",
      "\n",
      "Learning rate (antes): 0.00013638017060300508\n",
      "Learning rate (depois): 0.00012581952071958545\n",
      "Epoch: 76\n",
      "Time: 443.0954270362854\n",
      "Learning rate: 0.00012581952071958545\n",
      "Train loss: 0.004440554585314644\n",
      "Validation loss: 0.004298566579984189\n",
      "Elapsed time: 443.0954933166504\n",
      "\n",
      "epoch 77\n",
      "-------------------------------\n",
      "Training on 87539 samples...\n",
      "Batch size: 64\n",
      "Number of batches: 1368\n"
     ]
    },
    {
     "name": "stderr",
     "output_type": "stream",
     "text": [
      "100%|██████████| 1368/1368 [06:57<00:00,  3.27it/s]\n"
     ]
    },
    {
     "name": "stdout",
     "output_type": "stream",
     "text": [
      "Training Error: \n",
      " Avg loss: 0.004441 \n",
      "\n"
     ]
    },
    {
     "name": "stderr",
     "output_type": "stream",
     "text": [
      "100%|██████████| 197/197 [00:23<00:00,  8.55it/s]\n"
     ]
    },
    {
     "name": "stdout",
     "output_type": "stream",
     "text": [
      "Validation Error: \n",
      " Avg loss: 0.004297 \n",
      "\n",
      "Learning rate (antes): 0.00012581952071958545\n",
      "Learning rate (depois): 0.00011562863523349334\n",
      "Epoch: 77\n",
      "Time: 443.3663008213043\n",
      "Learning rate: 0.00011562863523349334\n",
      "Train loss: 0.00444052334703309\n",
      "Validation loss: 0.00429682140498597\n",
      "Elapsed time: 443.3663663864136\n",
      "\n",
      "epoch 78\n",
      "-------------------------------\n",
      "Training on 87539 samples...\n",
      "Batch size: 64\n",
      "Number of batches: 1368\n"
     ]
    },
    {
     "name": "stderr",
     "output_type": "stream",
     "text": [
      "100%|██████████| 1368/1368 [06:57<00:00,  3.28it/s]\n"
     ]
    },
    {
     "name": "stdout",
     "output_type": "stream",
     "text": [
      "Training Error: \n",
      " Avg loss: 0.004440 \n",
      "\n"
     ]
    },
    {
     "name": "stderr",
     "output_type": "stream",
     "text": [
      "100%|██████████| 197/197 [00:23<00:00,  8.55it/s]\n"
     ]
    },
    {
     "name": "stdout",
     "output_type": "stream",
     "text": [
      "Validation Error: \n",
      " Avg loss: 0.004297 \n",
      "\n",
      "Learning rate (antes): 0.00011562863523349334\n",
      "Learning rate (depois): 0.00010581757131834266\n",
      "Epoch: 78\n",
      "Time: 443.0763714313507\n",
      "Learning rate: 0.00010581757131834266\n",
      "Train loss: 0.004439921424845342\n",
      "Validation loss: 0.004297409542874069\n",
      "Elapsed time: 443.0764362812042\n",
      "\n",
      "epoch 79\n",
      "-------------------------------\n",
      "Training on 87539 samples...\n",
      "Batch size: 64\n",
      "Number of batches: 1368\n"
     ]
    },
    {
     "name": "stderr",
     "output_type": "stream",
     "text": [
      "100%|██████████| 1368/1368 [06:57<00:00,  3.28it/s]\n"
     ]
    },
    {
     "name": "stdout",
     "output_type": "stream",
     "text": [
      "Training Error: \n",
      " Avg loss: 0.004440 \n",
      "\n"
     ]
    },
    {
     "name": "stderr",
     "output_type": "stream",
     "text": [
      "100%|██████████| 197/197 [00:23<00:00,  8.55it/s]\n"
     ]
    },
    {
     "name": "stdout",
     "output_type": "stream",
     "text": [
      "Validation Error: \n",
      " Avg loss: 0.004299 \n",
      "\n",
      "Learning rate (antes): 0.00010581757131834266\n",
      "Learning rate (depois): 9.639601130971382e-05\n",
      "Epoch: 79\n",
      "Time: 443.2110893726349\n",
      "Learning rate: 9.639601130971382e-05\n",
      "Train loss: 0.0044399464980505775\n",
      "Validation loss: 0.004298584273340285\n",
      "Elapsed time: 443.21117758750916\n",
      "\n",
      "epoch 80\n",
      "-------------------------------\n",
      "Training on 87539 samples...\n",
      "Batch size: 64\n",
      "Number of batches: 1368\n"
     ]
    },
    {
     "name": "stderr",
     "output_type": "stream",
     "text": [
      "100%|██████████| 1368/1368 [06:57<00:00,  3.28it/s]\n"
     ]
    },
    {
     "name": "stdout",
     "output_type": "stream",
     "text": [
      "Training Error: \n",
      " Avg loss: 0.004439 \n",
      "\n"
     ]
    },
    {
     "name": "stderr",
     "output_type": "stream",
     "text": [
      "100%|██████████| 197/197 [00:23<00:00,  8.54it/s]\n"
     ]
    },
    {
     "name": "stdout",
     "output_type": "stream",
     "text": [
      "Validation Error: \n",
      " Avg loss: 0.004300 \n",
      "\n",
      "Learning rate (antes): 9.639601130971382e-05\n",
      "Learning rate (depois): 8.737325314985643e-05\n",
      "Epoch: 80\n",
      "Time: 443.1566722393036\n",
      "Learning rate: 8.737325314985643e-05\n",
      "Train loss: 0.004439486413295462\n",
      "Validation loss: 0.0043001030426978275\n",
      "Elapsed time: 443.15673780441284\n",
      "\n",
      "epoch 81\n",
      "-------------------------------\n",
      "Training on 87539 samples...\n",
      "Batch size: 64\n",
      "Number of batches: 1368\n"
     ]
    },
    {
     "name": "stderr",
     "output_type": "stream",
     "text": [
      "100%|██████████| 1368/1368 [06:57<00:00,  3.28it/s]\n"
     ]
    },
    {
     "name": "stdout",
     "output_type": "stream",
     "text": [
      "Training Error: \n",
      " Avg loss: 0.004440 \n",
      "\n"
     ]
    },
    {
     "name": "stderr",
     "output_type": "stream",
     "text": [
      "100%|██████████| 197/197 [00:23<00:00,  8.54it/s]\n"
     ]
    },
    {
     "name": "stdout",
     "output_type": "stream",
     "text": [
      "Validation Error: \n",
      " Avg loss: 0.004300 \n",
      "\n",
      "Learning rate (antes): 8.737325314985643e-05\n",
      "Learning rate (depois): 7.875820121174359e-05\n",
      "Epoch: 81\n",
      "Time: 443.1661536693573\n",
      "Learning rate: 7.875820121174359e-05\n",
      "Train loss: 0.00443956178472764\n",
      "Validation loss: 0.004300221825919119\n",
      "Elapsed time: 443.16621947288513\n",
      "\n",
      "epoch 82\n",
      "-------------------------------\n",
      "Training on 87539 samples...\n",
      "Batch size: 64\n",
      "Number of batches: 1368\n"
     ]
    },
    {
     "name": "stderr",
     "output_type": "stream",
     "text": [
      "100%|██████████| 1368/1368 [06:57<00:00,  3.28it/s]\n"
     ]
    },
    {
     "name": "stdout",
     "output_type": "stream",
     "text": [
      "Training Error: \n",
      " Avg loss: 0.004440 \n",
      "\n"
     ]
    },
    {
     "name": "stderr",
     "output_type": "stream",
     "text": [
      "100%|██████████| 197/197 [00:23<00:00,  8.55it/s]\n"
     ]
    },
    {
     "name": "stdout",
     "output_type": "stream",
     "text": [
      "Validation Error: \n",
      " Avg loss: 0.004297 \n",
      "\n",
      "Learning rate (antes): 7.875820121174359e-05\n",
      "Learning rate (depois): 7.05593575115301e-05\n",
      "Epoch: 82\n",
      "Time: 442.9460928440094\n",
      "Learning rate: 7.05593575115301e-05\n",
      "Train loss: 0.0044395458722508874\n",
      "Validation loss: 0.004297083967039125\n",
      "Elapsed time: 442.94615864753723\n",
      "\n",
      "epoch 83\n",
      "-------------------------------\n",
      "Training on 87539 samples...\n",
      "Batch size: 64\n",
      "Number of batches: 1368\n"
     ]
    },
    {
     "name": "stderr",
     "output_type": "stream",
     "text": [
      "100%|██████████| 1368/1368 [06:57<00:00,  3.28it/s]\n"
     ]
    },
    {
     "name": "stdout",
     "output_type": "stream",
     "text": [
      "Training Error: \n",
      " Avg loss: 0.004439 \n",
      "\n"
     ]
    },
    {
     "name": "stderr",
     "output_type": "stream",
     "text": [
      "100%|██████████| 197/197 [00:23<00:00,  8.55it/s]\n"
     ]
    },
    {
     "name": "stdout",
     "output_type": "stream",
     "text": [
      "Validation Error: \n",
      " Avg loss: 0.004298 \n",
      "\n",
      "Learning rate (antes): 7.05593575115301e-05\n",
      "Learning rate (depois): 6.278481331809015e-05\n",
      "Epoch: 83\n",
      "Time: 442.88335943222046\n",
      "Learning rate: 6.278481331809015e-05\n",
      "Train loss: 0.004438756174531803\n",
      "Validation loss: 0.0042976173979991355\n",
      "Elapsed time: 442.88343954086304\n",
      "\n",
      "epoch 84\n",
      "-------------------------------\n",
      "Training on 87539 samples...\n",
      "Batch size: 64\n",
      "Number of batches: 1368\n"
     ]
    },
    {
     "name": "stderr",
     "output_type": "stream",
     "text": [
      "100%|██████████| 1368/1368 [06:57<00:00,  3.28it/s]\n"
     ]
    },
    {
     "name": "stdout",
     "output_type": "stream",
     "text": [
      "Training Error: \n",
      " Avg loss: 0.004439 \n",
      "\n"
     ]
    },
    {
     "name": "stderr",
     "output_type": "stream",
     "text": [
      "100%|██████████| 197/197 [00:23<00:00,  8.55it/s]\n"
     ]
    },
    {
     "name": "stdout",
     "output_type": "stream",
     "text": [
      "Validation Error: \n",
      " Avg loss: 0.004297 \n",
      "\n",
      "Learning rate (antes): 6.278481331809015e-05\n",
      "Learning rate (depois): 5.54422411679103e-05\n",
      "Epoch: 84\n",
      "Time: 442.99445629119873\n",
      "Learning rate: 5.54422411679103e-05\n",
      "Train loss: 0.0044391076296652334\n",
      "Validation loss: 0.004296941056299179\n",
      "Elapsed time: 442.99452233314514\n",
      "\n",
      "epoch 85\n",
      "-------------------------------\n",
      "Training on 87539 samples...\n",
      "Batch size: 64\n",
      "Number of batches: 1368\n"
     ]
    },
    {
     "name": "stderr",
     "output_type": "stream",
     "text": [
      "100%|██████████| 1368/1368 [06:57<00:00,  3.28it/s]\n"
     ]
    },
    {
     "name": "stdout",
     "output_type": "stream",
     "text": [
      "Training Error: \n",
      " Avg loss: 0.004439 \n",
      "\n"
     ]
    },
    {
     "name": "stderr",
     "output_type": "stream",
     "text": [
      "100%|██████████| 197/197 [00:23<00:00,  8.55it/s]\n"
     ]
    },
    {
     "name": "stdout",
     "output_type": "stream",
     "text": [
      "Validation Error: \n",
      " Avg loss: 0.004296 \n",
      "\n",
      "Learning rate (antes): 5.54422411679103e-05\n",
      "Learning rate (depois): 4.853888729322334e-05\n",
      "Epoch: 85\n",
      "Time: 442.7614116668701\n",
      "Learning rate: 4.853888729322334e-05\n",
      "Train loss: 0.004438581244171766\n",
      "Validation loss: 0.004296208613641976\n",
      "Elapsed time: 442.7614760398865\n",
      "\n",
      "epoch 86\n",
      "-------------------------------\n",
      "Training on 87539 samples...\n",
      "Batch size: 64\n",
      "Number of batches: 1368\n"
     ]
    },
    {
     "name": "stderr",
     "output_type": "stream",
     "text": [
      "100%|██████████| 1368/1368 [06:57<00:00,  3.28it/s]\n"
     ]
    },
    {
     "name": "stdout",
     "output_type": "stream",
     "text": [
      "Training Error: \n",
      " Avg loss: 0.004438 \n",
      "\n"
     ]
    },
    {
     "name": "stderr",
     "output_type": "stream",
     "text": [
      "100%|██████████| 197/197 [00:23<00:00,  8.56it/s]\n"
     ]
    },
    {
     "name": "stdout",
     "output_type": "stream",
     "text": [
      "Validation Error: \n",
      " Avg loss: 0.004296 \n",
      "\n",
      "Learning rate (antes): 4.853888729322334e-05\n",
      "Learning rate (depois): 4.2081564470851536e-05\n",
      "Epoch: 86\n",
      "Time: 442.9314570426941\n",
      "Learning rate: 4.2081564470851536e-05\n",
      "Train loss: 0.004438213611563548\n",
      "Validation loss: 0.004295947206582458\n",
      "Elapsed time: 442.93152618408203\n",
      "\n",
      "epoch 87\n",
      "-------------------------------\n",
      "Training on 87539 samples...\n",
      "Batch size: 64\n",
      "Number of batches: 1368\n"
     ]
    },
    {
     "name": "stderr",
     "output_type": "stream",
     "text": [
      "100%|██████████| 1368/1368 [06:57<00:00,  3.28it/s]\n"
     ]
    },
    {
     "name": "stdout",
     "output_type": "stream",
     "text": [
      "Training Error: \n",
      " Avg loss: 0.004439 \n",
      "\n"
     ]
    },
    {
     "name": "stderr",
     "output_type": "stream",
     "text": [
      "100%|██████████| 197/197 [00:23<00:00,  8.56it/s]\n"
     ]
    },
    {
     "name": "stdout",
     "output_type": "stream",
     "text": [
      "Validation Error: \n",
      " Avg loss: 0.004296 \n",
      "\n",
      "Learning rate (antes): 4.2081564470851536e-05\n",
      "Learning rate (depois): 3.6076645298818454e-05\n",
      "Epoch: 87\n",
      "Time: 442.91733407974243\n",
      "Learning rate: 3.6076645298818454e-05\n",
      "Train loss: 0.0044385803926719775\n",
      "Validation loss: 0.004296456853655843\n",
      "Elapsed time: 442.917400598526\n",
      "\n",
      "epoch 88\n",
      "-------------------------------\n",
      "Training on 87539 samples...\n",
      "Batch size: 64\n",
      "Number of batches: 1368\n"
     ]
    },
    {
     "name": "stderr",
     "output_type": "stream",
     "text": [
      "100%|██████████| 1368/1368 [06:57<00:00,  3.28it/s]\n"
     ]
    },
    {
     "name": "stdout",
     "output_type": "stream",
     "text": [
      "Training Error: \n",
      " Avg loss: 0.004438 \n",
      "\n"
     ]
    },
    {
     "name": "stderr",
     "output_type": "stream",
     "text": [
      "100%|██████████| 197/197 [00:23<00:00,  8.55it/s]\n"
     ]
    },
    {
     "name": "stdout",
     "output_type": "stream",
     "text": [
      "Validation Error: \n",
      " Avg loss: 0.004296 \n",
      "\n",
      "Learning rate (antes): 3.6076645298818454e-05\n",
      "Learning rate (depois): 3.053005590736439e-05\n",
      "Epoch: 88\n",
      "Time: 442.7717046737671\n",
      "Learning rate: 3.053005590736439e-05\n",
      "Train loss: 0.0044382391186030745\n",
      "Validation loss: 0.00429562249765755\n",
      "Elapsed time: 442.7717730998993\n",
      "\n",
      "epoch 89\n",
      "-------------------------------\n",
      "Training on 87539 samples...\n",
      "Batch size: 64\n",
      "Number of batches: 1368\n"
     ]
    },
    {
     "name": "stderr",
     "output_type": "stream",
     "text": [
      "100%|██████████| 1368/1368 [06:57<00:00,  3.28it/s]\n"
     ]
    },
    {
     "name": "stdout",
     "output_type": "stream",
     "text": [
      "Training Error: \n",
      " Avg loss: 0.004438 \n",
      "\n"
     ]
    },
    {
     "name": "stderr",
     "output_type": "stream",
     "text": [
      "100%|██████████| 197/197 [00:23<00:00,  8.56it/s]\n"
     ]
    },
    {
     "name": "stdout",
     "output_type": "stream",
     "text": [
      "Validation Error: \n",
      " Avg loss: 0.004296 \n",
      "\n",
      "Learning rate (antes): 3.053005590736439e-05\n",
      "Learning rate (depois): 2.5447270110570814e-05\n",
      "Epoch: 89\n",
      "Time: 442.7192647457123\n",
      "Learning rate: 2.5447270110570814e-05\n",
      "Train loss: 0.004437962108685183\n",
      "Validation loss: 0.004295565853330311\n",
      "Elapsed time: 442.7193293571472\n",
      "\n",
      "epoch 90\n",
      "-------------------------------\n",
      "Training on 87539 samples...\n",
      "Batch size: 64\n",
      "Number of batches: 1368\n"
     ]
    },
    {
     "name": "stderr",
     "output_type": "stream",
     "text": [
      "100%|██████████| 1368/1368 [06:56<00:00,  3.28it/s]\n"
     ]
    },
    {
     "name": "stdout",
     "output_type": "stream",
     "text": [
      "Training Error: \n",
      " Avg loss: 0.004438 \n",
      "\n"
     ]
    },
    {
     "name": "stderr",
     "output_type": "stream",
     "text": [
      "100%|██████████| 197/197 [00:22<00:00,  8.57it/s]\n"
     ]
    },
    {
     "name": "stdout",
     "output_type": "stream",
     "text": [
      "Validation Error: \n",
      " Avg loss: 0.004296 \n",
      "\n",
      "Learning rate (antes): 2.5447270110570814e-05\n",
      "Learning rate (depois): 2.0833304004366997e-05\n",
      "Epoch: 90\n",
      "Time: 442.4350686073303\n",
      "Learning rate: 2.0833304004366997e-05\n",
      "Train loss: 0.004437930761136616\n",
      "Validation loss: 0.004295672957494685\n",
      "Elapsed time: 442.43513679504395\n",
      "\n",
      "epoch 91\n",
      "-------------------------------\n",
      "Training on 87539 samples...\n",
      "Batch size: 64\n",
      "Number of batches: 1368\n"
     ]
    },
    {
     "name": "stderr",
     "output_type": "stream",
     "text": [
      "100%|██████████| 1368/1368 [06:56<00:00,  3.28it/s]\n"
     ]
    },
    {
     "name": "stdout",
     "output_type": "stream",
     "text": [
      "Training Error: \n",
      " Avg loss: 0.004438 \n",
      "\n"
     ]
    },
    {
     "name": "stderr",
     "output_type": "stream",
     "text": [
      "100%|██████████| 197/197 [00:22<00:00,  8.57it/s]\n"
     ]
    },
    {
     "name": "stdout",
     "output_type": "stream",
     "text": [
      "Validation Error: \n",
      " Avg loss: 0.004296 \n",
      "\n",
      "Learning rate (antes): 2.0833304004366997e-05\n",
      "Learning rate (depois): 1.6692711016248837e-05\n",
      "Epoch: 91\n",
      "Time: 442.27278113365173\n",
      "Learning rate: 1.6692711016248837e-05\n",
      "Train loss: 0.00443779666021695\n",
      "Validation loss: 0.004296367337955588\n",
      "Elapsed time: 442.2728474140167\n",
      "\n",
      "epoch 92\n",
      "-------------------------------\n",
      "Training on 87539 samples...\n",
      "Batch size: 64\n",
      "Number of batches: 1368\n"
     ]
    },
    {
     "name": "stderr",
     "output_type": "stream",
     "text": [
      "100%|██████████| 1368/1368 [06:56<00:00,  3.29it/s]\n"
     ]
    },
    {
     "name": "stdout",
     "output_type": "stream",
     "text": [
      "Training Error: \n",
      " Avg loss: 0.004438 \n",
      "\n"
     ]
    },
    {
     "name": "stderr",
     "output_type": "stream",
     "text": [
      "100%|██████████| 197/197 [00:22<00:00,  8.57it/s]\n"
     ]
    },
    {
     "name": "stdout",
     "output_type": "stream",
     "text": [
      "Validation Error: \n",
      " Avg loss: 0.004295 \n",
      "\n",
      "Learning rate (antes): 1.6692711016248837e-05\n",
      "Learning rate (depois): 1.3029577411595715e-05\n",
      "Epoch: 92\n",
      "Time: 441.8739731311798\n",
      "Learning rate: 1.3029577411595715e-05\n",
      "Train loss: 0.004437879430829977\n",
      "Validation loss: 0.004295430855877546\n",
      "Elapsed time: 441.8740384578705\n",
      "\n",
      "epoch 93\n",
      "-------------------------------\n",
      "Training on 87539 samples...\n",
      "Batch size: 64\n",
      "Number of batches: 1368\n"
     ]
    },
    {
     "name": "stderr",
     "output_type": "stream",
     "text": [
      "100%|██████████| 1368/1368 [06:55<00:00,  3.29it/s]\n"
     ]
    },
    {
     "name": "stdout",
     "output_type": "stream",
     "text": [
      "Training Error: \n",
      " Avg loss: 0.004437 \n",
      "\n"
     ]
    },
    {
     "name": "stderr",
     "output_type": "stream",
     "text": [
      "100%|██████████| 197/197 [00:22<00:00,  8.58it/s]\n"
     ]
    },
    {
     "name": "stdout",
     "output_type": "stream",
     "text": [
      "Validation Error: \n",
      " Avg loss: 0.004296 \n",
      "\n",
      "Learning rate (antes): 1.3029577411595715e-05\n",
      "Learning rate (depois): 9.847518261019987e-06\n",
      "Epoch: 93\n",
      "Time: 440.8632905483246\n",
      "Learning rate: 9.847518261019987e-06\n",
      "Train loss: 0.00443749078525617\n",
      "Validation loss: 0.004296155877501188\n",
      "Elapsed time: 440.86335921287537\n",
      "\n",
      "epoch 94\n",
      "-------------------------------\n",
      "Training on 87539 samples...\n",
      "Batch size: 64\n",
      "Number of batches: 1368\n"
     ]
    },
    {
     "name": "stderr",
     "output_type": "stream",
     "text": [
      "100%|██████████| 1368/1368 [06:54<00:00,  3.30it/s]\n"
     ]
    },
    {
     "name": "stdout",
     "output_type": "stream",
     "text": [
      "Training Error: \n",
      " Avg loss: 0.004437 \n",
      "\n"
     ]
    },
    {
     "name": "stderr",
     "output_type": "stream",
     "text": [
      "100%|██████████| 197/197 [00:22<00:00,  8.58it/s]\n"
     ]
    },
    {
     "name": "stdout",
     "output_type": "stream",
     "text": [
      "Validation Error: \n",
      " Avg loss: 0.004296 \n",
      "\n",
      "Learning rate (antes): 9.847518261019987e-06\n",
      "Learning rate (depois): 7.14967387272874e-06\n",
      "Epoch: 94\n",
      "Time: 440.44790482521057\n",
      "Learning rate: 7.14967387272874e-06\n",
      "Train loss: 0.0044374110281660785\n",
      "Validation loss: 0.004295573719342235\n",
      "Elapsed time: 440.44796919822693\n",
      "\n",
      "epoch 95\n",
      "-------------------------------\n",
      "Training on 87539 samples...\n",
      "Batch size: 64\n",
      "Number of batches: 1368\n"
     ]
    },
    {
     "name": "stderr",
     "output_type": "stream",
     "text": [
      "100%|██████████| 1368/1368 [06:54<00:00,  3.30it/s]\n"
     ]
    },
    {
     "name": "stdout",
     "output_type": "stream",
     "text": [
      "Training Error: \n",
      " Avg loss: 0.004438 \n",
      "\n"
     ]
    },
    {
     "name": "stderr",
     "output_type": "stream",
     "text": [
      "100%|██████████| 197/197 [00:22<00:00,  8.58it/s]\n"
     ]
    },
    {
     "name": "stdout",
     "output_type": "stream",
     "text": [
      "Validation Error: \n",
      " Avg loss: 0.004296 \n",
      "\n",
      "Learning rate (antes): 7.14967387272874e-06\n",
      "Learning rate (depois): 4.9387066934183575e-06\n",
      "Epoch: 95\n",
      "Time: 440.0036280155182\n",
      "Learning rate: 4.9387066934183575e-06\n",
      "Train loss: 0.004437549204983591\n",
      "Validation loss: 0.004295505637061891\n",
      "Elapsed time: 440.00369477272034\n",
      "\n",
      "epoch 96\n",
      "-------------------------------\n",
      "Training on 87539 samples...\n",
      "Batch size: 64\n",
      "Number of batches: 1368\n"
     ]
    },
    {
     "name": "stderr",
     "output_type": "stream",
     "text": [
      "100%|██████████| 1368/1368 [06:54<00:00,  3.30it/s]\n"
     ]
    },
    {
     "name": "stdout",
     "output_type": "stream",
     "text": [
      "Training Error: \n",
      " Avg loss: 0.004438 \n",
      "\n"
     ]
    },
    {
     "name": "stderr",
     "output_type": "stream",
     "text": [
      "100%|██████████| 197/197 [00:22<00:00,  8.58it/s]\n"
     ]
    },
    {
     "name": "stdout",
     "output_type": "stream",
     "text": [
      "Validation Error: \n",
      " Avg loss: 0.004295 \n",
      "\n",
      "Learning rate (antes): 4.9387066934183575e-06\n",
      "Learning rate (depois): 3.2167986807615425e-06\n",
      "Epoch: 96\n",
      "Time: 439.5880055427551\n",
      "Learning rate: 3.2167986807615425e-06\n",
      "Train loss: 0.00443754870494234\n",
      "Validation loss: 0.004295457753726296\n",
      "Elapsed time: 439.5880720615387\n",
      "\n",
      "epoch 97\n",
      "-------------------------------\n",
      "Training on 87539 samples...\n",
      "Batch size: 64\n",
      "Number of batches: 1368\n"
     ]
    },
    {
     "name": "stderr",
     "output_type": "stream",
     "text": [
      "100%|██████████| 1368/1368 [06:54<00:00,  3.30it/s]\n"
     ]
    },
    {
     "name": "stdout",
     "output_type": "stream",
     "text": [
      "Training Error: \n",
      " Avg loss: 0.004437 \n",
      "\n"
     ]
    },
    {
     "name": "stderr",
     "output_type": "stream",
     "text": [
      "100%|██████████| 197/197 [00:22<00:00,  8.58it/s]\n"
     ]
    },
    {
     "name": "stdout",
     "output_type": "stream",
     "text": [
      "Validation Error: \n",
      " Avg loss: 0.004295 \n",
      "\n",
      "Learning rate (antes): 3.2167986807615425e-06\n",
      "Learning rate (depois): 1.9856491500783564e-06\n",
      "Epoch: 97\n",
      "Time: 439.57474756240845\n",
      "Learning rate: 1.9856491500783564e-06\n",
      "Train loss: 0.0044373471799785845\n",
      "Validation loss: 0.004295373664339201\n",
      "Elapsed time: 439.57481241226196\n",
      "\n",
      "epoch 98\n",
      "-------------------------------\n",
      "Training on 87539 samples...\n",
      "Batch size: 64\n",
      "Number of batches: 1368\n"
     ]
    },
    {
     "name": "stderr",
     "output_type": "stream",
     "text": [
      "100%|██████████| 1368/1368 [06:54<00:00,  3.30it/s]\n"
     ]
    },
    {
     "name": "stdout",
     "output_type": "stream",
     "text": [
      "Training Error: \n",
      " Avg loss: 0.004437 \n",
      "\n"
     ]
    },
    {
     "name": "stderr",
     "output_type": "stream",
     "text": [
      "100%|██████████| 197/197 [00:22<00:00,  8.59it/s]\n"
     ]
    },
    {
     "name": "stdout",
     "output_type": "stream",
     "text": [
      "Validation Error: \n",
      " Avg loss: 0.004295 \n",
      "\n",
      "Learning rate (antes): 1.9856491500783564e-06\n",
      "Learning rate (depois): 1.2464730973170658e-06\n",
      "Epoch: 98\n",
      "Time: 439.549768447876\n",
      "Learning rate: 1.2464730973170658e-06\n",
      "Train loss: 0.004437212178712352\n",
      "Validation loss: 0.004295381178741395\n",
      "Elapsed time: 439.54983401298523\n",
      "\n",
      "epoch 99\n",
      "-------------------------------\n",
      "Training on 87539 samples...\n",
      "Batch size: 64\n",
      "Number of batches: 1368\n"
     ]
    },
    {
     "name": "stderr",
     "output_type": "stream",
     "text": [
      "100%|██████████| 1368/1368 [06:54<00:00,  3.30it/s]\n"
     ]
    },
    {
     "name": "stdout",
     "output_type": "stream",
     "text": [
      "Training Error: \n",
      " Avg loss: 0.004437 \n",
      "\n"
     ]
    },
    {
     "name": "stderr",
     "output_type": "stream",
     "text": [
      "100%|██████████| 197/197 [00:22<00:00,  8.58it/s]"
     ]
    },
    {
     "name": "stdout",
     "output_type": "stream",
     "text": [
      "Validation Error: \n",
      " Avg loss: 0.004295 \n",
      "\n",
      "Learning rate (antes): 1.2464730973170658e-06\n",
      "Learning rate (depois): 1e-06\n",
      "Epoch: 99\n",
      "Time: 439.50281596183777\n",
      "Learning rate: 1e-06\n",
      "Train loss: 0.004437308743690026\n",
      "Validation loss: 0.004295406385908745\n",
      "Elapsed time: 439.5028805732727\n",
      "CPU times: user 12h 16min 9s, sys: 5min 44s, total: 12h 21min 54s\n",
      "Wall time: 12h 20min 8s\n"
     ]
    },
    {
     "name": "stderr",
     "output_type": "stream",
     "text": [
      "\n"
     ]
    }
   ],
   "source": [
    "%%time\n",
    "model_runner.train(\n",
    "    model=model,\n",
    "    train_dataloader=train_dataloader,\n",
    "    validation_dataloader=validation_dataloader,\n",
    "    optimizer=optimizer,\n",
    "    epochs=epochs,\n",
    "    scheduler=scheduler,\n",
    "    loss_fn=nn.MSELoss(),\n",
    "    save_file_path='./DBPN-real-run-medium-dataset-no-noise-cuda-0.txt'\n",
    ")"
   ]
  },
  {
   "cell_type": "code",
   "execution_count": 18,
   "metadata": {},
   "outputs": [
    {
     "data": {
      "image/png": "[encoded data removed]",
      "text/plain": [
       "<Figure size 1000x1000 with 1 Axes>"
      ]
     },
     "metadata": {},
     "output_type": "display_data"
    }
   ],
   "source": [
    "model_runner.plot_lr_from_df()"
   ]
  },
  {
   "cell_type": "code",
   "execution_count": null,
   "metadata": {},
   "outputs": [],
   "source": []
  },
  {
   "cell_type": "code",
   "execution_count": 19,
   "metadata": {},
   "outputs": [],
   "source": [
    "model_runner.save_model_df('../results/dbpn/dataframes/DBPN-real-run-medium-dataset-no-noise-cuda-0-epoch=0-99.csv')\n",
    "model_runner.save_model_weights(model, '../results/dbpn/trained_models/DBPN-real-run-medium-dataset-no-noise-cuda-0-epoch=0-99.pth')"
   ]
  },
  {
   "cell_type": "code",
   "execution_count": 20,
   "metadata": {},
   "outputs": [
    {
     "data": {
      "text/html": [
       "<div>\n",
       "<style scoped>\n",
       "    .dataframe tbody tr th:only-of-type {\n",
       "        vertical-align: middle;\n",
       "    }\n",
       "\n",
       "    .dataframe tbody tr th {\n",
       "        vertical-align: top;\n",
       "    }\n",
       "\n",
       "    .dataframe thead th {\n",
       "        text-align: right;\n",
       "    }\n",
       "</style>\n",
       "<table border=\"1\" class=\"dataframe\">\n",
       "  <thead>\n",
       "    <tr style=\"text-align: right;\">\n",
       "      <th></th>\n",
       "      <th>epoch</th>\n",
       "      <th>time</th>\n",
       "      <th>lr</th>\n",
       "      <th>train_loss</th>\n",
       "      <th>validation_loss</th>\n",
       "    </tr>\n",
       "  </thead>\n",
       "  <tbody>\n",
       "    <tr>\n",
       "      <th>0</th>\n",
       "      <td>0</td>\n",
       "      <td>457.676403</td>\n",
       "      <td>0.001000</td>\n",
       "      <td>0.009132</td>\n",
       "      <td>0.004403</td>\n",
       "    </tr>\n",
       "    <tr>\n",
       "      <th>1</th>\n",
       "      <td>1</td>\n",
       "      <td>456.029916</td>\n",
       "      <td>0.000999</td>\n",
       "      <td>0.004576</td>\n",
       "      <td>0.004359</td>\n",
       "    </tr>\n",
       "    <tr>\n",
       "      <th>2</th>\n",
       "      <td>2</td>\n",
       "      <td>455.415969</td>\n",
       "      <td>0.000998</td>\n",
       "      <td>0.004580</td>\n",
       "      <td>0.004611</td>\n",
       "    </tr>\n",
       "    <tr>\n",
       "      <th>3</th>\n",
       "      <td>3</td>\n",
       "      <td>454.648627</td>\n",
       "      <td>0.000996</td>\n",
       "      <td>0.004583</td>\n",
       "      <td>0.004362</td>\n",
       "    </tr>\n",
       "    <tr>\n",
       "      <th>4</th>\n",
       "      <td>4</td>\n",
       "      <td>453.853476</td>\n",
       "      <td>0.000994</td>\n",
       "      <td>0.004575</td>\n",
       "      <td>0.004383</td>\n",
       "    </tr>\n",
       "    <tr>\n",
       "      <th>...</th>\n",
       "      <td>...</td>\n",
       "      <td>...</td>\n",
       "      <td>...</td>\n",
       "      <td>...</td>\n",
       "      <td>...</td>\n",
       "    </tr>\n",
       "    <tr>\n",
       "      <th>95</th>\n",
       "      <td>95</td>\n",
       "      <td>440.003627</td>\n",
       "      <td>0.000005</td>\n",
       "      <td>0.004438</td>\n",
       "      <td>0.004296</td>\n",
       "    </tr>\n",
       "    <tr>\n",
       "      <th>96</th>\n",
       "      <td>96</td>\n",
       "      <td>439.588005</td>\n",
       "      <td>0.000003</td>\n",
       "      <td>0.004438</td>\n",
       "      <td>0.004295</td>\n",
       "    </tr>\n",
       "    <tr>\n",
       "      <th>97</th>\n",
       "      <td>97</td>\n",
       "      <td>439.574747</td>\n",
       "      <td>0.000002</td>\n",
       "      <td>0.004437</td>\n",
       "      <td>0.004295</td>\n",
       "    </tr>\n",
       "    <tr>\n",
       "      <th>98</th>\n",
       "      <td>98</td>\n",
       "      <td>439.549768</td>\n",
       "      <td>0.000001</td>\n",
       "      <td>0.004437</td>\n",
       "      <td>0.004295</td>\n",
       "    </tr>\n",
       "    <tr>\n",
       "      <th>99</th>\n",
       "      <td>99</td>\n",
       "      <td>439.502815</td>\n",
       "      <td>0.000001</td>\n",
       "      <td>0.004437</td>\n",
       "      <td>0.004295</td>\n",
       "    </tr>\n",
       "  </tbody>\n",
       "</table>\n",
       "<p>100 rows × 5 columns</p>\n",
       "</div>"
      ],
      "text/plain": [
       "    epoch        time        lr  train_loss  validation_loss\n",
       "0       0  457.676403  0.001000    0.009132         0.004403\n",
       "1       1  456.029916  0.000999    0.004576         0.004359\n",
       "2       2  455.415969  0.000998    0.004580         0.004611\n",
       "3       3  454.648627  0.000996    0.004583         0.004362\n",
       "4       4  453.853476  0.000994    0.004575         0.004383\n",
       "..    ...         ...       ...         ...              ...\n",
       "95     95  440.003627  0.000005    0.004438         0.004296\n",
       "96     96  439.588005  0.000003    0.004438         0.004295\n",
       "97     97  439.574747  0.000002    0.004437         0.004295\n",
       "98     98  439.549768  0.000001    0.004437         0.004295\n",
       "99     99  439.502815  0.000001    0.004437         0.004295\n",
       "\n",
       "[100 rows x 5 columns]"
      ]
     },
     "execution_count": 20,
     "metadata": {},
     "output_type": "execute_result"
    }
   ],
   "source": [
    "df = model_runner.load_df('../results/dbpn/dataframes/DBPN-real-run-medium-dataset-no-noise-cuda-0-epoch=0-99.csv')\n",
    "df"
   ]
  },
  {
   "cell_type": "code",
   "execution_count": 21,
   "metadata": {},
   "outputs": [
    {
     "data": {
      "image/png": "[encoded data removed]",
      "text/plain": [
       "<Figure size 1000x1000 with 1 Axes>"
      ]
     },
     "metadata": {},
     "output_type": "display_data"
    }
   ],
   "source": [
    "model_runner.plot_train_validation_loss_from_df()"
   ]
  },
  {
   "cell_type": "code",
   "execution_count": 25,
   "metadata": {},
   "outputs": [
    {
     "name": "stderr",
     "output_type": "stream",
     "text": [
      "/home/pedrovelozo/TCC-Pedro-Velozo-ENG1132/env/lib/python3.8/site-packages/torchvision/transforms/functional.py:1603: UserWarning: The default value of the antialias parameter of all the resizing transforms (Resize(), RandomResizedCrop(), etc.) will change from None to True in v0.17, in order to be consistent across the PIL and Tensor backends. To suppress this warning, directly pass antialias=True (recommended, future default), antialias=None (current default, which means False for Tensors and True for PIL), or antialias=False (only works on Tensors - PIL will still use antialiasing). This also applies if you are using the inference transforms from the models weights: update the call to weights.transforms(antialias=True).\n",
      "  warnings.warn(\n",
      "Clipping input data to the valid range for imshow with RGB data ([0..1] for floats or [0..255] for integers).\n"
     ]
    },
    {
     "data": {
      "image/png": "[encoded data removed]",
      "text/plain": [
       "<Figure size 640x480 with 1 Axes>"
      ]
     },
     "metadata": {},
     "output_type": "display_data"
    }
   ],
   "source": [
    "image_helper = ImageHelper()\n",
    "image_helper.apply_model_to_image_and_show(\n",
    "    model=model,\n",
    "    image=f\"../datasets/Set5/butterfly.png\",\n",
    "    downsample_factor=4,\n",
    "    unsqueeze=True\n",
    ")"
   ]
  },
  {
   "cell_type": "code",
   "execution_count": 24,
   "metadata": {},
   "outputs": [
    {
     "name": "stderr",
     "output_type": "stream",
     "text": [
      "0it [00:00, ?it/s]/home/pedrovelozo/TCC-Pedro-Velozo-ENG1132/env/lib/python3.8/site-packages/torchvision/transforms/functional.py:1603: UserWarning: The default value of the antialias parameter of all the resizing transforms (Resize(), RandomResizedCrop(), etc.) will change from None to True in v0.17, in order to be consistent across the PIL and Tensor backends. To suppress this warning, directly pass antialias=True (recommended, future default), antialias=None (current default, which means False for Tensors and True for PIL), or antialias=False (only works on Tensors - PIL will still use antialiasing). This also applies if you are using the inference transforms from the models weights: update the call to weights.transforms(antialias=True).\n",
      "  warnings.warn(\n",
      "/home/pedrovelozo/TCC-Pedro-Velozo-ENG1132/env/lib/python3.8/site-packages/torchmetrics/utilities/prints.py:61: FutureWarning: Importing `PeakSignalNoiseRatio` from `torchmetrics` was deprecated and will be removed in 2.0. Import `PeakSignalNoiseRatio` from `torchmetrics.image` instead.\n",
      "  _future_warning(\n",
      "100it [00:02, 36.70it/s]\n",
      "100it [00:00, 100.76it/s]\n"
     ]
    },
    {
     "data": {
      "text/html": [
       "<div>\n",
       "<style scoped>\n",
       "    .dataframe tbody tr th:only-of-type {\n",
       "        vertical-align: middle;\n",
       "    }\n",
       "\n",
       "    .dataframe tbody tr th {\n",
       "        vertical-align: top;\n",
       "    }\n",
       "\n",
       "    .dataframe thead th {\n",
       "        text-align: right;\n",
       "    }\n",
       "</style>\n",
       "<table border=\"1\" class=\"dataframe\">\n",
       "  <thead>\n",
       "    <tr style=\"text-align: right;\">\n",
       "      <th></th>\n",
       "      <th>PSNR</th>\n",
       "      <th>SSIM</th>\n",
       "    </tr>\n",
       "  </thead>\n",
       "  <tbody>\n",
       "    <tr>\n",
       "      <th>DBPN</th>\n",
       "      <td>24.850704</td>\n",
       "      <td>0.653421</td>\n",
       "    </tr>\n",
       "    <tr>\n",
       "      <th>Bicubic</th>\n",
       "      <td>23.045410</td>\n",
       "      <td>0.632868</td>\n",
       "    </tr>\n",
       "  </tbody>\n",
       "</table>\n",
       "</div>"
      ],
      "text/plain": [
       "              PSNR      SSIM\n",
       "DBPN     24.850704  0.653421\n",
       "Bicubic  23.045410  0.632868"
      ]
     },
     "execution_count": 24,
     "metadata": {},
     "output_type": "execute_result"
    }
   ],
   "source": [
    "model_runner = ModelRunner(device=device)\n",
    "model_runner.compare_models(\n",
    "    [\n",
    "        {\"name\": \"DBPN\", \"model\": model,\n",
    "                               \"input_transform\":lambda input: transforms.Compose([\n",
    "                                 transforms.ToTensor(),\n",
    "                                 transforms.Resize(\n",
    "                                    (input.size[1] // 4, input.size[0] // 4), interpolation=Image.BICUBIC),\n",
    "                                ])(input),\n",
    "                                \"should_only_downsampple\": True, \"scale\":4, \"unsqueeze\": True },\n",
    "    ],\n",
    "    f\"../datasets/BSDS100/\", scale=4\n",
    ")"
   ]
  },
  {
   "cell_type": "code",
   "execution_count": null,
   "metadata": {},
   "outputs": [],
   "source": []
  }
 ],
 "metadata": {
  "kernelspec": {
   "display_name": "base",
   "language": "python",
   "name": "python3"
  },
  "language_info": {
   "codemirror_mode": {
    "name": "ipython",
    "version": 3
   },
   "file_extension": ".py",
   "mimetype": "text/x-python",
   "name": "python",
   "nbconvert_exporter": "python",
   "pygments_lexer": "ipython3",
   "version": "3.8.10"
  },
  "orig_nbformat": 4
 },
 "nbformat": 4,
 "nbformat_minor": 2
}
