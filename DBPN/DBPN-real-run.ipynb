{
 "cells": [
  {
   "cell_type": "code",
   "execution_count": 1,
   "metadata": {},
   "outputs": [
    {
     "name": "stderr",
     "output_type": "stream",
     "text": [
      "/Users/pedrovelozo/anaconda3/lib/python3.10/site-packages/tqdm/auto.py:22: TqdmWarning: IProgress not found. Please update jupyter and ipywidgets. See https://ipywidgets.readthedocs.io/en/stable/user_install.html\n",
      "  from .autonotebook import tqdm as notebook_tqdm\n"
     ]
    }
   ],
   "source": [
    "import sys\n",
    "sys.path.append('../')\n",
    "\n",
    "from model_runner import ModelRunner\n",
    "from DBPN_copied import DBPN\n",
    "from custom_image_dataset import CustomImageDataset\n",
    "from torch.utils.data import DataLoader\n",
    "from torchvision import transforms\n",
    "from PIL import Image\n",
    "import torch\n",
    "torch.cuda.empty_cache()\n",
    "from torch import nn\n",
    "from image_helper import ImageHelper\n",
    "import image_patches\n",
    "import os"
   ]
  },
  {
   "cell_type": "code",
   "execution_count": 3,
   "metadata": {},
   "outputs": [],
   "source": [
    "DATASET_ROOT=\"../datasets/\"\n",
    "# DATASET_NAME = \"Flickr2K\"\n",
    "DATASET_NAME = \"Set5\""
   ]
  },
  {
   "cell_type": "code",
   "execution_count": 4,
   "metadata": {},
   "outputs": [],
   "source": [
    "PATCH_SIZE = 128 # 32 * 4\n",
    "PATCHES_PER_IMAGE_TRAIN = 45\n",
    "PATCHES_PER_IMAGE_VALIDATION = 12 # 45 // 4"
   ]
  },
  {
   "cell_type": "code",
   "execution_count": 7,
   "metadata": {},
   "outputs": [],
   "source": [
    "# image_patches.create_valid_image_patches(f\"{DATASET_ROOT}/{DATASET_NAME}\", (PATCH_SIZE, PATCH_SIZE, 3), f\"{DATASET_ROOT}/{DATASET_NAME}_{PATCH_SIZE}_{PATCH_SIZE}_train_number={PATCHES_PER_IMAGE_TRAIN}\", PATCHES_PER_IMAGE_TRAIN)\n",
    "# image_patches.create_valid_image_patches(f\"{DATASET_ROOT}/{DATASET_NAME}\", (PATCH_SIZE, PATCH_SIZE, 3), f\"{DATASET_ROOT}/{DATASET_NAME}_{PATCH_SIZE}_{PATCH_SIZE}_validation_number={PATCHES_PER_IMAGE_VALIDATION}\", PATCHES_PER_IMAGE_VALIDATION)"
   ]
  },
  {
   "cell_type": "code",
   "execution_count": 8,
   "metadata": {},
   "outputs": [
    {
     "name": "stdout",
     "output_type": "stream",
     "text": [
      "Creating Dataset based on folder: ../datasets//Set5_128_128_train_number=45\n"
     ]
    },
    {
     "name": "stderr",
     "output_type": "stream",
     "text": [
      "100%|██████████| 5/5 [00:00<00:00, 55.54it/s]\n"
     ]
    },
    {
     "name": "stdout",
     "output_type": "stream",
     "text": [
      "Creating Dataset based on folder: ../datasets//Set5_128_128_train_number=45\n",
      "Creating Dataset based on folder: ../datasets//Set5_128_128_validation_number=12\n"
     ]
    },
    {
     "name": "stderr",
     "output_type": "stream",
     "text": [
      "100%|██████████| 5/5 [00:00<00:00, 69.35it/s]"
     ]
    },
    {
     "name": "stdout",
     "output_type": "stream",
     "text": [
      "Creating Dataset based on folder: ../datasets//Set5_128_128_validation_number=12\n",
      "Training set has 30 instances\n",
      "Validation set has 26 instances\n",
      "CPU times: user 116 ms, sys: 77.5 ms, total: 193 ms\n",
      "Wall time: 208 ms\n"
     ]
    },
    {
     "name": "stderr",
     "output_type": "stream",
     "text": [
      "\n"
     ]
    }
   ],
   "source": [
    "%%time\n",
    "\n",
    "SCALE_FACTOR=4\n",
    "\n",
    "transform_x = transforms.Compose([\n",
    "    transforms.Resize((PATCH_SIZE // SCALE_FACTOR, PATCH_SIZE // SCALE_FACTOR), interpolation=Image.BICUBIC),\n",
    "])\n",
    "\n",
    "transform_y = transforms.Compose([\n",
    "    transforms.CenterCrop((PATCH_SIZE, PATCH_SIZE))\n",
    "])\n",
    "\n",
    "# Set up the data loaders\n",
    "train_data_set = CustomImageDataset(\n",
    "    img_dir=f\"{DATASET_ROOT}/{DATASET_NAME}_{PATCH_SIZE}_{PATCH_SIZE}_train_number={PATCHES_PER_IMAGE_TRAIN}\", transform=transform_x, target_transform=transform_y, tensor_size=PATCH_SIZE)\n",
    "validation_data_set = CustomImageDataset(\n",
    "    img_dir=f\"{DATASET_ROOT}/{DATASET_NAME}_{PATCH_SIZE}_{PATCH_SIZE}_validation_number={PATCHES_PER_IMAGE_VALIDATION}\", transform=transform_x, target_transform=transform_y, tensor_size=PATCH_SIZE)\n",
    "\n",
    "# Report split sizes\n",
    "print('Training set has {} instances'.format(len(train_data_set)))\n",
    "print('Validation set has {} instances'.format(len(validation_data_set)))"
   ]
  },
  {
   "cell_type": "code",
   "execution_count": 9,
   "metadata": {},
   "outputs": [
    {
     "name": "stdout",
     "output_type": "stream",
     "text": [
      "CPU times: user 1.11 ms, sys: 2.94 ms, total: 4.05 ms\n",
      "Wall time: 5.12 ms\n"
     ]
    }
   ],
   "source": [
    "%%time\n",
    "\n",
    "# https://towardsdatascience.com/7-tips-for-squeezing-maximum-performance-from-pytorch-ca4a40951259\n",
    "pin_memory = False\n",
    "batch_size = round(1*(2**6))\n",
    "\n",
    "train_dataloader = DataLoader(train_data_set, batch_size=batch_size, shuffle=True, pin_memory=pin_memory)\n",
    "validation_dataloader = DataLoader(validation_data_set, batch_size=batch_size, pin_memory=pin_memory)"
   ]
  },
  {
   "cell_type": "code",
   "execution_count": 10,
   "metadata": {},
   "outputs": [],
   "source": [
    "# The learning rate is initialized to 1e − 4 for all layers and decrease by a factor of 10 for every 5 × 105 iterations for total 106 iterations.\n",
    "lr = 1e-4\n",
    "model_betas = (0.9, 0.999)\n",
    "device = \"cuda\" if torch.cuda.is_available() else \"cpu\"\n",
    "\n",
    "# Total number of epochs\n",
    "epochs = 10\n",
    "\n",
    "# model = DBPN().to(device)\n",
    "model = DBPN(num_channels=3, base_filter=64,  feat = 256, num_stages=7, scale_factor=4).to(device)\n",
    "model_runner = ModelRunner()\n",
    "\n",
    "# For optimization, we use Adam with momentum to 0.9 and weight decay to 1e−4.\n",
    "optimizer = torch.optim.Adam(model.parameters(), lr=lr, betas=model_betas)\n",
    "\n",
    "# Dynamically adjust the learning rate policy\n",
    "lr_scheduler_step_size = epochs // 2\n",
    "lr_scheduler_gamma = 0.1\n",
    "\n",
    "optimizer = torch.optim.Adam(model.parameters(), lr=lr, weight_decay=1e-4)\n",
    "scheduler = torch.optim.lr_scheduler.StepLR(optimizer, step_size=lr_scheduler_step_size, gamma=lr_scheduler_gamma)"
   ]
  },
  {
   "cell_type": "code",
   "execution_count": 11,
   "metadata": {},
   "outputs": [
    {
     "name": "stdout",
     "output_type": "stream",
     "text": [
      "\n",
      "epoch 0\n",
      "-------------------------------\n",
      "Training on 30 samples...\n",
      "Batch size: 64\n",
      "Number of batches: 1\n"
     ]
    },
    {
     "name": "stderr",
     "output_type": "stream",
     "text": [
      "  0%|          | 0/1 [00:00<?, ?it/s]"
     ]
    }
   ],
   "source": [
    "%%time\n",
    "model_runner.train(\n",
    "    model=model,\n",
    "    train_dataloader=train_dataloader,\n",
    "    validation_dataloader=validation_dataloader,\n",
    "    optimizer=optimizer,\n",
    "    epochs=100,\n",
    "    scheduler=scheduler,\n",
    "    loss_fn=nn.MSELoss(),\n",
    ")"
   ]
  },
  {
   "cell_type": "code",
   "execution_count": null,
   "metadata": {},
   "outputs": [],
   "source": [
    "model_runner.plot_lr"
   ]
  }
 ],
 "metadata": {
  "kernelspec": {
   "display_name": "base",
   "language": "python",
   "name": "python3"
  },
  "language_info": {
   "codemirror_mode": {
    "name": "ipython",
    "version": 3
   },
   "file_extension": ".py",
   "mimetype": "text/x-python",
   "name": "python",
   "nbconvert_exporter": "python",
   "pygments_lexer": "ipython3",
   "version": "3.10.9"
  },
  "orig_nbformat": 4
 },
 "nbformat": 4,
 "nbformat_minor": 2
}
