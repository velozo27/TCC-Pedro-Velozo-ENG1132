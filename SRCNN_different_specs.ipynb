{
 "cells": [
  {
   "cell_type": "code",
   "execution_count": 1,
   "metadata": {},
   "outputs": [],
   "source": [
    "from SRCNN_different_specs import RunSRCNN, SRCNN\n",
    "from custom_image_dataset import CustomImageDataset\n",
    "from torch.utils.data import DataLoader\n",
    "from torchvision import transforms\n",
    "from PIL import Image\n",
    "import torch\n",
    "from torch import nn"
   ]
  },
  {
   "cell_type": "code",
   "execution_count": 2,
   "metadata": {},
   "outputs": [],
   "source": [
    "DATASET_ROOT=\"./datasets/\"\n",
    "DATASET_NAME = \"Flickr2K\""
   ]
  },
  {
   "cell_type": "code",
   "execution_count": 3,
   "metadata": {},
   "outputs": [
    {
     "name": "stderr",
     "output_type": "stream",
     "text": [
      "100%|██████████| 2650/2650 [01:56<00:00, 22.71it/s]\n",
      "100%|██████████| 2650/2650 [00:36<00:00, 73.41it/s]\n"
     ]
    },
    {
     "name": "stdout",
     "output_type": "stream",
     "text": [
      "Training set has 162186 instances\n",
      "Validation set has 53000 instances\n",
      "CPU times: total: 19.1 s\n",
      "Wall time: 3min 38s\n"
     ]
    }
   ],
   "source": [
    "%%time\n",
    "transform_x = transforms.Compose([\n",
    "    transforms.Resize((11, 11), interpolation=Image.BICUBIC),\n",
    "    transforms.Resize((33, 33), interpolation=Image.BICUBIC)\n",
    "])\n",
    "\n",
    "transform_y = transforms.Compose([\n",
    "    transforms.CenterCrop((33, 33))\n",
    "])\n",
    "\n",
    "# Set up the data loaders\n",
    "train_data_set = CustomImageDataset(\n",
    "    img_dir=f\"{DATASET_ROOT}/{DATASET_NAME}_train\", transform=transform_x, target_transform=transform_y)\n",
    "validation_data_set = CustomImageDataset(\n",
    "    img_dir=f\"{DATASET_ROOT}/{DATASET_NAME}_validation\", transform=transform_x, target_transform=transform_y)\n",
    "\n",
    "# Report split sizes\n",
    "print('Training set has {} instances'.format(len(train_data_set)))\n",
    "print('Validation set has {} instances'.format(len(validation_data_set)))"
   ]
  },
  {
   "cell_type": "code",
   "execution_count": 4,
   "metadata": {},
   "outputs": [
    {
     "name": "stdout",
     "output_type": "stream",
     "text": [
      "CPU times: total: 19.7 s\n",
      "Wall time: 25.6 s\n"
     ]
    }
   ],
   "source": [
    "%%time\n",
    "\n",
    "# https://towardsdatascience.com/7-tips-for-squeezing-maximum-performance-from-pytorch-ca4a40951259\n",
    "pin_memory = False\n",
    "batch_size = round(0.35*(2**13))\n",
    "\n",
    "train_dataloader = DataLoader(train_data_set, batch_size=batch_size, shuffle=True, pin_memory=pin_memory) # TODO: aumentar batch_size p/ 2^12\n",
    "validation_dataloader = DataLoader(validation_data_set, batch_size=batch_size, pin_memory=pin_memory)"
   ]
  },
  {
   "cell_type": "code",
   "execution_count": 5,
   "metadata": {},
   "outputs": [],
   "source": [
    "device = \"cuda\" if torch.cuda.is_available() else \"cpu\"\n",
    "lr = 1e-3\n",
    "\n",
    "model_f2_5 = SRCNN(f2=5).to(device)\n",
    "optimizer_f2_5 = torch.optim.Adam(model_f2_5.parameters(), lr=lr)\n",
    "scheduler_f2_5 = torch.optim.lr_scheduler.LinearLR(\n",
    "    optimizer_f2_5,\n",
    "    start_factor=1.0,\n",
    "    end_factor=0.01,\n",
    "    total_iters=60)\n",
    "\n",
    "model_f2_1 = SRCNN(f2=1).to(device)\n",
    "optimizer_f2_1 = torch.optim.Adam(model_f2_1.parameters(), lr=lr)\n",
    "scheduler_f2_1 = torch.optim.lr_scheduler.LinearLR(\n",
    "    optimizer_f2_1,\n",
    "    start_factor=1.0,\n",
    "    end_factor=0.01,\n",
    "    total_iters=60)\n"
   ]
  },
  {
   "cell_type": "code",
   "execution_count": 6,
   "metadata": {},
   "outputs": [],
   "source": [
    "run_srcnn = RunSRCNN()"
   ]
  },
  {
   "cell_type": "code",
   "execution_count": 7,
   "metadata": {
    "scrolled": true
   },
   "outputs": [
    {
     "name": "stdout",
     "output_type": "stream",
     "text": [
      "\n",
      "epoch 0\n",
      "-------------------------------\n",
      "Training on 162186 samples...\n",
      "Batch size: 2867\n",
      "Number of batches: 57\n"
     ]
    },
    {
     "name": "stderr",
     "output_type": "stream",
     "text": [
      "  0%|          | 0/57 [00:00<?, ?it/s]C:\\Users\\Pedro\\anaconda3\\lib\\site-packages\\torchvision\\transforms\\functional.py:1603: UserWarning: The default value of the antialias parameter of all the resizing transforms (Resize(), RandomResizedCrop(), etc.) will change from None to True in v0.17, in order to be consistent across the PIL and Tensor backends. To suppress this warning, directly pass antialias=True (recommended, future default), antialias=None (current default, which means False for Tensors and True for PIL), or antialias=False (only works on Tensors - PIL will still use antialiasing). This also applies if you are using the inference transforms from the models weights: update the call to weights.transforms(antialias=True).\n",
      "  warnings.warn(\n",
      "100%|██████████| 57/57 [03:55<00:00,  4.13s/it]\n"
     ]
    },
    {
     "name": "stdout",
     "output_type": "stream",
     "text": [
      "Training Error: \n",
      " Avg loss: 0.041828 \n",
      "\n"
     ]
    },
    {
     "name": "stderr",
     "output_type": "stream",
     "text": [
      "100%|██████████| 19/19 [00:46<00:00,  2.45s/it]\n"
     ]
    },
    {
     "name": "stdout",
     "output_type": "stream",
     "text": [
      "Validation Error: \n",
      " Avg loss: 0.016614 \n",
      "\n",
      "Learning rate (antes): 0.001\n",
      "Learning rate (depois): 0.0009835\n",
      "\n",
      "epoch 1\n",
      "-------------------------------\n",
      "Training on 162186 samples...\n",
      "Batch size: 2867\n",
      "Number of batches: 57\n"
     ]
    },
    {
     "name": "stderr",
     "output_type": "stream",
     "text": [
      "100%|██████████| 57/57 [02:59<00:00,  3.15s/it]\n"
     ]
    },
    {
     "name": "stdout",
     "output_type": "stream",
     "text": [
      "Training Error: \n",
      " Avg loss: 0.015150 \n",
      "\n"
     ]
    },
    {
     "name": "stderr",
     "output_type": "stream",
     "text": [
      "100%|██████████| 19/19 [00:41<00:00,  2.18s/it]\n"
     ]
    },
    {
     "name": "stdout",
     "output_type": "stream",
     "text": [
      "Validation Error: \n",
      " Avg loss: 0.009227 \n",
      "\n",
      "Learning rate (antes): 0.0009835\n",
      "Learning rate (depois): 0.000967\n",
      "\n",
      "epoch 2\n",
      "-------------------------------\n",
      "Training on 162186 samples...\n",
      "Batch size: 2867\n",
      "Number of batches: 57\n"
     ]
    },
    {
     "name": "stderr",
     "output_type": "stream",
     "text": [
      "100%|██████████| 57/57 [03:02<00:00,  3.19s/it]\n"
     ]
    },
    {
     "name": "stdout",
     "output_type": "stream",
     "text": [
      "Training Error: \n",
      " Avg loss: 0.011762 \n",
      "\n"
     ]
    },
    {
     "name": "stderr",
     "output_type": "stream",
     "text": [
      "100%|██████████| 19/19 [00:37<00:00,  1.95s/it]\n"
     ]
    },
    {
     "name": "stdout",
     "output_type": "stream",
     "text": [
      "Validation Error: \n",
      " Avg loss: 0.007131 \n",
      "\n",
      "Learning rate (antes): 0.000967\n",
      "Learning rate (depois): 0.0009505\n",
      "\n",
      "epoch 3\n",
      "-------------------------------\n",
      "Training on 162186 samples...\n",
      "Batch size: 2867\n",
      "Number of batches: 57\n"
     ]
    },
    {
     "name": "stderr",
     "output_type": "stream",
     "text": [
      "100%|██████████| 57/57 [02:43<00:00,  2.87s/it]\n"
     ]
    },
    {
     "name": "stdout",
     "output_type": "stream",
     "text": [
      "Training Error: \n",
      " Avg loss: 0.010498 \n",
      "\n"
     ]
    },
    {
     "name": "stderr",
     "output_type": "stream",
     "text": [
      "100%|██████████| 19/19 [00:39<00:00,  2.06s/it]\n"
     ]
    },
    {
     "name": "stdout",
     "output_type": "stream",
     "text": [
      "Validation Error: \n",
      " Avg loss: 0.006313 \n",
      "\n",
      "Learning rate (antes): 0.0009505\n",
      "Learning rate (depois): 0.0009339999999999999\n",
      "\n",
      "epoch 4\n",
      "-------------------------------\n",
      "Training on 162186 samples...\n",
      "Batch size: 2867\n",
      "Number of batches: 57\n"
     ]
    },
    {
     "name": "stderr",
     "output_type": "stream",
     "text": [
      "100%|██████████| 57/57 [02:50<00:00,  2.99s/it]\n"
     ]
    },
    {
     "name": "stdout",
     "output_type": "stream",
     "text": [
      "Training Error: \n",
      " Avg loss: 0.009822 \n",
      "\n"
     ]
    },
    {
     "name": "stderr",
     "output_type": "stream",
     "text": [
      "100%|██████████| 19/19 [00:35<00:00,  1.89s/it]\n"
     ]
    },
    {
     "name": "stdout",
     "output_type": "stream",
     "text": [
      "Validation Error: \n",
      " Avg loss: 0.005809 \n",
      "\n",
      "Learning rate (antes): 0.0009339999999999999\n",
      "Learning rate (depois): 0.0009174999999999999\n",
      "\n",
      "epoch 5\n",
      "-------------------------------\n",
      "Training on 162186 samples...\n",
      "Batch size: 2867\n",
      "Number of batches: 57\n"
     ]
    },
    {
     "name": "stderr",
     "output_type": "stream",
     "text": [
      "100%|██████████| 57/57 [02:50<00:00,  3.00s/it]\n"
     ]
    },
    {
     "name": "stdout",
     "output_type": "stream",
     "text": [
      "Training Error: \n",
      " Avg loss: 0.009367 \n",
      "\n"
     ]
    },
    {
     "name": "stderr",
     "output_type": "stream",
     "text": [
      "100%|██████████| 19/19 [00:36<00:00,  1.94s/it]\n"
     ]
    },
    {
     "name": "stdout",
     "output_type": "stream",
     "text": [
      "Validation Error: \n",
      " Avg loss: 0.005458 \n",
      "\n",
      "Learning rate (antes): 0.0009174999999999999\n",
      "Learning rate (depois): 0.0009009999999999999\n",
      "\n",
      "epoch 6\n",
      "-------------------------------\n",
      "Training on 162186 samples...\n",
      "Batch size: 2867\n",
      "Number of batches: 57\n"
     ]
    },
    {
     "name": "stderr",
     "output_type": "stream",
     "text": [
      "100%|██████████| 57/57 [02:40<00:00,  2.82s/it]\n"
     ]
    },
    {
     "name": "stdout",
     "output_type": "stream",
     "text": [
      "Training Error: \n",
      " Avg loss: 0.009051 \n",
      "\n"
     ]
    },
    {
     "name": "stderr",
     "output_type": "stream",
     "text": [
      "100%|██████████| 19/19 [00:38<00:00,  2.04s/it]\n"
     ]
    },
    {
     "name": "stdout",
     "output_type": "stream",
     "text": [
      "Validation Error: \n",
      " Avg loss: 0.005160 \n",
      "\n",
      "Learning rate (antes): 0.0009009999999999999\n",
      "Learning rate (depois): 0.0008844999999999999\n",
      "\n",
      "epoch 7\n",
      "-------------------------------\n",
      "Training on 162186 samples...\n",
      "Batch size: 2867\n",
      "Number of batches: 57\n"
     ]
    },
    {
     "name": "stderr",
     "output_type": "stream",
     "text": [
      "100%|██████████| 57/57 [02:46<00:00,  2.92s/it]\n"
     ]
    },
    {
     "name": "stdout",
     "output_type": "stream",
     "text": [
      "Training Error: \n",
      " Avg loss: 0.008849 \n",
      "\n"
     ]
    },
    {
     "name": "stderr",
     "output_type": "stream",
     "text": [
      "100%|██████████| 19/19 [00:36<00:00,  1.90s/it]\n"
     ]
    },
    {
     "name": "stdout",
     "output_type": "stream",
     "text": [
      "Validation Error: \n",
      " Avg loss: 0.005099 \n",
      "\n",
      "Learning rate (antes): 0.0008844999999999999\n",
      "Learning rate (depois): 0.0008679999999999998\n",
      "\n",
      "epoch 8\n",
      "-------------------------------\n",
      "Training on 162186 samples...\n",
      "Batch size: 2867\n",
      "Number of batches: 57\n"
     ]
    },
    {
     "name": "stderr",
     "output_type": "stream",
     "text": [
      "100%|██████████| 57/57 [02:41<00:00,  2.83s/it]\n"
     ]
    },
    {
     "name": "stdout",
     "output_type": "stream",
     "text": [
      "Training Error: \n",
      " Avg loss: 0.008684 \n",
      "\n"
     ]
    },
    {
     "name": "stderr",
     "output_type": "stream",
     "text": [
      "100%|██████████| 19/19 [00:39<00:00,  2.09s/it]\n"
     ]
    },
    {
     "name": "stdout",
     "output_type": "stream",
     "text": [
      "Validation Error: \n",
      " Avg loss: 0.004839 \n",
      "\n",
      "Learning rate (antes): 0.0008679999999999998\n",
      "Learning rate (depois): 0.0008514999999999998\n",
      "\n",
      "epoch 9\n",
      "-------------------------------\n",
      "Training on 162186 samples...\n",
      "Batch size: 2867\n",
      "Number of batches: 57\n"
     ]
    },
    {
     "name": "stderr",
     "output_type": "stream",
     "text": [
      "100%|██████████| 57/57 [02:41<00:00,  2.84s/it]\n"
     ]
    },
    {
     "name": "stdout",
     "output_type": "stream",
     "text": [
      "Training Error: \n",
      " Avg loss: 0.008573 \n",
      "\n"
     ]
    },
    {
     "name": "stderr",
     "output_type": "stream",
     "text": [
      "100%|██████████| 19/19 [00:38<00:00,  2.02s/it]\n"
     ]
    },
    {
     "name": "stdout",
     "output_type": "stream",
     "text": [
      "Validation Error: \n",
      " Avg loss: 0.004736 \n",
      "\n",
      "Learning rate (antes): 0.0008514999999999998\n",
      "Learning rate (depois): 0.0008349999999999998\n",
      "\n",
      "epoch 10\n",
      "-------------------------------\n",
      "Training on 162186 samples...\n",
      "Batch size: 2867\n",
      "Number of batches: 57\n"
     ]
    },
    {
     "name": "stderr",
     "output_type": "stream",
     "text": [
      "100%|██████████| 57/57 [02:44<00:00,  2.89s/it]\n"
     ]
    },
    {
     "name": "stdout",
     "output_type": "stream",
     "text": [
      "Training Error: \n",
      " Avg loss: 0.008494 \n",
      "\n"
     ]
    },
    {
     "name": "stderr",
     "output_type": "stream",
     "text": [
      "100%|██████████| 19/19 [00:36<00:00,  1.93s/it]\n"
     ]
    },
    {
     "name": "stdout",
     "output_type": "stream",
     "text": [
      "Validation Error: \n",
      " Avg loss: 0.004657 \n",
      "\n",
      "Learning rate (antes): 0.0008349999999999998\n",
      "Learning rate (depois): 0.0008184999999999998\n",
      "\n",
      "epoch 11\n",
      "-------------------------------\n",
      "Training on 162186 samples...\n",
      "Batch size: 2867\n",
      "Number of batches: 57\n"
     ]
    },
    {
     "name": "stderr",
     "output_type": "stream",
     "text": [
      "100%|██████████| 57/57 [02:41<00:00,  2.83s/it]\n"
     ]
    },
    {
     "name": "stdout",
     "output_type": "stream",
     "text": [
      "Training Error: \n",
      " Avg loss: 0.008409 \n",
      "\n"
     ]
    },
    {
     "name": "stderr",
     "output_type": "stream",
     "text": [
      "100%|██████████| 19/19 [00:36<00:00,  1.92s/it]\n"
     ]
    },
    {
     "name": "stdout",
     "output_type": "stream",
     "text": [
      "Validation Error: \n",
      " Avg loss: 0.004749 \n",
      "\n",
      "Learning rate (antes): 0.0008184999999999998\n",
      "Learning rate (depois): 0.0008019999999999998\n",
      "\n",
      "epoch 12\n",
      "-------------------------------\n",
      "Training on 162186 samples...\n",
      "Batch size: 2867\n",
      "Number of batches: 57\n"
     ]
    },
    {
     "name": "stderr",
     "output_type": "stream",
     "text": [
      "100%|██████████| 57/57 [02:43<00:00,  2.87s/it]\n"
     ]
    },
    {
     "name": "stdout",
     "output_type": "stream",
     "text": [
      "Training Error: \n",
      " Avg loss: 0.008339 \n",
      "\n"
     ]
    },
    {
     "name": "stderr",
     "output_type": "stream",
     "text": [
      "100%|██████████| 19/19 [00:38<00:00,  2.01s/it]\n"
     ]
    },
    {
     "name": "stdout",
     "output_type": "stream",
     "text": [
      "Validation Error: \n",
      " Avg loss: 0.004503 \n",
      "\n",
      "Learning rate (antes): 0.0008019999999999998\n",
      "Learning rate (depois): 0.0007854999999999997\n",
      "\n",
      "epoch 13\n",
      "-------------------------------\n",
      "Training on 162186 samples...\n",
      "Batch size: 2867\n",
      "Number of batches: 57\n"
     ]
    },
    {
     "name": "stderr",
     "output_type": "stream",
     "text": [
      "100%|██████████| 57/57 [02:44<00:00,  2.88s/it]\n"
     ]
    },
    {
     "name": "stdout",
     "output_type": "stream",
     "text": [
      "Training Error: \n",
      " Avg loss: 0.008300 \n",
      "\n"
     ]
    },
    {
     "name": "stderr",
     "output_type": "stream",
     "text": [
      "100%|██████████| 19/19 [00:37<00:00,  1.99s/it]\n"
     ]
    },
    {
     "name": "stdout",
     "output_type": "stream",
     "text": [
      "Validation Error: \n",
      " Avg loss: 0.004447 \n",
      "\n",
      "Learning rate (antes): 0.0007854999999999997\n",
      "Learning rate (depois): 0.0007689999999999997\n",
      "\n",
      "epoch 14\n",
      "-------------------------------\n",
      "Training on 162186 samples...\n",
      "Batch size: 2867\n",
      "Number of batches: 57\n"
     ]
    },
    {
     "name": "stderr",
     "output_type": "stream",
     "text": [
      "100%|██████████| 57/57 [02:45<00:00,  2.90s/it]\n"
     ]
    },
    {
     "name": "stdout",
     "output_type": "stream",
     "text": [
      "Training Error: \n",
      " Avg loss: 0.008209 \n",
      "\n"
     ]
    },
    {
     "name": "stderr",
     "output_type": "stream",
     "text": [
      "100%|██████████| 19/19 [00:36<00:00,  1.91s/it]\n"
     ]
    },
    {
     "name": "stdout",
     "output_type": "stream",
     "text": [
      "Validation Error: \n",
      " Avg loss: 0.004430 \n",
      "\n",
      "Learning rate (antes): 0.0007689999999999997\n",
      "Learning rate (depois): 0.0007524999999999997\n",
      "\n",
      "epoch 15\n",
      "-------------------------------\n",
      "Training on 162186 samples...\n",
      "Batch size: 2867\n",
      "Number of batches: 57\n"
     ]
    },
    {
     "name": "stderr",
     "output_type": "stream",
     "text": [
      "100%|██████████| 57/57 [02:44<00:00,  2.88s/it]\n"
     ]
    },
    {
     "name": "stdout",
     "output_type": "stream",
     "text": [
      "Training Error: \n",
      " Avg loss: 0.008168 \n",
      "\n"
     ]
    },
    {
     "name": "stderr",
     "output_type": "stream",
     "text": [
      "100%|██████████| 19/19 [00:39<00:00,  2.10s/it]\n"
     ]
    },
    {
     "name": "stdout",
     "output_type": "stream",
     "text": [
      "Validation Error: \n",
      " Avg loss: 0.004391 \n",
      "\n",
      "Learning rate (antes): 0.0007524999999999997\n",
      "Learning rate (depois): 0.0007359999999999997\n",
      "\n",
      "epoch 16\n",
      "-------------------------------\n",
      "Training on 162186 samples...\n",
      "Batch size: 2867\n",
      "Number of batches: 57\n"
     ]
    },
    {
     "name": "stderr",
     "output_type": "stream",
     "text": [
      "100%|██████████| 57/57 [03:07<00:00,  3.28s/it]\n"
     ]
    },
    {
     "name": "stdout",
     "output_type": "stream",
     "text": [
      "Training Error: \n",
      " Avg loss: 0.008132 \n",
      "\n"
     ]
    },
    {
     "name": "stderr",
     "output_type": "stream",
     "text": [
      "100%|██████████| 19/19 [00:35<00:00,  1.88s/it]\n"
     ]
    },
    {
     "name": "stdout",
     "output_type": "stream",
     "text": [
      "Validation Error: \n",
      " Avg loss: 0.004273 \n",
      "\n",
      "Learning rate (antes): 0.0007359999999999997\n",
      "Learning rate (depois): 0.0007194999999999997\n",
      "\n",
      "epoch 17\n",
      "-------------------------------\n",
      "Training on 162186 samples...\n",
      "Batch size: 2867\n",
      "Number of batches: 57\n"
     ]
    },
    {
     "name": "stderr",
     "output_type": "stream",
     "text": [
      "100%|██████████| 57/57 [02:43<00:00,  2.87s/it]\n"
     ]
    },
    {
     "name": "stdout",
     "output_type": "stream",
     "text": [
      "Training Error: \n",
      " Avg loss: 0.008042 \n",
      "\n"
     ]
    },
    {
     "name": "stderr",
     "output_type": "stream",
     "text": [
      "100%|██████████| 19/19 [00:38<00:00,  2.04s/it]\n"
     ]
    },
    {
     "name": "stdout",
     "output_type": "stream",
     "text": [
      "Validation Error: \n",
      " Avg loss: 0.004234 \n",
      "\n",
      "Learning rate (antes): 0.0007194999999999997\n",
      "Learning rate (depois): 0.0007029999999999996\n",
      "\n",
      "epoch 18\n",
      "-------------------------------\n",
      "Training on 162186 samples...\n",
      "Batch size: 2867\n",
      "Number of batches: 57\n"
     ]
    },
    {
     "name": "stderr",
     "output_type": "stream",
     "text": [
      "100%|██████████| 57/57 [02:42<00:00,  2.86s/it]\n"
     ]
    },
    {
     "name": "stdout",
     "output_type": "stream",
     "text": [
      "Training Error: \n",
      " Avg loss: 0.008004 \n",
      "\n"
     ]
    },
    {
     "name": "stderr",
     "output_type": "stream",
     "text": [
      "100%|██████████| 19/19 [00:38<00:00,  2.02s/it]\n"
     ]
    },
    {
     "name": "stdout",
     "output_type": "stream",
     "text": [
      "Validation Error: \n",
      " Avg loss: 0.004180 \n",
      "\n",
      "Learning rate (antes): 0.0007029999999999996\n",
      "Learning rate (depois): 0.0006864999999999997\n",
      "\n",
      "epoch 19\n",
      "-------------------------------\n",
      "Training on 162186 samples...\n",
      "Batch size: 2867\n",
      "Number of batches: 57\n"
     ]
    },
    {
     "name": "stderr",
     "output_type": "stream",
     "text": [
      "100%|██████████| 57/57 [02:46<00:00,  2.91s/it]\n"
     ]
    },
    {
     "name": "stdout",
     "output_type": "stream",
     "text": [
      "Training Error: \n",
      " Avg loss: 0.007959 \n",
      "\n"
     ]
    },
    {
     "name": "stderr",
     "output_type": "stream",
     "text": [
      "100%|██████████| 19/19 [00:38<00:00,  2.01s/it]\n"
     ]
    },
    {
     "name": "stdout",
     "output_type": "stream",
     "text": [
      "Validation Error: \n",
      " Avg loss: 0.004158 \n",
      "\n",
      "Learning rate (antes): 0.0006864999999999997\n",
      "Learning rate (depois): 0.0006699999999999997\n",
      "\n",
      "epoch 20\n",
      "-------------------------------\n",
      "Training on 162186 samples...\n",
      "Batch size: 2867\n",
      "Number of batches: 57\n"
     ]
    },
    {
     "name": "stderr",
     "output_type": "stream",
     "text": [
      "100%|██████████| 57/57 [02:48<00:00,  2.95s/it]\n"
     ]
    },
    {
     "name": "stdout",
     "output_type": "stream",
     "text": [
      "Training Error: \n",
      " Avg loss: 0.007925 \n",
      "\n"
     ]
    },
    {
     "name": "stderr",
     "output_type": "stream",
     "text": [
      "100%|██████████| 19/19 [00:36<00:00,  1.92s/it]\n"
     ]
    },
    {
     "name": "stdout",
     "output_type": "stream",
     "text": [
      "Validation Error: \n",
      " Avg loss: 0.004236 \n",
      "\n",
      "Learning rate (antes): 0.0006699999999999997\n",
      "Learning rate (depois): 0.0006534999999999998\n",
      "\n",
      "epoch 21\n",
      "-------------------------------\n",
      "Training on 162186 samples...\n",
      "Batch size: 2867\n",
      "Number of batches: 57\n"
     ]
    },
    {
     "name": "stderr",
     "output_type": "stream",
     "text": [
      "100%|██████████| 57/57 [02:40<00:00,  2.82s/it]\n"
     ]
    },
    {
     "name": "stdout",
     "output_type": "stream",
     "text": [
      "Training Error: \n",
      " Avg loss: 0.007878 \n",
      "\n"
     ]
    },
    {
     "name": "stderr",
     "output_type": "stream",
     "text": [
      "100%|██████████| 19/19 [00:35<00:00,  1.88s/it]\n"
     ]
    },
    {
     "name": "stdout",
     "output_type": "stream",
     "text": [
      "Validation Error: \n",
      " Avg loss: 0.004040 \n",
      "\n",
      "Learning rate (antes): 0.0006534999999999998\n",
      "Learning rate (depois): 0.0006369999999999998\n",
      "\n",
      "epoch 22\n",
      "-------------------------------\n",
      "Training on 162186 samples...\n",
      "Batch size: 2867\n",
      "Number of batches: 57\n"
     ]
    },
    {
     "name": "stderr",
     "output_type": "stream",
     "text": [
      "100%|██████████| 57/57 [02:43<00:00,  2.87s/it]\n"
     ]
    },
    {
     "name": "stdout",
     "output_type": "stream",
     "text": [
      "Training Error: \n",
      " Avg loss: 0.007849 \n",
      "\n"
     ]
    },
    {
     "name": "stderr",
     "output_type": "stream",
     "text": [
      "100%|██████████| 19/19 [00:39<00:00,  2.08s/it]\n"
     ]
    },
    {
     "name": "stdout",
     "output_type": "stream",
     "text": [
      "Validation Error: \n",
      " Avg loss: 0.004037 \n",
      "\n",
      "Learning rate (antes): 0.0006369999999999998\n",
      "Learning rate (depois): 0.0006204999999999997\n",
      "\n",
      "epoch 23\n",
      "-------------------------------\n",
      "Training on 162186 samples...\n",
      "Batch size: 2867\n",
      "Number of batches: 57\n"
     ]
    },
    {
     "name": "stderr",
     "output_type": "stream",
     "text": [
      "100%|██████████| 57/57 [02:47<00:00,  2.94s/it]\n"
     ]
    },
    {
     "name": "stdout",
     "output_type": "stream",
     "text": [
      "Training Error: \n",
      " Avg loss: 0.007804 \n",
      "\n"
     ]
    },
    {
     "name": "stderr",
     "output_type": "stream",
     "text": [
      "100%|██████████| 19/19 [00:36<00:00,  1.91s/it]\n"
     ]
    },
    {
     "name": "stdout",
     "output_type": "stream",
     "text": [
      "Validation Error: \n",
      " Avg loss: 0.004000 \n",
      "\n",
      "Learning rate (antes): 0.0006204999999999997\n",
      "Learning rate (depois): 0.0006039999999999997\n",
      "\n",
      "epoch 24\n",
      "-------------------------------\n",
      "Training on 162186 samples...\n",
      "Batch size: 2867\n",
      "Number of batches: 57\n"
     ]
    },
    {
     "name": "stderr",
     "output_type": "stream",
     "text": [
      "100%|██████████| 57/57 [02:43<00:00,  2.86s/it]\n"
     ]
    },
    {
     "name": "stdout",
     "output_type": "stream",
     "text": [
      "Training Error: \n",
      " Avg loss: 0.007779 \n",
      "\n"
     ]
    },
    {
     "name": "stderr",
     "output_type": "stream",
     "text": [
      "100%|██████████| 19/19 [00:38<00:00,  2.01s/it]\n"
     ]
    },
    {
     "name": "stdout",
     "output_type": "stream",
     "text": [
      "Validation Error: \n",
      " Avg loss: 0.003963 \n",
      "\n",
      "Learning rate (antes): 0.0006039999999999997\n",
      "Learning rate (depois): 0.0005874999999999997\n",
      "\n",
      "epoch 25\n",
      "-------------------------------\n",
      "Training on 162186 samples...\n",
      "Batch size: 2867\n",
      "Number of batches: 57\n"
     ]
    },
    {
     "name": "stderr",
     "output_type": "stream",
     "text": [
      "100%|██████████| 57/57 [02:43<00:00,  2.87s/it]\n"
     ]
    },
    {
     "name": "stdout",
     "output_type": "stream",
     "text": [
      "Training Error: \n",
      " Avg loss: 0.007746 \n",
      "\n"
     ]
    },
    {
     "name": "stderr",
     "output_type": "stream",
     "text": [
      "100%|██████████| 19/19 [00:36<00:00,  1.90s/it]\n"
     ]
    },
    {
     "name": "stdout",
     "output_type": "stream",
     "text": [
      "Validation Error: \n",
      " Avg loss: 0.003923 \n",
      "\n",
      "Learning rate (antes): 0.0005874999999999997\n",
      "Learning rate (depois): 0.0005709999999999998\n",
      "\n",
      "epoch 26\n",
      "-------------------------------\n",
      "Training on 162186 samples...\n",
      "Batch size: 2867\n",
      "Number of batches: 57\n"
     ]
    },
    {
     "name": "stderr",
     "output_type": "stream",
     "text": [
      "100%|██████████| 57/57 [03:11<00:00,  3.36s/it]\n"
     ]
    },
    {
     "name": "stdout",
     "output_type": "stream",
     "text": [
      "Training Error: \n",
      " Avg loss: 0.007713 \n",
      "\n"
     ]
    },
    {
     "name": "stderr",
     "output_type": "stream",
     "text": [
      "100%|██████████| 19/19 [00:40<00:00,  2.11s/it]\n"
     ]
    },
    {
     "name": "stdout",
     "output_type": "stream",
     "text": [
      "Validation Error: \n",
      " Avg loss: 0.003917 \n",
      "\n",
      "Learning rate (antes): 0.0005709999999999998\n",
      "Learning rate (depois): 0.0005544999999999998\n",
      "\n",
      "epoch 27\n",
      "-------------------------------\n",
      "Training on 162186 samples...\n",
      "Batch size: 2867\n",
      "Number of batches: 57\n"
     ]
    },
    {
     "name": "stderr",
     "output_type": "stream",
     "text": [
      "100%|██████████| 57/57 [02:45<00:00,  2.91s/it]\n"
     ]
    },
    {
     "name": "stdout",
     "output_type": "stream",
     "text": [
      "Training Error: \n",
      " Avg loss: 0.007685 \n",
      "\n"
     ]
    },
    {
     "name": "stderr",
     "output_type": "stream",
     "text": [
      "100%|██████████| 19/19 [00:39<00:00,  2.06s/it]\n"
     ]
    },
    {
     "name": "stdout",
     "output_type": "stream",
     "text": [
      "Validation Error: \n",
      " Avg loss: 0.003893 \n",
      "\n",
      "Learning rate (antes): 0.0005544999999999998\n",
      "Learning rate (depois): 0.0005379999999999997\n",
      "\n",
      "epoch 28\n",
      "-------------------------------\n",
      "Training on 162186 samples...\n",
      "Batch size: 2867\n",
      "Number of batches: 57\n"
     ]
    },
    {
     "name": "stderr",
     "output_type": "stream",
     "text": [
      "100%|██████████| 57/57 [02:41<00:00,  2.83s/it]\n"
     ]
    },
    {
     "name": "stdout",
     "output_type": "stream",
     "text": [
      "Training Error: \n",
      " Avg loss: 0.007678 \n",
      "\n"
     ]
    },
    {
     "name": "stderr",
     "output_type": "stream",
     "text": [
      "100%|██████████| 19/19 [00:37<00:00,  2.00s/it]\n"
     ]
    },
    {
     "name": "stdout",
     "output_type": "stream",
     "text": [
      "Validation Error: \n",
      " Avg loss: 0.003866 \n",
      "\n",
      "Learning rate (antes): 0.0005379999999999997\n",
      "Learning rate (depois): 0.0005214999999999997\n",
      "\n",
      "epoch 29\n",
      "-------------------------------\n",
      "Training on 162186 samples...\n",
      "Batch size: 2867\n",
      "Number of batches: 57\n"
     ]
    },
    {
     "name": "stderr",
     "output_type": "stream",
     "text": [
      "100%|██████████| 57/57 [02:46<00:00,  2.91s/it]\n"
     ]
    },
    {
     "name": "stdout",
     "output_type": "stream",
     "text": [
      "Training Error: \n",
      " Avg loss: 0.007648 \n",
      "\n"
     ]
    },
    {
     "name": "stderr",
     "output_type": "stream",
     "text": [
      "100%|██████████| 19/19 [00:38<00:00,  2.04s/it]\n"
     ]
    },
    {
     "name": "stdout",
     "output_type": "stream",
     "text": [
      "Validation Error: \n",
      " Avg loss: 0.003854 \n",
      "\n",
      "Learning rate (antes): 0.0005214999999999997\n",
      "Learning rate (depois): 0.0005049999999999997\n",
      "\n",
      "epoch 30\n",
      "-------------------------------\n",
      "Training on 162186 samples...\n",
      "Batch size: 2867\n",
      "Number of batches: 57\n"
     ]
    },
    {
     "name": "stderr",
     "output_type": "stream",
     "text": [
      "100%|██████████| 57/57 [02:45<00:00,  2.90s/it]\n"
     ]
    },
    {
     "name": "stdout",
     "output_type": "stream",
     "text": [
      "Training Error: \n",
      " Avg loss: 0.007627 \n",
      "\n"
     ]
    },
    {
     "name": "stderr",
     "output_type": "stream",
     "text": [
      "100%|██████████| 19/19 [00:38<00:00,  2.03s/it]\n"
     ]
    },
    {
     "name": "stdout",
     "output_type": "stream",
     "text": [
      "Validation Error: \n",
      " Avg loss: 0.003824 \n",
      "\n",
      "Learning rate (antes): 0.0005049999999999997\n",
      "Learning rate (depois): 0.0004884999999999997\n",
      "\n",
      "epoch 31\n",
      "-------------------------------\n",
      "Training on 162186 samples...\n",
      "Batch size: 2867\n",
      "Number of batches: 57\n"
     ]
    },
    {
     "name": "stderr",
     "output_type": "stream",
     "text": [
      "100%|██████████| 57/57 [02:41<00:00,  2.83s/it]\n"
     ]
    },
    {
     "name": "stdout",
     "output_type": "stream",
     "text": [
      "Training Error: \n",
      " Avg loss: 0.007612 \n",
      "\n"
     ]
    },
    {
     "name": "stderr",
     "output_type": "stream",
     "text": [
      "100%|██████████| 19/19 [00:35<00:00,  1.88s/it]\n"
     ]
    },
    {
     "name": "stdout",
     "output_type": "stream",
     "text": [
      "Validation Error: \n",
      " Avg loss: 0.003807 \n",
      "\n",
      "Learning rate (antes): 0.0004884999999999997\n",
      "Learning rate (depois): 0.0004719999999999997\n",
      "\n",
      "epoch 32\n",
      "-------------------------------\n",
      "Training on 162186 samples...\n",
      "Batch size: 2867\n",
      "Number of batches: 57\n"
     ]
    },
    {
     "name": "stderr",
     "output_type": "stream",
     "text": [
      "100%|██████████| 57/57 [02:40<00:00,  2.81s/it]\n"
     ]
    },
    {
     "name": "stdout",
     "output_type": "stream",
     "text": [
      "Training Error: \n",
      " Avg loss: 0.007592 \n",
      "\n"
     ]
    },
    {
     "name": "stderr",
     "output_type": "stream",
     "text": [
      "100%|██████████| 19/19 [00:33<00:00,  1.76s/it]\n"
     ]
    },
    {
     "name": "stdout",
     "output_type": "stream",
     "text": [
      "Validation Error: \n",
      " Avg loss: 0.003809 \n",
      "\n",
      "Learning rate (antes): 0.0004719999999999997\n",
      "Learning rate (depois): 0.00045549999999999974\n",
      "\n",
      "epoch 33\n",
      "-------------------------------\n",
      "Training on 162186 samples...\n",
      "Batch size: 2867\n",
      "Number of batches: 57\n"
     ]
    },
    {
     "name": "stderr",
     "output_type": "stream",
     "text": [
      "100%|██████████| 57/57 [02:43<00:00,  2.87s/it]\n"
     ]
    },
    {
     "name": "stdout",
     "output_type": "stream",
     "text": [
      "Training Error: \n",
      " Avg loss: 0.007576 \n",
      "\n"
     ]
    },
    {
     "name": "stderr",
     "output_type": "stream",
     "text": [
      "100%|██████████| 19/19 [00:38<00:00,  2.01s/it]\n"
     ]
    },
    {
     "name": "stdout",
     "output_type": "stream",
     "text": [
      "Validation Error: \n",
      " Avg loss: 0.003787 \n",
      "\n",
      "Learning rate (antes): 0.00045549999999999974\n",
      "Learning rate (depois): 0.0004389999999999998\n",
      "\n",
      "epoch 34\n",
      "-------------------------------\n",
      "Training on 162186 samples...\n",
      "Batch size: 2867\n",
      "Number of batches: 57\n"
     ]
    },
    {
     "name": "stderr",
     "output_type": "stream",
     "text": [
      "100%|██████████| 57/57 [02:42<00:00,  2.86s/it]\n"
     ]
    },
    {
     "name": "stdout",
     "output_type": "stream",
     "text": [
      "Training Error: \n",
      " Avg loss: 0.007563 \n",
      "\n"
     ]
    },
    {
     "name": "stderr",
     "output_type": "stream",
     "text": [
      "100%|██████████| 19/19 [00:37<00:00,  1.97s/it]\n"
     ]
    },
    {
     "name": "stdout",
     "output_type": "stream",
     "text": [
      "Validation Error: \n",
      " Avg loss: 0.003766 \n",
      "\n",
      "Learning rate (antes): 0.0004389999999999998\n",
      "Learning rate (depois): 0.00042249999999999975\n",
      "\n",
      "epoch 35\n",
      "-------------------------------\n",
      "Training on 162186 samples...\n",
      "Batch size: 2867\n",
      "Number of batches: 57\n"
     ]
    },
    {
     "name": "stderr",
     "output_type": "stream",
     "text": [
      "100%|██████████| 57/57 [02:43<00:00,  2.86s/it]\n"
     ]
    },
    {
     "name": "stdout",
     "output_type": "stream",
     "text": [
      "Training Error: \n",
      " Avg loss: 0.007549 \n",
      "\n"
     ]
    },
    {
     "name": "stderr",
     "output_type": "stream",
     "text": [
      "100%|██████████| 19/19 [00:38<00:00,  2.00s/it]\n"
     ]
    },
    {
     "name": "stdout",
     "output_type": "stream",
     "text": [
      "Validation Error: \n",
      " Avg loss: 0.003765 \n",
      "\n",
      "Learning rate (antes): 0.00042249999999999975\n",
      "Learning rate (depois): 0.0004059999999999998\n",
      "\n",
      "epoch 36\n",
      "-------------------------------\n",
      "Training on 162186 samples...\n",
      "Batch size: 2867\n",
      "Number of batches: 57\n"
     ]
    },
    {
     "name": "stderr",
     "output_type": "stream",
     "text": [
      "100%|██████████| 57/57 [02:45<00:00,  2.90s/it]\n"
     ]
    },
    {
     "name": "stdout",
     "output_type": "stream",
     "text": [
      "Training Error: \n",
      " Avg loss: 0.007539 \n",
      "\n"
     ]
    },
    {
     "name": "stderr",
     "output_type": "stream",
     "text": [
      "100%|██████████| 19/19 [00:36<00:00,  1.94s/it]\n"
     ]
    },
    {
     "name": "stdout",
     "output_type": "stream",
     "text": [
      "Validation Error: \n",
      " Avg loss: 0.003753 \n",
      "\n",
      "Learning rate (antes): 0.0004059999999999998\n",
      "Learning rate (depois): 0.0003894999999999998\n",
      "\n",
      "epoch 37\n",
      "-------------------------------\n",
      "Training on 162186 samples...\n",
      "Batch size: 2867\n",
      "Number of batches: 57\n"
     ]
    },
    {
     "name": "stderr",
     "output_type": "stream",
     "text": [
      "100%|██████████| 57/57 [02:44<00:00,  2.88s/it]\n"
     ]
    },
    {
     "name": "stdout",
     "output_type": "stream",
     "text": [
      "Training Error: \n",
      " Avg loss: 0.007524 \n",
      "\n"
     ]
    },
    {
     "name": "stderr",
     "output_type": "stream",
     "text": [
      "100%|██████████| 19/19 [00:38<00:00,  2.01s/it]\n"
     ]
    },
    {
     "name": "stdout",
     "output_type": "stream",
     "text": [
      "Validation Error: \n",
      " Avg loss: 0.003736 \n",
      "\n",
      "Learning rate (antes): 0.0003894999999999998\n",
      "Learning rate (depois): 0.00037299999999999985\n",
      "\n",
      "epoch 38\n",
      "-------------------------------\n",
      "Training on 162186 samples...\n",
      "Batch size: 2867\n",
      "Number of batches: 57\n"
     ]
    },
    {
     "name": "stderr",
     "output_type": "stream",
     "text": [
      "100%|██████████| 57/57 [02:43<00:00,  2.87s/it]\n"
     ]
    },
    {
     "name": "stdout",
     "output_type": "stream",
     "text": [
      "Training Error: \n",
      " Avg loss: 0.007513 \n",
      "\n"
     ]
    },
    {
     "name": "stderr",
     "output_type": "stream",
     "text": [
      "100%|██████████| 19/19 [00:39<00:00,  2.06s/it]\n"
     ]
    },
    {
     "name": "stdout",
     "output_type": "stream",
     "text": [
      "Validation Error: \n",
      " Avg loss: 0.003730 \n",
      "\n",
      "Learning rate (antes): 0.00037299999999999985\n",
      "Learning rate (depois): 0.00035649999999999983\n",
      "\n",
      "epoch 39\n",
      "-------------------------------\n",
      "Training on 162186 samples...\n",
      "Batch size: 2867\n",
      "Number of batches: 57\n"
     ]
    },
    {
     "name": "stderr",
     "output_type": "stream",
     "text": [
      "100%|██████████| 57/57 [02:42<00:00,  2.85s/it]\n"
     ]
    },
    {
     "name": "stdout",
     "output_type": "stream",
     "text": [
      "Training Error: \n",
      " Avg loss: 0.007504 \n",
      "\n"
     ]
    },
    {
     "name": "stderr",
     "output_type": "stream",
     "text": [
      "100%|██████████| 19/19 [00:38<00:00,  2.02s/it]\n"
     ]
    },
    {
     "name": "stdout",
     "output_type": "stream",
     "text": [
      "Validation Error: \n",
      " Avg loss: 0.003718 \n",
      "\n",
      "Learning rate (antes): 0.00035649999999999983\n",
      "Learning rate (depois): 0.0003399999999999998\n",
      "\n",
      "epoch 40\n",
      "-------------------------------\n",
      "Training on 162186 samples...\n",
      "Batch size: 2867\n",
      "Number of batches: 57\n"
     ]
    },
    {
     "name": "stderr",
     "output_type": "stream",
     "text": [
      "100%|██████████| 57/57 [02:48<00:00,  2.95s/it]\n"
     ]
    },
    {
     "name": "stdout",
     "output_type": "stream",
     "text": [
      "Training Error: \n",
      " Avg loss: 0.007497 \n",
      "\n"
     ]
    },
    {
     "name": "stderr",
     "output_type": "stream",
     "text": [
      "100%|██████████| 19/19 [00:35<00:00,  1.89s/it]\n"
     ]
    },
    {
     "name": "stdout",
     "output_type": "stream",
     "text": [
      "Validation Error: \n",
      " Avg loss: 0.003711 \n",
      "\n",
      "Learning rate (antes): 0.0003399999999999998\n",
      "Learning rate (depois): 0.0003234999999999998\n",
      "\n",
      "epoch 41\n",
      "-------------------------------\n",
      "Training on 162186 samples...\n",
      "Batch size: 2867\n",
      "Number of batches: 57\n"
     ]
    },
    {
     "name": "stderr",
     "output_type": "stream",
     "text": [
      "100%|██████████| 57/57 [02:45<00:00,  2.91s/it]\n"
     ]
    },
    {
     "name": "stdout",
     "output_type": "stream",
     "text": [
      "Training Error: \n",
      " Avg loss: 0.007491 \n",
      "\n"
     ]
    },
    {
     "name": "stderr",
     "output_type": "stream",
     "text": [
      "100%|██████████| 19/19 [00:38<00:00,  2.03s/it]\n"
     ]
    },
    {
     "name": "stdout",
     "output_type": "stream",
     "text": [
      "Validation Error: \n",
      " Avg loss: 0.003703 \n",
      "\n",
      "Learning rate (antes): 0.0003234999999999998\n",
      "Learning rate (depois): 0.00030699999999999976\n",
      "\n",
      "epoch 42\n",
      "-------------------------------\n",
      "Training on 162186 samples...\n",
      "Batch size: 2867\n",
      "Number of batches: 57\n"
     ]
    },
    {
     "name": "stderr",
     "output_type": "stream",
     "text": [
      "100%|██████████| 57/57 [02:49<00:00,  2.98s/it]\n"
     ]
    },
    {
     "name": "stdout",
     "output_type": "stream",
     "text": [
      "Training Error: \n",
      " Avg loss: 0.007479 \n",
      "\n"
     ]
    },
    {
     "name": "stderr",
     "output_type": "stream",
     "text": [
      "100%|██████████| 19/19 [00:35<00:00,  1.88s/it]\n"
     ]
    },
    {
     "name": "stdout",
     "output_type": "stream",
     "text": [
      "Validation Error: \n",
      " Avg loss: 0.003697 \n",
      "\n",
      "Learning rate (antes): 0.00030699999999999976\n",
      "Learning rate (depois): 0.00029049999999999974\n",
      "\n",
      "epoch 43\n",
      "-------------------------------\n",
      "Training on 162186 samples...\n",
      "Batch size: 2867\n",
      "Number of batches: 57\n"
     ]
    },
    {
     "name": "stderr",
     "output_type": "stream",
     "text": [
      "100%|██████████| 57/57 [02:46<00:00,  2.92s/it]\n"
     ]
    },
    {
     "name": "stdout",
     "output_type": "stream",
     "text": [
      "Training Error: \n",
      " Avg loss: 0.007470 \n",
      "\n"
     ]
    },
    {
     "name": "stderr",
     "output_type": "stream",
     "text": [
      "100%|██████████| 19/19 [00:36<00:00,  1.93s/it]\n"
     ]
    },
    {
     "name": "stdout",
     "output_type": "stream",
     "text": [
      "Validation Error: \n",
      " Avg loss: 0.003691 \n",
      "\n",
      "Learning rate (antes): 0.00029049999999999974\n",
      "Learning rate (depois): 0.0002739999999999998\n",
      "\n",
      "epoch 44\n",
      "-------------------------------\n",
      "Training on 162186 samples...\n",
      "Batch size: 2867\n",
      "Number of batches: 57\n"
     ]
    },
    {
     "name": "stderr",
     "output_type": "stream",
     "text": [
      "100%|██████████| 57/57 [02:51<00:00,  3.01s/it]\n"
     ]
    },
    {
     "name": "stdout",
     "output_type": "stream",
     "text": [
      "Training Error: \n",
      " Avg loss: 0.007463 \n",
      "\n"
     ]
    },
    {
     "name": "stderr",
     "output_type": "stream",
     "text": [
      "100%|██████████| 19/19 [00:39<00:00,  2.05s/it]\n"
     ]
    },
    {
     "name": "stdout",
     "output_type": "stream",
     "text": [
      "Validation Error: \n",
      " Avg loss: 0.003686 \n",
      "\n",
      "Learning rate (antes): 0.0002739999999999998\n",
      "Learning rate (depois): 0.0002574999999999998\n",
      "\n",
      "epoch 45\n",
      "-------------------------------\n",
      "Training on 162186 samples...\n",
      "Batch size: 2867\n",
      "Number of batches: 57\n"
     ]
    },
    {
     "name": "stderr",
     "output_type": "stream",
     "text": [
      "100%|██████████| 57/57 [02:47<00:00,  2.94s/it]\n"
     ]
    },
    {
     "name": "stdout",
     "output_type": "stream",
     "text": [
      "Training Error: \n",
      " Avg loss: 0.007456 \n",
      "\n"
     ]
    },
    {
     "name": "stderr",
     "output_type": "stream",
     "text": [
      "100%|██████████| 19/19 [00:38<00:00,  2.00s/it]\n"
     ]
    },
    {
     "name": "stdout",
     "output_type": "stream",
     "text": [
      "Validation Error: \n",
      " Avg loss: 0.003680 \n",
      "\n",
      "Learning rate (antes): 0.0002574999999999998\n",
      "Learning rate (depois): 0.0002409999999999998\n",
      "\n",
      "epoch 46\n",
      "-------------------------------\n",
      "Training on 162186 samples...\n",
      "Batch size: 2867\n",
      "Number of batches: 57\n"
     ]
    },
    {
     "name": "stderr",
     "output_type": "stream",
     "text": [
      "100%|██████████| 57/57 [02:44<00:00,  2.88s/it]\n"
     ]
    },
    {
     "name": "stdout",
     "output_type": "stream",
     "text": [
      "Training Error: \n",
      " Avg loss: 0.007451 \n",
      "\n"
     ]
    },
    {
     "name": "stderr",
     "output_type": "stream",
     "text": [
      "100%|██████████| 19/19 [00:36<00:00,  1.94s/it]\n"
     ]
    },
    {
     "name": "stdout",
     "output_type": "stream",
     "text": [
      "Validation Error: \n",
      " Avg loss: 0.003673 \n",
      "\n",
      "Learning rate (antes): 0.0002409999999999998\n",
      "Learning rate (depois): 0.00022449999999999982\n",
      "\n",
      "epoch 47\n",
      "-------------------------------\n",
      "Training on 162186 samples...\n",
      "Batch size: 2867\n",
      "Number of batches: 57\n"
     ]
    },
    {
     "name": "stderr",
     "output_type": "stream",
     "text": [
      "100%|██████████| 57/57 [02:47<00:00,  2.94s/it]\n"
     ]
    },
    {
     "name": "stdout",
     "output_type": "stream",
     "text": [
      "Training Error: \n",
      " Avg loss: 0.007442 \n",
      "\n"
     ]
    },
    {
     "name": "stderr",
     "output_type": "stream",
     "text": [
      "100%|██████████| 19/19 [00:37<00:00,  1.97s/it]\n"
     ]
    },
    {
     "name": "stdout",
     "output_type": "stream",
     "text": [
      "Validation Error: \n",
      " Avg loss: 0.003669 \n",
      "\n",
      "Learning rate (antes): 0.00022449999999999982\n",
      "Learning rate (depois): 0.00020799999999999982\n",
      "\n",
      "epoch 48\n",
      "-------------------------------\n",
      "Training on 162186 samples...\n",
      "Batch size: 2867\n",
      "Number of batches: 57\n"
     ]
    },
    {
     "name": "stderr",
     "output_type": "stream",
     "text": [
      "100%|██████████| 57/57 [02:44<00:00,  2.89s/it]\n"
     ]
    },
    {
     "name": "stdout",
     "output_type": "stream",
     "text": [
      "Training Error: \n",
      " Avg loss: 0.007438 \n",
      "\n"
     ]
    },
    {
     "name": "stderr",
     "output_type": "stream",
     "text": [
      "100%|██████████| 19/19 [00:37<00:00,  1.99s/it]\n"
     ]
    },
    {
     "name": "stdout",
     "output_type": "stream",
     "text": [
      "Validation Error: \n",
      " Avg loss: 0.003665 \n",
      "\n",
      "Learning rate (antes): 0.00020799999999999982\n",
      "Learning rate (depois): 0.00019149999999999986\n",
      "\n",
      "epoch 49\n",
      "-------------------------------\n",
      "Training on 162186 samples...\n",
      "Batch size: 2867\n",
      "Number of batches: 57\n"
     ]
    },
    {
     "name": "stderr",
     "output_type": "stream",
     "text": [
      "100%|██████████| 57/57 [02:49<00:00,  2.98s/it]\n"
     ]
    },
    {
     "name": "stdout",
     "output_type": "stream",
     "text": [
      "Training Error: \n",
      " Avg loss: 0.007436 \n",
      "\n"
     ]
    },
    {
     "name": "stderr",
     "output_type": "stream",
     "text": [
      "100%|██████████| 19/19 [00:36<00:00,  1.94s/it]\n"
     ]
    },
    {
     "name": "stdout",
     "output_type": "stream",
     "text": [
      "Validation Error: \n",
      " Avg loss: 0.003660 \n",
      "\n",
      "Learning rate (antes): 0.00019149999999999986\n",
      "Learning rate (depois): 0.00017499999999999986\n",
      "\n",
      "epoch 50\n",
      "-------------------------------\n",
      "Training on 162186 samples...\n",
      "Batch size: 2867\n",
      "Number of batches: 57\n"
     ]
    },
    {
     "name": "stderr",
     "output_type": "stream",
     "text": [
      "100%|██████████| 57/57 [02:45<00:00,  2.90s/it]\n"
     ]
    },
    {
     "name": "stdout",
     "output_type": "stream",
     "text": [
      "Training Error: \n",
      " Avg loss: 0.007431 \n",
      "\n"
     ]
    },
    {
     "name": "stderr",
     "output_type": "stream",
     "text": [
      "100%|██████████| 19/19 [00:39<00:00,  2.07s/it]\n"
     ]
    },
    {
     "name": "stdout",
     "output_type": "stream",
     "text": [
      "Validation Error: \n",
      " Avg loss: 0.003657 \n",
      "\n",
      "Learning rate (antes): 0.00017499999999999986\n",
      "Learning rate (depois): 0.00015849999999999987\n",
      "\n",
      "epoch 51\n",
      "-------------------------------\n",
      "Training on 162186 samples...\n",
      "Batch size: 2867\n",
      "Number of batches: 57\n"
     ]
    },
    {
     "name": "stderr",
     "output_type": "stream",
     "text": [
      "100%|██████████| 57/57 [02:44<00:00,  2.89s/it]\n"
     ]
    },
    {
     "name": "stdout",
     "output_type": "stream",
     "text": [
      "Training Error: \n",
      " Avg loss: 0.007424 \n",
      "\n"
     ]
    },
    {
     "name": "stderr",
     "output_type": "stream",
     "text": [
      "100%|██████████| 19/19 [00:39<00:00,  2.07s/it]\n"
     ]
    },
    {
     "name": "stdout",
     "output_type": "stream",
     "text": [
      "Validation Error: \n",
      " Avg loss: 0.003653 \n",
      "\n",
      "Learning rate (antes): 0.00015849999999999987\n",
      "Learning rate (depois): 0.00014199999999999987\n",
      "\n",
      "epoch 52\n",
      "-------------------------------\n",
      "Training on 162186 samples...\n",
      "Batch size: 2867\n",
      "Number of batches: 57\n"
     ]
    },
    {
     "name": "stderr",
     "output_type": "stream",
     "text": [
      "100%|██████████| 57/57 [02:47<00:00,  2.94s/it]\n"
     ]
    },
    {
     "name": "stdout",
     "output_type": "stream",
     "text": [
      "Training Error: \n",
      " Avg loss: 0.007423 \n",
      "\n"
     ]
    },
    {
     "name": "stderr",
     "output_type": "stream",
     "text": [
      "100%|██████████| 19/19 [00:36<00:00,  1.92s/it]\n"
     ]
    },
    {
     "name": "stdout",
     "output_type": "stream",
     "text": [
      "Validation Error: \n",
      " Avg loss: 0.003651 \n",
      "\n",
      "Learning rate (antes): 0.00014199999999999987\n",
      "Learning rate (depois): 0.0001254999999999999\n",
      "\n",
      "epoch 53\n",
      "-------------------------------\n",
      "Training on 162186 samples...\n",
      "Batch size: 2867\n",
      "Number of batches: 57\n"
     ]
    },
    {
     "name": "stderr",
     "output_type": "stream",
     "text": [
      "100%|██████████| 57/57 [02:45<00:00,  2.90s/it]\n"
     ]
    },
    {
     "name": "stdout",
     "output_type": "stream",
     "text": [
      "Training Error: \n",
      " Avg loss: 0.007418 \n",
      "\n"
     ]
    },
    {
     "name": "stderr",
     "output_type": "stream",
     "text": [
      "100%|██████████| 19/19 [00:37<00:00,  2.00s/it]\n"
     ]
    },
    {
     "name": "stdout",
     "output_type": "stream",
     "text": [
      "Validation Error: \n",
      " Avg loss: 0.003648 \n",
      "\n",
      "Learning rate (antes): 0.0001254999999999999\n",
      "Learning rate (depois): 0.00010899999999999993\n",
      "\n",
      "epoch 54\n",
      "-------------------------------\n",
      "Training on 162186 samples...\n",
      "Batch size: 2867\n",
      "Number of batches: 57\n"
     ]
    },
    {
     "name": "stderr",
     "output_type": "stream",
     "text": [
      "100%|██████████| 57/57 [02:47<00:00,  2.93s/it]\n"
     ]
    },
    {
     "name": "stdout",
     "output_type": "stream",
     "text": [
      "Training Error: \n",
      " Avg loss: 0.007418 \n",
      "\n"
     ]
    },
    {
     "name": "stderr",
     "output_type": "stream",
     "text": [
      "100%|██████████| 19/19 [00:38<00:00,  2.05s/it]\n"
     ]
    },
    {
     "name": "stdout",
     "output_type": "stream",
     "text": [
      "Validation Error: \n",
      " Avg loss: 0.003645 \n",
      "\n",
      "Learning rate (antes): 0.00010899999999999993\n",
      "Learning rate (depois): 9.249999999999994e-05\n",
      "\n",
      "epoch 55\n",
      "-------------------------------\n",
      "Training on 162186 samples...\n",
      "Batch size: 2867\n",
      "Number of batches: 57\n"
     ]
    },
    {
     "name": "stderr",
     "output_type": "stream",
     "text": [
      "100%|██████████| 57/57 [02:47<00:00,  2.94s/it]\n"
     ]
    },
    {
     "name": "stdout",
     "output_type": "stream",
     "text": [
      "Training Error: \n",
      " Avg loss: 0.007413 \n",
      "\n"
     ]
    },
    {
     "name": "stderr",
     "output_type": "stream",
     "text": [
      "100%|██████████| 19/19 [00:36<00:00,  1.92s/it]\n"
     ]
    },
    {
     "name": "stdout",
     "output_type": "stream",
     "text": [
      "Validation Error: \n",
      " Avg loss: 0.003643 \n",
      "\n",
      "Learning rate (antes): 9.249999999999994e-05\n",
      "Learning rate (depois): 7.599999999999995e-05\n",
      "\n",
      "epoch 56\n",
      "-------------------------------\n",
      "Training on 162186 samples...\n",
      "Batch size: 2867\n",
      "Number of batches: 57\n"
     ]
    },
    {
     "name": "stderr",
     "output_type": "stream",
     "text": [
      "100%|██████████| 57/57 [02:43<00:00,  2.87s/it]\n"
     ]
    },
    {
     "name": "stdout",
     "output_type": "stream",
     "text": [
      "Training Error: \n",
      " Avg loss: 0.007410 \n",
      "\n"
     ]
    },
    {
     "name": "stderr",
     "output_type": "stream",
     "text": [
      "100%|██████████| 19/19 [00:39<00:00,  2.09s/it]\n"
     ]
    },
    {
     "name": "stdout",
     "output_type": "stream",
     "text": [
      "Validation Error: \n",
      " Avg loss: 0.003641 \n",
      "\n",
      "Learning rate (antes): 7.599999999999995e-05\n",
      "Learning rate (depois): 5.949999999999996e-05\n",
      "\n",
      "epoch 57\n",
      "-------------------------------\n",
      "Training on 162186 samples...\n",
      "Batch size: 2867\n",
      "Number of batches: 57\n"
     ]
    },
    {
     "name": "stderr",
     "output_type": "stream",
     "text": [
      "100%|██████████| 57/57 [02:45<00:00,  2.90s/it]\n"
     ]
    },
    {
     "name": "stdout",
     "output_type": "stream",
     "text": [
      "Training Error: \n",
      " Avg loss: 0.007408 \n",
      "\n"
     ]
    },
    {
     "name": "stderr",
     "output_type": "stream",
     "text": [
      "100%|██████████| 19/19 [00:38<00:00,  2.05s/it]\n"
     ]
    },
    {
     "name": "stdout",
     "output_type": "stream",
     "text": [
      "Validation Error: \n",
      " Avg loss: 0.003640 \n",
      "\n",
      "Learning rate (antes): 5.949999999999996e-05\n",
      "Learning rate (depois): 4.299999999999998e-05\n",
      "\n",
      "epoch 58\n",
      "-------------------------------\n",
      "Training on 162186 samples...\n",
      "Batch size: 2867\n",
      "Number of batches: 57\n"
     ]
    },
    {
     "name": "stderr",
     "output_type": "stream",
     "text": [
      "100%|██████████| 57/57 [03:03<00:00,  3.21s/it]\n"
     ]
    },
    {
     "name": "stdout",
     "output_type": "stream",
     "text": [
      "Training Error: \n",
      " Avg loss: 0.007410 \n",
      "\n"
     ]
    },
    {
     "name": "stderr",
     "output_type": "stream",
     "text": [
      "100%|██████████| 19/19 [00:37<00:00,  1.95s/it]\n"
     ]
    },
    {
     "name": "stdout",
     "output_type": "stream",
     "text": [
      "Validation Error: \n",
      " Avg loss: 0.003639 \n",
      "\n",
      "Learning rate (antes): 4.299999999999998e-05\n",
      "Learning rate (depois): 2.6499999999999977e-05\n",
      "\n",
      "epoch 59\n",
      "-------------------------------\n",
      "Training on 162186 samples...\n",
      "Batch size: 2867\n",
      "Number of batches: 57\n"
     ]
    },
    {
     "name": "stderr",
     "output_type": "stream",
     "text": [
      "100%|██████████| 57/57 [02:45<00:00,  2.91s/it]\n"
     ]
    },
    {
     "name": "stdout",
     "output_type": "stream",
     "text": [
      "Training Error: \n",
      " Avg loss: 0.007409 \n",
      "\n"
     ]
    },
    {
     "name": "stderr",
     "output_type": "stream",
     "text": [
      "100%|██████████| 19/19 [00:39<00:00,  2.06s/it]\n"
     ]
    },
    {
     "name": "stdout",
     "output_type": "stream",
     "text": [
      "Validation Error: \n",
      " Avg loss: 0.003638 \n",
      "\n",
      "Learning rate (antes): 2.6499999999999977e-05\n",
      "Learning rate (depois): 1.0000000000000028e-05\n",
      "\n",
      "epoch 60\n",
      "-------------------------------\n",
      "Training on 162186 samples...\n",
      "Batch size: 2867\n",
      "Number of batches: 57\n"
     ]
    },
    {
     "name": "stderr",
     "output_type": "stream",
     "text": [
      "100%|██████████| 57/57 [02:43<00:00,  2.87s/it]\n"
     ]
    },
    {
     "name": "stdout",
     "output_type": "stream",
     "text": [
      "Training Error: \n",
      " Avg loss: 0.007407 \n",
      "\n"
     ]
    },
    {
     "name": "stderr",
     "output_type": "stream",
     "text": [
      "100%|██████████| 19/19 [00:39<00:00,  2.08s/it]\n"
     ]
    },
    {
     "name": "stdout",
     "output_type": "stream",
     "text": [
      "Validation Error: \n",
      " Avg loss: 0.003638 \n",
      "\n",
      "Learning rate (antes): 1.0000000000000028e-05\n",
      "Learning rate (depois): 1.0000000000000028e-05\n",
      "\n",
      "epoch 61\n",
      "-------------------------------\n",
      "Training on 162186 samples...\n",
      "Batch size: 2867\n",
      "Number of batches: 57\n"
     ]
    },
    {
     "name": "stderr",
     "output_type": "stream",
     "text": [
      "100%|██████████| 57/57 [02:44<00:00,  2.89s/it]\n"
     ]
    },
    {
     "name": "stdout",
     "output_type": "stream",
     "text": [
      "Training Error: \n",
      " Avg loss: 0.007405 \n",
      "\n"
     ]
    },
    {
     "name": "stderr",
     "output_type": "stream",
     "text": [
      "100%|██████████| 19/19 [00:39<00:00,  2.07s/it]\n"
     ]
    },
    {
     "name": "stdout",
     "output_type": "stream",
     "text": [
      "Validation Error: \n",
      " Avg loss: 0.003638 \n",
      "\n",
      "Learning rate (antes): 1.0000000000000028e-05\n",
      "Learning rate (depois): 1.0000000000000028e-05\n",
      "\n",
      "epoch 62\n",
      "-------------------------------\n",
      "Training on 162186 samples...\n",
      "Batch size: 2867\n",
      "Number of batches: 57\n"
     ]
    },
    {
     "name": "stderr",
     "output_type": "stream",
     "text": [
      "100%|██████████| 57/57 [02:44<00:00,  2.89s/it]\n"
     ]
    },
    {
     "name": "stdout",
     "output_type": "stream",
     "text": [
      "Training Error: \n",
      " Avg loss: 0.007406 \n",
      "\n"
     ]
    },
    {
     "name": "stderr",
     "output_type": "stream",
     "text": [
      "100%|██████████| 19/19 [00:39<00:00,  2.10s/it]\n"
     ]
    },
    {
     "name": "stdout",
     "output_type": "stream",
     "text": [
      "Validation Error: \n",
      " Avg loss: 0.003637 \n",
      "\n",
      "Learning rate (antes): 1.0000000000000028e-05\n",
      "Learning rate (depois): 1.0000000000000028e-05\n",
      "\n",
      "epoch 63\n",
      "-------------------------------\n",
      "Training on 162186 samples...\n",
      "Batch size: 2867\n",
      "Number of batches: 57\n"
     ]
    },
    {
     "name": "stderr",
     "output_type": "stream",
     "text": [
      "100%|██████████| 57/57 [02:46<00:00,  2.93s/it]\n"
     ]
    },
    {
     "name": "stdout",
     "output_type": "stream",
     "text": [
      "Training Error: \n",
      " Avg loss: 0.007404 \n",
      "\n"
     ]
    },
    {
     "name": "stderr",
     "output_type": "stream",
     "text": [
      "100%|██████████| 19/19 [00:38<00:00,  2.01s/it]\n"
     ]
    },
    {
     "name": "stdout",
     "output_type": "stream",
     "text": [
      "Validation Error: \n",
      " Avg loss: 0.003637 \n",
      "\n",
      "Learning rate (antes): 1.0000000000000028e-05\n",
      "Learning rate (depois): 1.0000000000000028e-05\n",
      "\n",
      "epoch 64\n",
      "-------------------------------\n",
      "Training on 162186 samples...\n",
      "Batch size: 2867\n",
      "Number of batches: 57\n"
     ]
    },
    {
     "name": "stderr",
     "output_type": "stream",
     "text": [
      "100%|██████████| 57/57 [02:44<00:00,  2.88s/it]\n"
     ]
    },
    {
     "name": "stdout",
     "output_type": "stream",
     "text": [
      "Training Error: \n",
      " Avg loss: 0.007403 \n",
      "\n"
     ]
    },
    {
     "name": "stderr",
     "output_type": "stream",
     "text": [
      "100%|██████████| 19/19 [00:40<00:00,  2.16s/it]\n"
     ]
    },
    {
     "name": "stdout",
     "output_type": "stream",
     "text": [
      "Validation Error: \n",
      " Avg loss: 0.003637 \n",
      "\n",
      "Learning rate (antes): 1.0000000000000028e-05\n",
      "Learning rate (depois): 1.0000000000000028e-05\n",
      "\n",
      "epoch 65\n",
      "-------------------------------\n",
      "Training on 162186 samples...\n",
      "Batch size: 2867\n",
      "Number of batches: 57\n"
     ]
    },
    {
     "name": "stderr",
     "output_type": "stream",
     "text": [
      "100%|██████████| 57/57 [02:43<00:00,  2.88s/it]\n"
     ]
    },
    {
     "name": "stdout",
     "output_type": "stream",
     "text": [
      "Training Error: \n",
      " Avg loss: 0.007404 \n",
      "\n"
     ]
    },
    {
     "name": "stderr",
     "output_type": "stream",
     "text": [
      "100%|██████████| 19/19 [00:38<00:00,  2.04s/it]\n"
     ]
    },
    {
     "name": "stdout",
     "output_type": "stream",
     "text": [
      "Validation Error: \n",
      " Avg loss: 0.003636 \n",
      "\n",
      "Learning rate (antes): 1.0000000000000028e-05\n",
      "Learning rate (depois): 1.0000000000000028e-05\n",
      "\n",
      "epoch 66\n",
      "-------------------------------\n",
      "Training on 162186 samples...\n",
      "Batch size: 2867\n",
      "Number of batches: 57\n"
     ]
    },
    {
     "name": "stderr",
     "output_type": "stream",
     "text": [
      "100%|██████████| 57/57 [02:44<00:00,  2.89s/it]\n"
     ]
    },
    {
     "name": "stdout",
     "output_type": "stream",
     "text": [
      "Training Error: \n",
      " Avg loss: 0.007403 \n",
      "\n"
     ]
    },
    {
     "name": "stderr",
     "output_type": "stream",
     "text": [
      "100%|██████████| 19/19 [00:39<00:00,  2.10s/it]\n"
     ]
    },
    {
     "name": "stdout",
     "output_type": "stream",
     "text": [
      "Validation Error: \n",
      " Avg loss: 0.003636 \n",
      "\n",
      "Learning rate (antes): 1.0000000000000028e-05\n",
      "Learning rate (depois): 1.0000000000000028e-05\n",
      "\n",
      "epoch 67\n",
      "-------------------------------\n",
      "Training on 162186 samples...\n",
      "Batch size: 2867\n",
      "Number of batches: 57\n"
     ]
    },
    {
     "name": "stderr",
     "output_type": "stream",
     "text": [
      "100%|██████████| 57/57 [02:46<00:00,  2.92s/it]\n"
     ]
    },
    {
     "name": "stdout",
     "output_type": "stream",
     "text": [
      "Training Error: \n",
      " Avg loss: 0.007404 \n",
      "\n"
     ]
    },
    {
     "name": "stderr",
     "output_type": "stream",
     "text": [
      "100%|██████████| 19/19 [00:37<00:00,  1.99s/it]\n"
     ]
    },
    {
     "name": "stdout",
     "output_type": "stream",
     "text": [
      "Validation Error: \n",
      " Avg loss: 0.003636 \n",
      "\n",
      "Learning rate (antes): 1.0000000000000028e-05\n",
      "Learning rate (depois): 1.0000000000000028e-05\n",
      "\n",
      "epoch 68\n",
      "-------------------------------\n",
      "Training on 162186 samples...\n",
      "Batch size: 2867\n",
      "Number of batches: 57\n"
     ]
    },
    {
     "name": "stderr",
     "output_type": "stream",
     "text": [
      "100%|██████████| 57/57 [02:45<00:00,  2.91s/it]\n"
     ]
    },
    {
     "name": "stdout",
     "output_type": "stream",
     "text": [
      "Training Error: \n",
      " Avg loss: 0.007403 \n",
      "\n"
     ]
    },
    {
     "name": "stderr",
     "output_type": "stream",
     "text": [
      "100%|██████████| 19/19 [00:39<00:00,  2.05s/it]\n"
     ]
    },
    {
     "name": "stdout",
     "output_type": "stream",
     "text": [
      "Validation Error: \n",
      " Avg loss: 0.003636 \n",
      "\n",
      "Learning rate (antes): 1.0000000000000028e-05\n",
      "Learning rate (depois): 1.0000000000000028e-05\n",
      "\n",
      "epoch 69\n",
      "-------------------------------\n",
      "Training on 162186 samples...\n",
      "Batch size: 2867\n",
      "Number of batches: 57\n"
     ]
    },
    {
     "name": "stderr",
     "output_type": "stream",
     "text": [
      "100%|██████████| 57/57 [02:44<00:00,  2.88s/it]\n"
     ]
    },
    {
     "name": "stdout",
     "output_type": "stream",
     "text": [
      "Training Error: \n",
      " Avg loss: 0.007400 \n",
      "\n"
     ]
    },
    {
     "name": "stderr",
     "output_type": "stream",
     "text": [
      "100%|██████████| 19/19 [00:38<00:00,  2.04s/it]\n"
     ]
    },
    {
     "name": "stdout",
     "output_type": "stream",
     "text": [
      "Validation Error: \n",
      " Avg loss: 0.003635 \n",
      "\n",
      "Learning rate (antes): 1.0000000000000028e-05\n",
      "Learning rate (depois): 1.0000000000000028e-05\n",
      "\n",
      "epoch 70\n",
      "-------------------------------\n",
      "Training on 162186 samples...\n",
      "Batch size: 2867\n",
      "Number of batches: 57\n"
     ]
    },
    {
     "name": "stderr",
     "output_type": "stream",
     "text": [
      "100%|██████████| 57/57 [02:42<00:00,  2.85s/it]\n"
     ]
    },
    {
     "name": "stdout",
     "output_type": "stream",
     "text": [
      "Training Error: \n",
      " Avg loss: 0.007404 \n",
      "\n"
     ]
    },
    {
     "name": "stderr",
     "output_type": "stream",
     "text": [
      "100%|██████████| 19/19 [00:37<00:00,  1.98s/it]\n"
     ]
    },
    {
     "name": "stdout",
     "output_type": "stream",
     "text": [
      "Validation Error: \n",
      " Avg loss: 0.003635 \n",
      "\n",
      "Learning rate (antes): 1.0000000000000028e-05\n",
      "Learning rate (depois): 1.0000000000000028e-05\n",
      "\n",
      "epoch 71\n",
      "-------------------------------\n",
      "Training on 162186 samples...\n",
      "Batch size: 2867\n",
      "Number of batches: 57\n"
     ]
    },
    {
     "name": "stderr",
     "output_type": "stream",
     "text": [
      "100%|██████████| 57/57 [02:44<00:00,  2.88s/it]\n"
     ]
    },
    {
     "name": "stdout",
     "output_type": "stream",
     "text": [
      "Training Error: \n",
      " Avg loss: 0.007401 \n",
      "\n"
     ]
    },
    {
     "name": "stderr",
     "output_type": "stream",
     "text": [
      "100%|██████████| 19/19 [00:42<00:00,  2.26s/it]\n"
     ]
    },
    {
     "name": "stdout",
     "output_type": "stream",
     "text": [
      "Validation Error: \n",
      " Avg loss: 0.003634 \n",
      "\n",
      "Learning rate (antes): 1.0000000000000028e-05\n",
      "Learning rate (depois): 1.0000000000000028e-05\n",
      "\n",
      "epoch 72\n",
      "-------------------------------\n",
      "Training on 162186 samples...\n",
      "Batch size: 2867\n",
      "Number of batches: 57\n"
     ]
    },
    {
     "name": "stderr",
     "output_type": "stream",
     "text": [
      "100%|██████████| 57/57 [02:44<00:00,  2.89s/it]\n"
     ]
    },
    {
     "name": "stdout",
     "output_type": "stream",
     "text": [
      "Training Error: \n",
      " Avg loss: 0.007399 \n",
      "\n"
     ]
    },
    {
     "name": "stderr",
     "output_type": "stream",
     "text": [
      "100%|██████████| 19/19 [00:38<00:00,  2.04s/it]\n"
     ]
    },
    {
     "name": "stdout",
     "output_type": "stream",
     "text": [
      "Validation Error: \n",
      " Avg loss: 0.003634 \n",
      "\n",
      "Learning rate (antes): 1.0000000000000028e-05\n",
      "Learning rate (depois): 1.0000000000000028e-05\n",
      "\n",
      "epoch 73\n",
      "-------------------------------\n",
      "Training on 162186 samples...\n",
      "Batch size: 2867\n",
      "Number of batches: 57\n"
     ]
    },
    {
     "name": "stderr",
     "output_type": "stream",
     "text": [
      "100%|██████████| 57/57 [02:44<00:00,  2.89s/it]\n"
     ]
    },
    {
     "name": "stdout",
     "output_type": "stream",
     "text": [
      "Training Error: \n",
      " Avg loss: 0.007402 \n",
      "\n"
     ]
    },
    {
     "name": "stderr",
     "output_type": "stream",
     "text": [
      "100%|██████████| 19/19 [00:39<00:00,  2.10s/it]\n"
     ]
    },
    {
     "name": "stdout",
     "output_type": "stream",
     "text": [
      "Validation Error: \n",
      " Avg loss: 0.003634 \n",
      "\n",
      "Learning rate (antes): 1.0000000000000028e-05\n",
      "Learning rate (depois): 1.0000000000000028e-05\n",
      "\n",
      "epoch 74\n",
      "-------------------------------\n",
      "Training on 162186 samples...\n",
      "Batch size: 2867\n",
      "Number of batches: 57\n"
     ]
    },
    {
     "name": "stderr",
     "output_type": "stream",
     "text": [
      "100%|██████████| 57/57 [02:44<00:00,  2.89s/it]\n"
     ]
    },
    {
     "name": "stdout",
     "output_type": "stream",
     "text": [
      "Training Error: \n",
      " Avg loss: 0.007400 \n",
      "\n"
     ]
    },
    {
     "name": "stderr",
     "output_type": "stream",
     "text": [
      "100%|██████████| 19/19 [00:40<00:00,  2.13s/it]\n"
     ]
    },
    {
     "name": "stdout",
     "output_type": "stream",
     "text": [
      "Validation Error: \n",
      " Avg loss: 0.003633 \n",
      "\n",
      "Learning rate (antes): 1.0000000000000028e-05\n",
      "Learning rate (depois): 1.0000000000000028e-05\n",
      "\n",
      "epoch 75\n",
      "-------------------------------\n",
      "Training on 162186 samples...\n",
      "Batch size: 2867\n",
      "Number of batches: 57\n"
     ]
    },
    {
     "name": "stderr",
     "output_type": "stream",
     "text": [
      "100%|██████████| 57/57 [02:43<00:00,  2.88s/it]\n"
     ]
    },
    {
     "name": "stdout",
     "output_type": "stream",
     "text": [
      "Training Error: \n",
      " Avg loss: 0.007402 \n",
      "\n"
     ]
    },
    {
     "name": "stderr",
     "output_type": "stream",
     "text": [
      "100%|██████████| 19/19 [00:38<00:00,  2.04s/it]\n"
     ]
    },
    {
     "name": "stdout",
     "output_type": "stream",
     "text": [
      "Validation Error: \n",
      " Avg loss: 0.003633 \n",
      "\n",
      "Learning rate (antes): 1.0000000000000028e-05\n",
      "Learning rate (depois): 1.0000000000000028e-05\n",
      "\n",
      "epoch 76\n",
      "-------------------------------\n",
      "Training on 162186 samples...\n",
      "Batch size: 2867\n",
      "Number of batches: 57\n"
     ]
    },
    {
     "name": "stderr",
     "output_type": "stream",
     "text": [
      "100%|██████████| 57/57 [02:45<00:00,  2.90s/it]\n"
     ]
    },
    {
     "name": "stdout",
     "output_type": "stream",
     "text": [
      "Training Error: \n",
      " Avg loss: 0.007400 \n",
      "\n"
     ]
    },
    {
     "name": "stderr",
     "output_type": "stream",
     "text": [
      "100%|██████████| 19/19 [00:39<00:00,  2.10s/it]\n"
     ]
    },
    {
     "name": "stdout",
     "output_type": "stream",
     "text": [
      "Validation Error: \n",
      " Avg loss: 0.003633 \n",
      "\n",
      "Learning rate (antes): 1.0000000000000028e-05\n",
      "Learning rate (depois): 1.0000000000000028e-05\n",
      "\n",
      "epoch 77\n",
      "-------------------------------\n",
      "Training on 162186 samples...\n",
      "Batch size: 2867\n",
      "Number of batches: 57\n"
     ]
    },
    {
     "name": "stderr",
     "output_type": "stream",
     "text": [
      "100%|██████████| 57/57 [02:43<00:00,  2.87s/it]\n"
     ]
    },
    {
     "name": "stdout",
     "output_type": "stream",
     "text": [
      "Training Error: \n",
      " Avg loss: 0.007400 \n",
      "\n"
     ]
    },
    {
     "name": "stderr",
     "output_type": "stream",
     "text": [
      "100%|██████████| 19/19 [00:38<00:00,  2.02s/it]\n"
     ]
    },
    {
     "name": "stdout",
     "output_type": "stream",
     "text": [
      "Validation Error: \n",
      " Avg loss: 0.003632 \n",
      "\n",
      "Learning rate (antes): 1.0000000000000028e-05\n",
      "Learning rate (depois): 1.0000000000000028e-05\n",
      "\n",
      "epoch 78\n",
      "-------------------------------\n",
      "Training on 162186 samples...\n",
      "Batch size: 2867\n",
      "Number of batches: 57\n"
     ]
    },
    {
     "name": "stderr",
     "output_type": "stream",
     "text": [
      "100%|██████████| 57/57 [02:46<00:00,  2.93s/it]\n"
     ]
    },
    {
     "name": "stdout",
     "output_type": "stream",
     "text": [
      "Training Error: \n",
      " Avg loss: 0.007402 \n",
      "\n"
     ]
    },
    {
     "name": "stderr",
     "output_type": "stream",
     "text": [
      "100%|██████████| 19/19 [00:37<00:00,  1.98s/it]\n"
     ]
    },
    {
     "name": "stdout",
     "output_type": "stream",
     "text": [
      "Validation Error: \n",
      " Avg loss: 0.003632 \n",
      "\n",
      "Learning rate (antes): 1.0000000000000028e-05\n",
      "Learning rate (depois): 1.0000000000000028e-05\n",
      "\n",
      "epoch 79\n",
      "-------------------------------\n",
      "Training on 162186 samples...\n",
      "Batch size: 2867\n",
      "Number of batches: 57\n"
     ]
    },
    {
     "name": "stderr",
     "output_type": "stream",
     "text": [
      "100%|██████████| 57/57 [02:43<00:00,  2.86s/it]\n"
     ]
    },
    {
     "name": "stdout",
     "output_type": "stream",
     "text": [
      "Training Error: \n",
      " Avg loss: 0.007395 \n",
      "\n"
     ]
    },
    {
     "name": "stderr",
     "output_type": "stream",
     "text": [
      "100%|██████████| 19/19 [00:37<00:00,  1.96s/it]\n"
     ]
    },
    {
     "name": "stdout",
     "output_type": "stream",
     "text": [
      "Validation Error: \n",
      " Avg loss: 0.003632 \n",
      "\n",
      "Learning rate (antes): 1.0000000000000028e-05\n",
      "Learning rate (depois): 1.0000000000000028e-05\n",
      "\n",
      "epoch 80\n",
      "-------------------------------\n",
      "Training on 162186 samples...\n",
      "Batch size: 2867\n",
      "Number of batches: 57\n"
     ]
    },
    {
     "name": "stderr",
     "output_type": "stream",
     "text": [
      "100%|██████████| 57/57 [02:46<00:00,  2.92s/it]\n"
     ]
    },
    {
     "name": "stdout",
     "output_type": "stream",
     "text": [
      "Training Error: \n",
      " Avg loss: 0.007398 \n",
      "\n"
     ]
    },
    {
     "name": "stderr",
     "output_type": "stream",
     "text": [
      "100%|██████████| 19/19 [00:35<00:00,  1.87s/it]\n"
     ]
    },
    {
     "name": "stdout",
     "output_type": "stream",
     "text": [
      "Validation Error: \n",
      " Avg loss: 0.003631 \n",
      "\n",
      "Learning rate (antes): 1.0000000000000028e-05\n",
      "Learning rate (depois): 1.0000000000000028e-05\n",
      "\n",
      "epoch 81\n",
      "-------------------------------\n",
      "Training on 162186 samples...\n",
      "Batch size: 2867\n",
      "Number of batches: 57\n"
     ]
    },
    {
     "name": "stderr",
     "output_type": "stream",
     "text": [
      "100%|██████████| 57/57 [02:45<00:00,  2.91s/it]\n"
     ]
    },
    {
     "name": "stdout",
     "output_type": "stream",
     "text": [
      "Training Error: \n",
      " Avg loss: 0.007398 \n",
      "\n"
     ]
    },
    {
     "name": "stderr",
     "output_type": "stream",
     "text": [
      "100%|██████████| 19/19 [00:39<00:00,  2.05s/it]\n"
     ]
    },
    {
     "name": "stdout",
     "output_type": "stream",
     "text": [
      "Validation Error: \n",
      " Avg loss: 0.003631 \n",
      "\n",
      "Learning rate (antes): 1.0000000000000028e-05\n",
      "Learning rate (depois): 1.0000000000000028e-05\n",
      "\n",
      "epoch 82\n",
      "-------------------------------\n",
      "Training on 162186 samples...\n",
      "Batch size: 2867\n",
      "Number of batches: 57\n"
     ]
    },
    {
     "name": "stderr",
     "output_type": "stream",
     "text": [
      "100%|██████████| 57/57 [03:01<00:00,  3.18s/it]\n"
     ]
    },
    {
     "name": "stdout",
     "output_type": "stream",
     "text": [
      "Training Error: \n",
      " Avg loss: 0.007397 \n",
      "\n"
     ]
    },
    {
     "name": "stderr",
     "output_type": "stream",
     "text": [
      "100%|██████████| 19/19 [00:36<00:00,  1.90s/it]\n"
     ]
    },
    {
     "name": "stdout",
     "output_type": "stream",
     "text": [
      "Validation Error: \n",
      " Avg loss: 0.003630 \n",
      "\n",
      "Learning rate (antes): 1.0000000000000028e-05\n",
      "Learning rate (depois): 1.0000000000000028e-05\n",
      "\n",
      "epoch 83\n",
      "-------------------------------\n",
      "Training on 162186 samples...\n",
      "Batch size: 2867\n",
      "Number of batches: 57\n"
     ]
    },
    {
     "name": "stderr",
     "output_type": "stream",
     "text": [
      "100%|██████████| 57/57 [02:49<00:00,  2.97s/it]\n"
     ]
    },
    {
     "name": "stdout",
     "output_type": "stream",
     "text": [
      "Training Error: \n",
      " Avg loss: 0.007401 \n",
      "\n"
     ]
    },
    {
     "name": "stderr",
     "output_type": "stream",
     "text": [
      "100%|██████████| 19/19 [00:34<00:00,  1.82s/it]\n"
     ]
    },
    {
     "name": "stdout",
     "output_type": "stream",
     "text": [
      "Validation Error: \n",
      " Avg loss: 0.003630 \n",
      "\n",
      "Learning rate (antes): 1.0000000000000028e-05\n",
      "Learning rate (depois): 1.0000000000000028e-05\n",
      "\n",
      "epoch 84\n",
      "-------------------------------\n",
      "Training on 162186 samples...\n",
      "Batch size: 2867\n",
      "Number of batches: 57\n"
     ]
    },
    {
     "name": "stderr",
     "output_type": "stream",
     "text": [
      "100%|██████████| 57/57 [03:03<00:00,  3.21s/it]\n"
     ]
    },
    {
     "name": "stdout",
     "output_type": "stream",
     "text": [
      "Training Error: \n",
      " Avg loss: 0.007396 \n",
      "\n"
     ]
    },
    {
     "name": "stderr",
     "output_type": "stream",
     "text": [
      "100%|██████████| 19/19 [00:39<00:00,  2.08s/it]\n"
     ]
    },
    {
     "name": "stdout",
     "output_type": "stream",
     "text": [
      "Validation Error: \n",
      " Avg loss: 0.003629 \n",
      "\n",
      "Learning rate (antes): 1.0000000000000028e-05\n",
      "Learning rate (depois): 1.0000000000000028e-05\n",
      "\n",
      "epoch 85\n",
      "-------------------------------\n",
      "Training on 162186 samples...\n",
      "Batch size: 2867\n",
      "Number of batches: 57\n"
     ]
    },
    {
     "name": "stderr",
     "output_type": "stream",
     "text": [
      "100%|██████████| 57/57 [03:09<00:00,  3.33s/it]\n"
     ]
    },
    {
     "name": "stdout",
     "output_type": "stream",
     "text": [
      "Training Error: \n",
      " Avg loss: 0.007393 \n",
      "\n"
     ]
    },
    {
     "name": "stderr",
     "output_type": "stream",
     "text": [
      "100%|██████████| 19/19 [00:36<00:00,  1.91s/it]\n"
     ]
    },
    {
     "name": "stdout",
     "output_type": "stream",
     "text": [
      "Validation Error: \n",
      " Avg loss: 0.003629 \n",
      "\n",
      "Learning rate (antes): 1.0000000000000028e-05\n",
      "Learning rate (depois): 1.0000000000000028e-05\n",
      "\n",
      "epoch 86\n",
      "-------------------------------\n",
      "Training on 162186 samples...\n",
      "Batch size: 2867\n",
      "Number of batches: 57\n"
     ]
    },
    {
     "name": "stderr",
     "output_type": "stream",
     "text": [
      "100%|██████████| 57/57 [02:49<00:00,  2.98s/it]\n"
     ]
    },
    {
     "name": "stdout",
     "output_type": "stream",
     "text": [
      "Training Error: \n",
      " Avg loss: 0.007395 \n",
      "\n"
     ]
    },
    {
     "name": "stderr",
     "output_type": "stream",
     "text": [
      "100%|██████████| 19/19 [00:39<00:00,  2.10s/it]\n"
     ]
    },
    {
     "name": "stdout",
     "output_type": "stream",
     "text": [
      "Validation Error: \n",
      " Avg loss: 0.003628 \n",
      "\n",
      "Learning rate (antes): 1.0000000000000028e-05\n",
      "Learning rate (depois): 1.0000000000000028e-05\n",
      "\n",
      "epoch 87\n",
      "-------------------------------\n",
      "Training on 162186 samples...\n",
      "Batch size: 2867\n",
      "Number of batches: 57\n"
     ]
    },
    {
     "name": "stderr",
     "output_type": "stream",
     "text": [
      "100%|██████████| 57/57 [02:44<00:00,  2.89s/it]\n"
     ]
    },
    {
     "name": "stdout",
     "output_type": "stream",
     "text": [
      "Training Error: \n",
      " Avg loss: 0.007394 \n",
      "\n"
     ]
    },
    {
     "name": "stderr",
     "output_type": "stream",
     "text": [
      "100%|██████████| 19/19 [00:39<00:00,  2.10s/it]\n"
     ]
    },
    {
     "name": "stdout",
     "output_type": "stream",
     "text": [
      "Validation Error: \n",
      " Avg loss: 0.003628 \n",
      "\n",
      "Learning rate (antes): 1.0000000000000028e-05\n",
      "Learning rate (depois): 1.0000000000000028e-05\n",
      "\n",
      "epoch 88\n",
      "-------------------------------\n",
      "Training on 162186 samples...\n",
      "Batch size: 2867\n",
      "Number of batches: 57\n"
     ]
    },
    {
     "name": "stderr",
     "output_type": "stream",
     "text": [
      "100%|██████████| 57/57 [02:43<00:00,  2.88s/it]\n"
     ]
    },
    {
     "name": "stdout",
     "output_type": "stream",
     "text": [
      "Training Error: \n",
      " Avg loss: 0.007394 \n",
      "\n"
     ]
    },
    {
     "name": "stderr",
     "output_type": "stream",
     "text": [
      "100%|██████████| 19/19 [00:39<00:00,  2.09s/it]\n"
     ]
    },
    {
     "name": "stdout",
     "output_type": "stream",
     "text": [
      "Validation Error: \n",
      " Avg loss: 0.003628 \n",
      "\n",
      "Learning rate (antes): 1.0000000000000028e-05\n",
      "Learning rate (depois): 1.0000000000000028e-05\n",
      "\n",
      "epoch 89\n",
      "-------------------------------\n",
      "Training on 162186 samples...\n",
      "Batch size: 2867\n",
      "Number of batches: 57\n"
     ]
    },
    {
     "name": "stderr",
     "output_type": "stream",
     "text": [
      "100%|██████████| 57/57 [02:52<00:00,  3.02s/it]\n"
     ]
    },
    {
     "name": "stdout",
     "output_type": "stream",
     "text": [
      "Training Error: \n",
      " Avg loss: 0.007393 \n",
      "\n"
     ]
    },
    {
     "name": "stderr",
     "output_type": "stream",
     "text": [
      "100%|██████████| 19/19 [00:37<00:00,  1.98s/it]\n"
     ]
    },
    {
     "name": "stdout",
     "output_type": "stream",
     "text": [
      "Validation Error: \n",
      " Avg loss: 0.003627 \n",
      "\n",
      "Learning rate (antes): 1.0000000000000028e-05\n",
      "Learning rate (depois): 1.0000000000000028e-05\n",
      "\n",
      "epoch 90\n",
      "-------------------------------\n",
      "Training on 162186 samples...\n",
      "Batch size: 2867\n",
      "Number of batches: 57\n"
     ]
    },
    {
     "name": "stderr",
     "output_type": "stream",
     "text": [
      "100%|██████████| 57/57 [02:48<00:00,  2.95s/it]\n"
     ]
    },
    {
     "name": "stdout",
     "output_type": "stream",
     "text": [
      "Training Error: \n",
      " Avg loss: 0.007396 \n",
      "\n"
     ]
    },
    {
     "name": "stderr",
     "output_type": "stream",
     "text": [
      "100%|██████████| 19/19 [00:36<00:00,  1.94s/it]\n"
     ]
    },
    {
     "name": "stdout",
     "output_type": "stream",
     "text": [
      "Validation Error: \n",
      " Avg loss: 0.003626 \n",
      "\n",
      "Learning rate (antes): 1.0000000000000028e-05\n",
      "Learning rate (depois): 1.0000000000000028e-05\n",
      "\n",
      "epoch 91\n",
      "-------------------------------\n",
      "Training on 162186 samples...\n",
      "Batch size: 2867\n",
      "Number of batches: 57\n"
     ]
    },
    {
     "name": "stderr",
     "output_type": "stream",
     "text": [
      "100%|██████████| 57/57 [02:42<00:00,  2.85s/it]\n"
     ]
    },
    {
     "name": "stdout",
     "output_type": "stream",
     "text": [
      "Training Error: \n",
      " Avg loss: 0.007394 \n",
      "\n"
     ]
    },
    {
     "name": "stderr",
     "output_type": "stream",
     "text": [
      "100%|██████████| 19/19 [00:37<00:00,  2.00s/it]\n"
     ]
    },
    {
     "name": "stdout",
     "output_type": "stream",
     "text": [
      "Validation Error: \n",
      " Avg loss: 0.003626 \n",
      "\n",
      "Learning rate (antes): 1.0000000000000028e-05\n",
      "Learning rate (depois): 1.0000000000000028e-05\n",
      "\n",
      "epoch 92\n",
      "-------------------------------\n",
      "Training on 162186 samples...\n",
      "Batch size: 2867\n",
      "Number of batches: 57\n"
     ]
    },
    {
     "name": "stderr",
     "output_type": "stream",
     "text": [
      "100%|██████████| 57/57 [02:42<00:00,  2.85s/it]\n"
     ]
    },
    {
     "name": "stdout",
     "output_type": "stream",
     "text": [
      "Training Error: \n",
      " Avg loss: 0.007390 \n",
      "\n"
     ]
    },
    {
     "name": "stderr",
     "output_type": "stream",
     "text": [
      "100%|██████████| 19/19 [00:37<00:00,  1.95s/it]\n"
     ]
    },
    {
     "name": "stdout",
     "output_type": "stream",
     "text": [
      "Validation Error: \n",
      " Avg loss: 0.003625 \n",
      "\n",
      "Learning rate (antes): 1.0000000000000028e-05\n",
      "Learning rate (depois): 1.0000000000000028e-05\n",
      "\n",
      "epoch 93\n",
      "-------------------------------\n",
      "Training on 162186 samples...\n",
      "Batch size: 2867\n",
      "Number of batches: 57\n"
     ]
    },
    {
     "name": "stderr",
     "output_type": "stream",
     "text": [
      "100%|██████████| 57/57 [02:47<00:00,  2.93s/it]\n"
     ]
    },
    {
     "name": "stdout",
     "output_type": "stream",
     "text": [
      "Training Error: \n",
      " Avg loss: 0.007391 \n",
      "\n"
     ]
    },
    {
     "name": "stderr",
     "output_type": "stream",
     "text": [
      "100%|██████████| 19/19 [00:39<00:00,  2.10s/it]\n"
     ]
    },
    {
     "name": "stdout",
     "output_type": "stream",
     "text": [
      "Validation Error: \n",
      " Avg loss: 0.003625 \n",
      "\n",
      "Learning rate (antes): 1.0000000000000028e-05\n",
      "Learning rate (depois): 1.0000000000000028e-05\n",
      "\n",
      "epoch 94\n",
      "-------------------------------\n",
      "Training on 162186 samples...\n",
      "Batch size: 2867\n",
      "Number of batches: 57\n"
     ]
    },
    {
     "name": "stderr",
     "output_type": "stream",
     "text": [
      "100%|██████████| 57/57 [02:44<00:00,  2.89s/it]\n"
     ]
    },
    {
     "name": "stdout",
     "output_type": "stream",
     "text": [
      "Training Error: \n",
      " Avg loss: 0.007392 \n",
      "\n"
     ]
    },
    {
     "name": "stderr",
     "output_type": "stream",
     "text": [
      "100%|██████████| 19/19 [00:38<00:00,  2.04s/it]\n"
     ]
    },
    {
     "name": "stdout",
     "output_type": "stream",
     "text": [
      "Validation Error: \n",
      " Avg loss: 0.003624 \n",
      "\n",
      "Learning rate (antes): 1.0000000000000028e-05\n",
      "Learning rate (depois): 1.0000000000000028e-05\n",
      "\n",
      "epoch 95\n",
      "-------------------------------\n",
      "Training on 162186 samples...\n",
      "Batch size: 2867\n",
      "Number of batches: 57\n"
     ]
    },
    {
     "name": "stderr",
     "output_type": "stream",
     "text": [
      "100%|██████████| 57/57 [02:42<00:00,  2.84s/it]\n"
     ]
    },
    {
     "name": "stdout",
     "output_type": "stream",
     "text": [
      "Training Error: \n",
      " Avg loss: 0.007389 \n",
      "\n"
     ]
    },
    {
     "name": "stderr",
     "output_type": "stream",
     "text": [
      "100%|██████████| 19/19 [00:38<00:00,  2.04s/it]\n"
     ]
    },
    {
     "name": "stdout",
     "output_type": "stream",
     "text": [
      "Validation Error: \n",
      " Avg loss: 0.003624 \n",
      "\n",
      "Learning rate (antes): 1.0000000000000028e-05\n",
      "Learning rate (depois): 1.0000000000000028e-05\n",
      "\n",
      "epoch 96\n",
      "-------------------------------\n",
      "Training on 162186 samples...\n",
      "Batch size: 2867\n",
      "Number of batches: 57\n"
     ]
    },
    {
     "name": "stderr",
     "output_type": "stream",
     "text": [
      "100%|██████████| 57/57 [02:45<00:00,  2.91s/it]\n"
     ]
    },
    {
     "name": "stdout",
     "output_type": "stream",
     "text": [
      "Training Error: \n",
      " Avg loss: 0.007389 \n",
      "\n"
     ]
    },
    {
     "name": "stderr",
     "output_type": "stream",
     "text": [
      "100%|██████████| 19/19 [00:39<00:00,  2.09s/it]\n"
     ]
    },
    {
     "name": "stdout",
     "output_type": "stream",
     "text": [
      "Validation Error: \n",
      " Avg loss: 0.003623 \n",
      "\n",
      "Learning rate (antes): 1.0000000000000028e-05\n",
      "Learning rate (depois): 1.0000000000000028e-05\n",
      "\n",
      "epoch 97\n",
      "-------------------------------\n",
      "Training on 162186 samples...\n",
      "Batch size: 2867\n",
      "Number of batches: 57\n"
     ]
    },
    {
     "name": "stderr",
     "output_type": "stream",
     "text": [
      "100%|██████████| 57/57 [02:46<00:00,  2.92s/it]\n"
     ]
    },
    {
     "name": "stdout",
     "output_type": "stream",
     "text": [
      "Training Error: \n",
      " Avg loss: 0.007388 \n",
      "\n"
     ]
    },
    {
     "name": "stderr",
     "output_type": "stream",
     "text": [
      "100%|██████████| 19/19 [00:36<00:00,  1.94s/it]\n"
     ]
    },
    {
     "name": "stdout",
     "output_type": "stream",
     "text": [
      "Validation Error: \n",
      " Avg loss: 0.003622 \n",
      "\n",
      "Learning rate (antes): 1.0000000000000028e-05\n",
      "Learning rate (depois): 1.0000000000000028e-05\n",
      "\n",
      "epoch 98\n",
      "-------------------------------\n",
      "Training on 162186 samples...\n",
      "Batch size: 2867\n",
      "Number of batches: 57\n"
     ]
    },
    {
     "name": "stderr",
     "output_type": "stream",
     "text": [
      "100%|██████████| 57/57 [02:44<00:00,  2.89s/it]\n"
     ]
    },
    {
     "name": "stdout",
     "output_type": "stream",
     "text": [
      "Training Error: \n",
      " Avg loss: 0.007389 \n",
      "\n"
     ]
    },
    {
     "name": "stderr",
     "output_type": "stream",
     "text": [
      "100%|██████████| 19/19 [00:38<00:00,  2.00s/it]\n"
     ]
    },
    {
     "name": "stdout",
     "output_type": "stream",
     "text": [
      "Validation Error: \n",
      " Avg loss: 0.003622 \n",
      "\n",
      "Learning rate (antes): 1.0000000000000028e-05\n",
      "Learning rate (depois): 1.0000000000000028e-05\n",
      "\n",
      "epoch 99\n",
      "-------------------------------\n",
      "Training on 162186 samples...\n",
      "Batch size: 2867\n",
      "Number of batches: 57\n"
     ]
    },
    {
     "name": "stderr",
     "output_type": "stream",
     "text": [
      "100%|██████████| 57/57 [02:57<00:00,  3.11s/it]\n"
     ]
    },
    {
     "name": "stdout",
     "output_type": "stream",
     "text": [
      "Training Error: \n",
      " Avg loss: 0.007387 \n",
      "\n"
     ]
    },
    {
     "name": "stderr",
     "output_type": "stream",
     "text": [
      "100%|██████████| 19/19 [00:38<00:00,  2.04s/it]"
     ]
    },
    {
     "name": "stdout",
     "output_type": "stream",
     "text": [
      "Validation Error: \n",
      " Avg loss: 0.003622 \n",
      "\n",
      "Learning rate (antes): 1.0000000000000028e-05\n",
      "Learning rate (depois): 1.0000000000000028e-05\n",
      "CPU times: total: 5h 34min 18s\n",
      "Wall time: 7h 15min\n"
     ]
    },
    {
     "name": "stderr",
     "output_type": "stream",
     "text": [
      "\n"
     ]
    }
   ],
   "source": [
    "%%time\n",
    "run_srcnn.train(\n",
    "    model=model_f2_1,\n",
    "    train_dataloader=train_dataloader,\n",
    "    validation_dataloader=validation_dataloader,\n",
    "    optimizer=optimizer_f2_1,\n",
    "    epochs=100,\n",
    "    scheduler=scheduler_f2_1,\n",
    "    loss_fn=nn.MSELoss(),\n",
    ")"
   ]
  },
  {
   "cell_type": "code",
   "execution_count": 8,
   "metadata": {},
   "outputs": [
    {
     "data": {
      "text/html": [
       "<div>\n",
       "<style scoped>\n",
       "    .dataframe tbody tr th:only-of-type {\n",
       "        vertical-align: middle;\n",
       "    }\n",
       "\n",
       "    .dataframe tbody tr th {\n",
       "        vertical-align: top;\n",
       "    }\n",
       "\n",
       "    .dataframe thead th {\n",
       "        text-align: right;\n",
       "    }\n",
       "</style>\n",
       "<table border=\"1\" class=\"dataframe\">\n",
       "  <thead>\n",
       "    <tr style=\"text-align: right;\">\n",
       "      <th></th>\n",
       "      <th>epoch</th>\n",
       "      <th>time</th>\n",
       "      <th>lr</th>\n",
       "      <th>train_loss</th>\n",
       "      <th>validation_loss</th>\n",
       "    </tr>\n",
       "  </thead>\n",
       "  <tbody>\n",
       "    <tr>\n",
       "      <th>95</th>\n",
       "      <td>95</td>\n",
       "      <td>258.085769</td>\n",
       "      <td>0.00001</td>\n",
       "      <td>0.007389</td>\n",
       "      <td>0.003624</td>\n",
       "    </tr>\n",
       "    <tr>\n",
       "      <th>96</th>\n",
       "      <td>96</td>\n",
       "      <td>261.805513</td>\n",
       "      <td>0.00001</td>\n",
       "      <td>0.007389</td>\n",
       "      <td>0.003623</td>\n",
       "    </tr>\n",
       "    <tr>\n",
       "      <th>97</th>\n",
       "      <td>97</td>\n",
       "      <td>256.213686</td>\n",
       "      <td>0.00001</td>\n",
       "      <td>0.007388</td>\n",
       "      <td>0.003622</td>\n",
       "    </tr>\n",
       "    <tr>\n",
       "      <th>98</th>\n",
       "      <td>98</td>\n",
       "      <td>258.176599</td>\n",
       "      <td>0.00001</td>\n",
       "      <td>0.007389</td>\n",
       "      <td>0.003622</td>\n",
       "    </tr>\n",
       "    <tr>\n",
       "      <th>99</th>\n",
       "      <td>99</td>\n",
       "      <td>279.710755</td>\n",
       "      <td>0.00001</td>\n",
       "      <td>0.007387</td>\n",
       "      <td>0.003622</td>\n",
       "    </tr>\n",
       "  </tbody>\n",
       "</table>\n",
       "</div>"
      ],
      "text/plain": [
       "    epoch        time       lr  train_loss  validation_loss\n",
       "95     95  258.085769  0.00001    0.007389         0.003624\n",
       "96     96  261.805513  0.00001    0.007389         0.003623\n",
       "97     97  256.213686  0.00001    0.007388         0.003622\n",
       "98     98  258.176599  0.00001    0.007389         0.003622\n",
       "99     99  279.710755  0.00001    0.007387         0.003622"
      ]
     },
     "execution_count": 8,
     "metadata": {},
     "output_type": "execute_result"
    }
   ],
   "source": [
    "df_f2_1 = run_srcnn.get_model_df()\n",
    "df_f2_1.tail()"
   ]
  },
  {
   "cell_type": "code",
   "execution_count": 9,
   "metadata": {},
   "outputs": [],
   "source": [
    "run_srcnn.save_model_df('./results/srcnn/dataframes/model_f2_1.csv')\n",
    "run_srcnn.save_model_weights(model_f2_1, './results/srcnn/dataframes/model_f2_1.pth')"
   ]
  },
  {
   "cell_type": "code",
   "execution_count": 10,
   "metadata": {
    "scrolled": true
   },
   "outputs": [
    {
     "name": "stdout",
     "output_type": "stream",
     "text": [
      "\n",
      "epoch 0\n",
      "-------------------------------\n",
      "Training on 162186 samples...\n",
      "Batch size: 2867\n",
      "Number of batches: 57\n"
     ]
    },
    {
     "name": "stderr",
     "output_type": "stream",
     "text": [
      "  0%|          | 0/57 [00:00<?, ?it/s]C:\\Users\\Pedro\\anaconda3\\lib\\site-packages\\torchvision\\transforms\\functional.py:1603: UserWarning: The default value of the antialias parameter of all the resizing transforms (Resize(), RandomResizedCrop(), etc.) will change from None to True in v0.17, in order to be consistent across the PIL and Tensor backends. To suppress this warning, directly pass antialias=True (recommended, future default), antialias=None (current default, which means False for Tensors and True for PIL), or antialias=False (only works on Tensors - PIL will still use antialiasing). This also applies if you are using the inference transforms from the models weights: update the call to weights.transforms(antialias=True).\n",
      "  warnings.warn(\n",
      "100%|██████████| 57/57 [03:48<00:00,  4.02s/it]\n"
     ]
    },
    {
     "name": "stdout",
     "output_type": "stream",
     "text": [
      "Training Error: \n",
      " Avg loss: 0.028788 \n",
      "\n"
     ]
    },
    {
     "name": "stderr",
     "output_type": "stream",
     "text": [
      "100%|██████████| 19/19 [00:40<00:00,  2.14s/it]\n"
     ]
    },
    {
     "name": "stdout",
     "output_type": "stream",
     "text": [
      "Validation Error: \n",
      " Avg loss: 0.005754 \n",
      "\n",
      "Learning rate (antes): 0.001\n",
      "Learning rate (depois): 0.0009835\n",
      "\n",
      "epoch 1\n",
      "-------------------------------\n",
      "Training on 162186 samples...\n",
      "Batch size: 2867\n",
      "Number of batches: 57\n"
     ]
    },
    {
     "name": "stderr",
     "output_type": "stream",
     "text": [
      "100%|██████████| 57/57 [03:38<00:00,  3.84s/it]\n"
     ]
    },
    {
     "name": "stdout",
     "output_type": "stream",
     "text": [
      "Training Error: \n",
      " Avg loss: 0.008735 \n",
      "\n"
     ]
    },
    {
     "name": "stderr",
     "output_type": "stream",
     "text": [
      "100%|██████████| 19/19 [00:42<00:00,  2.22s/it]\n"
     ]
    },
    {
     "name": "stdout",
     "output_type": "stream",
     "text": [
      "Validation Error: \n",
      " Avg loss: 0.004221 \n",
      "\n",
      "Learning rate (antes): 0.0009835\n",
      "Learning rate (depois): 0.000967\n",
      "\n",
      "epoch 2\n",
      "-------------------------------\n",
      "Training on 162186 samples...\n",
      "Batch size: 2867\n",
      "Number of batches: 57\n"
     ]
    },
    {
     "name": "stderr",
     "output_type": "stream",
     "text": [
      "100%|██████████| 57/57 [03:53<00:00,  4.09s/it]\n"
     ]
    },
    {
     "name": "stdout",
     "output_type": "stream",
     "text": [
      "Training Error: \n",
      " Avg loss: 0.007952 \n",
      "\n"
     ]
    },
    {
     "name": "stderr",
     "output_type": "stream",
     "text": [
      "100%|██████████| 19/19 [00:44<00:00,  2.35s/it]\n"
     ]
    },
    {
     "name": "stdout",
     "output_type": "stream",
     "text": [
      "Validation Error: \n",
      " Avg loss: 0.003882 \n",
      "\n",
      "Learning rate (antes): 0.000967\n",
      "Learning rate (depois): 0.0009505\n",
      "\n",
      "epoch 3\n",
      "-------------------------------\n",
      "Training on 162186 samples...\n",
      "Batch size: 2867\n",
      "Number of batches: 57\n"
     ]
    },
    {
     "name": "stderr",
     "output_type": "stream",
     "text": [
      "100%|██████████| 57/57 [03:46<00:00,  3.98s/it]\n"
     ]
    },
    {
     "name": "stdout",
     "output_type": "stream",
     "text": [
      "Training Error: \n",
      " Avg loss: 0.007668 \n",
      "\n"
     ]
    },
    {
     "name": "stderr",
     "output_type": "stream",
     "text": [
      "100%|██████████| 19/19 [00:42<00:00,  2.26s/it]\n"
     ]
    },
    {
     "name": "stdout",
     "output_type": "stream",
     "text": [
      "Validation Error: \n",
      " Avg loss: 0.003698 \n",
      "\n",
      "Learning rate (antes): 0.0009505\n",
      "Learning rate (depois): 0.0009339999999999999\n",
      "\n",
      "epoch 4\n",
      "-------------------------------\n",
      "Training on 162186 samples...\n",
      "Batch size: 2867\n",
      "Number of batches: 57\n"
     ]
    },
    {
     "name": "stderr",
     "output_type": "stream",
     "text": [
      "100%|██████████| 57/57 [03:48<00:00,  4.00s/it]\n"
     ]
    },
    {
     "name": "stdout",
     "output_type": "stream",
     "text": [
      "Training Error: \n",
      " Avg loss: 0.007501 \n",
      "\n"
     ]
    },
    {
     "name": "stderr",
     "output_type": "stream",
     "text": [
      "100%|██████████| 19/19 [00:44<00:00,  2.36s/it]\n"
     ]
    },
    {
     "name": "stdout",
     "output_type": "stream",
     "text": [
      "Validation Error: \n",
      " Avg loss: 0.003599 \n",
      "\n",
      "Learning rate (antes): 0.0009339999999999999\n",
      "Learning rate (depois): 0.0009174999999999999\n",
      "\n",
      "epoch 5\n",
      "-------------------------------\n",
      "Training on 162186 samples...\n",
      "Batch size: 2867\n",
      "Number of batches: 57\n"
     ]
    },
    {
     "name": "stderr",
     "output_type": "stream",
     "text": [
      "100%|██████████| 57/57 [03:45<00:00,  3.95s/it]\n"
     ]
    },
    {
     "name": "stdout",
     "output_type": "stream",
     "text": [
      "Training Error: \n",
      " Avg loss: 0.007543 \n",
      "\n"
     ]
    },
    {
     "name": "stderr",
     "output_type": "stream",
     "text": [
      "100%|██████████| 19/19 [00:43<00:00,  2.31s/it]\n"
     ]
    },
    {
     "name": "stdout",
     "output_type": "stream",
     "text": [
      "Validation Error: \n",
      " Avg loss: 0.003628 \n",
      "\n",
      "Learning rate (antes): 0.0009174999999999999\n",
      "Learning rate (depois): 0.0009009999999999999\n",
      "\n",
      "epoch 6\n",
      "-------------------------------\n",
      "Training on 162186 samples...\n",
      "Batch size: 2867\n",
      "Number of batches: 57\n"
     ]
    },
    {
     "name": "stderr",
     "output_type": "stream",
     "text": [
      "100%|██████████| 57/57 [03:45<00:00,  3.96s/it]\n"
     ]
    },
    {
     "name": "stdout",
     "output_type": "stream",
     "text": [
      "Training Error: \n",
      " Avg loss: 0.007348 \n",
      "\n"
     ]
    },
    {
     "name": "stderr",
     "output_type": "stream",
     "text": [
      "100%|██████████| 19/19 [00:42<00:00,  2.26s/it]\n"
     ]
    },
    {
     "name": "stdout",
     "output_type": "stream",
     "text": [
      "Validation Error: \n",
      " Avg loss: 0.003585 \n",
      "\n",
      "Learning rate (antes): 0.0009009999999999999\n",
      "Learning rate (depois): 0.0008844999999999999\n",
      "\n",
      "epoch 7\n",
      "-------------------------------\n",
      "Training on 162186 samples...\n",
      "Batch size: 2867\n",
      "Number of batches: 57\n"
     ]
    },
    {
     "name": "stderr",
     "output_type": "stream",
     "text": [
      "100%|██████████| 57/57 [03:47<00:00,  3.99s/it]\n"
     ]
    },
    {
     "name": "stdout",
     "output_type": "stream",
     "text": [
      "Training Error: \n",
      " Avg loss: 0.007291 \n",
      "\n"
     ]
    },
    {
     "name": "stderr",
     "output_type": "stream",
     "text": [
      "100%|██████████| 19/19 [00:45<00:00,  2.39s/it]\n"
     ]
    },
    {
     "name": "stdout",
     "output_type": "stream",
     "text": [
      "Validation Error: \n",
      " Avg loss: 0.003483 \n",
      "\n",
      "Learning rate (antes): 0.0008844999999999999\n",
      "Learning rate (depois): 0.0008679999999999998\n",
      "\n",
      "epoch 8\n",
      "-------------------------------\n",
      "Training on 162186 samples...\n",
      "Batch size: 2867\n",
      "Number of batches: 57\n"
     ]
    },
    {
     "name": "stderr",
     "output_type": "stream",
     "text": [
      "100%|██████████| 57/57 [03:47<00:00,  3.99s/it]\n"
     ]
    },
    {
     "name": "stdout",
     "output_type": "stream",
     "text": [
      "Training Error: \n",
      " Avg loss: 0.007269 \n",
      "\n"
     ]
    },
    {
     "name": "stderr",
     "output_type": "stream",
     "text": [
      "100%|██████████| 19/19 [00:43<00:00,  2.30s/it]\n"
     ]
    },
    {
     "name": "stdout",
     "output_type": "stream",
     "text": [
      "Validation Error: \n",
      " Avg loss: 0.003458 \n",
      "\n",
      "Learning rate (antes): 0.0008679999999999998\n",
      "Learning rate (depois): 0.0008514999999999998\n",
      "\n",
      "epoch 9\n",
      "-------------------------------\n",
      "Training on 162186 samples...\n",
      "Batch size: 2867\n",
      "Number of batches: 57\n"
     ]
    },
    {
     "name": "stderr",
     "output_type": "stream",
     "text": [
      "100%|██████████| 57/57 [03:44<00:00,  3.93s/it]\n"
     ]
    },
    {
     "name": "stdout",
     "output_type": "stream",
     "text": [
      "Training Error: \n",
      " Avg loss: 0.007252 \n",
      "\n"
     ]
    },
    {
     "name": "stderr",
     "output_type": "stream",
     "text": [
      "100%|██████████| 19/19 [00:45<00:00,  2.38s/it]\n"
     ]
    },
    {
     "name": "stdout",
     "output_type": "stream",
     "text": [
      "Validation Error: \n",
      " Avg loss: 0.003648 \n",
      "\n",
      "Learning rate (antes): 0.0008514999999999998\n",
      "Learning rate (depois): 0.0008349999999999998\n",
      "\n",
      "epoch 10\n",
      "-------------------------------\n",
      "Training on 162186 samples...\n",
      "Batch size: 2867\n",
      "Number of batches: 57\n"
     ]
    },
    {
     "name": "stderr",
     "output_type": "stream",
     "text": [
      "100%|██████████| 57/57 [04:14<00:00,  4.46s/it]\n"
     ]
    },
    {
     "name": "stdout",
     "output_type": "stream",
     "text": [
      "Training Error: \n",
      " Avg loss: 0.007195 \n",
      "\n"
     ]
    },
    {
     "name": "stderr",
     "output_type": "stream",
     "text": [
      "100%|██████████| 19/19 [00:41<00:00,  2.21s/it]\n"
     ]
    },
    {
     "name": "stdout",
     "output_type": "stream",
     "text": [
      "Validation Error: \n",
      " Avg loss: 0.003416 \n",
      "\n",
      "Learning rate (antes): 0.0008349999999999998\n",
      "Learning rate (depois): 0.0008184999999999998\n",
      "\n",
      "epoch 11\n",
      "-------------------------------\n",
      "Training on 162186 samples...\n",
      "Batch size: 2867\n",
      "Number of batches: 57\n"
     ]
    },
    {
     "name": "stderr",
     "output_type": "stream",
     "text": [
      "100%|██████████| 57/57 [04:05<00:00,  4.31s/it]\n"
     ]
    },
    {
     "name": "stdout",
     "output_type": "stream",
     "text": [
      "Training Error: \n",
      " Avg loss: 0.007166 \n",
      "\n"
     ]
    },
    {
     "name": "stderr",
     "output_type": "stream",
     "text": [
      "100%|██████████| 19/19 [00:42<00:00,  2.24s/it]\n"
     ]
    },
    {
     "name": "stdout",
     "output_type": "stream",
     "text": [
      "Validation Error: \n",
      " Avg loss: 0.003410 \n",
      "\n",
      "Learning rate (antes): 0.0008184999999999998\n",
      "Learning rate (depois): 0.0008019999999999998\n",
      "\n",
      "epoch 12\n",
      "-------------------------------\n",
      "Training on 162186 samples...\n",
      "Batch size: 2867\n",
      "Number of batches: 57\n"
     ]
    },
    {
     "name": "stderr",
     "output_type": "stream",
     "text": [
      "100%|██████████| 57/57 [03:47<00:00,  3.99s/it]\n"
     ]
    },
    {
     "name": "stdout",
     "output_type": "stream",
     "text": [
      "Training Error: \n",
      " Avg loss: 0.007181 \n",
      "\n"
     ]
    },
    {
     "name": "stderr",
     "output_type": "stream",
     "text": [
      "100%|██████████| 19/19 [00:47<00:00,  2.49s/it]\n"
     ]
    },
    {
     "name": "stdout",
     "output_type": "stream",
     "text": [
      "Validation Error: \n",
      " Avg loss: 0.003418 \n",
      "\n",
      "Learning rate (antes): 0.0008019999999999998\n",
      "Learning rate (depois): 0.0007854999999999997\n",
      "\n",
      "epoch 13\n",
      "-------------------------------\n",
      "Training on 162186 samples...\n",
      "Batch size: 2867\n",
      "Number of batches: 57\n"
     ]
    },
    {
     "name": "stderr",
     "output_type": "stream",
     "text": [
      "100%|██████████| 57/57 [04:05<00:00,  4.30s/it]\n"
     ]
    },
    {
     "name": "stdout",
     "output_type": "stream",
     "text": [
      "Training Error: \n",
      " Avg loss: 0.007122 \n",
      "\n"
     ]
    },
    {
     "name": "stderr",
     "output_type": "stream",
     "text": [
      "100%|██████████| 19/19 [00:44<00:00,  2.33s/it]\n"
     ]
    },
    {
     "name": "stdout",
     "output_type": "stream",
     "text": [
      "Validation Error: \n",
      " Avg loss: 0.003378 \n",
      "\n",
      "Learning rate (antes): 0.0007854999999999997\n",
      "Learning rate (depois): 0.0007689999999999997\n",
      "\n",
      "epoch 14\n",
      "-------------------------------\n",
      "Training on 162186 samples...\n",
      "Batch size: 2867\n",
      "Number of batches: 57\n"
     ]
    },
    {
     "name": "stderr",
     "output_type": "stream",
     "text": [
      "100%|██████████| 57/57 [03:46<00:00,  3.97s/it]\n"
     ]
    },
    {
     "name": "stdout",
     "output_type": "stream",
     "text": [
      "Training Error: \n",
      " Avg loss: 0.007129 \n",
      "\n"
     ]
    },
    {
     "name": "stderr",
     "output_type": "stream",
     "text": [
      "100%|██████████| 19/19 [00:44<00:00,  2.36s/it]\n"
     ]
    },
    {
     "name": "stdout",
     "output_type": "stream",
     "text": [
      "Validation Error: \n",
      " Avg loss: 0.003379 \n",
      "\n",
      "Learning rate (antes): 0.0007689999999999997\n",
      "Learning rate (depois): 0.0007524999999999997\n",
      "\n",
      "epoch 15\n",
      "-------------------------------\n",
      "Training on 162186 samples...\n",
      "Batch size: 2867\n",
      "Number of batches: 57\n"
     ]
    },
    {
     "name": "stderr",
     "output_type": "stream",
     "text": [
      "100%|██████████| 57/57 [03:49<00:00,  4.02s/it]\n"
     ]
    },
    {
     "name": "stdout",
     "output_type": "stream",
     "text": [
      "Training Error: \n",
      " Avg loss: 0.007090 \n",
      "\n"
     ]
    },
    {
     "name": "stderr",
     "output_type": "stream",
     "text": [
      "100%|██████████| 19/19 [00:46<00:00,  2.43s/it]\n"
     ]
    },
    {
     "name": "stdout",
     "output_type": "stream",
     "text": [
      "Validation Error: \n",
      " Avg loss: 0.003477 \n",
      "\n",
      "Learning rate (antes): 0.0007524999999999997\n",
      "Learning rate (depois): 0.0007359999999999997\n",
      "\n",
      "epoch 16\n",
      "-------------------------------\n",
      "Training on 162186 samples...\n",
      "Batch size: 2867\n",
      "Number of batches: 57\n"
     ]
    },
    {
     "name": "stderr",
     "output_type": "stream",
     "text": [
      "100%|██████████| 57/57 [03:57<00:00,  4.17s/it]\n"
     ]
    },
    {
     "name": "stdout",
     "output_type": "stream",
     "text": [
      "Training Error: \n",
      " Avg loss: 0.007081 \n",
      "\n"
     ]
    },
    {
     "name": "stderr",
     "output_type": "stream",
     "text": [
      "100%|██████████| 19/19 [00:47<00:00,  2.48s/it]\n"
     ]
    },
    {
     "name": "stdout",
     "output_type": "stream",
     "text": [
      "Validation Error: \n",
      " Avg loss: 0.003581 \n",
      "\n",
      "Learning rate (antes): 0.0007359999999999997\n",
      "Learning rate (depois): 0.0007194999999999997\n",
      "\n",
      "epoch 17\n",
      "-------------------------------\n",
      "Training on 162186 samples...\n",
      "Batch size: 2867\n",
      "Number of batches: 57\n"
     ]
    },
    {
     "name": "stderr",
     "output_type": "stream",
     "text": [
      "100%|██████████| 57/57 [03:42<00:00,  3.91s/it]\n"
     ]
    },
    {
     "name": "stdout",
     "output_type": "stream",
     "text": [
      "Training Error: \n",
      " Avg loss: 0.007091 \n",
      "\n"
     ]
    },
    {
     "name": "stderr",
     "output_type": "stream",
     "text": [
      "100%|██████████| 19/19 [00:44<00:00,  2.35s/it]\n"
     ]
    },
    {
     "name": "stdout",
     "output_type": "stream",
     "text": [
      "Validation Error: \n",
      " Avg loss: 0.003378 \n",
      "\n",
      "Learning rate (antes): 0.0007194999999999997\n",
      "Learning rate (depois): 0.0007029999999999996\n",
      "\n",
      "epoch 18\n",
      "-------------------------------\n",
      "Training on 162186 samples...\n",
      "Batch size: 2867\n",
      "Number of batches: 57\n"
     ]
    },
    {
     "name": "stderr",
     "output_type": "stream",
     "text": [
      "100%|██████████| 57/57 [03:54<00:00,  4.11s/it]\n"
     ]
    },
    {
     "name": "stdout",
     "output_type": "stream",
     "text": [
      "Training Error: \n",
      " Avg loss: 0.007045 \n",
      "\n"
     ]
    },
    {
     "name": "stderr",
     "output_type": "stream",
     "text": [
      "100%|██████████| 19/19 [00:43<00:00,  2.28s/it]\n"
     ]
    },
    {
     "name": "stdout",
     "output_type": "stream",
     "text": [
      "Validation Error: \n",
      " Avg loss: 0.003393 \n",
      "\n",
      "Learning rate (antes): 0.0007029999999999996\n",
      "Learning rate (depois): 0.0006864999999999997\n",
      "\n",
      "epoch 19\n",
      "-------------------------------\n",
      "Training on 162186 samples...\n",
      "Batch size: 2867\n",
      "Number of batches: 57\n"
     ]
    },
    {
     "name": "stderr",
     "output_type": "stream",
     "text": [
      "100%|██████████| 57/57 [03:45<00:00,  3.95s/it]\n"
     ]
    },
    {
     "name": "stdout",
     "output_type": "stream",
     "text": [
      "Training Error: \n",
      " Avg loss: 0.007051 \n",
      "\n"
     ]
    },
    {
     "name": "stderr",
     "output_type": "stream",
     "text": [
      "100%|██████████| 19/19 [00:43<00:00,  2.30s/it]\n"
     ]
    },
    {
     "name": "stdout",
     "output_type": "stream",
     "text": [
      "Validation Error: \n",
      " Avg loss: 0.003370 \n",
      "\n",
      "Learning rate (antes): 0.0006864999999999997\n",
      "Learning rate (depois): 0.0006699999999999997\n",
      "\n",
      "epoch 20\n",
      "-------------------------------\n",
      "Training on 162186 samples...\n",
      "Batch size: 2867\n",
      "Number of batches: 57\n"
     ]
    },
    {
     "name": "stderr",
     "output_type": "stream",
     "text": [
      "100%|██████████| 57/57 [03:45<00:00,  3.96s/it]\n"
     ]
    },
    {
     "name": "stdout",
     "output_type": "stream",
     "text": [
      "Training Error: \n",
      " Avg loss: 0.007027 \n",
      "\n"
     ]
    },
    {
     "name": "stderr",
     "output_type": "stream",
     "text": [
      "100%|██████████| 19/19 [00:43<00:00,  2.30s/it]\n"
     ]
    },
    {
     "name": "stdout",
     "output_type": "stream",
     "text": [
      "Validation Error: \n",
      " Avg loss: 0.003378 \n",
      "\n",
      "Learning rate (antes): 0.0006699999999999997\n",
      "Learning rate (depois): 0.0006534999999999998\n",
      "\n",
      "epoch 21\n",
      "-------------------------------\n",
      "Training on 162186 samples...\n",
      "Batch size: 2867\n",
      "Number of batches: 57\n"
     ]
    },
    {
     "name": "stderr",
     "output_type": "stream",
     "text": [
      "100%|██████████| 57/57 [04:05<00:00,  4.31s/it]\n"
     ]
    },
    {
     "name": "stdout",
     "output_type": "stream",
     "text": [
      "Training Error: \n",
      " Avg loss: 0.007047 \n",
      "\n"
     ]
    },
    {
     "name": "stderr",
     "output_type": "stream",
     "text": [
      "100%|██████████| 19/19 [00:44<00:00,  2.33s/it]\n"
     ]
    },
    {
     "name": "stdout",
     "output_type": "stream",
     "text": [
      "Validation Error: \n",
      " Avg loss: 0.003331 \n",
      "\n",
      "Learning rate (antes): 0.0006534999999999998\n",
      "Learning rate (depois): 0.0006369999999999998\n",
      "\n",
      "epoch 22\n",
      "-------------------------------\n",
      "Training on 162186 samples...\n",
      "Batch size: 2867\n",
      "Number of batches: 57\n"
     ]
    },
    {
     "name": "stderr",
     "output_type": "stream",
     "text": [
      "100%|██████████| 57/57 [03:45<00:00,  3.95s/it]\n"
     ]
    },
    {
     "name": "stdout",
     "output_type": "stream",
     "text": [
      "Training Error: \n",
      " Avg loss: 0.007015 \n",
      "\n"
     ]
    },
    {
     "name": "stderr",
     "output_type": "stream",
     "text": [
      "100%|██████████| 19/19 [00:42<00:00,  2.24s/it]\n"
     ]
    },
    {
     "name": "stdout",
     "output_type": "stream",
     "text": [
      "Validation Error: \n",
      " Avg loss: 0.003447 \n",
      "\n",
      "Learning rate (antes): 0.0006369999999999998\n",
      "Learning rate (depois): 0.0006204999999999997\n",
      "\n",
      "epoch 23\n",
      "-------------------------------\n",
      "Training on 162186 samples...\n",
      "Batch size: 2867\n",
      "Number of batches: 57\n"
     ]
    },
    {
     "name": "stderr",
     "output_type": "stream",
     "text": [
      "100%|██████████| 57/57 [03:46<00:00,  3.98s/it]\n"
     ]
    },
    {
     "name": "stdout",
     "output_type": "stream",
     "text": [
      "Training Error: \n",
      " Avg loss: 0.007006 \n",
      "\n"
     ]
    },
    {
     "name": "stderr",
     "output_type": "stream",
     "text": [
      "100%|██████████| 19/19 [00:43<00:00,  2.27s/it]\n"
     ]
    },
    {
     "name": "stdout",
     "output_type": "stream",
     "text": [
      "Validation Error: \n",
      " Avg loss: 0.003311 \n",
      "\n",
      "Learning rate (antes): 0.0006204999999999997\n",
      "Learning rate (depois): 0.0006039999999999997\n",
      "\n",
      "epoch 24\n",
      "-------------------------------\n",
      "Training on 162186 samples...\n",
      "Batch size: 2867\n",
      "Number of batches: 57\n"
     ]
    },
    {
     "name": "stderr",
     "output_type": "stream",
     "text": [
      "100%|██████████| 57/57 [03:47<00:00,  4.00s/it]\n"
     ]
    },
    {
     "name": "stdout",
     "output_type": "stream",
     "text": [
      "Training Error: \n",
      " Avg loss: 0.007026 \n",
      "\n"
     ]
    },
    {
     "name": "stderr",
     "output_type": "stream",
     "text": [
      "100%|██████████| 19/19 [00:43<00:00,  2.30s/it]\n"
     ]
    },
    {
     "name": "stdout",
     "output_type": "stream",
     "text": [
      "Validation Error: \n",
      " Avg loss: 0.003361 \n",
      "\n",
      "Learning rate (antes): 0.0006039999999999997\n",
      "Learning rate (depois): 0.0005874999999999997\n",
      "\n",
      "epoch 25\n",
      "-------------------------------\n",
      "Training on 162186 samples...\n",
      "Batch size: 2867\n",
      "Number of batches: 57\n"
     ]
    },
    {
     "name": "stderr",
     "output_type": "stream",
     "text": [
      "100%|██████████| 57/57 [03:45<00:00,  3.96s/it]\n"
     ]
    },
    {
     "name": "stdout",
     "output_type": "stream",
     "text": [
      "Training Error: \n",
      " Avg loss: 0.007006 \n",
      "\n"
     ]
    },
    {
     "name": "stderr",
     "output_type": "stream",
     "text": [
      "100%|██████████| 19/19 [00:42<00:00,  2.25s/it]\n"
     ]
    },
    {
     "name": "stdout",
     "output_type": "stream",
     "text": [
      "Validation Error: \n",
      " Avg loss: 0.003374 \n",
      "\n",
      "Learning rate (antes): 0.0005874999999999997\n",
      "Learning rate (depois): 0.0005709999999999998\n",
      "\n",
      "epoch 26\n",
      "-------------------------------\n",
      "Training on 162186 samples...\n",
      "Batch size: 2867\n",
      "Number of batches: 57\n"
     ]
    },
    {
     "name": "stderr",
     "output_type": "stream",
     "text": [
      "100%|██████████| 57/57 [03:47<00:00,  4.00s/it]\n"
     ]
    },
    {
     "name": "stdout",
     "output_type": "stream",
     "text": [
      "Training Error: \n",
      " Avg loss: 0.006990 \n",
      "\n"
     ]
    },
    {
     "name": "stderr",
     "output_type": "stream",
     "text": [
      "100%|██████████| 19/19 [00:42<00:00,  2.24s/it]\n"
     ]
    },
    {
     "name": "stdout",
     "output_type": "stream",
     "text": [
      "Validation Error: \n",
      " Avg loss: 0.003302 \n",
      "\n",
      "Learning rate (antes): 0.0005709999999999998\n",
      "Learning rate (depois): 0.0005544999999999998\n",
      "\n",
      "epoch 27\n",
      "-------------------------------\n",
      "Training on 162186 samples...\n",
      "Batch size: 2867\n",
      "Number of batches: 57\n"
     ]
    },
    {
     "name": "stderr",
     "output_type": "stream",
     "text": [
      "100%|██████████| 57/57 [03:46<00:00,  3.97s/it]\n"
     ]
    },
    {
     "name": "stdout",
     "output_type": "stream",
     "text": [
      "Training Error: \n",
      " Avg loss: 0.006996 \n",
      "\n"
     ]
    },
    {
     "name": "stderr",
     "output_type": "stream",
     "text": [
      "100%|██████████| 19/19 [00:43<00:00,  2.30s/it]\n"
     ]
    },
    {
     "name": "stdout",
     "output_type": "stream",
     "text": [
      "Validation Error: \n",
      " Avg loss: 0.003299 \n",
      "\n",
      "Learning rate (antes): 0.0005544999999999998\n",
      "Learning rate (depois): 0.0005379999999999997\n",
      "\n",
      "epoch 28\n",
      "-------------------------------\n",
      "Training on 162186 samples...\n",
      "Batch size: 2867\n",
      "Number of batches: 57\n"
     ]
    },
    {
     "name": "stderr",
     "output_type": "stream",
     "text": [
      "100%|██████████| 57/57 [03:46<00:00,  3.97s/it]\n"
     ]
    },
    {
     "name": "stdout",
     "output_type": "stream",
     "text": [
      "Training Error: \n",
      " Avg loss: 0.006972 \n",
      "\n"
     ]
    },
    {
     "name": "stderr",
     "output_type": "stream",
     "text": [
      "100%|██████████| 19/19 [00:44<00:00,  2.33s/it]\n"
     ]
    },
    {
     "name": "stdout",
     "output_type": "stream",
     "text": [
      "Validation Error: \n",
      " Avg loss: 0.003298 \n",
      "\n",
      "Learning rate (antes): 0.0005379999999999997\n",
      "Learning rate (depois): 0.0005214999999999997\n",
      "\n",
      "epoch 29\n",
      "-------------------------------\n",
      "Training on 162186 samples...\n",
      "Batch size: 2867\n",
      "Number of batches: 57\n"
     ]
    },
    {
     "name": "stderr",
     "output_type": "stream",
     "text": [
      "100%|██████████| 57/57 [03:56<00:00,  4.16s/it]\n"
     ]
    },
    {
     "name": "stdout",
     "output_type": "stream",
     "text": [
      "Training Error: \n",
      " Avg loss: 0.006982 \n",
      "\n"
     ]
    },
    {
     "name": "stderr",
     "output_type": "stream",
     "text": [
      "100%|██████████| 19/19 [00:44<00:00,  2.36s/it]\n"
     ]
    },
    {
     "name": "stdout",
     "output_type": "stream",
     "text": [
      "Validation Error: \n",
      " Avg loss: 0.003552 \n",
      "\n",
      "Learning rate (antes): 0.0005214999999999997\n",
      "Learning rate (depois): 0.0005049999999999997\n",
      "\n",
      "epoch 30\n",
      "-------------------------------\n",
      "Training on 162186 samples...\n",
      "Batch size: 2867\n",
      "Number of batches: 57\n"
     ]
    },
    {
     "name": "stderr",
     "output_type": "stream",
     "text": [
      "100%|██████████| 57/57 [03:50<00:00,  4.04s/it]\n"
     ]
    },
    {
     "name": "stdout",
     "output_type": "stream",
     "text": [
      "Training Error: \n",
      " Avg loss: 0.006980 \n",
      "\n"
     ]
    },
    {
     "name": "stderr",
     "output_type": "stream",
     "text": [
      "100%|██████████| 19/19 [00:43<00:00,  2.28s/it]\n"
     ]
    },
    {
     "name": "stdout",
     "output_type": "stream",
     "text": [
      "Validation Error: \n",
      " Avg loss: 0.003294 \n",
      "\n",
      "Learning rate (antes): 0.0005049999999999997\n",
      "Learning rate (depois): 0.0004884999999999997\n",
      "\n",
      "epoch 31\n",
      "-------------------------------\n",
      "Training on 162186 samples...\n",
      "Batch size: 2867\n",
      "Number of batches: 57\n"
     ]
    },
    {
     "name": "stderr",
     "output_type": "stream",
     "text": [
      "100%|██████████| 57/57 [03:48<00:00,  4.00s/it]\n"
     ]
    },
    {
     "name": "stdout",
     "output_type": "stream",
     "text": [
      "Training Error: \n",
      " Avg loss: 0.006963 \n",
      "\n"
     ]
    },
    {
     "name": "stderr",
     "output_type": "stream",
     "text": [
      "100%|██████████| 19/19 [00:42<00:00,  2.23s/it]\n"
     ]
    },
    {
     "name": "stdout",
     "output_type": "stream",
     "text": [
      "Validation Error: \n",
      " Avg loss: 0.003312 \n",
      "\n",
      "Learning rate (antes): 0.0004884999999999997\n",
      "Learning rate (depois): 0.0004719999999999997\n",
      "\n",
      "epoch 32\n",
      "-------------------------------\n",
      "Training on 162186 samples...\n",
      "Batch size: 2867\n",
      "Number of batches: 57\n"
     ]
    },
    {
     "name": "stderr",
     "output_type": "stream",
     "text": [
      "100%|██████████| 57/57 [04:00<00:00,  4.22s/it]\n"
     ]
    },
    {
     "name": "stdout",
     "output_type": "stream",
     "text": [
      "Training Error: \n",
      " Avg loss: 0.006963 \n",
      "\n"
     ]
    },
    {
     "name": "stderr",
     "output_type": "stream",
     "text": [
      "100%|██████████| 19/19 [00:44<00:00,  2.37s/it]\n"
     ]
    },
    {
     "name": "stdout",
     "output_type": "stream",
     "text": [
      "Validation Error: \n",
      " Avg loss: 0.003293 \n",
      "\n",
      "Learning rate (antes): 0.0004719999999999997\n",
      "Learning rate (depois): 0.00045549999999999974\n",
      "\n",
      "epoch 33\n",
      "-------------------------------\n",
      "Training on 162186 samples...\n",
      "Batch size: 2867\n",
      "Number of batches: 57\n"
     ]
    },
    {
     "name": "stderr",
     "output_type": "stream",
     "text": [
      "100%|██████████| 57/57 [03:46<00:00,  3.97s/it]\n"
     ]
    },
    {
     "name": "stdout",
     "output_type": "stream",
     "text": [
      "Training Error: \n",
      " Avg loss: 0.006954 \n",
      "\n"
     ]
    },
    {
     "name": "stderr",
     "output_type": "stream",
     "text": [
      "100%|██████████| 19/19 [00:44<00:00,  2.34s/it]\n"
     ]
    },
    {
     "name": "stdout",
     "output_type": "stream",
     "text": [
      "Validation Error: \n",
      " Avg loss: 0.003290 \n",
      "\n",
      "Learning rate (antes): 0.00045549999999999974\n",
      "Learning rate (depois): 0.0004389999999999998\n",
      "\n",
      "epoch 34\n",
      "-------------------------------\n",
      "Training on 162186 samples...\n",
      "Batch size: 2867\n",
      "Number of batches: 57\n"
     ]
    },
    {
     "name": "stderr",
     "output_type": "stream",
     "text": [
      "100%|██████████| 57/57 [03:48<00:00,  4.01s/it]\n"
     ]
    },
    {
     "name": "stdout",
     "output_type": "stream",
     "text": [
      "Training Error: \n",
      " Avg loss: 0.006949 \n",
      "\n"
     ]
    },
    {
     "name": "stderr",
     "output_type": "stream",
     "text": [
      "100%|██████████| 19/19 [00:44<00:00,  2.34s/it]\n"
     ]
    },
    {
     "name": "stdout",
     "output_type": "stream",
     "text": [
      "Validation Error: \n",
      " Avg loss: 0.003292 \n",
      "\n",
      "Learning rate (antes): 0.0004389999999999998\n",
      "Learning rate (depois): 0.00042249999999999975\n",
      "\n",
      "epoch 35\n",
      "-------------------------------\n",
      "Training on 162186 samples...\n",
      "Batch size: 2867\n",
      "Number of batches: 57\n"
     ]
    },
    {
     "name": "stderr",
     "output_type": "stream",
     "text": [
      "100%|██████████| 57/57 [04:34<00:00,  4.82s/it]\n"
     ]
    },
    {
     "name": "stdout",
     "output_type": "stream",
     "text": [
      "Training Error: \n",
      " Avg loss: 0.006950 \n",
      "\n"
     ]
    },
    {
     "name": "stderr",
     "output_type": "stream",
     "text": [
      "100%|██████████| 19/19 [00:47<00:00,  2.52s/it]\n"
     ]
    },
    {
     "name": "stdout",
     "output_type": "stream",
     "text": [
      "Validation Error: \n",
      " Avg loss: 0.003284 \n",
      "\n",
      "Learning rate (antes): 0.00042249999999999975\n",
      "Learning rate (depois): 0.0004059999999999998\n",
      "\n",
      "epoch 36\n",
      "-------------------------------\n",
      "Training on 162186 samples...\n",
      "Batch size: 2867\n",
      "Number of batches: 57\n"
     ]
    },
    {
     "name": "stderr",
     "output_type": "stream",
     "text": [
      "100%|██████████| 57/57 [04:02<00:00,  4.26s/it]\n"
     ]
    },
    {
     "name": "stdout",
     "output_type": "stream",
     "text": [
      "Training Error: \n",
      " Avg loss: 0.006947 \n",
      "\n"
     ]
    },
    {
     "name": "stderr",
     "output_type": "stream",
     "text": [
      "100%|██████████| 19/19 [00:43<00:00,  2.30s/it]\n"
     ]
    },
    {
     "name": "stdout",
     "output_type": "stream",
     "text": [
      "Validation Error: \n",
      " Avg loss: 0.003284 \n",
      "\n",
      "Learning rate (antes): 0.0004059999999999998\n",
      "Learning rate (depois): 0.0003894999999999998\n",
      "\n",
      "epoch 37\n",
      "-------------------------------\n",
      "Training on 162186 samples...\n",
      "Batch size: 2867\n",
      "Number of batches: 57\n"
     ]
    },
    {
     "name": "stderr",
     "output_type": "stream",
     "text": [
      "100%|██████████| 57/57 [04:07<00:00,  4.34s/it]\n"
     ]
    },
    {
     "name": "stdout",
     "output_type": "stream",
     "text": [
      "Training Error: \n",
      " Avg loss: 0.006946 \n",
      "\n"
     ]
    },
    {
     "name": "stderr",
     "output_type": "stream",
     "text": [
      "100%|██████████| 19/19 [00:46<00:00,  2.47s/it]\n"
     ]
    },
    {
     "name": "stdout",
     "output_type": "stream",
     "text": [
      "Validation Error: \n",
      " Avg loss: 0.003287 \n",
      "\n",
      "Learning rate (antes): 0.0003894999999999998\n",
      "Learning rate (depois): 0.00037299999999999985\n",
      "\n",
      "epoch 38\n",
      "-------------------------------\n",
      "Training on 162186 samples...\n",
      "Batch size: 2867\n",
      "Number of batches: 57\n"
     ]
    },
    {
     "name": "stderr",
     "output_type": "stream",
     "text": [
      "100%|██████████| 57/57 [03:53<00:00,  4.10s/it]\n"
     ]
    },
    {
     "name": "stdout",
     "output_type": "stream",
     "text": [
      "Training Error: \n",
      " Avg loss: 0.006942 \n",
      "\n"
     ]
    },
    {
     "name": "stderr",
     "output_type": "stream",
     "text": [
      "100%|██████████| 19/19 [00:45<00:00,  2.38s/it]\n"
     ]
    },
    {
     "name": "stdout",
     "output_type": "stream",
     "text": [
      "Validation Error: \n",
      " Avg loss: 0.003280 \n",
      "\n",
      "Learning rate (antes): 0.00037299999999999985\n",
      "Learning rate (depois): 0.00035649999999999983\n",
      "\n",
      "epoch 39\n",
      "-------------------------------\n",
      "Training on 162186 samples...\n",
      "Batch size: 2867\n",
      "Number of batches: 57\n"
     ]
    },
    {
     "name": "stderr",
     "output_type": "stream",
     "text": [
      "100%|██████████| 57/57 [03:47<00:00,  4.00s/it]\n"
     ]
    },
    {
     "name": "stdout",
     "output_type": "stream",
     "text": [
      "Training Error: \n",
      " Avg loss: 0.006941 \n",
      "\n"
     ]
    },
    {
     "name": "stderr",
     "output_type": "stream",
     "text": [
      "100%|██████████| 19/19 [00:46<00:00,  2.46s/it]\n"
     ]
    },
    {
     "name": "stdout",
     "output_type": "stream",
     "text": [
      "Validation Error: \n",
      " Avg loss: 0.003281 \n",
      "\n",
      "Learning rate (antes): 0.00035649999999999983\n",
      "Learning rate (depois): 0.0003399999999999998\n",
      "\n",
      "epoch 40\n",
      "-------------------------------\n",
      "Training on 162186 samples...\n",
      "Batch size: 2867\n",
      "Number of batches: 57\n"
     ]
    },
    {
     "name": "stderr",
     "output_type": "stream",
     "text": [
      "100%|██████████| 57/57 [04:14<00:00,  4.46s/it]\n"
     ]
    },
    {
     "name": "stdout",
     "output_type": "stream",
     "text": [
      "Training Error: \n",
      " Avg loss: 0.006934 \n",
      "\n"
     ]
    },
    {
     "name": "stderr",
     "output_type": "stream",
     "text": [
      "100%|██████████| 19/19 [00:44<00:00,  2.33s/it]\n"
     ]
    },
    {
     "name": "stdout",
     "output_type": "stream",
     "text": [
      "Validation Error: \n",
      " Avg loss: 0.003283 \n",
      "\n",
      "Learning rate (antes): 0.0003399999999999998\n",
      "Learning rate (depois): 0.0003234999999999998\n",
      "\n",
      "epoch 41\n",
      "-------------------------------\n",
      "Training on 162186 samples...\n",
      "Batch size: 2867\n",
      "Number of batches: 57\n"
     ]
    },
    {
     "name": "stderr",
     "output_type": "stream",
     "text": [
      "100%|██████████| 57/57 [03:43<00:00,  3.93s/it]\n"
     ]
    },
    {
     "name": "stdout",
     "output_type": "stream",
     "text": [
      "Training Error: \n",
      " Avg loss: 0.006930 \n",
      "\n"
     ]
    },
    {
     "name": "stderr",
     "output_type": "stream",
     "text": [
      "100%|██████████| 19/19 [00:45<00:00,  2.38s/it]\n"
     ]
    },
    {
     "name": "stdout",
     "output_type": "stream",
     "text": [
      "Validation Error: \n",
      " Avg loss: 0.003274 \n",
      "\n",
      "Learning rate (antes): 0.0003234999999999998\n",
      "Learning rate (depois): 0.00030699999999999976\n",
      "\n",
      "epoch 42\n",
      "-------------------------------\n",
      "Training on 162186 samples...\n",
      "Batch size: 2867\n",
      "Number of batches: 57\n"
     ]
    },
    {
     "name": "stderr",
     "output_type": "stream",
     "text": [
      "100%|██████████| 57/57 [03:57<00:00,  4.17s/it]\n"
     ]
    },
    {
     "name": "stdout",
     "output_type": "stream",
     "text": [
      "Training Error: \n",
      " Avg loss: 0.006927 \n",
      "\n"
     ]
    },
    {
     "name": "stderr",
     "output_type": "stream",
     "text": [
      "100%|██████████| 19/19 [00:44<00:00,  2.35s/it]\n"
     ]
    },
    {
     "name": "stdout",
     "output_type": "stream",
     "text": [
      "Validation Error: \n",
      " Avg loss: 0.003273 \n",
      "\n",
      "Learning rate (antes): 0.00030699999999999976\n",
      "Learning rate (depois): 0.00029049999999999974\n",
      "\n",
      "epoch 43\n",
      "-------------------------------\n",
      "Training on 162186 samples...\n",
      "Batch size: 2867\n",
      "Number of batches: 57\n"
     ]
    },
    {
     "name": "stderr",
     "output_type": "stream",
     "text": [
      "100%|██████████| 57/57 [05:24<00:00,  5.70s/it]\n"
     ]
    },
    {
     "name": "stdout",
     "output_type": "stream",
     "text": [
      "Training Error: \n",
      " Avg loss: 0.006925 \n",
      "\n"
     ]
    },
    {
     "name": "stderr",
     "output_type": "stream",
     "text": [
      "100%|██████████| 19/19 [00:54<00:00,  2.87s/it]\n"
     ]
    },
    {
     "name": "stdout",
     "output_type": "stream",
     "text": [
      "Validation Error: \n",
      " Avg loss: 0.003274 \n",
      "\n",
      "Learning rate (antes): 0.00029049999999999974\n",
      "Learning rate (depois): 0.0002739999999999998\n",
      "\n",
      "epoch 44\n",
      "-------------------------------\n",
      "Training on 162186 samples...\n",
      "Batch size: 2867\n",
      "Number of batches: 57\n"
     ]
    },
    {
     "name": "stderr",
     "output_type": "stream",
     "text": [
      "100%|██████████| 57/57 [04:11<00:00,  4.42s/it]\n"
     ]
    },
    {
     "name": "stdout",
     "output_type": "stream",
     "text": [
      "Training Error: \n",
      " Avg loss: 0.006924 \n",
      "\n"
     ]
    },
    {
     "name": "stderr",
     "output_type": "stream",
     "text": [
      "100%|██████████| 19/19 [00:44<00:00,  2.36s/it]\n"
     ]
    },
    {
     "name": "stdout",
     "output_type": "stream",
     "text": [
      "Validation Error: \n",
      " Avg loss: 0.003271 \n",
      "\n",
      "Learning rate (antes): 0.0002739999999999998\n",
      "Learning rate (depois): 0.0002574999999999998\n",
      "\n",
      "epoch 45\n",
      "-------------------------------\n",
      "Training on 162186 samples...\n",
      "Batch size: 2867\n",
      "Number of batches: 57\n"
     ]
    },
    {
     "name": "stderr",
     "output_type": "stream",
     "text": [
      "100%|██████████| 57/57 [04:03<00:00,  4.27s/it]\n"
     ]
    },
    {
     "name": "stdout",
     "output_type": "stream",
     "text": [
      "Training Error: \n",
      " Avg loss: 0.006919 \n",
      "\n"
     ]
    },
    {
     "name": "stderr",
     "output_type": "stream",
     "text": [
      "100%|██████████| 19/19 [00:45<00:00,  2.40s/it]\n"
     ]
    },
    {
     "name": "stdout",
     "output_type": "stream",
     "text": [
      "Validation Error: \n",
      " Avg loss: 0.003271 \n",
      "\n",
      "Learning rate (antes): 0.0002574999999999998\n",
      "Learning rate (depois): 0.0002409999999999998\n",
      "\n",
      "epoch 46\n",
      "-------------------------------\n",
      "Training on 162186 samples...\n",
      "Batch size: 2867\n",
      "Number of batches: 57\n"
     ]
    },
    {
     "name": "stderr",
     "output_type": "stream",
     "text": [
      "100%|██████████| 57/57 [03:54<00:00,  4.11s/it]\n"
     ]
    },
    {
     "name": "stdout",
     "output_type": "stream",
     "text": [
      "Training Error: \n",
      " Avg loss: 0.006917 \n",
      "\n"
     ]
    },
    {
     "name": "stderr",
     "output_type": "stream",
     "text": [
      "100%|██████████| 19/19 [00:44<00:00,  2.36s/it]\n"
     ]
    },
    {
     "name": "stdout",
     "output_type": "stream",
     "text": [
      "Validation Error: \n",
      " Avg loss: 0.003267 \n",
      "\n",
      "Learning rate (antes): 0.0002409999999999998\n",
      "Learning rate (depois): 0.00022449999999999982\n",
      "\n",
      "epoch 47\n",
      "-------------------------------\n",
      "Training on 162186 samples...\n",
      "Batch size: 2867\n",
      "Number of batches: 57\n"
     ]
    },
    {
     "name": "stderr",
     "output_type": "stream",
     "text": [
      "100%|██████████| 57/57 [04:09<00:00,  4.38s/it]\n"
     ]
    },
    {
     "name": "stdout",
     "output_type": "stream",
     "text": [
      "Training Error: \n",
      " Avg loss: 0.006914 \n",
      "\n"
     ]
    },
    {
     "name": "stderr",
     "output_type": "stream",
     "text": [
      "100%|██████████| 19/19 [00:44<00:00,  2.32s/it]\n"
     ]
    },
    {
     "name": "stdout",
     "output_type": "stream",
     "text": [
      "Validation Error: \n",
      " Avg loss: 0.003267 \n",
      "\n",
      "Learning rate (antes): 0.00022449999999999982\n",
      "Learning rate (depois): 0.00020799999999999982\n",
      "\n",
      "epoch 48\n",
      "-------------------------------\n",
      "Training on 162186 samples...\n",
      "Batch size: 2867\n",
      "Number of batches: 57\n"
     ]
    },
    {
     "name": "stderr",
     "output_type": "stream",
     "text": [
      "100%|██████████| 57/57 [03:59<00:00,  4.21s/it]\n"
     ]
    },
    {
     "name": "stdout",
     "output_type": "stream",
     "text": [
      "Training Error: \n",
      " Avg loss: 0.006913 \n",
      "\n"
     ]
    },
    {
     "name": "stderr",
     "output_type": "stream",
     "text": [
      "100%|██████████| 19/19 [00:43<00:00,  2.29s/it]\n"
     ]
    },
    {
     "name": "stdout",
     "output_type": "stream",
     "text": [
      "Validation Error: \n",
      " Avg loss: 0.003265 \n",
      "\n",
      "Learning rate (antes): 0.00020799999999999982\n",
      "Learning rate (depois): 0.00019149999999999986\n",
      "\n",
      "epoch 49\n",
      "-------------------------------\n",
      "Training on 162186 samples...\n",
      "Batch size: 2867\n",
      "Number of batches: 57\n"
     ]
    },
    {
     "name": "stderr",
     "output_type": "stream",
     "text": [
      "100%|██████████| 57/57 [03:57<00:00,  4.17s/it]\n"
     ]
    },
    {
     "name": "stdout",
     "output_type": "stream",
     "text": [
      "Training Error: \n",
      " Avg loss: 0.006910 \n",
      "\n"
     ]
    },
    {
     "name": "stderr",
     "output_type": "stream",
     "text": [
      "100%|██████████| 19/19 [00:47<00:00,  2.49s/it]\n"
     ]
    },
    {
     "name": "stdout",
     "output_type": "stream",
     "text": [
      "Validation Error: \n",
      " Avg loss: 0.003264 \n",
      "\n",
      "Learning rate (antes): 0.00019149999999999986\n",
      "Learning rate (depois): 0.00017499999999999986\n",
      "\n",
      "epoch 50\n",
      "-------------------------------\n",
      "Training on 162186 samples...\n",
      "Batch size: 2867\n",
      "Number of batches: 57\n"
     ]
    },
    {
     "name": "stderr",
     "output_type": "stream",
     "text": [
      "100%|██████████| 57/57 [04:02<00:00,  4.25s/it]\n"
     ]
    },
    {
     "name": "stdout",
     "output_type": "stream",
     "text": [
      "Training Error: \n",
      " Avg loss: 0.006907 \n",
      "\n"
     ]
    },
    {
     "name": "stderr",
     "output_type": "stream",
     "text": [
      "100%|██████████| 19/19 [00:44<00:00,  2.35s/it]\n"
     ]
    },
    {
     "name": "stdout",
     "output_type": "stream",
     "text": [
      "Validation Error: \n",
      " Avg loss: 0.003265 \n",
      "\n",
      "Learning rate (antes): 0.00017499999999999986\n",
      "Learning rate (depois): 0.00015849999999999987\n",
      "\n",
      "epoch 51\n",
      "-------------------------------\n",
      "Training on 162186 samples...\n",
      "Batch size: 2867\n",
      "Number of batches: 57\n"
     ]
    },
    {
     "name": "stderr",
     "output_type": "stream",
     "text": [
      "100%|██████████| 57/57 [03:54<00:00,  4.11s/it]\n"
     ]
    },
    {
     "name": "stdout",
     "output_type": "stream",
     "text": [
      "Training Error: \n",
      " Avg loss: 0.006905 \n",
      "\n"
     ]
    },
    {
     "name": "stderr",
     "output_type": "stream",
     "text": [
      "100%|██████████| 19/19 [00:43<00:00,  2.30s/it]\n"
     ]
    },
    {
     "name": "stdout",
     "output_type": "stream",
     "text": [
      "Validation Error: \n",
      " Avg loss: 0.003262 \n",
      "\n",
      "Learning rate (antes): 0.00015849999999999987\n",
      "Learning rate (depois): 0.00014199999999999987\n",
      "\n",
      "epoch 52\n",
      "-------------------------------\n",
      "Training on 162186 samples...\n",
      "Batch size: 2867\n",
      "Number of batches: 57\n"
     ]
    },
    {
     "name": "stderr",
     "output_type": "stream",
     "text": [
      "100%|██████████| 57/57 [04:13<00:00,  4.44s/it]\n"
     ]
    },
    {
     "name": "stdout",
     "output_type": "stream",
     "text": [
      "Training Error: \n",
      " Avg loss: 0.006906 \n",
      "\n"
     ]
    },
    {
     "name": "stderr",
     "output_type": "stream",
     "text": [
      "100%|██████████| 19/19 [00:46<00:00,  2.44s/it]\n"
     ]
    },
    {
     "name": "stdout",
     "output_type": "stream",
     "text": [
      "Validation Error: \n",
      " Avg loss: 0.003261 \n",
      "\n",
      "Learning rate (antes): 0.00014199999999999987\n",
      "Learning rate (depois): 0.0001254999999999999\n",
      "\n",
      "epoch 53\n",
      "-------------------------------\n",
      "Training on 162186 samples...\n",
      "Batch size: 2867\n",
      "Number of batches: 57\n"
     ]
    },
    {
     "name": "stderr",
     "output_type": "stream",
     "text": [
      "100%|██████████| 57/57 [04:06<00:00,  4.33s/it]\n"
     ]
    },
    {
     "name": "stdout",
     "output_type": "stream",
     "text": [
      "Training Error: \n",
      " Avg loss: 0.006901 \n",
      "\n"
     ]
    },
    {
     "name": "stderr",
     "output_type": "stream",
     "text": [
      "100%|██████████| 19/19 [00:43<00:00,  2.29s/it]\n"
     ]
    },
    {
     "name": "stdout",
     "output_type": "stream",
     "text": [
      "Validation Error: \n",
      " Avg loss: 0.003261 \n",
      "\n",
      "Learning rate (antes): 0.0001254999999999999\n",
      "Learning rate (depois): 0.00010899999999999993\n",
      "\n",
      "epoch 54\n",
      "-------------------------------\n",
      "Training on 162186 samples...\n",
      "Batch size: 2867\n",
      "Number of batches: 57\n"
     ]
    },
    {
     "name": "stderr",
     "output_type": "stream",
     "text": [
      "100%|██████████| 57/57 [03:47<00:00,  4.00s/it]\n"
     ]
    },
    {
     "name": "stdout",
     "output_type": "stream",
     "text": [
      "Training Error: \n",
      " Avg loss: 0.006900 \n",
      "\n"
     ]
    },
    {
     "name": "stderr",
     "output_type": "stream",
     "text": [
      "100%|██████████| 19/19 [00:44<00:00,  2.36s/it]\n"
     ]
    },
    {
     "name": "stdout",
     "output_type": "stream",
     "text": [
      "Validation Error: \n",
      " Avg loss: 0.003261 \n",
      "\n",
      "Learning rate (antes): 0.00010899999999999993\n",
      "Learning rate (depois): 9.249999999999994e-05\n",
      "\n",
      "epoch 55\n",
      "-------------------------------\n",
      "Training on 162186 samples...\n",
      "Batch size: 2867\n",
      "Number of batches: 57\n"
     ]
    },
    {
     "name": "stderr",
     "output_type": "stream",
     "text": [
      "100%|██████████| 57/57 [03:55<00:00,  4.13s/it]\n"
     ]
    },
    {
     "name": "stdout",
     "output_type": "stream",
     "text": [
      "Training Error: \n",
      " Avg loss: 0.006902 \n",
      "\n"
     ]
    },
    {
     "name": "stderr",
     "output_type": "stream",
     "text": [
      "100%|██████████| 19/19 [00:44<00:00,  2.33s/it]\n"
     ]
    },
    {
     "name": "stdout",
     "output_type": "stream",
     "text": [
      "Validation Error: \n",
      " Avg loss: 0.003259 \n",
      "\n",
      "Learning rate (antes): 9.249999999999994e-05\n",
      "Learning rate (depois): 7.599999999999995e-05\n",
      "\n",
      "epoch 56\n",
      "-------------------------------\n",
      "Training on 162186 samples...\n",
      "Batch size: 2867\n",
      "Number of batches: 57\n"
     ]
    },
    {
     "name": "stderr",
     "output_type": "stream",
     "text": [
      "100%|██████████| 57/57 [03:52<00:00,  4.08s/it]\n"
     ]
    },
    {
     "name": "stdout",
     "output_type": "stream",
     "text": [
      "Training Error: \n",
      " Avg loss: 0.006901 \n",
      "\n"
     ]
    },
    {
     "name": "stderr",
     "output_type": "stream",
     "text": [
      "100%|██████████| 19/19 [00:42<00:00,  2.25s/it]\n"
     ]
    },
    {
     "name": "stdout",
     "output_type": "stream",
     "text": [
      "Validation Error: \n",
      " Avg loss: 0.003259 \n",
      "\n",
      "Learning rate (antes): 7.599999999999995e-05\n",
      "Learning rate (depois): 5.949999999999996e-05\n",
      "\n",
      "epoch 57\n",
      "-------------------------------\n",
      "Training on 162186 samples...\n",
      "Batch size: 2867\n",
      "Number of batches: 57\n"
     ]
    },
    {
     "name": "stderr",
     "output_type": "stream",
     "text": [
      "100%|██████████| 57/57 [03:44<00:00,  3.94s/it]\n"
     ]
    },
    {
     "name": "stdout",
     "output_type": "stream",
     "text": [
      "Training Error: \n",
      " Avg loss: 0.006900 \n",
      "\n"
     ]
    },
    {
     "name": "stderr",
     "output_type": "stream",
     "text": [
      "100%|██████████| 19/19 [00:45<00:00,  2.39s/it]\n"
     ]
    },
    {
     "name": "stdout",
     "output_type": "stream",
     "text": [
      "Validation Error: \n",
      " Avg loss: 0.003259 \n",
      "\n",
      "Learning rate (antes): 5.949999999999996e-05\n",
      "Learning rate (depois): 4.299999999999998e-05\n",
      "\n",
      "epoch 58\n",
      "-------------------------------\n",
      "Training on 162186 samples...\n",
      "Batch size: 2867\n",
      "Number of batches: 57\n"
     ]
    },
    {
     "name": "stderr",
     "output_type": "stream",
     "text": [
      "100%|██████████| 57/57 [03:46<00:00,  3.97s/it]\n"
     ]
    },
    {
     "name": "stdout",
     "output_type": "stream",
     "text": [
      "Training Error: \n",
      " Avg loss: 0.006900 \n",
      "\n"
     ]
    },
    {
     "name": "stderr",
     "output_type": "stream",
     "text": [
      "100%|██████████| 19/19 [00:43<00:00,  2.29s/it]\n"
     ]
    },
    {
     "name": "stdout",
     "output_type": "stream",
     "text": [
      "Validation Error: \n",
      " Avg loss: 0.003259 \n",
      "\n",
      "Learning rate (antes): 4.299999999999998e-05\n",
      "Learning rate (depois): 2.6499999999999977e-05\n",
      "\n",
      "epoch 59\n",
      "-------------------------------\n",
      "Training on 162186 samples...\n",
      "Batch size: 2867\n",
      "Number of batches: 57\n"
     ]
    },
    {
     "name": "stderr",
     "output_type": "stream",
     "text": [
      "100%|██████████| 57/57 [03:46<00:00,  3.98s/it]\n"
     ]
    },
    {
     "name": "stdout",
     "output_type": "stream",
     "text": [
      "Training Error: \n",
      " Avg loss: 0.006899 \n",
      "\n"
     ]
    },
    {
     "name": "stderr",
     "output_type": "stream",
     "text": [
      "100%|██████████| 19/19 [00:43<00:00,  2.29s/it]\n"
     ]
    },
    {
     "name": "stdout",
     "output_type": "stream",
     "text": [
      "Validation Error: \n",
      " Avg loss: 0.003258 \n",
      "\n",
      "Learning rate (antes): 2.6499999999999977e-05\n",
      "Learning rate (depois): 1.0000000000000028e-05\n",
      "\n",
      "epoch 60\n",
      "-------------------------------\n",
      "Training on 162186 samples...\n",
      "Batch size: 2867\n",
      "Number of batches: 57\n"
     ]
    },
    {
     "name": "stderr",
     "output_type": "stream",
     "text": [
      "100%|██████████| 57/57 [03:47<00:00,  3.98s/it]\n"
     ]
    },
    {
     "name": "stdout",
     "output_type": "stream",
     "text": [
      "Training Error: \n",
      " Avg loss: 0.006898 \n",
      "\n"
     ]
    },
    {
     "name": "stderr",
     "output_type": "stream",
     "text": [
      "100%|██████████| 19/19 [00:44<00:00,  2.34s/it]\n"
     ]
    },
    {
     "name": "stdout",
     "output_type": "stream",
     "text": [
      "Validation Error: \n",
      " Avg loss: 0.003258 \n",
      "\n",
      "Learning rate (antes): 1.0000000000000028e-05\n",
      "Learning rate (depois): 1.0000000000000028e-05\n",
      "\n",
      "epoch 61\n",
      "-------------------------------\n",
      "Training on 162186 samples...\n",
      "Batch size: 2867\n",
      "Number of batches: 57\n"
     ]
    },
    {
     "name": "stderr",
     "output_type": "stream",
     "text": [
      "100%|██████████| 57/57 [03:46<00:00,  3.97s/it]\n"
     ]
    },
    {
     "name": "stdout",
     "output_type": "stream",
     "text": [
      "Training Error: \n",
      " Avg loss: 0.006897 \n",
      "\n"
     ]
    },
    {
     "name": "stderr",
     "output_type": "stream",
     "text": [
      "100%|██████████| 19/19 [00:42<00:00,  2.25s/it]\n"
     ]
    },
    {
     "name": "stdout",
     "output_type": "stream",
     "text": [
      "Validation Error: \n",
      " Avg loss: 0.003258 \n",
      "\n",
      "Learning rate (antes): 1.0000000000000028e-05\n",
      "Learning rate (depois): 1.0000000000000028e-05\n",
      "\n",
      "epoch 62\n",
      "-------------------------------\n",
      "Training on 162186 samples...\n",
      "Batch size: 2867\n",
      "Number of batches: 57\n"
     ]
    },
    {
     "name": "stderr",
     "output_type": "stream",
     "text": [
      "100%|██████████| 57/57 [03:47<00:00,  3.99s/it]\n"
     ]
    },
    {
     "name": "stdout",
     "output_type": "stream",
     "text": [
      "Training Error: \n",
      " Avg loss: 0.006899 \n",
      "\n"
     ]
    },
    {
     "name": "stderr",
     "output_type": "stream",
     "text": [
      "100%|██████████| 19/19 [00:42<00:00,  2.25s/it]\n"
     ]
    },
    {
     "name": "stdout",
     "output_type": "stream",
     "text": [
      "Validation Error: \n",
      " Avg loss: 0.003258 \n",
      "\n",
      "Learning rate (antes): 1.0000000000000028e-05\n",
      "Learning rate (depois): 1.0000000000000028e-05\n",
      "\n",
      "epoch 63\n",
      "-------------------------------\n",
      "Training on 162186 samples...\n",
      "Batch size: 2867\n",
      "Number of batches: 57\n"
     ]
    },
    {
     "name": "stderr",
     "output_type": "stream",
     "text": [
      "100%|██████████| 57/57 [04:17<00:00,  4.51s/it]\n"
     ]
    },
    {
     "name": "stdout",
     "output_type": "stream",
     "text": [
      "Training Error: \n",
      " Avg loss: 0.006897 \n",
      "\n"
     ]
    },
    {
     "name": "stderr",
     "output_type": "stream",
     "text": [
      "100%|██████████| 19/19 [00:46<00:00,  2.47s/it]\n"
     ]
    },
    {
     "name": "stdout",
     "output_type": "stream",
     "text": [
      "Validation Error: \n",
      " Avg loss: 0.003258 \n",
      "\n",
      "Learning rate (antes): 1.0000000000000028e-05\n",
      "Learning rate (depois): 1.0000000000000028e-05\n",
      "\n",
      "epoch 64\n",
      "-------------------------------\n",
      "Training on 162186 samples...\n",
      "Batch size: 2867\n",
      "Number of batches: 57\n"
     ]
    },
    {
     "name": "stderr",
     "output_type": "stream",
     "text": [
      "100%|██████████| 57/57 [03:50<00:00,  4.04s/it]\n"
     ]
    },
    {
     "name": "stdout",
     "output_type": "stream",
     "text": [
      "Training Error: \n",
      " Avg loss: 0.006896 \n",
      "\n"
     ]
    },
    {
     "name": "stderr",
     "output_type": "stream",
     "text": [
      "100%|██████████| 19/19 [00:45<00:00,  2.40s/it]\n"
     ]
    },
    {
     "name": "stdout",
     "output_type": "stream",
     "text": [
      "Validation Error: \n",
      " Avg loss: 0.003258 \n",
      "\n",
      "Learning rate (antes): 1.0000000000000028e-05\n",
      "Learning rate (depois): 1.0000000000000028e-05\n",
      "\n",
      "epoch 65\n",
      "-------------------------------\n",
      "Training on 162186 samples...\n",
      "Batch size: 2867\n",
      "Number of batches: 57\n"
     ]
    },
    {
     "name": "stderr",
     "output_type": "stream",
     "text": [
      "100%|██████████| 57/57 [03:43<00:00,  3.93s/it]\n"
     ]
    },
    {
     "name": "stdout",
     "output_type": "stream",
     "text": [
      "Training Error: \n",
      " Avg loss: 0.006897 \n",
      "\n"
     ]
    },
    {
     "name": "stderr",
     "output_type": "stream",
     "text": [
      "100%|██████████| 19/19 [00:45<00:00,  2.39s/it]\n"
     ]
    },
    {
     "name": "stdout",
     "output_type": "stream",
     "text": [
      "Validation Error: \n",
      " Avg loss: 0.003258 \n",
      "\n",
      "Learning rate (antes): 1.0000000000000028e-05\n",
      "Learning rate (depois): 1.0000000000000028e-05\n",
      "\n",
      "epoch 66\n",
      "-------------------------------\n",
      "Training on 162186 samples...\n",
      "Batch size: 2867\n",
      "Number of batches: 57\n"
     ]
    },
    {
     "name": "stderr",
     "output_type": "stream",
     "text": [
      "100%|██████████| 57/57 [03:52<00:00,  4.08s/it]\n"
     ]
    },
    {
     "name": "stdout",
     "output_type": "stream",
     "text": [
      "Training Error: \n",
      " Avg loss: 0.006899 \n",
      "\n"
     ]
    },
    {
     "name": "stderr",
     "output_type": "stream",
     "text": [
      "100%|██████████| 19/19 [00:45<00:00,  2.38s/it]\n"
     ]
    },
    {
     "name": "stdout",
     "output_type": "stream",
     "text": [
      "Validation Error: \n",
      " Avg loss: 0.003258 \n",
      "\n",
      "Learning rate (antes): 1.0000000000000028e-05\n",
      "Learning rate (depois): 1.0000000000000028e-05\n",
      "\n",
      "epoch 67\n",
      "-------------------------------\n",
      "Training on 162186 samples...\n",
      "Batch size: 2867\n",
      "Number of batches: 57\n"
     ]
    },
    {
     "name": "stderr",
     "output_type": "stream",
     "text": [
      "100%|██████████| 57/57 [03:44<00:00,  3.93s/it]\n"
     ]
    },
    {
     "name": "stdout",
     "output_type": "stream",
     "text": [
      "Training Error: \n",
      " Avg loss: 0.006897 \n",
      "\n"
     ]
    },
    {
     "name": "stderr",
     "output_type": "stream",
     "text": [
      "100%|██████████| 19/19 [00:44<00:00,  2.36s/it]\n"
     ]
    },
    {
     "name": "stdout",
     "output_type": "stream",
     "text": [
      "Validation Error: \n",
      " Avg loss: 0.003257 \n",
      "\n",
      "Learning rate (antes): 1.0000000000000028e-05\n",
      "Learning rate (depois): 1.0000000000000028e-05\n",
      "\n",
      "epoch 68\n",
      "-------------------------------\n",
      "Training on 162186 samples...\n",
      "Batch size: 2867\n",
      "Number of batches: 57\n"
     ]
    },
    {
     "name": "stderr",
     "output_type": "stream",
     "text": [
      "100%|██████████| 57/57 [03:47<00:00,  3.99s/it]\n"
     ]
    },
    {
     "name": "stdout",
     "output_type": "stream",
     "text": [
      "Training Error: \n",
      " Avg loss: 0.006900 \n",
      "\n"
     ]
    },
    {
     "name": "stderr",
     "output_type": "stream",
     "text": [
      "100%|██████████| 19/19 [00:45<00:00,  2.39s/it]\n"
     ]
    },
    {
     "name": "stdout",
     "output_type": "stream",
     "text": [
      "Validation Error: \n",
      " Avg loss: 0.003257 \n",
      "\n",
      "Learning rate (antes): 1.0000000000000028e-05\n",
      "Learning rate (depois): 1.0000000000000028e-05\n",
      "\n",
      "epoch 69\n",
      "-------------------------------\n",
      "Training on 162186 samples...\n",
      "Batch size: 2867\n",
      "Number of batches: 57\n"
     ]
    },
    {
     "name": "stderr",
     "output_type": "stream",
     "text": [
      "100%|██████████| 57/57 [03:45<00:00,  3.95s/it]\n"
     ]
    },
    {
     "name": "stdout",
     "output_type": "stream",
     "text": [
      "Training Error: \n",
      " Avg loss: 0.006900 \n",
      "\n"
     ]
    },
    {
     "name": "stderr",
     "output_type": "stream",
     "text": [
      "100%|██████████| 19/19 [00:45<00:00,  2.40s/it]\n"
     ]
    },
    {
     "name": "stdout",
     "output_type": "stream",
     "text": [
      "Validation Error: \n",
      " Avg loss: 0.003258 \n",
      "\n",
      "Learning rate (antes): 1.0000000000000028e-05\n",
      "Learning rate (depois): 1.0000000000000028e-05\n",
      "\n",
      "epoch 70\n",
      "-------------------------------\n",
      "Training on 162186 samples...\n",
      "Batch size: 2867\n",
      "Number of batches: 57\n"
     ]
    },
    {
     "name": "stderr",
     "output_type": "stream",
     "text": [
      "100%|██████████| 57/57 [03:42<00:00,  3.91s/it]\n"
     ]
    },
    {
     "name": "stdout",
     "output_type": "stream",
     "text": [
      "Training Error: \n",
      " Avg loss: 0.006896 \n",
      "\n"
     ]
    },
    {
     "name": "stderr",
     "output_type": "stream",
     "text": [
      "100%|██████████| 19/19 [00:45<00:00,  2.38s/it]\n"
     ]
    },
    {
     "name": "stdout",
     "output_type": "stream",
     "text": [
      "Validation Error: \n",
      " Avg loss: 0.003257 \n",
      "\n",
      "Learning rate (antes): 1.0000000000000028e-05\n",
      "Learning rate (depois): 1.0000000000000028e-05\n",
      "\n",
      "epoch 71\n",
      "-------------------------------\n",
      "Training on 162186 samples...\n",
      "Batch size: 2867\n",
      "Number of batches: 57\n"
     ]
    },
    {
     "name": "stderr",
     "output_type": "stream",
     "text": [
      "100%|██████████| 57/57 [03:46<00:00,  3.98s/it]\n"
     ]
    },
    {
     "name": "stdout",
     "output_type": "stream",
     "text": [
      "Training Error: \n",
      " Avg loss: 0.006896 \n",
      "\n"
     ]
    },
    {
     "name": "stderr",
     "output_type": "stream",
     "text": [
      "100%|██████████| 19/19 [00:45<00:00,  2.42s/it]\n"
     ]
    },
    {
     "name": "stdout",
     "output_type": "stream",
     "text": [
      "Validation Error: \n",
      " Avg loss: 0.003257 \n",
      "\n",
      "Learning rate (antes): 1.0000000000000028e-05\n",
      "Learning rate (depois): 1.0000000000000028e-05\n",
      "\n",
      "epoch 72\n",
      "-------------------------------\n",
      "Training on 162186 samples...\n",
      "Batch size: 2867\n",
      "Number of batches: 57\n"
     ]
    },
    {
     "name": "stderr",
     "output_type": "stream",
     "text": [
      "100%|██████████| 57/57 [03:49<00:00,  4.02s/it]\n"
     ]
    },
    {
     "name": "stdout",
     "output_type": "stream",
     "text": [
      "Training Error: \n",
      " Avg loss: 0.006896 \n",
      "\n"
     ]
    },
    {
     "name": "stderr",
     "output_type": "stream",
     "text": [
      "100%|██████████| 19/19 [00:44<00:00,  2.37s/it]\n"
     ]
    },
    {
     "name": "stdout",
     "output_type": "stream",
     "text": [
      "Validation Error: \n",
      " Avg loss: 0.003257 \n",
      "\n",
      "Learning rate (antes): 1.0000000000000028e-05\n",
      "Learning rate (depois): 1.0000000000000028e-05\n",
      "\n",
      "epoch 73\n",
      "-------------------------------\n",
      "Training on 162186 samples...\n",
      "Batch size: 2867\n",
      "Number of batches: 57\n"
     ]
    },
    {
     "name": "stderr",
     "output_type": "stream",
     "text": [
      "100%|██████████| 57/57 [04:13<00:00,  4.44s/it]\n"
     ]
    },
    {
     "name": "stdout",
     "output_type": "stream",
     "text": [
      "Training Error: \n",
      " Avg loss: 0.006896 \n",
      "\n"
     ]
    },
    {
     "name": "stderr",
     "output_type": "stream",
     "text": [
      "100%|██████████| 19/19 [00:45<00:00,  2.38s/it]\n"
     ]
    },
    {
     "name": "stdout",
     "output_type": "stream",
     "text": [
      "Validation Error: \n",
      " Avg loss: 0.003257 \n",
      "\n",
      "Learning rate (antes): 1.0000000000000028e-05\n",
      "Learning rate (depois): 1.0000000000000028e-05\n",
      "\n",
      "epoch 74\n",
      "-------------------------------\n",
      "Training on 162186 samples...\n",
      "Batch size: 2867\n",
      "Number of batches: 57\n"
     ]
    },
    {
     "name": "stderr",
     "output_type": "stream",
     "text": [
      "100%|██████████| 57/57 [04:12<00:00,  4.42s/it]\n"
     ]
    },
    {
     "name": "stdout",
     "output_type": "stream",
     "text": [
      "Training Error: \n",
      " Avg loss: 0.006895 \n",
      "\n"
     ]
    },
    {
     "name": "stderr",
     "output_type": "stream",
     "text": [
      "100%|██████████| 19/19 [00:46<00:00,  2.45s/it]\n"
     ]
    },
    {
     "name": "stdout",
     "output_type": "stream",
     "text": [
      "Validation Error: \n",
      " Avg loss: 0.003257 \n",
      "\n",
      "Learning rate (antes): 1.0000000000000028e-05\n",
      "Learning rate (depois): 1.0000000000000028e-05\n",
      "\n",
      "epoch 75\n",
      "-------------------------------\n",
      "Training on 162186 samples...\n",
      "Batch size: 2867\n",
      "Number of batches: 57\n"
     ]
    },
    {
     "name": "stderr",
     "output_type": "stream",
     "text": [
      "100%|██████████| 57/57 [03:50<00:00,  4.04s/it]\n"
     ]
    },
    {
     "name": "stdout",
     "output_type": "stream",
     "text": [
      "Training Error: \n",
      " Avg loss: 0.006896 \n",
      "\n"
     ]
    },
    {
     "name": "stderr",
     "output_type": "stream",
     "text": [
      "100%|██████████| 19/19 [00:46<00:00,  2.46s/it]\n"
     ]
    },
    {
     "name": "stdout",
     "output_type": "stream",
     "text": [
      "Validation Error: \n",
      " Avg loss: 0.003257 \n",
      "\n",
      "Learning rate (antes): 1.0000000000000028e-05\n",
      "Learning rate (depois): 1.0000000000000028e-05\n",
      "\n",
      "epoch 76\n",
      "-------------------------------\n",
      "Training on 162186 samples...\n",
      "Batch size: 2867\n",
      "Number of batches: 57\n"
     ]
    },
    {
     "name": "stderr",
     "output_type": "stream",
     "text": [
      "100%|██████████| 57/57 [03:46<00:00,  3.97s/it]\n"
     ]
    },
    {
     "name": "stdout",
     "output_type": "stream",
     "text": [
      "Training Error: \n",
      " Avg loss: 0.006893 \n",
      "\n"
     ]
    },
    {
     "name": "stderr",
     "output_type": "stream",
     "text": [
      "100%|██████████| 19/19 [00:44<00:00,  2.37s/it]\n"
     ]
    },
    {
     "name": "stdout",
     "output_type": "stream",
     "text": [
      "Validation Error: \n",
      " Avg loss: 0.003257 \n",
      "\n",
      "Learning rate (antes): 1.0000000000000028e-05\n",
      "Learning rate (depois): 1.0000000000000028e-05\n",
      "\n",
      "epoch 77\n",
      "-------------------------------\n",
      "Training on 162186 samples...\n",
      "Batch size: 2867\n",
      "Number of batches: 57\n"
     ]
    },
    {
     "name": "stderr",
     "output_type": "stream",
     "text": [
      "100%|██████████| 57/57 [03:47<00:00,  3.99s/it]\n"
     ]
    },
    {
     "name": "stdout",
     "output_type": "stream",
     "text": [
      "Training Error: \n",
      " Avg loss: 0.006895 \n",
      "\n"
     ]
    },
    {
     "name": "stderr",
     "output_type": "stream",
     "text": [
      "100%|██████████| 19/19 [00:41<00:00,  2.18s/it]\n"
     ]
    },
    {
     "name": "stdout",
     "output_type": "stream",
     "text": [
      "Validation Error: \n",
      " Avg loss: 0.003257 \n",
      "\n",
      "Learning rate (antes): 1.0000000000000028e-05\n",
      "Learning rate (depois): 1.0000000000000028e-05\n",
      "\n",
      "epoch 78\n",
      "-------------------------------\n",
      "Training on 162186 samples...\n",
      "Batch size: 2867\n",
      "Number of batches: 57\n"
     ]
    },
    {
     "name": "stderr",
     "output_type": "stream",
     "text": [
      "100%|██████████| 57/57 [03:45<00:00,  3.96s/it]\n"
     ]
    },
    {
     "name": "stdout",
     "output_type": "stream",
     "text": [
      "Training Error: \n",
      " Avg loss: 0.006894 \n",
      "\n"
     ]
    },
    {
     "name": "stderr",
     "output_type": "stream",
     "text": [
      "100%|██████████| 19/19 [00:43<00:00,  2.30s/it]\n"
     ]
    },
    {
     "name": "stdout",
     "output_type": "stream",
     "text": [
      "Validation Error: \n",
      " Avg loss: 0.003257 \n",
      "\n",
      "Learning rate (antes): 1.0000000000000028e-05\n",
      "Learning rate (depois): 1.0000000000000028e-05\n",
      "\n",
      "epoch 79\n",
      "-------------------------------\n",
      "Training on 162186 samples...\n",
      "Batch size: 2867\n",
      "Number of batches: 57\n"
     ]
    },
    {
     "name": "stderr",
     "output_type": "stream",
     "text": [
      "100%|██████████| 57/57 [03:48<00:00,  4.00s/it]\n"
     ]
    },
    {
     "name": "stdout",
     "output_type": "stream",
     "text": [
      "Training Error: \n",
      " Avg loss: 0.006895 \n",
      "\n"
     ]
    },
    {
     "name": "stderr",
     "output_type": "stream",
     "text": [
      "100%|██████████| 19/19 [00:43<00:00,  2.28s/it]\n"
     ]
    },
    {
     "name": "stdout",
     "output_type": "stream",
     "text": [
      "Validation Error: \n",
      " Avg loss: 0.003256 \n",
      "\n",
      "Learning rate (antes): 1.0000000000000028e-05\n",
      "Learning rate (depois): 1.0000000000000028e-05\n",
      "\n",
      "epoch 80\n",
      "-------------------------------\n",
      "Training on 162186 samples...\n",
      "Batch size: 2867\n",
      "Number of batches: 57\n"
     ]
    },
    {
     "name": "stderr",
     "output_type": "stream",
     "text": [
      "100%|██████████| 57/57 [04:05<00:00,  4.31s/it]\n"
     ]
    },
    {
     "name": "stdout",
     "output_type": "stream",
     "text": [
      "Training Error: \n",
      " Avg loss: 0.006895 \n",
      "\n"
     ]
    },
    {
     "name": "stderr",
     "output_type": "stream",
     "text": [
      "100%|██████████| 19/19 [00:45<00:00,  2.37s/it]\n"
     ]
    },
    {
     "name": "stdout",
     "output_type": "stream",
     "text": [
      "Validation Error: \n",
      " Avg loss: 0.003257 \n",
      "\n",
      "Learning rate (antes): 1.0000000000000028e-05\n",
      "Learning rate (depois): 1.0000000000000028e-05\n",
      "\n",
      "epoch 81\n",
      "-------------------------------\n",
      "Training on 162186 samples...\n",
      "Batch size: 2867\n",
      "Number of batches: 57\n"
     ]
    },
    {
     "name": "stderr",
     "output_type": "stream",
     "text": [
      "100%|██████████| 57/57 [03:47<00:00,  4.00s/it]\n"
     ]
    },
    {
     "name": "stdout",
     "output_type": "stream",
     "text": [
      "Training Error: \n",
      " Avg loss: 0.006897 \n",
      "\n"
     ]
    },
    {
     "name": "stderr",
     "output_type": "stream",
     "text": [
      "100%|██████████| 19/19 [00:43<00:00,  2.30s/it]\n"
     ]
    },
    {
     "name": "stdout",
     "output_type": "stream",
     "text": [
      "Validation Error: \n",
      " Avg loss: 0.003256 \n",
      "\n",
      "Learning rate (antes): 1.0000000000000028e-05\n",
      "Learning rate (depois): 1.0000000000000028e-05\n",
      "\n",
      "epoch 82\n",
      "-------------------------------\n",
      "Training on 162186 samples...\n",
      "Batch size: 2867\n",
      "Number of batches: 57\n"
     ]
    },
    {
     "name": "stderr",
     "output_type": "stream",
     "text": [
      "100%|██████████| 57/57 [03:47<00:00,  3.99s/it]\n"
     ]
    },
    {
     "name": "stdout",
     "output_type": "stream",
     "text": [
      "Training Error: \n",
      " Avg loss: 0.006895 \n",
      "\n"
     ]
    },
    {
     "name": "stderr",
     "output_type": "stream",
     "text": [
      "100%|██████████| 19/19 [00:43<00:00,  2.28s/it]\n"
     ]
    },
    {
     "name": "stdout",
     "output_type": "stream",
     "text": [
      "Validation Error: \n",
      " Avg loss: 0.003256 \n",
      "\n",
      "Learning rate (antes): 1.0000000000000028e-05\n",
      "Learning rate (depois): 1.0000000000000028e-05\n",
      "\n",
      "epoch 83\n",
      "-------------------------------\n",
      "Training on 162186 samples...\n",
      "Batch size: 2867\n",
      "Number of batches: 57\n"
     ]
    },
    {
     "name": "stderr",
     "output_type": "stream",
     "text": [
      "100%|██████████| 57/57 [03:53<00:00,  4.09s/it]\n"
     ]
    },
    {
     "name": "stdout",
     "output_type": "stream",
     "text": [
      "Training Error: \n",
      " Avg loss: 0.006895 \n",
      "\n"
     ]
    },
    {
     "name": "stderr",
     "output_type": "stream",
     "text": [
      "100%|██████████| 19/19 [00:44<00:00,  2.35s/it]\n"
     ]
    },
    {
     "name": "stdout",
     "output_type": "stream",
     "text": [
      "Validation Error: \n",
      " Avg loss: 0.003256 \n",
      "\n",
      "Learning rate (antes): 1.0000000000000028e-05\n",
      "Learning rate (depois): 1.0000000000000028e-05\n",
      "\n",
      "epoch 84\n",
      "-------------------------------\n",
      "Training on 162186 samples...\n",
      "Batch size: 2867\n",
      "Number of batches: 57\n"
     ]
    },
    {
     "name": "stderr",
     "output_type": "stream",
     "text": [
      "100%|██████████| 57/57 [03:48<00:00,  4.01s/it]\n"
     ]
    },
    {
     "name": "stdout",
     "output_type": "stream",
     "text": [
      "Training Error: \n",
      " Avg loss: 0.006893 \n",
      "\n"
     ]
    },
    {
     "name": "stderr",
     "output_type": "stream",
     "text": [
      "100%|██████████| 19/19 [00:43<00:00,  2.27s/it]\n"
     ]
    },
    {
     "name": "stdout",
     "output_type": "stream",
     "text": [
      "Validation Error: \n",
      " Avg loss: 0.003256 \n",
      "\n",
      "Learning rate (antes): 1.0000000000000028e-05\n",
      "Learning rate (depois): 1.0000000000000028e-05\n",
      "\n",
      "epoch 85\n",
      "-------------------------------\n",
      "Training on 162186 samples...\n",
      "Batch size: 2867\n",
      "Number of batches: 57\n"
     ]
    },
    {
     "name": "stderr",
     "output_type": "stream",
     "text": [
      "100%|██████████| 57/57 [04:18<00:00,  4.54s/it]\n"
     ]
    },
    {
     "name": "stdout",
     "output_type": "stream",
     "text": [
      "Training Error: \n",
      " Avg loss: 0.006894 \n",
      "\n"
     ]
    },
    {
     "name": "stderr",
     "output_type": "stream",
     "text": [
      "100%|██████████| 19/19 [00:43<00:00,  2.31s/it]\n"
     ]
    },
    {
     "name": "stdout",
     "output_type": "stream",
     "text": [
      "Validation Error: \n",
      " Avg loss: 0.003256 \n",
      "\n",
      "Learning rate (antes): 1.0000000000000028e-05\n",
      "Learning rate (depois): 1.0000000000000028e-05\n",
      "\n",
      "epoch 86\n",
      "-------------------------------\n",
      "Training on 162186 samples...\n",
      "Batch size: 2867\n",
      "Number of batches: 57\n"
     ]
    },
    {
     "name": "stderr",
     "output_type": "stream",
     "text": [
      "100%|██████████| 57/57 [03:55<00:00,  4.13s/it]\n"
     ]
    },
    {
     "name": "stdout",
     "output_type": "stream",
     "text": [
      "Training Error: \n",
      " Avg loss: 0.006894 \n",
      "\n"
     ]
    },
    {
     "name": "stderr",
     "output_type": "stream",
     "text": [
      "100%|██████████| 19/19 [00:44<00:00,  2.33s/it]\n"
     ]
    },
    {
     "name": "stdout",
     "output_type": "stream",
     "text": [
      "Validation Error: \n",
      " Avg loss: 0.003256 \n",
      "\n",
      "Learning rate (antes): 1.0000000000000028e-05\n",
      "Learning rate (depois): 1.0000000000000028e-05\n",
      "\n",
      "epoch 87\n",
      "-------------------------------\n",
      "Training on 162186 samples...\n",
      "Batch size: 2867\n",
      "Number of batches: 57\n"
     ]
    },
    {
     "name": "stderr",
     "output_type": "stream",
     "text": [
      "100%|██████████| 57/57 [03:47<00:00,  4.00s/it]\n"
     ]
    },
    {
     "name": "stdout",
     "output_type": "stream",
     "text": [
      "Training Error: \n",
      " Avg loss: 0.006893 \n",
      "\n"
     ]
    },
    {
     "name": "stderr",
     "output_type": "stream",
     "text": [
      "100%|██████████| 19/19 [00:43<00:00,  2.31s/it]\n"
     ]
    },
    {
     "name": "stdout",
     "output_type": "stream",
     "text": [
      "Validation Error: \n",
      " Avg loss: 0.003256 \n",
      "\n",
      "Learning rate (antes): 1.0000000000000028e-05\n",
      "Learning rate (depois): 1.0000000000000028e-05\n",
      "\n",
      "epoch 88\n",
      "-------------------------------\n",
      "Training on 162186 samples...\n",
      "Batch size: 2867\n",
      "Number of batches: 57\n"
     ]
    },
    {
     "name": "stderr",
     "output_type": "stream",
     "text": [
      "100%|██████████| 57/57 [03:46<00:00,  3.98s/it]\n"
     ]
    },
    {
     "name": "stdout",
     "output_type": "stream",
     "text": [
      "Training Error: \n",
      " Avg loss: 0.006893 \n",
      "\n"
     ]
    },
    {
     "name": "stderr",
     "output_type": "stream",
     "text": [
      "100%|██████████| 19/19 [00:43<00:00,  2.29s/it]\n"
     ]
    },
    {
     "name": "stdout",
     "output_type": "stream",
     "text": [
      "Validation Error: \n",
      " Avg loss: 0.003255 \n",
      "\n",
      "Learning rate (antes): 1.0000000000000028e-05\n",
      "Learning rate (depois): 1.0000000000000028e-05\n",
      "\n",
      "epoch 89\n",
      "-------------------------------\n",
      "Training on 162186 samples...\n",
      "Batch size: 2867\n",
      "Number of batches: 57\n"
     ]
    },
    {
     "name": "stderr",
     "output_type": "stream",
     "text": [
      "100%|██████████| 57/57 [03:47<00:00,  3.98s/it]\n"
     ]
    },
    {
     "name": "stdout",
     "output_type": "stream",
     "text": [
      "Training Error: \n",
      " Avg loss: 0.006892 \n",
      "\n"
     ]
    },
    {
     "name": "stderr",
     "output_type": "stream",
     "text": [
      "100%|██████████| 19/19 [00:43<00:00,  2.29s/it]\n"
     ]
    },
    {
     "name": "stdout",
     "output_type": "stream",
     "text": [
      "Validation Error: \n",
      " Avg loss: 0.003255 \n",
      "\n",
      "Learning rate (antes): 1.0000000000000028e-05\n",
      "Learning rate (depois): 1.0000000000000028e-05\n",
      "\n",
      "epoch 90\n",
      "-------------------------------\n",
      "Training on 162186 samples...\n",
      "Batch size: 2867\n",
      "Number of batches: 57\n"
     ]
    },
    {
     "name": "stderr",
     "output_type": "stream",
     "text": [
      "100%|██████████| 57/57 [03:45<00:00,  3.96s/it]\n"
     ]
    },
    {
     "name": "stdout",
     "output_type": "stream",
     "text": [
      "Training Error: \n",
      " Avg loss: 0.006893 \n",
      "\n"
     ]
    },
    {
     "name": "stderr",
     "output_type": "stream",
     "text": [
      "100%|██████████| 19/19 [00:44<00:00,  2.33s/it]\n"
     ]
    },
    {
     "name": "stdout",
     "output_type": "stream",
     "text": [
      "Validation Error: \n",
      " Avg loss: 0.003255 \n",
      "\n",
      "Learning rate (antes): 1.0000000000000028e-05\n",
      "Learning rate (depois): 1.0000000000000028e-05\n",
      "\n",
      "epoch 91\n",
      "-------------------------------\n",
      "Training on 162186 samples...\n",
      "Batch size: 2867\n",
      "Number of batches: 57\n"
     ]
    },
    {
     "name": "stderr",
     "output_type": "stream",
     "text": [
      "100%|██████████| 57/57 [03:48<00:00,  4.01s/it]\n"
     ]
    },
    {
     "name": "stdout",
     "output_type": "stream",
     "text": [
      "Training Error: \n",
      " Avg loss: 0.006896 \n",
      "\n"
     ]
    },
    {
     "name": "stderr",
     "output_type": "stream",
     "text": [
      "100%|██████████| 19/19 [00:42<00:00,  2.24s/it]\n"
     ]
    },
    {
     "name": "stdout",
     "output_type": "stream",
     "text": [
      "Validation Error: \n",
      " Avg loss: 0.003255 \n",
      "\n",
      "Learning rate (antes): 1.0000000000000028e-05\n",
      "Learning rate (depois): 1.0000000000000028e-05\n",
      "\n",
      "epoch 92\n",
      "-------------------------------\n",
      "Training on 162186 samples...\n",
      "Batch size: 2867\n",
      "Number of batches: 57\n"
     ]
    },
    {
     "name": "stderr",
     "output_type": "stream",
     "text": [
      "100%|██████████| 57/57 [03:48<00:00,  4.00s/it]\n"
     ]
    },
    {
     "name": "stdout",
     "output_type": "stream",
     "text": [
      "Training Error: \n",
      " Avg loss: 0.006894 \n",
      "\n"
     ]
    },
    {
     "name": "stderr",
     "output_type": "stream",
     "text": [
      "100%|██████████| 19/19 [00:42<00:00,  2.24s/it]\n"
     ]
    },
    {
     "name": "stdout",
     "output_type": "stream",
     "text": [
      "Validation Error: \n",
      " Avg loss: 0.003255 \n",
      "\n",
      "Learning rate (antes): 1.0000000000000028e-05\n",
      "Learning rate (depois): 1.0000000000000028e-05\n",
      "\n",
      "epoch 93\n",
      "-------------------------------\n",
      "Training on 162186 samples...\n",
      "Batch size: 2867\n",
      "Number of batches: 57\n"
     ]
    },
    {
     "name": "stderr",
     "output_type": "stream",
     "text": [
      "100%|██████████| 57/57 [03:47<00:00,  4.00s/it]\n"
     ]
    },
    {
     "name": "stdout",
     "output_type": "stream",
     "text": [
      "Training Error: \n",
      " Avg loss: 0.006893 \n",
      "\n"
     ]
    },
    {
     "name": "stderr",
     "output_type": "stream",
     "text": [
      "100%|██████████| 19/19 [00:44<00:00,  2.33s/it]\n"
     ]
    },
    {
     "name": "stdout",
     "output_type": "stream",
     "text": [
      "Validation Error: \n",
      " Avg loss: 0.003255 \n",
      "\n",
      "Learning rate (antes): 1.0000000000000028e-05\n",
      "Learning rate (depois): 1.0000000000000028e-05\n",
      "\n",
      "epoch 94\n",
      "-------------------------------\n",
      "Training on 162186 samples...\n",
      "Batch size: 2867\n",
      "Number of batches: 57\n"
     ]
    },
    {
     "name": "stderr",
     "output_type": "stream",
     "text": [
      "100%|██████████| 57/57 [03:48<00:00,  4.00s/it]\n"
     ]
    },
    {
     "name": "stdout",
     "output_type": "stream",
     "text": [
      "Training Error: \n",
      " Avg loss: 0.006893 \n",
      "\n"
     ]
    },
    {
     "name": "stderr",
     "output_type": "stream",
     "text": [
      "100%|██████████| 19/19 [00:43<00:00,  2.28s/it]\n"
     ]
    },
    {
     "name": "stdout",
     "output_type": "stream",
     "text": [
      "Validation Error: \n",
      " Avg loss: 0.003255 \n",
      "\n",
      "Learning rate (antes): 1.0000000000000028e-05\n",
      "Learning rate (depois): 1.0000000000000028e-05\n",
      "\n",
      "epoch 95\n",
      "-------------------------------\n",
      "Training on 162186 samples...\n",
      "Batch size: 2867\n",
      "Number of batches: 57\n"
     ]
    },
    {
     "name": "stderr",
     "output_type": "stream",
     "text": [
      "100%|██████████| 57/57 [03:47<00:00,  3.99s/it]\n"
     ]
    },
    {
     "name": "stdout",
     "output_type": "stream",
     "text": [
      "Training Error: \n",
      " Avg loss: 0.006893 \n",
      "\n"
     ]
    },
    {
     "name": "stderr",
     "output_type": "stream",
     "text": [
      "100%|██████████| 19/19 [00:42<00:00,  2.24s/it]\n"
     ]
    },
    {
     "name": "stdout",
     "output_type": "stream",
     "text": [
      "Validation Error: \n",
      " Avg loss: 0.003254 \n",
      "\n",
      "Learning rate (antes): 1.0000000000000028e-05\n",
      "Learning rate (depois): 1.0000000000000028e-05\n",
      "\n",
      "epoch 96\n",
      "-------------------------------\n",
      "Training on 162186 samples...\n",
      "Batch size: 2867\n",
      "Number of batches: 57\n"
     ]
    },
    {
     "name": "stderr",
     "output_type": "stream",
     "text": [
      "100%|██████████| 57/57 [04:07<00:00,  4.34s/it]\n"
     ]
    },
    {
     "name": "stdout",
     "output_type": "stream",
     "text": [
      "Training Error: \n",
      " Avg loss: 0.006893 \n",
      "\n"
     ]
    },
    {
     "name": "stderr",
     "output_type": "stream",
     "text": [
      "100%|██████████| 19/19 [00:43<00:00,  2.28s/it]\n"
     ]
    },
    {
     "name": "stdout",
     "output_type": "stream",
     "text": [
      "Validation Error: \n",
      " Avg loss: 0.003255 \n",
      "\n",
      "Learning rate (antes): 1.0000000000000028e-05\n",
      "Learning rate (depois): 1.0000000000000028e-05\n",
      "\n",
      "epoch 97\n",
      "-------------------------------\n",
      "Training on 162186 samples...\n",
      "Batch size: 2867\n",
      "Number of batches: 57\n"
     ]
    },
    {
     "name": "stderr",
     "output_type": "stream",
     "text": [
      "100%|██████████| 57/57 [03:46<00:00,  3.98s/it]\n"
     ]
    },
    {
     "name": "stdout",
     "output_type": "stream",
     "text": [
      "Training Error: \n",
      " Avg loss: 0.006892 \n",
      "\n"
     ]
    },
    {
     "name": "stderr",
     "output_type": "stream",
     "text": [
      "100%|██████████| 19/19 [00:41<00:00,  2.20s/it]\n"
     ]
    },
    {
     "name": "stdout",
     "output_type": "stream",
     "text": [
      "Validation Error: \n",
      " Avg loss: 0.003255 \n",
      "\n",
      "Learning rate (antes): 1.0000000000000028e-05\n",
      "Learning rate (depois): 1.0000000000000028e-05\n",
      "\n",
      "epoch 98\n",
      "-------------------------------\n",
      "Training on 162186 samples...\n",
      "Batch size: 2867\n",
      "Number of batches: 57\n"
     ]
    },
    {
     "name": "stderr",
     "output_type": "stream",
     "text": [
      "100%|██████████| 57/57 [03:47<00:00,  3.99s/it]\n"
     ]
    },
    {
     "name": "stdout",
     "output_type": "stream",
     "text": [
      "Training Error: \n",
      " Avg loss: 0.006891 \n",
      "\n"
     ]
    },
    {
     "name": "stderr",
     "output_type": "stream",
     "text": [
      "100%|██████████| 19/19 [00:42<00:00,  2.26s/it]\n"
     ]
    },
    {
     "name": "stdout",
     "output_type": "stream",
     "text": [
      "Validation Error: \n",
      " Avg loss: 0.003254 \n",
      "\n",
      "Learning rate (antes): 1.0000000000000028e-05\n",
      "Learning rate (depois): 1.0000000000000028e-05\n",
      "\n",
      "epoch 99\n",
      "-------------------------------\n",
      "Training on 162186 samples...\n",
      "Batch size: 2867\n",
      "Number of batches: 57\n"
     ]
    },
    {
     "name": "stderr",
     "output_type": "stream",
     "text": [
      "100%|██████████| 57/57 [03:46<00:00,  3.97s/it]\n"
     ]
    },
    {
     "name": "stdout",
     "output_type": "stream",
     "text": [
      "Training Error: \n",
      " Avg loss: 0.006895 \n",
      "\n"
     ]
    },
    {
     "name": "stderr",
     "output_type": "stream",
     "text": [
      "100%|██████████| 19/19 [00:43<00:00,  2.30s/it]"
     ]
    },
    {
     "name": "stdout",
     "output_type": "stream",
     "text": [
      "Validation Error: \n",
      " Avg loss: 0.003254 \n",
      "\n",
      "Learning rate (antes): 1.0000000000000028e-05\n",
      "Learning rate (depois): 1.0000000000000028e-05\n",
      "CPU times: total: 6h 54min 50s\n",
      "Wall time: 9h 17min 27s\n"
     ]
    },
    {
     "name": "stderr",
     "output_type": "stream",
     "text": [
      "\n"
     ]
    }
   ],
   "source": [
    "%%time\n",
    "\n",
    "run_srcnn.clear_all()\n",
    "\n",
    "run_srcnn.train(\n",
    "    model=model_f2_5,\n",
    "    train_dataloader=train_dataloader,\n",
    "    validation_dataloader=validation_dataloader,\n",
    "    optimizer=optimizer_f2_5,\n",
    "    epochs=100,\n",
    "    scheduler=scheduler_f2_5,\n",
    "    loss_fn=nn.MSELoss(),\n",
    ")"
   ]
  },
  {
   "cell_type": "code",
   "execution_count": 11,
   "metadata": {},
   "outputs": [
    {
     "data": {
      "text/html": [
       "<div>\n",
       "<style scoped>\n",
       "    .dataframe tbody tr th:only-of-type {\n",
       "        vertical-align: middle;\n",
       "    }\n",
       "\n",
       "    .dataframe tbody tr th {\n",
       "        vertical-align: top;\n",
       "    }\n",
       "\n",
       "    .dataframe thead th {\n",
       "        text-align: right;\n",
       "    }\n",
       "</style>\n",
       "<table border=\"1\" class=\"dataframe\">\n",
       "  <thead>\n",
       "    <tr style=\"text-align: right;\">\n",
       "      <th></th>\n",
       "      <th>epoch</th>\n",
       "      <th>time</th>\n",
       "      <th>lr</th>\n",
       "      <th>train_loss</th>\n",
       "      <th>validation_loss</th>\n",
       "    </tr>\n",
       "  </thead>\n",
       "  <tbody>\n",
       "    <tr>\n",
       "      <th>95</th>\n",
       "      <td>95</td>\n",
       "      <td>323.963578</td>\n",
       "      <td>0.00001</td>\n",
       "      <td>0.006893</td>\n",
       "      <td>0.003254</td>\n",
       "    </tr>\n",
       "    <tr>\n",
       "      <th>96</th>\n",
       "      <td>96</td>\n",
       "      <td>351.199800</td>\n",
       "      <td>0.00001</td>\n",
       "      <td>0.006893</td>\n",
       "      <td>0.003255</td>\n",
       "    </tr>\n",
       "    <tr>\n",
       "      <th>97</th>\n",
       "      <td>97</td>\n",
       "      <td>319.389475</td>\n",
       "      <td>0.00001</td>\n",
       "      <td>0.006892</td>\n",
       "      <td>0.003255</td>\n",
       "    </tr>\n",
       "    <tr>\n",
       "      <th>98</th>\n",
       "      <td>98</td>\n",
       "      <td>325.845934</td>\n",
       "      <td>0.00001</td>\n",
       "      <td>0.006891</td>\n",
       "      <td>0.003254</td>\n",
       "    </tr>\n",
       "    <tr>\n",
       "      <th>99</th>\n",
       "      <td>99</td>\n",
       "      <td>325.318786</td>\n",
       "      <td>0.00001</td>\n",
       "      <td>0.006895</td>\n",
       "      <td>0.003254</td>\n",
       "    </tr>\n",
       "  </tbody>\n",
       "</table>\n",
       "</div>"
      ],
      "text/plain": [
       "    epoch        time       lr  train_loss  validation_loss\n",
       "95     95  323.963578  0.00001    0.006893         0.003254\n",
       "96     96  351.199800  0.00001    0.006893         0.003255\n",
       "97     97  319.389475  0.00001    0.006892         0.003255\n",
       "98     98  325.845934  0.00001    0.006891         0.003254\n",
       "99     99  325.318786  0.00001    0.006895         0.003254"
      ]
     },
     "execution_count": 11,
     "metadata": {},
     "output_type": "execute_result"
    }
   ],
   "source": [
    "df_f2_5 = run_srcnn.get_model_df()\n",
    "df_f2_5.tail()"
   ]
  },
  {
   "cell_type": "code",
   "execution_count": 12,
   "metadata": {},
   "outputs": [],
   "source": [
    "run_srcnn.save_model_df('./results/srcnn/dataframes/model_f2_5.csv')\n",
    "run_srcnn.save_model_weights(model_f2_1, './results/srcnn/dataframes/model_f2_5.pth')"
   ]
  },
  {
   "cell_type": "code",
   "execution_count": 13,
   "metadata": {},
   "outputs": [
    {
     "name": "stderr",
     "output_type": "stream",
     "text": [
      "0it [00:00, ?it/s]C:\\Users\\Pedro\\anaconda3\\lib\\site-packages\\torchvision\\transforms\\functional.py:1603: UserWarning: The default value of the antialias parameter of all the resizing transforms (Resize(), RandomResizedCrop(), etc.) will change from None to True in v0.17, in order to be consistent across the PIL and Tensor backends. To suppress this warning, directly pass antialias=True (recommended, future default), antialias=None (current default, which means False for Tensors and True for PIL), or antialias=False (only works on Tensors - PIL will still use antialiasing). This also applies if you are using the inference transforms from the models weights: update the call to weights.transforms(antialias=True).\n",
      "  warnings.warn(\n",
      "14it [00:02,  6.76it/s]\n",
      "14it [00:01,  9.28it/s]\n"
     ]
    },
    {
     "data": {
      "text/html": [
       "<div>\n",
       "<style scoped>\n",
       "    .dataframe tbody tr th:only-of-type {\n",
       "        vertical-align: middle;\n",
       "    }\n",
       "\n",
       "    .dataframe tbody tr th {\n",
       "        vertical-align: top;\n",
       "    }\n",
       "\n",
       "    .dataframe thead th {\n",
       "        text-align: right;\n",
       "    }\n",
       "</style>\n",
       "<table border=\"1\" class=\"dataframe\">\n",
       "  <thead>\n",
       "    <tr style=\"text-align: right;\">\n",
       "      <th></th>\n",
       "      <th>model_f2_1</th>\n",
       "      <th>model_f2_5</th>\n",
       "    </tr>\n",
       "  </thead>\n",
       "  <tbody>\n",
       "    <tr>\n",
       "      <th>PSNR</th>\n",
       "      <td>24.557705</td>\n",
       "      <td>24.907141</td>\n",
       "    </tr>\n",
       "    <tr>\n",
       "      <th>Bicubic PSNR</th>\n",
       "      <td>24.496832</td>\n",
       "      <td>24.496832</td>\n",
       "    </tr>\n",
       "    <tr>\n",
       "      <th>SSIM</th>\n",
       "      <td>0.714441</td>\n",
       "      <td>0.729018</td>\n",
       "    </tr>\n",
       "    <tr>\n",
       "      <th>Bicubic SSIM</th>\n",
       "      <td>0.731670</td>\n",
       "      <td>0.731670</td>\n",
       "    </tr>\n",
       "  </tbody>\n",
       "</table>\n",
       "</div>"
      ],
      "text/plain": [
       "              model_f2_1  model_f2_5\n",
       "PSNR           24.557705   24.907141\n",
       "Bicubic PSNR   24.496832   24.496832\n",
       "SSIM            0.714441    0.729018\n",
       "Bicubic SSIM    0.731670    0.731670"
      ]
     },
     "execution_count": 13,
     "metadata": {},
     "output_type": "execute_result"
    }
   ],
   "source": [
    "path = f\"{DATASET_ROOT}/Set14\"\n",
    "run_srcnn.compare_models([{\"name\": \"model_f2_1\", \"model\": model_f2_1}, {\"name\": \"model_f2_5\", \"model\": model_f2_5}], path)"
   ]
  },
  {
   "cell_type": "code",
   "execution_count": null,
   "metadata": {},
   "outputs": [],
   "source": []
  },
  {
   "cell_type": "code",
   "execution_count": null,
   "metadata": {},
   "outputs": [],
   "source": []
  },
  {
   "cell_type": "code",
   "execution_count": null,
   "metadata": {},
   "outputs": [],
   "source": []
  }
 ],
 "metadata": {
  "kernelspec": {
   "display_name": "Python 3 (ipykernel)",
   "language": "python",
   "name": "python3"
  },
  "language_info": {
   "codemirror_mode": {
    "name": "ipython",
    "version": 3
   },
   "file_extension": ".py",
   "mimetype": "text/x-python",
   "name": "python",
   "nbconvert_exporter": "python",
   "pygments_lexer": "ipython3",
   "version": "3.10.9"
  }
 },
 "nbformat": 4,
 "nbformat_minor": 2
}
