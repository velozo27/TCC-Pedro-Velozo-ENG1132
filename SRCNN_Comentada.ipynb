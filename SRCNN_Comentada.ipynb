{
  "cells": [
    {
      "cell_type": "markdown",
      "metadata": {
        "id": "view-in-github",
        "colab_type": "text"
      },
      "source": [
        "<a href=\"https://colab.research.google.com/github/velozo27/TCC-Pedro-Velozo-ENG1132/blob/change-how-image-files-are-retrieved/SRCNN_Comentada.ipynb\" target=\"_parent\"><img src=\"https://colab.research.google.com/assets/colab-badge.svg\" alt=\"Open In Colab\"/></a>"
      ]
    },
    {
      "cell_type": "markdown",
      "metadata": {
        "id": "i_dbSDiz0syn"
      },
      "source": [
        "## Instalação de dependências"
      ]
    },
    {
      "cell_type": "markdown",
      "metadata": {
        "id": "pe7yHPgN7j3Q"
      },
      "source": [
        "## Imports"
      ]
    },
    {
      "cell_type": "code",
      "execution_count": 31,
      "metadata": {
        "id": "xMvw_GK2n18H",
        "colab": {
          "base_uri": "https://localhost:8080/",
          "height": 705,
          "referenced_widgets": [
            "f7560d145caa483bb49f941992611675",
            "2edc9362ce8243f985930a39f9838a34",
            "869cd9d91ec84f90b25c15a3b5b5c439",
            "bb0b8bdb91e741b2bedb935e573517f2",
            "fc9843b8d0fc42f38e0f233a1ab4b5c4",
            "fcb4cd9851d943d9af1b036395a8ff87",
            "61ca3309e7c64fb78e8b99beabff6bf4",
            "73210e1fa92e42969ed99840fbbd98ed"
          ]
        },
        "outputId": "8e90bc2f-2b52-401b-bf09-e2932a662286"
      },
      "outputs": [
        {
          "output_type": "stream",
          "name": "stdout",
          "text": [
            "Drive already mounted at /content/gdrive; to attempt to forcibly remount, call drive.mount(\"/content/gdrive\", force_remount=True).\n",
            "Looking in indexes: https://pypi.org/simple, https://us-python.pkg.dev/colab-wheels/public/simple/\n",
            "Requirement already satisfied: patchify in /usr/local/lib/python3.10/dist-packages (0.2.3)\n",
            "Requirement already satisfied: numpy<2,>=1 in /usr/local/lib/python3.10/dist-packages (from patchify) (1.22.4)\n",
            "Looking in indexes: https://pypi.org/simple, https://us-python.pkg.dev/colab-wheels/public/simple/\n",
            "Requirement already satisfied: wandb in /usr/local/lib/python3.10/dist-packages (0.15.3)\n",
            "Requirement already satisfied: Click!=8.0.0,>=7.0 in /usr/local/lib/python3.10/dist-packages (from wandb) (8.1.3)\n",
            "Requirement already satisfied: GitPython!=3.1.29,>=1.0.0 in /usr/local/lib/python3.10/dist-packages (from wandb) (3.1.31)\n",
            "Requirement already satisfied: requests<3,>=2.0.0 in /usr/local/lib/python3.10/dist-packages (from wandb) (2.27.1)\n",
            "Requirement already satisfied: psutil>=5.0.0 in /usr/local/lib/python3.10/dist-packages (from wandb) (5.9.5)\n",
            "Requirement already satisfied: sentry-sdk>=1.0.0 in /usr/local/lib/python3.10/dist-packages (from wandb) (1.24.0)\n",
            "Requirement already satisfied: docker-pycreds>=0.4.0 in /usr/local/lib/python3.10/dist-packages (from wandb) (0.4.0)\n",
            "Requirement already satisfied: PyYAML in /usr/local/lib/python3.10/dist-packages (from wandb) (6.0)\n",
            "Requirement already satisfied: pathtools in /usr/local/lib/python3.10/dist-packages (from wandb) (0.1.2)\n",
            "Requirement already satisfied: setproctitle in /usr/local/lib/python3.10/dist-packages (from wandb) (1.3.2)\n",
            "Requirement already satisfied: setuptools in /usr/local/lib/python3.10/dist-packages (from wandb) (67.7.2)\n",
            "Requirement already satisfied: appdirs>=1.4.3 in /usr/local/lib/python3.10/dist-packages (from wandb) (1.4.4)\n",
            "Requirement already satisfied: protobuf!=4.21.0,<5,>=3.19.0 in /usr/local/lib/python3.10/dist-packages (from wandb) (3.20.3)\n",
            "Requirement already satisfied: six>=1.4.0 in /usr/local/lib/python3.10/dist-packages (from docker-pycreds>=0.4.0->wandb) (1.16.0)\n",
            "Requirement already satisfied: gitdb<5,>=4.0.1 in /usr/local/lib/python3.10/dist-packages (from GitPython!=3.1.29,>=1.0.0->wandb) (4.0.10)\n",
            "Requirement already satisfied: urllib3<1.27,>=1.21.1 in /usr/local/lib/python3.10/dist-packages (from requests<3,>=2.0.0->wandb) (1.26.15)\n",
            "Requirement already satisfied: certifi>=2017.4.17 in /usr/local/lib/python3.10/dist-packages (from requests<3,>=2.0.0->wandb) (2022.12.7)\n",
            "Requirement already satisfied: charset-normalizer~=2.0.0 in /usr/local/lib/python3.10/dist-packages (from requests<3,>=2.0.0->wandb) (2.0.12)\n",
            "Requirement already satisfied: idna<4,>=2.5 in /usr/local/lib/python3.10/dist-packages (from requests<3,>=2.0.0->wandb) (3.4)\n",
            "Requirement already satisfied: smmap<6,>=3.0.1 in /usr/local/lib/python3.10/dist-packages (from gitdb<5,>=4.0.1->GitPython!=3.1.29,>=1.0.0->wandb) (5.0.0)\n"
          ]
        },
        {
          "output_type": "display_data",
          "data": {
            "text/plain": [
              "<IPython.core.display.HTML object>"
            ],
            "text/html": [
              "Finishing last run (ID:025ocvyz) before initializing another..."
            ]
          },
          "metadata": {}
        },
        {
          "output_type": "display_data",
          "data": {
            "text/plain": [
              "<IPython.core.display.HTML object>"
            ],
            "text/html": [
              "Waiting for W&B process to finish... <strong style=\"color:green\">(success).</strong>"
            ]
          },
          "metadata": {}
        },
        {
          "output_type": "display_data",
          "data": {
            "text/plain": [
              "VBox(children=(Label(value='0.001 MB of 0.004 MB uploaded (0.000 MB deduped)\\r'), FloatProgress(value=0.262719…"
            ],
            "application/vnd.jupyter.widget-view+json": {
              "version_major": 2,
              "version_minor": 0,
              "model_id": "f7560d145caa483bb49f941992611675"
            }
          },
          "metadata": {}
        },
        {
          "output_type": "display_data",
          "data": {
            "text/plain": [
              "<IPython.core.display.HTML object>"
            ],
            "text/html": [
              " View run <strong style=\"color:#cdcd00\">pleasant-sponge-2</strong> at: <a href='https://wandb.ai/puc-rio-tcc/uncategorized/runs/025ocvyz' target=\"_blank\">https://wandb.ai/puc-rio-tcc/uncategorized/runs/025ocvyz</a><br/>Synced 5 W&B file(s), 0 media file(s), 0 artifact file(s) and 0 other file(s)"
            ]
          },
          "metadata": {}
        },
        {
          "output_type": "display_data",
          "data": {
            "text/plain": [
              "<IPython.core.display.HTML object>"
            ],
            "text/html": [
              "Find logs at: <code>./wandb/run-20230528_181509-025ocvyz/logs</code>"
            ]
          },
          "metadata": {}
        },
        {
          "output_type": "display_data",
          "data": {
            "text/plain": [
              "<IPython.core.display.HTML object>"
            ],
            "text/html": [
              "Successfully finished last run (ID:025ocvyz). Initializing new run:<br/>"
            ]
          },
          "metadata": {}
        },
        {
          "output_type": "display_data",
          "data": {
            "text/plain": [
              "<IPython.core.display.HTML object>"
            ],
            "text/html": [
              "Tracking run with wandb version 0.15.3"
            ]
          },
          "metadata": {}
        },
        {
          "output_type": "display_data",
          "data": {
            "text/plain": [
              "<IPython.core.display.HTML object>"
            ],
            "text/html": [
              "Run data is saved locally in <code>/content/wandb/run-20230528_182108-trp7ypp3</code>"
            ]
          },
          "metadata": {}
        },
        {
          "output_type": "display_data",
          "data": {
            "text/plain": [
              "<IPython.core.display.HTML object>"
            ],
            "text/html": [
              "Syncing run <strong><a href='https://wandb.ai/puc-rio-tcc/uncategorized/runs/trp7ypp3' target=\"_blank\">peachy-snowflake-3</a></strong> to <a href='https://wandb.ai/puc-rio-tcc/uncategorized' target=\"_blank\">Weights & Biases</a> (<a href='https://wandb.me/run' target=\"_blank\">docs</a>)<br/>"
            ]
          },
          "metadata": {}
        },
        {
          "output_type": "display_data",
          "data": {
            "text/plain": [
              "<IPython.core.display.HTML object>"
            ],
            "text/html": [
              " View project at <a href='https://wandb.ai/puc-rio-tcc/uncategorized' target=\"_blank\">https://wandb.ai/puc-rio-tcc/uncategorized</a>"
            ]
          },
          "metadata": {}
        },
        {
          "output_type": "display_data",
          "data": {
            "text/plain": [
              "<IPython.core.display.HTML object>"
            ],
            "text/html": [
              " View run at <a href='https://wandb.ai/puc-rio-tcc/uncategorized/runs/trp7ypp3' target=\"_blank\">https://wandb.ai/puc-rio-tcc/uncategorized/runs/trp7ypp3</a>"
            ]
          },
          "metadata": {}
        }
      ],
      "source": [
        "try:\n",
        "    from google.colab import files\n",
        "    from google.colab import drive\n",
        "    drive.mount(\"/content/gdrive\")\n",
        "    DATASET_ROOT=\"/content/gdrive/MyDrive/TCC/datasets\"\n",
        "    !pip install patchify\n",
        "    # wandb to log system metrics: (check CPU and GPU usage while session is runnig)\n",
        "    !pip install wandb\n",
        "    import wandb\n",
        "    wandb.init()\n",
        "\n",
        "except ModuleNotFoundError:\n",
        "    DATASET_ROOT=\"./datasets/\"\n",
        "    # coloquei as dependencias em um arquivo separado\n",
        "    !pip install -r requirements.txt\n",
        "\n",
        "import torch\n",
        "from torch import nn\n",
        "from torch.utils.data import DataLoader, Dataset\n",
        "from torchvision import transforms\n",
        "from torchvision.io import read_image\n",
        "from PIL import Image\n",
        "from tqdm import tqdm\n",
        "import matplotlib.pyplot as plt\n",
        "import os\n",
        "import numpy as np\n",
        "from datetime import datetime\n",
        "from torchvision.datasets import ImageFolder\n",
        "from torch.utils.data import Subset\n",
        "from patchify import patchify\n",
        "from torchvision.transforms import Compose, ToTensor, Resize\n",
        "import pandas as pd\n",
        "import time\n",
        "import re\n",
        "from pathlib import Path\n",
        "\n",
        "DATASET_NAME = \"Set14\"\n",
        "\n",
        "# Setup device-agnostic code\n",
        "device = \"cuda\" if torch.cuda.is_available() else \"cpu\"\n",
        "# garantir que é cuda\n",
        "assert device == \"cuda\""
      ]
    },
    {
      "cell_type": "markdown",
      "metadata": {
        "id": "fSLDufnC7Lti"
      },
      "source": [
        "# Criando os patches\n",
        "\n",
        "(patches já foram criados, não precisa rodar)"
      ]
    },
    {
      "cell_type": "code",
      "execution_count": 30,
      "metadata": {
        "id": "MsxOyLEvhWPv"
      },
      "outputs": [],
      "source": [
        "def create_image_patches(img_dir: str, patch_size: tuple[int, int, int], output_path: str, num_patches: int) -> None:\n",
        "    \"\"\"\n",
        "    Creates patches from images in a given directory and saves them to a new directory.\n",
        "\n",
        "    Args:\n",
        "        img_dir (str): The path to the directory containing the images.\n",
        "        patch_size (tuple): The desired size of each patch.\n",
        "        num_patches (int): The number of patches to extract from each image.\n",
        "    \"\"\"\n",
        "    # Create a new directory to store the patches\n",
        "    patch_dir = os.path.join(output_path, \"patches\")\n",
        "    os.makedirs(patch_dir, exist_ok=True)\n",
        "\n",
        "    # Loop through each image in the directory\n",
        "    files = os.listdir(img_dir)\n",
        "    files.sort()\n",
        "    for img_name in tqdm(files):\n",
        "        try:\n",
        "          # if the file is not an image then skip to next iteration\n",
        "          if os.path.isdir(img_name):\n",
        "            continue \n",
        "\n",
        "          # Load the image\n",
        "          img_path = os.path.join(img_dir, img_name)\n",
        "          img = np.array(Image.open(img_path))\n",
        "\n",
        "          # Extract patches from the image using patchify\n",
        "          patches = patchify(img, patch_size, step=patch_size[0])\n",
        "\n",
        "          # Shuffle the patches !!!\n",
        "          patches = patches.reshape(-1, patch_size[0], patch_size[1], patch_size[2])\n",
        "          patches = patches[np.random.permutation(patches.shape[0])]\n",
        "\n",
        "          # Save the patches to the new directory\n",
        "          img_patch_dir = os.path.join(patch_dir, f\"{os.path.splitext(img_name)[0]}_patch\")\n",
        "          os.makedirs(img_patch_dir, exist_ok=True)\n",
        "\n",
        "          for i in range(min(patches.shape[0], num_patches)):\n",
        "            patch = patches[i]\n",
        "            patch = Image.fromarray(patch)\n",
        "            save_path = os.path.join(img_patch_dir, f\"patch_{i}.png\")\n",
        "\n",
        "            patch.save(save_path)\n",
        "\n",
        "        except IsADirectoryError:\n",
        "          continue\n"
      ]
    },
    {
      "cell_type": "code",
      "execution_count": 32,
      "metadata": {
        "colab": {
          "base_uri": "https://localhost:8080/"
        },
        "id": "Pyn9yMNfigEm",
        "outputId": "e698d5e5-5765-4247-c6d7-4e12c10ddee9"
      },
      "outputs": [
        {
          "output_type": "stream",
          "name": "stdout",
          "text": [
            "CPU times: user 3 µs, sys: 0 ns, total: 3 µs\n",
            "Wall time: 8.11 µs\n"
          ]
        },
        {
          "output_type": "stream",
          "name": "stderr",
          "text": [
            "100%|██████████| 15/15 [00:04<00:00,  3.35it/s]\n",
            "100%|██████████| 15/15 [00:01<00:00, 12.61it/s]\n"
          ]
        }
      ],
      "source": [
        "%time\n",
        "# otimizacao: criar patches de treino, validacao e teste de uma vez: (32, 8, 2)\n",
        "create_image_patches(f\"{DATASET_ROOT}/{DATASET_NAME}\", (33, 33, 3), f\"{DATASET_ROOT}/{DATASET_NAME}_train\", 32)\n",
        "create_image_patches(f\"{DATASET_ROOT}/{DATASET_NAME}\", (33, 33, 3), f\"{DATASET_ROOT}/{DATASET_NAME}_validation\", 8)"
      ]
    },
    {
      "cell_type": "markdown",
      "metadata": {
        "id": "iWcxQR2A7fRa"
      },
      "source": [
        "# ***SRCNN***"
      ]
    },
    {
      "cell_type": "code",
      "execution_count": 5,
      "metadata": {
        "id": "L4MgOZlln-yE"
      },
      "outputs": [],
      "source": [
        "class SRCNN(nn.Module):\n",
        "    def __init__(self, initialization=\"normal\") -> None:\n",
        "        super(SRCNN, self).__init__()\n",
        "        # 4.3 Model and Performance Trade-offs\n",
        "        # Based on the basic network settings (i.e., f1 = 9, f2 = 1, f3 = 5, n1 = 64, and n2 = 32),\n",
        "        f1 = 9\n",
        "        f2 = 1\n",
        "        f3 = 5\n",
        "        #n1 = 64\n",
        "        n1 = 3\n",
        "        n2 = 32\n",
        "\n",
        "        self.initialization = initialization\n",
        "\n",
        "        self.model = nn.Sequential(\n",
        "            # 3.1.1 Patch extraction and representation\n",
        "            nn.Conv2d(in_channels=3, out_channels=n1,\n",
        "                      #kernel_size=(f1, f1), padding=(f1-1)//2),\n",
        "                      kernel_size=(f1, f1), padding=0,),\n",
        "            # nn.ReLU(),\n",
        "\n",
        "            # # 3.1.2 Non-linear mapping\n",
        "            # nn.Conv2d(in_channels=n1, out_channels=n2,\n",
        "            #           #kernel_size=(f2, f2), padding=(f2-1)//2),\n",
        "            #           kernel_size=(f2, f2), padding=0,),\n",
        "            # nn.ReLU(),\n",
        "\n",
        "            # # 3.1.3 Reconstruction\n",
        "            # nn.Conv2d(in_channels=n2, out_channels=3,\n",
        "            #           #kernel_size=(f3, f3), padding=(f3-1)//2),\n",
        "            #           kernel_size=(f3, f3), padding=0),\n",
        "        )\n",
        "\n",
        "        self._init_weights()\n",
        "\n",
        "    def _init_weights(self):\n",
        "      # The filter weights of each layer are initialized by drawing randomly \n",
        "      # from a Gaussian distribution with zero mean and standard deviation 0.001 (and 0 for biases)\n",
        "      for module in self.modules():\n",
        "        if isinstance(module, nn.Conv2d):\n",
        "          if self.initialization == \"normal\":\n",
        "            module.weight.data.normal_(mean=0.0, std=0.001)\n",
        "          elif self.initialization == \"xavier\":\n",
        "            nn.init.xavier_normal_(module.weight.data)\n",
        "          else:\n",
        "            nn.init.eye_(module.weight.data)\n",
        "\n",
        "          if module.bias is not None:\n",
        "              module.bias.data.zero_()\n",
        "\n",
        "    def print_weights(self):\n",
        "      for module in self.modules():\n",
        "       if isinstance(module, nn.Conv2d):\n",
        "          print(module.weight)\n",
        "\n",
        "    def forward(self, x: torch.Tensor):\n",
        "        x = self.model(x)\n",
        "        return x\n"
      ]
    },
    {
      "cell_type": "markdown",
      "metadata": {
        "id": "dyP-HXNn7rsb"
      },
      "source": [
        "# Loops de **Treino** e Validação"
      ]
    },
    {
      "cell_type": "code",
      "execution_count": 6,
      "metadata": {
        "id": "GaE_vU0YoEIX"
      },
      "outputs": [],
      "source": [
        "def train_loop(dataloader, model, loss_fn, optimizer, device=\"cuda\" if torch.cuda.is_available() else \"cpu\"):\n",
        "    size = len(dataloader.dataset)\n",
        "    num_batches = len(dataloader)\n",
        "\n",
        "    print(f\"Training on {size} samples...\")\n",
        "    print(\"Batch size:\", dataloader.batch_size)\n",
        "    print(\"Number of batches:\", num_batches)\n",
        "\n",
        "    train_loss = 0\n",
        "    for batch, (X, y) in tqdm(enumerate(dataloader), total=len(dataloader)):\n",
        "        X = X.to(device)\n",
        "        #print(\"X\", X.shape, X.get_device())\n",
        "        y = y.to(device)\n",
        "        # Compute prediction and loss\n",
        "        pred = model(X)\n",
        "        loss = loss_fn(pred, y)\n",
        "\n",
        "        train_loss += loss.item()\n",
        "\n",
        "        loss.backward()\n",
        "        optimizer.step()\n",
        "        optimizer.zero_grad()\n",
        "\n",
        "    train_loss /= num_batches\n",
        "\n",
        "    # return avg loss\n",
        "    print(f\"Training Error: \\n Avg loss: {train_loss:>8f} \\n\")\n",
        "    return train_loss\n",
        "\n",
        "# will also be used for testing (maybe)\n",
        "def validation_loop(dataloader, model, loss_fn, device=\"cuda\" if torch.cuda.is_available() else \"cpu\"):\n",
        "    size = len(dataloader.dataset)\n",
        "    num_batches = len(dataloader)\n",
        "    validation_loss = 0\n",
        "\n",
        "    with torch.no_grad(), tqdm(total=num_batches) as progress_bar:\n",
        "        for X, y in dataloader:\n",
        "            X = X.to(device)\n",
        "            y = y.to(device)\n",
        "            pred = model(X)\n",
        "            validation_loss += loss_fn(pred, y).item()\n",
        "            progress_bar.update(1)\n",
        "\n",
        "    validation_loss /= num_batches\n",
        "\n",
        "    print(f\"Validation Error: \\n Avg loss: {validation_loss:>8f} \\n\")\n",
        "    return validation_loss\n"
      ]
    },
    {
      "cell_type": "markdown",
      "metadata": {
        "id": "0tQJi20XGXAw"
      },
      "source": [
        "# CustomImageDataset"
      ]
    },
    {
      "cell_type": "code",
      "execution_count": 7,
      "metadata": {
        "id": "9U-dgPE2hvY-"
      },
      "outputs": [],
      "source": [
        "import os\n",
        "from PIL import Image\n",
        "\n",
        "def read_image_aux(file_path):\n",
        "    \"\"\"\n",
        "    Reads and loads an image file from the specified path.\n",
        "\n",
        "    Args:\n",
        "        file_path (str): The path to the image file.\n",
        "\n",
        "    Returns:\n",
        "        PIL.Image.Image: The loaded image.\n",
        "    \"\"\"\n",
        "    try:\n",
        "        image = Image.open(file_path)\n",
        "        return image\n",
        "    except (IOError, OSError) as e:\n",
        "        # Handle empty or corrupted files\n",
        "        raise ValueError(f\"Error loading image file: {file_path}. Reason: {str(e)}\")\n",
        "\n",
        "\n",
        "def get_image_patch(img_dir, img_index=-1, patch_index=-1):\n",
        "    \"\"\"\n",
        "    Gets an image from a dataset.\n",
        "\n",
        "    Args:\n",
        "        dataset (Dataset): The dataset to get the image from.\n",
        "        index (int): The index of the image to get.\n",
        "\n",
        "    Returns:\n",
        "        Tensor: The image.\n",
        "    \"\"\"\n",
        "    imgs_dir = os.path.join(img_dir, \"patches\")\n",
        "    print(imgs_dir)\n",
        "    imgs = list(os.listdir(imgs_dir))\n",
        "    if img_index == -1:\n",
        "      img_index = np.random.randint(0, len(imgs))\n",
        "\n",
        "    patches_dir = os.path.join(imgs_dir, imgs[img_index])\n",
        "    print(patches_dir)\n",
        "\n",
        "    patches = list(os.listdir(patches_dir))\n",
        "    if patch_index == -1:\n",
        "      patch_index = np.random.randint(0, len(patches))\n",
        "    return read_image(os.path.join(patches_dir, patches[patch_index]))"
      ]
    },
    {
      "cell_type": "code",
      "execution_count": 8,
      "metadata": {
        "id": "Icm9sIDtoTP9"
      },
      "outputs": [],
      "source": [
        "class CustomImageDataset(Dataset):\n",
        "    \"\"\"\n",
        "    A PyTorch dataset for loading a directory of images.\n",
        "\n",
        "    Args:\n",
        "        img_dir (str): The path to the directory containing the images.\n",
        "        transform (callable, optional): A function/transform that takes in an image and returns a\n",
        "            transformed version. Default: None.\n",
        "        target_transform (callable, optional): A function/transform that takes in the target and\n",
        "            transforms it. Default: None.\n",
        "    \"\"\"\n",
        "\n",
        "    def __init__(self, img_dir: str, patches_per_image = None | int, transform = None, target_transform = None, use_patches = True ):\n",
        "        \"\"\"\n",
        "        Initializes a new instance of the CustomImageDataset class.\n",
        "\n",
        "        Args:\n",
        "            img_dir (str): The path to the directory containing the images.\n",
        "            transform (callable, optional): A function/transform that takes in an image and returns a\n",
        "                transformed version. Default: None.\n",
        "            target_transform (callable, optional): A function/transform that takes in the target and\n",
        "                transforms it. Default: None.\n",
        "        \"\"\"\n",
        "        self.img_dir = img_dir\n",
        "        self.transform = transform\n",
        "        self.target_transform = target_transform\n",
        "        self.patches_per_image = patches_per_image\n",
        "        \n",
        "        self.file_list_tensor = self.create_tensors_from_images()\n",
        "        self.file_list_tensor.to(device)\n",
        "        print('self.file_list_tensor.shape =', self.file_list_tensor.shape)\n",
        "        # self.file_lst = self._create_file_list() if use_patches else list(os.listdir(img_dir))\n",
        "\n",
        "    def create_tensors_from_images(self):\n",
        "      print(self.img_dir)\n",
        "      number_of_images = self._get_number_of_images_in_folder(f\"{self.img_dir}/patches\")\n",
        "      print(number_of_images)\n",
        "\n",
        "      # creating the empty tensor\n",
        "      image_tensors = torch.empty((number_of_images, 3, 33, 33))\n",
        "      print(image_tensors.shape)\n",
        "\n",
        "      current_tensor_index = 0\n",
        "\n",
        "      all_patches_dir = f\"{self.img_dir}/patches\"\n",
        "      if not os.path.exists(all_patches_dir) or not os.path.isdir(all_patches_dir):\n",
        "          return list(os.listdir(self.img_dir))\n",
        "\n",
        "      for patch_path in list(os.listdir(all_patches_dir)):\n",
        "        one_patch_full_dir = f\"{all_patches_dir}/{patch_path}\"\n",
        "        one_path_relative_dir = f\"patches/{patch_path}\"\n",
        "        \n",
        "        patches_list = list(os.listdir(one_patch_full_dir))\n",
        "        \n",
        "        for index, patch in enumerate(patches_list):\n",
        "          image_path = f\"{one_path_relative_dir}/{patch}\"\n",
        "\n",
        "          if self._check_if_image_is_not_corrupted(image_path):\n",
        "            continue\n",
        "          \n",
        "          image_as_tensor = read_image(f\"{self.img_dir}/{image_path}\")\n",
        "\n",
        "          image_tensors[current_tensor_index] = image_as_tensor.float() / 255\n",
        "\n",
        "          current_tensor_index += 1\n",
        "                    \n",
        "      return image_tensors\n",
        "\n",
        "\n",
        "    def __len__(self) -> int:\n",
        "        \"\"\"\n",
        "        Returns the number of images in the dataset.\n",
        "\n",
        "        Returns:\n",
        "            The number of images in the dataset.\n",
        "        \"\"\"\n",
        "        return self._get_number_of_images_in_folder(f\"{self.img_dir}/patches\")\n",
        "\n",
        "    def __getitem__(self, idx: int) -> tuple[torch.Tensor, torch.Tensor]:\n",
        "        \"\"\"\n",
        "        Returns the image at the specified index in the dataset.\n",
        "\n",
        "        Args:\n",
        "            idx (int): The index of the image to return.\n",
        "\n",
        "        Returns:\n",
        "            A tuple containing the transformed input image and the transformed target image.\n",
        "        \"\"\"\n",
        "    \n",
        "        image = self.file_list_tensor[idx]\n",
        "        image_x = image.detach().clone()\n",
        "        image_y = image.detach().clone()\n",
        "\n",
        "        if self.transform:\n",
        "            image_x = self.transform(image_x)\n",
        "        if self.target_transform:\n",
        "            image_y = self.target_transform(image_y)\n",
        "\n",
        "        return image_x, image_y\n",
        "\n",
        "    def _create_file_list(self):\n",
        "      \"\"\"\n",
        "      Creates a list of files to load, taking into account any patches that have been created.\n",
        "\n",
        "      Returns:\n",
        "          A list of file paths to load.\n",
        "      \"\"\"\n",
        "      all_patches_dir = f\"{self.img_dir}/patches\"\n",
        "      if not os.path.exists(all_patches_dir) or not os.path.isdir(all_patches_dir):\n",
        "          return list(os.listdir(self.img_dir))\n",
        "\n",
        "      file_list = []\n",
        "      for patch_path in list(os.listdir(all_patches_dir)):\n",
        "        one_patch_full_dir = f\"{all_patches_dir}/{patch_path}\"\n",
        "        one_path_relative_dir = f\"patches/{patch_path}\"\n",
        "        \n",
        "        patches_list = list(os.listdir(one_patch_full_dir))\n",
        "        \n",
        "        for index, patch in enumerate(patches_list):\n",
        "          image_path = f\"{one_path_relative_dir}/{patch}\"\n",
        "\n",
        "          # checking if the image is an integral state\n",
        "          file_size = Path(f\"{self.img_dir}/{image_path}\").stat().st_size\n",
        "\n",
        "          if (file_size == 0):\n",
        "            print(f\"Error loading image file: {self.img_dir}/{image_path}. Reason: file has size 0\")\n",
        "            continue\n",
        "\n",
        "          if self.patches_per_image and index == self.patches_per_image:\n",
        "            break\n",
        "\n",
        "          file_list.append(image_path)\n",
        "\n",
        "      return file_list\n",
        "\n",
        "    def _get_number_of_images_in_folder(self, dir: str):\n",
        "      \"\"\"\n",
        "      Gets the total number of all the patches\n",
        "      \"\"\"\n",
        "      all_patches_dir = f\"{self.img_dir}/patches\"\n",
        "      if not os.path.exists(all_patches_dir) or not os.path.isdir(all_patches_dir):\n",
        "          return list(os.listdir(self.img_dir))\n",
        "\n",
        "      number_of_images = 0\n",
        "      for patch_path in list(os.listdir(all_patches_dir)):\n",
        "        one_patch_full_dir = f\"{all_patches_dir}/{patch_path}\"\n",
        "        one_path_relative_dir = f\"patches/{patch_path}\"\n",
        "        \n",
        "        patches_list = list(os.listdir(one_patch_full_dir))\n",
        "        \n",
        "        for index, patch in enumerate(patches_list):\n",
        "          image_path = f\"{one_path_relative_dir}/{patch}\"\n",
        "\n",
        "          if self._check_if_image_is_not_corrupted(image_path):\n",
        "            continue\n",
        "\n",
        "          number_of_images += 1\n",
        "\n",
        "      return number_of_images\n",
        "\n",
        "    def _check_if_image_is_not_corrupted(self, image_path: str) -> bool:\n",
        "      \"\"\"\n",
        "      Returns True if the file is corrupted else returns False\n",
        "      \"\"\"\n",
        "      # checking if the image is an integral state\n",
        "      file_size = Path(f\"{self.img_dir}/{image_path}\").stat().st_size\n",
        "\n",
        "      if file_size == 0:\n",
        "        print(f\"Error loading image file: {self.img_dir}/{image_path}. Reason: file has size 0\")\n",
        "        return True\n",
        "      \n",
        "      return False"
      ]
    },
    {
      "cell_type": "markdown",
      "metadata": {
        "id": "caU9bjCgGdkA"
      },
      "source": [
        "# ImageHelper\n",
        "Métodos auxiliares para exibir imagens"
      ]
    },
    {
      "cell_type": "code",
      "execution_count": 9,
      "metadata": {
        "id": "xPG_Ckmf5e-D"
      },
      "outputs": [],
      "source": [
        "class ImageHelper:\n",
        "    \"\"\"\n",
        "    A helper class for working with image data in PyTorch.\n",
        "    \"\"\"\n",
        "\n",
        "    def __init__(self):\n",
        "        \"\"\"\n",
        "        Initializes a new instance of the ImageHelper class.\n",
        "        \"\"\"\n",
        "        return\n",
        "\n",
        "    def show_tensor_as_image(self, tensor: torch.Tensor):\n",
        "        \"\"\"\n",
        "        Displays an image represented as a PyTorch tensor.\n",
        "\n",
        "        Args:\n",
        "            tensor: A PyTorch tensor representing the image. The tensor should have shape (C, H, W),\n",
        "                where C is the number of channels, H is the height, and W is the width.\n",
        "\n",
        "        Returns:\n",
        "            None\n",
        "        \"\"\"\n",
        "        plt.figure()\n",
        "\n",
        "        if torch.is_tensor(tensor):\n",
        "          tensor_np = tensor.detach().numpy()\n",
        "        else:\n",
        "          tensor_np = tensor.numpy()\n",
        "          \n",
        "        plt.imshow(tensor_np.transpose((1, 2, 0)))\n",
        "        plt.show()\n",
        "\n",
        "    def tensor_as_image(self, tensor: torch.Tensor):\n",
        "        \"\"\"\n",
        "        Converts tenso to image\n",
        "        \"\"\"\n",
        "        if torch.is_tensor(tensor):\n",
        "          tensor_np = tensor.detach().numpy()\n",
        "        else:\n",
        "          tensor_np = tensor.numpy()\n",
        "        return tensor_np.transpose((1, 2, 0))\n",
        "\n",
        "\n",
        "ImageHelperInstance = ImageHelper()"
      ]
    },
    {
      "cell_type": "markdown",
      "metadata": {
        "id": "DNTypfIeHBLb"
      },
      "source": [
        "# Criando os ***Dataset*'s**"
      ]
    },
    {
      "cell_type": "code",
      "execution_count": 10,
      "metadata": {
        "colab": {
          "base_uri": "https://localhost:8080/"
        },
        "id": "R8R75gOzoG9K",
        "outputId": "ba513334-e4f6-444a-e9eb-f1489e10cf07"
      },
      "outputs": [
        {
          "output_type": "stream",
          "name": "stdout",
          "text": [
            "/content/gdrive/MyDrive/TCC/datasets/Set14_train\n",
            "448\n",
            "torch.Size([448, 3, 33, 33])\n",
            "self.file_list_tensor.shape = torch.Size([448, 3, 33, 33])\n",
            "/content/gdrive/MyDrive/TCC/datasets/Set14_validation\n",
            "112\n",
            "torch.Size([112, 3, 33, 33])\n",
            "self.file_list_tensor.shape = torch.Size([112, 3, 33, 33])\n",
            "Training set has 448 instances\n",
            "Validation set has 112 instances\n",
            "CPU times: user 1.26 s, sys: 980 ms, total: 2.24 s\n",
            "Wall time: 6.3 s\n"
          ]
        }
      ],
      "source": [
        "%%time\n",
        "transform_x = transforms.Compose([\n",
        "    # downscale by factor of 3 (from 33x33 to 11x11 back to 33x33)\n",
        "    # resize image to 11x11 and downsample by BICUBIC interpolation\n",
        "    transforms.Resize((11, 11), interpolation=Image.BICUBIC),\n",
        "    # resize image to 33x33\n",
        "    transforms.Resize((33, 33), interpolation=Image.BICUBIC)\n",
        "])\n",
        "\n",
        "transform_y = transforms.Compose([\n",
        "    #transforms.Resize((33, 33), interpolation=Image.BICUBIC)\n",
        "    #transforms.CenterCrop((21, 21))\n",
        "    transforms.CenterCrop((25, 25))\n",
        "])\n",
        "\n",
        "# Set up the data loaders\n",
        "train_data_set = CustomImageDataset(\n",
        "    img_dir=f\"{DATASET_ROOT}/{DATASET_NAME}_train\", transform=transform_x, target_transform=transform_y)\n",
        "validation_data_set = CustomImageDataset(\n",
        "    img_dir=f\"{DATASET_ROOT}/{DATASET_NAME}_validation\", transform=transform_x, target_transform=transform_y)\n",
        "\n",
        "train_dataloader = DataLoader(train_data_set, batch_size=2**13, shuffle=True)\n",
        "validation_dataloader = DataLoader(validation_data_set, batch_size=2**13)\n",
        "\n",
        "# # Report split sizes\n",
        "print('Training set has {} instances'.format(len(train_data_set)))\n",
        "print('Validation set has {} instances'.format(len(validation_data_set)))"
      ]
    },
    {
      "cell_type": "markdown",
      "metadata": {
        "id": "6qLT7bvw0syt"
      },
      "source": [
        "# Instanciando o modelo"
      ]
    },
    {
      "cell_type": "code",
      "execution_count": 11,
      "metadata": {
        "id": "h3ymUq8c0syt"
      },
      "outputs": [],
      "source": [
        "# Instancianting the model\n",
        "# Atencao: cuidado ao rodar o treino várias vezes sem resetar o modelo!\n",
        "model = SRCNN(initialization=\"normal\")\n",
        "model.to(device)\n",
        "\n",
        "# hyperparameters\n",
        "#https://stackoverflow.com/questions/48324152/pytorch-how-to-change-the-learning-rate-of-an-optimizer-at-any-given-moment-no\n",
        "lr = 1e-3"
      ]
    },
    {
      "cell_type": "code",
      "execution_count": 12,
      "metadata": {
        "id": "r5UQL4CU0syt",
        "outputId": "ce2a0ec5-7919-4ba3-8124-ec0ae7c5ec1f",
        "colab": {
          "base_uri": "https://localhost:8080/",
          "height": 375
        }
      },
      "outputs": [
        {
          "output_type": "stream",
          "name": "stdout",
          "text": [
            "/content/gdrive/MyDrive/TCC/datasets/Set5_train/patches\n",
            "/content/gdrive/MyDrive/TCC/datasets/Set5_train/patches/butterfly_patch\n",
            "<class 'torch.Tensor'> torch.Size([3, 33, 33]) torch.float32 tensor(0.) tensor(0.9686)\n"
          ]
        },
        {
          "output_type": "stream",
          "name": "stderr",
          "text": [
            "WARNING:matplotlib.image:Clipping input data to the valid range for imshow with RGB data ([0..1] for floats or [0..255] for integers).\n"
          ]
        },
        {
          "output_type": "stream",
          "name": "stdout",
          "text": [
            "<class 'torch.Tensor'> torch.Size([1, 3, 25, 25]) torch.float32 tensor(-0.0131, device='cuda:0') tensor(0.0105, device='cuda:0')\n"
          ]
        },
        {
          "output_type": "display_data",
          "data": {
            "text/plain": [
              "<Figure size 640x480 with 2 Axes>"
            ],
            "image/png": "[encoded data removed]"
          },
          "metadata": {}
        }
      ],
      "source": [
        "img = get_image_patch(f\"{DATASET_ROOT}/Set5_train\").float()/255\n",
        "print(type(img), img.shape, img.dtype, img.min(), img.max())\n",
        "with torch.no_grad():\n",
        "  img_out = model(img.unsqueeze(0).to(device))\n",
        "print(type(img_out), img_out.shape, img_out.dtype, img_out.min(), img_out.max())\n",
        "plt.figure()\n",
        "plt.subplot(1, 2, 1)\n",
        "plt.imshow(ImageHelperInstance.tensor_as_image(img.cpu()))\n",
        "plt.subplot(1, 2, 2)\n",
        "plt.imshow(ImageHelperInstance.tensor_as_image(img_out.squeeze().cpu()))\n",
        "plt.show()"
      ]
    },
    {
      "cell_type": "markdown",
      "metadata": {
        "id": "gYmtoYcvHQuo"
      },
      "source": [
        "# Criando o *Optmizer* e a *loss function* (MSE)"
      ]
    },
    {
      "cell_type": "code",
      "execution_count": 13,
      "metadata": {
        "id": "ko9NGAPAopPL",
        "outputId": "1802d342-ba0e-48cf-e8c4-9b132d668a21",
        "colab": {
          "base_uri": "https://localhost:8080/"
        }
      },
      "outputs": [
        {
          "output_type": "execute_result",
          "data": {
            "text/plain": [
              "MSELoss()"
            ]
          },
          "metadata": {},
          "execution_count": 13
        }
      ],
      "source": [
        "# otimizacao: Mudar o otimizador para Adam ou RMSProp\n",
        "#           : Usar momentum = 0.9\n",
        "#           : Usar learning maior: 1e-4?\n",
        "#           : Usar learning rate decay\n",
        "\n",
        "# 3.3 Training\n",
        "# The loss is minimized using stochastic gradient descent with the standard backpropagation\n",
        "optimizer = torch.optim.SGD(model.parameters(), lr=lr)\n",
        "# we use Mean Squared Error (MSE) as the loss function:\n",
        "loss_fn = nn.MSELoss()\n",
        "loss_fn.to(device)"
      ]
    },
    {
      "cell_type": "markdown",
      "metadata": {
        "id": "JtJiUmWDHdCe"
      },
      "source": [
        "# Exemplos de imagem de baixa e alta resolução do dataset de treino"
      ]
    },
    {
      "cell_type": "code",
      "execution_count": 26,
      "metadata": {
        "colab": {
          "base_uri": "https://localhost:8080/",
          "height": 823
        },
        "id": "X2Y9JC505Y2s",
        "outputId": "521d0230-064e-42ac-d337-cca59bbed0ab"
      },
      "outputs": [
        {
          "output_type": "stream",
          "name": "stderr",
          "text": [
            "WARNING:matplotlib.image:Clipping input data to the valid range for imshow with RGB data ([0..1] for floats or [0..255] for integers).\n"
          ]
        },
        {
          "output_type": "stream",
          "name": "stdout",
          "text": [
            "<class 'torch.Tensor'> torch.Size([448, 3, 33, 33]) torch.float32 tensor(-0.2407) tensor(1.2149)\n",
            "<class 'torch.Tensor'> torch.Size([448, 3, 25, 25]) torch.float32 tensor(0.) tensor(1.)\n"
          ]
        },
        {
          "output_type": "display_data",
          "data": {
            "text/plain": [
              "<Figure size 1000x1000 with 6 Axes>"
            ],
            "image/png": "[encoded data removed]"
          },
          "metadata": {}
        }
      ],
      "source": [
        "# example of training image\n",
        "num_samples = 2\n",
        "fig, axes = plt.subplots(num_samples, 3, figsize=(10, 10))\n",
        "for i, (X, y) in enumerate(train_dataloader):\n",
        "    with torch.no_grad():\n",
        "        z = model.forward(X.to(device))\n",
        "    print(type(X), X.shape, X.dtype, X.min(), X.max())\n",
        "    print(type(y), y.shape, y.dtype, y.min(), y.max())\n",
        "    axes[i, 0].imshow(ImageHelperInstance.tensor_as_image(X[0]))\n",
        "    axes[i, 1].imshow(ImageHelperInstance.tensor_as_image(y[0]))\n",
        "    axes[i, 2].imshow(ImageHelperInstance.tensor_as_image(z[0].cpu()))\n",
        "    # axes[i, 0].set_axis_off()\n",
        "    if i == num_samples - 1:\n",
        "        break\n",
        "plt.show()"
      ]
    },
    {
      "cell_type": "markdown",
      "metadata": {
        "id": "82X534YWDGTU"
      },
      "source": [
        "# Carregando o modelo"
      ]
    },
    {
      "cell_type": "code",
      "source": [
        "# MUDAR AQUI SE FOR TREINAR PARA VALER\n",
        "# Se True, não pega nem salva nada no drive\n",
        "EXPERIMENTAL_MODE = True"
      ],
      "metadata": {
        "id": "iDnUOV0yAK4m"
      },
      "execution_count": 15,
      "outputs": []
    },
    {
      "cell_type": "markdown",
      "metadata": {
        "id": "rReOM3wbI771"
      },
      "source": [
        "## Carregando a última *epoch* executada"
      ]
    },
    {
      "cell_type": "markdown",
      "metadata": {
        "id": "5vMU5bqsH59F"
      },
      "source": [
        "- Função para pegar a epoch que paramos de executar na última sessão"
      ]
    },
    {
      "cell_type": "code",
      "execution_count": 16,
      "metadata": {
        "id": "caFjmui8pGUw"
      },
      "outputs": [],
      "source": [
        "def get_epoch_number_from_path(s: str) -> int or None:\n",
        "    epoch_pattern = r\"epoch=(\\d+)\"\n",
        "    match = re.search(epoch_pattern, s)\n",
        "\n",
        "    if match:\n",
        "        epoch_number = int(match.group(1))\n",
        "        return epoch_number\n",
        "    else:\n",
        "        return None"
      ]
    },
    {
      "cell_type": "markdown",
      "metadata": {
        "id": "KTyjJP90IJEk"
      },
      "source": [
        "- Os arquivos estão sendo salvos no drive como no comando abaixo, a função `get_epoch_number_from_path` acima extrai o número da epoch através do nome do arquivo"
      ]
    },
    {
      "cell_type": "code",
      "execution_count": 17,
      "metadata": {
        "id": "hdFRrbruukrK"
      },
      "outputs": [],
      "source": [
        "# os.listdir('/content/gdrive/My Drive/TCC/code/models/SRCNN/testing/train_session_testing/models')"
      ]
    },
    {
      "cell_type": "code",
      "execution_count": 18,
      "metadata": {
        "colab": {
          "base_uri": "https://localhost:8080/"
        },
        "id": "27b-CNULSbPr",
        "outputId": "5b909271-2d75-423c-8d3b-78efcd9e12c9"
      },
      "outputs": [
        {
          "output_type": "stream",
          "name": "stdout",
          "text": [
            "Most recent epoch: 4\n",
            "Model load path name: /content/gdrive/My Drive/TCC/code/models/SRCNN/testing/train_session_testing/models/2023-05-18_00:37:32_epoch=4_srcnn_avg_train_loss_0.2528951225372461_avg_validation_loss_0.15410792703429857\n"
          ]
        }
      ],
      "source": [
        "# finding the most recent epoch model\n",
        "directory = '/content/gdrive/My Drive/TCC/code/models/SRCNN/testing/train_session_testing/models'\n",
        "\n",
        "most_recent_epoch = -1\n",
        "model_load_path_name = ''\n",
        "# model_load_path_name = f\"{directory}/\"\n",
        "for filename in os.listdir(directory):\n",
        "    epoch = get_epoch_number_from_path(filename)\n",
        "    if epoch is not None and epoch > most_recent_epoch:\n",
        "        most_recent_epoch = epoch\n",
        "        model_load_path_name = os.path.join(directory, filename)\n",
        "\n",
        "print(\"Most recent epoch:\", most_recent_epoch)\n",
        "print(\"Model load path name:\", model_load_path_name)"
      ]
    },
    {
      "cell_type": "code",
      "execution_count": 19,
      "metadata": {
        "id": "Nah4QNHgDQCO",
        "colab": {
          "base_uri": "https://localhost:8080/"
        },
        "outputId": "f657d7d2-efdd-4b2c-bb9c-efd4d8286aeb"
      },
      "outputs": [
        {
          "output_type": "stream",
          "name": "stderr",
          "text": [
            "UsageError: Line magic function `%%script` not found.\n"
          ]
        }
      ],
      "source": [
        "if EXPERIMENTAL_MODE:\n",
        "  %%script false --no-raise-error\n",
        "\n",
        "if not model_load_path_name:\n",
        "  print('model_load_path_name does not exist. This a new training instance')\n",
        "elif torch.cuda.is_available():\n",
        "  model.load_state_dict(torch.load(model_load_path_name))\n",
        "else:\n",
        "  model.load_state_dict(torch.load(model_load_path_name, map_location=torch.device('cpu')))\n"
      ]
    },
    {
      "cell_type": "markdown",
      "metadata": {
        "id": "GystbxzZrYVl"
      },
      "source": [
        "# **Treinamento** "
      ]
    },
    {
      "cell_type": "markdown",
      "metadata": {
        "id": "WbNBDBBlKXeA"
      },
      "source": [
        "## Salvando o Dataframe no drive e localmente para cada *epoch*"
      ]
    },
    {
      "cell_type": "code",
      "execution_count": 20,
      "metadata": {
        "id": "xx2-GriqhVWA"
      },
      "outputs": [],
      "source": [
        "def download_df(df, train_loss, validation_loss, epoch):\n",
        "  date = datetime.today().strftime('%Y-%m-%d %H:%M:%S').replace(' ', '_')\n",
        "  file_name = f'SRCNN_epoch={epoch}_{date}_srcnn_avg_train_loss_{train_loss}_avg_validation_loss_{validation_loss}.csv'\n",
        "  df.to_csv(file_name)\n",
        "  files.download(file_name)"
      ]
    },
    {
      "cell_type": "markdown",
      "metadata": {
        "id": "2sYHr9_vJNw_"
      },
      "source": [
        "Para executar o salvamento do Dataframe, lemos do drive o último .csv salvo, e adicionamos uma linha nele e salvamos novamente.\n",
        "\n",
        "Obs: Para testes rápido com datasets pequenos, o tempo de leitura do dataframe no drive parece ser mais rápido que o tempo de escrita, o que gerava uma concorrência, para resolver isso, adicionei um `SLEEP_TIME` para esperar um tempo após cada escrita. "
      ]
    },
    {
      "cell_type": "code",
      "execution_count": 21,
      "metadata": {
        "id": "SlnWqVtFdTLW"
      },
      "outputs": [],
      "source": [
        "SLEEP_TIME = 30\n",
        "\n",
        "def save_df(df_path, train_loss, validation_loss, epoch, epoch_duration):\n",
        "    # Check if the file exists\n",
        "    if not os.path.isfile(df_path):\n",
        "        df = pd.DataFrame({'Train Loss': [train_loss], 'Validation Loss': [validation_loss], 'epoch': [epoch], 'epoch_duration [s]': [epoch_duration]})\n",
        "        download_df(df, train_loss, validation_loss, epoch) # for backup\n",
        "        df.to_csv(df_path, index=False)\n",
        "        time.sleep(SLEEP_TIME) # stop concurrency attempt\n",
        "        return\n",
        "\n",
        "    df = pd.read_csv(df_path)\n",
        "    new_df_rows = {'Train Loss': [train_loss], 'Validation Loss': [validation_loss], 'epoch': [epoch], 'epoch_duration [s]': [epoch_duration]}\n",
        "    df = df.append(pd.DataFrame(new_df_rows))\n",
        "    download_df(df, train_loss, validation_loss, epoch) # for backup\n",
        "    df.to_csv(df_path, index=False)\n",
        "    time.sleep(SLEEP_TIME) # stop concurrency attempt\n",
        "    "
      ]
    },
    {
      "cell_type": "markdown",
      "metadata": {
        "id": "ENyDrF8hKjLp"
      },
      "source": [
        "## Execução das *epochs*\n",
        "- Execução dos loops de treinamento e validação, e também salvamentos dos dados"
      ]
    },
    {
      "cell_type": "code",
      "execution_count": 22,
      "metadata": {
        "colab": {
          "base_uri": "https://localhost:8080/"
        },
        "id": "a2TYnN32M3jI",
        "outputId": "3ccabc95-ec63-4446-b1dd-8491a2d6a01e"
      },
      "outputs": [
        {
          "output_type": "stream",
          "name": "stdout",
          "text": [
            "starting_epoch = 5\n"
          ]
        }
      ],
      "source": [
        "starting_epoch = get_epoch_number_from_path(model_load_path_name)\n",
        "if starting_epoch is not None:\n",
        "  starting_epoch = starting_epoch + 1 # add 1 because we are starting after the epoch we left of\n",
        "\n",
        "print('starting_epoch =', starting_epoch)"
      ]
    },
    {
      "cell_type": "code",
      "source": [
        "def get_current_epoch(index, t, starting_epoch):\n",
        "    if EXPERIMENTAL_MODE:\n",
        "      return t\n",
        "\n",
        "    # finding the current epoch number logic\n",
        "    if index == 0 and starting_epoch is None:\n",
        "      current_epoch = 0\n",
        "      starting_epoch = 0\n",
        "    elif starting_epoch >= 0:  \n",
        "      current_epoch = starting_epoch + t\n",
        "    else:\n",
        "      current_epoch = 0\n",
        "    return current_epoch"
      ],
      "metadata": {
        "id": "aCkKzpJT8MZD"
      },
      "execution_count": 23,
      "outputs": []
    },
    {
      "cell_type": "code",
      "source": [
        "def save_epoch(current_epoch, train_loss, validation_loss):\n",
        "    # saving each epoch, since it's taking forever to train\n",
        "    date = datetime.today().strftime('%Y-%m-%d %H:%M:%S').replace(' ', '_')\n",
        "    model_save_path_name = f\"{directory}/{date}_epoch={current_epoch}_srcnn_avg_train_loss_{train_loss}_avg_validation_loss_{validation_loss}\"\n",
        "    torch.save(model.state_dict(), model_save_path_name)"
      ],
      "metadata": {
        "id": "nz7PgzJ285Bc"
      },
      "execution_count": 24,
      "outputs": []
    },
    {
      "cell_type": "code",
      "execution_count": 27,
      "metadata": {
        "id": "vziyHm3c5Zzf",
        "outputId": "47d3c143-59df-4433-aa6a-e9a2e7a10215",
        "colab": {
          "base_uri": "https://localhost:8080/",
          "height": 1000
        }
      },
      "outputs": [
        {
          "output_type": "stream",
          "name": "stdout",
          "text": [
            "\n",
            "epoch 0\n",
            "-------------------------------\n",
            "Training on 448 samples...\n",
            "Batch size: 8192\n",
            "Number of batches: 1\n"
          ]
        },
        {
          "output_type": "stream",
          "name": "stderr",
          "text": [
            "100%|██████████| 1/1 [00:00<00:00,  2.43it/s]\n"
          ]
        },
        {
          "output_type": "stream",
          "name": "stdout",
          "text": [
            "Training Error: \n",
            " Avg loss: 0.088465 \n",
            "\n"
          ]
        },
        {
          "output_type": "stream",
          "name": "stderr",
          "text": [
            "100%|██████████| 1/1 [00:00<00:00, 16.56it/s]\n"
          ]
        },
        {
          "output_type": "stream",
          "name": "stdout",
          "text": [
            "Validation Error: \n",
            " Avg loss: 0.087648 \n",
            "\n",
            "\n",
            "epoch 1\n",
            "-------------------------------\n",
            "Training on 448 samples...\n",
            "Batch size: 8192\n",
            "Number of batches: 1\n"
          ]
        },
        {
          "output_type": "stream",
          "name": "stderr",
          "text": [
            "100%|██████████| 1/1 [00:00<00:00,  2.43it/s]\n"
          ]
        },
        {
          "output_type": "stream",
          "name": "stdout",
          "text": [
            "Training Error: \n",
            " Avg loss: 0.082353 \n",
            "\n"
          ]
        },
        {
          "output_type": "stream",
          "name": "stderr",
          "text": [
            "100%|██████████| 1/1 [00:00<00:00, 15.51it/s]\n"
          ]
        },
        {
          "output_type": "stream",
          "name": "stdout",
          "text": [
            "Validation Error: \n",
            " Avg loss: 0.081834 \n",
            "\n",
            "\n",
            "epoch 2\n",
            "-------------------------------\n",
            "Training on 448 samples...\n",
            "Batch size: 8192\n",
            "Number of batches: 1\n"
          ]
        },
        {
          "output_type": "stream",
          "name": "stderr",
          "text": [
            "100%|██████████| 1/1 [00:00<00:00,  2.35it/s]\n"
          ]
        },
        {
          "output_type": "stream",
          "name": "stdout",
          "text": [
            "Training Error: \n",
            " Avg loss: 0.076762 \n",
            "\n"
          ]
        },
        {
          "output_type": "stream",
          "name": "stderr",
          "text": [
            "100%|██████████| 1/1 [00:00<00:00, 14.49it/s]\n"
          ]
        },
        {
          "output_type": "stream",
          "name": "stdout",
          "text": [
            "Validation Error: \n",
            " Avg loss: 0.076515 \n",
            "\n",
            "\n",
            "epoch 3\n",
            "-------------------------------\n",
            "Training on 448 samples...\n",
            "Batch size: 8192\n",
            "Number of batches: 1\n"
          ]
        },
        {
          "output_type": "stream",
          "name": "stderr",
          "text": [
            "100%|██████████| 1/1 [00:00<00:00,  2.28it/s]\n"
          ]
        },
        {
          "output_type": "stream",
          "name": "stdout",
          "text": [
            "Training Error: \n",
            " Avg loss: 0.071646 \n",
            "\n"
          ]
        },
        {
          "output_type": "stream",
          "name": "stderr",
          "text": [
            "100%|██████████| 1/1 [00:00<00:00, 17.19it/s]\n"
          ]
        },
        {
          "output_type": "stream",
          "name": "stdout",
          "text": [
            "Validation Error: \n",
            " Avg loss: 0.071648 \n",
            "\n",
            "\n",
            "epoch 4\n",
            "-------------------------------\n",
            "Training on 448 samples...\n",
            "Batch size: 8192\n",
            "Number of batches: 1\n"
          ]
        },
        {
          "output_type": "stream",
          "name": "stderr",
          "text": [
            "100%|██████████| 1/1 [00:00<00:00,  2.28it/s]\n"
          ]
        },
        {
          "output_type": "stream",
          "name": "stdout",
          "text": [
            "Training Error: \n",
            " Avg loss: 0.066965 \n",
            "\n"
          ]
        },
        {
          "output_type": "stream",
          "name": "stderr",
          "text": [
            "100%|██████████| 1/1 [00:00<00:00, 16.17it/s]\n"
          ]
        },
        {
          "output_type": "stream",
          "name": "stdout",
          "text": [
            "Validation Error: \n",
            " Avg loss: 0.067195 \n",
            "\n",
            "\n",
            "epoch 5\n",
            "-------------------------------\n",
            "Training on 448 samples...\n",
            "Batch size: 8192\n",
            "Number of batches: 1\n"
          ]
        },
        {
          "output_type": "stream",
          "name": "stderr",
          "text": [
            "100%|██████████| 1/1 [00:00<00:00,  2.00it/s]\n"
          ]
        },
        {
          "output_type": "stream",
          "name": "stdout",
          "text": [
            "Training Error: \n",
            " Avg loss: 0.062683 \n",
            "\n"
          ]
        },
        {
          "output_type": "stream",
          "name": "stderr",
          "text": [
            "100%|██████████| 1/1 [00:00<00:00, 13.04it/s]\n"
          ]
        },
        {
          "output_type": "stream",
          "name": "stdout",
          "text": [
            "Validation Error: \n",
            " Avg loss: 0.063121 \n",
            "\n",
            "\n",
            "epoch 6\n",
            "-------------------------------\n",
            "Training on 448 samples...\n",
            "Batch size: 8192\n",
            "Number of batches: 1\n"
          ]
        },
        {
          "output_type": "stream",
          "name": "stderr",
          "text": [
            "100%|██████████| 1/1 [00:00<00:00,  2.32it/s]\n"
          ]
        },
        {
          "output_type": "stream",
          "name": "stdout",
          "text": [
            "Training Error: \n",
            " Avg loss: 0.058764 \n",
            "\n"
          ]
        },
        {
          "output_type": "stream",
          "name": "stderr",
          "text": [
            "100%|██████████| 1/1 [00:00<00:00, 11.89it/s]\n"
          ]
        },
        {
          "output_type": "stream",
          "name": "stdout",
          "text": [
            "Validation Error: \n",
            " Avg loss: 0.059393 \n",
            "\n",
            "\n",
            "epoch 7\n",
            "-------------------------------\n",
            "Training on 448 samples...\n",
            "Batch size: 8192\n",
            "Number of batches: 1\n"
          ]
        },
        {
          "output_type": "stream",
          "name": "stderr",
          "text": [
            "100%|██████████| 1/1 [00:00<00:00,  2.30it/s]\n"
          ]
        },
        {
          "output_type": "stream",
          "name": "stdout",
          "text": [
            "Training Error: \n",
            " Avg loss: 0.055178 \n",
            "\n"
          ]
        },
        {
          "output_type": "stream",
          "name": "stderr",
          "text": [
            "100%|██████████| 1/1 [00:00<00:00, 14.65it/s]\n"
          ]
        },
        {
          "output_type": "stream",
          "name": "stdout",
          "text": [
            "Validation Error: \n",
            " Avg loss: 0.055981 \n",
            "\n",
            "\n",
            "epoch 8\n",
            "-------------------------------\n",
            "Training on 448 samples...\n",
            "Batch size: 8192\n",
            "Number of batches: 1\n"
          ]
        },
        {
          "output_type": "stream",
          "name": "stderr",
          "text": [
            "100%|██████████| 1/1 [00:00<00:00,  2.37it/s]\n"
          ]
        },
        {
          "output_type": "stream",
          "name": "stdout",
          "text": [
            "Training Error: \n",
            " Avg loss: 0.051897 \n",
            "\n"
          ]
        },
        {
          "output_type": "stream",
          "name": "stderr",
          "text": [
            "100%|██████████| 1/1 [00:00<00:00, 12.67it/s]\n"
          ]
        },
        {
          "output_type": "stream",
          "name": "stdout",
          "text": [
            "Validation Error: \n",
            " Avg loss: 0.052859 \n",
            "\n",
            "\n",
            "epoch 9\n",
            "-------------------------------\n",
            "Training on 448 samples...\n",
            "Batch size: 8192\n",
            "Number of batches: 1\n"
          ]
        },
        {
          "output_type": "stream",
          "name": "stderr",
          "text": [
            "100%|██████████| 1/1 [00:00<00:00,  2.33it/s]\n"
          ]
        },
        {
          "output_type": "stream",
          "name": "stdout",
          "text": [
            "Training Error: \n",
            " Avg loss: 0.048894 \n",
            "\n"
          ]
        },
        {
          "output_type": "stream",
          "name": "stderr",
          "text": [
            "100%|██████████| 1/1 [00:00<00:00, 16.29it/s]\n"
          ]
        },
        {
          "output_type": "stream",
          "name": "stdout",
          "text": [
            "Validation Error: \n",
            " Avg loss: 0.050002 \n",
            "\n",
            "\n",
            "epoch 10\n",
            "-------------------------------\n",
            "Training on 448 samples...\n",
            "Batch size: 8192\n",
            "Number of batches: 1\n"
          ]
        },
        {
          "output_type": "stream",
          "name": "stderr",
          "text": [
            "100%|██████████| 1/1 [00:00<00:00,  2.32it/s]\n"
          ]
        },
        {
          "output_type": "stream",
          "name": "stdout",
          "text": [
            "Training Error: \n",
            " Avg loss: 0.046146 \n",
            "\n"
          ]
        },
        {
          "output_type": "stream",
          "name": "stderr",
          "text": [
            "100%|██████████| 1/1 [00:00<00:00, 16.86it/s]\n"
          ]
        },
        {
          "output_type": "stream",
          "name": "stdout",
          "text": [
            "Validation Error: \n",
            " Avg loss: 0.047387 \n",
            "\n",
            "\n",
            "epoch 11\n",
            "-------------------------------\n",
            "Training on 448 samples...\n",
            "Batch size: 8192\n",
            "Number of batches: 1\n"
          ]
        },
        {
          "output_type": "stream",
          "name": "stderr",
          "text": [
            "100%|██████████| 1/1 [00:00<00:00,  2.39it/s]\n"
          ]
        },
        {
          "output_type": "stream",
          "name": "stdout",
          "text": [
            "Training Error: \n",
            " Avg loss: 0.043631 \n",
            "\n"
          ]
        },
        {
          "output_type": "stream",
          "name": "stderr",
          "text": [
            "100%|██████████| 1/1 [00:00<00:00, 16.88it/s]\n"
          ]
        },
        {
          "output_type": "stream",
          "name": "stdout",
          "text": [
            "Validation Error: \n",
            " Avg loss: 0.044994 \n",
            "\n",
            "\n",
            "epoch 12\n",
            "-------------------------------\n",
            "Training on 448 samples...\n",
            "Batch size: 8192\n",
            "Number of batches: 1\n"
          ]
        },
        {
          "output_type": "stream",
          "name": "stderr",
          "text": [
            "100%|██████████| 1/1 [00:00<00:00,  2.48it/s]\n"
          ]
        },
        {
          "output_type": "stream",
          "name": "stdout",
          "text": [
            "Training Error: \n",
            " Avg loss: 0.041329 \n",
            "\n"
          ]
        },
        {
          "output_type": "stream",
          "name": "stderr",
          "text": [
            "100%|██████████| 1/1 [00:00<00:00, 16.92it/s]\n"
          ]
        },
        {
          "output_type": "stream",
          "name": "stdout",
          "text": [
            "Validation Error: \n",
            " Avg loss: 0.042803 \n",
            "\n",
            "\n",
            "epoch 13\n",
            "-------------------------------\n",
            "Training on 448 samples...\n",
            "Batch size: 8192\n",
            "Number of batches: 1\n"
          ]
        },
        {
          "output_type": "stream",
          "name": "stderr",
          "text": [
            "100%|██████████| 1/1 [00:00<00:00,  2.34it/s]\n"
          ]
        },
        {
          "output_type": "stream",
          "name": "stdout",
          "text": [
            "Training Error: \n",
            " Avg loss: 0.039222 \n",
            "\n"
          ]
        },
        {
          "output_type": "stream",
          "name": "stderr",
          "text": [
            "100%|██████████| 1/1 [00:00<00:00, 16.82it/s]\n"
          ]
        },
        {
          "output_type": "stream",
          "name": "stdout",
          "text": [
            "Validation Error: \n",
            " Avg loss: 0.040797 \n",
            "\n",
            "\n",
            "epoch 14\n",
            "-------------------------------\n",
            "Training on 448 samples...\n",
            "Batch size: 8192\n",
            "Number of batches: 1\n"
          ]
        },
        {
          "output_type": "stream",
          "name": "stderr",
          "text": [
            "100%|██████████| 1/1 [00:00<00:00,  2.39it/s]\n"
          ]
        },
        {
          "output_type": "stream",
          "name": "stdout",
          "text": [
            "Training Error: \n",
            " Avg loss: 0.037294 \n",
            "\n"
          ]
        },
        {
          "output_type": "stream",
          "name": "stderr",
          "text": [
            "100%|██████████| 1/1 [00:00<00:00, 16.03it/s]\n"
          ]
        },
        {
          "output_type": "stream",
          "name": "stdout",
          "text": [
            "Validation Error: \n",
            " Avg loss: 0.038961 \n",
            "\n",
            "Done!\n"
          ]
        },
        {
          "output_type": "display_data",
          "data": {
            "text/plain": [
              "<Figure size 1000x1000 with 1 Axes>"
            ],
            "image/png": "[encoded data removed]"
          },
          "metadata": {}
        },
        {
          "output_type": "stream",
          "name": "stdout",
          "text": [
            "CPU times: user 4.37 s, sys: 1.79 s, total: 6.16 s\n",
            "Wall time: 13.7 s\n"
          ]
        }
      ],
      "source": [
        "%%time\n",
        "train_loss = 0\n",
        "validation_loss = 0\n",
        "epochs = 15\n",
        "\n",
        "# melhor usar lista e depois converter para array\n",
        "train_loss_array = list()\n",
        "validation_loss_array = list()\n",
        "for index, t in enumerate(range(epochs)):\n",
        "    current_epoch = get_current_epoch(index, t, starting_epoch)\n",
        "    print(f\"\\nepoch {current_epoch}\\n-------------------------------\")\n",
        "\n",
        "    start_time = time.time()  # Start timing the epoch\n",
        "\n",
        "    train_loss = train_loop(train_dataloader, model, loss_fn, optimizer)\n",
        "    validation_loss = validation_loop(validation_dataloader, model, loss_fn)\n",
        "    \n",
        "    train_loss_array.append(train_loss)\n",
        "    validation_loss_array.append(validation_loss)\n",
        "\n",
        "    elapsed_time = time.time() - start_time  # Calculate elapsed time for the epoch\n",
        "\n",
        "    if not EXPERIMENTAL_MODE:\n",
        "      df_path = '/content/gdrive/My Drive/TCC/code/models/SRCNN/testing/train_session_testing/SRCNN_train_vs_validation_loss.csv'\n",
        "      save_df(df_path, train_loss, validation_loss, current_epoch, elapsed_time)\n",
        "      save_epoch(current_epoch, train_loss, validation_loss)\n",
        "    \n",
        "print(\"Done!\")\n",
        "\n",
        "train_loss_array = np.array(train_loss_array)\n",
        "validation_loss_array = np.array(validation_loss_array)\n",
        "\n",
        "plt.figure(figsize=(10, 10))\n",
        "plt.plot(range(len(train_loss_array)), train_loss_array, label='train_loss')\n",
        "plt.plot(range(len(validation_loss_array)), validation_loss_array, label='validation_loss')\n",
        "plt.legend()\n",
        "plt.show()"
      ]
    },
    {
      "cell_type": "code",
      "execution_count": null,
      "metadata": {
        "id": "Xiq_sdKO0syy",
        "outputId": "905c92de-a8d3-4e4a-b545-740aa2df1be7",
        "colab": {
          "base_uri": "https://localhost:8080/",
          "height": 485
        }
      },
      "outputs": [
        {
          "output_type": "display_data",
          "data": {
            "text/plain": [
              "<Figure size 640x480 with 1 Axes>"
            ],
            "image/png": "[encoded data removed]"
          },
          "metadata": {}
        },
        {
          "output_type": "stream",
          "name": "stdout",
          "text": [
            "[0.19640797 0.18197888 0.16866396 0.15637727 0.14503939 0.13457711\n",
            " 0.12492284 0.11601419 0.10779364 0.10020804 0.09320839 0.08674943\n",
            " 0.08078941 0.07528981 0.07021508]\n"
          ]
        }
      ],
      "source": [
        "plt.figure()\n",
        "plt.plot(range(len(validation_loss_array)), validation_loss_array, label='train_loss')\n",
        "plt.legend()\n",
        "plt.show()\n",
        "print(validation_loss_array)"
      ]
    },
    {
      "cell_type": "markdown",
      "metadata": {
        "id": "HW_fGeHiKtoZ"
      },
      "source": [
        "# Train x Validation Loss\n"
      ]
    },
    {
      "cell_type": "code",
      "execution_count": null,
      "metadata": {
        "id": "IFrQLSFePLDX"
      },
      "outputs": [],
      "source": [
        "df_path = '/content/gdrive/My Drive/TCC/code/models/SRCNN/testing/train_session_4/SRCNN_train_vs_validation_loss.csv'\n",
        "\n",
        "df = pd.read_csv(df_path)"
      ]
    },
    {
      "cell_type": "code",
      "execution_count": null,
      "metadata": {
        "colab": {
          "base_uri": "https://localhost:8080/",
          "height": 206
        },
        "id": "g22taIBQQLZY",
        "outputId": "35560308-8ae8-4ed0-8d34-aa21ce5a427a"
      },
      "outputs": [
        {
          "data": {
            "text/html": [
              "\n",
              "  <div id=\"df-febfda35-2153-4b65-a7e8-17886ab12aa0\">\n",
              "    <div class=\"colab-df-container\">\n",
              "      <div>\n",
              "<style scoped>\n",
              "    .dataframe tbody tr th:only-of-type {\n",
              "        vertical-align: middle;\n",
              "    }\n",
              "\n",
              "    .dataframe tbody tr th {\n",
              "        vertical-align: top;\n",
              "    }\n",
              "\n",
              "    .dataframe thead th {\n",
              "        text-align: right;\n",
              "    }\n",
              "</style>\n",
              "<table border=\"1\" class=\"dataframe\">\n",
              "  <thead>\n",
              "    <tr style=\"text-align: right;\">\n",
              "      <th></th>\n",
              "      <th>Train Loss</th>\n",
              "      <th>Validation Loss</th>\n",
              "      <th>epoch</th>\n",
              "    </tr>\n",
              "  </thead>\n",
              "  <tbody>\n",
              "    <tr>\n",
              "      <th>0</th>\n",
              "      <td>0.216251</td>\n",
              "      <td>0.185749</td>\n",
              "      <td>0</td>\n",
              "    </tr>\n",
              "    <tr>\n",
              "      <th>1</th>\n",
              "      <td>0.214914</td>\n",
              "      <td>0.184308</td>\n",
              "      <td>1</td>\n",
              "    </tr>\n",
              "    <tr>\n",
              "      <th>2</th>\n",
              "      <td>0.212921</td>\n",
              "      <td>0.182885</td>\n",
              "      <td>2</td>\n",
              "    </tr>\n",
              "    <tr>\n",
              "      <th>3</th>\n",
              "      <td>0.211220</td>\n",
              "      <td>0.181479</td>\n",
              "      <td>3</td>\n",
              "    </tr>\n",
              "    <tr>\n",
              "      <th>4</th>\n",
              "      <td>0.209583</td>\n",
              "      <td>0.180090</td>\n",
              "      <td>4</td>\n",
              "    </tr>\n",
              "  </tbody>\n",
              "</table>\n",
              "</div>\n",
              "      <button class=\"colab-df-convert\" onclick=\"convertToInteractive('df-febfda35-2153-4b65-a7e8-17886ab12aa0')\"\n",
              "              title=\"Convert this dataframe to an interactive table.\"\n",
              "              style=\"display:none;\">\n",
              "        \n",
              "  <svg xmlns=\"http://www.w3.org/2000/svg\" height=\"24px\"viewBox=\"0 0 24 24\"\n",
              "       width=\"24px\">\n",
              "    <path d=\"M0 0h24v24H0V0z\" fill=\"none\"/>\n",
              "    <path d=\"M18.56 5.44l.94 2.06.94-2.06 2.06-.94-2.06-.94-.94-2.06-.94 2.06-2.06.94zm-11 1L8.5 8.5l.94-2.06 2.06-.94-2.06-.94L8.5 2.5l-.94 2.06-2.06.94zm10 10l.94 2.06.94-2.06 2.06-.94-2.06-.94-.94-2.06-.94 2.06-2.06.94z\"/><path d=\"M17.41 7.96l-1.37-1.37c-.4-.4-.92-.59-1.43-.59-.52 0-1.04.2-1.43.59L10.3 9.45l-7.72 7.72c-.78.78-.78 2.05 0 2.83L4 21.41c.39.39.9.59 1.41.59.51 0 1.02-.2 1.41-.59l7.78-7.78 2.81-2.81c.8-.78.8-2.07 0-2.86zM5.41 20L4 18.59l7.72-7.72 1.47 1.35L5.41 20z\"/>\n",
              "  </svg>\n",
              "      </button>\n",
              "      \n",
              "  <style>\n",
              "    .colab-df-container {\n",
              "      display:flex;\n",
              "      flex-wrap:wrap;\n",
              "      gap: 12px;\n",
              "    }\n",
              "\n",
              "    .colab-df-convert {\n",
              "      background-color: #E8F0FE;\n",
              "      border: none;\n",
              "      border-radius: 50%;\n",
              "      cursor: pointer;\n",
              "      display: none;\n",
              "      fill: #1967D2;\n",
              "      height: 32px;\n",
              "      padding: 0 0 0 0;\n",
              "      width: 32px;\n",
              "    }\n",
              "\n",
              "    .colab-df-convert:hover {\n",
              "      background-color: #E2EBFA;\n",
              "      box-shadow: 0px 1px 2px rgba(60, 64, 67, 0.3), 0px 1px 3px 1px rgba(60, 64, 67, 0.15);\n",
              "      fill: #174EA6;\n",
              "    }\n",
              "\n",
              "    [theme=dark] .colab-df-convert {\n",
              "      background-color: #3B4455;\n",
              "      fill: #D2E3FC;\n",
              "    }\n",
              "\n",
              "    [theme=dark] .colab-df-convert:hover {\n",
              "      background-color: #434B5C;\n",
              "      box-shadow: 0px 1px 3px 1px rgba(0, 0, 0, 0.15);\n",
              "      filter: drop-shadow(0px 1px 2px rgba(0, 0, 0, 0.3));\n",
              "      fill: #FFFFFF;\n",
              "    }\n",
              "  </style>\n",
              "\n",
              "      <script>\n",
              "        const buttonEl =\n",
              "          document.querySelector('#df-febfda35-2153-4b65-a7e8-17886ab12aa0 button.colab-df-convert');\n",
              "        buttonEl.style.display =\n",
              "          google.colab.kernel.accessAllowed ? 'block' : 'none';\n",
              "\n",
              "        async function convertToInteractive(key) {\n",
              "          const element = document.querySelector('#df-febfda35-2153-4b65-a7e8-17886ab12aa0');\n",
              "          const dataTable =\n",
              "            await google.colab.kernel.invokeFunction('convertToInteractive',\n",
              "                                                     [key], {});\n",
              "          if (!dataTable) return;\n",
              "\n",
              "          const docLinkHtml = 'Like what you see? Visit the ' +\n",
              "            '<a target=\"_blank\" href=https://colab.research.google.com/notebooks/data_table.ipynb>data table notebook</a>'\n",
              "            + ' to learn more about interactive tables.';\n",
              "          element.innerHTML = '';\n",
              "          dataTable['output_type'] = 'display_data';\n",
              "          await google.colab.output.renderOutput(dataTable, element);\n",
              "          const docLink = document.createElement('div');\n",
              "          docLink.innerHTML = docLinkHtml;\n",
              "          element.appendChild(docLink);\n",
              "        }\n",
              "      </script>\n",
              "    </div>\n",
              "  </div>\n",
              "  "
            ],
            "text/plain": [
              "   Train Loss  Validation Loss  epoch\n",
              "0    0.216251         0.185749      0\n",
              "1    0.214914         0.184308      1\n",
              "2    0.212921         0.182885      2\n",
              "3    0.211220         0.181479      3\n",
              "4    0.209583         0.180090      4"
            ]
          },
          "execution_count": 170,
          "metadata": {},
          "output_type": "execute_result"
        }
      ],
      "source": [
        "df.head()"
      ]
    },
    {
      "cell_type": "code",
      "execution_count": null,
      "metadata": {
        "colab": {
          "base_uri": "https://localhost:8080/",
          "height": 472
        },
        "id": "ZXl7h3QZYtCD",
        "outputId": "976bd3ce-2fed-4eb6-ba4c-f24885a75f3e"
      },
      "outputs": [
        {
          "data": {
            "image/png": "[encoded data removed]",
            "text/plain": [
              "<Figure size 640x480 with 1 Axes>"
            ]
          },
          "metadata": {},
          "output_type": "display_data"
        }
      ],
      "source": [
        "# Plotting the losses\n",
        "plt.plot(df['epoch'], df['Train Loss'], label='Train Loss')\n",
        "plt.plot(df['epoch'], df['Validation Loss'], label='Validation Loss')\n",
        "plt.xlabel('Epoch')\n",
        "plt.ylabel('Loss')\n",
        "plt.title('Train and Validation Loss')\n",
        "plt.legend()\n",
        "plt.show()"
      ]
    },
    {
      "cell_type": "markdown",
      "metadata": {
        "id": "qXsXbRisXdYg"
      },
      "source": [
        "# Tesntando o modelo em uma imagem"
      ]
    },
    {
      "cell_type": "code",
      "execution_count": null,
      "metadata": {
        "colab": {
          "base_uri": "https://localhost:8080/",
          "height": 470
        },
        "id": "OmUaVJvV5tHn",
        "outputId": "071bb2aa-177c-404c-e8d9-27f695f880e7"
      },
      "outputs": [
        {
          "name": "stderr",
          "output_type": "stream",
          "text": [
            "/tmp/ipykernel_1831459/2283112391.py:5: DeprecationWarning: LINEAR is deprecated and will be removed in Pillow 10 (2023-07-01). Use BILINEAR or Resampling.BILINEAR instead.\n",
            "  transforms.Resize((128, 128), interpolation=Image.LINEAR),\n",
            "/tmp/ipykernel_1831459/2283112391.py:7: DeprecationWarning: LINEAR is deprecated and will be removed in Pillow 10 (2023-07-01). Use BILINEAR or Resampling.BILINEAR instead.\n",
            "  transforms.Resize((256, 256), interpolation=Image.LINEAR)\n"
          ]
        },
        {
          "name": "stdout",
          "output_type": "stream",
          "text": [
            "torch.Size([3, 256, 256])\n",
            "246\n"
          ]
        },
        {
          "data": {
            "image/png": "[encoded data removed]",
            "text/plain": [
              "<Figure size 640x480 with 1 Axes>"
            ]
          },
          "metadata": {},
          "output_type": "display_data"
        }
      ],
      "source": [
        "new_image = Image.open(f\"{DATASET_ROOT}/Flickr2K/000797.png\")\n",
        "transform = transforms.Compose([\n",
        "    transforms.ToTensor(),\n",
        "    # resize image to 33x33 and downsample by BICUBIC interpolation\n",
        "    transforms.Resize((128, 128), interpolation=Image.LINEAR),\n",
        "    # resize image to 256x256\n",
        "    transforms.Resize((256, 256), interpolation=Image.LINEAR)\n",
        "])\n",
        "\n",
        "\n",
        "new_image_lr = transform(new_image)\n",
        "print(new_image_lr.shape)\n",
        "print(np.array(new_image).max())\n",
        "ImageHelperInstance.show_tensor_as_image(new_image_lr)\n"
      ]
    },
    {
      "cell_type": "code",
      "execution_count": null,
      "metadata": {
        "colab": {
          "base_uri": "https://localhost:8080/"
        },
        "id": "ERClx78l5VlZ",
        "outputId": "cb662b0d-a8ae-4188-8128-0a2b8774de59"
      },
      "outputs": [
        {
          "data": {
            "text/plain": [
              "tensor(0.9337)"
            ]
          },
          "execution_count": 52,
          "metadata": {},
          "output_type": "execute_result"
        }
      ],
      "source": [
        "new_image_lr.max()"
      ]
    },
    {
      "cell_type": "code",
      "execution_count": null,
      "metadata": {
        "id": "p44kiCZH7X0Z"
      },
      "outputs": [],
      "source": [
        "new_image_sr = model(new_image_lr.to(device))"
      ]
    },
    {
      "cell_type": "code",
      "execution_count": null,
      "metadata": {
        "colab": {
          "base_uri": "https://localhost:8080/"
        },
        "id": "ZmhNQ8B0W9lD",
        "outputId": "753fc371-ce30-46da-92ed-fc59e6b697fc"
      },
      "outputs": [
        {
          "data": {
            "text/plain": [
              "tensor(0.1006, device='cuda:0', grad_fn=<MaxBackward1>)"
            ]
          },
          "execution_count": 54,
          "metadata": {},
          "output_type": "execute_result"
        }
      ],
      "source": [
        "new_image_sr.max()"
      ]
    },
    {
      "cell_type": "code",
      "execution_count": null,
      "metadata": {
        "colab": {
          "base_uri": "https://localhost:8080/",
          "height": 435
        },
        "id": "s1TJpi297wA3",
        "outputId": "76b6f4eb-7a70-4ef6-d8c2-2d5ceea84b32"
      },
      "outputs": [
        {
          "data": {
            "image/png": "[encoded data removed]",
            "text/plain": [
              "<Figure size 640x480 with 1 Axes>"
            ]
          },
          "metadata": {},
          "output_type": "display_data"
        }
      ],
      "source": [
        "import matplotlib.pyplot as plt\n",
        "\n",
        "plt.figure()\n",
        "new_image_sr_np = new_image_sr.cpu().detach().numpy()\n",
        "new_img = torch.mul(new_image_sr, 3)\n",
        "plt.imshow(new_image_sr_np.transpose((1, 2, 0)))\n",
        "plt.show()"
      ]
    },
    {
      "cell_type": "code",
      "execution_count": null,
      "metadata": {
        "id": "H5503gQt0syy"
      },
      "outputs": [],
      "source": []
    }
  ],
  "metadata": {
    "accelerator": "GPU",
    "colab": {
      "gpuType": "T4",
      "provenance": [],
      "include_colab_link": true
    },
    "kernelspec": {
      "display_name": "Python 3",
      "name": "python3"
    },
    "language_info": {
      "codemirror_mode": {
        "name": "ipython",
        "version": 3
      },
      "file_extension": ".py",
      "mimetype": "text/x-python",
      "name": "python",
      "nbconvert_exporter": "python",
      "pygments_lexer": "ipython3",
      "version": "3.10.6"
    },
    "widgets": {
      "application/vnd.jupyter.widget-state+json": {
        "f7560d145caa483bb49f941992611675": {
          "model_module": "@jupyter-widgets/controls",
          "model_name": "VBoxModel",
          "model_module_version": "1.5.0",
          "state": {
            "_dom_classes": [],
            "_model_module": "@jupyter-widgets/controls",
            "_model_module_version": "1.5.0",
            "_model_name": "VBoxModel",
            "_view_count": null,
            "_view_module": "@jupyter-widgets/controls",
            "_view_module_version": "1.5.0",
            "_view_name": "VBoxView",
            "box_style": "",
            "children": [
              "IPY_MODEL_2edc9362ce8243f985930a39f9838a34",
              "IPY_MODEL_869cd9d91ec84f90b25c15a3b5b5c439"
            ],
            "layout": "IPY_MODEL_bb0b8bdb91e741b2bedb935e573517f2"
          }
        },
        "2edc9362ce8243f985930a39f9838a34": {
          "model_module": "@jupyter-widgets/controls",
          "model_name": "LabelModel",
          "model_module_version": "1.5.0",
          "state": {
            "_dom_classes": [],
            "_model_module": "@jupyter-widgets/controls",
            "_model_module_version": "1.5.0",
            "_model_name": "LabelModel",
            "_view_count": null,
            "_view_module": "@jupyter-widgets/controls",
            "_view_module_version": "1.5.0",
            "_view_name": "LabelView",
            "description": "",
            "description_tooltip": null,
            "layout": "IPY_MODEL_fc9843b8d0fc42f38e0f233a1ab4b5c4",
            "placeholder": "​",
            "style": "IPY_MODEL_fcb4cd9851d943d9af1b036395a8ff87",
            "value": "0.001 MB of 0.004 MB uploaded (0.000 MB deduped)\r"
          }
        },
        "869cd9d91ec84f90b25c15a3b5b5c439": {
          "model_module": "@jupyter-widgets/controls",
          "model_name": "FloatProgressModel",
          "model_module_version": "1.5.0",
          "state": {
            "_dom_classes": [],
            "_model_module": "@jupyter-widgets/controls",
            "_model_module_version": "1.5.0",
            "_model_name": "FloatProgressModel",
            "_view_count": null,
            "_view_module": "@jupyter-widgets/controls",
            "_view_module_version": "1.5.0",
            "_view_name": "ProgressView",
            "bar_style": "",
            "description": "",
            "description_tooltip": null,
            "layout": "IPY_MODEL_61ca3309e7c64fb78e8b99beabff6bf4",
            "max": 1,
            "min": 0,
            "orientation": "horizontal",
            "style": "IPY_MODEL_73210e1fa92e42969ed99840fbbd98ed",
            "value": 0.262719298245614
          }
        },
        "bb0b8bdb91e741b2bedb935e573517f2": {
          "model_module": "@jupyter-widgets/base",
          "model_name": "LayoutModel",
          "model_module_version": "1.2.0",
          "state": {
            "_model_module": "@jupyter-widgets/base",
            "_model_module_version": "1.2.0",
            "_model_name": "LayoutModel",
            "_view_count": null,
            "_view_module": "@jupyter-widgets/base",
            "_view_module_version": "1.2.0",
            "_view_name": "LayoutView",
            "align_content": null,
            "align_items": null,
            "align_self": null,
            "border": null,
            "bottom": null,
            "display": null,
            "flex": null,
            "flex_flow": null,
            "grid_area": null,
            "grid_auto_columns": null,
            "grid_auto_flow": null,
            "grid_auto_rows": null,
            "grid_column": null,
            "grid_gap": null,
            "grid_row": null,
            "grid_template_areas": null,
            "grid_template_columns": null,
            "grid_template_rows": null,
            "height": null,
            "justify_content": null,
            "justify_items": null,
            "left": null,
            "margin": null,
            "max_height": null,
            "max_width": null,
            "min_height": null,
            "min_width": null,
            "object_fit": null,
            "object_position": null,
            "order": null,
            "overflow": null,
            "overflow_x": null,
            "overflow_y": null,
            "padding": null,
            "right": null,
            "top": null,
            "visibility": null,
            "width": null
          }
        },
        "fc9843b8d0fc42f38e0f233a1ab4b5c4": {
          "model_module": "@jupyter-widgets/base",
          "model_name": "LayoutModel",
          "model_module_version": "1.2.0",
          "state": {
            "_model_module": "@jupyter-widgets/base",
            "_model_module_version": "1.2.0",
            "_model_name": "LayoutModel",
            "_view_count": null,
            "_view_module": "@jupyter-widgets/base",
            "_view_module_version": "1.2.0",
            "_view_name": "LayoutView",
            "align_content": null,
            "align_items": null,
            "align_self": null,
            "border": null,
            "bottom": null,
            "display": null,
            "flex": null,
            "flex_flow": null,
            "grid_area": null,
            "grid_auto_columns": null,
            "grid_auto_flow": null,
            "grid_auto_rows": null,
            "grid_column": null,
            "grid_gap": null,
            "grid_row": null,
            "grid_template_areas": null,
            "grid_template_columns": null,
            "grid_template_rows": null,
            "height": null,
            "justify_content": null,
            "justify_items": null,
            "left": null,
            "margin": null,
            "max_height": null,
            "max_width": null,
            "min_height": null,
            "min_width": null,
            "object_fit": null,
            "object_position": null,
            "order": null,
            "overflow": null,
            "overflow_x": null,
            "overflow_y": null,
            "padding": null,
            "right": null,
            "top": null,
            "visibility": null,
            "width": null
          }
        },
        "fcb4cd9851d943d9af1b036395a8ff87": {
          "model_module": "@jupyter-widgets/controls",
          "model_name": "DescriptionStyleModel",
          "model_module_version": "1.5.0",
          "state": {
            "_model_module": "@jupyter-widgets/controls",
            "_model_module_version": "1.5.0",
            "_model_name": "DescriptionStyleModel",
            "_view_count": null,
            "_view_module": "@jupyter-widgets/base",
            "_view_module_version": "1.2.0",
            "_view_name": "StyleView",
            "description_width": ""
          }
        },
        "61ca3309e7c64fb78e8b99beabff6bf4": {
          "model_module": "@jupyter-widgets/base",
          "model_name": "LayoutModel",
          "model_module_version": "1.2.0",
          "state": {
            "_model_module": "@jupyter-widgets/base",
            "_model_module_version": "1.2.0",
            "_model_name": "LayoutModel",
            "_view_count": null,
            "_view_module": "@jupyter-widgets/base",
            "_view_module_version": "1.2.0",
            "_view_name": "LayoutView",
            "align_content": null,
            "align_items": null,
            "align_self": null,
            "border": null,
            "bottom": null,
            "display": null,
            "flex": null,
            "flex_flow": null,
            "grid_area": null,
            "grid_auto_columns": null,
            "grid_auto_flow": null,
            "grid_auto_rows": null,
            "grid_column": null,
            "grid_gap": null,
            "grid_row": null,
            "grid_template_areas": null,
            "grid_template_columns": null,
            "grid_template_rows": null,
            "height": null,
            "justify_content": null,
            "justify_items": null,
            "left": null,
            "margin": null,
            "max_height": null,
            "max_width": null,
            "min_height": null,
            "min_width": null,
            "object_fit": null,
            "object_position": null,
            "order": null,
            "overflow": null,
            "overflow_x": null,
            "overflow_y": null,
            "padding": null,
            "right": null,
            "top": null,
            "visibility": null,
            "width": null
          }
        },
        "73210e1fa92e42969ed99840fbbd98ed": {
          "model_module": "@jupyter-widgets/controls",
          "model_name": "ProgressStyleModel",
          "model_module_version": "1.5.0",
          "state": {
            "_model_module": "@jupyter-widgets/controls",
            "_model_module_version": "1.5.0",
            "_model_name": "ProgressStyleModel",
            "_view_count": null,
            "_view_module": "@jupyter-widgets/base",
            "_view_module_version": "1.2.0",
            "_view_name": "StyleView",
            "bar_color": null,
            "description_width": ""
          }
        }
      }
    }
  },
  "nbformat": 4,
  "nbformat_minor": 0
}