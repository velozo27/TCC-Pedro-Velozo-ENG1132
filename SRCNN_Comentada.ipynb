{
 "cells": [
  {
   "cell_type": "markdown",
   "metadata": {
    "colab_type": "text",
    "id": "view-in-github"
   },
   "source": [
    "<a href=\"https://colab.research.google.com/github/velozo27/TCC-Pedro-Velozo-ENG1132/blob/change-how-image-files-are-retrieved/SRCNN_Comentada.ipynb\" target=\"_parent\"><img src=\"https://colab.research.google.com/assets/colab-badge.svg\" alt=\"Open In Colab\"/></a>"
   ]
  },
  {
   "cell_type": "markdown",
   "metadata": {
    "id": "pe7yHPgN7j3Q"
   },
   "source": [
    "## Imports e definição de Constantes"
   ]
  },
  {
   "cell_type": "code",
   "execution_count": 1,
   "metadata": {
    "colab": {
     "base_uri": "https://localhost:8080/",
     "height": 662
    },
    "id": "xMvw_GK2n18H",
    "outputId": "59b989c9-6c2f-48b4-b335-d6178372756d"
   },
   "outputs": [
    {
     "name": "stdout",
     "output_type": "stream",
     "text": [
      "Requirement already satisfied: patchify in c:\\users\\pedro\\anaconda3\\lib\\site-packages (from -r requirements.txt (line 1)) (0.2.3)\n",
      "Requirement already satisfied: torch in c:\\users\\pedro\\anaconda3\\lib\\site-packages (from -r requirements.txt (line 2)) (2.0.1+cu117)\n",
      "Requirement already satisfied: torchvision in c:\\users\\pedro\\anaconda3\\lib\\site-packages (from -r requirements.txt (line 3)) (0.15.2+cu117)\n",
      "Requirement already satisfied: pillow in c:\\users\\pedro\\anaconda3\\lib\\site-packages (from -r requirements.txt (line 4)) (9.4.0)\n",
      "Requirement already satisfied: tqdm in c:\\users\\pedro\\anaconda3\\lib\\site-packages (from -r requirements.txt (line 5)) (4.64.1)\n",
      "Requirement already satisfied: matplotlib in c:\\users\\pedro\\anaconda3\\lib\\site-packages (from -r requirements.txt (line 6)) (3.7.0)\n",
      "Requirement already satisfied: pandas==1.5.3 in c:\\users\\pedro\\anaconda3\\lib\\site-packages (from -r requirements.txt (line 7)) (1.5.3)\n",
      "Requirement already satisfied: pytz>=2020.1 in c:\\users\\pedro\\anaconda3\\lib\\site-packages (from pandas==1.5.3->-r requirements.txt (line 7)) (2022.7)\n",
      "Requirement already satisfied: numpy>=1.21.0 in c:\\users\\pedro\\anaconda3\\lib\\site-packages (from pandas==1.5.3->-r requirements.txt (line 7)) (1.23.5)\n",
      "Requirement already satisfied: python-dateutil>=2.8.1 in c:\\users\\pedro\\anaconda3\\lib\\site-packages (from pandas==1.5.3->-r requirements.txt (line 7)) (2.8.2)\n",
      "Requirement already satisfied: typing-extensions in c:\\users\\pedro\\anaconda3\\lib\\site-packages (from torch->-r requirements.txt (line 2)) (4.4.0)\n",
      "Requirement already satisfied: networkx in c:\\users\\pedro\\anaconda3\\lib\\site-packages (from torch->-r requirements.txt (line 2)) (2.8.4)\n",
      "Requirement already satisfied: filelock in c:\\users\\pedro\\anaconda3\\lib\\site-packages (from torch->-r requirements.txt (line 2)) (3.9.0)\n",
      "Requirement already satisfied: jinja2 in c:\\users\\pedro\\anaconda3\\lib\\site-packages (from torch->-r requirements.txt (line 2)) (3.1.2)\n",
      "Requirement already satisfied: sympy in c:\\users\\pedro\\anaconda3\\lib\\site-packages (from torch->-r requirements.txt (line 2)) (1.11.1)\n",
      "Requirement already satisfied: requests in c:\\users\\pedro\\anaconda3\\lib\\site-packages (from torchvision->-r requirements.txt (line 3)) (2.28.1)\n",
      "Requirement already satisfied: colorama in c:\\users\\pedro\\anaconda3\\lib\\site-packages (from tqdm->-r requirements.txt (line 5)) (0.4.6)\n",
      "Requirement already satisfied: pyparsing>=2.3.1 in c:\\users\\pedro\\anaconda3\\lib\\site-packages (from matplotlib->-r requirements.txt (line 6)) (3.0.9)\n",
      "Requirement already satisfied: kiwisolver>=1.0.1 in c:\\users\\pedro\\anaconda3\\lib\\site-packages (from matplotlib->-r requirements.txt (line 6)) (1.4.4)\n",
      "Requirement already satisfied: packaging>=20.0 in c:\\users\\pedro\\anaconda3\\lib\\site-packages (from matplotlib->-r requirements.txt (line 6)) (22.0)\n",
      "Requirement already satisfied: fonttools>=4.22.0 in c:\\users\\pedro\\anaconda3\\lib\\site-packages (from matplotlib->-r requirements.txt (line 6)) (4.25.0)\n",
      "Requirement already satisfied: contourpy>=1.0.1 in c:\\users\\pedro\\anaconda3\\lib\\site-packages (from matplotlib->-r requirements.txt (line 6)) (1.0.5)\n",
      "Requirement already satisfied: cycler>=0.10 in c:\\users\\pedro\\anaconda3\\lib\\site-packages (from matplotlib->-r requirements.txt (line 6)) (0.11.0)\n",
      "Requirement already satisfied: six>=1.5 in c:\\users\\pedro\\anaconda3\\lib\\site-packages (from python-dateutil>=2.8.1->pandas==1.5.3->-r requirements.txt (line 7)) (1.16.0)\n",
      "Requirement already satisfied: MarkupSafe>=2.0 in c:\\users\\pedro\\anaconda3\\lib\\site-packages (from jinja2->torch->-r requirements.txt (line 2)) (2.1.1)\n",
      "Requirement already satisfied: certifi>=2017.4.17 in c:\\users\\pedro\\anaconda3\\lib\\site-packages (from requests->torchvision->-r requirements.txt (line 3)) (2023.5.7)\n",
      "Requirement already satisfied: charset-normalizer<3,>=2 in c:\\users\\pedro\\anaconda3\\lib\\site-packages (from requests->torchvision->-r requirements.txt (line 3)) (2.0.4)\n",
      "Requirement already satisfied: idna<4,>=2.5 in c:\\users\\pedro\\anaconda3\\lib\\site-packages (from requests->torchvision->-r requirements.txt (line 3)) (3.4)\n",
      "Requirement already satisfied: urllib3<1.27,>=1.21.1 in c:\\users\\pedro\\anaconda3\\lib\\site-packages (from requests->torchvision->-r requirements.txt (line 3)) (1.26.14)\n",
      "Requirement already satisfied: mpmath>=0.19 in c:\\users\\pedro\\anaconda3\\lib\\site-packages (from sympy->torch->-r requirements.txt (line 2)) (1.2.1)\n"
     ]
    }
   ],
   "source": [
    "try:\n",
    "    from google.colab import files\n",
    "    from google.colab import drive\n",
    "    drive.mount(\"/content/gdrive\")\n",
    "    DATASET_ROOT=\"/content/gdrive/MyDrive/TCC/datasets\"\n",
    "    !pip install patchify\n",
    "    # wandb to log system metrics: (check CPU and GPU usage while session is runnig)\n",
    "    !pip install wandb\n",
    "    import wandb\n",
    "    wandb.init()\n",
    "    \n",
    "    import save_model_helper\n",
    "\n",
    "except ModuleNotFoundError:\n",
    "    DATASET_ROOT=\"./datasets/\"\n",
    "    # coloquei as dependencias em um arquivo separado\n",
    "    !pip install -r requirements.txt\n",
    "\n",
    "import torch\n",
    "from torch import nn\n",
    "from torch.utils.data import DataLoader, Dataset\n",
    "from torchvision import transforms\n",
    "from torchvision.io import read_image\n",
    "from PIL import Image\n",
    "from tqdm import tqdm\n",
    "import matplotlib.pyplot as plt\n",
    "import os\n",
    "import numpy as np\n",
    "from datetime import datetime\n",
    "from torchvision.datasets import ImageFolder\n",
    "from torch.utils.data import Subset\n",
    "from torchvision.transforms import Compose, ToTensor, Resize\n",
    "import pandas as pd\n",
    "import time\n",
    "import re\n",
    "from pathlib import Path\n",
    "import image_patches\n",
    "import image_helper\n",
    "import load_model_helper\n",
    "\n",
    "\n",
    "DATASET_NAME = \"Flickr2K\"\n",
    "# DATASET_NAME = \"Set14\"\n",
    "\n",
    "# Mudar aqui se for para treinar salvando os dataframes e epochs no drive\n",
    "# Se True, não pega nem salva nada no drive\n",
    "EXPERIMENTAL_MODE = True\n",
    "\n",
    "\n",
    "# Setup device-agnostic code\n",
    "device = \"cuda\" if torch.cuda.is_available() else \"cpu\"\n",
    "# garantir que é cuda\n",
    "assert device == \"cuda\"\n",
    "\n",
    "# https://stackoverflow.com/questions/65734044/kernel-appears-to-have-died-jupyter-notebook-python-matplotlib\n",
    "os.environ['KMP_DUPLICATE_LIB_OK'] = 'True'"
   ]
  },
  {
   "cell_type": "markdown",
   "metadata": {
    "id": "fSLDufnC7Lti"
   },
   "source": [
    "# Criando os patches\n",
    "\n",
    "(patches já foram criados, não precisa rodar)"
   ]
  },
  {
   "cell_type": "code",
   "execution_count": 2,
   "metadata": {
    "colab": {
     "base_uri": "https://localhost:8080/"
    },
    "id": "Pyn9yMNfigEm",
    "outputId": "d9739647-86a7-481c-b3e0-88aa71bc8e0e"
   },
   "outputs": [
    {
     "name": "stdout",
     "output_type": "stream",
     "text": [
      "CPU times: total: 0 ns\n",
      "Wall time: 0 ns\n"
     ]
    }
   ],
   "source": [
    "%time\n",
    "# otimizacao: criar patches de treino, validacao e teste de uma vez: (32, 8, 2)\n",
    "# image_patches.create_image_patches(f\"{DATASET_ROOT}/{DATASET_NAME}\", (33, 33, 3), f\"{DATASET_ROOT}/{DATASET_NAME}_train\", 32)\n",
    "# image_patches.create_image_patches(f\"{DATASET_ROOT}/{DATASET_NAME}\", (33, 33, 3), f\"{DATASET_ROOT}/{DATASET_NAME}_validation\", 8)"
   ]
  },
  {
   "cell_type": "markdown",
   "metadata": {
    "id": "iWcxQR2A7fRa"
   },
   "source": [
    "# ***SRCNN***"
   ]
  },
  {
   "cell_type": "code",
   "execution_count": 3,
   "metadata": {
    "id": "L4MgOZlln-yE"
   },
   "outputs": [],
   "source": [
    "class SRCNN(nn.Module):\n",
    "    def __init__(self, initialization=\"normal\") -> None:\n",
    "        super(SRCNN, self).__init__()\n",
    "        # 4.3 Model and Performance Trade-offs\n",
    "        # Based on the basic network settings (i.e., f1 = 9, f2 = 1, f3 = 5, n1 = 64, and n2 = 32),\n",
    "        f1 = 9\n",
    "        f2 = 1\n",
    "        f3 = 5\n",
    "#       n1 = 64\n",
    "        n1 = 3\n",
    "        n2 = 32\n",
    "\n",
    "        self.initialization = initialization\n",
    "\n",
    "        self.model = nn.Sequential(\n",
    "            # 3.1.1 Patch extraction and representation\n",
    "            nn.Conv2d(in_channels=3, out_channels=n1,\n",
    "#                       kernel_size=(f1, f1), padding=(f1-1)//2), # TODO: ver como ficar sem o padding\n",
    "                      kernel_size=(f1, f1), padding=0,),\n",
    "            nn.ReLU(),\n",
    "\n",
    "            # # 3.1.2 Non-linear mapping\n",
    "#             nn.Conv2d(in_channels=n1, out_channels=n2,\n",
    "#                       kernel_size=(f2, f2), padding=(f2-1)//2),\n",
    "#             #           kernel_size=(f2, f2), padding=0,),\n",
    "#             nn.ReLU(),\n",
    "\n",
    "#             # # 3.1.3 Reconstruction\n",
    "#             nn.Conv2d(in_channels=n2, out_channels=3,\n",
    "#                       kernel_size=(f3, f3), padding=(f3-1)//2),\n",
    "            #           kernel_size=(f3, f3), padding=0),\n",
    "        )\n",
    "\n",
    "        self._init_weights()\n",
    "\n",
    "    def _init_weights(self):\n",
    "      # The filter weights of each layer are initialized by drawing randomly \n",
    "      # from a Gaussian distribution with zero mean and standard deviation 0.001 (and 0 for biases)\n",
    "      for module in self.modules():\n",
    "        if isinstance(module, nn.Conv2d):\n",
    "          if self.initialization == \"normal\":\n",
    "            module.weight.data.normal_(mean=0.0, std=0.001)\n",
    "          elif self.initialization == \"xavier\":\n",
    "            nn.init.xavier_normal_(module.weight.data)\n",
    "          else:\n",
    "            nn.init.eye_(module.weight.data)\n",
    "\n",
    "          if module.bias is not None:\n",
    "              module.bias.data.zero_()\n",
    "\n",
    "    def print_weights(self):\n",
    "      for module in self.modules():\n",
    "       if isinstance(module, nn.Conv2d):\n",
    "          print(module.weight)\n",
    "\n",
    "    def forward(self, x: torch.Tensor):\n",
    "        x = self.model(x)\n",
    "        return x\n"
   ]
  },
  {
   "cell_type": "markdown",
   "metadata": {
    "id": "dyP-HXNn7rsb"
   },
   "source": [
    "# Loops de **Treino** e **Validação**"
   ]
  },
  {
   "cell_type": "code",
   "execution_count": 4,
   "metadata": {
    "id": "GaE_vU0YoEIX"
   },
   "outputs": [],
   "source": [
    "def train_loop(dataloader, model, loss_fn, optimizer, device=\"cuda\" if torch.cuda.is_available() else \"cpu\"):\n",
    "    size = len(dataloader.dataset)\n",
    "    num_batches = len(dataloader)\n",
    "\n",
    "    print(f\"Training on {size} samples...\")\n",
    "    print(\"Batch size:\", dataloader.batch_size)\n",
    "    print(\"Number of batches:\", num_batches)\n",
    "\n",
    "    train_loss = 0\n",
    "    for batch, (X, y) in tqdm(enumerate(dataloader), total=len(dataloader)):\n",
    "        X = X.to(device)\n",
    "        #print(\"X\", X.shape, X.get_device())\n",
    "        y = y.to(device)\n",
    "        # Compute prediction and loss\n",
    "        pred = model(X)\n",
    "        loss = loss_fn(pred, y)\n",
    "\n",
    "        train_loss += loss.item()\n",
    "\n",
    "        loss.backward()\n",
    "        optimizer.step()\n",
    "        optimizer.zero_grad()\n",
    "\n",
    "    train_loss /= num_batches\n",
    "\n",
    "    # return avg loss\n",
    "    print(f\"Training Error: \\n Avg loss: {train_loss:>8f} \\n\")\n",
    "    return train_loss\n",
    "\n",
    "# will also be used for testing (maybe)\n",
    "def validation_loop(dataloader, model, loss_fn, device=\"cuda\" if torch.cuda.is_available() else \"cpu\"):\n",
    "    size = len(dataloader.dataset)\n",
    "    num_batches = len(dataloader)\n",
    "    validation_loss = 0\n",
    "\n",
    "    with torch.no_grad(), tqdm(total=num_batches) as progress_bar:\n",
    "        for X, y in dataloader:\n",
    "            X = X.to(device)\n",
    "            y = y.to(device)\n",
    "            pred = model(X)\n",
    "            validation_loss += loss_fn(pred, y).item()\n",
    "            progress_bar.update(1)\n",
    "\n",
    "    validation_loss /= num_batches\n",
    "\n",
    "    print(f\"Validation Error: \\n Avg loss: {validation_loss:>8f} \\n\")\n",
    "    return validation_loss\n"
   ]
  },
  {
   "cell_type": "markdown",
   "metadata": {
    "id": "0tQJi20XGXAw"
   },
   "source": [
    "# CustomImageDataset"
   ]
  },
  {
   "cell_type": "code",
   "execution_count": 5,
   "metadata": {
    "id": "Icm9sIDtoTP9"
   },
   "outputs": [],
   "source": [
    "class CustomImageDataset(Dataset):\n",
    "    \"\"\"\n",
    "    A PyTorch dataset for loading a directory of images.\n",
    "\n",
    "    Args:\n",
    "        img_dir (str): The path to the directory containing the images.\n",
    "        transform (callable, optional): A function/transform that takes in an image and returns a\n",
    "            transformed version. Default: None.\n",
    "        target_transform (callable, optional): A function/transform that takes in the target and\n",
    "            transforms it. Default: None.\n",
    "    \"\"\"\n",
    "\n",
    "    def __init__(self, img_dir: str, patches_per_image = None | int, transform = None, target_transform = None, use_patches = True, device=\"cuda\" if torch.cuda.is_available() else \"cpu\" ):\n",
    "        \"\"\"\n",
    "        Initializes a new instance of the CustomImageDataset class.\n",
    "\n",
    "        Args:\n",
    "            img_dir (str): The path to the directory containing the images.\n",
    "            transform (callable, optional): A function/transform that takes in an image and returns a\n",
    "                transformed version. Default: None.\n",
    "            target_transform (callable, optional): A function/transform that takes in the target and\n",
    "                transforms it. Default: None.\n",
    "        \"\"\"\n",
    "        self.img_dir = img_dir\n",
    "        self.transform = transform\n",
    "        self.target_transform = target_transform\n",
    "        self.patches_per_image = patches_per_image\n",
    "        \n",
    "        self.file_list_tensor = self.create_tensors_from_images()\n",
    "        self.file_list_tensor.to(device)\n",
    "\n",
    "    def create_tensors_from_images(self):\n",
    "      number_of_images = self._get_number_of_images_in_folder(f\"{self.img_dir}/patches\")\n",
    "\n",
    "      # creating the empty tensor\n",
    "      image_tensors = torch.empty((number_of_images, 3, 33, 33))\n",
    "\n",
    "      current_tensor_index = 0\n",
    "\n",
    "      all_patches_dir = f\"{self.img_dir}/patches\"\n",
    "      if not os.path.exists(all_patches_dir) or not os.path.isdir(all_patches_dir):\n",
    "          return list(os.listdir(self.img_dir))\n",
    "\n",
    "      for patch_path in list(os.listdir(all_patches_dir)):\n",
    "        one_patch_full_dir = f\"{all_patches_dir}/{patch_path}\"\n",
    "        one_path_relative_dir = f\"patches/{patch_path}\"\n",
    "        \n",
    "        patches_list = list(os.listdir(one_patch_full_dir))\n",
    "        \n",
    "        for index, patch in enumerate(patches_list):\n",
    "          image_path = f\"{one_path_relative_dir}/{patch}\"\n",
    "\n",
    "          if self._check_if_image_is_not_corrupted(image_path):\n",
    "            continue\n",
    "          \n",
    "          image_as_tensor = read_image(f\"{self.img_dir}/{image_path}\")\n",
    "\n",
    "          # updating the created tensor\n",
    "          image_tensors[current_tensor_index] = image_as_tensor.float() / 255\n",
    "\n",
    "          current_tensor_index += 1\n",
    "                    \n",
    "      return image_tensors\n",
    "\n",
    "\n",
    "    def __len__(self) -> int:\n",
    "        \"\"\"\n",
    "        Returns the number of images in the dataset.\n",
    "\n",
    "        Returns:\n",
    "            The number of images in the dataset.\n",
    "        \"\"\"\n",
    "        return self._get_number_of_images_in_folder(f\"{self.img_dir}/patches\")\n",
    "\n",
    "    def __getitem__(self, idx: int) -> tuple[torch.Tensor, torch.Tensor]:\n",
    "        \"\"\"\n",
    "        Returns the image at the specified index in the dataset.\n",
    "\n",
    "        Args:\n",
    "            idx (int): The index of the image to return.\n",
    "\n",
    "        Returns:\n",
    "            A tuple containing the transformed input image and the transformed target image.\n",
    "        \"\"\"\n",
    "    \n",
    "        image = self.file_list_tensor[idx]\n",
    "        image_x = image.detach().clone()\n",
    "        image_y = image.detach().clone()\n",
    "\n",
    "        if self.transform:\n",
    "            image_x = self.transform(image_x)\n",
    "        if self.target_transform:\n",
    "            image_y = self.target_transform(image_y)\n",
    "\n",
    "        return image_x, image_y\n",
    "\n",
    "    def _get_number_of_images_in_folder(self, dir: str):\n",
    "      \"\"\"\n",
    "      Gets the total number of all the patches\n",
    "      \"\"\"\n",
    "      all_patches_dir = f\"{self.img_dir}/patches\"\n",
    "      if not os.path.exists(all_patches_dir) or not os.path.isdir(all_patches_dir):\n",
    "          return list(os.listdir(self.img_dir))\n",
    "\n",
    "      number_of_images = 0\n",
    "      for patch_path in list(os.listdir(all_patches_dir)):\n",
    "        one_patch_full_dir = f\"{all_patches_dir}/{patch_path}\"\n",
    "        one_path_relative_dir = f\"patches/{patch_path}\"\n",
    "        \n",
    "        patches_list = list(os.listdir(one_patch_full_dir))\n",
    "        \n",
    "        for index, patch in enumerate(patches_list):\n",
    "          image_path = f\"{one_path_relative_dir}/{patch}\"\n",
    "\n",
    "          if self._check_if_image_is_not_corrupted(image_path):\n",
    "            continue\n",
    "\n",
    "          number_of_images += 1\n",
    "\n",
    "      return number_of_images\n",
    "\n",
    "    def _check_if_image_is_not_corrupted(self, image_path: str) -> bool:\n",
    "      \"\"\"\n",
    "      Returns True if the file is corrupted else returns False\n",
    "      \"\"\"\n",
    "      file_size = Path(f\"{self.img_dir}/{image_path}\").stat().st_size\n",
    "\n",
    "      if file_size == 0:\n",
    "        print(f\"Error loading image file: {self.img_dir}/{image_path}. Reason: file has size 0\")\n",
    "        return True\n",
    "      \n",
    "      return False"
   ]
  },
  {
   "cell_type": "markdown",
   "metadata": {
    "id": "DNTypfIeHBLb"
   },
   "source": [
    "# Criando os ***Dataset*'s**"
   ]
  },
  {
   "cell_type": "code",
   "execution_count": 6,
   "metadata": {
    "colab": {
     "base_uri": "https://localhost:8080/"
    },
    "id": "R8R75gOzoG9K",
    "outputId": "6c252bb5-f3f6-4f83-8fe4-62171f3f939f"
   },
   "outputs": [
    {
     "name": "stdout",
     "output_type": "stream",
     "text": [
      "Training set has 84800 instances\n",
      "Validation set has 21200 instances\n",
      "CPU times: total: 8.19 s\n",
      "Wall time: 1min 37s\n"
     ]
    }
   ],
   "source": [
    "%%time\n",
    "transform_x = transforms.Compose([\n",
    "    # downscale by factor of 3 (from 33x33 to 11x11 back to 33x33)\n",
    "    # resize image to 11x11 and downsample by BICUBIC interpolation\n",
    "#     transforms.Resize((11, 11), interpolation=Image.BICUBIC),\n",
    "    # resize image to 33x33\n",
    "#     transforms.Resize((33, 33), interpolation=Image.BICUBIC)\n",
    "#     transforms.CenterCrop((33, 33))\n",
    "])\n",
    "\n",
    "transform_y = transforms.Compose([\n",
    "    ##transforms.Resize((33, 33), interpolation=Image.BICUBIC)\n",
    "    ##transforms.CenterCrop((21, 21))\n",
    "    transforms.CenterCrop((25, 25))\n",
    "#     transforms.CenterCrop((33, 33))\n",
    "])\n",
    "\n",
    "# Set up the data loaders\n",
    "train_data_set = CustomImageDataset(\n",
    "    img_dir=f\"{DATASET_ROOT}/{DATASET_NAME}_train\", transform=transform_x, target_transform=transform_y)\n",
    "validation_data_set = CustomImageDataset(\n",
    "    img_dir=f\"{DATASET_ROOT}/{DATASET_NAME}_validation\", transform=transform_x, target_transform=transform_y)\n",
    "\n",
    "# # Report split sizes\n",
    "print('Training set has {} instances'.format(len(train_data_set)))\n",
    "print('Validation set has {} instances'.format(len(validation_data_set)))"
   ]
  },
  {
   "cell_type": "code",
   "execution_count": 7,
   "metadata": {},
   "outputs": [
    {
     "name": "stdout",
     "output_type": "stream",
     "text": [
      "CPU times: total: 7.08 s\n",
      "Wall time: 9.03 s\n"
     ]
    }
   ],
   "source": [
    "%%time\n",
    "# https://towardsdatascience.com/7-tips-for-squeezing-maximum-performance-from-pytorch-ca4a40951259\n",
    "train_dataloader = DataLoader(train_data_set, batch_size=round(1.5*2**12), shuffle=True, pin_memory=True) # TODO: aumentar batch_size p/ 2^12\n",
    "validation_dataloader = DataLoader(validation_data_set, batch_size=round(1.*5*2**12), pin_memory=True)"
   ]
  },
  {
   "cell_type": "markdown",
   "metadata": {
    "id": "6qLT7bvw0syt"
   },
   "source": [
    "# Instanciando o modelo"
   ]
  },
  {
   "cell_type": "code",
   "execution_count": 8,
   "metadata": {
    "id": "h3ymUq8c0syt"
   },
   "outputs": [],
   "source": [
    "# Instancianting the model\n",
    "# Atencao: cuidado ao rodar o treino várias vezes sem resetar o modelo!\n",
    "model = SRCNN(initialization=\"normal\")\n",
    "model.to(device)\n",
    "\n",
    "# hyperparameters\n",
    "#https://stackoverflow.com/questions/48324152/pytorch-how-to-change-the-learning-rate-of-an-optimizer-at-any-given-moment-no\n",
    "lr = 1e-3"
   ]
  },
  {
   "cell_type": "code",
   "execution_count": null,
   "metadata": {},
   "outputs": [],
   "source": []
  },
  {
   "cell_type": "code",
   "execution_count": 9,
   "metadata": {
    "colab": {
     "base_uri": "https://localhost:8080/",
     "height": 379
    },
    "id": "r5UQL4CU0syt",
    "outputId": "5a846518-caa5-4848-b0f5-274c5c7d29a4"
   },
   "outputs": [
    {
     "name": "stdout",
     "output_type": "stream",
     "text": [
      "./datasets//Flickr2K_train\\patches\n",
      "./datasets//Flickr2K_train\\patches\\001808_patch\n",
      "<class 'torch.Tensor'> torch.Size([3, 33, 33]) torch.float32 tensor(0.) tensor(0.8471)\n",
      "<class 'torch.Tensor'> torch.Size([1, 3, 25, 25]) torch.float32 tensor(0., device='cuda:0') tensor(0.0154, device='cuda:0')\n"
     ]
    }
   ],
   "source": [
    "img = image_patches.get_image_patch(f\"{DATASET_ROOT}/{DATASET_NAME}_train\").float()/255\n",
    "print(type(img), img.shape, img.dtype, img.min(), img.max())\n",
    "with torch.no_grad():\n",
    "  img_out = model(img.unsqueeze(0).to(device))\n",
    "print(type(img_out), img_out.shape, img_out.dtype, img_out.min(), img_out.max())\n",
    "# plt.figure()\n",
    "# plt.subplot(1, 2, 1)\n",
    "# plt.imshow(ImageHelperInstance.tensor_as_image(img.cpu()))\n",
    "# plt.subplot(1, 2, 2)\n",
    "# plt.imshow(ImageHelperInstance.tensor_as_image(img_out.squeeze().cpu()))\n",
    "# plt.show()"
   ]
  },
  {
   "cell_type": "code",
   "execution_count": 10,
   "metadata": {},
   "outputs": [
    {
     "data": {
      "image/png": "[encoded data removed]",
      "text/plain": [
       "<Figure size 640x480 with 2 Axes>"
      ]
     },
     "metadata": {},
     "output_type": "display_data"
    }
   ],
   "source": [
    "plt.figure()\n",
    "plt.subplot(1, 2, 1)\n",
    "plt.imshow(image_helper.tensor_as_image(img.cpu()))\n",
    "plt.subplot(1, 2, 2)\n",
    "plt.imshow(image_helper.tensor_as_image(img_out.squeeze().cpu()))\n",
    "plt.show()"
   ]
  },
  {
   "cell_type": "markdown",
   "metadata": {
    "id": "gYmtoYcvHQuo"
   },
   "source": [
    "# Criando o *Optmizer* e a *loss function* (MSE)"
   ]
  },
  {
   "cell_type": "code",
   "execution_count": 11,
   "metadata": {
    "colab": {
     "base_uri": "https://localhost:8080/"
    },
    "id": "ko9NGAPAopPL",
    "outputId": "d6267c54-468f-4c0d-f5d6-f56c05c03559"
   },
   "outputs": [
    {
     "data": {
      "text/plain": [
       "MSELoss()"
      ]
     },
     "execution_count": 11,
     "metadata": {},
     "output_type": "execute_result"
    }
   ],
   "source": [
    "# otimizacao: Mudar o otimizador para Adam ou RMSProp\n",
    "#           : Usar momentum = 0.9\n",
    "#           : Usar learning maior: 1e-4?\n",
    "#           : Usar learning rate decay\n",
    "\n",
    "# 3.3 Training\n",
    "# The loss is minimized using stochastic gradient descent with the standard backpropagation\n",
    "optimizer = torch.optim.SGD(model.parameters(), lr=lr)\n",
    "# we use Mean Squared Error (MSE) as the loss function:\n",
    "loss_fn = nn.MSELoss()\n",
    "loss_fn.to(device)"
   ]
  },
  {
   "cell_type": "markdown",
   "metadata": {
    "id": "JtJiUmWDHdCe"
   },
   "source": [
    "# Exemplos de imagem de baixa e alta resolução do dataset de treino"
   ]
  },
  {
   "cell_type": "code",
   "execution_count": 26,
   "metadata": {
    "colab": {
     "base_uri": "https://localhost:8080/",
     "height": 825
    },
    "id": "X2Y9JC505Y2s",
    "outputId": "48000fad-048a-48eb-c5a4-a9456831134a"
   },
   "outputs": [
    {
     "name": "stdout",
     "output_type": "stream",
     "text": [
      "<class 'torch.Tensor'> torch.Size([6144, 3, 33, 33]) torch.float32 tensor(0.) tensor(1.)\n",
      "<class 'torch.Tensor'> torch.Size([6144, 3, 25, 25]) torch.float32 tensor(0.) tensor(1.)\n",
      "<class 'torch.Tensor'> torch.Size([6144, 3, 33, 33]) torch.float32 tensor(0.) tensor(1.)\n",
      "<class 'torch.Tensor'> torch.Size([6144, 3, 25, 25]) torch.float32 tensor(0.) tensor(1.)\n"
     ]
    },
    {
     "data": {
      "image/png": "[encoded data removed]",
      "text/plain": [
       "<Figure size 1000x1000 with 6 Axes>"
      ]
     },
     "metadata": {},
     "output_type": "display_data"
    }
   ],
   "source": [
    "# example of training image\n",
    "num_samples = 2\n",
    "fig, axes = plt.subplots(num_samples, 3, figsize=(10, 10))\n",
    "for i, (X, y) in enumerate(train_dataloader):\n",
    "    with torch.no_grad():\n",
    "        z = model.forward(X.to(device))\n",
    "    print(type(X), X.shape, X.dtype, X.min(), X.max())\n",
    "    print(type(y), y.shape, y.dtype, y.min(), y.max())\n",
    "    axes[i, 0].imshow(image_helper.tensor_as_image(X[0]))\n",
    "    axes[i, 1].imshow(image_helper.tensor_as_image(y[0]))\n",
    "    axes[i, 2].imshow(image_helper.tensor_as_image(z[0].cpu()))\n",
    "    # axes[i, 0].set_axis_off()\n",
    "    if i == num_samples - 1:\n",
    "        break\n",
    "plt.show()"
   ]
  },
  {
   "cell_type": "markdown",
   "metadata": {
    "id": "82X534YWDGTU"
   },
   "source": [
    "# Carregando o modelo"
   ]
  },
  {
   "cell_type": "markdown",
   "metadata": {
    "id": "rReOM3wbI771"
   },
   "source": [
    "## Carregando a última *epoch* executada"
   ]
  },
  {
   "cell_type": "code",
   "execution_count": 13,
   "metadata": {
    "id": "caFjmui8pGUw"
   },
   "outputs": [],
   "source": [
    "# most_recent_epoch, model_load_path_name = load_model_helper.get_most_recent_epoch(directory = '/content/gdrive/My Drive/TCC/code/models/SRCNN/testing/train_session_testing/models')\n",
    "\n",
    "# print(\"Most recent epoch:\", most_recent_epoch)\n",
    "# print(\"Model load path name:\", model_load_path_name)\n",
    "\n",
    "model_load_path_name = ''"
   ]
  },
  {
   "cell_type": "code",
   "execution_count": 14,
   "metadata": {
    "colab": {
     "base_uri": "https://localhost:8080/"
    },
    "id": "Nah4QNHgDQCO",
    "outputId": "1abba8a2-abb4-43d2-bd07-e3d8c5b3f43a"
   },
   "outputs": [],
   "source": [
    "# model = load_model_helper.load_state_dict(model, model_load_path_name)"
   ]
  },
  {
   "cell_type": "markdown",
   "metadata": {
    "id": "GystbxzZrYVl"
   },
   "source": [
    "# **Treinamento** "
   ]
  },
  {
   "cell_type": "markdown",
   "metadata": {
    "id": "ENyDrF8hKjLp"
   },
   "source": [
    "## Execução das *epochs*\n",
    "- Execução dos loops de treinamento e validação, e também salvamentos dos dados"
   ]
  },
  {
   "cell_type": "code",
   "execution_count": 15,
   "metadata": {
    "colab": {
     "base_uri": "https://localhost:8080/"
    },
    "id": "a2TYnN32M3jI",
    "outputId": "54280138-4f7d-433e-aa8e-f4ebb0bf4dc4"
   },
   "outputs": [
    {
     "name": "stdout",
     "output_type": "stream",
     "text": [
      "starting_epoch = None\n"
     ]
    }
   ],
   "source": [
    "starting_epoch = load_model_helper.get_epoch_number_from_path(model_load_path_name)\n",
    "if starting_epoch is not None:\n",
    "  starting_epoch = starting_epoch + 1 # add 1 because we are starting after the epoch we left of\n",
    "\n",
    "print('starting_epoch =', starting_epoch)"
   ]
  },
  {
   "cell_type": "code",
   "execution_count": 31,
   "metadata": {
    "scrolled": true
   },
   "outputs": [
    {
     "name": "stdout",
     "output_type": "stream",
     "text": [
      "\n",
      "epoch 0\n",
      "-------------------------------\n",
      "Training on 84800 samples...\n",
      "Batch size: 6144\n",
      "Number of batches: 14\n"
     ]
    },
    {
     "name": "stderr",
     "output_type": "stream",
     "text": [
      "100%|██████████████████████████████████████████████████████████████████████████████████| 14/14 [00:35<00:00,  2.54s/it]\n"
     ]
    },
    {
     "name": "stdout",
     "output_type": "stream",
     "text": [
      "Training Error: \n",
      " Avg loss: 0.276848 \n",
      "\n"
     ]
    },
    {
     "name": "stderr",
     "output_type": "stream",
     "text": [
      "100%|████████████████████████████████████████████████████████████████████████████████████| 2/2 [00:05<00:00,  2.79s/it]\n"
     ]
    },
    {
     "name": "stdout",
     "output_type": "stream",
     "text": [
      "Validation Error: \n",
      " Avg loss: 0.277627 \n",
      "\n",
      "\n",
      "epoch 1\n",
      "-------------------------------\n",
      "Training on 84800 samples...\n",
      "Batch size: 6144\n",
      "Number of batches: 14\n"
     ]
    },
    {
     "name": "stderr",
     "output_type": "stream",
     "text": [
      "100%|██████████████████████████████████████████████████████████████████████████████████| 14/14 [00:38<00:00,  2.72s/it]\n"
     ]
    },
    {
     "name": "stdout",
     "output_type": "stream",
     "text": [
      "Training Error: \n",
      " Avg loss: 0.272200 \n",
      "\n"
     ]
    },
    {
     "name": "stderr",
     "output_type": "stream",
     "text": [
      "100%|████████████████████████████████████████████████████████████████████████████████████| 2/2 [00:05<00:00,  2.58s/it]\n"
     ]
    },
    {
     "name": "stdout",
     "output_type": "stream",
     "text": [
      "Validation Error: \n",
      " Avg loss: 0.277627 \n",
      "\n",
      "\n",
      "epoch 2\n",
      "-------------------------------\n",
      "Training on 84800 samples...\n",
      "Batch size: 6144\n",
      "Number of batches: 14\n"
     ]
    },
    {
     "name": "stderr",
     "output_type": "stream",
     "text": [
      " 86%|██████████████████████████████████████████████████████████████████████▎           | 12/14 [00:27<00:04,  2.31s/it]\n"
     ]
    },
    {
     "ename": "KeyboardInterrupt",
     "evalue": "",
     "output_type": "error",
     "traceback": [
      "\u001b[1;31m---------------------------------------------------------------------------\u001b[0m",
      "\u001b[1;31mKeyboardInterrupt\u001b[0m                         Traceback (most recent call last)",
      "File \u001b[1;32m<timed exec>:20\u001b[0m\n",
      "Cell \u001b[1;32mIn[4], line 10\u001b[0m, in \u001b[0;36mtrain_loop\u001b[1;34m(dataloader, model, loss_fn, optimizer, device)\u001b[0m\n\u001b[0;32m      7\u001b[0m \u001b[38;5;28mprint\u001b[39m(\u001b[38;5;124m\"\u001b[39m\u001b[38;5;124mNumber of batches:\u001b[39m\u001b[38;5;124m\"\u001b[39m, num_batches)\n\u001b[0;32m      9\u001b[0m train_loss \u001b[38;5;241m=\u001b[39m \u001b[38;5;241m0\u001b[39m\n\u001b[1;32m---> 10\u001b[0m \u001b[38;5;28;01mfor\u001b[39;00m batch, (X, y) \u001b[38;5;129;01min\u001b[39;00m tqdm(\u001b[38;5;28menumerate\u001b[39m(dataloader), total\u001b[38;5;241m=\u001b[39m\u001b[38;5;28mlen\u001b[39m(dataloader)):\n\u001b[0;32m     11\u001b[0m     X \u001b[38;5;241m=\u001b[39m X\u001b[38;5;241m.\u001b[39mto(device)\n\u001b[0;32m     12\u001b[0m     \u001b[38;5;66;03m#print(\"X\", X.shape, X.get_device())\u001b[39;00m\n",
      "File \u001b[1;32m~\\anaconda3\\lib\\site-packages\\tqdm\\std.py:1195\u001b[0m, in \u001b[0;36mtqdm.__iter__\u001b[1;34m(self)\u001b[0m\n\u001b[0;32m   1192\u001b[0m time \u001b[38;5;241m=\u001b[39m \u001b[38;5;28mself\u001b[39m\u001b[38;5;241m.\u001b[39m_time\n\u001b[0;32m   1194\u001b[0m \u001b[38;5;28;01mtry\u001b[39;00m:\n\u001b[1;32m-> 1195\u001b[0m     \u001b[38;5;28;01mfor\u001b[39;00m obj \u001b[38;5;129;01min\u001b[39;00m iterable:\n\u001b[0;32m   1196\u001b[0m         \u001b[38;5;28;01myield\u001b[39;00m obj\n\u001b[0;32m   1197\u001b[0m         \u001b[38;5;66;03m# Update and possibly print the progressbar.\u001b[39;00m\n\u001b[0;32m   1198\u001b[0m         \u001b[38;5;66;03m# Note: does not call self.update(1) for speed optimisation.\u001b[39;00m\n",
      "File \u001b[1;32m~\\anaconda3\\lib\\site-packages\\torch\\utils\\data\\dataloader.py:633\u001b[0m, in \u001b[0;36m_BaseDataLoaderIter.__next__\u001b[1;34m(self)\u001b[0m\n\u001b[0;32m    630\u001b[0m \u001b[38;5;28;01mif\u001b[39;00m \u001b[38;5;28mself\u001b[39m\u001b[38;5;241m.\u001b[39m_sampler_iter \u001b[38;5;129;01mis\u001b[39;00m \u001b[38;5;28;01mNone\u001b[39;00m:\n\u001b[0;32m    631\u001b[0m     \u001b[38;5;66;03m# TODO(https://github.com/pytorch/pytorch/issues/76750)\u001b[39;00m\n\u001b[0;32m    632\u001b[0m     \u001b[38;5;28mself\u001b[39m\u001b[38;5;241m.\u001b[39m_reset()  \u001b[38;5;66;03m# type: ignore[call-arg]\u001b[39;00m\n\u001b[1;32m--> 633\u001b[0m data \u001b[38;5;241m=\u001b[39m \u001b[38;5;28;43mself\u001b[39;49m\u001b[38;5;241;43m.\u001b[39;49m\u001b[43m_next_data\u001b[49m\u001b[43m(\u001b[49m\u001b[43m)\u001b[49m\n\u001b[0;32m    634\u001b[0m \u001b[38;5;28mself\u001b[39m\u001b[38;5;241m.\u001b[39m_num_yielded \u001b[38;5;241m+\u001b[39m\u001b[38;5;241m=\u001b[39m \u001b[38;5;241m1\u001b[39m\n\u001b[0;32m    635\u001b[0m \u001b[38;5;28;01mif\u001b[39;00m \u001b[38;5;28mself\u001b[39m\u001b[38;5;241m.\u001b[39m_dataset_kind \u001b[38;5;241m==\u001b[39m _DatasetKind\u001b[38;5;241m.\u001b[39mIterable \u001b[38;5;129;01mand\u001b[39;00m \\\n\u001b[0;32m    636\u001b[0m         \u001b[38;5;28mself\u001b[39m\u001b[38;5;241m.\u001b[39m_IterableDataset_len_called \u001b[38;5;129;01mis\u001b[39;00m \u001b[38;5;129;01mnot\u001b[39;00m \u001b[38;5;28;01mNone\u001b[39;00m \u001b[38;5;129;01mand\u001b[39;00m \\\n\u001b[0;32m    637\u001b[0m         \u001b[38;5;28mself\u001b[39m\u001b[38;5;241m.\u001b[39m_num_yielded \u001b[38;5;241m>\u001b[39m \u001b[38;5;28mself\u001b[39m\u001b[38;5;241m.\u001b[39m_IterableDataset_len_called:\n",
      "File \u001b[1;32m~\\anaconda3\\lib\\site-packages\\torch\\utils\\data\\dataloader.py:677\u001b[0m, in \u001b[0;36m_SingleProcessDataLoaderIter._next_data\u001b[1;34m(self)\u001b[0m\n\u001b[0;32m    675\u001b[0m \u001b[38;5;28;01mdef\u001b[39;00m \u001b[38;5;21m_next_data\u001b[39m(\u001b[38;5;28mself\u001b[39m):\n\u001b[0;32m    676\u001b[0m     index \u001b[38;5;241m=\u001b[39m \u001b[38;5;28mself\u001b[39m\u001b[38;5;241m.\u001b[39m_next_index()  \u001b[38;5;66;03m# may raise StopIteration\u001b[39;00m\n\u001b[1;32m--> 677\u001b[0m     data \u001b[38;5;241m=\u001b[39m \u001b[38;5;28;43mself\u001b[39;49m\u001b[38;5;241;43m.\u001b[39;49m\u001b[43m_dataset_fetcher\u001b[49m\u001b[38;5;241;43m.\u001b[39;49m\u001b[43mfetch\u001b[49m\u001b[43m(\u001b[49m\u001b[43mindex\u001b[49m\u001b[43m)\u001b[49m  \u001b[38;5;66;03m# may raise StopIteration\u001b[39;00m\n\u001b[0;32m    678\u001b[0m     \u001b[38;5;28;01mif\u001b[39;00m \u001b[38;5;28mself\u001b[39m\u001b[38;5;241m.\u001b[39m_pin_memory:\n\u001b[0;32m    679\u001b[0m         data \u001b[38;5;241m=\u001b[39m _utils\u001b[38;5;241m.\u001b[39mpin_memory\u001b[38;5;241m.\u001b[39mpin_memory(data, \u001b[38;5;28mself\u001b[39m\u001b[38;5;241m.\u001b[39m_pin_memory_device)\n",
      "File \u001b[1;32m~\\anaconda3\\lib\\site-packages\\torch\\utils\\data\\_utils\\fetch.py:51\u001b[0m, in \u001b[0;36m_MapDatasetFetcher.fetch\u001b[1;34m(self, possibly_batched_index)\u001b[0m\n\u001b[0;32m     49\u001b[0m         data \u001b[38;5;241m=\u001b[39m \u001b[38;5;28mself\u001b[39m\u001b[38;5;241m.\u001b[39mdataset\u001b[38;5;241m.\u001b[39m__getitems__(possibly_batched_index)\n\u001b[0;32m     50\u001b[0m     \u001b[38;5;28;01melse\u001b[39;00m:\n\u001b[1;32m---> 51\u001b[0m         data \u001b[38;5;241m=\u001b[39m [\u001b[38;5;28mself\u001b[39m\u001b[38;5;241m.\u001b[39mdataset[idx] \u001b[38;5;28;01mfor\u001b[39;00m idx \u001b[38;5;129;01min\u001b[39;00m possibly_batched_index]\n\u001b[0;32m     52\u001b[0m \u001b[38;5;28;01melse\u001b[39;00m:\n\u001b[0;32m     53\u001b[0m     data \u001b[38;5;241m=\u001b[39m \u001b[38;5;28mself\u001b[39m\u001b[38;5;241m.\u001b[39mdataset[possibly_batched_index]\n",
      "File \u001b[1;32m~\\anaconda3\\lib\\site-packages\\torch\\utils\\data\\_utils\\fetch.py:51\u001b[0m, in \u001b[0;36m<listcomp>\u001b[1;34m(.0)\u001b[0m\n\u001b[0;32m     49\u001b[0m         data \u001b[38;5;241m=\u001b[39m \u001b[38;5;28mself\u001b[39m\u001b[38;5;241m.\u001b[39mdataset\u001b[38;5;241m.\u001b[39m__getitems__(possibly_batched_index)\n\u001b[0;32m     50\u001b[0m     \u001b[38;5;28;01melse\u001b[39;00m:\n\u001b[1;32m---> 51\u001b[0m         data \u001b[38;5;241m=\u001b[39m [\u001b[38;5;28;43mself\u001b[39;49m\u001b[38;5;241;43m.\u001b[39;49m\u001b[43mdataset\u001b[49m\u001b[43m[\u001b[49m\u001b[43midx\u001b[49m\u001b[43m]\u001b[49m \u001b[38;5;28;01mfor\u001b[39;00m idx \u001b[38;5;129;01min\u001b[39;00m possibly_batched_index]\n\u001b[0;32m     52\u001b[0m \u001b[38;5;28;01melse\u001b[39;00m:\n\u001b[0;32m     53\u001b[0m     data \u001b[38;5;241m=\u001b[39m \u001b[38;5;28mself\u001b[39m\u001b[38;5;241m.\u001b[39mdataset[possibly_batched_index]\n",
      "Cell \u001b[1;32mIn[5], line 87\u001b[0m, in \u001b[0;36mCustomImageDataset.__getitem__\u001b[1;34m(self, idx)\u001b[0m\n\u001b[0;32m     76\u001b[0m \u001b[38;5;124;03m\"\"\"\u001b[39;00m\n\u001b[0;32m     77\u001b[0m \u001b[38;5;124;03mReturns the image at the specified index in the dataset.\u001b[39;00m\n\u001b[0;32m     78\u001b[0m \n\u001b[1;32m   (...)\u001b[0m\n\u001b[0;32m     83\u001b[0m \u001b[38;5;124;03m    A tuple containing the transformed input image and the transformed target image.\u001b[39;00m\n\u001b[0;32m     84\u001b[0m \u001b[38;5;124;03m\"\"\"\u001b[39;00m\n\u001b[0;32m     86\u001b[0m image \u001b[38;5;241m=\u001b[39m \u001b[38;5;28mself\u001b[39m\u001b[38;5;241m.\u001b[39mfile_list_tensor[idx]\n\u001b[1;32m---> 87\u001b[0m image_x \u001b[38;5;241m=\u001b[39m \u001b[43mimage\u001b[49m\u001b[38;5;241;43m.\u001b[39;49m\u001b[43mdetach\u001b[49m\u001b[43m(\u001b[49m\u001b[43m)\u001b[49m\u001b[38;5;241;43m.\u001b[39;49m\u001b[43mclone\u001b[49m\u001b[43m(\u001b[49m\u001b[43m)\u001b[49m\n\u001b[0;32m     88\u001b[0m image_y \u001b[38;5;241m=\u001b[39m image\u001b[38;5;241m.\u001b[39mdetach()\u001b[38;5;241m.\u001b[39mclone()\n\u001b[0;32m     90\u001b[0m \u001b[38;5;28;01mif\u001b[39;00m \u001b[38;5;28mself\u001b[39m\u001b[38;5;241m.\u001b[39mtransform:\n",
      "\u001b[1;31mKeyboardInterrupt\u001b[0m: "
     ]
    }
   ],
   "source": [
    "%%time\n",
    "train_loss = 0\n",
    "validation_loss = 0\n",
    "epochs = 3\n",
    "\n",
    "######\n",
    "epoch_array = []\n",
    "time_array = []\n",
    "######\n",
    "\n",
    "# melhor usar lista e depois converter para array\n",
    "train_loss_array = list()\n",
    "validation_loss_array = list()\n",
    "for index, t in enumerate(range(epochs)):\n",
    "    current_epoch = load_model_helper.get_current_epoch(index, t, starting_epoch)\n",
    "    \n",
    "    print(f\"\\nepoch {current_epoch}\\n-------------------------------\")\n",
    "\n",
    "    start_time = time.time()  # Start timing the epoch\n",
    "\n",
    "    train_loss = train_loop(train_dataloader, model, loss_fn, optimizer)\n",
    "    validation_loss = validation_loop(validation_dataloader, model, loss_fn)\n",
    "    \n",
    "    train_loss_array.append(train_loss)\n",
    "    validation_loss_array.append(validation_loss)\n",
    "\n",
    "    elapsed_time = time.time() - start_time  # Calculate elapsed time for the epoch\n",
    "    \n",
    "    ######\n",
    "    epoch_array.append(current_epoch)\n",
    "    time_array.append(elapsed_time)\n",
    "    ######\n",
    "    \n",
    "    # updating learning rate\n",
    "    if current_epoch % 10 == 0 and current_epoch > 0:\n",
    "        optimizer.param_groups[0]['lr'] /= 2\n",
    "\n",
    "    if not EXPERIMENTAL_MODE:\n",
    "      df_path = '/content/gdrive/My Drive/TCC/code/models/SRCNN/testing/train_session_testing/SRCNN_train_vs_validation_loss.csv'\n",
    "      save_model_helper.save_df(df_path, train_loss, validation_loss, current_epoch, elapsed_time)\n",
    "      save_model_helper.save_epoch(current_epoch, train_loss, validation_loss)\n",
    "    \n",
    "print(\"Done!\")"
   ]
  },
  {
   "cell_type": "markdown",
   "metadata": {},
   "source": [
    "# Train x Validation Loss"
   ]
  },
  {
   "cell_type": "code",
   "execution_count": 23,
   "metadata": {},
   "outputs": [
    {
     "data": {
      "image/png": "[encoded data removed]",
      "text/plain": [
       "<Figure size 1000x1000 with 1 Axes>"
      ]
     },
     "metadata": {},
     "output_type": "display_data"
    }
   ],
   "source": [
    "train_loss_array = np.array(train_loss_array)\n",
    "validation_loss_array = np.array(validation_loss_array)\n",
    "\n",
    "plt.figure(figsize=(10, 10))\n",
    "plt.plot(range(len(train_loss_array)), train_loss_array, label='train_loss')\n",
    "plt.plot(range(len(validation_loss_array)), validation_loss_array, label='validation_loss')\n",
    "plt.xlabel('Epoch')\n",
    "plt.ylabel('Loss')\n",
    "plt.title('Train and Validation Loss')\n",
    "plt.legend()\n",
    "plt.show()"
   ]
  },
  {
   "cell_type": "code",
   "execution_count": 24,
   "metadata": {},
   "outputs": [
    {
     "data": {
      "text/html": [
       "<div>\n",
       "<style scoped>\n",
       "    .dataframe tbody tr th:only-of-type {\n",
       "        vertical-align: middle;\n",
       "    }\n",
       "\n",
       "    .dataframe tbody tr th {\n",
       "        vertical-align: top;\n",
       "    }\n",
       "\n",
       "    .dataframe thead th {\n",
       "        text-align: right;\n",
       "    }\n",
       "</style>\n",
       "<table border=\"1\" class=\"dataframe\">\n",
       "  <thead>\n",
       "    <tr style=\"text-align: right;\">\n",
       "      <th></th>\n",
       "      <th>Train Loss</th>\n",
       "      <th>Validation Loss</th>\n",
       "      <th>epoch</th>\n",
       "      <th>epoch_duration [s]</th>\n",
       "    </tr>\n",
       "  </thead>\n",
       "  <tbody>\n",
       "    <tr>\n",
       "      <th>0</th>\n",
       "      <td>0.031057</td>\n",
       "      <td>0.026676</td>\n",
       "      <td>0</td>\n",
       "      <td>146.810052</td>\n",
       "    </tr>\n",
       "    <tr>\n",
       "      <th>1</th>\n",
       "      <td>0.023192</td>\n",
       "      <td>0.020874</td>\n",
       "      <td>1</td>\n",
       "      <td>85.369764</td>\n",
       "    </tr>\n",
       "    <tr>\n",
       "      <th>2</th>\n",
       "      <td>0.018801</td>\n",
       "      <td>0.017609</td>\n",
       "      <td>2</td>\n",
       "      <td>75.936691</td>\n",
       "    </tr>\n",
       "    <tr>\n",
       "      <th>3</th>\n",
       "      <td>0.016317</td>\n",
       "      <td>0.015749</td>\n",
       "      <td>3</td>\n",
       "      <td>128.029501</td>\n",
       "    </tr>\n",
       "    <tr>\n",
       "      <th>4</th>\n",
       "      <td>0.014885</td>\n",
       "      <td>0.014668</td>\n",
       "      <td>4</td>\n",
       "      <td>240.299758</td>\n",
       "    </tr>\n",
       "  </tbody>\n",
       "</table>\n",
       "</div>"
      ],
      "text/plain": [
       "   Train Loss  Validation Loss  epoch  epoch_duration [s]\n",
       "0    0.031057         0.026676      0          146.810052\n",
       "1    0.023192         0.020874      1           85.369764\n",
       "2    0.018801         0.017609      2           75.936691\n",
       "3    0.016317         0.015749      3          128.029501\n",
       "4    0.014885         0.014668      4          240.299758"
      ]
     },
     "execution_count": 24,
     "metadata": {},
     "output_type": "execute_result"
    }
   ],
   "source": [
    "df = pd.DataFrame({'Train Loss': train_loss_array, 'Validation Loss': validation_loss_array, 'epoch': epoch_array, 'epoch_duration [s]': time_array})\n",
    "df.head()"
   ]
  },
  {
   "cell_type": "code",
   "execution_count": 54,
   "metadata": {},
   "outputs": [
    {
     "data": {
      "text/html": [
       "<div>\n",
       "<style scoped>\n",
       "    .dataframe tbody tr th:only-of-type {\n",
       "        vertical-align: middle;\n",
       "    }\n",
       "\n",
       "    .dataframe tbody tr th {\n",
       "        vertical-align: top;\n",
       "    }\n",
       "\n",
       "    .dataframe thead th {\n",
       "        text-align: right;\n",
       "    }\n",
       "</style>\n",
       "<table border=\"1\" class=\"dataframe\">\n",
       "  <thead>\n",
       "    <tr style=\"text-align: right;\">\n",
       "      <th></th>\n",
       "      <th>Train Loss</th>\n",
       "      <th>Validation Loss</th>\n",
       "      <th>epoch</th>\n",
       "      <th>epoch_duration [s]</th>\n",
       "    </tr>\n",
       "  </thead>\n",
       "  <tbody>\n",
       "    <tr>\n",
       "      <th>0</th>\n",
       "      <td>0.098210</td>\n",
       "      <td>0.075887</td>\n",
       "      <td>0</td>\n",
       "      <td>90.363876</td>\n",
       "    </tr>\n",
       "    <tr>\n",
       "      <th>1</th>\n",
       "      <td>0.060520</td>\n",
       "      <td>0.048254</td>\n",
       "      <td>1</td>\n",
       "      <td>93.614718</td>\n",
       "    </tr>\n",
       "    <tr>\n",
       "      <th>2</th>\n",
       "      <td>0.039617</td>\n",
       "      <td>0.032927</td>\n",
       "      <td>2</td>\n",
       "      <td>93.716439</td>\n",
       "    </tr>\n",
       "    <tr>\n",
       "      <th>3</th>\n",
       "      <td>0.028013</td>\n",
       "      <td>0.024402</td>\n",
       "      <td>3</td>\n",
       "      <td>67.490390</td>\n",
       "    </tr>\n",
       "    <tr>\n",
       "      <th>4</th>\n",
       "      <td>0.021542</td>\n",
       "      <td>0.019637</td>\n",
       "      <td>4</td>\n",
       "      <td>69.072732</td>\n",
       "    </tr>\n",
       "  </tbody>\n",
       "</table>\n",
       "</div>"
      ],
      "text/plain": [
       "   Train Loss  Validation Loss  epoch  epoch_duration [s]\n",
       "0    0.098210         0.075887      0           90.363876\n",
       "1    0.060520         0.048254      1           93.614718\n",
       "2    0.039617         0.032927      2           93.716439\n",
       "3    0.028013         0.024402      3           67.490390\n",
       "4    0.021542         0.019637      4           69.072732"
      ]
     },
     "execution_count": 54,
     "metadata": {},
     "output_type": "execute_result"
    }
   ],
   "source": [
    "df"
   ]
  },
  {
   "cell_type": "markdown",
   "metadata": {
    "id": "qXsXbRisXdYg"
   },
   "source": [
    "# Tesntando o modelo em uma imagem"
   ]
  },
  {
   "cell_type": "code",
   "execution_count": null,
   "metadata": {
    "colab": {
     "base_uri": "https://localhost:8080/",
     "height": 470
    },
    "id": "OmUaVJvV5tHn",
    "outputId": "071bb2aa-177c-404c-e8d9-27f695f880e7"
   },
   "outputs": [],
   "source": [
    "new_image = Image.open(f\"{DATASET_ROOT}/Flickr2K/000797.png\")\n",
    "transform = transforms.Compose([\n",
    "    transforms.ToTensor(),\n",
    "    # resize image to 33x33 and downsample by BICUBIC interpolation\n",
    "    transforms.Resize((128, 128), interpolation=Image.LINEAR),\n",
    "    # resize image to 256x256\n",
    "    transforms.Resize((256, 256), interpolation=Image.LINEAR)\n",
    "])\n",
    "\n",
    "\n",
    "new_image_lr = transform(new_image)\n",
    "print(new_image_lr.shape)\n",
    "print(np.array(new_image).max())\n",
    "image_helper.show_tensor_as_image(new_image_lr) # mudar pro arquivo novo\n"
   ]
  },
  {
   "cell_type": "code",
   "execution_count": null,
   "metadata": {
    "colab": {
     "base_uri": "https://localhost:8080/",
     "height": 435
    },
    "id": "s1TJpi297wA3",
    "outputId": "76b6f4eb-7a70-4ef6-d8c2-2d5ceea84b32"
   },
   "outputs": [],
   "source": [
    "import matplotlib.pyplot as plt\n",
    "\n",
    "plt.figure()\n",
    "new_image_sr_np = new_image_sr.cpu().detach().numpy()\n",
    "new_img = torch.mul(new_image_sr, 3)\n",
    "plt.imshow(new_image_sr_np.transpose((1, 2, 0)))\n",
    "plt.show()"
   ]
  },
  {
   "cell_type": "code",
   "execution_count": null,
   "metadata": {
    "id": "H5503gQt0syy"
   },
   "outputs": [],
   "source": []
  },
  {
   "cell_type": "code",
   "execution_count": null,
   "metadata": {},
   "outputs": [],
   "source": []
  },
  {
   "cell_type": "code",
   "execution_count": null,
   "metadata": {},
   "outputs": [],
   "source": []
  },
  {
   "cell_type": "code",
   "execution_count": null,
   "metadata": {},
   "outputs": [],
   "source": []
  },
  {
   "cell_type": "code",
   "execution_count": null,
   "metadata": {},
   "outputs": [],
   "source": []
  },
  {
   "cell_type": "code",
   "execution_count": null,
   "metadata": {},
   "outputs": [],
   "source": []
  },
  {
   "cell_type": "code",
   "execution_count": null,
   "metadata": {},
   "outputs": [],
   "source": []
  },
  {
   "cell_type": "code",
   "execution_count": null,
   "metadata": {},
   "outputs": [],
   "source": []
  },
  {
   "cell_type": "code",
   "execution_count": null,
   "metadata": {},
   "outputs": [],
   "source": []
  },
  {
   "cell_type": "code",
   "execution_count": null,
   "metadata": {},
   "outputs": [],
   "source": []
  },
  {
   "cell_type": "code",
   "execution_count": null,
   "metadata": {},
   "outputs": [],
   "source": []
  },
  {
   "cell_type": "code",
   "execution_count": null,
   "metadata": {},
   "outputs": [],
   "source": []
  },
  {
   "cell_type": "code",
   "execution_count": null,
   "metadata": {},
   "outputs": [],
   "source": []
  },
  {
   "cell_type": "code",
   "execution_count": null,
   "metadata": {},
   "outputs": [],
   "source": []
  },
  {
   "cell_type": "code",
   "execution_count": null,
   "metadata": {},
   "outputs": [],
   "source": []
  },
  {
   "cell_type": "code",
   "execution_count": null,
   "metadata": {},
   "outputs": [],
   "source": []
  },
  {
   "cell_type": "code",
   "execution_count": null,
   "metadata": {},
   "outputs": [],
   "source": []
  },
  {
   "cell_type": "code",
   "execution_count": null,
   "metadata": {},
   "outputs": [],
   "source": []
  },
  {
   "cell_type": "code",
   "execution_count": null,
   "metadata": {},
   "outputs": [],
   "source": []
  },
  {
   "cell_type": "code",
   "execution_count": null,
   "metadata": {},
   "outputs": [],
   "source": []
  },
  {
   "cell_type": "code",
   "execution_count": null,
   "metadata": {},
   "outputs": [],
   "source": []
  },
  {
   "cell_type": "code",
   "execution_count": null,
   "metadata": {},
   "outputs": [],
   "source": []
  },
  {
   "cell_type": "code",
   "execution_count": null,
   "metadata": {},
   "outputs": [],
   "source": []
  },
  {
   "cell_type": "code",
   "execution_count": null,
   "metadata": {},
   "outputs": [],
   "source": []
  },
  {
   "cell_type": "code",
   "execution_count": null,
   "metadata": {},
   "outputs": [],
   "source": []
  },
  {
   "cell_type": "code",
   "execution_count": null,
   "metadata": {},
   "outputs": [],
   "source": []
  },
  {
   "cell_type": "code",
   "execution_count": null,
   "metadata": {},
   "outputs": [],
   "source": []
  },
  {
   "cell_type": "code",
   "execution_count": null,
   "metadata": {},
   "outputs": [],
   "source": []
  },
  {
   "cell_type": "code",
   "execution_count": null,
   "metadata": {},
   "outputs": [],
   "source": []
  },
  {
   "cell_type": "code",
   "execution_count": null,
   "metadata": {},
   "outputs": [],
   "source": []
  },
  {
   "cell_type": "code",
   "execution_count": null,
   "metadata": {},
   "outputs": [],
   "source": []
  },
  {
   "cell_type": "code",
   "execution_count": null,
   "metadata": {},
   "outputs": [],
   "source": []
  },
  {
   "cell_type": "code",
   "execution_count": null,
   "metadata": {},
   "outputs": [],
   "source": []
  },
  {
   "cell_type": "code",
   "execution_count": null,
   "metadata": {},
   "outputs": [],
   "source": []
  },
  {
   "cell_type": "code",
   "execution_count": null,
   "metadata": {},
   "outputs": [],
   "source": []
  },
  {
   "cell_type": "code",
   "execution_count": null,
   "metadata": {},
   "outputs": [],
   "source": [
    "\n"
   ]
  }
 ],
 "metadata": {
  "accelerator": "GPU",
  "colab": {
   "gpuType": "T4",
   "include_colab_link": true,
   "provenance": []
  },
  "kernelspec": {
   "display_name": "Python 3 (ipykernel)",
   "language": "python",
   "name": "python3"
  },
  "language_info": {
   "codemirror_mode": {
    "name": "ipython",
    "version": 3
   },
   "file_extension": ".py",
   "mimetype": "text/x-python",
   "name": "python",
   "nbconvert_exporter": "python",
   "pygments_lexer": "ipython3",
   "version": "3.10.9"
  }
 },
 "nbformat": 4,
 "nbformat_minor": 4
}
