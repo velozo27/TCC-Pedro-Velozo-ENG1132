{
 "cells": [
  {
   "cell_type": "markdown",
   "metadata": {
    "colab_type": "text",
    "id": "view-in-github"
   },
   "source": [
    "<a href=\"https://colab.research.google.com/github/velozo27/TCC-Pedro-Velozo-ENG1132/blob/change-how-image-files-are-retrieved/SRCNN_Comentada.ipynb\" target=\"_parent\"><img src=\"https://colab.research.google.com/assets/colab-badge.svg\" alt=\"Open In Colab\"/></a>"
   ]
  },
  {
   "cell_type": "markdown",
   "metadata": {
    "id": "pe7yHPgN7j3Q"
   },
   "source": [
    "## Imports e definição de Constantes"
   ]
  },
  {
   "cell_type": "code",
   "execution_count": 1,
   "metadata": {
    "colab": {
     "base_uri": "https://localhost:8080/",
     "height": 662
    },
    "id": "xMvw_GK2n18H",
    "outputId": "59b989c9-6c2f-48b4-b335-d6178372756d"
   },
   "outputs": [
    {
     "name": "stdout",
     "output_type": "stream",
     "text": [
      "Requirement already satisfied: patchify in c:\\users\\pedro\\anaconda3\\lib\\site-packages (from -r requirements.txt (line 1)) (0.2.3)\n",
      "Requirement already satisfied: torch in c:\\users\\pedro\\anaconda3\\lib\\site-packages (from -r requirements.txt (line 2)) (2.0.1+cu117)\n",
      "Requirement already satisfied: torchvision in c:\\users\\pedro\\anaconda3\\lib\\site-packages (from -r requirements.txt (line 3)) (0.15.2+cu117)\n",
      "Requirement already satisfied: pillow in c:\\users\\pedro\\anaconda3\\lib\\site-packages (from -r requirements.txt (line 4)) (9.4.0)\n",
      "Requirement already satisfied: tqdm in c:\\users\\pedro\\anaconda3\\lib\\site-packages (from -r requirements.txt (line 5)) (4.64.1)\n",
      "Requirement already satisfied: matplotlib in c:\\users\\pedro\\anaconda3\\lib\\site-packages (from -r requirements.txt (line 6)) (3.7.0)\n",
      "Requirement already satisfied: pandas==1.5.3 in c:\\users\\pedro\\anaconda3\\lib\\site-packages (from -r requirements.txt (line 7)) (1.5.3)\n",
      "Requirement already satisfied: numpy>=1.21.0 in c:\\users\\pedro\\anaconda3\\lib\\site-packages (from pandas==1.5.3->-r requirements.txt (line 7)) (1.23.5)\n",
      "Requirement already satisfied: pytz>=2020.1 in c:\\users\\pedro\\anaconda3\\lib\\site-packages (from pandas==1.5.3->-r requirements.txt (line 7)) (2022.7)\n",
      "Requirement already satisfied: python-dateutil>=2.8.1 in c:\\users\\pedro\\anaconda3\\lib\\site-packages (from pandas==1.5.3->-r requirements.txt (line 7)) (2.8.2)\n",
      "Requirement already satisfied: filelock in c:\\users\\pedro\\anaconda3\\lib\\site-packages (from torch->-r requirements.txt (line 2)) (3.9.0)\n",
      "Requirement already satisfied: networkx in c:\\users\\pedro\\anaconda3\\lib\\site-packages (from torch->-r requirements.txt (line 2)) (2.8.4)\n",
      "Requirement already satisfied: typing-extensions in c:\\users\\pedro\\anaconda3\\lib\\site-packages (from torch->-r requirements.txt (line 2)) (4.4.0)\n",
      "Requirement already satisfied: sympy in c:\\users\\pedro\\anaconda3\\lib\\site-packages (from torch->-r requirements.txt (line 2)) (1.11.1)\n",
      "Requirement already satisfied: jinja2 in c:\\users\\pedro\\anaconda3\\lib\\site-packages (from torch->-r requirements.txt (line 2)) (3.1.2)\n",
      "Requirement already satisfied: requests in c:\\users\\pedro\\anaconda3\\lib\\site-packages (from torchvision->-r requirements.txt (line 3)) (2.28.1)\n",
      "Requirement already satisfied: colorama in c:\\users\\pedro\\anaconda3\\lib\\site-packages (from tqdm->-r requirements.txt (line 5)) (0.4.6)\n",
      "Requirement already satisfied: pyparsing>=2.3.1 in c:\\users\\pedro\\anaconda3\\lib\\site-packages (from matplotlib->-r requirements.txt (line 6)) (3.0.9)\n",
      "Requirement already satisfied: cycler>=0.10 in c:\\users\\pedro\\anaconda3\\lib\\site-packages (from matplotlib->-r requirements.txt (line 6)) (0.11.0)\n",
      "Requirement already satisfied: contourpy>=1.0.1 in c:\\users\\pedro\\anaconda3\\lib\\site-packages (from matplotlib->-r requirements.txt (line 6)) (1.0.5)\n",
      "Requirement already satisfied: fonttools>=4.22.0 in c:\\users\\pedro\\anaconda3\\lib\\site-packages (from matplotlib->-r requirements.txt (line 6)) (4.25.0)\n",
      "Requirement already satisfied: kiwisolver>=1.0.1 in c:\\users\\pedro\\anaconda3\\lib\\site-packages (from matplotlib->-r requirements.txt (line 6)) (1.4.4)\n",
      "Requirement already satisfied: packaging>=20.0 in c:\\users\\pedro\\anaconda3\\lib\\site-packages (from matplotlib->-r requirements.txt (line 6)) (22.0)\n",
      "Requirement already satisfied: six>=1.5 in c:\\users\\pedro\\anaconda3\\lib\\site-packages (from python-dateutil>=2.8.1->pandas==1.5.3->-r requirements.txt (line 7)) (1.16.0)\n",
      "Requirement already satisfied: MarkupSafe>=2.0 in c:\\users\\pedro\\anaconda3\\lib\\site-packages (from jinja2->torch->-r requirements.txt (line 2)) (2.1.1)\n",
      "Requirement already satisfied: certifi>=2017.4.17 in c:\\users\\pedro\\anaconda3\\lib\\site-packages (from requests->torchvision->-r requirements.txt (line 3)) (2023.5.7)\n",
      "Requirement already satisfied: urllib3<1.27,>=1.21.1 in c:\\users\\pedro\\anaconda3\\lib\\site-packages (from requests->torchvision->-r requirements.txt (line 3)) (1.26.14)\n",
      "Requirement already satisfied: charset-normalizer<3,>=2 in c:\\users\\pedro\\anaconda3\\lib\\site-packages (from requests->torchvision->-r requirements.txt (line 3)) (2.0.4)\n",
      "Requirement already satisfied: idna<4,>=2.5 in c:\\users\\pedro\\anaconda3\\lib\\site-packages (from requests->torchvision->-r requirements.txt (line 3)) (3.4)\n",
      "Requirement already satisfied: mpmath>=0.19 in c:\\users\\pedro\\anaconda3\\lib\\site-packages (from sympy->torch->-r requirements.txt (line 2)) (1.2.1)\n"
     ]
    }
   ],
   "source": [
    "try:\n",
    "    from google.colab import files\n",
    "    from google.colab import drive\n",
    "    drive.mount(\"/content/gdrive\")\n",
    "    DATASET_ROOT=\"/content/gdrive/MyDrive/TCC/datasets\"\n",
    "    !pip install patchify\n",
    "    # wandb to log system metrics: (check CPU and GPU usage while session is runnig)\n",
    "    !pip install wandb\n",
    "    import wandb\n",
    "    wandb.init()\n",
    "    \n",
    "    import save_model_helper\n",
    "\n",
    "except ModuleNotFoundError:\n",
    "    DATASET_ROOT=\"./datasets/\"\n",
    "    # coloquei as dependencias em um arquivo separado\n",
    "    !pip install -r requirements.txt\n",
    "\n",
    "import torch\n",
    "from torch import nn\n",
    "from torch.utils.data import DataLoader, Dataset\n",
    "from torchvision import transforms\n",
    "from torchvision.io import read_image\n",
    "from PIL import Image\n",
    "from tqdm import tqdm\n",
    "import matplotlib.pyplot as plt\n",
    "import os\n",
    "import numpy as np\n",
    "from datetime import datetime\n",
    "from torchvision.datasets import ImageFolder\n",
    "from torch.utils.data import Subset\n",
    "from torchvision.transforms import Compose, ToTensor, Resize\n",
    "import pandas as pd\n",
    "import time\n",
    "import re\n",
    "from pathlib import Path\n",
    "import image_patches\n",
    "import image_helper\n",
    "import load_model_helper\n",
    "\n",
    "\n",
    "DATASET_NAME = \"Flickr2K\"\n",
    "# DATASET_NAME = \"Set14\"\n",
    "\n",
    "# Mudar aqui se for para treinar salvando os dataframes e epochs no drive\n",
    "# Se True, não pega nem salva nada no drive\n",
    "EXPERIMENTAL_MODE = True\n",
    "\n",
    "\n",
    "# Setup device-agnostic code\n",
    "device = \"cuda\" if torch.cuda.is_available() else \"cpu\"\n",
    "# garantir que é cuda\n",
    "assert device == \"cuda\"\n",
    "\n",
    "# https://stackoverflow.com/questions/65734044/kernel-appears-to-have-died-jupyter-notebook-python-matplotlib\n",
    "os.environ['KMP_DUPLICATE_LIB_OK'] = 'True'"
   ]
  },
  {
   "cell_type": "markdown",
   "metadata": {
    "id": "fSLDufnC7Lti"
   },
   "source": [
    "# Criando os patches\n",
    "\n",
    "(patches já foram criados, não precisa rodar)"
   ]
  },
  {
   "cell_type": "code",
   "execution_count": 2,
   "metadata": {
    "colab": {
     "base_uri": "https://localhost:8080/"
    },
    "id": "Pyn9yMNfigEm",
    "outputId": "d9739647-86a7-481c-b3e0-88aa71bc8e0e"
   },
   "outputs": [
    {
     "name": "stdout",
     "output_type": "stream",
     "text": [
      "CPU times: total: 0 ns\n",
      "Wall time: 0 ns\n"
     ]
    }
   ],
   "source": [
    "%time\n",
    "# otimizacao: criar patches de treino, validacao e teste de uma vez: (32, 8, 2)\n",
    "# image_patches.create_image_patches(f\"{DATASET_ROOT}/{DATASET_NAME}\", (33, 33, 3), f\"{DATASET_ROOT}/{DATASET_NAME}_train\", 32)\n",
    "# image_patches.create_image_patches(f\"{DATASET_ROOT}/{DATASET_NAME}\", (33, 33, 3), f\"{DATASET_ROOT}/{DATASET_NAME}_validation\", 8)"
   ]
  },
  {
   "cell_type": "markdown",
   "metadata": {
    "id": "iWcxQR2A7fRa"
   },
   "source": [
    "# ***SRCNN***"
   ]
  },
  {
   "cell_type": "code",
   "execution_count": 3,
   "metadata": {
    "id": "L4MgOZlln-yE"
   },
   "outputs": [],
   "source": [
    "class SRCNN(nn.Module):\n",
    "    def __init__(self, initialization=\"normal\") -> None:\n",
    "        super(SRCNN, self).__init__()\n",
    "        # 4.3 Model and Performance Trade-offs\n",
    "        # Based on the basic network settings (i.e., f1 = 9, f2 = 1, f3 = 5, n1 = 64, and n2 = 32),\n",
    "        f1 = 9\n",
    "        f2 = 1\n",
    "        f3 = 5\n",
    "#       n1 = 64\n",
    "        n1 = 3\n",
    "        n2 = 32\n",
    "\n",
    "        self.initialization = initialization\n",
    "\n",
    "        self.model = nn.Sequential(\n",
    "            # 3.1.1 Patch extraction and representation\n",
    "            nn.Conv2d(in_channels=3, out_channels=n1,\n",
    "#                       kernel_size=(f1, f1), padding=(f1-1)//2), # TODO: ver como ficar sem o padding\n",
    "                      kernel_size=(f1, f1), padding=0,),\n",
    "            nn.ReLU(),\n",
    "\n",
    "            # # 3.1.2 Non-linear mapping\n",
    "#             nn.Conv2d(in_channels=n1, out_channels=n2,\n",
    "#                       kernel_size=(f2, f2), padding=(f2-1)//2),\n",
    "#             #           kernel_size=(f2, f2), padding=0,),\n",
    "#             nn.ReLU(),\n",
    "\n",
    "#             # # 3.1.3 Reconstruction\n",
    "#             nn.Conv2d(in_channels=n2, out_channels=3,\n",
    "#                       kernel_size=(f3, f3), padding=(f3-1)//2),\n",
    "            #           kernel_size=(f3, f3), padding=0),\n",
    "        )\n",
    "\n",
    "        self._init_weights()\n",
    "\n",
    "    def _init_weights(self):\n",
    "      # The filter weights of each layer are initialized by drawing randomly \n",
    "      # from a Gaussian distribution with zero mean and standard deviation 0.001 (and 0 for biases)\n",
    "      for module in self.modules():\n",
    "        if isinstance(module, nn.Conv2d):\n",
    "          if self.initialization == \"normal\":\n",
    "            module.weight.data.normal_(mean=0.0, std=0.001)\n",
    "          elif self.initialization == \"xavier\":\n",
    "            nn.init.xavier_normal_(module.weight.data)\n",
    "          else:\n",
    "            nn.init.eye_(module.weight.data)\n",
    "\n",
    "          if module.bias is not None:\n",
    "              module.bias.data.zero_()\n",
    "\n",
    "    def print_weights(self):\n",
    "      for module in self.modules():\n",
    "       if isinstance(module, nn.Conv2d):\n",
    "          print(module.weight)\n",
    "\n",
    "    def forward(self, x: torch.Tensor):\n",
    "        x = self.model(x)\n",
    "        return x\n"
   ]
  },
  {
   "cell_type": "markdown",
   "metadata": {
    "id": "dyP-HXNn7rsb"
   },
   "source": [
    "# Loops de **Treino** e **Validação**"
   ]
  },
  {
   "cell_type": "code",
   "execution_count": 4,
   "metadata": {
    "id": "GaE_vU0YoEIX"
   },
   "outputs": [],
   "source": [
    "def train_loop(dataloader, model, loss_fn, optimizer, device=\"cuda\" if torch.cuda.is_available() else \"cpu\"):\n",
    "    size = len(dataloader.dataset)\n",
    "    num_batches = len(dataloader)\n",
    "\n",
    "    print(f\"Training on {size} samples...\")\n",
    "    print(\"Batch size:\", dataloader.batch_size)\n",
    "    print(\"Number of batches:\", num_batches)\n",
    "\n",
    "    train_loss = 0\n",
    "    for batch, (X, y) in tqdm(enumerate(dataloader), total=len(dataloader)):\n",
    "        X = X.to(device)\n",
    "        #print(\"X\", X.shape, X.get_device())\n",
    "        y = y.to(device)\n",
    "        # Compute prediction and loss\n",
    "        pred = model(X)\n",
    "        loss = loss_fn(pred, y)\n",
    "\n",
    "        train_loss += loss.item()\n",
    "\n",
    "        loss.backward()\n",
    "        optimizer.step()\n",
    "        optimizer.zero_grad()\n",
    "\n",
    "    train_loss /= num_batches\n",
    "\n",
    "    # return avg loss\n",
    "    print(f\"Training Error: \\n Avg loss: {train_loss:>8f} \\n\")\n",
    "    return train_loss\n",
    "\n",
    "# will also be used for testing (maybe)\n",
    "def validation_loop(dataloader, model, loss_fn, device=\"cuda\" if torch.cuda.is_available() else \"cpu\"):\n",
    "    size = len(dataloader.dataset)\n",
    "    num_batches = len(dataloader)\n",
    "    validation_loss = 0\n",
    "\n",
    "    with torch.no_grad(), tqdm(total=num_batches) as progress_bar:\n",
    "        for X, y in dataloader:\n",
    "            X = X.to(device)\n",
    "            y = y.to(device)\n",
    "            pred = model(X)\n",
    "            validation_loss += loss_fn(pred, y).item()\n",
    "            progress_bar.update(1)\n",
    "\n",
    "    validation_loss /= num_batches\n",
    "\n",
    "    print(f\"Validation Error: \\n Avg loss: {validation_loss:>8f} \\n\")\n",
    "    return validation_loss\n"
   ]
  },
  {
   "cell_type": "markdown",
   "metadata": {
    "id": "0tQJi20XGXAw"
   },
   "source": [
    "# CustomImageDataset"
   ]
  },
  {
   "cell_type": "code",
   "execution_count": 5,
   "metadata": {
    "id": "Icm9sIDtoTP9"
   },
   "outputs": [],
   "source": [
    "class CustomImageDataset(Dataset):\n",
    "    \"\"\"\n",
    "    A PyTorch dataset for loading a directory of images.\n",
    "\n",
    "    Args:\n",
    "        img_dir (str): The path to the directory containing the images.\n",
    "        transform (callable, optional): A function/transform that takes in an image and returns a\n",
    "            transformed version. Default: None.\n",
    "        target_transform (callable, optional): A function/transform that takes in the target and\n",
    "            transforms it. Default: None.\n",
    "    \"\"\"\n",
    "\n",
    "    def __init__(self, img_dir: str, patches_per_image = None | int, transform = None, target_transform = None, use_patches = True, device=\"cuda\" if torch.cuda.is_available() else \"cpu\" ):\n",
    "        \"\"\"\n",
    "        Initializes a new instance of the CustomImageDataset class.\n",
    "\n",
    "        Args:\n",
    "            img_dir (str): The path to the directory containing the images.\n",
    "            transform (callable, optional): A function/transform that takes in an image and returns a\n",
    "                transformed version. Default: None.\n",
    "            target_transform (callable, optional): A function/transform that takes in the target and\n",
    "                transforms it. Default: None.\n",
    "        \"\"\"\n",
    "        self.img_dir = img_dir\n",
    "        self.transform = transform\n",
    "        self.target_transform = target_transform\n",
    "        self.patches_per_image = patches_per_image\n",
    "        \n",
    "        self.file_list_tensor = self.create_tensors_from_images()\n",
    "        self.file_list_tensor.to(device)\n",
    "\n",
    "    def create_tensors_from_images(self):\n",
    "      number_of_images = self._get_number_of_images_in_folder(f\"{self.img_dir}/patches\")\n",
    "\n",
    "      # creating the empty tensor\n",
    "      image_tensors = torch.empty((number_of_images, 3, 33, 33))\n",
    "\n",
    "      current_tensor_index = 0\n",
    "\n",
    "      all_patches_dir = f\"{self.img_dir}/patches\"\n",
    "      if not os.path.exists(all_patches_dir) or not os.path.isdir(all_patches_dir):\n",
    "          return list(os.listdir(self.img_dir))\n",
    "\n",
    "      for patch_path in tqdm(list(os.listdir(all_patches_dir))):\n",
    "        one_patch_full_dir = f\"{all_patches_dir}/{patch_path}\"\n",
    "        one_path_relative_dir = f\"patches/{patch_path}\"\n",
    "        \n",
    "        patches_list = list(os.listdir(one_patch_full_dir))\n",
    "        \n",
    "        for index, patch in enumerate(patches_list):\n",
    "          image_path = f\"{one_path_relative_dir}/{patch}\"\n",
    "\n",
    "          if self._check_if_image_is_not_corrupted(image_path):\n",
    "            continue\n",
    "          \n",
    "          image_as_tensor = read_image(f\"{self.img_dir}/{image_path}\")\n",
    "\n",
    "          # updating the created tensor\n",
    "          image_tensors[current_tensor_index] = image_as_tensor.float() / 255\n",
    "\n",
    "          current_tensor_index += 1\n",
    "                    \n",
    "      return image_tensors\n",
    "\n",
    "\n",
    "    def __len__(self) -> int:\n",
    "        \"\"\"\n",
    "        Returns the number of images in the dataset.\n",
    "\n",
    "        Returns:\n",
    "            The number of images in the dataset.\n",
    "        \"\"\"\n",
    "        return self._get_number_of_images_in_folder(f\"{self.img_dir}/patches\")\n",
    "\n",
    "    def __getitem__(self, idx: int) -> tuple[torch.Tensor, torch.Tensor]:\n",
    "        \"\"\"\n",
    "        Returns the image at the specified index in the dataset.\n",
    "\n",
    "        Args:\n",
    "            idx (int): The index of the image to return.\n",
    "\n",
    "        Returns:\n",
    "            A tuple containing the transformed input image and the transformed target image.\n",
    "        \"\"\"\n",
    "    \n",
    "        image = self.file_list_tensor[idx]\n",
    "        image_x = image.detach().clone()\n",
    "        image_y = image.detach().clone()\n",
    "\n",
    "        if self.transform:\n",
    "            image_x = self.transform(image_x)\n",
    "        if self.target_transform:\n",
    "            image_y = self.target_transform(image_y)\n",
    "\n",
    "        return image_x, image_y\n",
    "\n",
    "    def _get_number_of_images_in_folder(self, dir: str):\n",
    "      \"\"\"\n",
    "      Gets the total number of all the patches\n",
    "      \"\"\"\n",
    "      all_patches_dir = f\"{self.img_dir}/patches\"\n",
    "      if not os.path.exists(all_patches_dir) or not os.path.isdir(all_patches_dir):\n",
    "          return list(os.listdir(self.img_dir))\n",
    "\n",
    "      number_of_images = 0\n",
    "      for patch_path in list(os.listdir(all_patches_dir)):\n",
    "        one_patch_full_dir = f\"{all_patches_dir}/{patch_path}\"\n",
    "        one_path_relative_dir = f\"patches/{patch_path}\"\n",
    "        \n",
    "        patches_list = list(os.listdir(one_patch_full_dir))\n",
    "        \n",
    "        for index, patch in enumerate(patches_list):\n",
    "          image_path = f\"{one_path_relative_dir}/{patch}\"\n",
    "\n",
    "          if self._check_if_image_is_not_corrupted(image_path):\n",
    "            continue\n",
    "\n",
    "          number_of_images += 1\n",
    "\n",
    "      return number_of_images\n",
    "\n",
    "    def _check_if_image_is_not_corrupted(self, image_path: str) -> bool:\n",
    "      \"\"\"\n",
    "      Returns True if the file is corrupted else returns False\n",
    "      \"\"\"\n",
    "      file_size = Path(f\"{self.img_dir}/{image_path}\").stat().st_size\n",
    "\n",
    "      if file_size == 0:\n",
    "        print(f\"Error loading image file: {self.img_dir}/{image_path}. Reason: file has size 0\")\n",
    "        return True\n",
    "      \n",
    "      return False"
   ]
  },
  {
   "cell_type": "markdown",
   "metadata": {
    "id": "DNTypfIeHBLb"
   },
   "source": [
    "# Criando os ***Dataset*'s**"
   ]
  },
  {
   "cell_type": "code",
   "execution_count": 6,
   "metadata": {
    "colab": {
     "base_uri": "https://localhost:8080/"
    },
    "id": "R8R75gOzoG9K",
    "outputId": "6c252bb5-f3f6-4f83-8fe4-62171f3f939f"
   },
   "outputs": [
    {
     "name": "stderr",
     "output_type": "stream",
     "text": [
      "100%|██████████████████████████████████████████████████████████████████████████████| 2650/2650 [00:53<00:00, 49.55it/s]\n",
      "100%|█████████████████████████████████████████████████████████████████████████████| 2650/2650 [00:13<00:00, 200.29it/s]\n"
     ]
    },
    {
     "name": "stdout",
     "output_type": "stream",
     "text": [
      "Training set has 84800 instances\n",
      "Validation set has 21200 instances\n",
      "CPU times: total: 14.1 s\n",
      "Wall time: 1min 22s\n"
     ]
    }
   ],
   "source": [
    "%%time\n",
    "transform_x = transforms.Compose([\n",
    "    # downscale by factor of 3 (from 33x33 to 11x11 back to 33x33)\n",
    "    # resize image to 11x11 and downsample by BICUBIC interpolation\n",
    "#     transforms.Resize((11, 11), interpolation=Image.BICUBIC),\n",
    "    # resize image to 33x33\n",
    "#     transforms.Resize((33, 33), interpolation=Image.BICUBIC)\n",
    "#     transforms.CenterCrop((33, 33))\n",
    "])\n",
    "\n",
    "transform_y = transforms.Compose([\n",
    "    ##transforms.Resize((33, 33), interpolation=Image.BICUBIC)\n",
    "    ##transforms.CenterCrop((21, 21))\n",
    "    transforms.CenterCrop((25, 25))\n",
    "#     transforms.CenterCrop((33, 33))\n",
    "])\n",
    "\n",
    "# Set up the data loaders\n",
    "train_data_set = CustomImageDataset(\n",
    "    img_dir=f\"{DATASET_ROOT}/{DATASET_NAME}_train\", transform=transform_x, target_transform=transform_y)\n",
    "validation_data_set = CustomImageDataset(\n",
    "    img_dir=f\"{DATASET_ROOT}/{DATASET_NAME}_validation\", transform=transform_x, target_transform=transform_y)\n",
    "\n",
    "# # Report split sizes\n",
    "print('Training set has {} instances'.format(len(train_data_set)))\n",
    "print('Validation set has {} instances'.format(len(validation_data_set)))"
   ]
  },
  {
   "cell_type": "code",
   "execution_count": 7,
   "metadata": {},
   "outputs": [
    {
     "name": "stdout",
     "output_type": "stream",
     "text": [
      "CPU times: total: 7.41 s\n",
      "Wall time: 8.73 s\n"
     ]
    }
   ],
   "source": [
    "%%time\n",
    "\n",
    "# https://towardsdatascience.com/7-tips-for-squeezing-maximum-performance-from-pytorch-ca4a40951259\n",
    "pin_memory = True\n",
    "batch_size = round(1.5 * (2**12))\n",
    "\n",
    "train_dataloader = DataLoader(train_data_set, batch_size=batch_size, shuffle=True, pin_memory=pin_memory) # TODO: aumentar batch_size p/ 2^12\n",
    "validation_dataloader = DataLoader(validation_data_set, batch_size=batch_size, pin_memory=pin_memory)"
   ]
  },
  {
   "cell_type": "markdown",
   "metadata": {
    "id": "6qLT7bvw0syt"
   },
   "source": [
    "# Instanciando o modelo"
   ]
  },
  {
   "cell_type": "code",
   "execution_count": 8,
   "metadata": {
    "id": "h3ymUq8c0syt"
   },
   "outputs": [],
   "source": [
    "# Instancianting the model\n",
    "# Atencao: cuidado ao rodar o treino várias vezes sem resetar o modelo!\n",
    "model = SRCNN(initialization=\"normal\")\n",
    "model.to(device)\n",
    "\n",
    "# hyperparameters\n",
    "#https://stackoverflow.com/questions/48324152/pytorch-how-to-change-the-learning-rate-of-an-optimizer-at-any-given-moment-no\n",
    "lr = 1e-3"
   ]
  },
  {
   "cell_type": "code",
   "execution_count": null,
   "metadata": {},
   "outputs": [],
   "source": []
  },
  {
   "cell_type": "code",
   "execution_count": 9,
   "metadata": {
    "colab": {
     "base_uri": "https://localhost:8080/",
     "height": 379
    },
    "id": "r5UQL4CU0syt",
    "outputId": "5a846518-caa5-4848-b0f5-274c5c7d29a4"
   },
   "outputs": [
    {
     "name": "stdout",
     "output_type": "stream",
     "text": [
      "./datasets//Flickr2K_train\\patches\n",
      "./datasets//Flickr2K_train\\patches\\001955_patch\n",
      "<class 'torch.Tensor'> torch.Size([3, 33, 33]) torch.float32 tensor(0.0118) tensor(0.8314)\n",
      "<class 'torch.Tensor'> torch.Size([1, 3, 25, 25]) torch.float32 tensor(0., device='cuda:0') tensor(0.0077, device='cuda:0')\n"
     ]
    }
   ],
   "source": [
    "img = image_patches.get_image_patch(f\"{DATASET_ROOT}/{DATASET_NAME}_train\").float()/255\n",
    "print(type(img), img.shape, img.dtype, img.min(), img.max())\n",
    "with torch.no_grad():\n",
    "  img_out = model(img.unsqueeze(0).to(device))\n",
    "print(type(img_out), img_out.shape, img_out.dtype, img_out.min(), img_out.max())\n",
    "# plt.figure()\n",
    "# plt.subplot(1, 2, 1)\n",
    "# plt.imshow(ImageHelperInstance.tensor_as_image(img.cpu()))\n",
    "# plt.subplot(1, 2, 2)\n",
    "# plt.imshow(ImageHelperInstance.tensor_as_image(img_out.squeeze().cpu()))\n",
    "# plt.show()"
   ]
  },
  {
   "cell_type": "code",
   "execution_count": 10,
   "metadata": {},
   "outputs": [
    {
     "data": {
      "image/png": "[encoded data removed]",
      "text/plain": [
       "<Figure size 640x480 with 2 Axes>"
      ]
     },
     "metadata": {},
     "output_type": "display_data"
    }
   ],
   "source": [
    "plt.figure()\n",
    "plt.subplot(1, 2, 1)\n",
    "plt.imshow(image_helper.tensor_as_image(img.cpu()))\n",
    "plt.subplot(1, 2, 2)\n",
    "plt.imshow(image_helper.tensor_as_image(img_out.squeeze().cpu()))\n",
    "plt.show()"
   ]
  },
  {
   "cell_type": "markdown",
   "metadata": {
    "id": "gYmtoYcvHQuo"
   },
   "source": [
    "# Criando o *Optmizer* e a *loss function* (MSE)"
   ]
  },
  {
   "cell_type": "code",
   "execution_count": 11,
   "metadata": {
    "colab": {
     "base_uri": "https://localhost:8080/"
    },
    "id": "ko9NGAPAopPL",
    "outputId": "d6267c54-468f-4c0d-f5d6-f56c05c03559"
   },
   "outputs": [
    {
     "data": {
      "text/plain": [
       "MSELoss()"
      ]
     },
     "execution_count": 11,
     "metadata": {},
     "output_type": "execute_result"
    }
   ],
   "source": [
    "# otimizacao: Mudar o otimizador para Adam ou RMSProp\n",
    "#           : Usar momentum = 0.9\n",
    "#           : Usar learning maior: 1e-4?\n",
    "#           : Usar learning rate decay\n",
    "\n",
    "# 3.3 Training\n",
    "# The loss is minimized using stochastic gradient descent with the standard backpropagation\n",
    "optimizer = torch.optim.SGD(model.parameters(), lr=lr)\n",
    "# we use Mean Squared Error (MSE) as the loss function:\n",
    "loss_fn = nn.MSELoss()\n",
    "loss_fn.to(device)"
   ]
  },
  {
   "cell_type": "markdown",
   "metadata": {
    "id": "JtJiUmWDHdCe"
   },
   "source": [
    "# Exemplos de imagem de baixa e alta resolução do dataset de treino"
   ]
  },
  {
   "cell_type": "code",
   "execution_count": 26,
   "metadata": {
    "colab": {
     "base_uri": "https://localhost:8080/",
     "height": 825
    },
    "id": "X2Y9JC505Y2s",
    "outputId": "48000fad-048a-48eb-c5a4-a9456831134a"
   },
   "outputs": [
    {
     "name": "stdout",
     "output_type": "stream",
     "text": [
      "<class 'torch.Tensor'> torch.Size([6144, 3, 33, 33]) torch.float32 tensor(0.) tensor(1.)\n",
      "<class 'torch.Tensor'> torch.Size([6144, 3, 25, 25]) torch.float32 tensor(0.) tensor(1.)\n",
      "<class 'torch.Tensor'> torch.Size([6144, 3, 33, 33]) torch.float32 tensor(0.) tensor(1.)\n",
      "<class 'torch.Tensor'> torch.Size([6144, 3, 25, 25]) torch.float32 tensor(0.) tensor(1.)\n"
     ]
    },
    {
     "data": {
      "image/png": "[encoded data removed]",
      "text/plain": [
       "<Figure size 1000x1000 with 6 Axes>"
      ]
     },
     "metadata": {},
     "output_type": "display_data"
    }
   ],
   "source": [
    "# example of training image\n",
    "num_samples = 2\n",
    "fig, axes = plt.subplots(num_samples, 3, figsize=(10, 10))\n",
    "for i, (X, y) in enumerate(train_dataloader):\n",
    "    with torch.no_grad():\n",
    "        z = model.forward(X.to(device))\n",
    "    print(type(X), X.shape, X.dtype, X.min(), X.max())\n",
    "    print(type(y), y.shape, y.dtype, y.min(), y.max())\n",
    "    axes[i, 0].imshow(image_helper.tensor_as_image(X[0]))\n",
    "    axes[i, 1].imshow(image_helper.tensor_as_image(y[0]))\n",
    "    axes[i, 2].imshow(image_helper.tensor_as_image(z[0].cpu()))\n",
    "    # axes[i, 0].set_axis_off()\n",
    "    if i == num_samples - 1:\n",
    "        break\n",
    "plt.show()"
   ]
  },
  {
   "cell_type": "markdown",
   "metadata": {
    "id": "82X534YWDGTU"
   },
   "source": [
    "# Carregando o modelo"
   ]
  },
  {
   "cell_type": "markdown",
   "metadata": {
    "id": "rReOM3wbI771"
   },
   "source": [
    "## Carregando a última *epoch* executada"
   ]
  },
  {
   "cell_type": "code",
   "execution_count": 13,
   "metadata": {
    "id": "caFjmui8pGUw"
   },
   "outputs": [],
   "source": [
    "# most_recent_epoch, model_load_path_name = load_model_helper.get_most_recent_epoch(directory = '/content/gdrive/My Drive/TCC/code/models/SRCNN/testing/train_session_testing/models')\n",
    "\n",
    "# print(\"Most recent epoch:\", most_recent_epoch)\n",
    "# print(\"Model load path name:\", model_load_path_name)\n",
    "\n",
    "model_load_path_name = ''"
   ]
  },
  {
   "cell_type": "code",
   "execution_count": 14,
   "metadata": {
    "colab": {
     "base_uri": "https://localhost:8080/"
    },
    "id": "Nah4QNHgDQCO",
    "outputId": "1abba8a2-abb4-43d2-bd07-e3d8c5b3f43a"
   },
   "outputs": [],
   "source": [
    "# model = load_model_helper.load_state_dict(model, model_load_path_name)"
   ]
  },
  {
   "cell_type": "markdown",
   "metadata": {
    "id": "GystbxzZrYVl"
   },
   "source": [
    "# **Treinamento** "
   ]
  },
  {
   "cell_type": "markdown",
   "metadata": {
    "id": "ENyDrF8hKjLp"
   },
   "source": [
    "## Execução das *epochs*\n",
    "- Execução dos loops de treinamento e validação, e também salvamentos dos dados"
   ]
  },
  {
   "cell_type": "code",
   "execution_count": 15,
   "metadata": {
    "colab": {
     "base_uri": "https://localhost:8080/"
    },
    "id": "a2TYnN32M3jI",
    "outputId": "54280138-4f7d-433e-aa8e-f4ebb0bf4dc4"
   },
   "outputs": [
    {
     "name": "stdout",
     "output_type": "stream",
     "text": [
      "starting_epoch = None\n"
     ]
    }
   ],
   "source": [
    "starting_epoch = load_model_helper.get_epoch_number_from_path(model_load_path_name)\n",
    "if starting_epoch is not None:\n",
    "  starting_epoch = starting_epoch + 1 # add 1 because we are starting after the epoch we left of\n",
    "\n",
    "print('starting_epoch =', starting_epoch)"
   ]
  },
  {
   "cell_type": "code",
   "execution_count": 16,
   "metadata": {
    "scrolled": true
   },
   "outputs": [
    {
     "name": "stdout",
     "output_type": "stream",
     "text": [
      "\n",
      "epoch 0\n",
      "-------------------------------\n",
      "Training on 84800 samples...\n",
      "Batch size: 6144\n",
      "Number of batches: 14\n"
     ]
    },
    {
     "name": "stderr",
     "output_type": "stream",
     "text": [
      "100%|██████████████████████████████████████████████████████████████████████████████████| 14/14 [00:33<00:00,  2.36s/it]\n"
     ]
    },
    {
     "name": "stdout",
     "output_type": "stream",
     "text": [
      "Training Error: \n",
      " Avg loss: 0.207461 \n",
      "\n"
     ]
    },
    {
     "name": "stderr",
     "output_type": "stream",
     "text": [
      "100%|████████████████████████████████████████████████████████████████████████████████████| 4/4 [00:04<00:00,  1.11s/it]\n"
     ]
    },
    {
     "name": "stdout",
     "output_type": "stream",
     "text": [
      "Validation Error: \n",
      " Avg loss: 0.158377 \n",
      "\n",
      "\n",
      "epoch 1\n",
      "-------------------------------\n",
      "Training on 84800 samples...\n",
      "Batch size: 6144\n",
      "Number of batches: 14\n"
     ]
    },
    {
     "name": "stderr",
     "output_type": "stream",
     "text": [
      "100%|██████████████████████████████████████████████████████████████████████████████████| 14/14 [00:31<00:00,  2.22s/it]\n"
     ]
    },
    {
     "name": "stdout",
     "output_type": "stream",
     "text": [
      "Training Error: \n",
      " Avg loss: 0.138245 \n",
      "\n"
     ]
    },
    {
     "name": "stderr",
     "output_type": "stream",
     "text": [
      "100%|████████████████████████████████████████████████████████████████████████████████████| 4/4 [00:04<00:00,  1.03s/it]\n"
     ]
    },
    {
     "name": "stdout",
     "output_type": "stream",
     "text": [
      "Validation Error: \n",
      " Avg loss: 0.123857 \n",
      "\n",
      "\n",
      "epoch 2\n",
      "-------------------------------\n",
      "Training on 84800 samples...\n",
      "Batch size: 6144\n",
      "Number of batches: 14\n"
     ]
    },
    {
     "name": "stderr",
     "output_type": "stream",
     "text": [
      "100%|██████████████████████████████████████████████████████████████████████████████████| 14/14 [00:31<00:00,  2.24s/it]\n"
     ]
    },
    {
     "name": "stdout",
     "output_type": "stream",
     "text": [
      "Training Error: \n",
      " Avg loss: 0.117246 \n",
      "\n"
     ]
    },
    {
     "name": "stderr",
     "output_type": "stream",
     "text": [
      "100%|████████████████████████████████████████████████████████████████████████████████████| 4/4 [00:03<00:00,  1.00it/s]\n"
     ]
    },
    {
     "name": "stdout",
     "output_type": "stream",
     "text": [
      "Validation Error: \n",
      " Avg loss: 0.113368 \n",
      "\n",
      "\n",
      "epoch 3\n",
      "-------------------------------\n",
      "Training on 84800 samples...\n",
      "Batch size: 6144\n",
      "Number of batches: 14\n"
     ]
    },
    {
     "name": "stderr",
     "output_type": "stream",
     "text": [
      "100%|██████████████████████████████████████████████████████████████████████████████████| 14/14 [00:31<00:00,  2.24s/it]\n"
     ]
    },
    {
     "name": "stdout",
     "output_type": "stream",
     "text": [
      "Training Error: \n",
      " Avg loss: 0.110761 \n",
      "\n"
     ]
    },
    {
     "name": "stderr",
     "output_type": "stream",
     "text": [
      "100%|████████████████████████████████████████████████████████████████████████████████████| 4/4 [00:04<00:00,  1.06s/it]\n"
     ]
    },
    {
     "name": "stdout",
     "output_type": "stream",
     "text": [
      "Validation Error: \n",
      " Avg loss: 0.110113 \n",
      "\n",
      "\n",
      "epoch 4\n",
      "-------------------------------\n",
      "Training on 84800 samples...\n",
      "Batch size: 6144\n",
      "Number of batches: 14\n"
     ]
    },
    {
     "name": "stderr",
     "output_type": "stream",
     "text": [
      "100%|██████████████████████████████████████████████████████████████████████████████████| 14/14 [00:32<00:00,  2.29s/it]\n"
     ]
    },
    {
     "name": "stdout",
     "output_type": "stream",
     "text": [
      "Training Error: \n",
      " Avg loss: 0.108747 \n",
      "\n"
     ]
    },
    {
     "name": "stderr",
     "output_type": "stream",
     "text": [
      "100%|████████████████████████████████████████████████████████████████████████████████████| 4/4 [00:04<00:00,  1.04s/it]\n"
     ]
    },
    {
     "name": "stdout",
     "output_type": "stream",
     "text": [
      "Validation Error: \n",
      " Avg loss: 0.109040 \n",
      "\n",
      "\n",
      "epoch 5\n",
      "-------------------------------\n",
      "Training on 84800 samples...\n",
      "Batch size: 6144\n",
      "Number of batches: 14\n"
     ]
    },
    {
     "name": "stderr",
     "output_type": "stream",
     "text": [
      "100%|██████████████████████████████████████████████████████████████████████████████████| 14/14 [00:29<00:00,  2.08s/it]\n"
     ]
    },
    {
     "name": "stdout",
     "output_type": "stream",
     "text": [
      "Training Error: \n",
      " Avg loss: 0.108027 \n",
      "\n"
     ]
    },
    {
     "name": "stderr",
     "output_type": "stream",
     "text": [
      "100%|████████████████████████████████████████████████████████████████████████████████████| 4/4 [00:03<00:00,  1.05it/s]\n"
     ]
    },
    {
     "name": "stdout",
     "output_type": "stream",
     "text": [
      "Validation Error: \n",
      " Avg loss: 0.108625 \n",
      "\n",
      "\n",
      "epoch 6\n",
      "-------------------------------\n",
      "Training on 84800 samples...\n",
      "Batch size: 6144\n",
      "Number of batches: 14\n"
     ]
    },
    {
     "name": "stderr",
     "output_type": "stream",
     "text": [
      "100%|██████████████████████████████████████████████████████████████████████████████████| 14/14 [00:29<00:00,  2.12s/it]\n"
     ]
    },
    {
     "name": "stdout",
     "output_type": "stream",
     "text": [
      "Training Error: \n",
      " Avg loss: 0.107703 \n",
      "\n"
     ]
    },
    {
     "name": "stderr",
     "output_type": "stream",
     "text": [
      "100%|████████████████████████████████████████████████████████████████████████████████████| 4/4 [00:03<00:00,  1.04it/s]\n"
     ]
    },
    {
     "name": "stdout",
     "output_type": "stream",
     "text": [
      "Validation Error: \n",
      " Avg loss: 0.108408 \n",
      "\n",
      "\n",
      "epoch 7\n",
      "-------------------------------\n",
      "Training on 84800 samples...\n",
      "Batch size: 6144\n",
      "Number of batches: 14\n"
     ]
    },
    {
     "name": "stderr",
     "output_type": "stream",
     "text": [
      "100%|██████████████████████████████████████████████████████████████████████████████████| 14/14 [00:31<00:00,  2.23s/it]\n"
     ]
    },
    {
     "name": "stdout",
     "output_type": "stream",
     "text": [
      "Training Error: \n",
      " Avg loss: 0.107535 \n",
      "\n"
     ]
    },
    {
     "name": "stderr",
     "output_type": "stream",
     "text": [
      "100%|████████████████████████████████████████████████████████████████████████████████████| 4/4 [00:04<00:00,  1.01s/it]\n"
     ]
    },
    {
     "name": "stdout",
     "output_type": "stream",
     "text": [
      "Validation Error: \n",
      " Avg loss: 0.108254 \n",
      "\n",
      "\n",
      "epoch 8\n",
      "-------------------------------\n",
      "Training on 84800 samples...\n",
      "Batch size: 6144\n",
      "Number of batches: 14\n"
     ]
    },
    {
     "name": "stderr",
     "output_type": "stream",
     "text": [
      "100%|██████████████████████████████████████████████████████████████████████████████████| 14/14 [00:28<00:00,  2.04s/it]\n"
     ]
    },
    {
     "name": "stdout",
     "output_type": "stream",
     "text": [
      "Training Error: \n",
      " Avg loss: 0.107411 \n",
      "\n"
     ]
    },
    {
     "name": "stderr",
     "output_type": "stream",
     "text": [
      "100%|████████████████████████████████████████████████████████████████████████████████████| 4/4 [00:05<00:00,  1.28s/it]\n"
     ]
    },
    {
     "name": "stdout",
     "output_type": "stream",
     "text": [
      "Validation Error: \n",
      " Avg loss: 0.108120 \n",
      "\n",
      "\n",
      "epoch 9\n",
      "-------------------------------\n",
      "Training on 84800 samples...\n",
      "Batch size: 6144\n",
      "Number of batches: 14\n"
     ]
    },
    {
     "name": "stderr",
     "output_type": "stream",
     "text": [
      "100%|██████████████████████████████████████████████████████████████████████████████████| 14/14 [00:29<00:00,  2.10s/it]\n"
     ]
    },
    {
     "name": "stdout",
     "output_type": "stream",
     "text": [
      "Training Error: \n",
      " Avg loss: 0.107251 \n",
      "\n"
     ]
    },
    {
     "name": "stderr",
     "output_type": "stream",
     "text": [
      "100%|████████████████████████████████████████████████████████████████████████████████████| 4/4 [00:04<00:00,  1.21s/it]\n"
     ]
    },
    {
     "name": "stdout",
     "output_type": "stream",
     "text": [
      "Validation Error: \n",
      " Avg loss: 0.107981 \n",
      "\n",
      "\n",
      "epoch 10\n",
      "-------------------------------\n",
      "Training on 84800 samples...\n",
      "Batch size: 6144\n",
      "Number of batches: 14\n"
     ]
    },
    {
     "name": "stderr",
     "output_type": "stream",
     "text": [
      "100%|██████████████████████████████████████████████████████████████████████████████████| 14/14 [00:29<00:00,  2.10s/it]\n"
     ]
    },
    {
     "name": "stdout",
     "output_type": "stream",
     "text": [
      "Training Error: \n",
      " Avg loss: 0.087261 \n",
      "\n"
     ]
    },
    {
     "name": "stderr",
     "output_type": "stream",
     "text": [
      "100%|████████████████████████████████████████████████████████████████████████████████████| 4/4 [00:04<00:00,  1.02s/it]\n"
     ]
    },
    {
     "name": "stdout",
     "output_type": "stream",
     "text": [
      "Validation Error: \n",
      " Avg loss: 0.053565 \n",
      "\n",
      "\n",
      "epoch 11\n",
      "-------------------------------\n",
      "Training on 84800 samples...\n",
      "Batch size: 6144\n",
      "Number of batches: 14\n"
     ]
    },
    {
     "name": "stderr",
     "output_type": "stream",
     "text": [
      "100%|██████████████████████████████████████████████████████████████████████████████████| 14/14 [00:30<00:00,  2.18s/it]\n"
     ]
    },
    {
     "name": "stdout",
     "output_type": "stream",
     "text": [
      "Training Error: \n",
      " Avg loss: 0.043868 \n",
      "\n"
     ]
    },
    {
     "name": "stderr",
     "output_type": "stream",
     "text": [
      "100%|████████████████████████████████████████████████████████████████████████████████████| 4/4 [00:04<00:00,  1.01s/it]\n"
     ]
    },
    {
     "name": "stdout",
     "output_type": "stream",
     "text": [
      "Validation Error: \n",
      " Avg loss: 0.035277 \n",
      "\n",
      "\n",
      "epoch 12\n",
      "-------------------------------\n",
      "Training on 84800 samples...\n",
      "Batch size: 6144\n",
      "Number of batches: 14\n"
     ]
    },
    {
     "name": "stderr",
     "output_type": "stream",
     "text": [
      "100%|██████████████████████████████████████████████████████████████████████████████████| 14/14 [00:29<00:00,  2.08s/it]\n"
     ]
    },
    {
     "name": "stdout",
     "output_type": "stream",
     "text": [
      "Training Error: \n",
      " Avg loss: 0.029885 \n",
      "\n"
     ]
    },
    {
     "name": "stderr",
     "output_type": "stream",
     "text": [
      "100%|████████████████████████████████████████████████████████████████████████████████████| 4/4 [00:03<00:00,  1.02it/s]\n"
     ]
    },
    {
     "name": "stdout",
     "output_type": "stream",
     "text": [
      "Validation Error: \n",
      " Avg loss: 0.025106 \n",
      "\n",
      "\n",
      "epoch 13\n",
      "-------------------------------\n",
      "Training on 84800 samples...\n",
      "Batch size: 6144\n",
      "Number of batches: 14\n"
     ]
    },
    {
     "name": "stderr",
     "output_type": "stream",
     "text": [
      "100%|██████████████████████████████████████████████████████████████████████████████████| 14/14 [00:30<00:00,  2.21s/it]\n"
     ]
    },
    {
     "name": "stdout",
     "output_type": "stream",
     "text": [
      "Training Error: \n",
      " Avg loss: 0.022094 \n",
      "\n"
     ]
    },
    {
     "name": "stderr",
     "output_type": "stream",
     "text": [
      "100%|████████████████████████████████████████████████████████████████████████████████████| 4/4 [00:03<00:00,  1.02it/s]\n"
     ]
    },
    {
     "name": "stdout",
     "output_type": "stream",
     "text": [
      "Validation Error: \n",
      " Avg loss: 0.019432 \n",
      "\n",
      "\n",
      "epoch 14\n",
      "-------------------------------\n",
      "Training on 84800 samples...\n",
      "Batch size: 6144\n",
      "Number of batches: 14\n"
     ]
    },
    {
     "name": "stderr",
     "output_type": "stream",
     "text": [
      "100%|██████████████████████████████████████████████████████████████████████████████████| 14/14 [00:30<00:00,  2.17s/it]\n"
     ]
    },
    {
     "name": "stdout",
     "output_type": "stream",
     "text": [
      "Training Error: \n",
      " Avg loss: 0.017751 \n",
      "\n"
     ]
    },
    {
     "name": "stderr",
     "output_type": "stream",
     "text": [
      "100%|████████████████████████████████████████████████████████████████████████████████████| 4/4 [00:03<00:00,  1.02it/s]\n"
     ]
    },
    {
     "name": "stdout",
     "output_type": "stream",
     "text": [
      "Validation Error: \n",
      " Avg loss: 0.016241 \n",
      "\n",
      "\n",
      "epoch 15\n",
      "-------------------------------\n",
      "Training on 84800 samples...\n",
      "Batch size: 6144\n",
      "Number of batches: 14\n"
     ]
    },
    {
     "name": "stderr",
     "output_type": "stream",
     "text": [
      "100%|██████████████████████████████████████████████████████████████████████████████████| 14/14 [00:29<00:00,  2.14s/it]\n"
     ]
    },
    {
     "name": "stdout",
     "output_type": "stream",
     "text": [
      "Training Error: \n",
      " Avg loss: 0.015303 \n",
      "\n"
     ]
    },
    {
     "name": "stderr",
     "output_type": "stream",
     "text": [
      "100%|████████████████████████████████████████████████████████████████████████████████████| 4/4 [00:04<00:00,  1.02s/it]\n"
     ]
    },
    {
     "name": "stdout",
     "output_type": "stream",
     "text": [
      "Validation Error: \n",
      " Avg loss: 0.014427 \n",
      "\n",
      "\n",
      "epoch 16\n",
      "-------------------------------\n",
      "Training on 84800 samples...\n",
      "Batch size: 6144\n",
      "Number of batches: 14\n"
     ]
    },
    {
     "name": "stderr",
     "output_type": "stream",
     "text": [
      "100%|██████████████████████████████████████████████████████████████████████████████████| 14/14 [00:29<00:00,  2.10s/it]\n"
     ]
    },
    {
     "name": "stdout",
     "output_type": "stream",
     "text": [
      "Training Error: \n",
      " Avg loss: 0.013902 \n",
      "\n"
     ]
    },
    {
     "name": "stderr",
     "output_type": "stream",
     "text": [
      "100%|████████████████████████████████████████████████████████████████████████████████████| 4/4 [00:04<00:00,  1.05s/it]\n"
     ]
    },
    {
     "name": "stdout",
     "output_type": "stream",
     "text": [
      "Validation Error: \n",
      " Avg loss: 0.013375 \n",
      "\n",
      "\n",
      "epoch 17\n",
      "-------------------------------\n",
      "Training on 84800 samples...\n",
      "Batch size: 6144\n",
      "Number of batches: 14\n"
     ]
    },
    {
     "name": "stderr",
     "output_type": "stream",
     "text": [
      "100%|██████████████████████████████████████████████████████████████████████████████████| 14/14 [00:30<00:00,  2.17s/it]\n"
     ]
    },
    {
     "name": "stdout",
     "output_type": "stream",
     "text": [
      "Training Error: \n",
      " Avg loss: 0.013081 \n",
      "\n"
     ]
    },
    {
     "name": "stderr",
     "output_type": "stream",
     "text": [
      "100%|████████████████████████████████████████████████████████████████████████████████████| 4/4 [00:04<00:00,  1.02s/it]\n"
     ]
    },
    {
     "name": "stdout",
     "output_type": "stream",
     "text": [
      "Validation Error: \n",
      " Avg loss: 0.012747 \n",
      "\n",
      "\n",
      "epoch 18\n",
      "-------------------------------\n",
      "Training on 84800 samples...\n",
      "Batch size: 6144\n",
      "Number of batches: 14\n"
     ]
    },
    {
     "name": "stderr",
     "output_type": "stream",
     "text": [
      "100%|██████████████████████████████████████████████████████████████████████████████████| 14/14 [00:31<00:00,  2.22s/it]\n"
     ]
    },
    {
     "name": "stdout",
     "output_type": "stream",
     "text": [
      "Training Error: \n",
      " Avg loss: 0.012585 \n",
      "\n"
     ]
    },
    {
     "name": "stderr",
     "output_type": "stream",
     "text": [
      "100%|████████████████████████████████████████████████████████████████████████████████████| 4/4 [00:03<00:00,  1.03it/s]\n"
     ]
    },
    {
     "name": "stdout",
     "output_type": "stream",
     "text": [
      "Validation Error: \n",
      " Avg loss: 0.012354 \n",
      "\n",
      "\n",
      "epoch 19\n",
      "-------------------------------\n",
      "Training on 84800 samples...\n",
      "Batch size: 6144\n",
      "Number of batches: 14\n"
     ]
    },
    {
     "name": "stderr",
     "output_type": "stream",
     "text": [
      "100%|██████████████████████████████████████████████████████████████████████████████████| 14/14 [00:29<00:00,  2.10s/it]\n"
     ]
    },
    {
     "name": "stdout",
     "output_type": "stream",
     "text": [
      "Training Error: \n",
      " Avg loss: 0.012274 \n",
      "\n"
     ]
    },
    {
     "name": "stderr",
     "output_type": "stream",
     "text": [
      "100%|████████████████████████████████████████████████████████████████████████████████████| 4/4 [00:04<00:00,  1.00s/it]\n"
     ]
    },
    {
     "name": "stdout",
     "output_type": "stream",
     "text": [
      "Validation Error: \n",
      " Avg loss: 0.012092 \n",
      "\n",
      "\n",
      "epoch 20\n",
      "-------------------------------\n",
      "Training on 84800 samples...\n",
      "Batch size: 6144\n",
      "Number of batches: 14\n"
     ]
    },
    {
     "name": "stderr",
     "output_type": "stream",
     "text": [
      "100%|██████████████████████████████████████████████████████████████████████████████████| 14/14 [00:31<00:00,  2.27s/it]\n"
     ]
    },
    {
     "name": "stdout",
     "output_type": "stream",
     "text": [
      "Training Error: \n",
      " Avg loss: 0.012050 \n",
      "\n"
     ]
    },
    {
     "name": "stderr",
     "output_type": "stream",
     "text": [
      "100%|████████████████████████████████████████████████████████████████████████████████████| 4/4 [00:03<00:00,  1.02it/s]\n"
     ]
    },
    {
     "name": "stdout",
     "output_type": "stream",
     "text": [
      "Validation Error: \n",
      " Avg loss: 0.011904 \n",
      "\n",
      "\n",
      "epoch 21\n",
      "-------------------------------\n",
      "Training on 84800 samples...\n",
      "Batch size: 6144\n",
      "Number of batches: 14\n"
     ]
    },
    {
     "name": "stderr",
     "output_type": "stream",
     "text": [
      "100%|██████████████████████████████████████████████████████████████████████████████████| 14/14 [00:33<00:00,  2.39s/it]\n"
     ]
    },
    {
     "name": "stdout",
     "output_type": "stream",
     "text": [
      "Training Error: \n",
      " Avg loss: 0.011917 \n",
      "\n"
     ]
    },
    {
     "name": "stderr",
     "output_type": "stream",
     "text": [
      "100%|████████████████████████████████████████████████████████████████████████████████████| 4/4 [00:03<00:00,  1.00it/s]\n"
     ]
    },
    {
     "name": "stdout",
     "output_type": "stream",
     "text": [
      "Validation Error: \n",
      " Avg loss: 0.011827 \n",
      "\n",
      "\n",
      "epoch 22\n",
      "-------------------------------\n",
      "Training on 84800 samples...\n",
      "Batch size: 6144\n",
      "Number of batches: 14\n"
     ]
    },
    {
     "name": "stderr",
     "output_type": "stream",
     "text": [
      "100%|██████████████████████████████████████████████████████████████████████████████████| 14/14 [00:32<00:00,  2.33s/it]\n"
     ]
    },
    {
     "name": "stdout",
     "output_type": "stream",
     "text": [
      "Training Error: \n",
      " Avg loss: 0.011841 \n",
      "\n"
     ]
    },
    {
     "name": "stderr",
     "output_type": "stream",
     "text": [
      "100%|████████████████████████████████████████████████████████████████████████████████████| 4/4 [00:04<00:00,  1.01s/it]\n"
     ]
    },
    {
     "name": "stdout",
     "output_type": "stream",
     "text": [
      "Validation Error: \n",
      " Avg loss: 0.011757 \n",
      "\n",
      "\n",
      "epoch 23\n",
      "-------------------------------\n",
      "Training on 84800 samples...\n",
      "Batch size: 6144\n",
      "Number of batches: 14\n"
     ]
    },
    {
     "name": "stderr",
     "output_type": "stream",
     "text": [
      "100%|██████████████████████████████████████████████████████████████████████████████████| 14/14 [00:32<00:00,  2.31s/it]\n"
     ]
    },
    {
     "name": "stdout",
     "output_type": "stream",
     "text": [
      "Training Error: \n",
      " Avg loss: 0.011775 \n",
      "\n"
     ]
    },
    {
     "name": "stderr",
     "output_type": "stream",
     "text": [
      "100%|████████████████████████████████████████████████████████████████████████████████████| 4/4 [00:03<00:00,  1.02it/s]\n"
     ]
    },
    {
     "name": "stdout",
     "output_type": "stream",
     "text": [
      "Validation Error: \n",
      " Avg loss: 0.011694 \n",
      "\n",
      "\n",
      "epoch 24\n",
      "-------------------------------\n",
      "Training on 84800 samples...\n",
      "Batch size: 6144\n",
      "Number of batches: 14\n"
     ]
    },
    {
     "name": "stderr",
     "output_type": "stream",
     "text": [
      "100%|██████████████████████████████████████████████████████████████████████████████████| 14/14 [00:29<00:00,  2.12s/it]\n"
     ]
    },
    {
     "name": "stdout",
     "output_type": "stream",
     "text": [
      "Training Error: \n",
      " Avg loss: 0.011715 \n",
      "\n"
     ]
    },
    {
     "name": "stderr",
     "output_type": "stream",
     "text": [
      "100%|████████████████████████████████████████████████████████████████████████████████████| 4/4 [00:03<00:00,  1.03it/s]\n"
     ]
    },
    {
     "name": "stdout",
     "output_type": "stream",
     "text": [
      "Validation Error: \n",
      " Avg loss: 0.011635 \n",
      "\n",
      "\n",
      "epoch 25\n",
      "-------------------------------\n",
      "Training on 84800 samples...\n",
      "Batch size: 6144\n",
      "Number of batches: 14\n"
     ]
    },
    {
     "name": "stderr",
     "output_type": "stream",
     "text": [
      "100%|██████████████████████████████████████████████████████████████████████████████████| 14/14 [00:31<00:00,  2.22s/it]\n"
     ]
    },
    {
     "name": "stdout",
     "output_type": "stream",
     "text": [
      "Training Error: \n",
      " Avg loss: 0.011661 \n",
      "\n"
     ]
    },
    {
     "name": "stderr",
     "output_type": "stream",
     "text": [
      "100%|████████████████████████████████████████████████████████████████████████████████████| 4/4 [00:03<00:00,  1.04it/s]\n"
     ]
    },
    {
     "name": "stdout",
     "output_type": "stream",
     "text": [
      "Validation Error: \n",
      " Avg loss: 0.011579 \n",
      "\n",
      "\n",
      "epoch 26\n",
      "-------------------------------\n",
      "Training on 84800 samples...\n",
      "Batch size: 6144\n",
      "Number of batches: 14\n"
     ]
    },
    {
     "name": "stderr",
     "output_type": "stream",
     "text": [
      "100%|██████████████████████████████████████████████████████████████████████████████████| 14/14 [00:35<00:00,  2.57s/it]\n"
     ]
    },
    {
     "name": "stdout",
     "output_type": "stream",
     "text": [
      "Training Error: \n",
      " Avg loss: 0.011601 \n",
      "\n"
     ]
    },
    {
     "name": "stderr",
     "output_type": "stream",
     "text": [
      "100%|████████████████████████████████████████████████████████████████████████████████████| 4/4 [00:03<00:00,  1.03it/s]\n"
     ]
    },
    {
     "name": "stdout",
     "output_type": "stream",
     "text": [
      "Validation Error: \n",
      " Avg loss: 0.011526 \n",
      "\n",
      "\n",
      "epoch 27\n",
      "-------------------------------\n",
      "Training on 84800 samples...\n",
      "Batch size: 6144\n",
      "Number of batches: 14\n"
     ]
    },
    {
     "name": "stderr",
     "output_type": "stream",
     "text": [
      "100%|██████████████████████████████████████████████████████████████████████████████████| 14/14 [00:31<00:00,  2.26s/it]\n"
     ]
    },
    {
     "name": "stdout",
     "output_type": "stream",
     "text": [
      "Training Error: \n",
      " Avg loss: 0.011555 \n",
      "\n"
     ]
    },
    {
     "name": "stderr",
     "output_type": "stream",
     "text": [
      "100%|████████████████████████████████████████████████████████████████████████████████████| 4/4 [00:03<00:00,  1.05it/s]\n"
     ]
    },
    {
     "name": "stdout",
     "output_type": "stream",
     "text": [
      "Validation Error: \n",
      " Avg loss: 0.011475 \n",
      "\n",
      "\n",
      "epoch 28\n",
      "-------------------------------\n",
      "Training on 84800 samples...\n",
      "Batch size: 6144\n",
      "Number of batches: 14\n"
     ]
    },
    {
     "name": "stderr",
     "output_type": "stream",
     "text": [
      "100%|██████████████████████████████████████████████████████████████████████████████████| 14/14 [00:29<00:00,  2.09s/it]\n"
     ]
    },
    {
     "name": "stdout",
     "output_type": "stream",
     "text": [
      "Training Error: \n",
      " Avg loss: 0.011500 \n",
      "\n"
     ]
    },
    {
     "name": "stderr",
     "output_type": "stream",
     "text": [
      "100%|████████████████████████████████████████████████████████████████████████████████████| 4/4 [00:04<00:00,  1.19s/it]\n"
     ]
    },
    {
     "name": "stdout",
     "output_type": "stream",
     "text": [
      "Validation Error: \n",
      " Avg loss: 0.011426 \n",
      "\n",
      "\n",
      "epoch 29\n",
      "-------------------------------\n",
      "Training on 84800 samples...\n",
      "Batch size: 6144\n",
      "Number of batches: 14\n"
     ]
    },
    {
     "name": "stderr",
     "output_type": "stream",
     "text": [
      "100%|██████████████████████████████████████████████████████████████████████████████████| 14/14 [00:28<00:00,  2.04s/it]\n"
     ]
    },
    {
     "name": "stdout",
     "output_type": "stream",
     "text": [
      "Training Error: \n",
      " Avg loss: 0.011456 \n",
      "\n"
     ]
    },
    {
     "name": "stderr",
     "output_type": "stream",
     "text": [
      "100%|████████████████████████████████████████████████████████████████████████████████████| 4/4 [00:03<00:00,  1.02it/s]\n"
     ]
    },
    {
     "name": "stdout",
     "output_type": "stream",
     "text": [
      "Validation Error: \n",
      " Avg loss: 0.011378 \n",
      "\n",
      "\n",
      "epoch 30\n",
      "-------------------------------\n",
      "Training on 84800 samples...\n",
      "Batch size: 6144\n",
      "Number of batches: 14\n"
     ]
    },
    {
     "name": "stderr",
     "output_type": "stream",
     "text": [
      "100%|██████████████████████████████████████████████████████████████████████████████████| 14/14 [00:28<00:00,  2.05s/it]\n"
     ]
    },
    {
     "name": "stdout",
     "output_type": "stream",
     "text": [
      "Training Error: \n",
      " Avg loss: 0.011414 \n",
      "\n"
     ]
    },
    {
     "name": "stderr",
     "output_type": "stream",
     "text": [
      "100%|████████████████████████████████████████████████████████████████████████████████████| 4/4 [00:03<00:00,  1.02it/s]\n"
     ]
    },
    {
     "name": "stdout",
     "output_type": "stream",
     "text": [
      "Validation Error: \n",
      " Avg loss: 0.011331 \n",
      "\n",
      "\n",
      "epoch 31\n",
      "-------------------------------\n",
      "Training on 84800 samples...\n",
      "Batch size: 6144\n",
      "Number of batches: 14\n"
     ]
    },
    {
     "name": "stderr",
     "output_type": "stream",
     "text": [
      "100%|██████████████████████████████████████████████████████████████████████████████████| 14/14 [00:28<00:00,  2.04s/it]\n"
     ]
    },
    {
     "name": "stdout",
     "output_type": "stream",
     "text": [
      "Training Error: \n",
      " Avg loss: 0.011372 \n",
      "\n"
     ]
    },
    {
     "name": "stderr",
     "output_type": "stream",
     "text": [
      "100%|████████████████████████████████████████████████████████████████████████████████████| 4/4 [00:04<00:00,  1.04s/it]\n"
     ]
    },
    {
     "name": "stdout",
     "output_type": "stream",
     "text": [
      "Validation Error: \n",
      " Avg loss: 0.011308 \n",
      "\n",
      "\n",
      "epoch 32\n",
      "-------------------------------\n",
      "Training on 84800 samples...\n",
      "Batch size: 6144\n",
      "Number of batches: 14\n"
     ]
    },
    {
     "name": "stderr",
     "output_type": "stream",
     "text": [
      "100%|██████████████████████████████████████████████████████████████████████████████████| 14/14 [00:28<00:00,  2.03s/it]\n"
     ]
    },
    {
     "name": "stdout",
     "output_type": "stream",
     "text": [
      "Training Error: \n",
      " Avg loss: 0.011346 \n",
      "\n"
     ]
    },
    {
     "name": "stderr",
     "output_type": "stream",
     "text": [
      "100%|████████████████████████████████████████████████████████████████████████████████████| 4/4 [00:04<00:00,  1.19s/it]\n"
     ]
    },
    {
     "name": "stdout",
     "output_type": "stream",
     "text": [
      "Validation Error: \n",
      " Avg loss: 0.011285 \n",
      "\n",
      "\n",
      "epoch 33\n",
      "-------------------------------\n",
      "Training on 84800 samples...\n",
      "Batch size: 6144\n",
      "Number of batches: 14\n"
     ]
    },
    {
     "name": "stderr",
     "output_type": "stream",
     "text": [
      "100%|██████████████████████████████████████████████████████████████████████████████████| 14/14 [00:28<00:00,  2.06s/it]\n"
     ]
    },
    {
     "name": "stdout",
     "output_type": "stream",
     "text": [
      "Training Error: \n",
      " Avg loss: 0.011318 \n",
      "\n"
     ]
    },
    {
     "name": "stderr",
     "output_type": "stream",
     "text": [
      "100%|████████████████████████████████████████████████████████████████████████████████████| 4/4 [00:04<00:00,  1.01s/it]\n"
     ]
    },
    {
     "name": "stdout",
     "output_type": "stream",
     "text": [
      "Validation Error: \n",
      " Avg loss: 0.011263 \n",
      "\n",
      "\n",
      "epoch 34\n",
      "-------------------------------\n",
      "Training on 84800 samples...\n",
      "Batch size: 6144\n",
      "Number of batches: 14\n"
     ]
    },
    {
     "name": "stderr",
     "output_type": "stream",
     "text": [
      "100%|██████████████████████████████████████████████████████████████████████████████████| 14/14 [00:28<00:00,  2.06s/it]\n"
     ]
    },
    {
     "name": "stdout",
     "output_type": "stream",
     "text": [
      "Training Error: \n",
      " Avg loss: 0.011307 \n",
      "\n"
     ]
    },
    {
     "name": "stderr",
     "output_type": "stream",
     "text": [
      "100%|████████████████████████████████████████████████████████████████████████████████████| 4/4 [00:04<00:00,  1.00s/it]\n"
     ]
    },
    {
     "name": "stdout",
     "output_type": "stream",
     "text": [
      "Validation Error: \n",
      " Avg loss: 0.011240 \n",
      "\n",
      "\n",
      "epoch 35\n",
      "-------------------------------\n",
      "Training on 84800 samples...\n",
      "Batch size: 6144\n",
      "Number of batches: 14\n"
     ]
    },
    {
     "name": "stderr",
     "output_type": "stream",
     "text": [
      "100%|██████████████████████████████████████████████████████████████████████████████████| 14/14 [00:30<00:00,  2.17s/it]\n"
     ]
    },
    {
     "name": "stdout",
     "output_type": "stream",
     "text": [
      "Training Error: \n",
      " Avg loss: 0.011284 \n",
      "\n"
     ]
    },
    {
     "name": "stderr",
     "output_type": "stream",
     "text": [
      "100%|████████████████████████████████████████████████████████████████████████████████████| 4/4 [00:04<00:00,  1.16s/it]\n"
     ]
    },
    {
     "name": "stdout",
     "output_type": "stream",
     "text": [
      "Validation Error: \n",
      " Avg loss: 0.011218 \n",
      "\n",
      "\n",
      "epoch 36\n",
      "-------------------------------\n",
      "Training on 84800 samples...\n",
      "Batch size: 6144\n",
      "Number of batches: 14\n"
     ]
    },
    {
     "name": "stderr",
     "output_type": "stream",
     "text": [
      "100%|██████████████████████████████████████████████████████████████████████████████████| 14/14 [00:29<00:00,  2.07s/it]\n"
     ]
    },
    {
     "name": "stdout",
     "output_type": "stream",
     "text": [
      "Training Error: \n",
      " Avg loss: 0.011255 \n",
      "\n"
     ]
    },
    {
     "name": "stderr",
     "output_type": "stream",
     "text": [
      "100%|████████████████████████████████████████████████████████████████████████████████████| 4/4 [00:03<00:00,  1.02it/s]\n"
     ]
    },
    {
     "name": "stdout",
     "output_type": "stream",
     "text": [
      "Validation Error: \n",
      " Avg loss: 0.011196 \n",
      "\n",
      "\n",
      "epoch 37\n",
      "-------------------------------\n",
      "Training on 84800 samples...\n",
      "Batch size: 6144\n",
      "Number of batches: 14\n"
     ]
    },
    {
     "name": "stderr",
     "output_type": "stream",
     "text": [
      "100%|██████████████████████████████████████████████████████████████████████████████████| 14/14 [00:28<00:00,  2.02s/it]\n"
     ]
    },
    {
     "name": "stdout",
     "output_type": "stream",
     "text": [
      "Training Error: \n",
      " Avg loss: 0.011229 \n",
      "\n"
     ]
    },
    {
     "name": "stderr",
     "output_type": "stream",
     "text": [
      "100%|████████████████████████████████████████████████████████████████████████████████████| 4/4 [00:04<00:00,  1.02s/it]\n"
     ]
    },
    {
     "name": "stdout",
     "output_type": "stream",
     "text": [
      "Validation Error: \n",
      " Avg loss: 0.011174 \n",
      "\n",
      "\n",
      "epoch 38\n",
      "-------------------------------\n",
      "Training on 84800 samples...\n",
      "Batch size: 6144\n",
      "Number of batches: 14\n"
     ]
    },
    {
     "name": "stderr",
     "output_type": "stream",
     "text": [
      "100%|██████████████████████████████████████████████████████████████████████████████████| 14/14 [00:28<00:00,  2.01s/it]\n"
     ]
    },
    {
     "name": "stdout",
     "output_type": "stream",
     "text": [
      "Training Error: \n",
      " Avg loss: 0.011214 \n",
      "\n"
     ]
    },
    {
     "name": "stderr",
     "output_type": "stream",
     "text": [
      "100%|████████████████████████████████████████████████████████████████████████████████████| 4/4 [00:03<00:00,  1.02it/s]\n"
     ]
    },
    {
     "name": "stdout",
     "output_type": "stream",
     "text": [
      "Validation Error: \n",
      " Avg loss: 0.011152 \n",
      "\n",
      "\n",
      "epoch 39\n",
      "-------------------------------\n",
      "Training on 84800 samples...\n",
      "Batch size: 6144\n",
      "Number of batches: 14\n"
     ]
    },
    {
     "name": "stderr",
     "output_type": "stream",
     "text": [
      "100%|██████████████████████████████████████████████████████████████████████████████████| 14/14 [00:28<00:00,  2.03s/it]\n"
     ]
    },
    {
     "name": "stdout",
     "output_type": "stream",
     "text": [
      "Training Error: \n",
      " Avg loss: 0.011191 \n",
      "\n"
     ]
    },
    {
     "name": "stderr",
     "output_type": "stream",
     "text": [
      "100%|████████████████████████████████████████████████████████████████████████████████████| 4/4 [00:03<00:00,  1.03it/s]\n"
     ]
    },
    {
     "name": "stdout",
     "output_type": "stream",
     "text": [
      "Validation Error: \n",
      " Avg loss: 0.011130 \n",
      "\n",
      "\n",
      "epoch 40\n",
      "-------------------------------\n",
      "Training on 84800 samples...\n",
      "Batch size: 6144\n",
      "Number of batches: 14\n"
     ]
    },
    {
     "name": "stderr",
     "output_type": "stream",
     "text": [
      "100%|██████████████████████████████████████████████████████████████████████████████████| 14/14 [00:28<00:00,  2.05s/it]\n"
     ]
    },
    {
     "name": "stdout",
     "output_type": "stream",
     "text": [
      "Training Error: \n",
      " Avg loss: 0.011169 \n",
      "\n"
     ]
    },
    {
     "name": "stderr",
     "output_type": "stream",
     "text": [
      "100%|████████████████████████████████████████████████████████████████████████████████████| 4/4 [00:04<00:00,  1.16s/it]\n"
     ]
    },
    {
     "name": "stdout",
     "output_type": "stream",
     "text": [
      "Validation Error: \n",
      " Avg loss: 0.011108 \n",
      "\n",
      "\n",
      "epoch 41\n",
      "-------------------------------\n",
      "Training on 84800 samples...\n",
      "Batch size: 6144\n",
      "Number of batches: 14\n"
     ]
    },
    {
     "name": "stderr",
     "output_type": "stream",
     "text": [
      "100%|██████████████████████████████████████████████████████████████████████████████████| 14/14 [00:28<00:00,  2.07s/it]\n"
     ]
    },
    {
     "name": "stdout",
     "output_type": "stream",
     "text": [
      "Training Error: \n",
      " Avg loss: 0.011147 \n",
      "\n"
     ]
    },
    {
     "name": "stderr",
     "output_type": "stream",
     "text": [
      "100%|████████████████████████████████████████████████████████████████████████████████████| 4/4 [00:03<00:00,  1.05it/s]\n"
     ]
    },
    {
     "name": "stdout",
     "output_type": "stream",
     "text": [
      "Validation Error: \n",
      " Avg loss: 0.011098 \n",
      "\n",
      "\n",
      "epoch 42\n",
      "-------------------------------\n",
      "Training on 84800 samples...\n",
      "Batch size: 6144\n",
      "Number of batches: 14\n"
     ]
    },
    {
     "name": "stderr",
     "output_type": "stream",
     "text": [
      "100%|██████████████████████████████████████████████████████████████████████████████████| 14/14 [00:28<00:00,  2.06s/it]\n"
     ]
    },
    {
     "name": "stdout",
     "output_type": "stream",
     "text": [
      "Training Error: \n",
      " Avg loss: 0.011137 \n",
      "\n"
     ]
    },
    {
     "name": "stderr",
     "output_type": "stream",
     "text": [
      "100%|████████████████████████████████████████████████████████████████████████████████████| 4/4 [00:04<00:00,  1.00s/it]\n"
     ]
    },
    {
     "name": "stdout",
     "output_type": "stream",
     "text": [
      "Validation Error: \n",
      " Avg loss: 0.011087 \n",
      "\n",
      "\n",
      "epoch 43\n",
      "-------------------------------\n",
      "Training on 84800 samples...\n",
      "Batch size: 6144\n",
      "Number of batches: 14\n"
     ]
    },
    {
     "name": "stderr",
     "output_type": "stream",
     "text": [
      "100%|██████████████████████████████████████████████████████████████████████████████████| 14/14 [00:30<00:00,  2.15s/it]\n"
     ]
    },
    {
     "name": "stdout",
     "output_type": "stream",
     "text": [
      "Training Error: \n",
      " Avg loss: 0.011132 \n",
      "\n"
     ]
    },
    {
     "name": "stderr",
     "output_type": "stream",
     "text": [
      "100%|████████████████████████████████████████████████████████████████████████████████████| 4/4 [00:04<00:00,  1.16s/it]\n"
     ]
    },
    {
     "name": "stdout",
     "output_type": "stream",
     "text": [
      "Validation Error: \n",
      " Avg loss: 0.011076 \n",
      "\n",
      "\n",
      "epoch 44\n",
      "-------------------------------\n",
      "Training on 84800 samples...\n",
      "Batch size: 6144\n",
      "Number of batches: 14\n"
     ]
    },
    {
     "name": "stderr",
     "output_type": "stream",
     "text": [
      "100%|██████████████████████████████████████████████████████████████████████████████████| 14/14 [00:28<00:00,  2.04s/it]\n"
     ]
    },
    {
     "name": "stdout",
     "output_type": "stream",
     "text": [
      "Training Error: \n",
      " Avg loss: 0.011116 \n",
      "\n"
     ]
    },
    {
     "name": "stderr",
     "output_type": "stream",
     "text": [
      "100%|████████████████████████████████████████████████████████████████████████████████████| 4/4 [00:04<00:00,  1.19s/it]\n"
     ]
    },
    {
     "name": "stdout",
     "output_type": "stream",
     "text": [
      "Validation Error: \n",
      " Avg loss: 0.011066 \n",
      "\n",
      "\n",
      "epoch 45\n",
      "-------------------------------\n",
      "Training on 84800 samples...\n",
      "Batch size: 6144\n",
      "Number of batches: 14\n"
     ]
    },
    {
     "name": "stderr",
     "output_type": "stream",
     "text": [
      "100%|██████████████████████████████████████████████████████████████████████████████████| 14/14 [00:28<00:00,  2.04s/it]\n"
     ]
    },
    {
     "name": "stdout",
     "output_type": "stream",
     "text": [
      "Training Error: \n",
      " Avg loss: 0.011106 \n",
      "\n"
     ]
    },
    {
     "name": "stderr",
     "output_type": "stream",
     "text": [
      "100%|████████████████████████████████████████████████████████████████████████████████████| 4/4 [00:04<00:00,  1.02s/it]\n"
     ]
    },
    {
     "name": "stdout",
     "output_type": "stream",
     "text": [
      "Validation Error: \n",
      " Avg loss: 0.011055 \n",
      "\n",
      "\n",
      "epoch 46\n",
      "-------------------------------\n",
      "Training on 84800 samples...\n",
      "Batch size: 6144\n",
      "Number of batches: 14\n"
     ]
    },
    {
     "name": "stderr",
     "output_type": "stream",
     "text": [
      "100%|██████████████████████████████████████████████████████████████████████████████████| 14/14 [00:28<00:00,  2.07s/it]\n"
     ]
    },
    {
     "name": "stdout",
     "output_type": "stream",
     "text": [
      "Training Error: \n",
      " Avg loss: 0.011090 \n",
      "\n"
     ]
    },
    {
     "name": "stderr",
     "output_type": "stream",
     "text": [
      "100%|████████████████████████████████████████████████████████████████████████████████████| 4/4 [00:05<00:00,  1.32s/it]\n"
     ]
    },
    {
     "name": "stdout",
     "output_type": "stream",
     "text": [
      "Validation Error: \n",
      " Avg loss: 0.011044 \n",
      "\n",
      "\n",
      "epoch 47\n",
      "-------------------------------\n",
      "Training on 84800 samples...\n",
      "Batch size: 6144\n",
      "Number of batches: 14\n"
     ]
    },
    {
     "name": "stderr",
     "output_type": "stream",
     "text": [
      "100%|██████████████████████████████████████████████████████████████████████████████████| 14/14 [00:28<00:00,  2.05s/it]\n"
     ]
    },
    {
     "name": "stdout",
     "output_type": "stream",
     "text": [
      "Training Error: \n",
      " Avg loss: 0.011079 \n",
      "\n"
     ]
    },
    {
     "name": "stderr",
     "output_type": "stream",
     "text": [
      "100%|████████████████████████████████████████████████████████████████████████████████████| 4/4 [00:04<00:00,  1.02s/it]\n"
     ]
    },
    {
     "name": "stdout",
     "output_type": "stream",
     "text": [
      "Validation Error: \n",
      " Avg loss: 0.011034 \n",
      "\n",
      "\n",
      "epoch 48\n",
      "-------------------------------\n",
      "Training on 84800 samples...\n",
      "Batch size: 6144\n",
      "Number of batches: 14\n"
     ]
    },
    {
     "name": "stderr",
     "output_type": "stream",
     "text": [
      "100%|██████████████████████████████████████████████████████████████████████████████████| 14/14 [00:28<00:00,  2.00s/it]\n"
     ]
    },
    {
     "name": "stdout",
     "output_type": "stream",
     "text": [
      "Training Error: \n",
      " Avg loss: 0.011076 \n",
      "\n"
     ]
    },
    {
     "name": "stderr",
     "output_type": "stream",
     "text": [
      "100%|████████████████████████████████████████████████████████████████████████████████████| 4/4 [00:03<00:00,  1.00it/s]\n"
     ]
    },
    {
     "name": "stdout",
     "output_type": "stream",
     "text": [
      "Validation Error: \n",
      " Avg loss: 0.011023 \n",
      "\n",
      "\n",
      "epoch 49\n",
      "-------------------------------\n",
      "Training on 84800 samples...\n",
      "Batch size: 6144\n",
      "Number of batches: 14\n"
     ]
    },
    {
     "name": "stderr",
     "output_type": "stream",
     "text": [
      "100%|██████████████████████████████████████████████████████████████████████████████████| 14/14 [00:28<00:00,  2.02s/it]\n"
     ]
    },
    {
     "name": "stdout",
     "output_type": "stream",
     "text": [
      "Training Error: \n",
      " Avg loss: 0.011061 \n",
      "\n"
     ]
    },
    {
     "name": "stderr",
     "output_type": "stream",
     "text": [
      "100%|████████████████████████████████████████████████████████████████████████████████████| 4/4 [00:04<00:00,  1.18s/it]\n"
     ]
    },
    {
     "name": "stdout",
     "output_type": "stream",
     "text": [
      "Validation Error: \n",
      " Avg loss: 0.011013 \n",
      "\n",
      "\n",
      "epoch 50\n",
      "-------------------------------\n",
      "Training on 84800 samples...\n",
      "Batch size: 6144\n",
      "Number of batches: 14\n"
     ]
    },
    {
     "name": "stderr",
     "output_type": "stream",
     "text": [
      "100%|██████████████████████████████████████████████████████████████████████████████████| 14/14 [00:28<00:00,  2.06s/it]\n"
     ]
    },
    {
     "name": "stdout",
     "output_type": "stream",
     "text": [
      "Training Error: \n",
      " Avg loss: 0.011051 \n",
      "\n"
     ]
    },
    {
     "name": "stderr",
     "output_type": "stream",
     "text": [
      "100%|████████████████████████████████████████████████████████████████████████████████████| 4/4 [00:04<00:00,  1.01s/it]\n"
     ]
    },
    {
     "name": "stdout",
     "output_type": "stream",
     "text": [
      "Validation Error: \n",
      " Avg loss: 0.011002 \n",
      "\n",
      "\n",
      "epoch 51\n",
      "-------------------------------\n",
      "Training on 84800 samples...\n",
      "Batch size: 6144\n",
      "Number of batches: 14\n"
     ]
    },
    {
     "name": "stderr",
     "output_type": "stream",
     "text": [
      "100%|██████████████████████████████████████████████████████████████████████████████████| 14/14 [00:30<00:00,  2.19s/it]\n"
     ]
    },
    {
     "name": "stdout",
     "output_type": "stream",
     "text": [
      "Training Error: \n",
      " Avg loss: 0.011048 \n",
      "\n"
     ]
    },
    {
     "name": "stderr",
     "output_type": "stream",
     "text": [
      "100%|████████████████████████████████████████████████████████████████████████████████████| 4/4 [00:03<00:00,  1.03it/s]\n"
     ]
    },
    {
     "name": "stdout",
     "output_type": "stream",
     "text": [
      "Validation Error: \n",
      " Avg loss: 0.010997 \n",
      "\n",
      "\n",
      "epoch 52\n",
      "-------------------------------\n",
      "Training on 84800 samples...\n",
      "Batch size: 6144\n",
      "Number of batches: 14\n"
     ]
    },
    {
     "name": "stderr",
     "output_type": "stream",
     "text": [
      "100%|██████████████████████████████████████████████████████████████████████████████████| 14/14 [00:30<00:00,  2.19s/it]\n"
     ]
    },
    {
     "name": "stdout",
     "output_type": "stream",
     "text": [
      "Training Error: \n",
      " Avg loss: 0.011039 \n",
      "\n"
     ]
    },
    {
     "name": "stderr",
     "output_type": "stream",
     "text": [
      "100%|████████████████████████████████████████████████████████████████████████████████████| 4/4 [00:03<00:00,  1.05it/s]\n"
     ]
    },
    {
     "name": "stdout",
     "output_type": "stream",
     "text": [
      "Validation Error: \n",
      " Avg loss: 0.010992 \n",
      "\n",
      "\n",
      "epoch 53\n",
      "-------------------------------\n",
      "Training on 84800 samples...\n",
      "Batch size: 6144\n",
      "Number of batches: 14\n"
     ]
    },
    {
     "name": "stderr",
     "output_type": "stream",
     "text": [
      "100%|██████████████████████████████████████████████████████████████████████████████████| 14/14 [00:33<00:00,  2.37s/it]\n"
     ]
    },
    {
     "name": "stdout",
     "output_type": "stream",
     "text": [
      "Training Error: \n",
      " Avg loss: 0.011031 \n",
      "\n"
     ]
    },
    {
     "name": "stderr",
     "output_type": "stream",
     "text": [
      "100%|████████████████████████████████████████████████████████████████████████████████████| 4/4 [00:03<00:00,  1.03it/s]\n"
     ]
    },
    {
     "name": "stdout",
     "output_type": "stream",
     "text": [
      "Validation Error: \n",
      " Avg loss: 0.010986 \n",
      "\n",
      "\n",
      "epoch 54\n",
      "-------------------------------\n",
      "Training on 84800 samples...\n",
      "Batch size: 6144\n",
      "Number of batches: 14\n"
     ]
    },
    {
     "name": "stderr",
     "output_type": "stream",
     "text": [
      "100%|██████████████████████████████████████████████████████████████████████████████████| 14/14 [00:31<00:00,  2.24s/it]\n"
     ]
    },
    {
     "name": "stdout",
     "output_type": "stream",
     "text": [
      "Training Error: \n",
      " Avg loss: 0.011028 \n",
      "\n"
     ]
    },
    {
     "name": "stderr",
     "output_type": "stream",
     "text": [
      "100%|████████████████████████████████████████████████████████████████████████████████████| 4/4 [00:04<00:00,  1.04s/it]\n"
     ]
    },
    {
     "name": "stdout",
     "output_type": "stream",
     "text": [
      "Validation Error: \n",
      " Avg loss: 0.010981 \n",
      "\n",
      "\n",
      "epoch 55\n",
      "-------------------------------\n",
      "Training on 84800 samples...\n",
      "Batch size: 6144\n",
      "Number of batches: 14\n"
     ]
    },
    {
     "name": "stderr",
     "output_type": "stream",
     "text": [
      "100%|██████████████████████████████████████████████████████████████████████████████████| 14/14 [00:28<00:00,  2.02s/it]\n"
     ]
    },
    {
     "name": "stdout",
     "output_type": "stream",
     "text": [
      "Training Error: \n",
      " Avg loss: 0.011028 \n",
      "\n"
     ]
    },
    {
     "name": "stderr",
     "output_type": "stream",
     "text": [
      "100%|████████████████████████████████████████████████████████████████████████████████████| 4/4 [00:03<00:00,  1.05it/s]\n"
     ]
    },
    {
     "name": "stdout",
     "output_type": "stream",
     "text": [
      "Validation Error: \n",
      " Avg loss: 0.010976 \n",
      "\n",
      "\n",
      "epoch 56\n",
      "-------------------------------\n",
      "Training on 84800 samples...\n",
      "Batch size: 6144\n",
      "Number of batches: 14\n"
     ]
    },
    {
     "name": "stderr",
     "output_type": "stream",
     "text": [
      "100%|██████████████████████████████████████████████████████████████████████████████████| 14/14 [00:28<00:00,  2.02s/it]\n"
     ]
    },
    {
     "name": "stdout",
     "output_type": "stream",
     "text": [
      "Training Error: \n",
      " Avg loss: 0.011021 \n",
      "\n"
     ]
    },
    {
     "name": "stderr",
     "output_type": "stream",
     "text": [
      "100%|████████████████████████████████████████████████████████████████████████████████████| 4/4 [00:03<00:00,  1.00it/s]\n"
     ]
    },
    {
     "name": "stdout",
     "output_type": "stream",
     "text": [
      "Validation Error: \n",
      " Avg loss: 0.010971 \n",
      "\n",
      "\n",
      "epoch 57\n",
      "-------------------------------\n",
      "Training on 84800 samples...\n",
      "Batch size: 6144\n",
      "Number of batches: 14\n"
     ]
    },
    {
     "name": "stderr",
     "output_type": "stream",
     "text": [
      "100%|██████████████████████████████████████████████████████████████████████████████████| 14/14 [00:28<00:00,  2.06s/it]\n"
     ]
    },
    {
     "name": "stdout",
     "output_type": "stream",
     "text": [
      "Training Error: \n",
      " Avg loss: 0.011015 \n",
      "\n"
     ]
    },
    {
     "name": "stderr",
     "output_type": "stream",
     "text": [
      "100%|████████████████████████████████████████████████████████████████████████████████████| 4/4 [00:03<00:00,  1.05it/s]\n"
     ]
    },
    {
     "name": "stdout",
     "output_type": "stream",
     "text": [
      "Validation Error: \n",
      " Avg loss: 0.010965 \n",
      "\n",
      "\n",
      "epoch 58\n",
      "-------------------------------\n",
      "Training on 84800 samples...\n",
      "Batch size: 6144\n",
      "Number of batches: 14\n"
     ]
    },
    {
     "name": "stderr",
     "output_type": "stream",
     "text": [
      "100%|██████████████████████████████████████████████████████████████████████████████████| 14/14 [00:28<00:00,  2.03s/it]\n"
     ]
    },
    {
     "name": "stdout",
     "output_type": "stream",
     "text": [
      "Training Error: \n",
      " Avg loss: 0.011008 \n",
      "\n"
     ]
    },
    {
     "name": "stderr",
     "output_type": "stream",
     "text": [
      "100%|████████████████████████████████████████████████████████████████████████████████████| 4/4 [00:03<00:00,  1.03it/s]\n"
     ]
    },
    {
     "name": "stdout",
     "output_type": "stream",
     "text": [
      "Validation Error: \n",
      " Avg loss: 0.010960 \n",
      "\n",
      "\n",
      "epoch 59\n",
      "-------------------------------\n",
      "Training on 84800 samples...\n",
      "Batch size: 6144\n",
      "Number of batches: 14\n"
     ]
    },
    {
     "name": "stderr",
     "output_type": "stream",
     "text": [
      "100%|██████████████████████████████████████████████████████████████████████████████████| 14/14 [00:28<00:00,  2.05s/it]\n"
     ]
    },
    {
     "name": "stdout",
     "output_type": "stream",
     "text": [
      "Training Error: \n",
      " Avg loss: 0.011004 \n",
      "\n"
     ]
    },
    {
     "name": "stderr",
     "output_type": "stream",
     "text": [
      "100%|████████████████████████████████████████████████████████████████████████████████████| 4/4 [00:04<00:00,  1.01s/it]\n"
     ]
    },
    {
     "name": "stdout",
     "output_type": "stream",
     "text": [
      "Validation Error: \n",
      " Avg loss: 0.010955 \n",
      "\n",
      "\n",
      "epoch 60\n",
      "-------------------------------\n",
      "Training on 84800 samples...\n",
      "Batch size: 6144\n",
      "Number of batches: 14\n"
     ]
    },
    {
     "name": "stderr",
     "output_type": "stream",
     "text": [
      "100%|██████████████████████████████████████████████████████████████████████████████████| 14/14 [00:28<00:00,  2.04s/it]\n"
     ]
    },
    {
     "name": "stdout",
     "output_type": "stream",
     "text": [
      "Training Error: \n",
      " Avg loss: 0.010998 \n",
      "\n"
     ]
    },
    {
     "name": "stderr",
     "output_type": "stream",
     "text": [
      "100%|████████████████████████████████████████████████████████████████████████████████████| 4/4 [00:04<00:00,  1.20s/it]\n"
     ]
    },
    {
     "name": "stdout",
     "output_type": "stream",
     "text": [
      "Validation Error: \n",
      " Avg loss: 0.010950 \n",
      "\n",
      "\n",
      "epoch 61\n",
      "-------------------------------\n",
      "Training on 84800 samples...\n",
      "Batch size: 6144\n",
      "Number of batches: 14\n"
     ]
    },
    {
     "name": "stderr",
     "output_type": "stream",
     "text": [
      "100%|██████████████████████████████████████████████████████████████████████████████████| 14/14 [00:28<00:00,  2.03s/it]\n"
     ]
    },
    {
     "name": "stdout",
     "output_type": "stream",
     "text": [
      "Training Error: \n",
      " Avg loss: 0.010989 \n",
      "\n"
     ]
    },
    {
     "name": "stderr",
     "output_type": "stream",
     "text": [
      "100%|████████████████████████████████████████████████████████████████████████████████████| 4/4 [00:04<00:00,  1.01s/it]\n"
     ]
    },
    {
     "name": "stdout",
     "output_type": "stream",
     "text": [
      "Validation Error: \n",
      " Avg loss: 0.010947 \n",
      "\n",
      "\n",
      "epoch 62\n",
      "-------------------------------\n",
      "Training on 84800 samples...\n",
      "Batch size: 6144\n",
      "Number of batches: 14\n"
     ]
    },
    {
     "name": "stderr",
     "output_type": "stream",
     "text": [
      "100%|██████████████████████████████████████████████████████████████████████████████████| 14/14 [00:29<00:00,  2.11s/it]\n"
     ]
    },
    {
     "name": "stdout",
     "output_type": "stream",
     "text": [
      "Training Error: \n",
      " Avg loss: 0.010988 \n",
      "\n"
     ]
    },
    {
     "name": "stderr",
     "output_type": "stream",
     "text": [
      "100%|████████████████████████████████████████████████████████████████████████████████████| 4/4 [00:04<00:00,  1.02s/it]\n"
     ]
    },
    {
     "name": "stdout",
     "output_type": "stream",
     "text": [
      "Validation Error: \n",
      " Avg loss: 0.010945 \n",
      "\n",
      "\n",
      "epoch 63\n",
      "-------------------------------\n",
      "Training on 84800 samples...\n",
      "Batch size: 6144\n",
      "Number of batches: 14\n"
     ]
    },
    {
     "name": "stderr",
     "output_type": "stream",
     "text": [
      "100%|██████████████████████████████████████████████████████████████████████████████████| 14/14 [00:28<00:00,  2.02s/it]\n"
     ]
    },
    {
     "name": "stdout",
     "output_type": "stream",
     "text": [
      "Training Error: \n",
      " Avg loss: 0.010985 \n",
      "\n"
     ]
    },
    {
     "name": "stderr",
     "output_type": "stream",
     "text": [
      "100%|████████████████████████████████████████████████████████████████████████████████████| 4/4 [00:04<00:00,  1.01s/it]\n"
     ]
    },
    {
     "name": "stdout",
     "output_type": "stream",
     "text": [
      "Validation Error: \n",
      " Avg loss: 0.010942 \n",
      "\n",
      "\n",
      "epoch 64\n",
      "-------------------------------\n",
      "Training on 84800 samples...\n",
      "Batch size: 6144\n",
      "Number of batches: 14\n"
     ]
    },
    {
     "name": "stderr",
     "output_type": "stream",
     "text": [
      "100%|██████████████████████████████████████████████████████████████████████████████████| 14/14 [00:28<00:00,  2.01s/it]\n"
     ]
    },
    {
     "name": "stdout",
     "output_type": "stream",
     "text": [
      "Training Error: \n",
      " Avg loss: 0.010986 \n",
      "\n"
     ]
    },
    {
     "name": "stderr",
     "output_type": "stream",
     "text": [
      "100%|████████████████████████████████████████████████████████████████████████████████████| 4/4 [00:03<00:00,  1.02it/s]\n"
     ]
    },
    {
     "name": "stdout",
     "output_type": "stream",
     "text": [
      "Validation Error: \n",
      " Avg loss: 0.010940 \n",
      "\n",
      "\n",
      "epoch 65\n",
      "-------------------------------\n",
      "Training on 84800 samples...\n",
      "Batch size: 6144\n",
      "Number of batches: 14\n"
     ]
    },
    {
     "name": "stderr",
     "output_type": "stream",
     "text": [
      "100%|██████████████████████████████████████████████████████████████████████████████████| 14/14 [00:28<00:00,  2.01s/it]\n"
     ]
    },
    {
     "name": "stdout",
     "output_type": "stream",
     "text": [
      "Training Error: \n",
      " Avg loss: 0.010989 \n",
      "\n"
     ]
    },
    {
     "name": "stderr",
     "output_type": "stream",
     "text": [
      "100%|████████████████████████████████████████████████████████████████████████████████████| 4/4 [00:03<00:00,  1.05it/s]\n"
     ]
    },
    {
     "name": "stdout",
     "output_type": "stream",
     "text": [
      "Validation Error: \n",
      " Avg loss: 0.010937 \n",
      "\n",
      "\n",
      "epoch 66\n",
      "-------------------------------\n",
      "Training on 84800 samples...\n",
      "Batch size: 6144\n",
      "Number of batches: 14\n"
     ]
    },
    {
     "name": "stderr",
     "output_type": "stream",
     "text": [
      "100%|██████████████████████████████████████████████████████████████████████████████████| 14/14 [00:28<00:00,  2.01s/it]\n"
     ]
    },
    {
     "name": "stdout",
     "output_type": "stream",
     "text": [
      "Training Error: \n",
      " Avg loss: 0.010981 \n",
      "\n"
     ]
    },
    {
     "name": "stderr",
     "output_type": "stream",
     "text": [
      "100%|████████████████████████████████████████████████████████████████████████████████████| 4/4 [00:03<00:00,  1.03it/s]\n"
     ]
    },
    {
     "name": "stdout",
     "output_type": "stream",
     "text": [
      "Validation Error: \n",
      " Avg loss: 0.010934 \n",
      "\n",
      "\n",
      "epoch 67\n",
      "-------------------------------\n",
      "Training on 84800 samples...\n",
      "Batch size: 6144\n",
      "Number of batches: 14\n"
     ]
    },
    {
     "name": "stderr",
     "output_type": "stream",
     "text": [
      "100%|██████████████████████████████████████████████████████████████████████████████████| 14/14 [00:30<00:00,  2.20s/it]\n"
     ]
    },
    {
     "name": "stdout",
     "output_type": "stream",
     "text": [
      "Training Error: \n",
      " Avg loss: 0.010978 \n",
      "\n"
     ]
    },
    {
     "name": "stderr",
     "output_type": "stream",
     "text": [
      "100%|████████████████████████████████████████████████████████████████████████████████████| 4/4 [00:03<00:00,  1.01it/s]\n"
     ]
    },
    {
     "name": "stdout",
     "output_type": "stream",
     "text": [
      "Validation Error: \n",
      " Avg loss: 0.010932 \n",
      "\n",
      "\n",
      "epoch 68\n",
      "-------------------------------\n",
      "Training on 84800 samples...\n",
      "Batch size: 6144\n",
      "Number of batches: 14\n"
     ]
    },
    {
     "name": "stderr",
     "output_type": "stream",
     "text": [
      "100%|██████████████████████████████████████████████████████████████████████████████████| 14/14 [00:31<00:00,  2.25s/it]\n"
     ]
    },
    {
     "name": "stdout",
     "output_type": "stream",
     "text": [
      "Training Error: \n",
      " Avg loss: 0.010973 \n",
      "\n"
     ]
    },
    {
     "name": "stderr",
     "output_type": "stream",
     "text": [
      "100%|████████████████████████████████████████████████████████████████████████████████████| 4/4 [00:03<00:00,  1.05it/s]\n"
     ]
    },
    {
     "name": "stdout",
     "output_type": "stream",
     "text": [
      "Validation Error: \n",
      " Avg loss: 0.010929 \n",
      "\n",
      "\n",
      "epoch 69\n",
      "-------------------------------\n",
      "Training on 84800 samples...\n",
      "Batch size: 6144\n",
      "Number of batches: 14\n"
     ]
    },
    {
     "name": "stderr",
     "output_type": "stream",
     "text": [
      "100%|██████████████████████████████████████████████████████████████████████████████████| 14/14 [00:28<00:00,  2.06s/it]\n"
     ]
    },
    {
     "name": "stdout",
     "output_type": "stream",
     "text": [
      "Training Error: \n",
      " Avg loss: 0.010968 \n",
      "\n"
     ]
    },
    {
     "name": "stderr",
     "output_type": "stream",
     "text": [
      "100%|████████████████████████████████████████████████████████████████████████████████████| 4/4 [00:03<00:00,  1.01it/s]"
     ]
    },
    {
     "name": "stdout",
     "output_type": "stream",
     "text": [
      "Validation Error: \n",
      " Avg loss: 0.010927 \n",
      "\n",
      "Done!\n",
      "CPU times: total: 59min 59s\n",
      "Wall time: 1h 9min 6s\n"
     ]
    },
    {
     "name": "stderr",
     "output_type": "stream",
     "text": [
      "\n"
     ]
    }
   ],
   "source": [
    "%%time\n",
    "train_loss = 0\n",
    "validation_loss = 0\n",
    "epochs = 70\n",
    "\n",
    "######\n",
    "epoch_array = []\n",
    "time_array = []\n",
    "lr_array = []\n",
    "######\n",
    "\n",
    "# melhor usar lista e depois converter para array\n",
    "train_loss_array = list()\n",
    "validation_loss_array = list()\n",
    "for index, t in enumerate(range(epochs)):\n",
    "    current_epoch = load_model_helper.get_current_epoch(index, t, starting_epoch)\n",
    "    \n",
    "    print(f\"\\nepoch {current_epoch}\\n-------------------------------\")\n",
    "\n",
    "    start_time = time.time()  # Start timing the epoch\n",
    "\n",
    "    train_loss = train_loop(train_dataloader, model, loss_fn, optimizer)\n",
    "    validation_loss = validation_loop(validation_dataloader, model, loss_fn)\n",
    "    \n",
    "    train_loss_array.append(train_loss)\n",
    "    validation_loss_array.append(validation_loss)\n",
    "\n",
    "    elapsed_time = time.time() - start_time  # Calculate elapsed time for the epoch\n",
    "    \n",
    "    ######\n",
    "    epoch_array.append(current_epoch)\n",
    "    time_array.append(elapsed_time)\n",
    "    lr_array.append(optimizer.param_groups[0]['lr'])\n",
    "    ######\n",
    "    \n",
    "    # updating learning rate\n",
    "    if current_epoch % 10 == 0 and current_epoch > 0:\n",
    "        optimizer.param_groups[0]['lr'] /= 2\n",
    "\n",
    "    if not EXPERIMENTAL_MODE:\n",
    "      df_path = '/content/gdrive/My Drive/TCC/code/models/SRCNN/testing/train_session_testing/SRCNN_train_vs_validation_loss.csv'\n",
    "      save_model_helper.save_df(df_path, train_loss, validation_loss, current_epoch, elapsed_time)\n",
    "      save_model_helper.save_epoch(current_epoch, train_loss, validation_loss)\n",
    "    \n",
    "print(\"Done!\")"
   ]
  },
  {
   "cell_type": "markdown",
   "metadata": {},
   "source": [
    "# Train x Validation Loss"
   ]
  },
  {
   "cell_type": "code",
   "execution_count": 22,
   "metadata": {},
   "outputs": [
    {
     "data": {
      "image/png": "[encoded data removed]",
      "text/plain": [
       "<Figure size 1000x1000 with 1 Axes>"
      ]
     },
     "metadata": {},
     "output_type": "display_data"
    }
   ],
   "source": [
    "train_loss_array = np.array(train_loss_array)\n",
    "validation_loss_array = np.array(validation_loss_array)\n",
    "\n",
    "plt.figure(figsize=(10, 10))\n",
    "plt.plot(range(len(train_loss_array)), train_loss_array, label='train_loss')\n",
    "plt.plot(range(len(validation_loss_array)), validation_loss_array, label='validation_loss')\n",
    "plt.xlabel('Epoch')\n",
    "plt.ylabel('Loss')\n",
    "plt.title('Train and Validation Loss')\n",
    "plt.legend()\n",
    "plt.show()"
   ]
  },
  {
   "cell_type": "code",
   "execution_count": 23,
   "metadata": {},
   "outputs": [
    {
     "data": {
      "text/html": [
       "<div>\n",
       "<style scoped>\n",
       "    .dataframe tbody tr th:only-of-type {\n",
       "        vertical-align: middle;\n",
       "    }\n",
       "\n",
       "    .dataframe tbody tr th {\n",
       "        vertical-align: top;\n",
       "    }\n",
       "\n",
       "    .dataframe thead th {\n",
       "        text-align: right;\n",
       "    }\n",
       "</style>\n",
       "<table border=\"1\" class=\"dataframe\">\n",
       "  <thead>\n",
       "    <tr style=\"text-align: right;\">\n",
       "      <th></th>\n",
       "      <th>Train Loss</th>\n",
       "      <th>Validation Loss</th>\n",
       "      <th>epoch</th>\n",
       "      <th>learning rate</th>\n",
       "      <th>epoch_duration [s]</th>\n",
       "    </tr>\n",
       "  </thead>\n",
       "  <tbody>\n",
       "    <tr>\n",
       "      <th>0</th>\n",
       "      <td>0.207461</td>\n",
       "      <td>0.158377</td>\n",
       "      <td>0</td>\n",
       "      <td>0.001</td>\n",
       "      <td>60.354592</td>\n",
       "    </tr>\n",
       "    <tr>\n",
       "      <th>1</th>\n",
       "      <td>0.138245</td>\n",
       "      <td>0.123857</td>\n",
       "      <td>1</td>\n",
       "      <td>0.001</td>\n",
       "      <td>60.541115</td>\n",
       "    </tr>\n",
       "    <tr>\n",
       "      <th>2</th>\n",
       "      <td>0.117246</td>\n",
       "      <td>0.113368</td>\n",
       "      <td>2</td>\n",
       "      <td>0.001</td>\n",
       "      <td>60.676974</td>\n",
       "    </tr>\n",
       "    <tr>\n",
       "      <th>3</th>\n",
       "      <td>0.110761</td>\n",
       "      <td>0.110113</td>\n",
       "      <td>3</td>\n",
       "      <td>0.001</td>\n",
       "      <td>59.164249</td>\n",
       "    </tr>\n",
       "    <tr>\n",
       "      <th>4</th>\n",
       "      <td>0.108747</td>\n",
       "      <td>0.109040</td>\n",
       "      <td>4</td>\n",
       "      <td>0.001</td>\n",
       "      <td>61.723984</td>\n",
       "    </tr>\n",
       "  </tbody>\n",
       "</table>\n",
       "</div>"
      ],
      "text/plain": [
       "   Train Loss  Validation Loss  epoch  learning rate  epoch_duration [s]\n",
       "0    0.207461         0.158377      0          0.001           60.354592\n",
       "1    0.138245         0.123857      1          0.001           60.541115\n",
       "2    0.117246         0.113368      2          0.001           60.676974\n",
       "3    0.110761         0.110113      3          0.001           59.164249\n",
       "4    0.108747         0.109040      4          0.001           61.723984"
      ]
     },
     "execution_count": 23,
     "metadata": {},
     "output_type": "execute_result"
    }
   ],
   "source": [
    "df = pd.DataFrame({'Train Loss': train_loss_array, 'Validation Loss': validation_loss_array, 'epoch': epoch_array, 'learning rate': lr_array, 'epoch_duration [s]': time_array})\n",
    "df.head()"
   ]
  },
  {
   "cell_type": "code",
   "execution_count": 24,
   "metadata": {},
   "outputs": [
    {
     "data": {
      "text/html": [
       "<div>\n",
       "<style scoped>\n",
       "    .dataframe tbody tr th:only-of-type {\n",
       "        vertical-align: middle;\n",
       "    }\n",
       "\n",
       "    .dataframe tbody tr th {\n",
       "        vertical-align: top;\n",
       "    }\n",
       "\n",
       "    .dataframe thead th {\n",
       "        text-align: right;\n",
       "    }\n",
       "</style>\n",
       "<table border=\"1\" class=\"dataframe\">\n",
       "  <thead>\n",
       "    <tr style=\"text-align: right;\">\n",
       "      <th></th>\n",
       "      <th>Train Loss</th>\n",
       "      <th>Validation Loss</th>\n",
       "      <th>epoch</th>\n",
       "      <th>learning rate</th>\n",
       "      <th>epoch_duration [s]</th>\n",
       "    </tr>\n",
       "  </thead>\n",
       "  <tbody>\n",
       "    <tr>\n",
       "      <th>0</th>\n",
       "      <td>0.207461</td>\n",
       "      <td>0.158377</td>\n",
       "      <td>0</td>\n",
       "      <td>0.001000</td>\n",
       "      <td>60.354592</td>\n",
       "    </tr>\n",
       "    <tr>\n",
       "      <th>1</th>\n",
       "      <td>0.138245</td>\n",
       "      <td>0.123857</td>\n",
       "      <td>1</td>\n",
       "      <td>0.001000</td>\n",
       "      <td>60.541115</td>\n",
       "    </tr>\n",
       "    <tr>\n",
       "      <th>2</th>\n",
       "      <td>0.117246</td>\n",
       "      <td>0.113368</td>\n",
       "      <td>2</td>\n",
       "      <td>0.001000</td>\n",
       "      <td>60.676974</td>\n",
       "    </tr>\n",
       "    <tr>\n",
       "      <th>3</th>\n",
       "      <td>0.110761</td>\n",
       "      <td>0.110113</td>\n",
       "      <td>3</td>\n",
       "      <td>0.001000</td>\n",
       "      <td>59.164249</td>\n",
       "    </tr>\n",
       "    <tr>\n",
       "      <th>4</th>\n",
       "      <td>0.108747</td>\n",
       "      <td>0.109040</td>\n",
       "      <td>4</td>\n",
       "      <td>0.001000</td>\n",
       "      <td>61.723984</td>\n",
       "    </tr>\n",
       "    <tr>\n",
       "      <th>...</th>\n",
       "      <td>...</td>\n",
       "      <td>...</td>\n",
       "      <td>...</td>\n",
       "      <td>...</td>\n",
       "      <td>...</td>\n",
       "    </tr>\n",
       "    <tr>\n",
       "      <th>65</th>\n",
       "      <td>0.010989</td>\n",
       "      <td>0.010937</td>\n",
       "      <td>65</td>\n",
       "      <td>0.000016</td>\n",
       "      <td>55.199754</td>\n",
       "    </tr>\n",
       "    <tr>\n",
       "      <th>66</th>\n",
       "      <td>0.010981</td>\n",
       "      <td>0.010934</td>\n",
       "      <td>66</td>\n",
       "      <td>0.000016</td>\n",
       "      <td>60.247551</td>\n",
       "    </tr>\n",
       "    <tr>\n",
       "      <th>67</th>\n",
       "      <td>0.010978</td>\n",
       "      <td>0.010932</td>\n",
       "      <td>67</td>\n",
       "      <td>0.000016</td>\n",
       "      <td>57.798448</td>\n",
       "    </tr>\n",
       "    <tr>\n",
       "      <th>68</th>\n",
       "      <td>0.010973</td>\n",
       "      <td>0.010929</td>\n",
       "      <td>68</td>\n",
       "      <td>0.000016</td>\n",
       "      <td>59.265996</td>\n",
       "    </tr>\n",
       "    <tr>\n",
       "      <th>69</th>\n",
       "      <td>0.010968</td>\n",
       "      <td>0.010927</td>\n",
       "      <td>69</td>\n",
       "      <td>0.000016</td>\n",
       "      <td>55.748472</td>\n",
       "    </tr>\n",
       "  </tbody>\n",
       "</table>\n",
       "<p>70 rows × 5 columns</p>\n",
       "</div>"
      ],
      "text/plain": [
       "    Train Loss  Validation Loss  epoch  learning rate  epoch_duration [s]\n",
       "0     0.207461         0.158377      0       0.001000           60.354592\n",
       "1     0.138245         0.123857      1       0.001000           60.541115\n",
       "2     0.117246         0.113368      2       0.001000           60.676974\n",
       "3     0.110761         0.110113      3       0.001000           59.164249\n",
       "4     0.108747         0.109040      4       0.001000           61.723984\n",
       "..         ...              ...    ...            ...                 ...\n",
       "65    0.010989         0.010937     65       0.000016           55.199754\n",
       "66    0.010981         0.010934     66       0.000016           60.247551\n",
       "67    0.010978         0.010932     67       0.000016           57.798448\n",
       "68    0.010973         0.010929     68       0.000016           59.265996\n",
       "69    0.010968         0.010927     69       0.000016           55.748472\n",
       "\n",
       "[70 rows x 5 columns]"
      ]
     },
     "execution_count": 24,
     "metadata": {},
     "output_type": "execute_result"
    }
   ],
   "source": [
    "df"
   ]
  },
  {
   "cell_type": "markdown",
   "metadata": {
    "id": "qXsXbRisXdYg"
   },
   "source": [
    "# Tesntando o modelo em uma imagem"
   ]
  },
  {
   "cell_type": "code",
   "execution_count": 20,
   "metadata": {
    "colab": {
     "base_uri": "https://localhost:8080/",
     "height": 470
    },
    "id": "OmUaVJvV5tHn",
    "outputId": "071bb2aa-177c-404c-e8d9-27f695f880e7"
   },
   "outputs": [
    {
     "name": "stderr",
     "output_type": "stream",
     "text": [
      "C:\\Users\\Pedro\\AppData\\Local\\Temp\\ipykernel_6080\\1583506645.py:5: DeprecationWarning: LINEAR is deprecated and will be removed in Pillow 10 (2023-07-01). Use BILINEAR or Resampling.BILINEAR instead.\n",
      "  transforms.Resize((128, 128), interpolation=Image.LINEAR),\n",
      "C:\\Users\\Pedro\\AppData\\Local\\Temp\\ipykernel_6080\\1583506645.py:7: DeprecationWarning: LINEAR is deprecated and will be removed in Pillow 10 (2023-07-01). Use BILINEAR or Resampling.BILINEAR instead.\n",
      "  transforms.Resize((256, 256), interpolation=Image.LINEAR)\n",
      "C:\\Users\\Pedro\\anaconda3\\lib\\site-packages\\torchvision\\transforms\\functional.py:1603: UserWarning: The default value of the antialias parameter of all the resizing transforms (Resize(), RandomResizedCrop(), etc.) will change from None to True in v0.17, in order to be consistent across the PIL and Tensor backends. To suppress this warning, directly pass antialias=True (recommended, future default), antialias=None (current default, which means False for Tensors and True for PIL), or antialias=False (only works on Tensors - PIL will still use antialiasing). This also applies if you are using the inference transforms from the models weights: update the call to weights.transforms(antialias=True).\n",
      "  warnings.warn(\n"
     ]
    },
    {
     "name": "stdout",
     "output_type": "stream",
     "text": [
      "torch.Size([3, 256, 256])\n",
      "246\n"
     ]
    },
    {
     "data": {
      "image/png": "[encoded data removed]",
      "text/plain": [
       "<Figure size 640x480 with 1 Axes>"
      ]
     },
     "metadata": {},
     "output_type": "display_data"
    }
   ],
   "source": [
    "new_image = Image.open(f\"{DATASET_ROOT}/Flickr2K/000797.png\")\n",
    "transform = transforms.Compose([\n",
    "    transforms.ToTensor(),\n",
    "    # resize image to 33x33 and downsample by BICUBIC interpolation\n",
    "    transforms.Resize((128, 128), interpolation=Image.LINEAR),\n",
    "    # resize image to 256x256\n",
    "    transforms.Resize((256, 256), interpolation=Image.LINEAR)\n",
    "])\n",
    "\n",
    "\n",
    "new_image_lr = transform(new_image)\n",
    "print(new_image_lr.shape)\n",
    "print(np.array(new_image).max())\n",
    "image_helper.show_tensor_as_image(new_image_lr) # mudar pro arquivo novo\n"
   ]
  },
  {
   "cell_type": "code",
   "execution_count": 21,
   "metadata": {
    "colab": {
     "base_uri": "https://localhost:8080/",
     "height": 435
    },
    "id": "s1TJpi297wA3",
    "outputId": "76b6f4eb-7a70-4ef6-d8c2-2d5ceea84b32"
   },
   "outputs": [
    {
     "ename": "NameError",
     "evalue": "name 'new_image_sr' is not defined",
     "output_type": "error",
     "traceback": [
      "\u001b[1;31m---------------------------------------------------------------------------\u001b[0m",
      "\u001b[1;31mNameError\u001b[0m                                 Traceback (most recent call last)",
      "Cell \u001b[1;32mIn[21], line 4\u001b[0m\n\u001b[0;32m      1\u001b[0m \u001b[38;5;28;01mimport\u001b[39;00m \u001b[38;5;21;01mmatplotlib\u001b[39;00m\u001b[38;5;21;01m.\u001b[39;00m\u001b[38;5;21;01mpyplot\u001b[39;00m \u001b[38;5;28;01mas\u001b[39;00m \u001b[38;5;21;01mplt\u001b[39;00m\n\u001b[0;32m      3\u001b[0m plt\u001b[38;5;241m.\u001b[39mfigure()\n\u001b[1;32m----> 4\u001b[0m new_image_sr_np \u001b[38;5;241m=\u001b[39m \u001b[43mnew_image_sr\u001b[49m\u001b[38;5;241m.\u001b[39mcpu()\u001b[38;5;241m.\u001b[39mdetach()\u001b[38;5;241m.\u001b[39mnumpy()\n\u001b[0;32m      5\u001b[0m new_img \u001b[38;5;241m=\u001b[39m torch\u001b[38;5;241m.\u001b[39mmul(new_image_sr, \u001b[38;5;241m3\u001b[39m)\n\u001b[0;32m      6\u001b[0m plt\u001b[38;5;241m.\u001b[39mimshow(new_image_sr_np\u001b[38;5;241m.\u001b[39mtranspose((\u001b[38;5;241m1\u001b[39m, \u001b[38;5;241m2\u001b[39m, \u001b[38;5;241m0\u001b[39m)))\n",
      "\u001b[1;31mNameError\u001b[0m: name 'new_image_sr' is not defined"
     ]
    },
    {
     "data": {
      "text/plain": [
       "<Figure size 640x480 with 0 Axes>"
      ]
     },
     "metadata": {},
     "output_type": "display_data"
    }
   ],
   "source": [
    "import matplotlib.pyplot as plt\n",
    "\n",
    "plt.figure()\n",
    "new_image_sr_np = new_image_sr.cpu().detach().numpy()\n",
    "new_img = torch.mul(new_image_sr, 3)\n",
    "plt.imshow(new_image_sr_np.transpose((1, 2, 0)))\n",
    "plt.show()"
   ]
  },
  {
   "cell_type": "code",
   "execution_count": null,
   "metadata": {
    "id": "H5503gQt0syy"
   },
   "outputs": [],
   "source": []
  },
  {
   "cell_type": "code",
   "execution_count": null,
   "metadata": {},
   "outputs": [],
   "source": []
  },
  {
   "cell_type": "code",
   "execution_count": null,
   "metadata": {},
   "outputs": [],
   "source": []
  },
  {
   "cell_type": "code",
   "execution_count": null,
   "metadata": {},
   "outputs": [],
   "source": []
  },
  {
   "cell_type": "code",
   "execution_count": null,
   "metadata": {},
   "outputs": [],
   "source": []
  },
  {
   "cell_type": "code",
   "execution_count": null,
   "metadata": {},
   "outputs": [],
   "source": []
  },
  {
   "cell_type": "code",
   "execution_count": null,
   "metadata": {},
   "outputs": [],
   "source": []
  },
  {
   "cell_type": "code",
   "execution_count": null,
   "metadata": {},
   "outputs": [],
   "source": []
  },
  {
   "cell_type": "code",
   "execution_count": null,
   "metadata": {},
   "outputs": [],
   "source": []
  },
  {
   "cell_type": "code",
   "execution_count": null,
   "metadata": {},
   "outputs": [],
   "source": []
  },
  {
   "cell_type": "code",
   "execution_count": null,
   "metadata": {},
   "outputs": [],
   "source": []
  },
  {
   "cell_type": "code",
   "execution_count": null,
   "metadata": {},
   "outputs": [],
   "source": []
  },
  {
   "cell_type": "code",
   "execution_count": null,
   "metadata": {},
   "outputs": [],
   "source": []
  },
  {
   "cell_type": "code",
   "execution_count": null,
   "metadata": {},
   "outputs": [],
   "source": []
  },
  {
   "cell_type": "code",
   "execution_count": null,
   "metadata": {},
   "outputs": [],
   "source": []
  },
  {
   "cell_type": "code",
   "execution_count": null,
   "metadata": {},
   "outputs": [],
   "source": []
  },
  {
   "cell_type": "code",
   "execution_count": null,
   "metadata": {},
   "outputs": [],
   "source": []
  },
  {
   "cell_type": "code",
   "execution_count": null,
   "metadata": {},
   "outputs": [],
   "source": []
  },
  {
   "cell_type": "code",
   "execution_count": null,
   "metadata": {},
   "outputs": [],
   "source": []
  },
  {
   "cell_type": "code",
   "execution_count": null,
   "metadata": {},
   "outputs": [],
   "source": []
  },
  {
   "cell_type": "code",
   "execution_count": null,
   "metadata": {},
   "outputs": [],
   "source": []
  },
  {
   "cell_type": "code",
   "execution_count": null,
   "metadata": {},
   "outputs": [],
   "source": []
  },
  {
   "cell_type": "code",
   "execution_count": null,
   "metadata": {},
   "outputs": [],
   "source": []
  },
  {
   "cell_type": "code",
   "execution_count": null,
   "metadata": {},
   "outputs": [],
   "source": []
  },
  {
   "cell_type": "code",
   "execution_count": null,
   "metadata": {},
   "outputs": [],
   "source": []
  },
  {
   "cell_type": "code",
   "execution_count": null,
   "metadata": {},
   "outputs": [],
   "source": []
  },
  {
   "cell_type": "code",
   "execution_count": null,
   "metadata": {},
   "outputs": [],
   "source": []
  },
  {
   "cell_type": "code",
   "execution_count": null,
   "metadata": {},
   "outputs": [],
   "source": []
  },
  {
   "cell_type": "code",
   "execution_count": null,
   "metadata": {},
   "outputs": [],
   "source": []
  },
  {
   "cell_type": "code",
   "execution_count": null,
   "metadata": {},
   "outputs": [],
   "source": []
  },
  {
   "cell_type": "code",
   "execution_count": null,
   "metadata": {},
   "outputs": [],
   "source": []
  },
  {
   "cell_type": "code",
   "execution_count": null,
   "metadata": {},
   "outputs": [],
   "source": []
  },
  {
   "cell_type": "code",
   "execution_count": null,
   "metadata": {},
   "outputs": [],
   "source": []
  },
  {
   "cell_type": "code",
   "execution_count": null,
   "metadata": {},
   "outputs": [],
   "source": []
  },
  {
   "cell_type": "code",
   "execution_count": null,
   "metadata": {},
   "outputs": [],
   "source": []
  },
  {
   "cell_type": "code",
   "execution_count": null,
   "metadata": {},
   "outputs": [],
   "source": [
    "\n"
   ]
  }
 ],
 "metadata": {
  "accelerator": "GPU",
  "colab": {
   "gpuType": "T4",
   "include_colab_link": true,
   "provenance": []
  },
  "kernelspec": {
   "display_name": "Python 3 (ipykernel)",
   "language": "python",
   "name": "python3"
  },
  "language_info": {
   "codemirror_mode": {
    "name": "ipython",
    "version": 3
   },
   "file_extension": ".py",
   "mimetype": "text/x-python",
   "name": "python",
   "nbconvert_exporter": "python",
   "pygments_lexer": "ipython3",
   "version": "3.10.9"
  }
 },
 "nbformat": 4,
 "nbformat_minor": 4
}
