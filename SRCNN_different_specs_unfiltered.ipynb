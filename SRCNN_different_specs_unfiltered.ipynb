{
 "cells": [
  {
   "cell_type": "code",
   "execution_count": 1,
   "metadata": {},
   "outputs": [],
   "source": [
    "from SRCNN_different_specs import RunSRCNN, SRCNN\n",
    "from custom_image_dataset import CustomImageDataset\n",
    "from torch.utils.data import DataLoader\n",
    "from torchvision import transforms\n",
    "from PIL import Image\n",
    "import torch\n",
    "from torch import nn"
   ]
  },
  {
   "cell_type": "code",
   "execution_count": 2,
   "metadata": {},
   "outputs": [],
   "source": [
    "DATASET_ROOT=\"./datasets/\"\n",
    "DATASET_NAME = \"Flickr2K\""
   ]
  },
  {
   "cell_type": "code",
   "execution_count": 3,
   "metadata": {},
   "outputs": [
    {
     "name": "stderr",
     "output_type": "stream",
     "text": [
      "100%|██████████| 2650/2650 [01:50<00:00, 23.99it/s]\n",
      "100%|██████████| 2650/2650 [00:39<00:00, 67.32it/s]\n"
     ]
    },
    {
     "name": "stdout",
     "output_type": "stream",
     "text": [
      "Training set has 159000 instances\n",
      "Validation set has 53000 instances\n",
      "CPU times: total: 14.3 s\n",
      "Wall time: 3min 42s\n"
     ]
    }
   ],
   "source": [
    "%%time\n",
    "transform_x = transforms.Compose([\n",
    "    transforms.Resize((11, 11), interpolation=Image.BICUBIC),\n",
    "    transforms.Resize((33, 33), interpolation=Image.BICUBIC)\n",
    "])\n",
    "\n",
    "transform_y = transforms.Compose([\n",
    "    transforms.CenterCrop((33, 33))\n",
    "])\n",
    "\n",
    "# Set up the data loaders\n",
    "train_data_set = CustomImageDataset(\n",
    "    img_dir=f\"{DATASET_ROOT}/{DATASET_NAME}_train_unfiltered\", transform=transform_x, target_transform=transform_y)\n",
    "validation_data_set = CustomImageDataset(\n",
    "    img_dir=f\"{DATASET_ROOT}/{DATASET_NAME}_validation_unfiltered\", transform=transform_x, target_transform=transform_y)\n",
    "\n",
    "# Report split sizes\n",
    "print('Training set has {} instances'.format(len(train_data_set)))\n",
    "print('Validation set has {} instances'.format(len(validation_data_set)))"
   ]
  },
  {
   "cell_type": "code",
   "execution_count": 4,
   "metadata": {},
   "outputs": [
    {
     "name": "stdout",
     "output_type": "stream",
     "text": [
      "CPU times: total: 14.3 s\n",
      "Wall time: 36.5 s\n"
     ]
    }
   ],
   "source": [
    "%%time\n",
    "\n",
    "# https://towardsdatascience.com/7-tips-for-squeezing-maximum-performance-from-pytorch-ca4a40951259\n",
    "pin_memory = False\n",
    "batch_size = round(0.35*(2**13))\n",
    "\n",
    "train_dataloader = DataLoader(train_data_set, batch_size=batch_size, shuffle=True, pin_memory=pin_memory) # TODO: aumentar batch_size p/ 2^12\n",
    "validation_dataloader = DataLoader(validation_data_set, batch_size=batch_size, pin_memory=pin_memory)"
   ]
  },
  {
   "cell_type": "code",
   "execution_count": 5,
   "metadata": {},
   "outputs": [],
   "source": [
    "device = \"cuda\" if torch.cuda.is_available() else \"cpu\"\n",
    "lr = 1e-3\n",
    "\n",
    "model_f2_5 = SRCNN(f2=5).to(device)\n",
    "optimizer_f2_5 = torch.optim.Adam(model_f2_5.parameters(), lr=lr)\n",
    "scheduler_f2_5 = torch.optim.lr_scheduler.LinearLR(\n",
    "    optimizer_f2_5,\n",
    "    start_factor=1.0,\n",
    "    end_factor=0.01,\n",
    "    total_iters=60)\n",
    "\n",
    "model_f2_1 = SRCNN(f2=1).to(device)\n",
    "optimizer_f2_1 = torch.optim.Adam(model_f2_1.parameters(), lr=lr)\n",
    "scheduler_f2_1 = torch.optim.lr_scheduler.LinearLR(\n",
    "    optimizer_f2_1,\n",
    "    start_factor=1.0,\n",
    "    end_factor=0.01,\n",
    "    total_iters=60)\n"
   ]
  },
  {
   "cell_type": "code",
   "execution_count": 6,
   "metadata": {},
   "outputs": [],
   "source": [
    "run_srcnn = RunSRCNN()"
   ]
  },
  {
   "cell_type": "code",
   "execution_count": 7,
   "metadata": {
    "scrolled": false
   },
   "outputs": [
    {
     "name": "stdout",
     "output_type": "stream",
     "text": [
      "\n",
      "epoch 0\n",
      "-------------------------------\n",
      "Training on 159000 samples...\n",
      "Batch size: 2867\n",
      "Number of batches: 56\n"
     ]
    },
    {
     "name": "stderr",
     "output_type": "stream",
     "text": [
      "  0%|          | 0/56 [00:00<?, ?it/s]C:\\Users\\Pedro\\anaconda3\\lib\\site-packages\\torchvision\\transforms\\functional.py:1603: UserWarning: The default value of the antialias parameter of all the resizing transforms (Resize(), RandomResizedCrop(), etc.) will change from None to True in v0.17, in order to be consistent across the PIL and Tensor backends. To suppress this warning, directly pass antialias=True (recommended, future default), antialias=None (current default, which means False for Tensors and True for PIL), or antialias=False (only works on Tensors - PIL will still use antialiasing). This also applies if you are using the inference transforms from the models weights: update the call to weights.transforms(antialias=True).\n",
      "  warnings.warn(\n",
      "100%|██████████| 56/56 [04:13<00:00,  4.52s/it]\n"
     ]
    },
    {
     "name": "stdout",
     "output_type": "stream",
     "text": [
      "Training Error: \n",
      " Avg loss: 0.043581 \n",
      "\n"
     ]
    },
    {
     "name": "stderr",
     "output_type": "stream",
     "text": [
      "100%|██████████| 19/19 [00:45<00:00,  2.37s/it]\n"
     ]
    },
    {
     "name": "stdout",
     "output_type": "stream",
     "text": [
      "Validation Error: \n",
      " Avg loss: 0.015762 \n",
      "\n",
      "Learning rate (antes): 0.001\n",
      "Learning rate (depois): 0.0009835\n",
      "\n",
      "epoch 1\n",
      "-------------------------------\n",
      "Training on 159000 samples...\n",
      "Batch size: 2867\n",
      "Number of batches: 56\n"
     ]
    },
    {
     "name": "stderr",
     "output_type": "stream",
     "text": [
      "100%|██████████| 56/56 [03:18<00:00,  3.55s/it]\n"
     ]
    },
    {
     "name": "stdout",
     "output_type": "stream",
     "text": [
      "Training Error: \n",
      " Avg loss: 0.011668 \n",
      "\n"
     ]
    },
    {
     "name": "stderr",
     "output_type": "stream",
     "text": [
      "100%|██████████| 19/19 [00:40<00:00,  2.12s/it]\n"
     ]
    },
    {
     "name": "stdout",
     "output_type": "stream",
     "text": [
      "Validation Error: \n",
      " Avg loss: 0.009617 \n",
      "\n",
      "Learning rate (antes): 0.0009835\n",
      "Learning rate (depois): 0.000967\n",
      "\n",
      "epoch 2\n",
      "-------------------------------\n",
      "Training on 159000 samples...\n",
      "Batch size: 2867\n",
      "Number of batches: 56\n"
     ]
    },
    {
     "name": "stderr",
     "output_type": "stream",
     "text": [
      "100%|██████████| 56/56 [02:50<00:00,  3.04s/it]\n"
     ]
    },
    {
     "name": "stdout",
     "output_type": "stream",
     "text": [
      "Training Error: \n",
      " Avg loss: 0.008619 \n",
      "\n"
     ]
    },
    {
     "name": "stderr",
     "output_type": "stream",
     "text": [
      "100%|██████████| 19/19 [00:38<00:00,  2.03s/it]\n"
     ]
    },
    {
     "name": "stdout",
     "output_type": "stream",
     "text": [
      "Validation Error: \n",
      " Avg loss: 0.007789 \n",
      "\n",
      "Learning rate (antes): 0.000967\n",
      "Learning rate (depois): 0.0009505\n",
      "\n",
      "epoch 3\n",
      "-------------------------------\n",
      "Training on 159000 samples...\n",
      "Batch size: 2867\n",
      "Number of batches: 56\n"
     ]
    },
    {
     "name": "stderr",
     "output_type": "stream",
     "text": [
      "100%|██████████| 56/56 [02:51<00:00,  3.06s/it]\n"
     ]
    },
    {
     "name": "stdout",
     "output_type": "stream",
     "text": [
      "Training Error: \n",
      " Avg loss: 0.007270 \n",
      "\n"
     ]
    },
    {
     "name": "stderr",
     "output_type": "stream",
     "text": [
      "100%|██████████| 19/19 [00:39<00:00,  2.08s/it]\n"
     ]
    },
    {
     "name": "stdout",
     "output_type": "stream",
     "text": [
      "Validation Error: \n",
      " Avg loss: 0.006770 \n",
      "\n",
      "Learning rate (antes): 0.0009505\n",
      "Learning rate (depois): 0.0009339999999999999\n",
      "\n",
      "epoch 4\n",
      "-------------------------------\n",
      "Training on 159000 samples...\n",
      "Batch size: 2867\n",
      "Number of batches: 56\n"
     ]
    },
    {
     "name": "stderr",
     "output_type": "stream",
     "text": [
      "100%|██████████| 56/56 [03:20<00:00,  3.58s/it]\n"
     ]
    },
    {
     "name": "stdout",
     "output_type": "stream",
     "text": [
      "Training Error: \n",
      " Avg loss: 0.006511 \n",
      "\n"
     ]
    },
    {
     "name": "stderr",
     "output_type": "stream",
     "text": [
      "100%|██████████| 19/19 [00:39<00:00,  2.08s/it]\n"
     ]
    },
    {
     "name": "stdout",
     "output_type": "stream",
     "text": [
      "Validation Error: \n",
      " Avg loss: 0.006244 \n",
      "\n",
      "Learning rate (antes): 0.0009339999999999999\n",
      "Learning rate (depois): 0.0009174999999999999\n",
      "\n",
      "epoch 5\n",
      "-------------------------------\n",
      "Training on 159000 samples...\n",
      "Batch size: 2867\n",
      "Number of batches: 56\n"
     ]
    },
    {
     "name": "stderr",
     "output_type": "stream",
     "text": [
      "100%|██████████| 56/56 [02:53<00:00,  3.10s/it]\n"
     ]
    },
    {
     "name": "stdout",
     "output_type": "stream",
     "text": [
      "Training Error: \n",
      " Avg loss: 0.005916 \n",
      "\n"
     ]
    },
    {
     "name": "stderr",
     "output_type": "stream",
     "text": [
      "100%|██████████| 19/19 [00:39<00:00,  2.06s/it]\n"
     ]
    },
    {
     "name": "stdout",
     "output_type": "stream",
     "text": [
      "Validation Error: \n",
      " Avg loss: 0.005719 \n",
      "\n",
      "Learning rate (antes): 0.0009174999999999999\n",
      "Learning rate (depois): 0.0009009999999999999\n",
      "\n",
      "epoch 6\n",
      "-------------------------------\n",
      "Training on 159000 samples...\n",
      "Batch size: 2867\n",
      "Number of batches: 56\n"
     ]
    },
    {
     "name": "stderr",
     "output_type": "stream",
     "text": [
      "100%|██████████| 56/56 [02:51<00:00,  3.07s/it]\n"
     ]
    },
    {
     "name": "stdout",
     "output_type": "stream",
     "text": [
      "Training Error: \n",
      " Avg loss: 0.005458 \n",
      "\n"
     ]
    },
    {
     "name": "stderr",
     "output_type": "stream",
     "text": [
      "100%|██████████| 19/19 [00:39<00:00,  2.06s/it]\n"
     ]
    },
    {
     "name": "stdout",
     "output_type": "stream",
     "text": [
      "Validation Error: \n",
      " Avg loss: 0.005265 \n",
      "\n",
      "Learning rate (antes): 0.0009009999999999999\n",
      "Learning rate (depois): 0.0008844999999999999\n",
      "\n",
      "epoch 7\n",
      "-------------------------------\n",
      "Training on 159000 samples...\n",
      "Batch size: 2867\n",
      "Number of batches: 56\n"
     ]
    },
    {
     "name": "stderr",
     "output_type": "stream",
     "text": [
      "100%|██████████| 56/56 [02:48<00:00,  3.00s/it]\n"
     ]
    },
    {
     "name": "stdout",
     "output_type": "stream",
     "text": [
      "Training Error: \n",
      " Avg loss: 0.005105 \n",
      "\n"
     ]
    },
    {
     "name": "stderr",
     "output_type": "stream",
     "text": [
      "100%|██████████| 19/19 [00:41<00:00,  2.16s/it]\n"
     ]
    },
    {
     "name": "stdout",
     "output_type": "stream",
     "text": [
      "Validation Error: \n",
      " Avg loss: 0.004984 \n",
      "\n",
      "Learning rate (antes): 0.0008844999999999999\n",
      "Learning rate (depois): 0.0008679999999999998\n",
      "\n",
      "epoch 8\n",
      "-------------------------------\n",
      "Training on 159000 samples...\n",
      "Batch size: 2867\n",
      "Number of batches: 56\n"
     ]
    },
    {
     "name": "stderr",
     "output_type": "stream",
     "text": [
      "100%|██████████| 56/56 [02:49<00:00,  3.04s/it]\n"
     ]
    },
    {
     "name": "stdout",
     "output_type": "stream",
     "text": [
      "Training Error: \n",
      " Avg loss: 0.004804 \n",
      "\n"
     ]
    },
    {
     "name": "stderr",
     "output_type": "stream",
     "text": [
      "100%|██████████| 19/19 [00:41<00:00,  2.17s/it]\n"
     ]
    },
    {
     "name": "stdout",
     "output_type": "stream",
     "text": [
      "Validation Error: \n",
      " Avg loss: 0.004645 \n",
      "\n",
      "Learning rate (antes): 0.0008679999999999998\n",
      "Learning rate (depois): 0.0008514999999999998\n",
      "\n",
      "epoch 9\n",
      "-------------------------------\n",
      "Training on 159000 samples...\n",
      "Batch size: 2867\n",
      "Number of batches: 56\n"
     ]
    },
    {
     "name": "stderr",
     "output_type": "stream",
     "text": [
      "100%|██████████| 56/56 [02:50<00:00,  3.05s/it]\n"
     ]
    },
    {
     "name": "stdout",
     "output_type": "stream",
     "text": [
      "Training Error: \n",
      " Avg loss: 0.004583 \n",
      "\n"
     ]
    },
    {
     "name": "stderr",
     "output_type": "stream",
     "text": [
      "100%|██████████| 19/19 [00:38<00:00,  2.03s/it]\n"
     ]
    },
    {
     "name": "stdout",
     "output_type": "stream",
     "text": [
      "Validation Error: \n",
      " Avg loss: 0.004460 \n",
      "\n",
      "Learning rate (antes): 0.0008514999999999998\n",
      "Learning rate (depois): 0.0008349999999999998\n",
      "\n",
      "epoch 10\n",
      "-------------------------------\n",
      "Training on 159000 samples...\n",
      "Batch size: 2867\n",
      "Number of batches: 56\n"
     ]
    },
    {
     "name": "stderr",
     "output_type": "stream",
     "text": [
      "100%|██████████| 56/56 [02:52<00:00,  3.08s/it]\n"
     ]
    },
    {
     "name": "stdout",
     "output_type": "stream",
     "text": [
      "Training Error: \n",
      " Avg loss: 0.004493 \n",
      "\n"
     ]
    },
    {
     "name": "stderr",
     "output_type": "stream",
     "text": [
      "100%|██████████| 19/19 [00:42<00:00,  2.24s/it]\n"
     ]
    },
    {
     "name": "stdout",
     "output_type": "stream",
     "text": [
      "Validation Error: \n",
      " Avg loss: 0.004542 \n",
      "\n",
      "Learning rate (antes): 0.0008349999999999998\n",
      "Learning rate (depois): 0.0008184999999999998\n",
      "\n",
      "epoch 11\n",
      "-------------------------------\n",
      "Training on 159000 samples...\n",
      "Batch size: 2867\n",
      "Number of batches: 56\n"
     ]
    },
    {
     "name": "stderr",
     "output_type": "stream",
     "text": [
      "100%|██████████| 56/56 [02:51<00:00,  3.06s/it]\n"
     ]
    },
    {
     "name": "stdout",
     "output_type": "stream",
     "text": [
      "Training Error: \n",
      " Avg loss: 0.004314 \n",
      "\n"
     ]
    },
    {
     "name": "stderr",
     "output_type": "stream",
     "text": [
      "100%|██████████| 19/19 [00:40<00:00,  2.13s/it]\n"
     ]
    },
    {
     "name": "stdout",
     "output_type": "stream",
     "text": [
      "Validation Error: \n",
      " Avg loss: 0.004236 \n",
      "\n",
      "Learning rate (antes): 0.0008184999999999998\n",
      "Learning rate (depois): 0.0008019999999999998\n",
      "\n",
      "epoch 12\n",
      "-------------------------------\n",
      "Training on 159000 samples...\n",
      "Batch size: 2867\n",
      "Number of batches: 56\n"
     ]
    },
    {
     "name": "stderr",
     "output_type": "stream",
     "text": [
      "100%|██████████| 56/56 [02:50<00:00,  3.05s/it]\n"
     ]
    },
    {
     "name": "stdout",
     "output_type": "stream",
     "text": [
      "Training Error: \n",
      " Avg loss: 0.004213 \n",
      "\n"
     ]
    },
    {
     "name": "stderr",
     "output_type": "stream",
     "text": [
      "100%|██████████| 19/19 [00:39<00:00,  2.09s/it]\n"
     ]
    },
    {
     "name": "stdout",
     "output_type": "stream",
     "text": [
      "Validation Error: \n",
      " Avg loss: 0.004165 \n",
      "\n",
      "Learning rate (antes): 0.0008019999999999998\n",
      "Learning rate (depois): 0.0007854999999999997\n",
      "\n",
      "epoch 13\n",
      "-------------------------------\n",
      "Training on 159000 samples...\n",
      "Batch size: 2867\n",
      "Number of batches: 56\n"
     ]
    },
    {
     "name": "stderr",
     "output_type": "stream",
     "text": [
      "100%|██████████| 56/56 [02:51<00:00,  3.06s/it]\n"
     ]
    },
    {
     "name": "stdout",
     "output_type": "stream",
     "text": [
      "Training Error: \n",
      " Avg loss: 0.004160 \n",
      "\n"
     ]
    },
    {
     "name": "stderr",
     "output_type": "stream",
     "text": [
      "100%|██████████| 19/19 [00:40<00:00,  2.13s/it]\n"
     ]
    },
    {
     "name": "stdout",
     "output_type": "stream",
     "text": [
      "Validation Error: \n",
      " Avg loss: 0.004149 \n",
      "\n",
      "Learning rate (antes): 0.0007854999999999997\n",
      "Learning rate (depois): 0.0007689999999999997\n",
      "\n",
      "epoch 14\n",
      "-------------------------------\n",
      "Training on 159000 samples...\n",
      "Batch size: 2867\n",
      "Number of batches: 56\n"
     ]
    },
    {
     "name": "stderr",
     "output_type": "stream",
     "text": [
      "100%|██████████| 56/56 [02:54<00:00,  3.11s/it]\n"
     ]
    },
    {
     "name": "stdout",
     "output_type": "stream",
     "text": [
      "Training Error: \n",
      " Avg loss: 0.004099 \n",
      "\n"
     ]
    },
    {
     "name": "stderr",
     "output_type": "stream",
     "text": [
      "100%|██████████| 19/19 [00:41<00:00,  2.18s/it]\n"
     ]
    },
    {
     "name": "stdout",
     "output_type": "stream",
     "text": [
      "Validation Error: \n",
      " Avg loss: 0.004067 \n",
      "\n",
      "Learning rate (antes): 0.0007689999999999997\n",
      "Learning rate (depois): 0.0007524999999999997\n",
      "\n",
      "epoch 15\n",
      "-------------------------------\n",
      "Training on 159000 samples...\n",
      "Batch size: 2867\n",
      "Number of batches: 56\n"
     ]
    },
    {
     "name": "stderr",
     "output_type": "stream",
     "text": [
      "100%|██████████| 56/56 [02:51<00:00,  3.06s/it]\n"
     ]
    },
    {
     "name": "stdout",
     "output_type": "stream",
     "text": [
      "Training Error: \n",
      " Avg loss: 0.004032 \n",
      "\n"
     ]
    },
    {
     "name": "stderr",
     "output_type": "stream",
     "text": [
      "100%|██████████| 19/19 [00:39<00:00,  2.08s/it]\n"
     ]
    },
    {
     "name": "stdout",
     "output_type": "stream",
     "text": [
      "Validation Error: \n",
      " Avg loss: 0.004016 \n",
      "\n",
      "Learning rate (antes): 0.0007524999999999997\n",
      "Learning rate (depois): 0.0007359999999999997\n",
      "\n",
      "epoch 16\n",
      "-------------------------------\n",
      "Training on 159000 samples...\n",
      "Batch size: 2867\n",
      "Number of batches: 56\n"
     ]
    },
    {
     "name": "stderr",
     "output_type": "stream",
     "text": [
      "100%|██████████| 56/56 [02:56<00:00,  3.16s/it]\n"
     ]
    },
    {
     "name": "stdout",
     "output_type": "stream",
     "text": [
      "Training Error: \n",
      " Avg loss: 0.004024 \n",
      "\n"
     ]
    },
    {
     "name": "stderr",
     "output_type": "stream",
     "text": [
      "100%|██████████| 19/19 [00:38<00:00,  2.02s/it]\n"
     ]
    },
    {
     "name": "stdout",
     "output_type": "stream",
     "text": [
      "Validation Error: \n",
      " Avg loss: 0.003966 \n",
      "\n",
      "Learning rate (antes): 0.0007359999999999997\n",
      "Learning rate (depois): 0.0007194999999999997\n",
      "\n",
      "epoch 17\n",
      "-------------------------------\n",
      "Training on 159000 samples...\n",
      "Batch size: 2867\n",
      "Number of batches: 56\n"
     ]
    },
    {
     "name": "stderr",
     "output_type": "stream",
     "text": [
      "100%|██████████| 56/56 [02:56<00:00,  3.15s/it]\n"
     ]
    },
    {
     "name": "stdout",
     "output_type": "stream",
     "text": [
      "Training Error: \n",
      " Avg loss: 0.003937 \n",
      "\n"
     ]
    },
    {
     "name": "stderr",
     "output_type": "stream",
     "text": [
      "100%|██████████| 19/19 [00:37<00:00,  1.96s/it]\n"
     ]
    },
    {
     "name": "stdout",
     "output_type": "stream",
     "text": [
      "Validation Error: \n",
      " Avg loss: 0.003956 \n",
      "\n",
      "Learning rate (antes): 0.0007194999999999997\n",
      "Learning rate (depois): 0.0007029999999999996\n",
      "\n",
      "epoch 18\n",
      "-------------------------------\n",
      "Training on 159000 samples...\n",
      "Batch size: 2867\n",
      "Number of batches: 56\n"
     ]
    },
    {
     "name": "stderr",
     "output_type": "stream",
     "text": [
      "100%|██████████| 56/56 [03:05<00:00,  3.32s/it]\n"
     ]
    },
    {
     "name": "stdout",
     "output_type": "stream",
     "text": [
      "Training Error: \n",
      " Avg loss: 0.003910 \n",
      "\n"
     ]
    },
    {
     "name": "stderr",
     "output_type": "stream",
     "text": [
      "100%|██████████| 19/19 [00:39<00:00,  2.10s/it]\n"
     ]
    },
    {
     "name": "stdout",
     "output_type": "stream",
     "text": [
      "Validation Error: \n",
      " Avg loss: 0.003897 \n",
      "\n",
      "Learning rate (antes): 0.0007029999999999996\n",
      "Learning rate (depois): 0.0006864999999999997\n",
      "\n",
      "epoch 19\n",
      "-------------------------------\n",
      "Training on 159000 samples...\n",
      "Batch size: 2867\n",
      "Number of batches: 56\n"
     ]
    },
    {
     "name": "stderr",
     "output_type": "stream",
     "text": [
      "100%|██████████| 56/56 [02:48<00:00,  3.01s/it]\n"
     ]
    },
    {
     "name": "stdout",
     "output_type": "stream",
     "text": [
      "Training Error: \n",
      " Avg loss: 0.003888 \n",
      "\n"
     ]
    },
    {
     "name": "stderr",
     "output_type": "stream",
     "text": [
      "100%|██████████| 19/19 [00:40<00:00,  2.11s/it]\n"
     ]
    },
    {
     "name": "stdout",
     "output_type": "stream",
     "text": [
      "Validation Error: \n",
      " Avg loss: 0.003964 \n",
      "\n",
      "Learning rate (antes): 0.0006864999999999997\n",
      "Learning rate (depois): 0.0006699999999999997\n",
      "\n",
      "epoch 20\n",
      "-------------------------------\n",
      "Training on 159000 samples...\n",
      "Batch size: 2867\n",
      "Number of batches: 56\n"
     ]
    },
    {
     "name": "stderr",
     "output_type": "stream",
     "text": [
      "100%|██████████| 56/56 [02:53<00:00,  3.10s/it]\n"
     ]
    },
    {
     "name": "stdout",
     "output_type": "stream",
     "text": [
      "Training Error: \n",
      " Avg loss: 0.003853 \n",
      "\n"
     ]
    },
    {
     "name": "stderr",
     "output_type": "stream",
     "text": [
      "100%|██████████| 19/19 [00:40<00:00,  2.13s/it]\n"
     ]
    },
    {
     "name": "stdout",
     "output_type": "stream",
     "text": [
      "Validation Error: \n",
      " Avg loss: 0.003843 \n",
      "\n",
      "Learning rate (antes): 0.0006699999999999997\n",
      "Learning rate (depois): 0.0006534999999999998\n",
      "\n",
      "epoch 21\n",
      "-------------------------------\n",
      "Training on 159000 samples...\n",
      "Batch size: 2867\n",
      "Number of batches: 56\n"
     ]
    },
    {
     "name": "stderr",
     "output_type": "stream",
     "text": [
      "100%|██████████| 56/56 [02:50<00:00,  3.04s/it]\n"
     ]
    },
    {
     "name": "stdout",
     "output_type": "stream",
     "text": [
      "Training Error: \n",
      " Avg loss: 0.003828 \n",
      "\n"
     ]
    },
    {
     "name": "stderr",
     "output_type": "stream",
     "text": [
      "100%|██████████| 19/19 [00:41<00:00,  2.17s/it]\n"
     ]
    },
    {
     "name": "stdout",
     "output_type": "stream",
     "text": [
      "Validation Error: \n",
      " Avg loss: 0.003794 \n",
      "\n",
      "Learning rate (antes): 0.0006534999999999998\n",
      "Learning rate (depois): 0.0006369999999999998\n",
      "\n",
      "epoch 22\n",
      "-------------------------------\n",
      "Training on 159000 samples...\n",
      "Batch size: 2867\n",
      "Number of batches: 56\n"
     ]
    },
    {
     "name": "stderr",
     "output_type": "stream",
     "text": [
      "100%|██████████| 56/56 [02:52<00:00,  3.09s/it]\n"
     ]
    },
    {
     "name": "stdout",
     "output_type": "stream",
     "text": [
      "Training Error: \n",
      " Avg loss: 0.003806 \n",
      "\n"
     ]
    },
    {
     "name": "stderr",
     "output_type": "stream",
     "text": [
      "100%|██████████| 19/19 [00:38<00:00,  2.03s/it]\n"
     ]
    },
    {
     "name": "stdout",
     "output_type": "stream",
     "text": [
      "Validation Error: \n",
      " Avg loss: 0.003867 \n",
      "\n",
      "Learning rate (antes): 0.0006369999999999998\n",
      "Learning rate (depois): 0.0006204999999999997\n",
      "\n",
      "epoch 23\n",
      "-------------------------------\n",
      "Training on 159000 samples...\n",
      "Batch size: 2867\n",
      "Number of batches: 56\n"
     ]
    },
    {
     "name": "stderr",
     "output_type": "stream",
     "text": [
      "100%|██████████| 56/56 [02:52<00:00,  3.08s/it]\n"
     ]
    },
    {
     "name": "stdout",
     "output_type": "stream",
     "text": [
      "Training Error: \n",
      " Avg loss: 0.003782 \n",
      "\n"
     ]
    },
    {
     "name": "stderr",
     "output_type": "stream",
     "text": [
      "100%|██████████| 19/19 [00:40<00:00,  2.15s/it]\n"
     ]
    },
    {
     "name": "stdout",
     "output_type": "stream",
     "text": [
      "Validation Error: \n",
      " Avg loss: 0.003747 \n",
      "\n",
      "Learning rate (antes): 0.0006204999999999997\n",
      "Learning rate (depois): 0.0006039999999999997\n",
      "\n",
      "epoch 24\n",
      "-------------------------------\n",
      "Training on 159000 samples...\n",
      "Batch size: 2867\n",
      "Number of batches: 56\n"
     ]
    },
    {
     "name": "stderr",
     "output_type": "stream",
     "text": [
      "100%|██████████| 56/56 [02:51<00:00,  3.07s/it]\n"
     ]
    },
    {
     "name": "stdout",
     "output_type": "stream",
     "text": [
      "Training Error: \n",
      " Avg loss: 0.003761 \n",
      "\n"
     ]
    },
    {
     "name": "stderr",
     "output_type": "stream",
     "text": [
      "100%|██████████| 19/19 [00:41<00:00,  2.17s/it]\n"
     ]
    },
    {
     "name": "stdout",
     "output_type": "stream",
     "text": [
      "Validation Error: \n",
      " Avg loss: 0.003723 \n",
      "\n",
      "Learning rate (antes): 0.0006039999999999997\n",
      "Learning rate (depois): 0.0005874999999999997\n",
      "\n",
      "epoch 25\n",
      "-------------------------------\n",
      "Training on 159000 samples...\n",
      "Batch size: 2867\n",
      "Number of batches: 56\n"
     ]
    },
    {
     "name": "stderr",
     "output_type": "stream",
     "text": [
      "100%|██████████| 56/56 [02:53<00:00,  3.10s/it]\n"
     ]
    },
    {
     "name": "stdout",
     "output_type": "stream",
     "text": [
      "Training Error: \n",
      " Avg loss: 0.003719 \n",
      "\n"
     ]
    },
    {
     "name": "stderr",
     "output_type": "stream",
     "text": [
      "100%|██████████| 19/19 [00:40<00:00,  2.12s/it]\n"
     ]
    },
    {
     "name": "stdout",
     "output_type": "stream",
     "text": [
      "Validation Error: \n",
      " Avg loss: 0.003738 \n",
      "\n",
      "Learning rate (antes): 0.0005874999999999997\n",
      "Learning rate (depois): 0.0005709999999999998\n",
      "\n",
      "epoch 26\n",
      "-------------------------------\n",
      "Training on 159000 samples...\n",
      "Batch size: 2867\n",
      "Number of batches: 56\n"
     ]
    },
    {
     "name": "stderr",
     "output_type": "stream",
     "text": [
      "100%|██████████| 56/56 [02:52<00:00,  3.09s/it]\n"
     ]
    },
    {
     "name": "stdout",
     "output_type": "stream",
     "text": [
      "Training Error: \n",
      " Avg loss: 0.003703 \n",
      "\n"
     ]
    },
    {
     "name": "stderr",
     "output_type": "stream",
     "text": [
      "100%|██████████| 19/19 [00:41<00:00,  2.19s/it]\n"
     ]
    },
    {
     "name": "stdout",
     "output_type": "stream",
     "text": [
      "Validation Error: \n",
      " Avg loss: 0.003697 \n",
      "\n",
      "Learning rate (antes): 0.0005709999999999998\n",
      "Learning rate (depois): 0.0005544999999999998\n",
      "\n",
      "epoch 27\n",
      "-------------------------------\n",
      "Training on 159000 samples...\n",
      "Batch size: 2867\n",
      "Number of batches: 56\n"
     ]
    },
    {
     "name": "stderr",
     "output_type": "stream",
     "text": [
      "100%|██████████| 56/56 [02:54<00:00,  3.11s/it]\n"
     ]
    },
    {
     "name": "stdout",
     "output_type": "stream",
     "text": [
      "Training Error: \n",
      " Avg loss: 0.003695 \n",
      "\n"
     ]
    },
    {
     "name": "stderr",
     "output_type": "stream",
     "text": [
      "100%|██████████| 19/19 [00:40<00:00,  2.13s/it]\n"
     ]
    },
    {
     "name": "stdout",
     "output_type": "stream",
     "text": [
      "Validation Error: \n",
      " Avg loss: 0.003682 \n",
      "\n",
      "Learning rate (antes): 0.0005544999999999998\n",
      "Learning rate (depois): 0.0005379999999999997\n",
      "\n",
      "epoch 28\n",
      "-------------------------------\n",
      "Training on 159000 samples...\n",
      "Batch size: 2867\n",
      "Number of batches: 56\n"
     ]
    },
    {
     "name": "stderr",
     "output_type": "stream",
     "text": [
      "100%|██████████| 56/56 [02:54<00:00,  3.11s/it]\n"
     ]
    },
    {
     "name": "stdout",
     "output_type": "stream",
     "text": [
      "Training Error: \n",
      " Avg loss: 0.003677 \n",
      "\n"
     ]
    },
    {
     "name": "stderr",
     "output_type": "stream",
     "text": [
      "100%|██████████| 19/19 [00:52<00:00,  2.77s/it]\n"
     ]
    },
    {
     "name": "stdout",
     "output_type": "stream",
     "text": [
      "Validation Error: \n",
      " Avg loss: 0.003656 \n",
      "\n",
      "Learning rate (antes): 0.0005379999999999997\n",
      "Learning rate (depois): 0.0005214999999999997\n",
      "\n",
      "epoch 29\n",
      "-------------------------------\n",
      "Training on 159000 samples...\n",
      "Batch size: 2867\n",
      "Number of batches: 56\n"
     ]
    },
    {
     "name": "stderr",
     "output_type": "stream",
     "text": [
      "100%|██████████| 56/56 [02:58<00:00,  3.19s/it]\n"
     ]
    },
    {
     "name": "stdout",
     "output_type": "stream",
     "text": [
      "Training Error: \n",
      " Avg loss: 0.003657 \n",
      "\n"
     ]
    },
    {
     "name": "stderr",
     "output_type": "stream",
     "text": [
      "100%|██████████| 19/19 [00:39<00:00,  2.09s/it]\n"
     ]
    },
    {
     "name": "stdout",
     "output_type": "stream",
     "text": [
      "Validation Error: \n",
      " Avg loss: 0.003644 \n",
      "\n",
      "Learning rate (antes): 0.0005214999999999997\n",
      "Learning rate (depois): 0.0005049999999999997\n",
      "\n",
      "epoch 30\n",
      "-------------------------------\n",
      "Training on 159000 samples...\n",
      "Batch size: 2867\n",
      "Number of batches: 56\n"
     ]
    },
    {
     "name": "stderr",
     "output_type": "stream",
     "text": [
      "100%|██████████| 56/56 [02:53<00:00,  3.10s/it]\n"
     ]
    },
    {
     "name": "stdout",
     "output_type": "stream",
     "text": [
      "Training Error: \n",
      " Avg loss: 0.003650 \n",
      "\n"
     ]
    },
    {
     "name": "stderr",
     "output_type": "stream",
     "text": [
      "100%|██████████| 19/19 [00:45<00:00,  2.41s/it]\n"
     ]
    },
    {
     "name": "stdout",
     "output_type": "stream",
     "text": [
      "Validation Error: \n",
      " Avg loss: 0.003644 \n",
      "\n",
      "Learning rate (antes): 0.0005049999999999997\n",
      "Learning rate (depois): 0.0004884999999999997\n",
      "\n",
      "epoch 31\n",
      "-------------------------------\n",
      "Training on 159000 samples...\n",
      "Batch size: 2867\n",
      "Number of batches: 56\n"
     ]
    },
    {
     "name": "stderr",
     "output_type": "stream",
     "text": [
      "100%|██████████| 56/56 [02:52<00:00,  3.09s/it]\n"
     ]
    },
    {
     "name": "stdout",
     "output_type": "stream",
     "text": [
      "Training Error: \n",
      " Avg loss: 0.003632 \n",
      "\n"
     ]
    },
    {
     "name": "stderr",
     "output_type": "stream",
     "text": [
      "100%|██████████| 19/19 [00:39<00:00,  2.06s/it]\n"
     ]
    },
    {
     "name": "stdout",
     "output_type": "stream",
     "text": [
      "Validation Error: \n",
      " Avg loss: 0.003625 \n",
      "\n",
      "Learning rate (antes): 0.0004884999999999997\n",
      "Learning rate (depois): 0.0004719999999999997\n",
      "\n",
      "epoch 32\n",
      "-------------------------------\n",
      "Training on 159000 samples...\n",
      "Batch size: 2867\n",
      "Number of batches: 56\n"
     ]
    },
    {
     "name": "stderr",
     "output_type": "stream",
     "text": [
      "100%|██████████| 56/56 [02:51<00:00,  3.06s/it]\n"
     ]
    },
    {
     "name": "stdout",
     "output_type": "stream",
     "text": [
      "Training Error: \n",
      " Avg loss: 0.003616 \n",
      "\n"
     ]
    },
    {
     "name": "stderr",
     "output_type": "stream",
     "text": [
      "100%|██████████| 19/19 [00:40<00:00,  2.16s/it]\n"
     ]
    },
    {
     "name": "stdout",
     "output_type": "stream",
     "text": [
      "Validation Error: \n",
      " Avg loss: 0.003608 \n",
      "\n",
      "Learning rate (antes): 0.0004719999999999997\n",
      "Learning rate (depois): 0.00045549999999999974\n",
      "\n",
      "epoch 33\n",
      "-------------------------------\n",
      "Training on 159000 samples...\n",
      "Batch size: 2867\n",
      "Number of batches: 56\n"
     ]
    },
    {
     "name": "stderr",
     "output_type": "stream",
     "text": [
      "100%|██████████| 56/56 [02:49<00:00,  3.03s/it]\n"
     ]
    },
    {
     "name": "stdout",
     "output_type": "stream",
     "text": [
      "Training Error: \n",
      " Avg loss: 0.003617 \n",
      "\n"
     ]
    },
    {
     "name": "stderr",
     "output_type": "stream",
     "text": [
      "100%|██████████| 19/19 [00:40<00:00,  2.12s/it]\n"
     ]
    },
    {
     "name": "stdout",
     "output_type": "stream",
     "text": [
      "Validation Error: \n",
      " Avg loss: 0.003602 \n",
      "\n",
      "Learning rate (antes): 0.00045549999999999974\n",
      "Learning rate (depois): 0.0004389999999999998\n",
      "\n",
      "epoch 34\n",
      "-------------------------------\n",
      "Training on 159000 samples...\n",
      "Batch size: 2867\n",
      "Number of batches: 56\n"
     ]
    },
    {
     "name": "stderr",
     "output_type": "stream",
     "text": [
      "100%|██████████| 56/56 [02:50<00:00,  3.04s/it]\n"
     ]
    },
    {
     "name": "stdout",
     "output_type": "stream",
     "text": [
      "Training Error: \n",
      " Avg loss: 0.003598 \n",
      "\n"
     ]
    },
    {
     "name": "stderr",
     "output_type": "stream",
     "text": [
      "100%|██████████| 19/19 [00:40<00:00,  2.15s/it]\n"
     ]
    },
    {
     "name": "stdout",
     "output_type": "stream",
     "text": [
      "Validation Error: \n",
      " Avg loss: 0.003598 \n",
      "\n",
      "Learning rate (antes): 0.0004389999999999998\n",
      "Learning rate (depois): 0.00042249999999999975\n",
      "\n",
      "epoch 35\n",
      "-------------------------------\n",
      "Training on 159000 samples...\n",
      "Batch size: 2867\n",
      "Number of batches: 56\n"
     ]
    },
    {
     "name": "stderr",
     "output_type": "stream",
     "text": [
      "100%|██████████| 56/56 [02:50<00:00,  3.04s/it]\n"
     ]
    },
    {
     "name": "stdout",
     "output_type": "stream",
     "text": [
      "Training Error: \n",
      " Avg loss: 0.003592 \n",
      "\n"
     ]
    },
    {
     "name": "stderr",
     "output_type": "stream",
     "text": [
      "100%|██████████| 19/19 [00:40<00:00,  2.15s/it]\n"
     ]
    },
    {
     "name": "stdout",
     "output_type": "stream",
     "text": [
      "Validation Error: \n",
      " Avg loss: 0.003591 \n",
      "\n",
      "Learning rate (antes): 0.00042249999999999975\n",
      "Learning rate (depois): 0.0004059999999999998\n",
      "\n",
      "epoch 36\n",
      "-------------------------------\n",
      "Training on 159000 samples...\n",
      "Batch size: 2867\n",
      "Number of batches: 56\n"
     ]
    },
    {
     "name": "stderr",
     "output_type": "stream",
     "text": [
      "100%|██████████| 56/56 [02:51<00:00,  3.07s/it]\n"
     ]
    },
    {
     "name": "stdout",
     "output_type": "stream",
     "text": [
      "Training Error: \n",
      " Avg loss: 0.003583 \n",
      "\n"
     ]
    },
    {
     "name": "stderr",
     "output_type": "stream",
     "text": [
      "100%|██████████| 19/19 [00:39<00:00,  2.10s/it]\n"
     ]
    },
    {
     "name": "stdout",
     "output_type": "stream",
     "text": [
      "Validation Error: \n",
      " Avg loss: 0.003575 \n",
      "\n",
      "Learning rate (antes): 0.0004059999999999998\n",
      "Learning rate (depois): 0.0003894999999999998\n",
      "\n",
      "epoch 37\n",
      "-------------------------------\n",
      "Training on 159000 samples...\n",
      "Batch size: 2867\n",
      "Number of batches: 56\n"
     ]
    },
    {
     "name": "stderr",
     "output_type": "stream",
     "text": [
      "100%|██████████| 56/56 [02:56<00:00,  3.16s/it]\n"
     ]
    },
    {
     "name": "stdout",
     "output_type": "stream",
     "text": [
      "Training Error: \n",
      " Avg loss: 0.003575 \n",
      "\n"
     ]
    },
    {
     "name": "stderr",
     "output_type": "stream",
     "text": [
      "100%|██████████| 19/19 [00:38<00:00,  2.01s/it]\n"
     ]
    },
    {
     "name": "stdout",
     "output_type": "stream",
     "text": [
      "Validation Error: \n",
      " Avg loss: 0.003572 \n",
      "\n",
      "Learning rate (antes): 0.0003894999999999998\n",
      "Learning rate (depois): 0.00037299999999999985\n",
      "\n",
      "epoch 38\n",
      "-------------------------------\n",
      "Training on 159000 samples...\n",
      "Batch size: 2867\n",
      "Number of batches: 56\n"
     ]
    },
    {
     "name": "stderr",
     "output_type": "stream",
     "text": [
      "100%|██████████| 56/56 [02:53<00:00,  3.09s/it]\n"
     ]
    },
    {
     "name": "stdout",
     "output_type": "stream",
     "text": [
      "Training Error: \n",
      " Avg loss: 0.003571 \n",
      "\n"
     ]
    },
    {
     "name": "stderr",
     "output_type": "stream",
     "text": [
      "100%|██████████| 19/19 [00:40<00:00,  2.13s/it]\n"
     ]
    },
    {
     "name": "stdout",
     "output_type": "stream",
     "text": [
      "Validation Error: \n",
      " Avg loss: 0.003567 \n",
      "\n",
      "Learning rate (antes): 0.00037299999999999985\n",
      "Learning rate (depois): 0.00035649999999999983\n",
      "\n",
      "epoch 39\n",
      "-------------------------------\n",
      "Training on 159000 samples...\n",
      "Batch size: 2867\n",
      "Number of batches: 56\n"
     ]
    },
    {
     "name": "stderr",
     "output_type": "stream",
     "text": [
      "100%|██████████| 56/56 [02:50<00:00,  3.04s/it]\n"
     ]
    },
    {
     "name": "stdout",
     "output_type": "stream",
     "text": [
      "Training Error: \n",
      " Avg loss: 0.003563 \n",
      "\n"
     ]
    },
    {
     "name": "stderr",
     "output_type": "stream",
     "text": [
      "100%|██████████| 19/19 [00:41<00:00,  2.16s/it]\n"
     ]
    },
    {
     "name": "stdout",
     "output_type": "stream",
     "text": [
      "Validation Error: \n",
      " Avg loss: 0.003555 \n",
      "\n",
      "Learning rate (antes): 0.00035649999999999983\n",
      "Learning rate (depois): 0.0003399999999999998\n",
      "\n",
      "epoch 40\n",
      "-------------------------------\n",
      "Training on 159000 samples...\n",
      "Batch size: 2867\n",
      "Number of batches: 56\n"
     ]
    },
    {
     "name": "stderr",
     "output_type": "stream",
     "text": [
      "100%|██████████| 56/56 [02:50<00:00,  3.05s/it]\n"
     ]
    },
    {
     "name": "stdout",
     "output_type": "stream",
     "text": [
      "Training Error: \n",
      " Avg loss: 0.003555 \n",
      "\n"
     ]
    },
    {
     "name": "stderr",
     "output_type": "stream",
     "text": [
      "100%|██████████| 19/19 [00:43<00:00,  2.31s/it]\n"
     ]
    },
    {
     "name": "stdout",
     "output_type": "stream",
     "text": [
      "Validation Error: \n",
      " Avg loss: 0.003548 \n",
      "\n",
      "Learning rate (antes): 0.0003399999999999998\n",
      "Learning rate (depois): 0.0003234999999999998\n",
      "\n",
      "epoch 41\n",
      "-------------------------------\n",
      "Training on 159000 samples...\n",
      "Batch size: 2867\n",
      "Number of batches: 56\n"
     ]
    },
    {
     "name": "stderr",
     "output_type": "stream",
     "text": [
      "100%|██████████| 56/56 [02:50<00:00,  3.04s/it]\n"
     ]
    },
    {
     "name": "stdout",
     "output_type": "stream",
     "text": [
      "Training Error: \n",
      " Avg loss: 0.003543 \n",
      "\n"
     ]
    },
    {
     "name": "stderr",
     "output_type": "stream",
     "text": [
      "100%|██████████| 19/19 [00:41<00:00,  2.16s/it]\n"
     ]
    },
    {
     "name": "stdout",
     "output_type": "stream",
     "text": [
      "Validation Error: \n",
      " Avg loss: 0.003551 \n",
      "\n",
      "Learning rate (antes): 0.0003234999999999998\n",
      "Learning rate (depois): 0.00030699999999999976\n",
      "\n",
      "epoch 42\n",
      "-------------------------------\n",
      "Training on 159000 samples...\n",
      "Batch size: 2867\n",
      "Number of batches: 56\n"
     ]
    },
    {
     "name": "stderr",
     "output_type": "stream",
     "text": [
      "100%|██████████| 56/56 [02:48<00:00,  3.01s/it]\n"
     ]
    },
    {
     "name": "stdout",
     "output_type": "stream",
     "text": [
      "Training Error: \n",
      " Avg loss: 0.003540 \n",
      "\n"
     ]
    },
    {
     "name": "stderr",
     "output_type": "stream",
     "text": [
      "100%|██████████| 19/19 [00:39<00:00,  2.08s/it]\n"
     ]
    },
    {
     "name": "stdout",
     "output_type": "stream",
     "text": [
      "Validation Error: \n",
      " Avg loss: 0.003532 \n",
      "\n",
      "Learning rate (antes): 0.00030699999999999976\n",
      "Learning rate (depois): 0.00029049999999999974\n",
      "\n",
      "epoch 43\n",
      "-------------------------------\n",
      "Training on 159000 samples...\n",
      "Batch size: 2867\n",
      "Number of batches: 56\n"
     ]
    },
    {
     "name": "stderr",
     "output_type": "stream",
     "text": [
      "100%|██████████| 56/56 [02:51<00:00,  3.07s/it]\n"
     ]
    },
    {
     "name": "stdout",
     "output_type": "stream",
     "text": [
      "Training Error: \n",
      " Avg loss: 0.003531 \n",
      "\n"
     ]
    },
    {
     "name": "stderr",
     "output_type": "stream",
     "text": [
      "100%|██████████| 19/19 [00:43<00:00,  2.30s/it]\n"
     ]
    },
    {
     "name": "stdout",
     "output_type": "stream",
     "text": [
      "Validation Error: \n",
      " Avg loss: 0.003525 \n",
      "\n",
      "Learning rate (antes): 0.00029049999999999974\n",
      "Learning rate (depois): 0.0002739999999999998\n",
      "\n",
      "epoch 44\n",
      "-------------------------------\n",
      "Training on 159000 samples...\n",
      "Batch size: 2867\n",
      "Number of batches: 56\n"
     ]
    },
    {
     "name": "stderr",
     "output_type": "stream",
     "text": [
      "100%|██████████| 56/56 [03:48<00:00,  4.08s/it]\n"
     ]
    },
    {
     "name": "stdout",
     "output_type": "stream",
     "text": [
      "Training Error: \n",
      " Avg loss: 0.003525 \n",
      "\n"
     ]
    },
    {
     "name": "stderr",
     "output_type": "stream",
     "text": [
      "100%|██████████| 19/19 [00:45<00:00,  2.38s/it]\n"
     ]
    },
    {
     "name": "stdout",
     "output_type": "stream",
     "text": [
      "Validation Error: \n",
      " Avg loss: 0.003522 \n",
      "\n",
      "Learning rate (antes): 0.0002739999999999998\n",
      "Learning rate (depois): 0.0002574999999999998\n",
      "\n",
      "epoch 45\n",
      "-------------------------------\n",
      "Training on 159000 samples...\n",
      "Batch size: 2867\n",
      "Number of batches: 56\n"
     ]
    },
    {
     "name": "stderr",
     "output_type": "stream",
     "text": [
      "100%|██████████| 56/56 [03:25<00:00,  3.67s/it]\n"
     ]
    },
    {
     "name": "stdout",
     "output_type": "stream",
     "text": [
      "Training Error: \n",
      " Avg loss: 0.003518 \n",
      "\n"
     ]
    },
    {
     "name": "stderr",
     "output_type": "stream",
     "text": [
      "100%|██████████| 19/19 [00:49<00:00,  2.58s/it]\n"
     ]
    },
    {
     "name": "stdout",
     "output_type": "stream",
     "text": [
      "Validation Error: \n",
      " Avg loss: 0.003515 \n",
      "\n",
      "Learning rate (antes): 0.0002574999999999998\n",
      "Learning rate (depois): 0.0002409999999999998\n",
      "\n",
      "epoch 46\n",
      "-------------------------------\n",
      "Training on 159000 samples...\n",
      "Batch size: 2867\n",
      "Number of batches: 56\n"
     ]
    },
    {
     "name": "stderr",
     "output_type": "stream",
     "text": [
      "100%|██████████| 56/56 [03:09<00:00,  3.38s/it]\n"
     ]
    },
    {
     "name": "stdout",
     "output_type": "stream",
     "text": [
      "Training Error: \n",
      " Avg loss: 0.003519 \n",
      "\n"
     ]
    },
    {
     "name": "stderr",
     "output_type": "stream",
     "text": [
      "100%|██████████| 19/19 [00:42<00:00,  2.24s/it]\n"
     ]
    },
    {
     "name": "stdout",
     "output_type": "stream",
     "text": [
      "Validation Error: \n",
      " Avg loss: 0.003511 \n",
      "\n",
      "Learning rate (antes): 0.0002409999999999998\n",
      "Learning rate (depois): 0.00022449999999999982\n",
      "\n",
      "epoch 47\n",
      "-------------------------------\n",
      "Training on 159000 samples...\n",
      "Batch size: 2867\n",
      "Number of batches: 56\n"
     ]
    },
    {
     "name": "stderr",
     "output_type": "stream",
     "text": [
      "100%|██████████| 56/56 [02:48<00:00,  3.00s/it]\n"
     ]
    },
    {
     "name": "stdout",
     "output_type": "stream",
     "text": [
      "Training Error: \n",
      " Avg loss: 0.003513 \n",
      "\n"
     ]
    },
    {
     "name": "stderr",
     "output_type": "stream",
     "text": [
      "100%|██████████| 19/19 [00:40<00:00,  2.13s/it]\n"
     ]
    },
    {
     "name": "stdout",
     "output_type": "stream",
     "text": [
      "Validation Error: \n",
      " Avg loss: 0.003508 \n",
      "\n",
      "Learning rate (antes): 0.00022449999999999982\n",
      "Learning rate (depois): 0.00020799999999999982\n",
      "\n",
      "epoch 48\n",
      "-------------------------------\n",
      "Training on 159000 samples...\n",
      "Batch size: 2867\n",
      "Number of batches: 56\n"
     ]
    },
    {
     "name": "stderr",
     "output_type": "stream",
     "text": [
      "100%|██████████| 56/56 [02:52<00:00,  3.07s/it]\n"
     ]
    },
    {
     "name": "stdout",
     "output_type": "stream",
     "text": [
      "Training Error: \n",
      " Avg loss: 0.003510 \n",
      "\n"
     ]
    },
    {
     "name": "stderr",
     "output_type": "stream",
     "text": [
      "100%|██████████| 19/19 [00:42<00:00,  2.21s/it]\n"
     ]
    },
    {
     "name": "stdout",
     "output_type": "stream",
     "text": [
      "Validation Error: \n",
      " Avg loss: 0.003504 \n",
      "\n",
      "Learning rate (antes): 0.00020799999999999982\n",
      "Learning rate (depois): 0.00019149999999999986\n",
      "\n",
      "epoch 49\n",
      "-------------------------------\n",
      "Training on 159000 samples...\n",
      "Batch size: 2867\n",
      "Number of batches: 56\n"
     ]
    },
    {
     "name": "stderr",
     "output_type": "stream",
     "text": [
      "100%|██████████| 56/56 [02:51<00:00,  3.07s/it]\n"
     ]
    },
    {
     "name": "stdout",
     "output_type": "stream",
     "text": [
      "Training Error: \n",
      " Avg loss: 0.003507 \n",
      "\n"
     ]
    },
    {
     "name": "stderr",
     "output_type": "stream",
     "text": [
      "100%|██████████| 19/19 [00:44<00:00,  2.35s/it]\n"
     ]
    },
    {
     "name": "stdout",
     "output_type": "stream",
     "text": [
      "Validation Error: \n",
      " Avg loss: 0.003500 \n",
      "\n",
      "Learning rate (antes): 0.00019149999999999986\n",
      "Learning rate (depois): 0.00017499999999999986\n",
      "\n",
      "epoch 50\n",
      "-------------------------------\n",
      "Training on 159000 samples...\n",
      "Batch size: 2867\n",
      "Number of batches: 56\n"
     ]
    },
    {
     "name": "stderr",
     "output_type": "stream",
     "text": [
      "100%|██████████| 56/56 [02:51<00:00,  3.06s/it]\n"
     ]
    },
    {
     "name": "stdout",
     "output_type": "stream",
     "text": [
      "Training Error: \n",
      " Avg loss: 0.003502 \n",
      "\n"
     ]
    },
    {
     "name": "stderr",
     "output_type": "stream",
     "text": [
      "100%|██████████| 19/19 [00:40<00:00,  2.15s/it]\n"
     ]
    },
    {
     "name": "stdout",
     "output_type": "stream",
     "text": [
      "Validation Error: \n",
      " Avg loss: 0.003498 \n",
      "\n",
      "Learning rate (antes): 0.00017499999999999986\n",
      "Learning rate (depois): 0.00015849999999999987\n",
      "\n",
      "epoch 51\n",
      "-------------------------------\n",
      "Training on 159000 samples...\n",
      "Batch size: 2867\n",
      "Number of batches: 56\n"
     ]
    },
    {
     "name": "stderr",
     "output_type": "stream",
     "text": [
      "100%|██████████| 56/56 [02:50<00:00,  3.05s/it]\n"
     ]
    },
    {
     "name": "stdout",
     "output_type": "stream",
     "text": [
      "Training Error: \n",
      " Avg loss: 0.003498 \n",
      "\n"
     ]
    },
    {
     "name": "stderr",
     "output_type": "stream",
     "text": [
      "100%|██████████| 19/19 [00:41<00:00,  2.18s/it]\n"
     ]
    },
    {
     "name": "stdout",
     "output_type": "stream",
     "text": [
      "Validation Error: \n",
      " Avg loss: 0.003495 \n",
      "\n",
      "Learning rate (antes): 0.00015849999999999987\n",
      "Learning rate (depois): 0.00014199999999999987\n",
      "\n",
      "epoch 52\n",
      "-------------------------------\n",
      "Training on 159000 samples...\n",
      "Batch size: 2867\n",
      "Number of batches: 56\n"
     ]
    },
    {
     "name": "stderr",
     "output_type": "stream",
     "text": [
      "100%|██████████| 56/56 [02:50<00:00,  3.04s/it]\n"
     ]
    },
    {
     "name": "stdout",
     "output_type": "stream",
     "text": [
      "Training Error: \n",
      " Avg loss: 0.003498 \n",
      "\n"
     ]
    },
    {
     "name": "stderr",
     "output_type": "stream",
     "text": [
      "100%|██████████| 19/19 [00:40<00:00,  2.11s/it]\n"
     ]
    },
    {
     "name": "stdout",
     "output_type": "stream",
     "text": [
      "Validation Error: \n",
      " Avg loss: 0.003492 \n",
      "\n",
      "Learning rate (antes): 0.00014199999999999987\n",
      "Learning rate (depois): 0.0001254999999999999\n",
      "\n",
      "epoch 53\n",
      "-------------------------------\n",
      "Training on 159000 samples...\n",
      "Batch size: 2867\n",
      "Number of batches: 56\n"
     ]
    },
    {
     "name": "stderr",
     "output_type": "stream",
     "text": [
      "100%|██████████| 56/56 [02:56<00:00,  3.15s/it]\n"
     ]
    },
    {
     "name": "stdout",
     "output_type": "stream",
     "text": [
      "Training Error: \n",
      " Avg loss: 0.003494 \n",
      "\n"
     ]
    },
    {
     "name": "stderr",
     "output_type": "stream",
     "text": [
      "100%|██████████| 19/19 [00:40<00:00,  2.13s/it]\n"
     ]
    },
    {
     "name": "stdout",
     "output_type": "stream",
     "text": [
      "Validation Error: \n",
      " Avg loss: 0.003490 \n",
      "\n",
      "Learning rate (antes): 0.0001254999999999999\n",
      "Learning rate (depois): 0.00010899999999999993\n",
      "\n",
      "epoch 54\n",
      "-------------------------------\n",
      "Training on 159000 samples...\n",
      "Batch size: 2867\n",
      "Number of batches: 56\n"
     ]
    },
    {
     "name": "stderr",
     "output_type": "stream",
     "text": [
      "100%|██████████| 56/56 [02:55<00:00,  3.14s/it]\n"
     ]
    },
    {
     "name": "stdout",
     "output_type": "stream",
     "text": [
      "Training Error: \n",
      " Avg loss: 0.003490 \n",
      "\n"
     ]
    },
    {
     "name": "stderr",
     "output_type": "stream",
     "text": [
      "100%|██████████| 19/19 [00:37<00:00,  2.00s/it]\n"
     ]
    },
    {
     "name": "stdout",
     "output_type": "stream",
     "text": [
      "Validation Error: \n",
      " Avg loss: 0.003488 \n",
      "\n",
      "Learning rate (antes): 0.00010899999999999993\n",
      "Learning rate (depois): 9.249999999999994e-05\n",
      "\n",
      "epoch 55\n",
      "-------------------------------\n",
      "Training on 159000 samples...\n",
      "Batch size: 2867\n",
      "Number of batches: 56\n"
     ]
    },
    {
     "name": "stderr",
     "output_type": "stream",
     "text": [
      "100%|██████████| 56/56 [02:49<00:00,  3.03s/it]\n"
     ]
    },
    {
     "name": "stdout",
     "output_type": "stream",
     "text": [
      "Training Error: \n",
      " Avg loss: 0.003493 \n",
      "\n"
     ]
    },
    {
     "name": "stderr",
     "output_type": "stream",
     "text": [
      "100%|██████████| 19/19 [00:40<00:00,  2.12s/it]\n"
     ]
    },
    {
     "name": "stdout",
     "output_type": "stream",
     "text": [
      "Validation Error: \n",
      " Avg loss: 0.003487 \n",
      "\n",
      "Learning rate (antes): 9.249999999999994e-05\n",
      "Learning rate (depois): 7.599999999999995e-05\n",
      "\n",
      "epoch 56\n",
      "-------------------------------\n",
      "Training on 159000 samples...\n",
      "Batch size: 2867\n",
      "Number of batches: 56\n"
     ]
    },
    {
     "name": "stderr",
     "output_type": "stream",
     "text": [
      "100%|██████████| 56/56 [02:52<00:00,  3.08s/it]\n"
     ]
    },
    {
     "name": "stdout",
     "output_type": "stream",
     "text": [
      "Training Error: \n",
      " Avg loss: 0.003488 \n",
      "\n"
     ]
    },
    {
     "name": "stderr",
     "output_type": "stream",
     "text": [
      "100%|██████████| 19/19 [00:41<00:00,  2.20s/it]\n"
     ]
    },
    {
     "name": "stdout",
     "output_type": "stream",
     "text": [
      "Validation Error: \n",
      " Avg loss: 0.003485 \n",
      "\n",
      "Learning rate (antes): 7.599999999999995e-05\n",
      "Learning rate (depois): 5.949999999999996e-05\n",
      "\n",
      "epoch 57\n",
      "-------------------------------\n",
      "Training on 159000 samples...\n",
      "Batch size: 2867\n",
      "Number of batches: 56\n"
     ]
    },
    {
     "name": "stderr",
     "output_type": "stream",
     "text": [
      "100%|██████████| 56/56 [03:06<00:00,  3.33s/it]\n"
     ]
    },
    {
     "name": "stdout",
     "output_type": "stream",
     "text": [
      "Training Error: \n",
      " Avg loss: 0.003491 \n",
      "\n"
     ]
    },
    {
     "name": "stderr",
     "output_type": "stream",
     "text": [
      "100%|██████████| 19/19 [00:40<00:00,  2.13s/it]\n"
     ]
    },
    {
     "name": "stdout",
     "output_type": "stream",
     "text": [
      "Validation Error: \n",
      " Avg loss: 0.003484 \n",
      "\n",
      "Learning rate (antes): 5.949999999999996e-05\n",
      "Learning rate (depois): 4.299999999999998e-05\n",
      "\n",
      "epoch 58\n",
      "-------------------------------\n",
      "Training on 159000 samples...\n",
      "Batch size: 2867\n",
      "Number of batches: 56\n"
     ]
    },
    {
     "name": "stderr",
     "output_type": "stream",
     "text": [
      "100%|██████████| 56/56 [02:47<00:00,  2.99s/it]\n"
     ]
    },
    {
     "name": "stdout",
     "output_type": "stream",
     "text": [
      "Training Error: \n",
      " Avg loss: 0.003486 \n",
      "\n"
     ]
    },
    {
     "name": "stderr",
     "output_type": "stream",
     "text": [
      "100%|██████████| 19/19 [00:38<00:00,  2.02s/it]\n"
     ]
    },
    {
     "name": "stdout",
     "output_type": "stream",
     "text": [
      "Validation Error: \n",
      " Avg loss: 0.003483 \n",
      "\n",
      "Learning rate (antes): 4.299999999999998e-05\n",
      "Learning rate (depois): 2.6499999999999977e-05\n",
      "\n",
      "epoch 59\n",
      "-------------------------------\n",
      "Training on 159000 samples...\n",
      "Batch size: 2867\n",
      "Number of batches: 56\n"
     ]
    },
    {
     "name": "stderr",
     "output_type": "stream",
     "text": [
      "100%|██████████| 56/56 [02:50<00:00,  3.04s/it]\n"
     ]
    },
    {
     "name": "stdout",
     "output_type": "stream",
     "text": [
      "Training Error: \n",
      " Avg loss: 0.003486 \n",
      "\n"
     ]
    },
    {
     "name": "stderr",
     "output_type": "stream",
     "text": [
      "100%|██████████| 19/19 [00:40<00:00,  2.16s/it]\n"
     ]
    },
    {
     "name": "stdout",
     "output_type": "stream",
     "text": [
      "Validation Error: \n",
      " Avg loss: 0.003483 \n",
      "\n",
      "Learning rate (antes): 2.6499999999999977e-05\n",
      "Learning rate (depois): 1.0000000000000028e-05\n",
      "\n",
      "epoch 60\n",
      "-------------------------------\n",
      "Training on 159000 samples...\n",
      "Batch size: 2867\n",
      "Number of batches: 56\n"
     ]
    },
    {
     "name": "stderr",
     "output_type": "stream",
     "text": [
      "100%|██████████| 56/56 [02:49<00:00,  3.03s/it]\n"
     ]
    },
    {
     "name": "stdout",
     "output_type": "stream",
     "text": [
      "Training Error: \n",
      " Avg loss: 0.003487 \n",
      "\n"
     ]
    },
    {
     "name": "stderr",
     "output_type": "stream",
     "text": [
      "100%|██████████| 19/19 [00:40<00:00,  2.14s/it]\n"
     ]
    },
    {
     "name": "stdout",
     "output_type": "stream",
     "text": [
      "Validation Error: \n",
      " Avg loss: 0.003483 \n",
      "\n",
      "Learning rate (antes): 1.0000000000000028e-05\n",
      "Learning rate (depois): 1.0000000000000028e-05\n",
      "\n",
      "epoch 61\n",
      "-------------------------------\n",
      "Training on 159000 samples...\n",
      "Batch size: 2867\n",
      "Number of batches: 56\n"
     ]
    },
    {
     "name": "stderr",
     "output_type": "stream",
     "text": [
      "100%|██████████| 56/56 [02:48<00:00,  3.01s/it]\n"
     ]
    },
    {
     "name": "stdout",
     "output_type": "stream",
     "text": [
      "Training Error: \n",
      " Avg loss: 0.003487 \n",
      "\n"
     ]
    },
    {
     "name": "stderr",
     "output_type": "stream",
     "text": [
      "100%|██████████| 19/19 [00:39<00:00,  2.07s/it]\n"
     ]
    },
    {
     "name": "stdout",
     "output_type": "stream",
     "text": [
      "Validation Error: \n",
      " Avg loss: 0.003482 \n",
      "\n",
      "Learning rate (antes): 1.0000000000000028e-05\n",
      "Learning rate (depois): 1.0000000000000028e-05\n",
      "\n",
      "epoch 62\n",
      "-------------------------------\n",
      "Training on 159000 samples...\n",
      "Batch size: 2867\n",
      "Number of batches: 56\n"
     ]
    },
    {
     "name": "stderr",
     "output_type": "stream",
     "text": [
      "100%|██████████| 56/56 [02:48<00:00,  3.00s/it]\n"
     ]
    },
    {
     "name": "stdout",
     "output_type": "stream",
     "text": [
      "Training Error: \n",
      " Avg loss: 0.003485 \n",
      "\n"
     ]
    },
    {
     "name": "stderr",
     "output_type": "stream",
     "text": [
      "100%|██████████| 19/19 [00:39<00:00,  2.06s/it]\n"
     ]
    },
    {
     "name": "stdout",
     "output_type": "stream",
     "text": [
      "Validation Error: \n",
      " Avg loss: 0.003482 \n",
      "\n",
      "Learning rate (antes): 1.0000000000000028e-05\n",
      "Learning rate (depois): 1.0000000000000028e-05\n",
      "\n",
      "epoch 63\n",
      "-------------------------------\n",
      "Training on 159000 samples...\n",
      "Batch size: 2867\n",
      "Number of batches: 56\n"
     ]
    },
    {
     "name": "stderr",
     "output_type": "stream",
     "text": [
      "100%|██████████| 56/56 [02:51<00:00,  3.07s/it]\n"
     ]
    },
    {
     "name": "stdout",
     "output_type": "stream",
     "text": [
      "Training Error: \n",
      " Avg loss: 0.003486 \n",
      "\n"
     ]
    },
    {
     "name": "stderr",
     "output_type": "stream",
     "text": [
      "100%|██████████| 19/19 [00:40<00:00,  2.16s/it]\n"
     ]
    },
    {
     "name": "stdout",
     "output_type": "stream",
     "text": [
      "Validation Error: \n",
      " Avg loss: 0.003482 \n",
      "\n",
      "Learning rate (antes): 1.0000000000000028e-05\n",
      "Learning rate (depois): 1.0000000000000028e-05\n",
      "\n",
      "epoch 64\n",
      "-------------------------------\n",
      "Training on 159000 samples...\n",
      "Batch size: 2867\n",
      "Number of batches: 56\n"
     ]
    },
    {
     "name": "stderr",
     "output_type": "stream",
     "text": [
      "100%|██████████| 56/56 [02:48<00:00,  3.02s/it]\n"
     ]
    },
    {
     "name": "stdout",
     "output_type": "stream",
     "text": [
      "Training Error: \n",
      " Avg loss: 0.003486 \n",
      "\n"
     ]
    },
    {
     "name": "stderr",
     "output_type": "stream",
     "text": [
      "100%|██████████| 19/19 [00:39<00:00,  2.06s/it]\n"
     ]
    },
    {
     "name": "stdout",
     "output_type": "stream",
     "text": [
      "Validation Error: \n",
      " Avg loss: 0.003482 \n",
      "\n",
      "Learning rate (antes): 1.0000000000000028e-05\n",
      "Learning rate (depois): 1.0000000000000028e-05\n",
      "\n",
      "epoch 65\n",
      "-------------------------------\n",
      "Training on 159000 samples...\n",
      "Batch size: 2867\n",
      "Number of batches: 56\n"
     ]
    },
    {
     "name": "stderr",
     "output_type": "stream",
     "text": [
      "100%|██████████| 56/56 [02:50<00:00,  3.04s/it]\n"
     ]
    },
    {
     "name": "stdout",
     "output_type": "stream",
     "text": [
      "Training Error: \n",
      " Avg loss: 0.003485 \n",
      "\n"
     ]
    },
    {
     "name": "stderr",
     "output_type": "stream",
     "text": [
      "100%|██████████| 19/19 [00:39<00:00,  2.09s/it]\n"
     ]
    },
    {
     "name": "stdout",
     "output_type": "stream",
     "text": [
      "Validation Error: \n",
      " Avg loss: 0.003482 \n",
      "\n",
      "Learning rate (antes): 1.0000000000000028e-05\n",
      "Learning rate (depois): 1.0000000000000028e-05\n",
      "\n",
      "epoch 66\n",
      "-------------------------------\n",
      "Training on 159000 samples...\n",
      "Batch size: 2867\n",
      "Number of batches: 56\n"
     ]
    },
    {
     "name": "stderr",
     "output_type": "stream",
     "text": [
      "100%|██████████| 56/56 [02:56<00:00,  3.15s/it]\n"
     ]
    },
    {
     "name": "stdout",
     "output_type": "stream",
     "text": [
      "Training Error: \n",
      " Avg loss: 0.003486 \n",
      "\n"
     ]
    },
    {
     "name": "stderr",
     "output_type": "stream",
     "text": [
      "100%|██████████| 19/19 [00:38<00:00,  2.03s/it]\n"
     ]
    },
    {
     "name": "stdout",
     "output_type": "stream",
     "text": [
      "Validation Error: \n",
      " Avg loss: 0.003481 \n",
      "\n",
      "Learning rate (antes): 1.0000000000000028e-05\n",
      "Learning rate (depois): 1.0000000000000028e-05\n",
      "\n",
      "epoch 67\n",
      "-------------------------------\n",
      "Training on 159000 samples...\n",
      "Batch size: 2867\n",
      "Number of batches: 56\n"
     ]
    },
    {
     "name": "stderr",
     "output_type": "stream",
     "text": [
      "100%|██████████| 56/56 [02:54<00:00,  3.12s/it]\n"
     ]
    },
    {
     "name": "stdout",
     "output_type": "stream",
     "text": [
      "Training Error: \n",
      " Avg loss: 0.003482 \n",
      "\n"
     ]
    },
    {
     "name": "stderr",
     "output_type": "stream",
     "text": [
      "100%|██████████| 19/19 [00:40<00:00,  2.14s/it]\n"
     ]
    },
    {
     "name": "stdout",
     "output_type": "stream",
     "text": [
      "Validation Error: \n",
      " Avg loss: 0.003481 \n",
      "\n",
      "Learning rate (antes): 1.0000000000000028e-05\n",
      "Learning rate (depois): 1.0000000000000028e-05\n",
      "\n",
      "epoch 68\n",
      "-------------------------------\n",
      "Training on 159000 samples...\n",
      "Batch size: 2867\n",
      "Number of batches: 56\n"
     ]
    },
    {
     "name": "stderr",
     "output_type": "stream",
     "text": [
      "100%|██████████| 56/56 [02:50<00:00,  3.05s/it]\n"
     ]
    },
    {
     "name": "stdout",
     "output_type": "stream",
     "text": [
      "Training Error: \n",
      " Avg loss: 0.003486 \n",
      "\n"
     ]
    },
    {
     "name": "stderr",
     "output_type": "stream",
     "text": [
      "100%|██████████| 19/19 [00:39<00:00,  2.06s/it]\n"
     ]
    },
    {
     "name": "stdout",
     "output_type": "stream",
     "text": [
      "Validation Error: \n",
      " Avg loss: 0.003481 \n",
      "\n",
      "Learning rate (antes): 1.0000000000000028e-05\n",
      "Learning rate (depois): 1.0000000000000028e-05\n",
      "\n",
      "epoch 69\n",
      "-------------------------------\n",
      "Training on 159000 samples...\n",
      "Batch size: 2867\n",
      "Number of batches: 56\n"
     ]
    },
    {
     "name": "stderr",
     "output_type": "stream",
     "text": [
      "100%|██████████| 56/56 [02:48<00:00,  3.00s/it]\n"
     ]
    },
    {
     "name": "stdout",
     "output_type": "stream",
     "text": [
      "Training Error: \n",
      " Avg loss: 0.003485 \n",
      "\n"
     ]
    },
    {
     "name": "stderr",
     "output_type": "stream",
     "text": [
      "100%|██████████| 19/19 [00:41<00:00,  2.16s/it]\n"
     ]
    },
    {
     "name": "stdout",
     "output_type": "stream",
     "text": [
      "Validation Error: \n",
      " Avg loss: 0.003481 \n",
      "\n",
      "Learning rate (antes): 1.0000000000000028e-05\n",
      "Learning rate (depois): 1.0000000000000028e-05\n",
      "\n",
      "epoch 70\n",
      "-------------------------------\n",
      "Training on 159000 samples...\n",
      "Batch size: 2867\n",
      "Number of batches: 56\n"
     ]
    },
    {
     "name": "stderr",
     "output_type": "stream",
     "text": [
      "100%|██████████| 56/56 [02:50<00:00,  3.04s/it]\n"
     ]
    },
    {
     "name": "stdout",
     "output_type": "stream",
     "text": [
      "Training Error: \n",
      " Avg loss: 0.003483 \n",
      "\n"
     ]
    },
    {
     "name": "stderr",
     "output_type": "stream",
     "text": [
      "100%|██████████| 19/19 [00:36<00:00,  1.92s/it]\n"
     ]
    },
    {
     "name": "stdout",
     "output_type": "stream",
     "text": [
      "Validation Error: \n",
      " Avg loss: 0.003481 \n",
      "\n",
      "Learning rate (antes): 1.0000000000000028e-05\n",
      "Learning rate (depois): 1.0000000000000028e-05\n",
      "\n",
      "epoch 71\n",
      "-------------------------------\n",
      "Training on 159000 samples...\n",
      "Batch size: 2867\n",
      "Number of batches: 56\n"
     ]
    },
    {
     "name": "stderr",
     "output_type": "stream",
     "text": [
      "100%|██████████| 56/56 [02:49<00:00,  3.03s/it]\n"
     ]
    },
    {
     "name": "stdout",
     "output_type": "stream",
     "text": [
      "Training Error: \n",
      " Avg loss: 0.003485 \n",
      "\n"
     ]
    },
    {
     "name": "stderr",
     "output_type": "stream",
     "text": [
      "100%|██████████| 19/19 [00:40<00:00,  2.15s/it]\n"
     ]
    },
    {
     "name": "stdout",
     "output_type": "stream",
     "text": [
      "Validation Error: \n",
      " Avg loss: 0.003480 \n",
      "\n",
      "Learning rate (antes): 1.0000000000000028e-05\n",
      "Learning rate (depois): 1.0000000000000028e-05\n",
      "\n",
      "epoch 72\n",
      "-------------------------------\n",
      "Training on 159000 samples...\n",
      "Batch size: 2867\n",
      "Number of batches: 56\n"
     ]
    },
    {
     "name": "stderr",
     "output_type": "stream",
     "text": [
      "100%|██████████| 56/56 [02:49<00:00,  3.03s/it]\n"
     ]
    },
    {
     "name": "stdout",
     "output_type": "stream",
     "text": [
      "Training Error: \n",
      " Avg loss: 0.003485 \n",
      "\n"
     ]
    },
    {
     "name": "stderr",
     "output_type": "stream",
     "text": [
      "100%|██████████| 19/19 [00:39<00:00,  2.09s/it]\n"
     ]
    },
    {
     "name": "stdout",
     "output_type": "stream",
     "text": [
      "Validation Error: \n",
      " Avg loss: 0.003480 \n",
      "\n",
      "Learning rate (antes): 1.0000000000000028e-05\n",
      "Learning rate (depois): 1.0000000000000028e-05\n",
      "\n",
      "epoch 73\n",
      "-------------------------------\n",
      "Training on 159000 samples...\n",
      "Batch size: 2867\n",
      "Number of batches: 56\n"
     ]
    },
    {
     "name": "stderr",
     "output_type": "stream",
     "text": [
      "100%|██████████| 56/56 [02:52<00:00,  3.08s/it]\n"
     ]
    },
    {
     "name": "stdout",
     "output_type": "stream",
     "text": [
      "Training Error: \n",
      " Avg loss: 0.003485 \n",
      "\n"
     ]
    },
    {
     "name": "stderr",
     "output_type": "stream",
     "text": [
      "100%|██████████| 19/19 [00:40<00:00,  2.14s/it]\n"
     ]
    },
    {
     "name": "stdout",
     "output_type": "stream",
     "text": [
      "Validation Error: \n",
      " Avg loss: 0.003480 \n",
      "\n",
      "Learning rate (antes): 1.0000000000000028e-05\n",
      "Learning rate (depois): 1.0000000000000028e-05\n",
      "\n",
      "epoch 74\n",
      "-------------------------------\n",
      "Training on 159000 samples...\n",
      "Batch size: 2867\n",
      "Number of batches: 56\n"
     ]
    },
    {
     "name": "stderr",
     "output_type": "stream",
     "text": [
      "100%|██████████| 56/56 [02:48<00:00,  3.01s/it]\n"
     ]
    },
    {
     "name": "stdout",
     "output_type": "stream",
     "text": [
      "Training Error: \n",
      " Avg loss: 0.003482 \n",
      "\n"
     ]
    },
    {
     "name": "stderr",
     "output_type": "stream",
     "text": [
      "100%|██████████| 19/19 [00:40<00:00,  2.15s/it]\n"
     ]
    },
    {
     "name": "stdout",
     "output_type": "stream",
     "text": [
      "Validation Error: \n",
      " Avg loss: 0.003480 \n",
      "\n",
      "Learning rate (antes): 1.0000000000000028e-05\n",
      "Learning rate (depois): 1.0000000000000028e-05\n",
      "\n",
      "epoch 75\n",
      "-------------------------------\n",
      "Training on 159000 samples...\n",
      "Batch size: 2867\n",
      "Number of batches: 56\n"
     ]
    },
    {
     "name": "stderr",
     "output_type": "stream",
     "text": [
      "100%|██████████| 56/56 [02:50<00:00,  3.05s/it]\n"
     ]
    },
    {
     "name": "stdout",
     "output_type": "stream",
     "text": [
      "Training Error: \n",
      " Avg loss: 0.003485 \n",
      "\n"
     ]
    },
    {
     "name": "stderr",
     "output_type": "stream",
     "text": [
      "100%|██████████| 19/19 [00:41<00:00,  2.16s/it]\n"
     ]
    },
    {
     "name": "stdout",
     "output_type": "stream",
     "text": [
      "Validation Error: \n",
      " Avg loss: 0.003479 \n",
      "\n",
      "Learning rate (antes): 1.0000000000000028e-05\n",
      "Learning rate (depois): 1.0000000000000028e-05\n",
      "\n",
      "epoch 76\n",
      "-------------------------------\n",
      "Training on 159000 samples...\n",
      "Batch size: 2867\n",
      "Number of batches: 56\n"
     ]
    },
    {
     "name": "stderr",
     "output_type": "stream",
     "text": [
      "100%|██████████| 56/56 [02:51<00:00,  3.06s/it]\n"
     ]
    },
    {
     "name": "stdout",
     "output_type": "stream",
     "text": [
      "Training Error: \n",
      " Avg loss: 0.003484 \n",
      "\n"
     ]
    },
    {
     "name": "stderr",
     "output_type": "stream",
     "text": [
      "100%|██████████| 19/19 [00:40<00:00,  2.15s/it]\n"
     ]
    },
    {
     "name": "stdout",
     "output_type": "stream",
     "text": [
      "Validation Error: \n",
      " Avg loss: 0.003479 \n",
      "\n",
      "Learning rate (antes): 1.0000000000000028e-05\n",
      "Learning rate (depois): 1.0000000000000028e-05\n",
      "\n",
      "epoch 77\n",
      "-------------------------------\n",
      "Training on 159000 samples...\n",
      "Batch size: 2867\n",
      "Number of batches: 56\n"
     ]
    },
    {
     "name": "stderr",
     "output_type": "stream",
     "text": [
      "100%|██████████| 56/56 [02:50<00:00,  3.05s/it]\n"
     ]
    },
    {
     "name": "stdout",
     "output_type": "stream",
     "text": [
      "Training Error: \n",
      " Avg loss: 0.003481 \n",
      "\n"
     ]
    },
    {
     "name": "stderr",
     "output_type": "stream",
     "text": [
      "100%|██████████| 19/19 [00:40<00:00,  2.15s/it]\n"
     ]
    },
    {
     "name": "stdout",
     "output_type": "stream",
     "text": [
      "Validation Error: \n",
      " Avg loss: 0.003479 \n",
      "\n",
      "Learning rate (antes): 1.0000000000000028e-05\n",
      "Learning rate (depois): 1.0000000000000028e-05\n",
      "\n",
      "epoch 78\n",
      "-------------------------------\n",
      "Training on 159000 samples...\n",
      "Batch size: 2867\n",
      "Number of batches: 56\n"
     ]
    },
    {
     "name": "stderr",
     "output_type": "stream",
     "text": [
      "100%|██████████| 56/56 [02:50<00:00,  3.05s/it]\n"
     ]
    },
    {
     "name": "stdout",
     "output_type": "stream",
     "text": [
      "Training Error: \n",
      " Avg loss: 0.003483 \n",
      "\n"
     ]
    },
    {
     "name": "stderr",
     "output_type": "stream",
     "text": [
      "100%|██████████| 19/19 [00:39<00:00,  2.06s/it]\n"
     ]
    },
    {
     "name": "stdout",
     "output_type": "stream",
     "text": [
      "Validation Error: \n",
      " Avg loss: 0.003478 \n",
      "\n",
      "Learning rate (antes): 1.0000000000000028e-05\n",
      "Learning rate (depois): 1.0000000000000028e-05\n",
      "\n",
      "epoch 79\n",
      "-------------------------------\n",
      "Training on 159000 samples...\n",
      "Batch size: 2867\n",
      "Number of batches: 56\n"
     ]
    },
    {
     "name": "stderr",
     "output_type": "stream",
     "text": [
      "100%|██████████| 56/56 [02:54<00:00,  3.11s/it]\n"
     ]
    },
    {
     "name": "stdout",
     "output_type": "stream",
     "text": [
      "Training Error: \n",
      " Avg loss: 0.003484 \n",
      "\n"
     ]
    },
    {
     "name": "stderr",
     "output_type": "stream",
     "text": [
      "100%|██████████| 19/19 [00:39<00:00,  2.09s/it]\n"
     ]
    },
    {
     "name": "stdout",
     "output_type": "stream",
     "text": [
      "Validation Error: \n",
      " Avg loss: 0.003478 \n",
      "\n",
      "Learning rate (antes): 1.0000000000000028e-05\n",
      "Learning rate (depois): 1.0000000000000028e-05\n",
      "\n",
      "epoch 80\n",
      "-------------------------------\n",
      "Training on 159000 samples...\n",
      "Batch size: 2867\n",
      "Number of batches: 56\n"
     ]
    },
    {
     "name": "stderr",
     "output_type": "stream",
     "text": [
      "100%|██████████| 56/56 [02:47<00:00,  3.00s/it]\n"
     ]
    },
    {
     "name": "stdout",
     "output_type": "stream",
     "text": [
      "Training Error: \n",
      " Avg loss: 0.003479 \n",
      "\n"
     ]
    },
    {
     "name": "stderr",
     "output_type": "stream",
     "text": [
      "100%|██████████| 19/19 [00:40<00:00,  2.11s/it]\n"
     ]
    },
    {
     "name": "stdout",
     "output_type": "stream",
     "text": [
      "Validation Error: \n",
      " Avg loss: 0.003478 \n",
      "\n",
      "Learning rate (antes): 1.0000000000000028e-05\n",
      "Learning rate (depois): 1.0000000000000028e-05\n",
      "\n",
      "epoch 81\n",
      "-------------------------------\n",
      "Training on 159000 samples...\n",
      "Batch size: 2867\n",
      "Number of batches: 56\n"
     ]
    },
    {
     "name": "stderr",
     "output_type": "stream",
     "text": [
      "100%|██████████| 56/56 [02:49<00:00,  3.04s/it]\n"
     ]
    },
    {
     "name": "stdout",
     "output_type": "stream",
     "text": [
      "Training Error: \n",
      " Avg loss: 0.003483 \n",
      "\n"
     ]
    },
    {
     "name": "stderr",
     "output_type": "stream",
     "text": [
      "100%|██████████| 19/19 [00:39<00:00,  2.08s/it]\n"
     ]
    },
    {
     "name": "stdout",
     "output_type": "stream",
     "text": [
      "Validation Error: \n",
      " Avg loss: 0.003477 \n",
      "\n",
      "Learning rate (antes): 1.0000000000000028e-05\n",
      "Learning rate (depois): 1.0000000000000028e-05\n",
      "\n",
      "epoch 82\n",
      "-------------------------------\n",
      "Training on 159000 samples...\n",
      "Batch size: 2867\n",
      "Number of batches: 56\n"
     ]
    },
    {
     "name": "stderr",
     "output_type": "stream",
     "text": [
      "100%|██████████| 56/56 [02:48<00:00,  3.01s/it]\n"
     ]
    },
    {
     "name": "stdout",
     "output_type": "stream",
     "text": [
      "Training Error: \n",
      " Avg loss: 0.003481 \n",
      "\n"
     ]
    },
    {
     "name": "stderr",
     "output_type": "stream",
     "text": [
      "100%|██████████| 19/19 [00:38<00:00,  2.01s/it]\n"
     ]
    },
    {
     "name": "stdout",
     "output_type": "stream",
     "text": [
      "Validation Error: \n",
      " Avg loss: 0.003477 \n",
      "\n",
      "Learning rate (antes): 1.0000000000000028e-05\n",
      "Learning rate (depois): 1.0000000000000028e-05\n",
      "\n",
      "epoch 83\n",
      "-------------------------------\n",
      "Training on 159000 samples...\n",
      "Batch size: 2867\n",
      "Number of batches: 56\n"
     ]
    },
    {
     "name": "stderr",
     "output_type": "stream",
     "text": [
      "100%|██████████| 56/56 [03:13<00:00,  3.45s/it]\n"
     ]
    },
    {
     "name": "stdout",
     "output_type": "stream",
     "text": [
      "Training Error: \n",
      " Avg loss: 0.003482 \n",
      "\n"
     ]
    },
    {
     "name": "stderr",
     "output_type": "stream",
     "text": [
      "100%|██████████| 19/19 [00:38<00:00,  2.02s/it]\n"
     ]
    },
    {
     "name": "stdout",
     "output_type": "stream",
     "text": [
      "Validation Error: \n",
      " Avg loss: 0.003477 \n",
      "\n",
      "Learning rate (antes): 1.0000000000000028e-05\n",
      "Learning rate (depois): 1.0000000000000028e-05\n",
      "\n",
      "epoch 84\n",
      "-------------------------------\n",
      "Training on 159000 samples...\n",
      "Batch size: 2867\n",
      "Number of batches: 56\n"
     ]
    },
    {
     "name": "stderr",
     "output_type": "stream",
     "text": [
      "100%|██████████| 56/56 [02:51<00:00,  3.06s/it]\n"
     ]
    },
    {
     "name": "stdout",
     "output_type": "stream",
     "text": [
      "Training Error: \n",
      " Avg loss: 0.003480 \n",
      "\n"
     ]
    },
    {
     "name": "stderr",
     "output_type": "stream",
     "text": [
      "100%|██████████| 19/19 [00:41<00:00,  2.16s/it]\n"
     ]
    },
    {
     "name": "stdout",
     "output_type": "stream",
     "text": [
      "Validation Error: \n",
      " Avg loss: 0.003476 \n",
      "\n",
      "Learning rate (antes): 1.0000000000000028e-05\n",
      "Learning rate (depois): 1.0000000000000028e-05\n",
      "\n",
      "epoch 85\n",
      "-------------------------------\n",
      "Training on 159000 samples...\n",
      "Batch size: 2867\n",
      "Number of batches: 56\n"
     ]
    },
    {
     "name": "stderr",
     "output_type": "stream",
     "text": [
      "100%|██████████| 56/56 [02:50<00:00,  3.05s/it]\n"
     ]
    },
    {
     "name": "stdout",
     "output_type": "stream",
     "text": [
      "Training Error: \n",
      " Avg loss: 0.003479 \n",
      "\n"
     ]
    },
    {
     "name": "stderr",
     "output_type": "stream",
     "text": [
      "100%|██████████| 19/19 [00:40<00:00,  2.14s/it]\n"
     ]
    },
    {
     "name": "stdout",
     "output_type": "stream",
     "text": [
      "Validation Error: \n",
      " Avg loss: 0.003476 \n",
      "\n",
      "Learning rate (antes): 1.0000000000000028e-05\n",
      "Learning rate (depois): 1.0000000000000028e-05\n",
      "\n",
      "epoch 86\n",
      "-------------------------------\n",
      "Training on 159000 samples...\n",
      "Batch size: 2867\n",
      "Number of batches: 56\n"
     ]
    },
    {
     "name": "stderr",
     "output_type": "stream",
     "text": [
      "100%|██████████| 56/56 [02:53<00:00,  3.10s/it]\n"
     ]
    },
    {
     "name": "stdout",
     "output_type": "stream",
     "text": [
      "Training Error: \n",
      " Avg loss: 0.003479 \n",
      "\n"
     ]
    },
    {
     "name": "stderr",
     "output_type": "stream",
     "text": [
      "100%|██████████| 19/19 [00:42<00:00,  2.22s/it]\n"
     ]
    },
    {
     "name": "stdout",
     "output_type": "stream",
     "text": [
      "Validation Error: \n",
      " Avg loss: 0.003476 \n",
      "\n",
      "Learning rate (antes): 1.0000000000000028e-05\n",
      "Learning rate (depois): 1.0000000000000028e-05\n",
      "\n",
      "epoch 87\n",
      "-------------------------------\n",
      "Training on 159000 samples...\n",
      "Batch size: 2867\n",
      "Number of batches: 56\n"
     ]
    },
    {
     "name": "stderr",
     "output_type": "stream",
     "text": [
      "100%|██████████| 56/56 [03:05<00:00,  3.30s/it]\n"
     ]
    },
    {
     "name": "stdout",
     "output_type": "stream",
     "text": [
      "Training Error: \n",
      " Avg loss: 0.003477 \n",
      "\n"
     ]
    },
    {
     "name": "stderr",
     "output_type": "stream",
     "text": [
      "100%|██████████| 19/19 [00:40<00:00,  2.13s/it]\n"
     ]
    },
    {
     "name": "stdout",
     "output_type": "stream",
     "text": [
      "Validation Error: \n",
      " Avg loss: 0.003475 \n",
      "\n",
      "Learning rate (antes): 1.0000000000000028e-05\n",
      "Learning rate (depois): 1.0000000000000028e-05\n",
      "\n",
      "epoch 88\n",
      "-------------------------------\n",
      "Training on 159000 samples...\n",
      "Batch size: 2867\n",
      "Number of batches: 56\n"
     ]
    },
    {
     "name": "stderr",
     "output_type": "stream",
     "text": [
      "100%|██████████| 56/56 [02:46<00:00,  2.97s/it]\n"
     ]
    },
    {
     "name": "stdout",
     "output_type": "stream",
     "text": [
      "Training Error: \n",
      " Avg loss: 0.003479 \n",
      "\n"
     ]
    },
    {
     "name": "stderr",
     "output_type": "stream",
     "text": [
      "100%|██████████| 19/19 [00:36<00:00,  1.93s/it]\n"
     ]
    },
    {
     "name": "stdout",
     "output_type": "stream",
     "text": [
      "Validation Error: \n",
      " Avg loss: 0.003475 \n",
      "\n",
      "Learning rate (antes): 1.0000000000000028e-05\n",
      "Learning rate (depois): 1.0000000000000028e-05\n",
      "\n",
      "epoch 89\n",
      "-------------------------------\n",
      "Training on 159000 samples...\n",
      "Batch size: 2867\n",
      "Number of batches: 56\n"
     ]
    },
    {
     "name": "stderr",
     "output_type": "stream",
     "text": [
      "100%|██████████| 56/56 [02:51<00:00,  3.06s/it]\n"
     ]
    },
    {
     "name": "stdout",
     "output_type": "stream",
     "text": [
      "Training Error: \n",
      " Avg loss: 0.003479 \n",
      "\n"
     ]
    },
    {
     "name": "stderr",
     "output_type": "stream",
     "text": [
      "100%|██████████| 19/19 [00:42<00:00,  2.23s/it]\n"
     ]
    },
    {
     "name": "stdout",
     "output_type": "stream",
     "text": [
      "Validation Error: \n",
      " Avg loss: 0.003475 \n",
      "\n",
      "Learning rate (antes): 1.0000000000000028e-05\n",
      "Learning rate (depois): 1.0000000000000028e-05\n",
      "\n",
      "epoch 90\n",
      "-------------------------------\n",
      "Training on 159000 samples...\n",
      "Batch size: 2867\n",
      "Number of batches: 56\n"
     ]
    },
    {
     "name": "stderr",
     "output_type": "stream",
     "text": [
      "100%|██████████| 56/56 [02:54<00:00,  3.12s/it]\n"
     ]
    },
    {
     "name": "stdout",
     "output_type": "stream",
     "text": [
      "Training Error: \n",
      " Avg loss: 0.003478 \n",
      "\n"
     ]
    },
    {
     "name": "stderr",
     "output_type": "stream",
     "text": [
      "100%|██████████| 19/19 [00:40<00:00,  2.13s/it]\n"
     ]
    },
    {
     "name": "stdout",
     "output_type": "stream",
     "text": [
      "Validation Error: \n",
      " Avg loss: 0.003474 \n",
      "\n",
      "Learning rate (antes): 1.0000000000000028e-05\n",
      "Learning rate (depois): 1.0000000000000028e-05\n",
      "\n",
      "epoch 91\n",
      "-------------------------------\n",
      "Training on 159000 samples...\n",
      "Batch size: 2867\n",
      "Number of batches: 56\n"
     ]
    },
    {
     "name": "stderr",
     "output_type": "stream",
     "text": [
      "100%|██████████| 56/56 [02:51<00:00,  3.07s/it]\n"
     ]
    },
    {
     "name": "stdout",
     "output_type": "stream",
     "text": [
      "Training Error: \n",
      " Avg loss: 0.003478 \n",
      "\n"
     ]
    },
    {
     "name": "stderr",
     "output_type": "stream",
     "text": [
      "100%|██████████| 19/19 [00:41<00:00,  2.20s/it]\n"
     ]
    },
    {
     "name": "stdout",
     "output_type": "stream",
     "text": [
      "Validation Error: \n",
      " Avg loss: 0.003474 \n",
      "\n",
      "Learning rate (antes): 1.0000000000000028e-05\n",
      "Learning rate (depois): 1.0000000000000028e-05\n",
      "\n",
      "epoch 92\n",
      "-------------------------------\n",
      "Training on 159000 samples...\n",
      "Batch size: 2867\n",
      "Number of batches: 56\n"
     ]
    },
    {
     "name": "stderr",
     "output_type": "stream",
     "text": [
      "100%|██████████| 56/56 [02:49<00:00,  3.02s/it]\n"
     ]
    },
    {
     "name": "stdout",
     "output_type": "stream",
     "text": [
      "Training Error: \n",
      " Avg loss: 0.003476 \n",
      "\n"
     ]
    },
    {
     "name": "stderr",
     "output_type": "stream",
     "text": [
      "100%|██████████| 19/19 [00:42<00:00,  2.25s/it]\n"
     ]
    },
    {
     "name": "stdout",
     "output_type": "stream",
     "text": [
      "Validation Error: \n",
      " Avg loss: 0.003474 \n",
      "\n",
      "Learning rate (antes): 1.0000000000000028e-05\n",
      "Learning rate (depois): 1.0000000000000028e-05\n",
      "\n",
      "epoch 93\n",
      "-------------------------------\n",
      "Training on 159000 samples...\n",
      "Batch size: 2867\n",
      "Number of batches: 56\n"
     ]
    },
    {
     "name": "stderr",
     "output_type": "stream",
     "text": [
      "100%|██████████| 56/56 [03:02<00:00,  3.26s/it]\n"
     ]
    },
    {
     "name": "stdout",
     "output_type": "stream",
     "text": [
      "Training Error: \n",
      " Avg loss: 0.003476 \n",
      "\n"
     ]
    },
    {
     "name": "stderr",
     "output_type": "stream",
     "text": [
      "100%|██████████| 19/19 [00:39<00:00,  2.08s/it]\n"
     ]
    },
    {
     "name": "stdout",
     "output_type": "stream",
     "text": [
      "Validation Error: \n",
      " Avg loss: 0.003473 \n",
      "\n",
      "Learning rate (antes): 1.0000000000000028e-05\n",
      "Learning rate (depois): 1.0000000000000028e-05\n",
      "\n",
      "epoch 94\n",
      "-------------------------------\n",
      "Training on 159000 samples...\n",
      "Batch size: 2867\n",
      "Number of batches: 56\n"
     ]
    },
    {
     "name": "stderr",
     "output_type": "stream",
     "text": [
      "100%|██████████| 56/56 [02:46<00:00,  2.98s/it]\n"
     ]
    },
    {
     "name": "stdout",
     "output_type": "stream",
     "text": [
      "Training Error: \n",
      " Avg loss: 0.003479 \n",
      "\n"
     ]
    },
    {
     "name": "stderr",
     "output_type": "stream",
     "text": [
      "100%|██████████| 19/19 [00:37<00:00,  1.96s/it]\n"
     ]
    },
    {
     "name": "stdout",
     "output_type": "stream",
     "text": [
      "Validation Error: \n",
      " Avg loss: 0.003473 \n",
      "\n",
      "Learning rate (antes): 1.0000000000000028e-05\n",
      "Learning rate (depois): 1.0000000000000028e-05\n",
      "\n",
      "epoch 95\n",
      "-------------------------------\n",
      "Training on 159000 samples...\n",
      "Batch size: 2867\n",
      "Number of batches: 56\n"
     ]
    },
    {
     "name": "stderr",
     "output_type": "stream",
     "text": [
      "100%|██████████| 56/56 [02:50<00:00,  3.05s/it]\n"
     ]
    },
    {
     "name": "stdout",
     "output_type": "stream",
     "text": [
      "Training Error: \n",
      " Avg loss: 0.003477 \n",
      "\n"
     ]
    },
    {
     "name": "stderr",
     "output_type": "stream",
     "text": [
      "100%|██████████| 19/19 [00:40<00:00,  2.13s/it]\n"
     ]
    },
    {
     "name": "stdout",
     "output_type": "stream",
     "text": [
      "Validation Error: \n",
      " Avg loss: 0.003472 \n",
      "\n",
      "Learning rate (antes): 1.0000000000000028e-05\n",
      "Learning rate (depois): 1.0000000000000028e-05\n",
      "\n",
      "epoch 96\n",
      "-------------------------------\n",
      "Training on 159000 samples...\n",
      "Batch size: 2867\n",
      "Number of batches: 56\n"
     ]
    },
    {
     "name": "stderr",
     "output_type": "stream",
     "text": [
      "100%|██████████| 56/56 [03:08<00:00,  3.36s/it]\n"
     ]
    },
    {
     "name": "stdout",
     "output_type": "stream",
     "text": [
      "Training Error: \n",
      " Avg loss: 0.003477 \n",
      "\n"
     ]
    },
    {
     "name": "stderr",
     "output_type": "stream",
     "text": [
      "100%|██████████| 19/19 [00:43<00:00,  2.29s/it]\n"
     ]
    },
    {
     "name": "stdout",
     "output_type": "stream",
     "text": [
      "Validation Error: \n",
      " Avg loss: 0.003472 \n",
      "\n",
      "Learning rate (antes): 1.0000000000000028e-05\n",
      "Learning rate (depois): 1.0000000000000028e-05\n",
      "\n",
      "epoch 97\n",
      "-------------------------------\n",
      "Training on 159000 samples...\n",
      "Batch size: 2867\n",
      "Number of batches: 56\n"
     ]
    },
    {
     "name": "stderr",
     "output_type": "stream",
     "text": [
      "100%|██████████| 56/56 [02:51<00:00,  3.06s/it]\n"
     ]
    },
    {
     "name": "stdout",
     "output_type": "stream",
     "text": [
      "Training Error: \n",
      " Avg loss: 0.003475 \n",
      "\n"
     ]
    },
    {
     "name": "stderr",
     "output_type": "stream",
     "text": [
      "100%|██████████| 19/19 [00:40<00:00,  2.12s/it]\n"
     ]
    },
    {
     "name": "stdout",
     "output_type": "stream",
     "text": [
      "Validation Error: \n",
      " Avg loss: 0.003472 \n",
      "\n",
      "Learning rate (antes): 1.0000000000000028e-05\n",
      "Learning rate (depois): 1.0000000000000028e-05\n",
      "\n",
      "epoch 98\n",
      "-------------------------------\n",
      "Training on 159000 samples...\n",
      "Batch size: 2867\n",
      "Number of batches: 56\n"
     ]
    },
    {
     "name": "stderr",
     "output_type": "stream",
     "text": [
      "100%|██████████| 56/56 [02:49<00:00,  3.02s/it]\n"
     ]
    },
    {
     "name": "stdout",
     "output_type": "stream",
     "text": [
      "Training Error: \n",
      " Avg loss: 0.003473 \n",
      "\n"
     ]
    },
    {
     "name": "stderr",
     "output_type": "stream",
     "text": [
      "100%|██████████| 19/19 [00:39<00:00,  2.06s/it]\n"
     ]
    },
    {
     "name": "stdout",
     "output_type": "stream",
     "text": [
      "Validation Error: \n",
      " Avg loss: 0.003471 \n",
      "\n",
      "Learning rate (antes): 1.0000000000000028e-05\n",
      "Learning rate (depois): 1.0000000000000028e-05\n",
      "\n",
      "epoch 99\n",
      "-------------------------------\n",
      "Training on 159000 samples...\n",
      "Batch size: 2867\n",
      "Number of batches: 56\n"
     ]
    },
    {
     "name": "stderr",
     "output_type": "stream",
     "text": [
      "100%|██████████| 56/56 [02:48<00:00,  3.01s/it]\n"
     ]
    },
    {
     "name": "stdout",
     "output_type": "stream",
     "text": [
      "Training Error: \n",
      " Avg loss: 0.003474 \n",
      "\n"
     ]
    },
    {
     "name": "stderr",
     "output_type": "stream",
     "text": [
      "100%|██████████| 19/19 [00:40<00:00,  2.13s/it]"
     ]
    },
    {
     "name": "stdout",
     "output_type": "stream",
     "text": [
      "Validation Error: \n",
      " Avg loss: 0.003471 \n",
      "\n",
      "Learning rate (antes): 1.0000000000000028e-05\n",
      "Learning rate (depois): 1.0000000000000028e-05\n",
      "CPU times: total: 5h 40min 4s\n",
      "Wall time: 7h 39min 11s\n"
     ]
    },
    {
     "name": "stderr",
     "output_type": "stream",
     "text": [
      "\n"
     ]
    }
   ],
   "source": [
    "%%time\n",
    "run_srcnn.train(\n",
    "    model=model_f2_1,\n",
    "    train_dataloader=train_dataloader,\n",
    "    validation_dataloader=validation_dataloader,\n",
    "    optimizer=optimizer_f2_1,\n",
    "    epochs=100,\n",
    "    scheduler=scheduler_f2_1,\n",
    "    loss_fn=nn.MSELoss(),\n",
    ")"
   ]
  },
  {
   "cell_type": "code",
   "execution_count": 8,
   "metadata": {},
   "outputs": [
    {
     "data": {
      "text/html": [
       "<div>\n",
       "<style scoped>\n",
       "    .dataframe tbody tr th:only-of-type {\n",
       "        vertical-align: middle;\n",
       "    }\n",
       "\n",
       "    .dataframe tbody tr th {\n",
       "        vertical-align: top;\n",
       "    }\n",
       "\n",
       "    .dataframe thead th {\n",
       "        text-align: right;\n",
       "    }\n",
       "</style>\n",
       "<table border=\"1\" class=\"dataframe\">\n",
       "  <thead>\n",
       "    <tr style=\"text-align: right;\">\n",
       "      <th></th>\n",
       "      <th>epoch</th>\n",
       "      <th>time</th>\n",
       "      <th>lr</th>\n",
       "      <th>train_loss</th>\n",
       "      <th>validation_loss</th>\n",
       "    </tr>\n",
       "  </thead>\n",
       "  <tbody>\n",
       "    <tr>\n",
       "      <th>95</th>\n",
       "      <td>95</td>\n",
       "      <td>273.364173</td>\n",
       "      <td>0.00001</td>\n",
       "      <td>0.003477</td>\n",
       "      <td>0.003472</td>\n",
       "    </tr>\n",
       "    <tr>\n",
       "      <th>96</th>\n",
       "      <td>96</td>\n",
       "      <td>291.091623</td>\n",
       "      <td>0.00001</td>\n",
       "      <td>0.003477</td>\n",
       "      <td>0.003472</td>\n",
       "    </tr>\n",
       "    <tr>\n",
       "      <th>97</th>\n",
       "      <td>97</td>\n",
       "      <td>270.311664</td>\n",
       "      <td>0.00001</td>\n",
       "      <td>0.003475</td>\n",
       "      <td>0.003472</td>\n",
       "    </tr>\n",
       "    <tr>\n",
       "      <th>98</th>\n",
       "      <td>98</td>\n",
       "      <td>267.328737</td>\n",
       "      <td>0.00001</td>\n",
       "      <td>0.003473</td>\n",
       "      <td>0.003471</td>\n",
       "    </tr>\n",
       "    <tr>\n",
       "      <th>99</th>\n",
       "      <td>99</td>\n",
       "      <td>270.157735</td>\n",
       "      <td>0.00001</td>\n",
       "      <td>0.003474</td>\n",
       "      <td>0.003471</td>\n",
       "    </tr>\n",
       "  </tbody>\n",
       "</table>\n",
       "</div>"
      ],
      "text/plain": [
       "    epoch        time       lr  train_loss  validation_loss\n",
       "95     95  273.364173  0.00001    0.003477         0.003472\n",
       "96     96  291.091623  0.00001    0.003477         0.003472\n",
       "97     97  270.311664  0.00001    0.003475         0.003472\n",
       "98     98  267.328737  0.00001    0.003473         0.003471\n",
       "99     99  270.157735  0.00001    0.003474         0.003471"
      ]
     },
     "execution_count": 8,
     "metadata": {},
     "output_type": "execute_result"
    }
   ],
   "source": [
    "df_f2_1 = run_srcnn.get_model_df()\n",
    "df_f2_1.tail()"
   ]
  },
  {
   "cell_type": "code",
   "execution_count": 9,
   "metadata": {},
   "outputs": [],
   "source": [
    "run_srcnn.save_model_df('./results/srcnn/dataframes/model_f2_1_unfiltered.csv')\n",
    "run_srcnn.save_model_weights(model_f2_1, './results/srcnn/dataframes/model_f2_1_unfiltered.pth')"
   ]
  },
  {
   "cell_type": "code",
   "execution_count": 10,
   "metadata": {
    "scrolled": true
   },
   "outputs": [
    {
     "name": "stdout",
     "output_type": "stream",
     "text": [
      "\n",
      "epoch 0\n",
      "-------------------------------\n",
      "Training on 159000 samples...\n",
      "Batch size: 2867\n",
      "Number of batches: 56\n"
     ]
    },
    {
     "name": "stderr",
     "output_type": "stream",
     "text": [
      "  0%|          | 0/56 [00:00<?, ?it/s]C:\\Users\\Pedro\\anaconda3\\lib\\site-packages\\torchvision\\transforms\\functional.py:1603: UserWarning: The default value of the antialias parameter of all the resizing transforms (Resize(), RandomResizedCrop(), etc.) will change from None to True in v0.17, in order to be consistent across the PIL and Tensor backends. To suppress this warning, directly pass antialias=True (recommended, future default), antialias=None (current default, which means False for Tensors and True for PIL), or antialias=False (only works on Tensors - PIL will still use antialiasing). This also applies if you are using the inference transforms from the models weights: update the call to weights.transforms(antialias=True).\n",
      "  warnings.warn(\n",
      "100%|██████████| 56/56 [03:55<00:00,  4.20s/it]\n"
     ]
    },
    {
     "name": "stdout",
     "output_type": "stream",
     "text": [
      "Training Error: \n",
      " Avg loss: 0.025352 \n",
      "\n"
     ]
    },
    {
     "name": "stderr",
     "output_type": "stream",
     "text": [
      "100%|██████████| 19/19 [00:45<00:00,  2.41s/it]\n"
     ]
    },
    {
     "name": "stdout",
     "output_type": "stream",
     "text": [
      "Validation Error: \n",
      " Avg loss: 0.006658 \n",
      "\n",
      "Learning rate (antes): 0.001\n",
      "Learning rate (depois): 0.0009835\n",
      "\n",
      "epoch 1\n",
      "-------------------------------\n",
      "Training on 159000 samples...\n",
      "Batch size: 2867\n",
      "Number of batches: 56\n"
     ]
    },
    {
     "name": "stderr",
     "output_type": "stream",
     "text": [
      "100%|██████████| 56/56 [04:12<00:00,  4.51s/it]\n"
     ]
    },
    {
     "name": "stdout",
     "output_type": "stream",
     "text": [
      "Training Error: \n",
      " Avg loss: 0.005470 \n",
      "\n"
     ]
    },
    {
     "name": "stderr",
     "output_type": "stream",
     "text": [
      "100%|██████████| 19/19 [00:44<00:00,  2.36s/it]\n"
     ]
    },
    {
     "name": "stdout",
     "output_type": "stream",
     "text": [
      "Validation Error: \n",
      " Avg loss: 0.004826 \n",
      "\n",
      "Learning rate (antes): 0.0009835\n",
      "Learning rate (depois): 0.000967\n",
      "\n",
      "epoch 2\n",
      "-------------------------------\n",
      "Training on 159000 samples...\n",
      "Batch size: 2867\n",
      "Number of batches: 56\n"
     ]
    },
    {
     "name": "stderr",
     "output_type": "stream",
     "text": [
      "100%|██████████| 56/56 [03:53<00:00,  4.18s/it]\n"
     ]
    },
    {
     "name": "stdout",
     "output_type": "stream",
     "text": [
      "Training Error: \n",
      " Avg loss: 0.004449 \n",
      "\n"
     ]
    },
    {
     "name": "stderr",
     "output_type": "stream",
     "text": [
      "100%|██████████| 19/19 [00:44<00:00,  2.33s/it]\n"
     ]
    },
    {
     "name": "stdout",
     "output_type": "stream",
     "text": [
      "Validation Error: \n",
      " Avg loss: 0.004180 \n",
      "\n",
      "Learning rate (antes): 0.000967\n",
      "Learning rate (depois): 0.0009505\n",
      "\n",
      "epoch 3\n",
      "-------------------------------\n",
      "Training on 159000 samples...\n",
      "Batch size: 2867\n",
      "Number of batches: 56\n"
     ]
    },
    {
     "name": "stderr",
     "output_type": "stream",
     "text": [
      "100%|██████████| 56/56 [03:51<00:00,  4.13s/it]\n"
     ]
    },
    {
     "name": "stdout",
     "output_type": "stream",
     "text": [
      "Training Error: \n",
      " Avg loss: 0.004069 \n",
      "\n"
     ]
    },
    {
     "name": "stderr",
     "output_type": "stream",
     "text": [
      "100%|██████████| 19/19 [00:44<00:00,  2.35s/it]\n"
     ]
    },
    {
     "name": "stdout",
     "output_type": "stream",
     "text": [
      "Validation Error: \n",
      " Avg loss: 0.003922 \n",
      "\n",
      "Learning rate (antes): 0.0009505\n",
      "Learning rate (depois): 0.0009339999999999999\n",
      "\n",
      "epoch 4\n",
      "-------------------------------\n",
      "Training on 159000 samples...\n",
      "Batch size: 2867\n",
      "Number of batches: 56\n"
     ]
    },
    {
     "name": "stderr",
     "output_type": "stream",
     "text": [
      "100%|██████████| 56/56 [03:49<00:00,  4.09s/it]\n"
     ]
    },
    {
     "name": "stdout",
     "output_type": "stream",
     "text": [
      "Training Error: \n",
      " Avg loss: 0.003952 \n",
      "\n"
     ]
    },
    {
     "name": "stderr",
     "output_type": "stream",
     "text": [
      "100%|██████████| 19/19 [00:46<00:00,  2.43s/it]\n"
     ]
    },
    {
     "name": "stdout",
     "output_type": "stream",
     "text": [
      "Validation Error: \n",
      " Avg loss: 0.003910 \n",
      "\n",
      "Learning rate (antes): 0.0009339999999999999\n",
      "Learning rate (depois): 0.0009174999999999999\n",
      "\n",
      "epoch 5\n",
      "-------------------------------\n",
      "Training on 159000 samples...\n",
      "Batch size: 2867\n",
      "Number of batches: 56\n"
     ]
    },
    {
     "name": "stderr",
     "output_type": "stream",
     "text": [
      "100%|██████████| 56/56 [03:51<00:00,  4.13s/it]\n"
     ]
    },
    {
     "name": "stdout",
     "output_type": "stream",
     "text": [
      "Training Error: \n",
      " Avg loss: 0.003852 \n",
      "\n"
     ]
    },
    {
     "name": "stderr",
     "output_type": "stream",
     "text": [
      "100%|██████████| 19/19 [00:45<00:00,  2.41s/it]\n"
     ]
    },
    {
     "name": "stdout",
     "output_type": "stream",
     "text": [
      "Validation Error: \n",
      " Avg loss: 0.003808 \n",
      "\n",
      "Learning rate (antes): 0.0009174999999999999\n",
      "Learning rate (depois): 0.0009009999999999999\n",
      "\n",
      "epoch 6\n",
      "-------------------------------\n",
      "Training on 159000 samples...\n",
      "Batch size: 2867\n",
      "Number of batches: 56\n"
     ]
    },
    {
     "name": "stderr",
     "output_type": "stream",
     "text": [
      "100%|██████████| 56/56 [04:14<00:00,  4.54s/it]\n"
     ]
    },
    {
     "name": "stdout",
     "output_type": "stream",
     "text": [
      "Training Error: \n",
      " Avg loss: 0.003696 \n",
      "\n"
     ]
    },
    {
     "name": "stderr",
     "output_type": "stream",
     "text": [
      "100%|██████████| 19/19 [00:42<00:00,  2.23s/it]\n"
     ]
    },
    {
     "name": "stdout",
     "output_type": "stream",
     "text": [
      "Validation Error: \n",
      " Avg loss: 0.003662 \n",
      "\n",
      "Learning rate (antes): 0.0009009999999999999\n",
      "Learning rate (depois): 0.0008844999999999999\n",
      "\n",
      "epoch 7\n",
      "-------------------------------\n",
      "Training on 159000 samples...\n",
      "Batch size: 2867\n",
      "Number of batches: 56\n"
     ]
    },
    {
     "name": "stderr",
     "output_type": "stream",
     "text": [
      "100%|██████████| 56/56 [04:18<00:00,  4.61s/it]\n"
     ]
    },
    {
     "name": "stdout",
     "output_type": "stream",
     "text": [
      "Training Error: \n",
      " Avg loss: 0.003673 \n",
      "\n"
     ]
    },
    {
     "name": "stderr",
     "output_type": "stream",
     "text": [
      "100%|██████████| 19/19 [00:46<00:00,  2.44s/it]\n"
     ]
    },
    {
     "name": "stdout",
     "output_type": "stream",
     "text": [
      "Validation Error: \n",
      " Avg loss: 0.003666 \n",
      "\n",
      "Learning rate (antes): 0.0008844999999999999\n",
      "Learning rate (depois): 0.0008679999999999998\n",
      "\n",
      "epoch 8\n",
      "-------------------------------\n",
      "Training on 159000 samples...\n",
      "Batch size: 2867\n",
      "Number of batches: 56\n"
     ]
    },
    {
     "name": "stderr",
     "output_type": "stream",
     "text": [
      "100%|██████████| 56/56 [04:03<00:00,  4.35s/it]\n"
     ]
    },
    {
     "name": "stdout",
     "output_type": "stream",
     "text": [
      "Training Error: \n",
      " Avg loss: 0.003688 \n",
      "\n"
     ]
    },
    {
     "name": "stderr",
     "output_type": "stream",
     "text": [
      "100%|██████████| 19/19 [00:46<00:00,  2.47s/it]\n"
     ]
    },
    {
     "name": "stdout",
     "output_type": "stream",
     "text": [
      "Validation Error: \n",
      " Avg loss: 0.003599 \n",
      "\n",
      "Learning rate (antes): 0.0008679999999999998\n",
      "Learning rate (depois): 0.0008514999999999998\n",
      "\n",
      "epoch 9\n",
      "-------------------------------\n",
      "Training on 159000 samples...\n",
      "Batch size: 2867\n",
      "Number of batches: 56\n"
     ]
    },
    {
     "name": "stderr",
     "output_type": "stream",
     "text": [
      "100%|██████████| 56/56 [04:00<00:00,  4.29s/it]\n"
     ]
    },
    {
     "name": "stdout",
     "output_type": "stream",
     "text": [
      "Training Error: \n",
      " Avg loss: 0.003571 \n",
      "\n"
     ]
    },
    {
     "name": "stderr",
     "output_type": "stream",
     "text": [
      "100%|██████████| 19/19 [00:46<00:00,  2.46s/it]\n"
     ]
    },
    {
     "name": "stdout",
     "output_type": "stream",
     "text": [
      "Validation Error: \n",
      " Avg loss: 0.003715 \n",
      "\n",
      "Learning rate (antes): 0.0008514999999999998\n",
      "Learning rate (depois): 0.0008349999999999998\n",
      "\n",
      "epoch 10\n",
      "-------------------------------\n",
      "Training on 159000 samples...\n",
      "Batch size: 2867\n",
      "Number of batches: 56\n"
     ]
    },
    {
     "name": "stderr",
     "output_type": "stream",
     "text": [
      "100%|██████████| 56/56 [04:05<00:00,  4.39s/it]\n"
     ]
    },
    {
     "name": "stdout",
     "output_type": "stream",
     "text": [
      "Training Error: \n",
      " Avg loss: 0.003547 \n",
      "\n"
     ]
    },
    {
     "name": "stderr",
     "output_type": "stream",
     "text": [
      "100%|██████████| 19/19 [00:44<00:00,  2.37s/it]\n"
     ]
    },
    {
     "name": "stdout",
     "output_type": "stream",
     "text": [
      "Validation Error: \n",
      " Avg loss: 0.003983 \n",
      "\n",
      "Learning rate (antes): 0.0008349999999999998\n",
      "Learning rate (depois): 0.0008184999999999998\n",
      "\n",
      "epoch 11\n",
      "-------------------------------\n",
      "Training on 159000 samples...\n",
      "Batch size: 2867\n",
      "Number of batches: 56\n"
     ]
    },
    {
     "name": "stderr",
     "output_type": "stream",
     "text": [
      "100%|██████████| 56/56 [03:50<00:00,  4.11s/it]\n"
     ]
    },
    {
     "name": "stdout",
     "output_type": "stream",
     "text": [
      "Training Error: \n",
      " Avg loss: 0.003594 \n",
      "\n"
     ]
    },
    {
     "name": "stderr",
     "output_type": "stream",
     "text": [
      "100%|██████████| 19/19 [00:43<00:00,  2.31s/it]\n"
     ]
    },
    {
     "name": "stdout",
     "output_type": "stream",
     "text": [
      "Validation Error: \n",
      " Avg loss: 0.003514 \n",
      "\n",
      "Learning rate (antes): 0.0008184999999999998\n",
      "Learning rate (depois): 0.0008019999999999998\n",
      "\n",
      "epoch 12\n",
      "-------------------------------\n",
      "Training on 159000 samples...\n",
      "Batch size: 2867\n",
      "Number of batches: 56\n"
     ]
    },
    {
     "name": "stderr",
     "output_type": "stream",
     "text": [
      "100%|██████████| 56/56 [03:52<00:00,  4.15s/it]\n"
     ]
    },
    {
     "name": "stdout",
     "output_type": "stream",
     "text": [
      "Training Error: \n",
      " Avg loss: 0.003518 \n",
      "\n"
     ]
    },
    {
     "name": "stderr",
     "output_type": "stream",
     "text": [
      "100%|██████████| 19/19 [00:44<00:00,  2.33s/it]\n"
     ]
    },
    {
     "name": "stdout",
     "output_type": "stream",
     "text": [
      "Validation Error: \n",
      " Avg loss: 0.003543 \n",
      "\n",
      "Learning rate (antes): 0.0008019999999999998\n",
      "Learning rate (depois): 0.0007854999999999997\n",
      "\n",
      "epoch 13\n",
      "-------------------------------\n",
      "Training on 159000 samples...\n",
      "Batch size: 2867\n",
      "Number of batches: 56\n"
     ]
    },
    {
     "name": "stderr",
     "output_type": "stream",
     "text": [
      "100%|██████████| 56/56 [03:51<00:00,  4.14s/it]\n"
     ]
    },
    {
     "name": "stdout",
     "output_type": "stream",
     "text": [
      "Training Error: \n",
      " Avg loss: 0.003534 \n",
      "\n"
     ]
    },
    {
     "name": "stderr",
     "output_type": "stream",
     "text": [
      "100%|██████████| 19/19 [00:45<00:00,  2.37s/it]\n"
     ]
    },
    {
     "name": "stdout",
     "output_type": "stream",
     "text": [
      "Validation Error: \n",
      " Avg loss: 0.003447 \n",
      "\n",
      "Learning rate (antes): 0.0007854999999999997\n",
      "Learning rate (depois): 0.0007689999999999997\n",
      "\n",
      "epoch 14\n",
      "-------------------------------\n",
      "Training on 159000 samples...\n",
      "Batch size: 2867\n",
      "Number of batches: 56\n"
     ]
    },
    {
     "name": "stderr",
     "output_type": "stream",
     "text": [
      "100%|██████████| 56/56 [03:50<00:00,  4.12s/it]\n"
     ]
    },
    {
     "name": "stdout",
     "output_type": "stream",
     "text": [
      "Training Error: \n",
      " Avg loss: 0.003443 \n",
      "\n"
     ]
    },
    {
     "name": "stderr",
     "output_type": "stream",
     "text": [
      "100%|██████████| 19/19 [00:45<00:00,  2.37s/it]\n"
     ]
    },
    {
     "name": "stdout",
     "output_type": "stream",
     "text": [
      "Validation Error: \n",
      " Avg loss: 0.003441 \n",
      "\n",
      "Learning rate (antes): 0.0007689999999999997\n",
      "Learning rate (depois): 0.0007524999999999997\n",
      "\n",
      "epoch 15\n",
      "-------------------------------\n",
      "Training on 159000 samples...\n",
      "Batch size: 2867\n",
      "Number of batches: 56\n"
     ]
    },
    {
     "name": "stderr",
     "output_type": "stream",
     "text": [
      "100%|██████████| 56/56 [04:03<00:00,  4.35s/it]\n"
     ]
    },
    {
     "name": "stdout",
     "output_type": "stream",
     "text": [
      "Training Error: \n",
      " Avg loss: 0.003480 \n",
      "\n"
     ]
    },
    {
     "name": "stderr",
     "output_type": "stream",
     "text": [
      "100%|██████████| 19/19 [00:45<00:00,  2.38s/it]\n"
     ]
    },
    {
     "name": "stdout",
     "output_type": "stream",
     "text": [
      "Validation Error: \n",
      " Avg loss: 0.003694 \n",
      "\n",
      "Learning rate (antes): 0.0007524999999999997\n",
      "Learning rate (depois): 0.0007359999999999997\n",
      "\n",
      "epoch 16\n",
      "-------------------------------\n",
      "Training on 159000 samples...\n",
      "Batch size: 2867\n",
      "Number of batches: 56\n"
     ]
    },
    {
     "name": "stderr",
     "output_type": "stream",
     "text": [
      "100%|██████████| 56/56 [03:58<00:00,  4.27s/it]\n"
     ]
    },
    {
     "name": "stdout",
     "output_type": "stream",
     "text": [
      "Training Error: \n",
      " Avg loss: 0.003481 \n",
      "\n"
     ]
    },
    {
     "name": "stderr",
     "output_type": "stream",
     "text": [
      "100%|██████████| 19/19 [00:47<00:00,  2.52s/it]\n"
     ]
    },
    {
     "name": "stdout",
     "output_type": "stream",
     "text": [
      "Validation Error: \n",
      " Avg loss: 0.003484 \n",
      "\n",
      "Learning rate (antes): 0.0007359999999999997\n",
      "Learning rate (depois): 0.0007194999999999997\n",
      "\n",
      "epoch 17\n",
      "-------------------------------\n",
      "Training on 159000 samples...\n",
      "Batch size: 2867\n",
      "Number of batches: 56\n"
     ]
    },
    {
     "name": "stderr",
     "output_type": "stream",
     "text": [
      "100%|██████████| 56/56 [03:57<00:00,  4.25s/it]\n"
     ]
    },
    {
     "name": "stdout",
     "output_type": "stream",
     "text": [
      "Training Error: \n",
      " Avg loss: 0.003505 \n",
      "\n"
     ]
    },
    {
     "name": "stderr",
     "output_type": "stream",
     "text": [
      "100%|██████████| 19/19 [00:48<00:00,  2.55s/it]\n"
     ]
    },
    {
     "name": "stdout",
     "output_type": "stream",
     "text": [
      "Validation Error: \n",
      " Avg loss: 0.003446 \n",
      "\n",
      "Learning rate (antes): 0.0007194999999999997\n",
      "Learning rate (depois): 0.0007029999999999996\n",
      "\n",
      "epoch 18\n",
      "-------------------------------\n",
      "Training on 159000 samples...\n",
      "Batch size: 2867\n",
      "Number of batches: 56\n"
     ]
    },
    {
     "name": "stderr",
     "output_type": "stream",
     "text": [
      "100%|██████████| 56/56 [04:01<00:00,  4.31s/it]\n"
     ]
    },
    {
     "name": "stdout",
     "output_type": "stream",
     "text": [
      "Training Error: \n",
      " Avg loss: 0.003416 \n",
      "\n"
     ]
    },
    {
     "name": "stderr",
     "output_type": "stream",
     "text": [
      "100%|██████████| 19/19 [00:46<00:00,  2.43s/it]\n"
     ]
    },
    {
     "name": "stdout",
     "output_type": "stream",
     "text": [
      "Validation Error: \n",
      " Avg loss: 0.003413 \n",
      "\n",
      "Learning rate (antes): 0.0007029999999999996\n",
      "Learning rate (depois): 0.0006864999999999997\n",
      "\n",
      "epoch 19\n",
      "-------------------------------\n",
      "Training on 159000 samples...\n",
      "Batch size: 2867\n",
      "Number of batches: 56\n"
     ]
    },
    {
     "name": "stderr",
     "output_type": "stream",
     "text": [
      "100%|██████████| 56/56 [03:49<00:00,  4.11s/it]\n"
     ]
    },
    {
     "name": "stdout",
     "output_type": "stream",
     "text": [
      "Training Error: \n",
      " Avg loss: 0.003405 \n",
      "\n"
     ]
    },
    {
     "name": "stderr",
     "output_type": "stream",
     "text": [
      "100%|██████████| 19/19 [00:45<00:00,  2.39s/it]\n"
     ]
    },
    {
     "name": "stdout",
     "output_type": "stream",
     "text": [
      "Validation Error: \n",
      " Avg loss: 0.003396 \n",
      "\n",
      "Learning rate (antes): 0.0006864999999999997\n",
      "Learning rate (depois): 0.0006699999999999997\n",
      "\n",
      "epoch 20\n",
      "-------------------------------\n",
      "Training on 159000 samples...\n",
      "Batch size: 2867\n",
      "Number of batches: 56\n"
     ]
    },
    {
     "name": "stderr",
     "output_type": "stream",
     "text": [
      "100%|██████████| 56/56 [03:54<00:00,  4.19s/it]\n"
     ]
    },
    {
     "name": "stdout",
     "output_type": "stream",
     "text": [
      "Training Error: \n",
      " Avg loss: 0.003386 \n",
      "\n"
     ]
    },
    {
     "name": "stderr",
     "output_type": "stream",
     "text": [
      "100%|██████████| 19/19 [00:47<00:00,  2.48s/it]\n"
     ]
    },
    {
     "name": "stdout",
     "output_type": "stream",
     "text": [
      "Validation Error: \n",
      " Avg loss: 0.003707 \n",
      "\n",
      "Learning rate (antes): 0.0006699999999999997\n",
      "Learning rate (depois): 0.0006534999999999998\n",
      "\n",
      "epoch 21\n",
      "-------------------------------\n",
      "Training on 159000 samples...\n",
      "Batch size: 2867\n",
      "Number of batches: 56\n"
     ]
    },
    {
     "name": "stderr",
     "output_type": "stream",
     "text": [
      "100%|██████████| 56/56 [03:49<00:00,  4.11s/it]\n"
     ]
    },
    {
     "name": "stdout",
     "output_type": "stream",
     "text": [
      "Training Error: \n",
      " Avg loss: 0.003487 \n",
      "\n"
     ]
    },
    {
     "name": "stderr",
     "output_type": "stream",
     "text": [
      "100%|██████████| 19/19 [00:46<00:00,  2.44s/it]\n"
     ]
    },
    {
     "name": "stdout",
     "output_type": "stream",
     "text": [
      "Validation Error: \n",
      " Avg loss: 0.003366 \n",
      "\n",
      "Learning rate (antes): 0.0006534999999999998\n",
      "Learning rate (depois): 0.0006369999999999998\n",
      "\n",
      "epoch 22\n",
      "-------------------------------\n",
      "Training on 159000 samples...\n",
      "Batch size: 2867\n",
      "Number of batches: 56\n"
     ]
    },
    {
     "name": "stderr",
     "output_type": "stream",
     "text": [
      "100%|██████████| 56/56 [03:52<00:00,  4.16s/it]\n"
     ]
    },
    {
     "name": "stdout",
     "output_type": "stream",
     "text": [
      "Training Error: \n",
      " Avg loss: 0.003423 \n",
      "\n"
     ]
    },
    {
     "name": "stderr",
     "output_type": "stream",
     "text": [
      "100%|██████████| 19/19 [00:45<00:00,  2.40s/it]\n"
     ]
    },
    {
     "name": "stdout",
     "output_type": "stream",
     "text": [
      "Validation Error: \n",
      " Avg loss: 0.003529 \n",
      "\n",
      "Learning rate (antes): 0.0006369999999999998\n",
      "Learning rate (depois): 0.0006204999999999997\n",
      "\n",
      "epoch 23\n",
      "-------------------------------\n",
      "Training on 159000 samples...\n",
      "Batch size: 2867\n",
      "Number of batches: 56\n"
     ]
    },
    {
     "name": "stderr",
     "output_type": "stream",
     "text": [
      "100%|██████████| 56/56 [03:50<00:00,  4.12s/it]\n"
     ]
    },
    {
     "name": "stdout",
     "output_type": "stream",
     "text": [
      "Training Error: \n",
      " Avg loss: 0.003401 \n",
      "\n"
     ]
    },
    {
     "name": "stderr",
     "output_type": "stream",
     "text": [
      "100%|██████████| 19/19 [00:43<00:00,  2.31s/it]\n"
     ]
    },
    {
     "name": "stdout",
     "output_type": "stream",
     "text": [
      "Validation Error: \n",
      " Avg loss: 0.003399 \n",
      "\n",
      "Learning rate (antes): 0.0006204999999999997\n",
      "Learning rate (depois): 0.0006039999999999997\n",
      "\n",
      "epoch 24\n",
      "-------------------------------\n",
      "Training on 159000 samples...\n",
      "Batch size: 2867\n",
      "Number of batches: 56\n"
     ]
    },
    {
     "name": "stderr",
     "output_type": "stream",
     "text": [
      "100%|██████████| 56/56 [03:52<00:00,  4.14s/it]\n"
     ]
    },
    {
     "name": "stdout",
     "output_type": "stream",
     "text": [
      "Training Error: \n",
      " Avg loss: 0.003357 \n",
      "\n"
     ]
    },
    {
     "name": "stderr",
     "output_type": "stream",
     "text": [
      "100%|██████████| 19/19 [00:45<00:00,  2.38s/it]\n"
     ]
    },
    {
     "name": "stdout",
     "output_type": "stream",
     "text": [
      "Validation Error: \n",
      " Avg loss: 0.003354 \n",
      "\n",
      "Learning rate (antes): 0.0006039999999999997\n",
      "Learning rate (depois): 0.0005874999999999997\n",
      "\n",
      "epoch 25\n",
      "-------------------------------\n",
      "Training on 159000 samples...\n",
      "Batch size: 2867\n",
      "Number of batches: 56\n"
     ]
    },
    {
     "name": "stderr",
     "output_type": "stream",
     "text": [
      "100%|██████████| 56/56 [03:52<00:00,  4.15s/it]\n"
     ]
    },
    {
     "name": "stdout",
     "output_type": "stream",
     "text": [
      "Training Error: \n",
      " Avg loss: 0.003373 \n",
      "\n"
     ]
    },
    {
     "name": "stderr",
     "output_type": "stream",
     "text": [
      "100%|██████████| 19/19 [00:46<00:00,  2.43s/it]\n"
     ]
    },
    {
     "name": "stdout",
     "output_type": "stream",
     "text": [
      "Validation Error: \n",
      " Avg loss: 0.003347 \n",
      "\n",
      "Learning rate (antes): 0.0005874999999999997\n",
      "Learning rate (depois): 0.0005709999999999998\n",
      "\n",
      "epoch 26\n",
      "-------------------------------\n",
      "Training on 159000 samples...\n",
      "Batch size: 2867\n",
      "Number of batches: 56\n"
     ]
    },
    {
     "name": "stderr",
     "output_type": "stream",
     "text": [
      "100%|██████████| 56/56 [03:51<00:00,  4.14s/it]\n"
     ]
    },
    {
     "name": "stdout",
     "output_type": "stream",
     "text": [
      "Training Error: \n",
      " Avg loss: 0.003377 \n",
      "\n"
     ]
    },
    {
     "name": "stderr",
     "output_type": "stream",
     "text": [
      "100%|██████████| 19/19 [00:48<00:00,  2.57s/it]\n"
     ]
    },
    {
     "name": "stdout",
     "output_type": "stream",
     "text": [
      "Validation Error: \n",
      " Avg loss: 0.003382 \n",
      "\n",
      "Learning rate (antes): 0.0005709999999999998\n",
      "Learning rate (depois): 0.0005544999999999998\n",
      "\n",
      "epoch 27\n",
      "-------------------------------\n",
      "Training on 159000 samples...\n",
      "Batch size: 2867\n",
      "Number of batches: 56\n"
     ]
    },
    {
     "name": "stderr",
     "output_type": "stream",
     "text": [
      "100%|██████████| 56/56 [03:48<00:00,  4.09s/it]\n"
     ]
    },
    {
     "name": "stdout",
     "output_type": "stream",
     "text": [
      "Training Error: \n",
      " Avg loss: 0.003351 \n",
      "\n"
     ]
    },
    {
     "name": "stderr",
     "output_type": "stream",
     "text": [
      "100%|██████████| 19/19 [00:45<00:00,  2.37s/it]\n"
     ]
    },
    {
     "name": "stdout",
     "output_type": "stream",
     "text": [
      "Validation Error: \n",
      " Avg loss: 0.003336 \n",
      "\n",
      "Learning rate (antes): 0.0005544999999999998\n",
      "Learning rate (depois): 0.0005379999999999997\n",
      "\n",
      "epoch 28\n",
      "-------------------------------\n",
      "Training on 159000 samples...\n",
      "Batch size: 2867\n",
      "Number of batches: 56\n"
     ]
    },
    {
     "name": "stderr",
     "output_type": "stream",
     "text": [
      "100%|██████████| 56/56 [04:12<00:00,  4.50s/it]\n"
     ]
    },
    {
     "name": "stdout",
     "output_type": "stream",
     "text": [
      "Training Error: \n",
      " Avg loss: 0.003347 \n",
      "\n"
     ]
    },
    {
     "name": "stderr",
     "output_type": "stream",
     "text": [
      "100%|██████████| 19/19 [00:45<00:00,  2.41s/it]\n"
     ]
    },
    {
     "name": "stdout",
     "output_type": "stream",
     "text": [
      "Validation Error: \n",
      " Avg loss: 0.003361 \n",
      "\n",
      "Learning rate (antes): 0.0005379999999999997\n",
      "Learning rate (depois): 0.0005214999999999997\n",
      "\n",
      "epoch 29\n",
      "-------------------------------\n",
      "Training on 159000 samples...\n",
      "Batch size: 2867\n",
      "Number of batches: 56\n"
     ]
    },
    {
     "name": "stderr",
     "output_type": "stream",
     "text": [
      "100%|██████████| 56/56 [03:51<00:00,  4.14s/it]\n"
     ]
    },
    {
     "name": "stdout",
     "output_type": "stream",
     "text": [
      "Training Error: \n",
      " Avg loss: 0.003360 \n",
      "\n"
     ]
    },
    {
     "name": "stderr",
     "output_type": "stream",
     "text": [
      "100%|██████████| 19/19 [00:46<00:00,  2.43s/it]\n"
     ]
    },
    {
     "name": "stdout",
     "output_type": "stream",
     "text": [
      "Validation Error: \n",
      " Avg loss: 0.003329 \n",
      "\n",
      "Learning rate (antes): 0.0005214999999999997\n",
      "Learning rate (depois): 0.0005049999999999997\n",
      "\n",
      "epoch 30\n",
      "-------------------------------\n",
      "Training on 159000 samples...\n",
      "Batch size: 2867\n",
      "Number of batches: 56\n"
     ]
    },
    {
     "name": "stderr",
     "output_type": "stream",
     "text": [
      "100%|██████████| 56/56 [03:49<00:00,  4.09s/it]\n"
     ]
    },
    {
     "name": "stdout",
     "output_type": "stream",
     "text": [
      "Training Error: \n",
      " Avg loss: 0.003361 \n",
      "\n"
     ]
    },
    {
     "name": "stderr",
     "output_type": "stream",
     "text": [
      "100%|██████████| 19/19 [00:45<00:00,  2.41s/it]\n"
     ]
    },
    {
     "name": "stdout",
     "output_type": "stream",
     "text": [
      "Validation Error: \n",
      " Avg loss: 0.003362 \n",
      "\n",
      "Learning rate (antes): 0.0005049999999999997\n",
      "Learning rate (depois): 0.0004884999999999997\n",
      "\n",
      "epoch 31\n",
      "-------------------------------\n",
      "Training on 159000 samples...\n",
      "Batch size: 2867\n",
      "Number of batches: 56\n"
     ]
    },
    {
     "name": "stderr",
     "output_type": "stream",
     "text": [
      "100%|██████████| 56/56 [03:53<00:00,  4.18s/it]\n"
     ]
    },
    {
     "name": "stdout",
     "output_type": "stream",
     "text": [
      "Training Error: \n",
      " Avg loss: 0.003336 \n",
      "\n"
     ]
    },
    {
     "name": "stderr",
     "output_type": "stream",
     "text": [
      "100%|██████████| 19/19 [00:46<00:00,  2.46s/it]\n"
     ]
    },
    {
     "name": "stdout",
     "output_type": "stream",
     "text": [
      "Validation Error: \n",
      " Avg loss: 0.003327 \n",
      "\n",
      "Learning rate (antes): 0.0004884999999999997\n",
      "Learning rate (depois): 0.0004719999999999997\n",
      "\n",
      "epoch 32\n",
      "-------------------------------\n",
      "Training on 159000 samples...\n",
      "Batch size: 2867\n",
      "Number of batches: 56\n"
     ]
    },
    {
     "name": "stderr",
     "output_type": "stream",
     "text": [
      "100%|██████████| 56/56 [04:00<00:00,  4.30s/it]\n"
     ]
    },
    {
     "name": "stdout",
     "output_type": "stream",
     "text": [
      "Training Error: \n",
      " Avg loss: 0.003372 \n",
      "\n"
     ]
    },
    {
     "name": "stderr",
     "output_type": "stream",
     "text": [
      "100%|██████████| 19/19 [00:46<00:00,  2.46s/it]\n"
     ]
    },
    {
     "name": "stdout",
     "output_type": "stream",
     "text": [
      "Validation Error: \n",
      " Avg loss: 0.003442 \n",
      "\n",
      "Learning rate (antes): 0.0004719999999999997\n",
      "Learning rate (depois): 0.00045549999999999974\n",
      "\n",
      "epoch 33\n",
      "-------------------------------\n",
      "Training on 159000 samples...\n",
      "Batch size: 2867\n",
      "Number of batches: 56\n"
     ]
    },
    {
     "name": "stderr",
     "output_type": "stream",
     "text": [
      "100%|██████████| 56/56 [03:55<00:00,  4.21s/it]\n"
     ]
    },
    {
     "name": "stdout",
     "output_type": "stream",
     "text": [
      "Training Error: \n",
      " Avg loss: 0.003338 \n",
      "\n"
     ]
    },
    {
     "name": "stderr",
     "output_type": "stream",
     "text": [
      "100%|██████████| 19/19 [00:46<00:00,  2.45s/it]\n"
     ]
    },
    {
     "name": "stdout",
     "output_type": "stream",
     "text": [
      "Validation Error: \n",
      " Avg loss: 0.003318 \n",
      "\n",
      "Learning rate (antes): 0.00045549999999999974\n",
      "Learning rate (depois): 0.0004389999999999998\n",
      "\n",
      "epoch 34\n",
      "-------------------------------\n",
      "Training on 159000 samples...\n",
      "Batch size: 2867\n",
      "Number of batches: 56\n"
     ]
    },
    {
     "name": "stderr",
     "output_type": "stream",
     "text": [
      "100%|██████████| 56/56 [04:28<00:00,  4.79s/it]\n"
     ]
    },
    {
     "name": "stdout",
     "output_type": "stream",
     "text": [
      "Training Error: \n",
      " Avg loss: 0.003323 \n",
      "\n"
     ]
    },
    {
     "name": "stderr",
     "output_type": "stream",
     "text": [
      "100%|██████████| 19/19 [00:48<00:00,  2.53s/it]\n"
     ]
    },
    {
     "name": "stdout",
     "output_type": "stream",
     "text": [
      "Validation Error: \n",
      " Avg loss: 0.003316 \n",
      "\n",
      "Learning rate (antes): 0.0004389999999999998\n",
      "Learning rate (depois): 0.00042249999999999975\n",
      "\n",
      "epoch 35\n",
      "-------------------------------\n",
      "Training on 159000 samples...\n",
      "Batch size: 2867\n",
      "Number of batches: 56\n"
     ]
    },
    {
     "name": "stderr",
     "output_type": "stream",
     "text": [
      "100%|██████████| 56/56 [04:01<00:00,  4.30s/it]\n"
     ]
    },
    {
     "name": "stdout",
     "output_type": "stream",
     "text": [
      "Training Error: \n",
      " Avg loss: 0.003322 \n",
      "\n"
     ]
    },
    {
     "name": "stderr",
     "output_type": "stream",
     "text": [
      "100%|██████████| 19/19 [00:48<00:00,  2.53s/it]\n"
     ]
    },
    {
     "name": "stdout",
     "output_type": "stream",
     "text": [
      "Validation Error: \n",
      " Avg loss: 0.003319 \n",
      "\n",
      "Learning rate (antes): 0.00042249999999999975\n",
      "Learning rate (depois): 0.0004059999999999998\n",
      "\n",
      "epoch 36\n",
      "-------------------------------\n",
      "Training on 159000 samples...\n",
      "Batch size: 2867\n",
      "Number of batches: 56\n"
     ]
    },
    {
     "name": "stderr",
     "output_type": "stream",
     "text": [
      "100%|██████████| 56/56 [04:03<00:00,  4.35s/it]\n"
     ]
    },
    {
     "name": "stdout",
     "output_type": "stream",
     "text": [
      "Training Error: \n",
      " Avg loss: 0.003317 \n",
      "\n"
     ]
    },
    {
     "name": "stderr",
     "output_type": "stream",
     "text": [
      "100%|██████████| 19/19 [00:46<00:00,  2.45s/it]\n"
     ]
    },
    {
     "name": "stdout",
     "output_type": "stream",
     "text": [
      "Validation Error: \n",
      " Avg loss: 0.003333 \n",
      "\n",
      "Learning rate (antes): 0.0004059999999999998\n",
      "Learning rate (depois): 0.0003894999999999998\n",
      "\n",
      "epoch 37\n",
      "-------------------------------\n",
      "Training on 159000 samples...\n",
      "Batch size: 2867\n",
      "Number of batches: 56\n"
     ]
    },
    {
     "name": "stderr",
     "output_type": "stream",
     "text": [
      "100%|██████████| 56/56 [03:52<00:00,  4.15s/it]\n"
     ]
    },
    {
     "name": "stdout",
     "output_type": "stream",
     "text": [
      "Training Error: \n",
      " Avg loss: 0.003321 \n",
      "\n"
     ]
    },
    {
     "name": "stderr",
     "output_type": "stream",
     "text": [
      "100%|██████████| 19/19 [00:45<00:00,  2.39s/it]\n"
     ]
    },
    {
     "name": "stdout",
     "output_type": "stream",
     "text": [
      "Validation Error: \n",
      " Avg loss: 0.003319 \n",
      "\n",
      "Learning rate (antes): 0.0003894999999999998\n",
      "Learning rate (depois): 0.00037299999999999985\n",
      "\n",
      "epoch 38\n",
      "-------------------------------\n",
      "Training on 159000 samples...\n",
      "Batch size: 2867\n",
      "Number of batches: 56\n"
     ]
    },
    {
     "name": "stderr",
     "output_type": "stream",
     "text": [
      "100%|██████████| 56/56 [03:52<00:00,  4.16s/it]\n"
     ]
    },
    {
     "name": "stdout",
     "output_type": "stream",
     "text": [
      "Training Error: \n",
      " Avg loss: 0.003315 \n",
      "\n"
     ]
    },
    {
     "name": "stderr",
     "output_type": "stream",
     "text": [
      "100%|██████████| 19/19 [00:45<00:00,  2.42s/it]\n"
     ]
    },
    {
     "name": "stdout",
     "output_type": "stream",
     "text": [
      "Validation Error: \n",
      " Avg loss: 0.003311 \n",
      "\n",
      "Learning rate (antes): 0.00037299999999999985\n",
      "Learning rate (depois): 0.00035649999999999983\n",
      "\n",
      "epoch 39\n",
      "-------------------------------\n",
      "Training on 159000 samples...\n",
      "Batch size: 2867\n",
      "Number of batches: 56\n"
     ]
    },
    {
     "name": "stderr",
     "output_type": "stream",
     "text": [
      "100%|██████████| 56/56 [04:02<00:00,  4.33s/it]\n"
     ]
    },
    {
     "name": "stdout",
     "output_type": "stream",
     "text": [
      "Training Error: \n",
      " Avg loss: 0.003310 \n",
      "\n"
     ]
    },
    {
     "name": "stderr",
     "output_type": "stream",
     "text": [
      "100%|██████████| 19/19 [00:43<00:00,  2.28s/it]\n"
     ]
    },
    {
     "name": "stdout",
     "output_type": "stream",
     "text": [
      "Validation Error: \n",
      " Avg loss: 0.003309 \n",
      "\n",
      "Learning rate (antes): 0.00035649999999999983\n",
      "Learning rate (depois): 0.0003399999999999998\n",
      "\n",
      "epoch 40\n",
      "-------------------------------\n",
      "Training on 159000 samples...\n",
      "Batch size: 2867\n",
      "Number of batches: 56\n"
     ]
    },
    {
     "name": "stderr",
     "output_type": "stream",
     "text": [
      "100%|██████████| 56/56 [03:45<00:00,  4.03s/it]\n"
     ]
    },
    {
     "name": "stdout",
     "output_type": "stream",
     "text": [
      "Training Error: \n",
      " Avg loss: 0.003312 \n",
      "\n"
     ]
    },
    {
     "name": "stderr",
     "output_type": "stream",
     "text": [
      "100%|██████████| 19/19 [00:42<00:00,  2.26s/it]\n"
     ]
    },
    {
     "name": "stdout",
     "output_type": "stream",
     "text": [
      "Validation Error: \n",
      " Avg loss: 0.003327 \n",
      "\n",
      "Learning rate (antes): 0.0003399999999999998\n",
      "Learning rate (depois): 0.0003234999999999998\n",
      "\n",
      "epoch 41\n",
      "-------------------------------\n",
      "Training on 159000 samples...\n",
      "Batch size: 2867\n",
      "Number of batches: 56\n"
     ]
    },
    {
     "name": "stderr",
     "output_type": "stream",
     "text": [
      "100%|██████████| 56/56 [03:47<00:00,  4.07s/it]\n"
     ]
    },
    {
     "name": "stdout",
     "output_type": "stream",
     "text": [
      "Training Error: \n",
      " Avg loss: 0.003308 \n",
      "\n"
     ]
    },
    {
     "name": "stderr",
     "output_type": "stream",
     "text": [
      "100%|██████████| 19/19 [00:46<00:00,  2.44s/it]\n"
     ]
    },
    {
     "name": "stdout",
     "output_type": "stream",
     "text": [
      "Validation Error: \n",
      " Avg loss: 0.003305 \n",
      "\n",
      "Learning rate (antes): 0.0003234999999999998\n",
      "Learning rate (depois): 0.00030699999999999976\n",
      "\n",
      "epoch 42\n",
      "-------------------------------\n",
      "Training on 159000 samples...\n",
      "Batch size: 2867\n",
      "Number of batches: 56\n"
     ]
    },
    {
     "name": "stderr",
     "output_type": "stream",
     "text": [
      "100%|██████████| 56/56 [03:53<00:00,  4.17s/it]\n"
     ]
    },
    {
     "name": "stdout",
     "output_type": "stream",
     "text": [
      "Training Error: \n",
      " Avg loss: 0.003306 \n",
      "\n"
     ]
    },
    {
     "name": "stderr",
     "output_type": "stream",
     "text": [
      "100%|██████████| 19/19 [00:45<00:00,  2.38s/it]\n"
     ]
    },
    {
     "name": "stdout",
     "output_type": "stream",
     "text": [
      "Validation Error: \n",
      " Avg loss: 0.003300 \n",
      "\n",
      "Learning rate (antes): 0.00030699999999999976\n",
      "Learning rate (depois): 0.00029049999999999974\n",
      "\n",
      "epoch 43\n",
      "-------------------------------\n",
      "Training on 159000 samples...\n",
      "Batch size: 2867\n",
      "Number of batches: 56\n"
     ]
    },
    {
     "name": "stderr",
     "output_type": "stream",
     "text": [
      "100%|██████████| 56/56 [03:51<00:00,  4.14s/it]\n"
     ]
    },
    {
     "name": "stdout",
     "output_type": "stream",
     "text": [
      "Training Error: \n",
      " Avg loss: 0.003302 \n",
      "\n"
     ]
    },
    {
     "name": "stderr",
     "output_type": "stream",
     "text": [
      "100%|██████████| 19/19 [00:44<00:00,  2.35s/it]\n"
     ]
    },
    {
     "name": "stdout",
     "output_type": "stream",
     "text": [
      "Validation Error: \n",
      " Avg loss: 0.003299 \n",
      "\n",
      "Learning rate (antes): 0.00029049999999999974\n",
      "Learning rate (depois): 0.0002739999999999998\n",
      "\n",
      "epoch 44\n",
      "-------------------------------\n",
      "Training on 159000 samples...\n",
      "Batch size: 2867\n",
      "Number of batches: 56\n"
     ]
    },
    {
     "name": "stderr",
     "output_type": "stream",
     "text": [
      "100%|██████████| 56/56 [03:53<00:00,  4.17s/it]\n"
     ]
    },
    {
     "name": "stdout",
     "output_type": "stream",
     "text": [
      "Training Error: \n",
      " Avg loss: 0.003301 \n",
      "\n"
     ]
    },
    {
     "name": "stderr",
     "output_type": "stream",
     "text": [
      "100%|██████████| 19/19 [00:44<00:00,  2.33s/it]\n"
     ]
    },
    {
     "name": "stdout",
     "output_type": "stream",
     "text": [
      "Validation Error: \n",
      " Avg loss: 0.003297 \n",
      "\n",
      "Learning rate (antes): 0.0002739999999999998\n",
      "Learning rate (depois): 0.0002574999999999998\n",
      "\n",
      "epoch 45\n",
      "-------------------------------\n",
      "Training on 159000 samples...\n",
      "Batch size: 2867\n",
      "Number of batches: 56\n"
     ]
    },
    {
     "name": "stderr",
     "output_type": "stream",
     "text": [
      "100%|██████████| 56/56 [03:52<00:00,  4.15s/it]\n"
     ]
    },
    {
     "name": "stdout",
     "output_type": "stream",
     "text": [
      "Training Error: \n",
      " Avg loss: 0.003301 \n",
      "\n"
     ]
    },
    {
     "name": "stderr",
     "output_type": "stream",
     "text": [
      "100%|██████████| 19/19 [00:44<00:00,  2.35s/it]\n"
     ]
    },
    {
     "name": "stdout",
     "output_type": "stream",
     "text": [
      "Validation Error: \n",
      " Avg loss: 0.003296 \n",
      "\n",
      "Learning rate (antes): 0.0002574999999999998\n",
      "Learning rate (depois): 0.0002409999999999998\n",
      "\n",
      "epoch 46\n",
      "-------------------------------\n",
      "Training on 159000 samples...\n",
      "Batch size: 2867\n",
      "Number of batches: 56\n"
     ]
    },
    {
     "name": "stderr",
     "output_type": "stream",
     "text": [
      "100%|██████████| 56/56 [03:52<00:00,  4.14s/it]\n"
     ]
    },
    {
     "name": "stdout",
     "output_type": "stream",
     "text": [
      "Training Error: \n",
      " Avg loss: 0.003298 \n",
      "\n"
     ]
    },
    {
     "name": "stderr",
     "output_type": "stream",
     "text": [
      "100%|██████████| 19/19 [00:45<00:00,  2.41s/it]\n"
     ]
    },
    {
     "name": "stdout",
     "output_type": "stream",
     "text": [
      "Validation Error: \n",
      " Avg loss: 0.003294 \n",
      "\n",
      "Learning rate (antes): 0.0002409999999999998\n",
      "Learning rate (depois): 0.00022449999999999982\n",
      "\n",
      "epoch 47\n",
      "-------------------------------\n",
      "Training on 159000 samples...\n",
      "Batch size: 2867\n",
      "Number of batches: 56\n"
     ]
    },
    {
     "name": "stderr",
     "output_type": "stream",
     "text": [
      "100%|██████████| 56/56 [03:52<00:00,  4.15s/it]\n"
     ]
    },
    {
     "name": "stdout",
     "output_type": "stream",
     "text": [
      "Training Error: \n",
      " Avg loss: 0.003299 \n",
      "\n"
     ]
    },
    {
     "name": "stderr",
     "output_type": "stream",
     "text": [
      "100%|██████████| 19/19 [00:45<00:00,  2.39s/it]\n"
     ]
    },
    {
     "name": "stdout",
     "output_type": "stream",
     "text": [
      "Validation Error: \n",
      " Avg loss: 0.003293 \n",
      "\n",
      "Learning rate (antes): 0.00022449999999999982\n",
      "Learning rate (depois): 0.00020799999999999982\n",
      "\n",
      "epoch 48\n",
      "-------------------------------\n",
      "Training on 159000 samples...\n",
      "Batch size: 2867\n",
      "Number of batches: 56\n"
     ]
    },
    {
     "name": "stderr",
     "output_type": "stream",
     "text": [
      "100%|██████████| 56/56 [03:52<00:00,  4.16s/it]\n"
     ]
    },
    {
     "name": "stdout",
     "output_type": "stream",
     "text": [
      "Training Error: \n",
      " Avg loss: 0.003296 \n",
      "\n"
     ]
    },
    {
     "name": "stderr",
     "output_type": "stream",
     "text": [
      "100%|██████████| 19/19 [00:46<00:00,  2.42s/it]\n"
     ]
    },
    {
     "name": "stdout",
     "output_type": "stream",
     "text": [
      "Validation Error: \n",
      " Avg loss: 0.003293 \n",
      "\n",
      "Learning rate (antes): 0.00020799999999999982\n",
      "Learning rate (depois): 0.00019149999999999986\n",
      "\n",
      "epoch 49\n",
      "-------------------------------\n",
      "Training on 159000 samples...\n",
      "Batch size: 2867\n",
      "Number of batches: 56\n"
     ]
    },
    {
     "name": "stderr",
     "output_type": "stream",
     "text": [
      "100%|██████████| 56/56 [04:14<00:00,  4.54s/it]\n"
     ]
    },
    {
     "name": "stdout",
     "output_type": "stream",
     "text": [
      "Training Error: \n",
      " Avg loss: 0.003295 \n",
      "\n"
     ]
    },
    {
     "name": "stderr",
     "output_type": "stream",
     "text": [
      "100%|██████████| 19/19 [00:48<00:00,  2.54s/it]\n"
     ]
    },
    {
     "name": "stdout",
     "output_type": "stream",
     "text": [
      "Validation Error: \n",
      " Avg loss: 0.003290 \n",
      "\n",
      "Learning rate (antes): 0.00019149999999999986\n",
      "Learning rate (depois): 0.00017499999999999986\n",
      "\n",
      "epoch 50\n",
      "-------------------------------\n",
      "Training on 159000 samples...\n",
      "Batch size: 2867\n",
      "Number of batches: 56\n"
     ]
    },
    {
     "name": "stderr",
     "output_type": "stream",
     "text": [
      "100%|██████████| 56/56 [03:57<00:00,  4.24s/it]\n"
     ]
    },
    {
     "name": "stdout",
     "output_type": "stream",
     "text": [
      "Training Error: \n",
      " Avg loss: 0.003297 \n",
      "\n"
     ]
    },
    {
     "name": "stderr",
     "output_type": "stream",
     "text": [
      "100%|██████████| 19/19 [00:45<00:00,  2.39s/it]\n"
     ]
    },
    {
     "name": "stdout",
     "output_type": "stream",
     "text": [
      "Validation Error: \n",
      " Avg loss: 0.003289 \n",
      "\n",
      "Learning rate (antes): 0.00017499999999999986\n",
      "Learning rate (depois): 0.00015849999999999987\n",
      "\n",
      "epoch 51\n",
      "-------------------------------\n",
      "Training on 159000 samples...\n",
      "Batch size: 2867\n",
      "Number of batches: 56\n"
     ]
    },
    {
     "name": "stderr",
     "output_type": "stream",
     "text": [
      "100%|██████████| 56/56 [03:50<00:00,  4.11s/it]\n"
     ]
    },
    {
     "name": "stdout",
     "output_type": "stream",
     "text": [
      "Training Error: \n",
      " Avg loss: 0.003292 \n",
      "\n"
     ]
    },
    {
     "name": "stderr",
     "output_type": "stream",
     "text": [
      "100%|██████████| 19/19 [00:47<00:00,  2.49s/it]\n"
     ]
    },
    {
     "name": "stdout",
     "output_type": "stream",
     "text": [
      "Validation Error: \n",
      " Avg loss: 0.003289 \n",
      "\n",
      "Learning rate (antes): 0.00015849999999999987\n",
      "Learning rate (depois): 0.00014199999999999987\n",
      "\n",
      "epoch 52\n",
      "-------------------------------\n",
      "Training on 159000 samples...\n",
      "Batch size: 2867\n",
      "Number of batches: 56\n"
     ]
    },
    {
     "name": "stderr",
     "output_type": "stream",
     "text": [
      "100%|██████████| 56/56 [03:54<00:00,  4.18s/it]\n"
     ]
    },
    {
     "name": "stdout",
     "output_type": "stream",
     "text": [
      "Training Error: \n",
      " Avg loss: 0.003292 \n",
      "\n"
     ]
    },
    {
     "name": "stderr",
     "output_type": "stream",
     "text": [
      "100%|██████████| 19/19 [00:44<00:00,  2.33s/it]\n"
     ]
    },
    {
     "name": "stdout",
     "output_type": "stream",
     "text": [
      "Validation Error: \n",
      " Avg loss: 0.003288 \n",
      "\n",
      "Learning rate (antes): 0.00014199999999999987\n",
      "Learning rate (depois): 0.0001254999999999999\n",
      "\n",
      "epoch 53\n",
      "-------------------------------\n",
      "Training on 159000 samples...\n",
      "Batch size: 2867\n",
      "Number of batches: 56\n"
     ]
    },
    {
     "name": "stderr",
     "output_type": "stream",
     "text": [
      "100%|██████████| 56/56 [03:52<00:00,  4.15s/it]\n"
     ]
    },
    {
     "name": "stdout",
     "output_type": "stream",
     "text": [
      "Training Error: \n",
      " Avg loss: 0.003288 \n",
      "\n"
     ]
    },
    {
     "name": "stderr",
     "output_type": "stream",
     "text": [
      "100%|██████████| 19/19 [00:45<00:00,  2.38s/it]\n"
     ]
    },
    {
     "name": "stdout",
     "output_type": "stream",
     "text": [
      "Validation Error: \n",
      " Avg loss: 0.003287 \n",
      "\n",
      "Learning rate (antes): 0.0001254999999999999\n",
      "Learning rate (depois): 0.00010899999999999993\n",
      "\n",
      "epoch 54\n",
      "-------------------------------\n",
      "Training on 159000 samples...\n",
      "Batch size: 2867\n",
      "Number of batches: 56\n"
     ]
    },
    {
     "name": "stderr",
     "output_type": "stream",
     "text": [
      "100%|██████████| 56/56 [03:52<00:00,  4.15s/it]\n"
     ]
    },
    {
     "name": "stdout",
     "output_type": "stream",
     "text": [
      "Training Error: \n",
      " Avg loss: 0.003292 \n",
      "\n"
     ]
    },
    {
     "name": "stderr",
     "output_type": "stream",
     "text": [
      "100%|██████████| 19/19 [00:47<00:00,  2.51s/it]\n"
     ]
    },
    {
     "name": "stdout",
     "output_type": "stream",
     "text": [
      "Validation Error: \n",
      " Avg loss: 0.003286 \n",
      "\n",
      "Learning rate (antes): 0.00010899999999999993\n",
      "Learning rate (depois): 9.249999999999994e-05\n",
      "\n",
      "epoch 55\n",
      "-------------------------------\n",
      "Training on 159000 samples...\n",
      "Batch size: 2867\n",
      "Number of batches: 56\n"
     ]
    },
    {
     "name": "stderr",
     "output_type": "stream",
     "text": [
      "100%|██████████| 56/56 [03:51<00:00,  4.14s/it]\n"
     ]
    },
    {
     "name": "stdout",
     "output_type": "stream",
     "text": [
      "Training Error: \n",
      " Avg loss: 0.003291 \n",
      "\n"
     ]
    },
    {
     "name": "stderr",
     "output_type": "stream",
     "text": [
      "100%|██████████| 19/19 [00:45<00:00,  2.40s/it]\n"
     ]
    },
    {
     "name": "stdout",
     "output_type": "stream",
     "text": [
      "Validation Error: \n",
      " Avg loss: 0.003286 \n",
      "\n",
      "Learning rate (antes): 9.249999999999994e-05\n",
      "Learning rate (depois): 7.599999999999995e-05\n",
      "\n",
      "epoch 56\n",
      "-------------------------------\n",
      "Training on 159000 samples...\n",
      "Batch size: 2867\n",
      "Number of batches: 56\n"
     ]
    },
    {
     "name": "stderr",
     "output_type": "stream",
     "text": [
      "100%|██████████| 56/56 [03:51<00:00,  4.14s/it]\n"
     ]
    },
    {
     "name": "stdout",
     "output_type": "stream",
     "text": [
      "Training Error: \n",
      " Avg loss: 0.003288 \n",
      "\n"
     ]
    },
    {
     "name": "stderr",
     "output_type": "stream",
     "text": [
      "100%|██████████| 19/19 [00:45<00:00,  2.38s/it]\n"
     ]
    },
    {
     "name": "stdout",
     "output_type": "stream",
     "text": [
      "Validation Error: \n",
      " Avg loss: 0.003286 \n",
      "\n",
      "Learning rate (antes): 7.599999999999995e-05\n",
      "Learning rate (depois): 5.949999999999996e-05\n",
      "\n",
      "epoch 57\n",
      "-------------------------------\n",
      "Training on 159000 samples...\n",
      "Batch size: 2867\n",
      "Number of batches: 56\n"
     ]
    },
    {
     "name": "stderr",
     "output_type": "stream",
     "text": [
      "100%|██████████| 56/56 [03:52<00:00,  4.16s/it]\n"
     ]
    },
    {
     "name": "stdout",
     "output_type": "stream",
     "text": [
      "Training Error: \n",
      " Avg loss: 0.003289 \n",
      "\n"
     ]
    },
    {
     "name": "stderr",
     "output_type": "stream",
     "text": [
      "100%|██████████| 19/19 [00:44<00:00,  2.34s/it]\n"
     ]
    },
    {
     "name": "stdout",
     "output_type": "stream",
     "text": [
      "Validation Error: \n",
      " Avg loss: 0.003285 \n",
      "\n",
      "Learning rate (antes): 5.949999999999996e-05\n",
      "Learning rate (depois): 4.299999999999998e-05\n",
      "\n",
      "epoch 58\n",
      "-------------------------------\n",
      "Training on 159000 samples...\n",
      "Batch size: 2867\n",
      "Number of batches: 56\n"
     ]
    },
    {
     "name": "stderr",
     "output_type": "stream",
     "text": [
      "100%|██████████| 56/56 [03:53<00:00,  4.17s/it]\n"
     ]
    },
    {
     "name": "stdout",
     "output_type": "stream",
     "text": [
      "Training Error: \n",
      " Avg loss: 0.003292 \n",
      "\n"
     ]
    },
    {
     "name": "stderr",
     "output_type": "stream",
     "text": [
      "100%|██████████| 19/19 [00:44<00:00,  2.33s/it]\n"
     ]
    },
    {
     "name": "stdout",
     "output_type": "stream",
     "text": [
      "Validation Error: \n",
      " Avg loss: 0.003285 \n",
      "\n",
      "Learning rate (antes): 4.299999999999998e-05\n",
      "Learning rate (depois): 2.6499999999999977e-05\n",
      "\n",
      "epoch 59\n",
      "-------------------------------\n",
      "Training on 159000 samples...\n",
      "Batch size: 2867\n",
      "Number of batches: 56\n"
     ]
    },
    {
     "name": "stderr",
     "output_type": "stream",
     "text": [
      "100%|██████████| 56/56 [03:59<00:00,  4.27s/it]\n"
     ]
    },
    {
     "name": "stdout",
     "output_type": "stream",
     "text": [
      "Training Error: \n",
      " Avg loss: 0.003289 \n",
      "\n"
     ]
    },
    {
     "name": "stderr",
     "output_type": "stream",
     "text": [
      "100%|██████████| 19/19 [00:47<00:00,  2.49s/it]\n"
     ]
    },
    {
     "name": "stdout",
     "output_type": "stream",
     "text": [
      "Validation Error: \n",
      " Avg loss: 0.003285 \n",
      "\n",
      "Learning rate (antes): 2.6499999999999977e-05\n",
      "Learning rate (depois): 1.0000000000000028e-05\n",
      "\n",
      "epoch 60\n",
      "-------------------------------\n",
      "Training on 159000 samples...\n",
      "Batch size: 2867\n",
      "Number of batches: 56\n"
     ]
    },
    {
     "name": "stderr",
     "output_type": "stream",
     "text": [
      "100%|██████████| 56/56 [04:11<00:00,  4.50s/it]\n"
     ]
    },
    {
     "name": "stdout",
     "output_type": "stream",
     "text": [
      "Training Error: \n",
      " Avg loss: 0.003287 \n",
      "\n"
     ]
    },
    {
     "name": "stderr",
     "output_type": "stream",
     "text": [
      "100%|██████████| 19/19 [00:45<00:00,  2.41s/it]\n"
     ]
    },
    {
     "name": "stdout",
     "output_type": "stream",
     "text": [
      "Validation Error: \n",
      " Avg loss: 0.003285 \n",
      "\n",
      "Learning rate (antes): 1.0000000000000028e-05\n",
      "Learning rate (depois): 1.0000000000000028e-05\n",
      "\n",
      "epoch 61\n",
      "-------------------------------\n",
      "Training on 159000 samples...\n",
      "Batch size: 2867\n",
      "Number of batches: 56\n"
     ]
    },
    {
     "name": "stderr",
     "output_type": "stream",
     "text": [
      "100%|██████████| 56/56 [03:54<00:00,  4.18s/it]\n"
     ]
    },
    {
     "name": "stdout",
     "output_type": "stream",
     "text": [
      "Training Error: \n",
      " Avg loss: 0.003291 \n",
      "\n"
     ]
    },
    {
     "name": "stderr",
     "output_type": "stream",
     "text": [
      "100%|██████████| 19/19 [00:43<00:00,  2.31s/it]\n"
     ]
    },
    {
     "name": "stdout",
     "output_type": "stream",
     "text": [
      "Validation Error: \n",
      " Avg loss: 0.003285 \n",
      "\n",
      "Learning rate (antes): 1.0000000000000028e-05\n",
      "Learning rate (depois): 1.0000000000000028e-05\n",
      "\n",
      "epoch 62\n",
      "-------------------------------\n",
      "Training on 159000 samples...\n",
      "Batch size: 2867\n",
      "Number of batches: 56\n"
     ]
    },
    {
     "name": "stderr",
     "output_type": "stream",
     "text": [
      "100%|██████████| 56/56 [03:53<00:00,  4.17s/it]\n"
     ]
    },
    {
     "name": "stdout",
     "output_type": "stream",
     "text": [
      "Training Error: \n",
      " Avg loss: 0.003287 \n",
      "\n"
     ]
    },
    {
     "name": "stderr",
     "output_type": "stream",
     "text": [
      "100%|██████████| 19/19 [00:45<00:00,  2.37s/it]\n"
     ]
    },
    {
     "name": "stdout",
     "output_type": "stream",
     "text": [
      "Validation Error: \n",
      " Avg loss: 0.003285 \n",
      "\n",
      "Learning rate (antes): 1.0000000000000028e-05\n",
      "Learning rate (depois): 1.0000000000000028e-05\n",
      "\n",
      "epoch 63\n",
      "-------------------------------\n",
      "Training on 159000 samples...\n",
      "Batch size: 2867\n",
      "Number of batches: 56\n"
     ]
    },
    {
     "name": "stderr",
     "output_type": "stream",
     "text": [
      "100%|██████████| 56/56 [03:51<00:00,  4.13s/it]\n"
     ]
    },
    {
     "name": "stdout",
     "output_type": "stream",
     "text": [
      "Training Error: \n",
      " Avg loss: 0.003290 \n",
      "\n"
     ]
    },
    {
     "name": "stderr",
     "output_type": "stream",
     "text": [
      "100%|██████████| 19/19 [00:44<00:00,  2.36s/it]\n"
     ]
    },
    {
     "name": "stdout",
     "output_type": "stream",
     "text": [
      "Validation Error: \n",
      " Avg loss: 0.003285 \n",
      "\n",
      "Learning rate (antes): 1.0000000000000028e-05\n",
      "Learning rate (depois): 1.0000000000000028e-05\n",
      "\n",
      "epoch 64\n",
      "-------------------------------\n",
      "Training on 159000 samples...\n",
      "Batch size: 2867\n",
      "Number of batches: 56\n"
     ]
    },
    {
     "name": "stderr",
     "output_type": "stream",
     "text": [
      "100%|██████████| 56/56 [03:49<00:00,  4.10s/it]\n"
     ]
    },
    {
     "name": "stdout",
     "output_type": "stream",
     "text": [
      "Training Error: \n",
      " Avg loss: 0.003289 \n",
      "\n"
     ]
    },
    {
     "name": "stderr",
     "output_type": "stream",
     "text": [
      "100%|██████████| 19/19 [00:46<00:00,  2.44s/it]\n"
     ]
    },
    {
     "name": "stdout",
     "output_type": "stream",
     "text": [
      "Validation Error: \n",
      " Avg loss: 0.003284 \n",
      "\n",
      "Learning rate (antes): 1.0000000000000028e-05\n",
      "Learning rate (depois): 1.0000000000000028e-05\n",
      "\n",
      "epoch 65\n",
      "-------------------------------\n",
      "Training on 159000 samples...\n",
      "Batch size: 2867\n",
      "Number of batches: 56\n"
     ]
    },
    {
     "name": "stderr",
     "output_type": "stream",
     "text": [
      "100%|██████████| 56/56 [03:54<00:00,  4.20s/it]\n"
     ]
    },
    {
     "name": "stdout",
     "output_type": "stream",
     "text": [
      "Training Error: \n",
      " Avg loss: 0.003289 \n",
      "\n"
     ]
    },
    {
     "name": "stderr",
     "output_type": "stream",
     "text": [
      "100%|██████████| 19/19 [00:44<00:00,  2.34s/it]\n"
     ]
    },
    {
     "name": "stdout",
     "output_type": "stream",
     "text": [
      "Validation Error: \n",
      " Avg loss: 0.003284 \n",
      "\n",
      "Learning rate (antes): 1.0000000000000028e-05\n",
      "Learning rate (depois): 1.0000000000000028e-05\n",
      "\n",
      "epoch 66\n",
      "-------------------------------\n",
      "Training on 159000 samples...\n",
      "Batch size: 2867\n",
      "Number of batches: 56\n"
     ]
    },
    {
     "name": "stderr",
     "output_type": "stream",
     "text": [
      "100%|██████████| 56/56 [03:51<00:00,  4.14s/it]\n"
     ]
    },
    {
     "name": "stdout",
     "output_type": "stream",
     "text": [
      "Training Error: \n",
      " Avg loss: 0.003286 \n",
      "\n"
     ]
    },
    {
     "name": "stderr",
     "output_type": "stream",
     "text": [
      "100%|██████████| 19/19 [00:45<00:00,  2.41s/it]\n"
     ]
    },
    {
     "name": "stdout",
     "output_type": "stream",
     "text": [
      "Validation Error: \n",
      " Avg loss: 0.003284 \n",
      "\n",
      "Learning rate (antes): 1.0000000000000028e-05\n",
      "Learning rate (depois): 1.0000000000000028e-05\n",
      "\n",
      "epoch 67\n",
      "-------------------------------\n",
      "Training on 159000 samples...\n",
      "Batch size: 2867\n",
      "Number of batches: 56\n"
     ]
    },
    {
     "name": "stderr",
     "output_type": "stream",
     "text": [
      "100%|██████████| 56/56 [03:52<00:00,  4.15s/it]\n"
     ]
    },
    {
     "name": "stdout",
     "output_type": "stream",
     "text": [
      "Training Error: \n",
      " Avg loss: 0.003289 \n",
      "\n"
     ]
    },
    {
     "name": "stderr",
     "output_type": "stream",
     "text": [
      "100%|██████████| 19/19 [00:46<00:00,  2.44s/it]\n"
     ]
    },
    {
     "name": "stdout",
     "output_type": "stream",
     "text": [
      "Validation Error: \n",
      " Avg loss: 0.003284 \n",
      "\n",
      "Learning rate (antes): 1.0000000000000028e-05\n",
      "Learning rate (depois): 1.0000000000000028e-05\n",
      "\n",
      "epoch 68\n",
      "-------------------------------\n",
      "Training on 159000 samples...\n",
      "Batch size: 2867\n",
      "Number of batches: 56\n"
     ]
    },
    {
     "name": "stderr",
     "output_type": "stream",
     "text": [
      "100%|██████████| 56/56 [03:50<00:00,  4.12s/it]\n"
     ]
    },
    {
     "name": "stdout",
     "output_type": "stream",
     "text": [
      "Training Error: \n",
      " Avg loss: 0.003289 \n",
      "\n"
     ]
    },
    {
     "name": "stderr",
     "output_type": "stream",
     "text": [
      "100%|██████████| 19/19 [00:42<00:00,  2.22s/it]\n"
     ]
    },
    {
     "name": "stdout",
     "output_type": "stream",
     "text": [
      "Validation Error: \n",
      " Avg loss: 0.003284 \n",
      "\n",
      "Learning rate (antes): 1.0000000000000028e-05\n",
      "Learning rate (depois): 1.0000000000000028e-05\n",
      "\n",
      "epoch 69\n",
      "-------------------------------\n",
      "Training on 159000 samples...\n",
      "Batch size: 2867\n",
      "Number of batches: 56\n"
     ]
    },
    {
     "name": "stderr",
     "output_type": "stream",
     "text": [
      "100%|██████████| 56/56 [03:51<00:00,  4.14s/it]\n"
     ]
    },
    {
     "name": "stdout",
     "output_type": "stream",
     "text": [
      "Training Error: \n",
      " Avg loss: 0.003291 \n",
      "\n"
     ]
    },
    {
     "name": "stderr",
     "output_type": "stream",
     "text": [
      "100%|██████████| 19/19 [00:43<00:00,  2.27s/it]\n"
     ]
    },
    {
     "name": "stdout",
     "output_type": "stream",
     "text": [
      "Validation Error: \n",
      " Avg loss: 0.003284 \n",
      "\n",
      "Learning rate (antes): 1.0000000000000028e-05\n",
      "Learning rate (depois): 1.0000000000000028e-05\n",
      "\n",
      "epoch 70\n",
      "-------------------------------\n",
      "Training on 159000 samples...\n",
      "Batch size: 2867\n",
      "Number of batches: 56\n"
     ]
    },
    {
     "name": "stderr",
     "output_type": "stream",
     "text": [
      "100%|██████████| 56/56 [04:12<00:00,  4.51s/it]\n"
     ]
    },
    {
     "name": "stdout",
     "output_type": "stream",
     "text": [
      "Training Error: \n",
      " Avg loss: 0.003289 \n",
      "\n"
     ]
    },
    {
     "name": "stderr",
     "output_type": "stream",
     "text": [
      "100%|██████████| 19/19 [00:44<00:00,  2.35s/it]\n"
     ]
    },
    {
     "name": "stdout",
     "output_type": "stream",
     "text": [
      "Validation Error: \n",
      " Avg loss: 0.003284 \n",
      "\n",
      "Learning rate (antes): 1.0000000000000028e-05\n",
      "Learning rate (depois): 1.0000000000000028e-05\n",
      "\n",
      "epoch 71\n",
      "-------------------------------\n",
      "Training on 159000 samples...\n",
      "Batch size: 2867\n",
      "Number of batches: 56\n"
     ]
    },
    {
     "name": "stderr",
     "output_type": "stream",
     "text": [
      "100%|██████████| 56/56 [03:51<00:00,  4.14s/it]\n"
     ]
    },
    {
     "name": "stdout",
     "output_type": "stream",
     "text": [
      "Training Error: \n",
      " Avg loss: 0.003289 \n",
      "\n"
     ]
    },
    {
     "name": "stderr",
     "output_type": "stream",
     "text": [
      "100%|██████████| 19/19 [00:45<00:00,  2.41s/it]\n"
     ]
    },
    {
     "name": "stdout",
     "output_type": "stream",
     "text": [
      "Validation Error: \n",
      " Avg loss: 0.003284 \n",
      "\n",
      "Learning rate (antes): 1.0000000000000028e-05\n",
      "Learning rate (depois): 1.0000000000000028e-05\n",
      "\n",
      "epoch 72\n",
      "-------------------------------\n",
      "Training on 159000 samples...\n",
      "Batch size: 2867\n",
      "Number of batches: 56\n"
     ]
    },
    {
     "name": "stderr",
     "output_type": "stream",
     "text": [
      "100%|██████████| 56/56 [03:52<00:00,  4.15s/it]\n"
     ]
    },
    {
     "name": "stdout",
     "output_type": "stream",
     "text": [
      "Training Error: \n",
      " Avg loss: 0.003287 \n",
      "\n"
     ]
    },
    {
     "name": "stderr",
     "output_type": "stream",
     "text": [
      "100%|██████████| 19/19 [00:43<00:00,  2.31s/it]\n"
     ]
    },
    {
     "name": "stdout",
     "output_type": "stream",
     "text": [
      "Validation Error: \n",
      " Avg loss: 0.003284 \n",
      "\n",
      "Learning rate (antes): 1.0000000000000028e-05\n",
      "Learning rate (depois): 1.0000000000000028e-05\n",
      "\n",
      "epoch 73\n",
      "-------------------------------\n",
      "Training on 159000 samples...\n",
      "Batch size: 2867\n",
      "Number of batches: 56\n"
     ]
    },
    {
     "name": "stderr",
     "output_type": "stream",
     "text": [
      "100%|██████████| 56/56 [03:52<00:00,  4.16s/it]\n"
     ]
    },
    {
     "name": "stdout",
     "output_type": "stream",
     "text": [
      "Training Error: \n",
      " Avg loss: 0.003292 \n",
      "\n"
     ]
    },
    {
     "name": "stderr",
     "output_type": "stream",
     "text": [
      "100%|██████████| 19/19 [00:44<00:00,  2.33s/it]\n"
     ]
    },
    {
     "name": "stdout",
     "output_type": "stream",
     "text": [
      "Validation Error: \n",
      " Avg loss: 0.003284 \n",
      "\n",
      "Learning rate (antes): 1.0000000000000028e-05\n",
      "Learning rate (depois): 1.0000000000000028e-05\n",
      "\n",
      "epoch 74\n",
      "-------------------------------\n",
      "Training on 159000 samples...\n",
      "Batch size: 2867\n",
      "Number of batches: 56\n"
     ]
    },
    {
     "name": "stderr",
     "output_type": "stream",
     "text": [
      "100%|██████████| 56/56 [03:51<00:00,  4.13s/it]\n"
     ]
    },
    {
     "name": "stdout",
     "output_type": "stream",
     "text": [
      "Training Error: \n",
      " Avg loss: 0.003290 \n",
      "\n"
     ]
    },
    {
     "name": "stderr",
     "output_type": "stream",
     "text": [
      "100%|██████████| 19/19 [00:44<00:00,  2.33s/it]\n"
     ]
    },
    {
     "name": "stdout",
     "output_type": "stream",
     "text": [
      "Validation Error: \n",
      " Avg loss: 0.003284 \n",
      "\n",
      "Learning rate (antes): 1.0000000000000028e-05\n",
      "Learning rate (depois): 1.0000000000000028e-05\n",
      "\n",
      "epoch 75\n",
      "-------------------------------\n",
      "Training on 159000 samples...\n",
      "Batch size: 2867\n",
      "Number of batches: 56\n"
     ]
    },
    {
     "name": "stderr",
     "output_type": "stream",
     "text": [
      "100%|██████████| 56/56 [03:55<00:00,  4.20s/it]\n"
     ]
    },
    {
     "name": "stdout",
     "output_type": "stream",
     "text": [
      "Training Error: \n",
      " Avg loss: 0.003290 \n",
      "\n"
     ]
    },
    {
     "name": "stderr",
     "output_type": "stream",
     "text": [
      "100%|██████████| 19/19 [00:45<00:00,  2.37s/it]\n"
     ]
    },
    {
     "name": "stdout",
     "output_type": "stream",
     "text": [
      "Validation Error: \n",
      " Avg loss: 0.003284 \n",
      "\n",
      "Learning rate (antes): 1.0000000000000028e-05\n",
      "Learning rate (depois): 1.0000000000000028e-05\n",
      "\n",
      "epoch 76\n",
      "-------------------------------\n",
      "Training on 159000 samples...\n",
      "Batch size: 2867\n",
      "Number of batches: 56\n"
     ]
    },
    {
     "name": "stderr",
     "output_type": "stream",
     "text": [
      "100%|██████████| 56/56 [03:51<00:00,  4.13s/it]\n"
     ]
    },
    {
     "name": "stdout",
     "output_type": "stream",
     "text": [
      "Training Error: \n",
      " Avg loss: 0.003289 \n",
      "\n"
     ]
    },
    {
     "name": "stderr",
     "output_type": "stream",
     "text": [
      "100%|██████████| 19/19 [00:45<00:00,  2.39s/it]\n"
     ]
    },
    {
     "name": "stdout",
     "output_type": "stream",
     "text": [
      "Validation Error: \n",
      " Avg loss: 0.003283 \n",
      "\n",
      "Learning rate (antes): 1.0000000000000028e-05\n",
      "Learning rate (depois): 1.0000000000000028e-05\n",
      "\n",
      "epoch 77\n",
      "-------------------------------\n",
      "Training on 159000 samples...\n",
      "Batch size: 2867\n",
      "Number of batches: 56\n"
     ]
    },
    {
     "name": "stderr",
     "output_type": "stream",
     "text": [
      "100%|██████████| 56/56 [03:51<00:00,  4.13s/it]\n"
     ]
    },
    {
     "name": "stdout",
     "output_type": "stream",
     "text": [
      "Training Error: \n",
      " Avg loss: 0.003287 \n",
      "\n"
     ]
    },
    {
     "name": "stderr",
     "output_type": "stream",
     "text": [
      "100%|██████████| 19/19 [00:43<00:00,  2.26s/it]\n"
     ]
    },
    {
     "name": "stdout",
     "output_type": "stream",
     "text": [
      "Validation Error: \n",
      " Avg loss: 0.003283 \n",
      "\n",
      "Learning rate (antes): 1.0000000000000028e-05\n",
      "Learning rate (depois): 1.0000000000000028e-05\n",
      "\n",
      "epoch 78\n",
      "-------------------------------\n",
      "Training on 159000 samples...\n",
      "Batch size: 2867\n",
      "Number of batches: 56\n"
     ]
    },
    {
     "name": "stderr",
     "output_type": "stream",
     "text": [
      "100%|██████████| 56/56 [03:54<00:00,  4.19s/it]\n"
     ]
    },
    {
     "name": "stdout",
     "output_type": "stream",
     "text": [
      "Training Error: \n",
      " Avg loss: 0.003286 \n",
      "\n"
     ]
    },
    {
     "name": "stderr",
     "output_type": "stream",
     "text": [
      "100%|██████████| 19/19 [00:44<00:00,  2.34s/it]\n"
     ]
    },
    {
     "name": "stdout",
     "output_type": "stream",
     "text": [
      "Validation Error: \n",
      " Avg loss: 0.003283 \n",
      "\n",
      "Learning rate (antes): 1.0000000000000028e-05\n",
      "Learning rate (depois): 1.0000000000000028e-05\n",
      "\n",
      "epoch 79\n",
      "-------------------------------\n",
      "Training on 159000 samples...\n",
      "Batch size: 2867\n",
      "Number of batches: 56\n"
     ]
    },
    {
     "name": "stderr",
     "output_type": "stream",
     "text": [
      "100%|██████████| 56/56 [03:51<00:00,  4.13s/it]\n"
     ]
    },
    {
     "name": "stdout",
     "output_type": "stream",
     "text": [
      "Training Error: \n",
      " Avg loss: 0.003287 \n",
      "\n"
     ]
    },
    {
     "name": "stderr",
     "output_type": "stream",
     "text": [
      "100%|██████████| 19/19 [00:45<00:00,  2.40s/it]\n"
     ]
    },
    {
     "name": "stdout",
     "output_type": "stream",
     "text": [
      "Validation Error: \n",
      " Avg loss: 0.003283 \n",
      "\n",
      "Learning rate (antes): 1.0000000000000028e-05\n",
      "Learning rate (depois): 1.0000000000000028e-05\n",
      "\n",
      "epoch 80\n",
      "-------------------------------\n",
      "Training on 159000 samples...\n",
      "Batch size: 2867\n",
      "Number of batches: 56\n"
     ]
    },
    {
     "name": "stderr",
     "output_type": "stream",
     "text": [
      "100%|██████████| 56/56 [03:51<00:00,  4.13s/it]\n"
     ]
    },
    {
     "name": "stdout",
     "output_type": "stream",
     "text": [
      "Training Error: \n",
      " Avg loss: 0.003286 \n",
      "\n"
     ]
    },
    {
     "name": "stderr",
     "output_type": "stream",
     "text": [
      "100%|██████████| 19/19 [00:44<00:00,  2.34s/it]\n"
     ]
    },
    {
     "name": "stdout",
     "output_type": "stream",
     "text": [
      "Validation Error: \n",
      " Avg loss: 0.003283 \n",
      "\n",
      "Learning rate (antes): 1.0000000000000028e-05\n",
      "Learning rate (depois): 1.0000000000000028e-05\n",
      "\n",
      "epoch 81\n",
      "-------------------------------\n",
      "Training on 159000 samples...\n",
      "Batch size: 2867\n",
      "Number of batches: 56\n"
     ]
    },
    {
     "name": "stderr",
     "output_type": "stream",
     "text": [
      "100%|██████████| 56/56 [04:10<00:00,  4.48s/it]\n"
     ]
    },
    {
     "name": "stdout",
     "output_type": "stream",
     "text": [
      "Training Error: \n",
      " Avg loss: 0.003288 \n",
      "\n"
     ]
    },
    {
     "name": "stderr",
     "output_type": "stream",
     "text": [
      "100%|██████████| 19/19 [00:45<00:00,  2.37s/it]\n"
     ]
    },
    {
     "name": "stdout",
     "output_type": "stream",
     "text": [
      "Validation Error: \n",
      " Avg loss: 0.003283 \n",
      "\n",
      "Learning rate (antes): 1.0000000000000028e-05\n",
      "Learning rate (depois): 1.0000000000000028e-05\n",
      "\n",
      "epoch 82\n",
      "-------------------------------\n",
      "Training on 159000 samples...\n",
      "Batch size: 2867\n",
      "Number of batches: 56\n"
     ]
    },
    {
     "name": "stderr",
     "output_type": "stream",
     "text": [
      "100%|██████████| 56/56 [03:54<00:00,  4.18s/it]\n"
     ]
    },
    {
     "name": "stdout",
     "output_type": "stream",
     "text": [
      "Training Error: \n",
      " Avg loss: 0.003287 \n",
      "\n"
     ]
    },
    {
     "name": "stderr",
     "output_type": "stream",
     "text": [
      "100%|██████████| 19/19 [00:46<00:00,  2.42s/it]\n"
     ]
    },
    {
     "name": "stdout",
     "output_type": "stream",
     "text": [
      "Validation Error: \n",
      " Avg loss: 0.003283 \n",
      "\n",
      "Learning rate (antes): 1.0000000000000028e-05\n",
      "Learning rate (depois): 1.0000000000000028e-05\n",
      "\n",
      "epoch 83\n",
      "-------------------------------\n",
      "Training on 159000 samples...\n",
      "Batch size: 2867\n",
      "Number of batches: 56\n"
     ]
    },
    {
     "name": "stderr",
     "output_type": "stream",
     "text": [
      "100%|██████████| 56/56 [03:51<00:00,  4.14s/it]\n"
     ]
    },
    {
     "name": "stdout",
     "output_type": "stream",
     "text": [
      "Training Error: \n",
      " Avg loss: 0.003286 \n",
      "\n"
     ]
    },
    {
     "name": "stderr",
     "output_type": "stream",
     "text": [
      "100%|██████████| 19/19 [00:45<00:00,  2.37s/it]\n"
     ]
    },
    {
     "name": "stdout",
     "output_type": "stream",
     "text": [
      "Validation Error: \n",
      " Avg loss: 0.003283 \n",
      "\n",
      "Learning rate (antes): 1.0000000000000028e-05\n",
      "Learning rate (depois): 1.0000000000000028e-05\n",
      "\n",
      "epoch 84\n",
      "-------------------------------\n",
      "Training on 159000 samples...\n",
      "Batch size: 2867\n",
      "Number of batches: 56\n"
     ]
    },
    {
     "name": "stderr",
     "output_type": "stream",
     "text": [
      "100%|██████████| 56/56 [03:52<00:00,  4.15s/it]\n"
     ]
    },
    {
     "name": "stdout",
     "output_type": "stream",
     "text": [
      "Training Error: \n",
      " Avg loss: 0.003287 \n",
      "\n"
     ]
    },
    {
     "name": "stderr",
     "output_type": "stream",
     "text": [
      "100%|██████████| 19/19 [00:43<00:00,  2.31s/it]\n"
     ]
    },
    {
     "name": "stdout",
     "output_type": "stream",
     "text": [
      "Validation Error: \n",
      " Avg loss: 0.003283 \n",
      "\n",
      "Learning rate (antes): 1.0000000000000028e-05\n",
      "Learning rate (depois): 1.0000000000000028e-05\n",
      "\n",
      "epoch 85\n",
      "-------------------------------\n",
      "Training on 159000 samples...\n",
      "Batch size: 2867\n",
      "Number of batches: 56\n"
     ]
    },
    {
     "name": "stderr",
     "output_type": "stream",
     "text": [
      "100%|██████████| 56/56 [03:51<00:00,  4.13s/it]\n"
     ]
    },
    {
     "name": "stdout",
     "output_type": "stream",
     "text": [
      "Training Error: \n",
      " Avg loss: 0.003284 \n",
      "\n"
     ]
    },
    {
     "name": "stderr",
     "output_type": "stream",
     "text": [
      "100%|██████████| 19/19 [00:43<00:00,  2.31s/it]\n"
     ]
    },
    {
     "name": "stdout",
     "output_type": "stream",
     "text": [
      "Validation Error: \n",
      " Avg loss: 0.003283 \n",
      "\n",
      "Learning rate (antes): 1.0000000000000028e-05\n",
      "Learning rate (depois): 1.0000000000000028e-05\n",
      "\n",
      "epoch 86\n",
      "-------------------------------\n",
      "Training on 159000 samples...\n",
      "Batch size: 2867\n",
      "Number of batches: 56\n"
     ]
    },
    {
     "name": "stderr",
     "output_type": "stream",
     "text": [
      "100%|██████████| 56/56 [03:52<00:00,  4.15s/it]\n"
     ]
    },
    {
     "name": "stdout",
     "output_type": "stream",
     "text": [
      "Training Error: \n",
      " Avg loss: 0.003285 \n",
      "\n"
     ]
    },
    {
     "name": "stderr",
     "output_type": "stream",
     "text": [
      "100%|██████████| 19/19 [00:46<00:00,  2.43s/it]\n"
     ]
    },
    {
     "name": "stdout",
     "output_type": "stream",
     "text": [
      "Validation Error: \n",
      " Avg loss: 0.003282 \n",
      "\n",
      "Learning rate (antes): 1.0000000000000028e-05\n",
      "Learning rate (depois): 1.0000000000000028e-05\n",
      "\n",
      "epoch 87\n",
      "-------------------------------\n",
      "Training on 159000 samples...\n",
      "Batch size: 2867\n",
      "Number of batches: 56\n"
     ]
    },
    {
     "name": "stderr",
     "output_type": "stream",
     "text": [
      "100%|██████████| 56/56 [03:51<00:00,  4.13s/it]\n"
     ]
    },
    {
     "name": "stdout",
     "output_type": "stream",
     "text": [
      "Training Error: \n",
      " Avg loss: 0.003284 \n",
      "\n"
     ]
    },
    {
     "name": "stderr",
     "output_type": "stream",
     "text": [
      "100%|██████████| 19/19 [00:45<00:00,  2.42s/it]\n"
     ]
    },
    {
     "name": "stdout",
     "output_type": "stream",
     "text": [
      "Validation Error: \n",
      " Avg loss: 0.003282 \n",
      "\n",
      "Learning rate (antes): 1.0000000000000028e-05\n",
      "Learning rate (depois): 1.0000000000000028e-05\n",
      "\n",
      "epoch 88\n",
      "-------------------------------\n",
      "Training on 159000 samples...\n",
      "Batch size: 2867\n",
      "Number of batches: 56\n"
     ]
    },
    {
     "name": "stderr",
     "output_type": "stream",
     "text": [
      "100%|██████████| 56/56 [03:50<00:00,  4.11s/it]\n"
     ]
    },
    {
     "name": "stdout",
     "output_type": "stream",
     "text": [
      "Training Error: \n",
      " Avg loss: 0.003287 \n",
      "\n"
     ]
    },
    {
     "name": "stderr",
     "output_type": "stream",
     "text": [
      "100%|██████████| 19/19 [00:50<00:00,  2.66s/it]\n"
     ]
    },
    {
     "name": "stdout",
     "output_type": "stream",
     "text": [
      "Validation Error: \n",
      " Avg loss: 0.003282 \n",
      "\n",
      "Learning rate (antes): 1.0000000000000028e-05\n",
      "Learning rate (depois): 1.0000000000000028e-05\n",
      "\n",
      "epoch 89\n",
      "-------------------------------\n",
      "Training on 159000 samples...\n",
      "Batch size: 2867\n",
      "Number of batches: 56\n"
     ]
    },
    {
     "name": "stderr",
     "output_type": "stream",
     "text": [
      "100%|██████████| 56/56 [03:51<00:00,  4.14s/it]\n"
     ]
    },
    {
     "name": "stdout",
     "output_type": "stream",
     "text": [
      "Training Error: \n",
      " Avg loss: 0.003288 \n",
      "\n"
     ]
    },
    {
     "name": "stderr",
     "output_type": "stream",
     "text": [
      "100%|██████████| 19/19 [00:44<00:00,  2.37s/it]\n"
     ]
    },
    {
     "name": "stdout",
     "output_type": "stream",
     "text": [
      "Validation Error: \n",
      " Avg loss: 0.003282 \n",
      "\n",
      "Learning rate (antes): 1.0000000000000028e-05\n",
      "Learning rate (depois): 1.0000000000000028e-05\n",
      "\n",
      "epoch 90\n",
      "-------------------------------\n",
      "Training on 159000 samples...\n",
      "Batch size: 2867\n",
      "Number of batches: 56\n"
     ]
    },
    {
     "name": "stderr",
     "output_type": "stream",
     "text": [
      "100%|██████████| 56/56 [03:51<00:00,  4.14s/it]\n"
     ]
    },
    {
     "name": "stdout",
     "output_type": "stream",
     "text": [
      "Training Error: \n",
      " Avg loss: 0.003284 \n",
      "\n"
     ]
    },
    {
     "name": "stderr",
     "output_type": "stream",
     "text": [
      "100%|██████████| 19/19 [00:45<00:00,  2.38s/it]\n"
     ]
    },
    {
     "name": "stdout",
     "output_type": "stream",
     "text": [
      "Validation Error: \n",
      " Avg loss: 0.003282 \n",
      "\n",
      "Learning rate (antes): 1.0000000000000028e-05\n",
      "Learning rate (depois): 1.0000000000000028e-05\n",
      "\n",
      "epoch 91\n",
      "-------------------------------\n",
      "Training on 159000 samples...\n",
      "Batch size: 2867\n",
      "Number of batches: 56\n"
     ]
    },
    {
     "name": "stderr",
     "output_type": "stream",
     "text": [
      "100%|██████████| 56/56 [04:12<00:00,  4.52s/it]\n"
     ]
    },
    {
     "name": "stdout",
     "output_type": "stream",
     "text": [
      "Training Error: \n",
      " Avg loss: 0.003283 \n",
      "\n"
     ]
    },
    {
     "name": "stderr",
     "output_type": "stream",
     "text": [
      "100%|██████████| 19/19 [00:44<00:00,  2.35s/it]\n"
     ]
    },
    {
     "name": "stdout",
     "output_type": "stream",
     "text": [
      "Validation Error: \n",
      " Avg loss: 0.003282 \n",
      "\n",
      "Learning rate (antes): 1.0000000000000028e-05\n",
      "Learning rate (depois): 1.0000000000000028e-05\n",
      "\n",
      "epoch 92\n",
      "-------------------------------\n",
      "Training on 159000 samples...\n",
      "Batch size: 2867\n",
      "Number of batches: 56\n"
     ]
    },
    {
     "name": "stderr",
     "output_type": "stream",
     "text": [
      "100%|██████████| 56/56 [04:14<00:00,  4.55s/it]\n"
     ]
    },
    {
     "name": "stdout",
     "output_type": "stream",
     "text": [
      "Training Error: \n",
      " Avg loss: 0.003289 \n",
      "\n"
     ]
    },
    {
     "name": "stderr",
     "output_type": "stream",
     "text": [
      "100%|██████████| 19/19 [00:44<00:00,  2.34s/it]\n"
     ]
    },
    {
     "name": "stdout",
     "output_type": "stream",
     "text": [
      "Validation Error: \n",
      " Avg loss: 0.003282 \n",
      "\n",
      "Learning rate (antes): 1.0000000000000028e-05\n",
      "Learning rate (depois): 1.0000000000000028e-05\n",
      "\n",
      "epoch 93\n",
      "-------------------------------\n",
      "Training on 159000 samples...\n",
      "Batch size: 2867\n",
      "Number of batches: 56\n"
     ]
    },
    {
     "name": "stderr",
     "output_type": "stream",
     "text": [
      "100%|██████████| 56/56 [03:52<00:00,  4.15s/it]\n"
     ]
    },
    {
     "name": "stdout",
     "output_type": "stream",
     "text": [
      "Training Error: \n",
      " Avg loss: 0.003286 \n",
      "\n"
     ]
    },
    {
     "name": "stderr",
     "output_type": "stream",
     "text": [
      "100%|██████████| 19/19 [00:47<00:00,  2.48s/it]\n"
     ]
    },
    {
     "name": "stdout",
     "output_type": "stream",
     "text": [
      "Validation Error: \n",
      " Avg loss: 0.003281 \n",
      "\n",
      "Learning rate (antes): 1.0000000000000028e-05\n",
      "Learning rate (depois): 1.0000000000000028e-05\n",
      "\n",
      "epoch 94\n",
      "-------------------------------\n",
      "Training on 159000 samples...\n",
      "Batch size: 2867\n",
      "Number of batches: 56\n"
     ]
    },
    {
     "name": "stderr",
     "output_type": "stream",
     "text": [
      "100%|██████████| 56/56 [03:55<00:00,  4.21s/it]\n"
     ]
    },
    {
     "name": "stdout",
     "output_type": "stream",
     "text": [
      "Training Error: \n",
      " Avg loss: 0.003284 \n",
      "\n"
     ]
    },
    {
     "name": "stderr",
     "output_type": "stream",
     "text": [
      "100%|██████████| 19/19 [00:42<00:00,  2.25s/it]\n"
     ]
    },
    {
     "name": "stdout",
     "output_type": "stream",
     "text": [
      "Validation Error: \n",
      " Avg loss: 0.003281 \n",
      "\n",
      "Learning rate (antes): 1.0000000000000028e-05\n",
      "Learning rate (depois): 1.0000000000000028e-05\n",
      "\n",
      "epoch 95\n",
      "-------------------------------\n",
      "Training on 159000 samples...\n",
      "Batch size: 2867\n",
      "Number of batches: 56\n"
     ]
    },
    {
     "name": "stderr",
     "output_type": "stream",
     "text": [
      "100%|██████████| 56/56 [03:52<00:00,  4.15s/it]\n"
     ]
    },
    {
     "name": "stdout",
     "output_type": "stream",
     "text": [
      "Training Error: \n",
      " Avg loss: 0.003284 \n",
      "\n"
     ]
    },
    {
     "name": "stderr",
     "output_type": "stream",
     "text": [
      "100%|██████████| 19/19 [00:44<00:00,  2.35s/it]\n"
     ]
    },
    {
     "name": "stdout",
     "output_type": "stream",
     "text": [
      "Validation Error: \n",
      " Avg loss: 0.003281 \n",
      "\n",
      "Learning rate (antes): 1.0000000000000028e-05\n",
      "Learning rate (depois): 1.0000000000000028e-05\n",
      "\n",
      "epoch 96\n",
      "-------------------------------\n",
      "Training on 159000 samples...\n",
      "Batch size: 2867\n",
      "Number of batches: 56\n"
     ]
    },
    {
     "name": "stderr",
     "output_type": "stream",
     "text": [
      "100%|██████████| 56/56 [03:51<00:00,  4.13s/it]\n"
     ]
    },
    {
     "name": "stdout",
     "output_type": "stream",
     "text": [
      "Training Error: \n",
      " Avg loss: 0.003288 \n",
      "\n"
     ]
    },
    {
     "name": "stderr",
     "output_type": "stream",
     "text": [
      "100%|██████████| 19/19 [00:48<00:00,  2.57s/it]\n"
     ]
    },
    {
     "name": "stdout",
     "output_type": "stream",
     "text": [
      "Validation Error: \n",
      " Avg loss: 0.003281 \n",
      "\n",
      "Learning rate (antes): 1.0000000000000028e-05\n",
      "Learning rate (depois): 1.0000000000000028e-05\n",
      "\n",
      "epoch 97\n",
      "-------------------------------\n",
      "Training on 159000 samples...\n",
      "Batch size: 2867\n",
      "Number of batches: 56\n"
     ]
    },
    {
     "name": "stderr",
     "output_type": "stream",
     "text": [
      "100%|██████████| 56/56 [03:55<00:00,  4.21s/it]\n"
     ]
    },
    {
     "name": "stdout",
     "output_type": "stream",
     "text": [
      "Training Error: \n",
      " Avg loss: 0.003284 \n",
      "\n"
     ]
    },
    {
     "name": "stderr",
     "output_type": "stream",
     "text": [
      "100%|██████████| 19/19 [00:47<00:00,  2.49s/it]\n"
     ]
    },
    {
     "name": "stdout",
     "output_type": "stream",
     "text": [
      "Validation Error: \n",
      " Avg loss: 0.003281 \n",
      "\n",
      "Learning rate (antes): 1.0000000000000028e-05\n",
      "Learning rate (depois): 1.0000000000000028e-05\n",
      "\n",
      "epoch 98\n",
      "-------------------------------\n",
      "Training on 159000 samples...\n",
      "Batch size: 2867\n",
      "Number of batches: 56\n"
     ]
    },
    {
     "name": "stderr",
     "output_type": "stream",
     "text": [
      "100%|██████████| 56/56 [03:56<00:00,  4.22s/it]\n"
     ]
    },
    {
     "name": "stdout",
     "output_type": "stream",
     "text": [
      "Training Error: \n",
      " Avg loss: 0.003284 \n",
      "\n"
     ]
    },
    {
     "name": "stderr",
     "output_type": "stream",
     "text": [
      "100%|██████████| 19/19 [00:44<00:00,  2.34s/it]\n"
     ]
    },
    {
     "name": "stdout",
     "output_type": "stream",
     "text": [
      "Validation Error: \n",
      " Avg loss: 0.003281 \n",
      "\n",
      "Learning rate (antes): 1.0000000000000028e-05\n",
      "Learning rate (depois): 1.0000000000000028e-05\n",
      "\n",
      "epoch 99\n",
      "-------------------------------\n",
      "Training on 159000 samples...\n",
      "Batch size: 2867\n",
      "Number of batches: 56\n"
     ]
    },
    {
     "name": "stderr",
     "output_type": "stream",
     "text": [
      "100%|██████████| 56/56 [03:58<00:00,  4.26s/it]\n"
     ]
    },
    {
     "name": "stdout",
     "output_type": "stream",
     "text": [
      "Training Error: \n",
      " Avg loss: 0.003283 \n",
      "\n"
     ]
    },
    {
     "name": "stderr",
     "output_type": "stream",
     "text": [
      "100%|██████████| 19/19 [00:46<00:00,  2.43s/it]"
     ]
    },
    {
     "name": "stdout",
     "output_type": "stream",
     "text": [
      "Validation Error: \n",
      " Avg loss: 0.003281 \n",
      "\n",
      "Learning rate (antes): 1.0000000000000028e-05\n",
      "Learning rate (depois): 1.0000000000000028e-05\n",
      "CPU times: total: 7h 14min 58s\n",
      "Wall time: 9h 32min 7s\n"
     ]
    },
    {
     "name": "stderr",
     "output_type": "stream",
     "text": [
      "\n"
     ]
    }
   ],
   "source": [
    "%%time\n",
    "\n",
    "run_srcnn.clear_all()\n",
    "\n",
    "run_srcnn.train(\n",
    "    model=model_f2_5,\n",
    "    train_dataloader=train_dataloader,\n",
    "    validation_dataloader=validation_dataloader,\n",
    "    optimizer=optimizer_f2_5,\n",
    "    epochs=100,\n",
    "    scheduler=scheduler_f2_5,\n",
    "    loss_fn=nn.MSELoss(),\n",
    ")"
   ]
  },
  {
   "cell_type": "code",
   "execution_count": 11,
   "metadata": {},
   "outputs": [
    {
     "data": {
      "text/html": [
       "<div>\n",
       "<style scoped>\n",
       "    .dataframe tbody tr th:only-of-type {\n",
       "        vertical-align: middle;\n",
       "    }\n",
       "\n",
       "    .dataframe tbody tr th {\n",
       "        vertical-align: top;\n",
       "    }\n",
       "\n",
       "    .dataframe thead th {\n",
       "        text-align: right;\n",
       "    }\n",
       "</style>\n",
       "<table border=\"1\" class=\"dataframe\">\n",
       "  <thead>\n",
       "    <tr style=\"text-align: right;\">\n",
       "      <th></th>\n",
       "      <th>epoch</th>\n",
       "      <th>time</th>\n",
       "      <th>lr</th>\n",
       "      <th>train_loss</th>\n",
       "      <th>validation_loss</th>\n",
       "    </tr>\n",
       "  </thead>\n",
       "  <tbody>\n",
       "    <tr>\n",
       "      <th>95</th>\n",
       "      <td>95</td>\n",
       "      <td>339.504954</td>\n",
       "      <td>0.00001</td>\n",
       "      <td>0.003284</td>\n",
       "      <td>0.003281</td>\n",
       "    </tr>\n",
       "    <tr>\n",
       "      <th>96</th>\n",
       "      <td>96</td>\n",
       "      <td>343.193618</td>\n",
       "      <td>0.00001</td>\n",
       "      <td>0.003288</td>\n",
       "      <td>0.003281</td>\n",
       "    </tr>\n",
       "    <tr>\n",
       "      <th>97</th>\n",
       "      <td>97</td>\n",
       "      <td>350.339675</td>\n",
       "      <td>0.00001</td>\n",
       "      <td>0.003284</td>\n",
       "      <td>0.003281</td>\n",
       "    </tr>\n",
       "    <tr>\n",
       "      <th>98</th>\n",
       "      <td>98</td>\n",
       "      <td>341.992534</td>\n",
       "      <td>0.00001</td>\n",
       "      <td>0.003284</td>\n",
       "      <td>0.003281</td>\n",
       "    </tr>\n",
       "    <tr>\n",
       "      <th>99</th>\n",
       "      <td>99</td>\n",
       "      <td>347.156817</td>\n",
       "      <td>0.00001</td>\n",
       "      <td>0.003283</td>\n",
       "      <td>0.003281</td>\n",
       "    </tr>\n",
       "  </tbody>\n",
       "</table>\n",
       "</div>"
      ],
      "text/plain": [
       "    epoch        time       lr  train_loss  validation_loss\n",
       "95     95  339.504954  0.00001    0.003284         0.003281\n",
       "96     96  343.193618  0.00001    0.003288         0.003281\n",
       "97     97  350.339675  0.00001    0.003284         0.003281\n",
       "98     98  341.992534  0.00001    0.003284         0.003281\n",
       "99     99  347.156817  0.00001    0.003283         0.003281"
      ]
     },
     "execution_count": 11,
     "metadata": {},
     "output_type": "execute_result"
    }
   ],
   "source": [
    "df_f2_5 = run_srcnn.get_model_df()\n",
    "df_f2_5.tail()"
   ]
  },
  {
   "cell_type": "code",
   "execution_count": 12,
   "metadata": {},
   "outputs": [],
   "source": [
    "run_srcnn.save_model_df('./results/srcnn/dataframes/model_f2_5_unfiltered.csv')\n",
    "run_srcnn.save_model_weights(model_f2_1, './results/srcnn/dataframes/model_f2_5_unfiltered.pth')"
   ]
  },
  {
   "cell_type": "code",
   "execution_count": 13,
   "metadata": {},
   "outputs": [
    {
     "name": "stderr",
     "output_type": "stream",
     "text": [
      "0it [00:00, ?it/s]C:\\Users\\Pedro\\anaconda3\\lib\\site-packages\\torchvision\\transforms\\functional.py:1603: UserWarning: The default value of the antialias parameter of all the resizing transforms (Resize(), RandomResizedCrop(), etc.) will change from None to True in v0.17, in order to be consistent across the PIL and Tensor backends. To suppress this warning, directly pass antialias=True (recommended, future default), antialias=None (current default, which means False for Tensors and True for PIL), or antialias=False (only works on Tensors - PIL will still use antialiasing). This also applies if you are using the inference transforms from the models weights: update the call to weights.transforms(antialias=True).\n",
      "  warnings.warn(\n",
      "14it [00:02,  6.77it/s]\n",
      "14it [00:01,  8.60it/s]\n"
     ]
    },
    {
     "data": {
      "text/html": [
       "<div>\n",
       "<style scoped>\n",
       "    .dataframe tbody tr th:only-of-type {\n",
       "        vertical-align: middle;\n",
       "    }\n",
       "\n",
       "    .dataframe tbody tr th {\n",
       "        vertical-align: top;\n",
       "    }\n",
       "\n",
       "    .dataframe thead th {\n",
       "        text-align: right;\n",
       "    }\n",
       "</style>\n",
       "<table border=\"1\" class=\"dataframe\">\n",
       "  <thead>\n",
       "    <tr style=\"text-align: right;\">\n",
       "      <th></th>\n",
       "      <th>model_f2_1_unfiltered</th>\n",
       "      <th>model_f2_5_unfiltered</th>\n",
       "    </tr>\n",
       "  </thead>\n",
       "  <tbody>\n",
       "    <tr>\n",
       "      <th>PSNR</th>\n",
       "      <td>24.604319</td>\n",
       "      <td>24.716616</td>\n",
       "    </tr>\n",
       "    <tr>\n",
       "      <th>Bicubic PSNR</th>\n",
       "      <td>24.496832</td>\n",
       "      <td>24.496832</td>\n",
       "    </tr>\n",
       "    <tr>\n",
       "      <th>SSIM</th>\n",
       "      <td>0.717399</td>\n",
       "      <td>0.725149</td>\n",
       "    </tr>\n",
       "    <tr>\n",
       "      <th>Bicubic SSIM</th>\n",
       "      <td>0.731670</td>\n",
       "      <td>0.731670</td>\n",
       "    </tr>\n",
       "  </tbody>\n",
       "</table>\n",
       "</div>"
      ],
      "text/plain": [
       "              model_f2_1_unfiltered  model_f2_5_unfiltered\n",
       "PSNR                      24.604319              24.716616\n",
       "Bicubic PSNR              24.496832              24.496832\n",
       "SSIM                       0.717399               0.725149\n",
       "Bicubic SSIM               0.731670               0.731670"
      ]
     },
     "execution_count": 13,
     "metadata": {},
     "output_type": "execute_result"
    }
   ],
   "source": [
    "path = f\"{DATASET_ROOT}/Set14\"\n",
    "run_srcnn.compare_models([{\"name\": \"model_f2_1_unfiltered\", \"model\": model_f2_1}, {\"name\": \"model_f2_5_unfiltered\", \"model\": model_f2_5}], path)"
   ]
  },
  {
   "cell_type": "code",
   "execution_count": null,
   "metadata": {},
   "outputs": [],
   "source": []
  },
  {
   "cell_type": "code",
   "execution_count": null,
   "metadata": {},
   "outputs": [],
   "source": []
  }
 ],
 "metadata": {
  "kernelspec": {
   "display_name": "Python 3 (ipykernel)",
   "language": "python",
   "name": "python3"
  },
  "language_info": {
   "codemirror_mode": {
    "name": "ipython",
    "version": 3
   },
   "file_extension": ".py",
   "mimetype": "text/x-python",
   "name": "python",
   "nbconvert_exporter": "python",
   "pygments_lexer": "ipython3",
   "version": "3.10.9"
  }
 },
 "nbformat": 4,
 "nbformat_minor": 2
}
